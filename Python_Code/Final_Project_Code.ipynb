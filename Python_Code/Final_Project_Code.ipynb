{
 "metadata": {
  "name": "",
  "signature": "sha256:ea1adbb87453ae1730dda440fd3c23ffe5ad68a4577b707138dec2402466c9fd"
 },
 "nbformat": 3,
 "nbformat_minor": 0,
 "worksheets": [
  {
   "cells": [
    {
     "cell_type": "markdown",
     "metadata": {},
     "source": [
      "### Import Libraries"
     ]
    },
    {
     "cell_type": "code",
     "collapsed": false,
     "input": [
      "# Import Section\n",
      "# special IPython command to prepare the notebook for matplotlib\n",
      "%matplotlib inline \n",
      "import requests \n",
      "import numpy as np\n",
      "import pandas as pd # pandas\n",
      "from StringIO import StringIO\n",
      "import matplotlib.pyplot as plt # module for plotting \n",
      "import datetime as dt # module for manipulating dates and times\n",
      "from collections import OrderedDict\n",
      "from BeautifulSoup import BeautifulSoup\n",
      "import urllib2\n",
      "\n",
      "import scipy as sp\n",
      "\n",
      "import sklearn\n",
      "import seaborn as sns\n",
      "from matplotlib import pyplot as plt\n",
      "import bs4\n",
      "import statsmodels.formula.api as smf\n",
      "import html5lib\n",
      "\n",
      "#nice defaults for matplotlib\n",
      "from matplotlib import rcParams\n",
      "import math\n",
      "\n"
     ],
     "language": "python",
     "metadata": {},
     "outputs": [],
     "prompt_number": 255
    },
    {
     "cell_type": "markdown",
     "metadata": {},
     "source": [
      "### List of Top 10 Fund Families based on AUM"
     ]
    },
    {
     "cell_type": "code",
     "collapsed": false,
     "input": [
      "FFamily = pd.DataFrame(columns=['Fund_Family','MorningstarURL'])\n",
      "\n",
      "# List of 10 largest Mutual Fund Families\n",
      "\n",
      "FFamily.loc[0] = ['Vanguard','http://quicktake.morningstar.com/fundfamily/vanguard/0C00001YUF/fund-list.aspx']\n",
      "FFamily.loc[1] = ['American Funds','http://quicktake.morningstar.com/fundfamily/american-funds/0C00001YPH/fund-list.aspx']\n",
      "FFamily.loc[2] = ['PIMCO Funds','http://quicktake.morningstar.com/fundfamily/pimco/0C00004ALK/fund-list.aspx']\n",
      "FFamily.loc[3] = ['T. Rowe Price','http://quicktake.morningstar.com/fundfamily/t-rowe-price/0C00001YZ8/fund-list.aspx']\n",
      "FFamily.loc[4] = ['JP Morgan','http://quicktake.morningstar.com/fundfamily/jpmorgan/0C00001YRR/fund-list.aspx']\n",
      "FFamily.loc[5] = ['Fidelity Investments','http://quicktake.morningstar.com/fundfamily/fidelity-investments/0C00001YR0/fund-list.aspx']\n",
      "FFamily.loc[6] = ['Franklin Templeton Investments','http://quicktake.morningstar.com/fundfamily/franklin-templeton-investments/0C00004AKN/fund-list.aspx']\n",
      "FFamily.loc[7] = ['BlackRock','http://quicktake.morningstar.com/fundfamily/blackrock/0C000034YC/fund-list.aspx']\n",
      "FFamily.loc[8] = ['Columbia','http://quicktake.morningstar.com/fundfamily/columbia/0C00001YQG/fund-list.aspx']\n",
      "FFamily.loc[9] = ['Oppenheimer Funds','http://quicktake.morningstar.com/fundfamily/oppenheimerfunds/0C00001YZF/fund-list.aspx']\n"
     ],
     "language": "python",
     "metadata": {},
     "outputs": [],
     "prompt_number": 256
    },
    {
     "cell_type": "code",
     "collapsed": false,
     "input": [
      "FFamily"
     ],
     "language": "python",
     "metadata": {},
     "outputs": [
      {
       "html": [
        "<div style=\"max-height:1000px;max-width:1500px;overflow:auto;\">\n",
        "<table border=\"1\" class=\"dataframe\">\n",
        "  <thead>\n",
        "    <tr style=\"text-align: right;\">\n",
        "      <th></th>\n",
        "      <th>Fund_Family</th>\n",
        "      <th>MorningstarURL</th>\n",
        "    </tr>\n",
        "  </thead>\n",
        "  <tbody>\n",
        "    <tr>\n",
        "      <th>0</th>\n",
        "      <td>                       Vanguard</td>\n",
        "      <td> http://quicktake.morningstar.com/fundfamily/va...</td>\n",
        "    </tr>\n",
        "    <tr>\n",
        "      <th>1</th>\n",
        "      <td>                 American Funds</td>\n",
        "      <td> http://quicktake.morningstar.com/fundfamily/am...</td>\n",
        "    </tr>\n",
        "    <tr>\n",
        "      <th>2</th>\n",
        "      <td>                    PIMCO Funds</td>\n",
        "      <td> http://quicktake.morningstar.com/fundfamily/pi...</td>\n",
        "    </tr>\n",
        "    <tr>\n",
        "      <th>3</th>\n",
        "      <td>                  T. Rowe Price</td>\n",
        "      <td> http://quicktake.morningstar.com/fundfamily/t-...</td>\n",
        "    </tr>\n",
        "    <tr>\n",
        "      <th>4</th>\n",
        "      <td>                      JP Morgan</td>\n",
        "      <td> http://quicktake.morningstar.com/fundfamily/jp...</td>\n",
        "    </tr>\n",
        "    <tr>\n",
        "      <th>5</th>\n",
        "      <td>           Fidelity Investments</td>\n",
        "      <td> http://quicktake.morningstar.com/fundfamily/fi...</td>\n",
        "    </tr>\n",
        "    <tr>\n",
        "      <th>6</th>\n",
        "      <td> Franklin Templeton Investments</td>\n",
        "      <td> http://quicktake.morningstar.com/fundfamily/fr...</td>\n",
        "    </tr>\n",
        "    <tr>\n",
        "      <th>7</th>\n",
        "      <td>                      BlackRock</td>\n",
        "      <td> http://quicktake.morningstar.com/fundfamily/bl...</td>\n",
        "    </tr>\n",
        "    <tr>\n",
        "      <th>8</th>\n",
        "      <td>                       Columbia</td>\n",
        "      <td> http://quicktake.morningstar.com/fundfamily/co...</td>\n",
        "    </tr>\n",
        "    <tr>\n",
        "      <th>9</th>\n",
        "      <td>              Oppenheimer Funds</td>\n",
        "      <td> http://quicktake.morningstar.com/fundfamily/op...</td>\n",
        "    </tr>\n",
        "  </tbody>\n",
        "</table>\n",
        "</div>"
       ],
       "metadata": {},
       "output_type": "pyout",
       "prompt_number": 257,
       "text": [
        "                      Fund_Family  \\\n",
        "0                        Vanguard   \n",
        "1                  American Funds   \n",
        "2                     PIMCO Funds   \n",
        "3                   T. Rowe Price   \n",
        "4                       JP Morgan   \n",
        "5            Fidelity Investments   \n",
        "6  Franklin Templeton Investments   \n",
        "7                       BlackRock   \n",
        "8                        Columbia   \n",
        "9               Oppenheimer Funds   \n",
        "\n",
        "                                      MorningstarURL  \n",
        "0  http://quicktake.morningstar.com/fundfamily/va...  \n",
        "1  http://quicktake.morningstar.com/fundfamily/am...  \n",
        "2  http://quicktake.morningstar.com/fundfamily/pi...  \n",
        "3  http://quicktake.morningstar.com/fundfamily/t-...  \n",
        "4  http://quicktake.morningstar.com/fundfamily/jp...  \n",
        "5  http://quicktake.morningstar.com/fundfamily/fi...  \n",
        "6  http://quicktake.morningstar.com/fundfamily/fr...  \n",
        "7  http://quicktake.morningstar.com/fundfamily/bl...  \n",
        "8  http://quicktake.morningstar.com/fundfamily/co...  \n",
        "9  http://quicktake.morningstar.com/fundfamily/op...  "
       ]
      }
     ],
     "prompt_number": 257
    },
    {
     "cell_type": "markdown",
     "metadata": {},
     "source": [
      "### Fund Family with Ticker"
     ]
    },
    {
     "cell_type": "code",
     "collapsed": false,
     "input": [
      "Funds_family = pd.DataFrame(columns=['Fund_Name','Fund_Family','Fund_Ticker'])\n",
      "i = 0\n",
      "\n",
      "for index in range(0,len(FFamily)):\n",
      "    contenturl = FFamily.MorningstarURL[index]\n",
      "    req = urllib2.Request(contenturl)\n",
      "    page = urllib2.urlopen(req)\n",
      "    soup = BeautifulSoup(page)\n",
      "    table = soup.find(\"div\", { \"class\" : \"syn_section_b1\" })\n",
      "    for row in table.findAll('a'):\n",
      "        if (row['href'][73:]) != '':\n",
      "            Funds_family.loc[i] = [row.contents[0],FFamily['Fund_Family'][index],row['href'][73:]]\n",
      "            i = i+1"
     ],
     "language": "python",
     "metadata": {},
     "outputs": [],
     "prompt_number": 259
    },
    {
     "cell_type": "code",
     "collapsed": false,
     "input": [
      "Funds_family.head()"
     ],
     "language": "python",
     "metadata": {},
     "outputs": [
      {
       "html": [
        "<div style=\"max-height:1000px;max-width:1500px;overflow:auto;\">\n",
        "<table border=\"1\" class=\"dataframe\">\n",
        "  <thead>\n",
        "    <tr style=\"text-align: right;\">\n",
        "      <th></th>\n",
        "      <th>Fund_Name</th>\n",
        "      <th>Fund_Family</th>\n",
        "      <th>Fund_Ticker</th>\n",
        "    </tr>\n",
        "  </thead>\n",
        "  <tbody>\n",
        "    <tr>\n",
        "      <th>0</th>\n",
        "      <td>                 Vanguard 500 Index Inv</td>\n",
        "      <td> Vanguard</td>\n",
        "      <td> VFINX</td>\n",
        "    </tr>\n",
        "    <tr>\n",
        "      <th>1</th>\n",
        "      <td>            Vanguard Balanced Index Inv</td>\n",
        "      <td> Vanguard</td>\n",
        "      <td> VBINX</td>\n",
        "    </tr>\n",
        "    <tr>\n",
        "      <th>2</th>\n",
        "      <td> Vanguard CA Interm-Term Tax-Exempt Inv</td>\n",
        "      <td> Vanguard</td>\n",
        "      <td> VCAIX</td>\n",
        "    </tr>\n",
        "    <tr>\n",
        "      <th>3</th>\n",
        "      <td>   Vanguard CA Long-Term Tax-Exempt Inv</td>\n",
        "      <td> Vanguard</td>\n",
        "      <td> VCITX</td>\n",
        "    </tr>\n",
        "    <tr>\n",
        "      <th>4</th>\n",
        "      <td>       Vanguard Capital Opportunity Inv</td>\n",
        "      <td> Vanguard</td>\n",
        "      <td> VHCOX</td>\n",
        "    </tr>\n",
        "  </tbody>\n",
        "</table>\n",
        "</div>"
       ],
       "metadata": {},
       "output_type": "pyout",
       "prompt_number": 260,
       "text": [
        "                                Fund_Name Fund_Family Fund_Ticker\n",
        "0                  Vanguard 500 Index Inv    Vanguard       VFINX\n",
        "1             Vanguard Balanced Index Inv    Vanguard       VBINX\n",
        "2  Vanguard CA Interm-Term Tax-Exempt Inv    Vanguard       VCAIX\n",
        "3    Vanguard CA Long-Term Tax-Exempt Inv    Vanguard       VCITX\n",
        "4        Vanguard Capital Opportunity Inv    Vanguard       VHCOX"
       ]
      }
     ],
     "prompt_number": 260
    },
    {
     "cell_type": "markdown",
     "metadata": {},
     "source": [
      "### Load Benchmarks for each Fund"
     ]
    },
    {
     "cell_type": "code",
     "collapsed": false,
     "input": [
      "fund_benchmark_columns = ['Fund_Ticker','Benchmark_Index']\n",
      "fund_benchmark = pd.DataFrame(columns=fund_benchmark_columns)\n",
      "\n",
      "for i in range(0,len(Funds_family)):\n",
      "    FUND_NAME = Funds_family['Fund_Ticker'][i]  \n",
      "    try:\n",
      "        ratingriskurl = \"http://performance.morningstar.com/RatingRisk/fund/mpt-statistics.action?&t=XNAS:\"+FUND_NAME+\"&region=usa&culture=en-US&cur=&ops=clear&s=0P00001MK8&y=3&ep=true&comparisonRemove=null&benchmarkSecId=&benchmarktype=\"\n",
      "        mpt_statistics_bench = pd.read_html(ratingriskurl)[0]\n",
      "        mpt_statistics_bench = mpt_statistics_bench[mpt_statistics_bench.Alpha.notnull()]\n",
      "        mpt_statistics_bench = mpt_statistics_bench.reset_index(drop=True).iloc[[1]]\n",
      "        mpt_statistics_bench = mpt_statistics_bench.ix[:,0:2]\n",
      "        mpt_statistics_bench.columns = fund_benchmark_columns\n",
      "        fund_benchmark = fund_benchmark.append(mpt_statistics_bench)\n",
      "    except:\n",
      "        print \"Index : \",i,\"No Benchmark Data Found in Morningstar for Fund : \",FUND_NAME\n",
      "    \n",
      "fund_benchmark = fund_benchmark.reset_index(drop=True)"
     ],
     "language": "python",
     "metadata": {},
     "outputs": [
      {
       "output_type": "stream",
       "stream": "stdout",
       "text": [
        "Index :  173 No Benchmark Data Found in Morningstar for Fund :  PCPIX\n",
        "Index : "
       ]
      },
      {
       "output_type": "stream",
       "stream": "stdout",
       "text": [
        " 227 No Benchmark Data Found in Morningstar for Fund :  PCIAX\n",
        "Index : "
       ]
      },
      {
       "output_type": "stream",
       "stream": "stdout",
       "text": [
        " 228 No Benchmark Data Found in Morningstar for Fund :  POIAX\n",
        "Index : "
       ]
      },
      {
       "output_type": "stream",
       "stream": "stdout",
       "text": [
        " 391 No Benchmark Data Found in Morningstar for Fund :  OAMAX\n",
        "Index : "
       ]
      },
      {
       "output_type": "stream",
       "stream": "stdout",
       "text": [
        " 448 No Benchmark Data Found in Morningstar for Fund :  PEIAX\n",
        "Index : "
       ]
      },
      {
       "output_type": "stream",
       "stream": "stdout",
       "text": [
        " 493 No Benchmark Data Found in Morningstar for Fund :  JSPAX\n"
       ]
      }
     ],
     "prompt_number": 281
    },
    {
     "cell_type": "code",
     "collapsed": false,
     "input": [
      "fund_benchmark.head()"
     ],
     "language": "python",
     "metadata": {},
     "outputs": [
      {
       "html": [
        "<div style=\"max-height:1000px;max-width:1500px;overflow:auto;\">\n",
        "<table border=\"1\" class=\"dataframe\">\n",
        "  <thead>\n",
        "    <tr style=\"text-align: right;\">\n",
        "      <th></th>\n",
        "      <th>Fund_Ticker</th>\n",
        "      <th>Benchmark_Index</th>\n",
        "    </tr>\n",
        "  </thead>\n",
        "  <tbody>\n",
        "    <tr>\n",
        "      <th>0</th>\n",
        "      <td> VFINX</td>\n",
        "      <td>                   S&amp;P 500 TR USD</td>\n",
        "    </tr>\n",
        "    <tr>\n",
        "      <th>1</th>\n",
        "      <td> VBINX</td>\n",
        "      <td> Morningstar Moderate Target Risk</td>\n",
        "    </tr>\n",
        "    <tr>\n",
        "      <th>2</th>\n",
        "      <td> VCAIX</td>\n",
        "      <td>        Barclays Municipal TR USD</td>\n",
        "    </tr>\n",
        "    <tr>\n",
        "      <th>3</th>\n",
        "      <td> VCITX</td>\n",
        "      <td>        Barclays Municipal TR USD</td>\n",
        "    </tr>\n",
        "    <tr>\n",
        "      <th>4</th>\n",
        "      <td> VHCOX</td>\n",
        "      <td>                   S&amp;P 500 TR USD</td>\n",
        "    </tr>\n",
        "  </tbody>\n",
        "</table>\n",
        "</div>"
       ],
       "metadata": {},
       "output_type": "pyout",
       "prompt_number": 284,
       "text": [
        "  Fund_Ticker                   Benchmark_Index\n",
        "0       VFINX                    S&P 500 TR USD\n",
        "1       VBINX  Morningstar Moderate Target Risk\n",
        "2       VCAIX         Barclays Municipal TR USD\n",
        "3       VCITX         Barclays Municipal TR USD\n",
        "4       VHCOX                    S&P 500 TR USD"
       ]
      }
     ],
     "prompt_number": 284
    },
    {
     "cell_type": "markdown",
     "metadata": {},
     "source": [
      "### Benchmarks and it's Morningstar Symbols"
     ]
    },
    {
     "cell_type": "code",
     "collapsed": false,
     "input": [
      "index_dup = fund_benchmark.drop_duplicates('Benchmark_Index')\n",
      "index_dup"
     ],
     "language": "python",
     "metadata": {},
     "outputs": [
      {
       "html": [
        "<div style=\"max-height:1000px;max-width:1500px;overflow:auto;\">\n",
        "<table border=\"1\" class=\"dataframe\">\n",
        "  <thead>\n",
        "    <tr style=\"text-align: right;\">\n",
        "      <th></th>\n",
        "      <th>Fund_Ticker</th>\n",
        "      <th>Benchmark_Index</th>\n",
        "    </tr>\n",
        "  </thead>\n",
        "  <tbody>\n",
        "    <tr>\n",
        "      <th>0  </th>\n",
        "      <td> VFINX</td>\n",
        "      <td>                          S&amp;P 500 TR USD</td>\n",
        "    </tr>\n",
        "    <tr>\n",
        "      <th>1  </th>\n",
        "      <td> VBINX</td>\n",
        "      <td>        Morningstar Moderate Target Risk</td>\n",
        "    </tr>\n",
        "    <tr>\n",
        "      <th>2  </th>\n",
        "      <td> VCAIX</td>\n",
        "      <td>               Barclays Municipal TR USD</td>\n",
        "    </tr>\n",
        "    <tr>\n",
        "      <th>7  </th>\n",
        "      <td> VTMGX</td>\n",
        "      <td>                 MSCI ACWI Ex USA NR USD</td>\n",
        "    </tr>\n",
        "    <tr>\n",
        "      <th>10 </th>\n",
        "      <td> VGOVX</td>\n",
        "      <td>             Barclays US Agg Bond TR USD</td>\n",
        "    </tr>\n",
        "    <tr>\n",
        "      <th>13 </th>\n",
        "      <td> VGENX</td>\n",
        "      <td>                        MSCI ACWI NR USD</td>\n",
        "    </tr>\n",
        "    <tr>\n",
        "      <th>173</th>\n",
        "      <td> PCLAX</td>\n",
        "      <td>      Morningstar Long-Only Commodity TR</td>\n",
        "    </tr>\n",
        "    <tr>\n",
        "      <th>184</th>\n",
        "      <td> PLMAX</td>\n",
        "      <td>               BofAML USD LIBOR 3 Mon CM</td>\n",
        "    </tr>\n",
        "    <tr>\n",
        "      <th>252</th>\n",
        "      <td> PQTAX</td>\n",
        "      <td> Credit Suisse Mgd Futures Liquid TR USD</td>\n",
        "    </tr>\n",
        "  </tbody>\n",
        "</table>\n",
        "</div>"
       ],
       "metadata": {},
       "output_type": "pyout",
       "prompt_number": 496,
       "text": [
        "    Fund_Ticker                          Benchmark_Index\n",
        "0         VFINX                           S&P 500 TR USD\n",
        "1         VBINX         Morningstar Moderate Target Risk\n",
        "2         VCAIX                Barclays Municipal TR USD\n",
        "7         VTMGX                  MSCI ACWI Ex USA NR USD\n",
        "10        VGOVX              Barclays US Agg Bond TR USD\n",
        "13        VGENX                         MSCI ACWI NR USD\n",
        "173       PCLAX       Morningstar Long-Only Commodity TR\n",
        "184       PLMAX                BofAML USD LIBOR 3 Mon CM\n",
        "252       PQTAX  Credit Suisse Mgd Futures Liquid TR USD"
       ]
      }
     ],
     "prompt_number": 496
    },
    {
     "cell_type": "code",
     "collapsed": false,
     "input": [
      "mstar_benchmark_symbol = pd.DataFrame(index=range(0,len(index_dup)),columns=['Benchmark_Index','Mstar_Symbol'])\n",
      "\n",
      "mstar_benchmark_symbol.loc[0] = ['S&P 500 TR USD','0P00001MK8']\n",
      "mstar_benchmark_symbol.loc[1] = ['Morningstar Moderate Target Risk','0P0000J533']\n",
      "mstar_benchmark_symbol.loc[2] = ['Barclays Municipal TR USD','0P00001G5X']\n",
      "mstar_benchmark_symbol.loc[3] = ['MSCI ACWI Ex USA NR USD','0P00001MJB']\n",
      "mstar_benchmark_symbol.loc[4] = ['Barclays US Agg Bond TR USD','0P00001G5L']\n",
      "mstar_benchmark_symbol.loc[5] = ['MSCI ACWI NR USD','0P00001G8P']\n",
      "mstar_benchmark_symbol.loc[6] = ['Morningstar Long-Only Commodity TR','0P00009FRD']\n",
      "mstar_benchmark_symbol.loc[7] = ['BofAML USD LIBOR 3 Mon CM','0P00001L6O']\n",
      "mstar_benchmark_symbol.loc[8] = ['Credit Suisse Mgd Futures Liquid TR USD','0P00001MK8']\n",
      "\n",
      "mstar_benchmark_symbol"
     ],
     "language": "python",
     "metadata": {},
     "outputs": [
      {
       "html": [
        "<div style=\"max-height:1000px;max-width:1500px;overflow:auto;\">\n",
        "<table border=\"1\" class=\"dataframe\">\n",
        "  <thead>\n",
        "    <tr style=\"text-align: right;\">\n",
        "      <th></th>\n",
        "      <th>Benchmark_Index</th>\n",
        "      <th>Mstar_Symbol</th>\n",
        "    </tr>\n",
        "  </thead>\n",
        "  <tbody>\n",
        "    <tr>\n",
        "      <th>0</th>\n",
        "      <td>                          S&amp;P 500 TR USD</td>\n",
        "      <td> 0P00001MK8</td>\n",
        "    </tr>\n",
        "    <tr>\n",
        "      <th>1</th>\n",
        "      <td>        Morningstar Moderate Target Risk</td>\n",
        "      <td> 0P0000J533</td>\n",
        "    </tr>\n",
        "    <tr>\n",
        "      <th>2</th>\n",
        "      <td>               Barclays Municipal TR USD</td>\n",
        "      <td> 0P00001G5X</td>\n",
        "    </tr>\n",
        "    <tr>\n",
        "      <th>3</th>\n",
        "      <td>                 MSCI ACWI Ex USA NR USD</td>\n",
        "      <td> 0P00001MJB</td>\n",
        "    </tr>\n",
        "    <tr>\n",
        "      <th>4</th>\n",
        "      <td>             Barclays US Agg Bond TR USD</td>\n",
        "      <td> 0P00001G5L</td>\n",
        "    </tr>\n",
        "    <tr>\n",
        "      <th>5</th>\n",
        "      <td>                        MSCI ACWI NR USD</td>\n",
        "      <td> 0P00001G8P</td>\n",
        "    </tr>\n",
        "    <tr>\n",
        "      <th>6</th>\n",
        "      <td>      Morningstar Long-Only Commodity TR</td>\n",
        "      <td> 0P00009FRD</td>\n",
        "    </tr>\n",
        "    <tr>\n",
        "      <th>7</th>\n",
        "      <td>               BofAML USD LIBOR 3 Mon CM</td>\n",
        "      <td> 0P00001L6O</td>\n",
        "    </tr>\n",
        "    <tr>\n",
        "      <th>8</th>\n",
        "      <td> Credit Suisse Mgd Futures Liquid TR USD</td>\n",
        "      <td> 0P00001MK8</td>\n",
        "    </tr>\n",
        "  </tbody>\n",
        "</table>\n",
        "</div>"
       ],
       "metadata": {},
       "output_type": "pyout",
       "prompt_number": 258,
       "text": [
        "                           Benchmark_Index Mstar_Symbol\n",
        "0                           S&P 500 TR USD   0P00001MK8\n",
        "1         Morningstar Moderate Target Risk   0P0000J533\n",
        "2                Barclays Municipal TR USD   0P00001G5X\n",
        "3                  MSCI ACWI Ex USA NR USD   0P00001MJB\n",
        "4              Barclays US Agg Bond TR USD   0P00001G5L\n",
        "5                         MSCI ACWI NR USD   0P00001G8P\n",
        "6       Morningstar Long-Only Commodity TR   0P00009FRD\n",
        "7                BofAML USD LIBOR 3 Mon CM   0P00001L6O\n",
        "8  Credit Suisse Mgd Futures Liquid TR USD   0P00001MK8"
       ]
      }
     ],
     "prompt_number": 258
    },
    {
     "cell_type": "markdown",
     "metadata": {},
     "source": [
      "### Fund DataFrame"
     ]
    },
    {
     "cell_type": "code",
     "collapsed": false,
     "input": [
      "fund_df = pd.merge(Funds_family,fund_benchmark,how='left',on='Fund_Ticker')\n",
      "fund_df = fund_df[fund_df['Benchmark_Index'].notnull()].reset_index(drop=True)\n",
      "fund_df.head()"
     ],
     "language": "python",
     "metadata": {},
     "outputs": [
      {
       "html": [
        "<div style=\"max-height:1000px;max-width:1500px;overflow:auto;\">\n",
        "<table border=\"1\" class=\"dataframe\">\n",
        "  <thead>\n",
        "    <tr style=\"text-align: right;\">\n",
        "      <th></th>\n",
        "      <th>Fund_Name</th>\n",
        "      <th>Fund_Family</th>\n",
        "      <th>Fund_Ticker</th>\n",
        "      <th>Benchmark_Index</th>\n",
        "    </tr>\n",
        "  </thead>\n",
        "  <tbody>\n",
        "    <tr>\n",
        "      <th>0</th>\n",
        "      <td>                 Vanguard 500 Index Inv</td>\n",
        "      <td> Vanguard</td>\n",
        "      <td> VFINX</td>\n",
        "      <td>                   S&amp;P 500 TR USD</td>\n",
        "    </tr>\n",
        "    <tr>\n",
        "      <th>1</th>\n",
        "      <td>            Vanguard Balanced Index Inv</td>\n",
        "      <td> Vanguard</td>\n",
        "      <td> VBINX</td>\n",
        "      <td> Morningstar Moderate Target Risk</td>\n",
        "    </tr>\n",
        "    <tr>\n",
        "      <th>2</th>\n",
        "      <td> Vanguard CA Interm-Term Tax-Exempt Inv</td>\n",
        "      <td> Vanguard</td>\n",
        "      <td> VCAIX</td>\n",
        "      <td>        Barclays Municipal TR USD</td>\n",
        "    </tr>\n",
        "    <tr>\n",
        "      <th>3</th>\n",
        "      <td>   Vanguard CA Long-Term Tax-Exempt Inv</td>\n",
        "      <td> Vanguard</td>\n",
        "      <td> VCITX</td>\n",
        "      <td>        Barclays Municipal TR USD</td>\n",
        "    </tr>\n",
        "    <tr>\n",
        "      <th>4</th>\n",
        "      <td>       Vanguard Capital Opportunity Inv</td>\n",
        "      <td> Vanguard</td>\n",
        "      <td> VHCOX</td>\n",
        "      <td>                   S&amp;P 500 TR USD</td>\n",
        "    </tr>\n",
        "  </tbody>\n",
        "</table>\n",
        "</div>"
       ],
       "metadata": {},
       "output_type": "pyout",
       "prompt_number": 305,
       "text": [
        "                                Fund_Name Fund_Family Fund_Ticker  \\\n",
        "0                  Vanguard 500 Index Inv    Vanguard       VFINX   \n",
        "1             Vanguard Balanced Index Inv    Vanguard       VBINX   \n",
        "2  Vanguard CA Interm-Term Tax-Exempt Inv    Vanguard       VCAIX   \n",
        "3    Vanguard CA Long-Term Tax-Exempt Inv    Vanguard       VCITX   \n",
        "4        Vanguard Capital Opportunity Inv    Vanguard       VHCOX   \n",
        "\n",
        "                    Benchmark_Index  \n",
        "0                    S&P 500 TR USD  \n",
        "1  Morningstar Moderate Target Risk  \n",
        "2         Barclays Municipal TR USD  \n",
        "3         Barclays Municipal TR USD  \n",
        "4                    S&P 500 TR USD  "
       ]
      }
     ],
     "prompt_number": 305
    },
    {
     "cell_type": "code",
     "collapsed": false,
     "input": [
      "fund_df[fund_df['Fund_Ticker'] == 'JMGIX']\n",
      "#fund_df.shape"
     ],
     "language": "python",
     "metadata": {},
     "outputs": [
      {
       "html": [
        "<div style=\"max-height:1000px;max-width:1500px;overflow:auto;\">\n",
        "<table border=\"1\" class=\"dataframe\">\n",
        "  <thead>\n",
        "    <tr style=\"text-align: right;\">\n",
        "      <th></th>\n",
        "      <th>Fund_Name</th>\n",
        "      <th>Fund_Family</th>\n",
        "      <th>Fund_Ticker</th>\n",
        "      <th>Benchmark_Index</th>\n",
        "    </tr>\n",
        "  </thead>\n",
        "  <tbody>\n",
        "    <tr>\n",
        "      <th>441</th>\n",
        "      <td> JPMorgan Managed Income Institutional</td>\n",
        "      <td> JP Morgan</td>\n",
        "      <td> JMGIX</td>\n",
        "      <td> Barclays US Agg Bond TR USD</td>\n",
        "    </tr>\n",
        "  </tbody>\n",
        "</table>\n",
        "</div>"
       ],
       "metadata": {},
       "output_type": "pyout",
       "prompt_number": 506,
       "text": [
        "                                 Fund_Name Fund_Family Fund_Ticker  \\\n",
        "441  JPMorgan Managed Income Institutional   JP Morgan       JMGIX   \n",
        "\n",
        "                 Benchmark_Index  \n",
        "441  Barclays US Agg Bond TR USD  "
       ]
      }
     ],
     "prompt_number": 506
    },
    {
     "cell_type": "code",
     "collapsed": false,
     "input": [
      "fund_df.to_csv(\"Fund_Metadata.csv\")"
     ],
     "language": "python",
     "metadata": {},
     "outputs": [],
     "prompt_number": 508
    },
    {
     "cell_type": "markdown",
     "metadata": {},
     "source": [
      "### Returns Data\n",
      "Fetch 10 year Returns Data"
     ]
    },
    {
     "cell_type": "code",
     "collapsed": false,
     "input": [
      "'''\n",
      "This function create transpose of fund_history data frame\n",
      "and removes unwanted data from the data frame\n",
      "It converts the data into float format.\n",
      "\n",
      "Parameter - fund_history dataframe\n",
      "\n",
      "Returns - transpose with required columns\n",
      "\n",
      "'''\n",
      "def fnc_transpose(fund_history):\n",
      "    fund_history.index=fund_history[fund_history.columns[0]] # Make the parameters as the index\n",
      "    fund_history = fund_history.drop(fund_history.columns[0], axis = 1)     \n",
      "    fund_history = fund_history.transpose()    \n",
      "    fund_history = fund_history.drop('Fund Category',1)    \n",
      "    fund_history = fund_history.replace(to_replace=u'\\u2014',value=0).astype(float) \n",
      "    fund_history = fund_history.ffill()\n",
      "    fund_history = fund_history[(fund_history['Rank in Category']).notnull()] \n",
      "    return fund_history\n"
     ],
     "language": "python",
     "metadata": {},
     "outputs": [],
     "prompt_number": 307
    },
    {
     "cell_type": "code",
     "collapsed": false,
     "input": [
      "\n",
      "'''\n",
      "This function scraps performace data using Beutiful soup\n",
      "and convert it to pandas dataframe.\n",
      "It also handles missing values.\n",
      "\n",
      "'''\n",
      "def get_performance_data(url):\n",
      "    soup = BeautifulSoup(urllib2.urlopen(url).read()) # read data using Beautiful Soup\n",
      "    table = soup.find('table')    # find the table\n",
      "    rows = table.findAll('tr')\n",
      "    for i in range(len(rows)):    # read table data for each table row\n",
      "        if(i==0):\n",
      "            header = rows[i].findAll('th')         # Assign first row as dataframe header\n",
      "            column_names = [head.text for head in  header] \n",
      "            data = pd.DataFrame(columns=column_names)\n",
      "        else:\n",
      "            row = [0.0]*len(column_names)   # add table data to dataframe\n",
      "            j=1\n",
      "            row[0] = rows[i].find('th').text\n",
      "            for cell in rows[i].findAll('td'):\n",
      "                row[j] = cell.text\n",
      "                j=j+1\n",
      "            data.loc[i-1]=row\n",
      "\n",
      "    data = data.replace(to_replace='&mdash;',value=np.nan)   #replace dash with null\n",
      "    data = data.ffill()   # fill null values\n",
      "    \n",
      "    return data"
     ],
     "language": "python",
     "metadata": {},
     "outputs": [],
     "prompt_number": 308
    },
    {
     "cell_type": "code",
     "collapsed": false,
     "input": [
      "fund_returns = {}\n",
      "\n",
      "# 15 year returns data \n",
      "for i in range(0,len(fund_df)):\n",
      "    fund_name = fund_df['Fund_Ticker'][i]\n",
      "    fund_benchmark_var = fund_df['Benchmark_Index'][i]\n",
      "    key = \"fund_returns_\"+fund_name\n",
      "    print key\n",
      "    symbol = (mstar_benchmark_symbol[mstar_benchmark_symbol['Benchmark_Index'] == fund_benchmark_var]['Mstar_Symbol']).values[0]\n",
      "    fund_ret_url = \"http://performance.morningstar.com/Performance/fund/performance-history-1.action?&t=XNAS:\"+fund_name+\"&region=usa&culture=en-US&cur=&ops=clear&s=\"+symbol+\"&ndec=2&ep=true&align=m&y=15&comparisonRemove=false&loccat=&taxadj=&benchmarkSecId=&benchmarktype=\"\n",
      "    try:\n",
      "        fund_history = get_performance_data(fund_ret_url)\n",
      "        fund_history = fnc_transpose(fund_history)\n",
      "        fund_history = fund_history.reset_index()\n",
      "        fund_history.columns = ['Year',fund_name+'_Returns',fund_benchmark_var,'Category (LB)','+/- S&P 500 TR USD','+/- Category (LB)','Annual_Net_Exp_Ratio','Turnover_Ratio','Rank_In_Category']\n",
      "    except:\n",
      "        print \"No Returns Data available for Fund : \",fund_name\n",
      "        # Creating an Empty DataFrame for fund with no returns\n",
      "        fund_history = pd.DataFrame()\n",
      "    fund_returns[key] = fund_history\n"
     ],
     "language": "python",
     "metadata": {},
     "outputs": [
      {
       "output_type": "stream",
       "stream": "stdout",
       "text": [
        "fund_returns_VFINX\n",
        "fund_returns_VBINX"
       ]
      },
      {
       "output_type": "stream",
       "stream": "stdout",
       "text": [
        "\n",
        "fund_returns_VCAIX"
       ]
      },
      {
       "output_type": "stream",
       "stream": "stdout",
       "text": [
        "\n",
        "fund_returns_VCITX"
       ]
      },
      {
       "output_type": "stream",
       "stream": "stdout",
       "text": [
        "\n",
        "fund_returns_VHCOX"
       ]
      },
      {
       "output_type": "stream",
       "stream": "stdout",
       "text": [
        "\n",
        "fund_returns_VCVLX"
       ]
      },
      {
       "output_type": "stream",
       "stream": "stdout",
       "text": [
        "\n",
        "fund_returns_VCVSX"
       ]
      },
      {
       "output_type": "stream",
       "stream": "stdout",
       "text": [
        "\n",
        "fund_returns_VTMGX"
       ]
      },
      {
       "output_type": "stream",
       "stream": "stdout",
       "text": [
        "\n",
        "fund_returns_VDEQX"
       ]
      },
      {
       "output_type": "stream",
       "stream": "stdout",
       "text": [
        "\n",
        "fund_returns_VDIGX"
       ]
      },
      {
       "output_type": "stream",
       "stream": "stdout",
       "text": [
        "\n",
        "fund_returns_VGOVX"
       ]
      },
      {
       "output_type": "stream",
       "stream": "stdout",
       "text": [
        "\n",
        "fund_returns_VMMSX"
       ]
      },
      {
       "output_type": "stream",
       "stream": "stdout",
       "text": [
        "\n",
        "fund_returns_VEIEX"
       ]
      },
      {
       "output_type": "stream",
       "stream": "stdout",
       "text": [
        "\n",
        "fund_returns_VGENX"
       ]
      },
      {
       "output_type": "stream",
       "stream": "stdout",
       "text": [
        "\n",
        "fund_returns_VEIPX"
       ]
      },
      {
       "output_type": "stream",
       "stream": "stdout",
       "text": [
        "\n",
        "fund_returns_VEURX"
       ]
      },
      {
       "output_type": "stream",
       "stream": "stdout",
       "text": [
        "\n",
        "fund_returns_VEXPX"
       ]
      },
      {
       "output_type": "stream",
       "stream": "stdout",
       "text": [
        "\n",
        "fund_returns_VEVFX"
       ]
      },
      {
       "output_type": "stream",
       "stream": "stdout",
       "text": [
        "\n",
        "fund_returns_VEDTX"
       ]
      },
      {
       "output_type": "stream",
       "stream": "stdout",
       "text": [
        "\n",
        "fund_returns_VEXMX"
       ]
      },
      {
       "output_type": "stream",
       "stream": "stdout",
       "text": [
        "\n",
        "fund_returns_VFSNX"
       ]
      },
      {
       "output_type": "stream",
       "stream": "stdout",
       "text": [
        "\n",
        "fund_returns_VFTSX"
       ]
      },
      {
       "output_type": "stream",
       "stream": "stdout",
       "text": [
        "\n",
        "fund_returns_VHGEX"
       ]
      },
      {
       "output_type": "stream",
       "stream": "stdout",
       "text": [
        "\n",
        "fund_returns_VGXRX"
       ]
      },
      {
       "output_type": "stream",
       "stream": "stdout",
       "text": [
        "\n",
        "fund_returns_VMNVX"
       ]
      },
      {
       "output_type": "stream",
       "stream": "stdout",
       "text": [
        "\n",
        "fund_returns_VFIIX"
       ]
      },
      {
       "output_type": "stream",
       "stream": "stdout",
       "text": [
        "\n",
        "fund_returns_VQNPX"
       ]
      },
      {
       "output_type": "stream",
       "stream": "stdout",
       "text": [
        "\n",
        "fund_returns_VIGRX"
       ]
      },
      {
       "output_type": "stream",
       "stream": "stdout",
       "text": [
        "\n",
        "fund_returns_VGHCX"
       ]
      },
      {
       "output_type": "stream",
       "stream": "stdout",
       "text": [
        "\n",
        "fund_returns_VWEHX"
       ]
      },
      {
       "output_type": "stream",
       "stream": "stdout",
       "text": [
        "\n",
        "fund_returns_VWAHX"
       ]
      },
      {
       "output_type": "stream",
       "stream": "stdout",
       "text": [
        "\n",
        "fund_returns_VIPSX"
       ]
      },
      {
       "output_type": "stream",
       "stream": "stdout",
       "text": [
        "\n",
        "fund_returns_VINIX"
       ]
      },
      {
       "output_type": "stream",
       "stream": "stdout",
       "text": [
        "\n",
        "fund_returns_VITPX"
       ]
      },
      {
       "output_type": "stream",
       "stream": "stdout",
       "text": [
        "\n",
        "fund_returns_VBIIX"
       ]
      },
      {
       "output_type": "stream",
       "stream": "stdout",
       "text": [
        "\n",
        "fund_returns_VFICX"
       ]
      },
      {
       "output_type": "stream",
       "stream": "stdout",
       "text": [
        "\n",
        "fund_returns_VFITX"
       ]
      },
      {
       "output_type": "stream",
       "stream": "stdout",
       "text": [
        "\n",
        "fund_returns_VWITX"
       ]
      },
      {
       "output_type": "stream",
       "stream": "stdout",
       "text": [
        "\n",
        "fund_returns_VINEX"
       ]
      },
      {
       "output_type": "stream",
       "stream": "stdout",
       "text": [
        "\n",
        "fund_returns_VWIGX"
       ]
      },
      {
       "output_type": "stream",
       "stream": "stdout",
       "text": [
        "\n",
        "fund_returns_VTRIX"
       ]
      },
      {
       "output_type": "stream",
       "stream": "stdout",
       "text": [
        "\n",
        "fund_returns_VSCGX"
       ]
      },
      {
       "output_type": "stream",
       "stream": "stdout",
       "text": [
        "\n",
        "fund_returns_VASGX"
       ]
      },
      {
       "output_type": "stream",
       "stream": "stdout",
       "text": [
        "\n",
        "fund_returns_VASIX"
       ]
      },
      {
       "output_type": "stream",
       "stream": "stdout",
       "text": [
        "\n",
        "fund_returns_VSMGX"
       ]
      },
      {
       "output_type": "stream",
       "stream": "stdout",
       "text": [
        "\n",
        "fund_returns_VBLTX"
       ]
      },
      {
       "output_type": "stream",
       "stream": "stdout",
       "text": [
        "\n",
        "fund_returns_VLCIX"
       ]
      },
      {
       "output_type": "stream",
       "stream": "stdout",
       "text": [
        "\n",
        "fund_returns_VLGIX"
       ]
      },
      {
       "output_type": "stream",
       "stream": "stdout",
       "text": [
        "\n",
        "fund_returns_VWESX"
       ]
      },
      {
       "output_type": "stream",
       "stream": "stdout",
       "text": [
        "\n",
        "fund_returns_VWLTX"
       ]
      },
      {
       "output_type": "stream",
       "stream": "stdout",
       "text": [
        "\n",
        "fund_returns_VUSTX"
       ]
      },
      {
       "output_type": "stream",
       "stream": "stdout",
       "text": [
        "\n",
        "fund_returns_VMLTX"
       ]
      },
      {
       "output_type": "stream",
       "stream": "stdout",
       "text": [
        "\n",
        "fund_returns_VMATX"
       ]
      },
      {
       "output_type": "stream",
       "stream": "stdout",
       "text": [
        "\n",
        "fund_returns_VPGDX"
       ]
      },
      {
       "output_type": "stream",
       "stream": "stdout",
       "text": [
        "\n",
        "fund_returns_VMNIX"
       ]
      },
      {
       "output_type": "stream",
       "stream": "stdout",
       "text": [
        "\n",
        "fund_returns_VMGRX"
       ]
      },
      {
       "output_type": "stream",
       "stream": "stdout",
       "text": [
        "\n",
        "fund_returns_VMCIX"
       ]
      },
      {
       "output_type": "stream",
       "stream": "stdout",
       "text": [
        "\n",
        "fund_returns_VMRGX"
       ]
      },
      {
       "output_type": "stream",
       "stream": "stdout",
       "text": [
        "\n",
        "fund_returns_VNJTX"
       ]
      },
      {
       "output_type": "stream",
       "stream": "stdout",
       "text": [
        "\n",
        "fund_returns_VNYTX"
       ]
      },
      {
       "output_type": "stream",
       "stream": "stdout",
       "text": [
        "\n",
        "fund_returns_VOHIX"
       ]
      },
      {
       "output_type": "stream",
       "stream": "stdout",
       "text": [
        "\n",
        "fund_returns_VPAIX"
       ]
      },
      {
       "output_type": "stream",
       "stream": "stdout",
       "text": [
        "\n",
        "fund_returns_VPACX"
       ]
      },
      {
       "output_type": "stream",
       "stream": "stdout",
       "text": [
        "\n",
        "fund_returns_VGPMX"
       ]
      },
      {
       "output_type": "stream",
       "stream": "stdout",
       "text": [
        "\n",
        "fund_returns_VPCCX"
       ]
      },
      {
       "output_type": "stream",
       "stream": "stdout",
       "text": [
        "\n",
        "fund_returns_VPMCX"
       ]
      },
      {
       "output_type": "stream",
       "stream": "stdout",
       "text": [
        "\n",
        "fund_returns_VGSIX"
       ]
      },
      {
       "output_type": "stream",
       "stream": "stdout",
       "text": [
        "\n",
        "fund_returns_VASVX"
       ]
      },
      {
       "output_type": "stream",
       "stream": "stdout",
       "text": [
        "\n",
        "fund_returns_VBISX"
       ]
      },
      {
       "output_type": "stream",
       "stream": "stdout",
       "text": [
        "\n",
        "fund_returns_VSTBX"
       ]
      },
      {
       "output_type": "stream",
       "stream": "stdout",
       "text": [
        "\n",
        "fund_returns_VSGBX"
       ]
      },
      {
       "output_type": "stream",
       "stream": "stdout",
       "text": [
        "\n",
        "fund_returns_VFSTX"
       ]
      },
      {
       "output_type": "stream",
       "stream": "stdout",
       "text": [
        "\n",
        "fund_returns_VFISX"
       ]
      },
      {
       "output_type": "stream",
       "stream": "stdout",
       "text": [
        "\n",
        "fund_returns_VWSTX"
       ]
      },
      {
       "output_type": "stream",
       "stream": "stdout",
       "text": [
        "\n",
        "fund_returns_VISGX"
       ]
      },
      {
       "output_type": "stream",
       "stream": "stdout",
       "text": [
        "\n",
        "fund_returns_NAESX"
       ]
      },
      {
       "output_type": "stream",
       "stream": "stdout",
       "text": [
        "\n",
        "fund_returns_VISVX"
       ]
      },
      {
       "output_type": "stream",
       "stream": "stdout",
       "text": [
        "\n",
        "fund_returns_VGSTX"
       ]
      },
      {
       "output_type": "stream",
       "stream": "stdout",
       "text": [
        "\n",
        "fund_returns_VSEQX"
       ]
      },
      {
       "output_type": "stream",
       "stream": "stdout",
       "text": [
        "\n",
        "fund_returns_VSTCX"
       ]
      },
      {
       "output_type": "stream",
       "stream": "stdout",
       "text": [
        "\n",
        "fund_returns_VSLPX"
       ]
      },
      {
       "output_type": "stream",
       "stream": "stdout",
       "text": [
        "\n",
        "fund_returns_VSBPX"
       ]
      },
      {
       "output_type": "stream",
       "stream": "stdout",
       "text": [
        "\n",
        "fund_returns_VTENX"
       ]
      },
      {
       "output_type": "stream",
       "stream": "stdout",
       "text": [
        "\n",
        "fund_returns_VTXVX"
       ]
      },
      {
       "output_type": "stream",
       "stream": "stdout",
       "text": [
        "\n",
        "fund_returns_VTWNX"
       ]
      },
      {
       "output_type": "stream",
       "stream": "stdout",
       "text": [
        "\n",
        "fund_returns_VTTVX"
       ]
      },
      {
       "output_type": "stream",
       "stream": "stdout",
       "text": [
        "\n",
        "fund_returns_VTHRX"
       ]
      },
      {
       "output_type": "stream",
       "stream": "stdout",
       "text": [
        "\n",
        "fund_returns_VTTHX"
       ]
      },
      {
       "output_type": "stream",
       "stream": "stdout",
       "text": [
        "\n",
        "fund_returns_VFORX"
       ]
      },
      {
       "output_type": "stream",
       "stream": "stdout",
       "text": [
        "\n",
        "fund_returns_VTIVX"
       ]
      },
      {
       "output_type": "stream",
       "stream": "stdout",
       "text": [
        "\n",
        "fund_returns_VFIFX"
       ]
      },
      {
       "output_type": "stream",
       "stream": "stdout",
       "text": [
        "\n",
        "fund_returns_VFFVX"
       ]
      },
      {
       "output_type": "stream",
       "stream": "stdout",
       "text": [
        "\n",
        "fund_returns_VTTSX"
       ]
      },
      {
       "output_type": "stream",
       "stream": "stdout",
       "text": [
        "\n",
        "fund_returns_VTINX"
       ]
      },
      {
       "output_type": "stream",
       "stream": "stdout",
       "text": [
        "\n",
        "fund_returns_VTMFX"
       ]
      },
      {
       "output_type": "stream",
       "stream": "stdout",
       "text": [
        "\n",
        "fund_returns_VTCIX"
       ]
      },
      {
       "output_type": "stream",
       "stream": "stdout",
       "text": [
        "\n",
        "fund_returns_VTMSX"
       ]
      },
      {
       "output_type": "stream",
       "stream": "stdout",
       "text": [
        "\n",
        "fund_returns_VTBIX"
       ]
      },
      {
       "output_type": "stream",
       "stream": "stdout",
       "text": [
        "\n",
        "fund_returns_VBMFX"
       ]
      },
      {
       "output_type": "stream",
       "stream": "stdout",
       "text": [
        "\n",
        "fund_returns_VTIFX"
       ]
      },
      {
       "output_type": "stream",
       "stream": "stdout",
       "text": [
        "\n",
        "fund_returns_VGTSX"
       ]
      },
      {
       "output_type": "stream",
       "stream": "stdout",
       "text": [
        "\n",
        "fund_returns_VTSMX"
       ]
      },
      {
       "output_type": "stream",
       "stream": "stdout",
       "text": [
        "\n",
        "fund_returns_VWUSX"
       ]
      },
      {
       "output_type": "stream",
       "stream": "stdout",
       "text": [
        "\n",
        "fund_returns_VUVLX"
       ]
      },
      {
       "output_type": "stream",
       "stream": "stdout",
       "text": [
        "\n",
        "fund_returns_VIVAX"
       ]
      },
      {
       "output_type": "stream",
       "stream": "stdout",
       "text": [
        "\n",
        "fund_returns_VWINX"
       ]
      },
      {
       "output_type": "stream",
       "stream": "stdout",
       "text": [
        "\n",
        "fund_returns_VWELX"
       ]
      },
      {
       "output_type": "stream",
       "stream": "stdout",
       "text": [
        "\n",
        "fund_returns_VWNFX"
       ]
      },
      {
       "output_type": "stream",
       "stream": "stdout",
       "text": [
        "\n",
        "fund_returns_VWNDX"
       ]
      },
      {
       "output_type": "stream",
       "stream": "stdout",
       "text": [
        "\n",
        "fund_returns_AAATX"
       ]
      },
      {
       "output_type": "stream",
       "stream": "stdout",
       "text": [
        "\n",
        "fund_returns_AABTX"
       ]
      },
      {
       "output_type": "stream",
       "stream": "stdout",
       "text": [
        "\n",
        "fund_returns_AACTX"
       ]
      },
      {
       "output_type": "stream",
       "stream": "stdout",
       "text": [
        "\n",
        "fund_returns_AADTX"
       ]
      },
      {
       "output_type": "stream",
       "stream": "stdout",
       "text": [
        "\n",
        "fund_returns_AAETX"
       ]
      },
      {
       "output_type": "stream",
       "stream": "stdout",
       "text": [
        "\n",
        "fund_returns_AAFTX"
       ]
      },
      {
       "output_type": "stream",
       "stream": "stdout",
       "text": [
        "\n",
        "fund_returns_AAGTX"
       ]
      },
      {
       "output_type": "stream",
       "stream": "stdout",
       "text": [
        "\n",
        "fund_returns_AAHTX"
       ]
      },
      {
       "output_type": "stream",
       "stream": "stdout",
       "text": [
        "\n",
        "fund_returns_AALTX"
       ]
      },
      {
       "output_type": "stream",
       "stream": "stdout",
       "text": [
        "\n",
        "fund_returns_AAMTX"
       ]
      },
      {
       "output_type": "stream",
       "stream": "stdout",
       "text": [
        "\n",
        "fund_returns_AMCPX"
       ]
      },
      {
       "output_type": "stream",
       "stream": "stdout",
       "text": [
        "\n",
        "fund_returns_ABALX"
       ]
      },
      {
       "output_type": "stream",
       "stream": "stdout",
       "text": [
        "\n",
        "fund_returns_AHITX"
       ]
      },
      {
       "output_type": "stream",
       "stream": "stdout",
       "text": [
        "\n",
        "fund_returns_AMRMX"
       ]
      },
      {
       "output_type": "stream",
       "stream": "stdout",
       "text": [
        "\n",
        "fund_returns_CBAAX"
       ]
      },
      {
       "output_type": "stream",
       "stream": "stdout",
       "text": [
        "\n",
        "fund_returns_ABNDX"
       ]
      },
      {
       "output_type": "stream",
       "stream": "stdout",
       "text": [
        "\n",
        "fund_returns_CAIBX"
       ]
      },
      {
       "output_type": "stream",
       "stream": "stdout",
       "text": [
        "\n",
        "fund_returns_CWBFX"
       ]
      },
      {
       "output_type": "stream",
       "stream": "stdout",
       "text": [
        "\n",
        "fund_returns_CWGIX"
       ]
      },
      {
       "output_type": "stream",
       "stream": "stdout",
       "text": [
        "\n",
        "fund_returns_CFFAX"
       ]
      },
      {
       "output_type": "stream",
       "stream": "stdout",
       "text": [
        "\n",
        "fund_returns_CNEAX"
       ]
      },
      {
       "output_type": "stream",
       "stream": "stdout",
       "text": [
        "\n",
        "fund_returns_CTOAX"
       ]
      },
      {
       "output_type": "stream",
       "stream": "stdout",
       "text": [
        "\n",
        "fund_returns_CFTAX"
       ]
      },
      {
       "output_type": "stream",
       "stream": "stdout",
       "text": [
        "\n",
        "fund_returns_CSTAX"
       ]
      },
      {
       "output_type": "stream",
       "stream": "stdout",
       "text": [
        "\n",
        "fund_returns_CTHAX"
       ]
      },
      {
       "output_type": "stream",
       "stream": "stdout",
       "text": [
        "\n",
        "fund_returns_CENAX"
       ]
      },
      {
       "output_type": "stream",
       "stream": "stdout",
       "text": [
        "\n",
        "fund_returns_DWGAX"
       ]
      },
      {
       "output_type": "stream",
       "stream": "stdout",
       "text": [
        "\n",
        "fund_returns_AEPGX"
       ]
      },
      {
       "output_type": "stream",
       "stream": "stdout",
       "text": [
        "\n",
        "fund_returns_ANCFX"
       ]
      },
      {
       "output_type": "stream",
       "stream": "stdout",
       "text": [
        "\n",
        "fund_returns_CBFAX"
       ]
      },
      {
       "output_type": "stream",
       "stream": "stdout",
       "text": [
        "\n",
        "fund_returns_CPGAX"
       ]
      },
      {
       "output_type": "stream",
       "stream": "stdout",
       "text": [
        "\n",
        "fund_returns_CGNAX"
       ]
      },
      {
       "output_type": "stream",
       "stream": "stdout",
       "text": [
        "\n",
        "fund_returns_AGTHX"
       ]
      },
      {
       "output_type": "stream",
       "stream": "stdout",
       "text": [
        "\n",
        "fund_returns_CGPAX"
       ]
      },
      {
       "output_type": "stream",
       "stream": "stdout",
       "text": [
        "\n",
        "fund_returns_AMECX"
       ]
      },
      {
       "output_type": "stream",
       "stream": "stdout",
       "text": [
        "\n",
        "fund_returns_INPAX"
       ]
      },
      {
       "output_type": "stream",
       "stream": "stdout",
       "text": [
        "\n",
        "fund_returns_AIBAX"
       ]
      },
      {
       "output_type": "stream",
       "stream": "stdout",
       "text": [
        "\n",
        "fund_returns_CGIAX"
       ]
      },
      {
       "output_type": "stream",
       "stream": "stdout",
       "text": [
        "\n",
        "fund_returns_AIVSX"
       ]
      },
      {
       "output_type": "stream",
       "stream": "stdout",
       "text": [
        "\n",
        "fund_returns_LTEBX"
       ]
      },
      {
       "output_type": "stream",
       "stream": "stdout",
       "text": [
        "\n",
        "fund_returns_CMFAX"
       ]
      },
      {
       "output_type": "stream",
       "stream": "stdout",
       "text": [
        "\n",
        "fund_returns_ANEFX"
       ]
      },
      {
       "output_type": "stream",
       "stream": "stdout",
       "text": [
        "\n",
        "fund_returns_ANWPX"
       ]
      },
      {
       "output_type": "stream",
       "stream": "stdout",
       "text": [
        "\n",
        "fund_returns_NEWFX"
       ]
      },
      {
       "output_type": "stream",
       "stream": "stdout",
       "text": [
        "\n",
        "fund_returns_PPVAX"
       ]
      },
      {
       "output_type": "stream",
       "stream": "stdout",
       "text": [
        "\n",
        "fund_returns_ASTEX"
       ]
      },
      {
       "output_type": "stream",
       "stream": "stdout",
       "text": [
        "\n",
        "fund_returns_SMCWX"
       ]
      },
      {
       "output_type": "stream",
       "stream": "stdout",
       "text": [
        "\n",
        "fund_returns_ASBAX"
       ]
      },
      {
       "output_type": "stream",
       "stream": "stdout",
       "text": [
        "\n",
        "fund_returns_AFTEX"
       ]
      },
      {
       "output_type": "stream",
       "stream": "stdout",
       "text": [
        "\n",
        "fund_returns_TAFTX"
       ]
      },
      {
       "output_type": "stream",
       "stream": "stdout",
       "text": [
        "\n",
        "fund_returns_NYAAX"
       ]
      },
      {
       "output_type": "stream",
       "stream": "stdout",
       "text": [
        "\n",
        "fund_returns_TMMDX"
       ]
      },
      {
       "output_type": "stream",
       "stream": "stdout",
       "text": [
        "\n",
        "fund_returns_TEPAX"
       ]
      },
      {
       "output_type": "stream",
       "stream": "stdout",
       "text": [
        "\n",
        "fund_returns_TFVAX"
       ]
      },
      {
       "output_type": "stream",
       "stream": "stdout",
       "text": [
        "\n",
        "fund_returns_TAIAX"
       ]
      },
      {
       "output_type": "stream",
       "stream": "stdout",
       "text": [
        "\n",
        "fund_returns_AMUSX"
       ]
      },
      {
       "output_type": "stream",
       "stream": "stdout",
       "text": [
        "\n",
        "fund_returns_AWSHX"
       ]
      },
      {
       "output_type": "stream",
       "stream": "stdout",
       "text": [
        "\n",
        "fund_returns_AMHIX"
       ]
      },
      {
       "output_type": "stream",
       "stream": "stdout",
       "text": [
        "\n",
        "fund_returns_PAUIX"
       ]
      },
      {
       "output_type": "stream",
       "stream": "stdout",
       "text": [
        "\n",
        "fund_returns_PAAIX"
       ]
      },
      {
       "output_type": "stream",
       "stream": "stdout",
       "text": [
        "\n",
        "fund_returns_PBIAX"
       ]
      },
      {
       "output_type": "stream",
       "stream": "stdout",
       "text": [
        "\n",
        "fund_returns_PCIMX"
       ]
      },
      {
       "output_type": "stream",
       "stream": "stdout",
       "text": [
        "\n",
        "fund_returns_PCDAX"
       ]
      },
      {
       "output_type": "stream",
       "stream": "stdout",
       "text": [
        "\n",
        "fund_returns_PCTTX"
       ]
      },
      {
       "output_type": "stream",
       "stream": "stdout",
       "text": [
        "\n",
        "fund_returns_PCLAX"
       ]
      },
      {
       "output_type": "stream",
       "stream": "stdout",
       "text": [
        "\n",
        "fund_returns_PCRIX"
       ]
      },
      {
       "output_type": "stream",
       "stream": "stdout",
       "text": [
        "\n",
        "fund_returns_PFCIX"
       ]
      },
      {
       "output_type": "stream",
       "stream": "stdout",
       "text": [
        "\n",
        "fund_returns_PZCRX"
       ]
      },
      {
       "output_type": "stream",
       "stream": "stdout",
       "text": [
        "\n",
        "fund_returns_PDVAX"
       ]
      },
      {
       "output_type": "stream",
       "stream": "stdout",
       "text": [
        "\n",
        "fund_returns_PQIZX"
       ]
      },
      {
       "output_type": "stream",
       "stream": "stdout",
       "text": [
        "\n",
        "fund_returns_PEFIX"
       ]
      },
      {
       "output_type": "stream",
       "stream": "stdout",
       "text": [
        "\n",
        "fund_returns_PFSSX"
       ]
      },
      {
       "output_type": "stream",
       "stream": "stdout",
       "text": [
        "\n",
        "fund_returns_PELBX"
       ]
      },
      {
       "output_type": "stream",
       "stream": "stdout",
       "text": [
        "\n",
        "fund_returns_PAEMX"
       ]
      },
      {
       "output_type": "stream",
       "stream": "stdout",
       "text": [
        "\n",
        "fund_returns_PEMIX"
       ]
      },
      {
       "output_type": "stream",
       "stream": "stdout",
       "text": [
        "\n",
        "fund_returns_PLMAX"
       ]
      },
      {
       "output_type": "stream",
       "stream": "stdout",
       "text": [
        "\n",
        "fund_returns_PEAAX"
       ]
      },
      {
       "output_type": "stream",
       "stream": "stdout",
       "text": [
        "\n",
        "fund_returns_PLVVX"
       ]
      },
      {
       "output_type": "stream",
       "stream": "stdout",
       "text": [
        "\n",
        "fund_returns_PATHX"
       ]
      },
      {
       "output_type": "stream",
       "stream": "stdout",
       "text": [
        "\n",
        "fund_returns_PQDAX"
       ]
      },
      {
       "output_type": "stream",
       "stream": "stdout",
       "text": [
        "\n",
        "fund_returns_PEQAX"
       ]
      },
      {
       "output_type": "stream",
       "stream": "stdout",
       "text": [
        "\n",
        "fund_returns_PMHIX"
       ]
      },
      {
       "output_type": "stream",
       "stream": "stdout",
       "text": [
        "\n",
        "fund_returns_PEDIX"
       ]
      },
      {
       "output_type": "stream",
       "stream": "stdout",
       "text": [
        "\n",
        "fund_returns_PFIAX"
       ]
      },
      {
       "output_type": "stream",
       "stream": "stdout",
       "text": [
        "\n",
        "fund_returns_PFUIX"
       ]
      },
      {
       "output_type": "stream",
       "stream": "stdout",
       "text": [
        "\n",
        "fund_returns_PFORX"
       ]
      },
      {
       "output_type": "stream",
       "stream": "stdout",
       "text": [
        "\n",
        "fund_returns_PFATX"
       ]
      },
      {
       "output_type": "stream",
       "stream": "stdout",
       "text": [
        "\n",
        "fund_returns_PIXAX"
       ]
      },
      {
       "output_type": "stream",
       "stream": "stdout",
       "text": [
        "\n",
        "fund_returns_PGSAX"
       ]
      },
      {
       "output_type": "stream",
       "stream": "stdout",
       "text": [
        "\n",
        "fund_returns_PIGLX"
       ]
      },
      {
       "output_type": "stream",
       "stream": "stdout",
       "text": [
        "\n",
        "fund_returns_PAIIX"
       ]
      },
      {
       "output_type": "stream",
       "stream": "stdout",
       "text": [
        "\n",
        "fund_returns_PGMAX"
       ]
      },
      {
       "output_type": "stream",
       "stream": "stdout",
       "text": [
        "\n",
        "fund_returns_PDMIX"
       ]
      },
      {
       "output_type": "stream",
       "stream": "stdout",
       "text": [
        "\n",
        "fund_returns_PHIYX"
       ]
      },
      {
       "output_type": "stream",
       "stream": "stdout",
       "text": [
        "\n",
        "fund_returns_PYMAX"
       ]
      },
      {
       "output_type": "stream",
       "stream": "stdout",
       "text": [
        "\n",
        "fund_returns_PHSAX"
       ]
      },
      {
       "output_type": "stream",
       "stream": "stdout",
       "text": [
        "\n",
        "fund_returns_PONAX"
       ]
      },
      {
       "output_type": "stream",
       "stream": "stdout",
       "text": [
        "\n",
        "fund_returns_PZRMX"
       ]
      },
      {
       "output_type": "stream",
       "stream": "stdout",
       "text": [
        "\n",
        "fund_returns_PTSIX"
       ]
      },
      {
       "output_type": "stream",
       "stream": "stdout",
       "text": [
        "\n",
        "fund_returns_PLVBX"
       ]
      },
      {
       "output_type": "stream",
       "stream": "stdout",
       "text": [
        "\n",
        "fund_returns_PPUAX"
       ]
      },
      {
       "output_type": "stream",
       "stream": "stdout",
       "text": [
        "\n",
        "fund_returns_PIPAX"
       ]
      },
      {
       "output_type": "stream",
       "stream": "stdout",
       "text": [
        "\n",
        "fund_returns_PIGIX"
       ]
      },
      {
       "output_type": "stream",
       "stream": "stdout",
       "text": [
        "\n",
        "fund_returns_PLRIX"
       ]
      },
      {
       "output_type": "stream",
       "stream": "stdout",
       "text": [
        "\n",
        "fund_returns_PTCIX"
       ]
      },
      {
       "output_type": "stream",
       "stream": "stdout",
       "text": [
        "\n",
        "fund_returns_PGOVX"
       ]
      },
      {
       "output_type": "stream",
       "stream": "stdout",
       "text": [
        "\n",
        "fund_returns_PLDTX"
       ]
      },
      {
       "output_type": "stream",
       "stream": "stdout",
       "text": [
        "\n",
        "fund_returns_PLDIX"
       ]
      },
      {
       "output_type": "stream",
       "stream": "stdout",
       "text": [
        "\n",
        "fund_returns_PTLDX"
       ]
      },
      {
       "output_type": "stream",
       "stream": "stdout",
       "text": [
        "\n",
        "fund_returns_PXLVX"
       ]
      },
      {
       "output_type": "stream",
       "stream": "stdout",
       "text": [
        "\n",
        "fund_returns_PMDRX"
       ]
      },
      {
       "output_type": "stream",
       "stream": "stdout",
       "text": [
        "\n",
        "fund_returns_PMZAX"
       ]
      },
      {
       "output_type": "stream",
       "stream": "stdout",
       "text": [
        "\n",
        "fund_returns_PTRIX"
       ]
      },
      {
       "output_type": "stream",
       "stream": "stdout",
       "text": [
        "\n",
        "fund_returns_PFMIX"
       ]
      },
      {
       "output_type": "stream",
       "stream": "stdout",
       "text": [
        "\n",
        "fund_returns_PMNTX"
       ]
      },
      {
       "output_type": "stream",
       "stream": "stdout",
       "text": [
        "\n",
        "fund_returns_PNYIX"
       ]
      },
      {
       "output_type": "stream",
       "stream": "stdout",
       "text": [
        "\n",
        "fund_returns_PETAX"
       ]
      },
      {
       "output_type": "stream",
       "stream": "stdout",
       "text": [
        "\n",
        "fund_returns_PRTNX"
       ]
      },
      {
       "output_type": "stream",
       "stream": "stdout",
       "text": [
        "\n",
        "fund_returns_PRAIX"
       ]
      },
      {
       "output_type": "stream",
       "stream": "stdout",
       "text": [
        "\n",
        "fund_returns_PTNYX"
       ]
      },
      {
       "output_type": "stream",
       "stream": "stdout",
       "text": [
        "\n",
        "fund_returns_PTYAX"
       ]
      },
      {
       "output_type": "stream",
       "stream": "stdout",
       "text": [
        "\n",
        "fund_returns_PENZX"
       ]
      },
      {
       "output_type": "stream",
       "stream": "stdout",
       "text": [
        "\n",
        "fund_returns_PEHAX"
       ]
      },
      {
       "output_type": "stream",
       "stream": "stdout",
       "text": [
        "\n",
        "fund_returns_PIVAX"
       ]
      },
      {
       "output_type": "stream",
       "stream": "stdout",
       "text": [
        "\n",
        "fund_returns_POFAX"
       ]
      },
      {
       "output_type": "stream",
       "stream": "stdout",
       "text": [
        "\n",
        "fund_returns_PFZAX"
       ]
      },
      {
       "output_type": "stream",
       "stream": "stdout",
       "text": [
        "\n",
        "fund_returns_PFYAX"
       ]
      },
      {
       "output_type": "stream",
       "stream": "stdout",
       "text": [
        "\n",
        "fund_returns_PTNAX"
       ]
      },
      {
       "output_type": "stream",
       "stream": "stdout",
       "text": [
        "\n",
        "fund_returns_PSRZX"
       ]
      },
      {
       "output_type": "stream",
       "stream": "stdout",
       "text": [
        "\n",
        "fund_returns_PAIAX"
       ]
      },
      {
       "output_type": "stream",
       "stream": "stdout",
       "text": [
        "\n",
        "fund_returns_PSDIX"
       ]
      },
      {
       "output_type": "stream",
       "stream": "stdout",
       "text": [
        "\n",
        "fund_returns_PTSHX"
       ]
      },
      {
       "output_type": "stream",
       "stream": "stdout",
       "text": [
        "\n",
        "fund_returns_PCFIX"
       ]
      },
      {
       "output_type": "stream",
       "stream": "stdout",
       "text": [
        "\n",
        "fund_returns_PSCSX"
       ]
      },
      {
       "output_type": "stream",
       "stream": "stdout",
       "text": [
        "\n",
        "fund_returns_PSPTX"
       ]
      },
      {
       "output_type": "stream",
       "stream": "stdout",
       "text": [
        "\n",
        "fund_returns_PSTIX"
       ]
      },
      {
       "output_type": "stream",
       "stream": "stdout",
       "text": [
        "\n",
        "fund_returns_PSTKX"
       ]
      },
      {
       "output_type": "stream",
       "stream": "stdout",
       "text": [
        "\n",
        "fund_returns_PSLDX"
       ]
      },
      {
       "output_type": "stream",
       "stream": "stdout",
       "text": [
        "\n",
        "fund_returns_PTXAX"
       ]
      },
      {
       "output_type": "stream",
       "stream": "stdout",
       "text": [
        "\n",
        "fund_returns_PMBIX"
       ]
      },
      {
       "output_type": "stream",
       "stream": "stdout",
       "text": [
        "\n",
        "fund_returns_PTSAX"
       ]
      },
      {
       "output_type": "stream",
       "stream": "stdout",
       "text": [
        "\n",
        "fund_returns_PTTRX"
       ]
      },
      {
       "output_type": "stream",
       "stream": "stdout",
       "text": [
        "\n",
        "fund_returns_PTUZX"
       ]
      },
      {
       "output_type": "stream",
       "stream": "stdout",
       "text": [
        "\n",
        "fund_returns_PQTAX"
       ]
      },
      {
       "output_type": "stream",
       "stream": "stdout",
       "text": [
        "\n",
        "No Returns Data available for Fund : "
       ]
      },
      {
       "output_type": "stream",
       "stream": "stdout",
       "text": [
        " PQTAX\n",
        "fund_returns_PUBAX\n",
        "fund_returns_ATMAX"
       ]
      },
      {
       "output_type": "stream",
       "stream": "stdout",
       "text": [
        "\n",
        "fund_returns_PWWIX"
       ]
      },
      {
       "output_type": "stream",
       "stream": "stdout",
       "text": [
        "\n",
        "fund_returns_TRAMX"
       ]
      },
      {
       "output_type": "stream",
       "stream": "stdout",
       "text": [
        "\n",
        "fund_returns_PAAOX"
       ]
      },
      {
       "output_type": "stream",
       "stream": "stdout",
       "text": [
        "\n",
        "fund_returns_RPBAX"
       ]
      },
      {
       "output_type": "stream",
       "stream": "stdout",
       "text": [
        "\n",
        "fund_returns_TRBCX"
       ]
      },
      {
       "output_type": "stream",
       "stream": "stdout",
       "text": [
        "\n",
        "fund_returns_PRXCX"
       ]
      },
      {
       "output_type": "stream",
       "stream": "stdout",
       "text": [
        "\n",
        "fund_returns_PRWCX"
       ]
      },
      {
       "output_type": "stream",
       "stream": "stdout",
       "text": [
        "\n",
        "fund_returns_PRCOX"
       ]
      },
      {
       "output_type": "stream",
       "stream": "stdout",
       "text": [
        "\n",
        "fund_returns_PRPIX"
       ]
      },
      {
       "output_type": "stream",
       "stream": "stdout",
       "text": [
        "\n",
        "fund_returns_PAOPX"
       ]
      },
      {
       "output_type": "stream",
       "stream": "stdout",
       "text": [
        "\n",
        "fund_returns_PRDMX"
       ]
      },
      {
       "output_type": "stream",
       "stream": "stdout",
       "text": [
        "\n",
        "fund_returns_PRDSX"
       ]
      },
      {
       "output_type": "stream",
       "stream": "stdout",
       "text": [
        "\n",
        "fund_returns_PRDGX"
       ]
      },
      {
       "output_type": "stream",
       "stream": "stdout",
       "text": [
        "\n",
        "fund_returns_PAELX"
       ]
      },
      {
       "output_type": "stream",
       "stream": "stdout",
       "text": [
        "\n",
        "fund_returns_TREMX"
       ]
      },
      {
       "output_type": "stream",
       "stream": "stdout",
       "text": [
        "\n",
        "fund_returns_PREMX"
       ]
      },
      {
       "output_type": "stream",
       "stream": "stdout",
       "text": [
        "\n",
        "fund_returns_PRMSX"
       ]
      },
      {
       "output_type": "stream",
       "stream": "stdout",
       "text": [
        "\n",
        "fund_returns_PACEX"
       ]
      },
      {
       "output_type": "stream",
       "stream": "stdout",
       "text": [
        "\n",
        "fund_returns_PRFDX"
       ]
      },
      {
       "output_type": "stream",
       "stream": "stdout",
       "text": [
        "\n",
        "fund_returns_PREIX"
       ]
      },
      {
       "output_type": "stream",
       "stream": "stdout",
       "text": [
        "\n",
        "fund_returns_PRESX"
       ]
      },
      {
       "output_type": "stream",
       "stream": "stdout",
       "text": [
        "\n",
        "fund_returns_PEXMX"
       ]
      },
      {
       "output_type": "stream",
       "stream": "stdout",
       "text": [
        "\n",
        "fund_returns_PRISX"
       ]
      },
      {
       "output_type": "stream",
       "stream": "stdout",
       "text": [
        "\n",
        "fund_returns_PAFRX"
       ]
      },
      {
       "output_type": "stream",
       "stream": "stdout",
       "text": [
        "\n",
        "fund_returns_GTFBX"
       ]
      },
      {
       "output_type": "stream",
       "stream": "stdout",
       "text": [
        "\n",
        "fund_returns_PAGLX"
       ]
      },
      {
       "output_type": "stream",
       "stream": "stdout",
       "text": [
        "\n",
        "fund_returns_PAFGX"
       ]
      },
      {
       "output_type": "stream",
       "stream": "stdout",
       "text": [
        "\n",
        "fund_returns_RPGIX"
       ]
      },
      {
       "output_type": "stream",
       "stream": "stdout",
       "text": [
        "\n",
        "fund_returns_PAGEX"
       ]
      },
      {
       "output_type": "stream",
       "stream": "stdout",
       "text": [
        "\n",
        "fund_returns_PRGSX"
       ]
      },
      {
       "output_type": "stream",
       "stream": "stdout",
       "text": [
        "\n",
        "fund_returns_PRGTX"
       ]
      },
      {
       "output_type": "stream",
       "stream": "stdout",
       "text": [
        "\n",
        "fund_returns_PRGMX"
       ]
      },
      {
       "output_type": "stream",
       "stream": "stdout",
       "text": [
        "\n",
        "fund_returns_PRGIX"
       ]
      },
      {
       "output_type": "stream",
       "stream": "stdout",
       "text": [
        "\n",
        "fund_returns_PRGFX"
       ]
      },
      {
       "output_type": "stream",
       "stream": "stdout",
       "text": [
        "\n",
        "fund_returns_PRHSX"
       ]
      },
      {
       "output_type": "stream",
       "stream": "stdout",
       "text": [
        "\n",
        "fund_returns_PRHYX"
       ]
      },
      {
       "output_type": "stream",
       "stream": "stdout",
       "text": [
        "\n",
        "fund_returns_PRIPX"
       ]
      },
      {
       "output_type": "stream",
       "stream": "stdout",
       "text": [
        "\n",
        "fund_returns_TRIAX"
       ]
      },
      {
       "output_type": "stream",
       "stream": "stdout",
       "text": [
        "\n",
        "fund_returns_RPICX"
       ]
      },
      {
       "output_type": "stream",
       "stream": "stdout",
       "text": [
        "\n",
        "fund_returns_TRXPX"
       ]
      },
      {
       "output_type": "stream",
       "stream": "stdout",
       "text": [
        "\n",
        "fund_returns_TICPX"
       ]
      },
      {
       "output_type": "stream",
       "stream": "stdout",
       "text": [
        "\n",
        "fund_returns_TREBX"
       ]
      },
      {
       "output_type": "stream",
       "stream": "stdout",
       "text": [
        "\n",
        "fund_returns_IEMFX"
       ]
      },
      {
       "output_type": "stream",
       "stream": "stdout",
       "text": [
        "\n",
        "fund_returns_RPIFX"
       ]
      },
      {
       "output_type": "stream",
       "stream": "stdout",
       "text": [
        "\n",
        "fund_returns_TRGSX"
       ]
      },
      {
       "output_type": "stream",
       "stream": "stdout",
       "text": [
        "\n",
        "fund_returns_RPIGX"
       ]
      },
      {
       "output_type": "stream",
       "stream": "stdout",
       "text": [
        "\n",
        "fund_returns_RPGMX"
       ]
      },
      {
       "output_type": "stream",
       "stream": "stdout",
       "text": [
        "\n",
        "fund_returns_PRIGX"
       ]
      },
      {
       "output_type": "stream",
       "stream": "stdout",
       "text": [
        "\n",
        "fund_returns_TRHYX"
       ]
      },
      {
       "output_type": "stream",
       "stream": "stdout",
       "text": [
        "\n",
        "fund_returns_RPIIX"
       ]
      },
      {
       "output_type": "stream",
       "stream": "stdout",
       "text": [
        "\n",
        "fund_returns_TRCEX"
       ]
      },
      {
       "output_type": "stream",
       "stream": "stdout",
       "text": [
        "\n",
        "fund_returns_PRFEX"
       ]
      },
      {
       "output_type": "stream",
       "stream": "stdout",
       "text": [
        "\n",
        "fund_returns_TPLGX"
       ]
      },
      {
       "output_type": "stream",
       "stream": "stdout",
       "text": [
        "\n",
        "fund_returns_TRLGX"
       ]
      },
      {
       "output_type": "stream",
       "stream": "stdout",
       "text": [
        "\n",
        "fund_returns_TILCX"
       ]
      },
      {
       "output_type": "stream",
       "stream": "stdout",
       "text": [
        "\n",
        "fund_returns_RPLCX"
       ]
      },
      {
       "output_type": "stream",
       "stream": "stdout",
       "text": [
        "\n",
        "fund_returns_PMEGX"
       ]
      },
      {
       "output_type": "stream",
       "stream": "stdout",
       "text": [
        "\n",
        "fund_returns_TRSSX"
       ]
      },
      {
       "output_type": "stream",
       "stream": "stdout",
       "text": [
        "\n",
        "fund_returns_TRISX"
       ]
      },
      {
       "output_type": "stream",
       "stream": "stdout",
       "text": [
        "\n",
        "fund_returns_RPIBX"
       ]
      },
      {
       "output_type": "stream",
       "stream": "stdout",
       "text": [
        "\n",
        "fund_returns_PRIDX"
       ]
      },
      {
       "output_type": "stream",
       "stream": "stdout",
       "text": [
        "\n",
        "fund_returns_PIEQX"
       ]
      },
      {
       "output_type": "stream",
       "stream": "stdout",
       "text": [
        "\n",
        "fund_returns_PRITX"
       ]
      },
      {
       "output_type": "stream",
       "stream": "stdout",
       "text": [
        "\n",
        "fund_returns_TRIGX"
       ]
      },
      {
       "output_type": "stream",
       "stream": "stdout",
       "text": [
        "\n",
        "fund_returns_PRJPX"
       ]
      },
      {
       "output_type": "stream",
       "stream": "stdout",
       "text": [
        "\n",
        "fund_returns_PRLAX"
       ]
      },
      {
       "output_type": "stream",
       "stream": "stdout",
       "text": [
        "\n",
        "fund_returns_PRMDX"
       ]
      },
      {
       "output_type": "stream",
       "stream": "stdout",
       "text": [
        "\n",
        "fund_returns_MDXBX"
       ]
      },
      {
       "output_type": "stream",
       "stream": "stdout",
       "text": [
        "\n",
        "fund_returns_PRMTX"
       ]
      },
      {
       "output_type": "stream",
       "stream": "stdout",
       "text": [
        "\n",
        "fund_returns_RPMGX"
       ]
      },
      {
       "output_type": "stream",
       "stream": "stdout",
       "text": [
        "\n",
        "fund_returns_TRMCX"
       ]
      },
      {
       "output_type": "stream",
       "stream": "stdout",
       "text": [
        "\n",
        "fund_returns_PRWAX"
       ]
      },
      {
       "output_type": "stream",
       "stream": "stdout",
       "text": [
        "\n",
        "fund_returns_PRASX"
       ]
      },
      {
       "output_type": "stream",
       "stream": "stdout",
       "text": [
        "\n",
        "fund_returns_PRNEX"
       ]
      },
      {
       "output_type": "stream",
       "stream": "stdout",
       "text": [
        "\n",
        "fund_returns_PRNHX"
       ]
      },
      {
       "output_type": "stream",
       "stream": "stdout",
       "text": [
        "\n",
        "fund_returns_PRCIX"
       ]
      },
      {
       "output_type": "stream",
       "stream": "stdout",
       "text": [
        "\n",
        "fund_returns_NJTFX"
       ]
      },
      {
       "output_type": "stream",
       "stream": "stdout",
       "text": [
        "\n",
        "fund_returns_PRNYX"
       ]
      },
      {
       "output_type": "stream",
       "stream": "stdout",
       "text": [
        "\n",
        "fund_returns_TROSX"
       ]
      },
      {
       "output_type": "stream",
       "stream": "stdout",
       "text": [
        "\n",
        "fund_returns_TRPBX"
       ]
      },
      {
       "output_type": "stream",
       "stream": "stdout",
       "text": [
        "\n",
        "fund_returns_TRSGX"
       ]
      },
      {
       "output_type": "stream",
       "stream": "stdout",
       "text": [
        "\n",
        "fund_returns_PRSIX"
       ]
      },
      {
       "output_type": "stream",
       "stream": "stdout",
       "text": [
        "\n",
        "fund_returns_PRAFX"
       ]
      },
      {
       "output_type": "stream",
       "stream": "stdout",
       "text": [
        "\n",
        "fund_returns_TRREX"
       ]
      },
      {
       "output_type": "stream",
       "stream": "stdout",
       "text": [
        "\n",
        "fund_returns_TRRFX"
       ]
      },
      {
       "output_type": "stream",
       "stream": "stdout",
       "text": [
        "\n",
        "fund_returns_TRRAX"
       ]
      },
      {
       "output_type": "stream",
       "stream": "stdout",
       "text": [
        "\n",
        "fund_returns_TRRGX"
       ]
      },
      {
       "output_type": "stream",
       "stream": "stdout",
       "text": [
        "\n",
        "fund_returns_TRRBX"
       ]
      },
      {
       "output_type": "stream",
       "stream": "stdout",
       "text": [
        "\n",
        "fund_returns_TRRHX"
       ]
      },
      {
       "output_type": "stream",
       "stream": "stdout",
       "text": [
        "\n",
        "fund_returns_TRRCX"
       ]
      },
      {
       "output_type": "stream",
       "stream": "stdout",
       "text": [
        "\n",
        "fund_returns_TRRJX"
       ]
      },
      {
       "output_type": "stream",
       "stream": "stdout",
       "text": [
        "\n",
        "fund_returns_TRRDX"
       ]
      },
      {
       "output_type": "stream",
       "stream": "stdout",
       "text": [
        "\n",
        "fund_returns_TRRKX"
       ]
      },
      {
       "output_type": "stream",
       "stream": "stdout",
       "text": [
        "\n",
        "fund_returns_PARFX"
       ]
      },
      {
       "output_type": "stream",
       "stream": "stdout",
       "text": [
        "\n",
        "fund_returns_TRRNX"
       ]
      },
      {
       "output_type": "stream",
       "stream": "stdout",
       "text": [
        "\n",
        "fund_returns_TRRYX"
       ]
      },
      {
       "output_type": "stream",
       "stream": "stdout",
       "text": [
        "\n",
        "fund_returns_TRRIX"
       ]
      },
      {
       "output_type": "stream",
       "stream": "stdout",
       "text": [
        "\n",
        "fund_returns_PRSCX"
       ]
      },
      {
       "output_type": "stream",
       "stream": "stdout",
       "text": [
        "\n",
        "fund_returns_PRWBX"
       ]
      },
      {
       "output_type": "stream",
       "stream": "stdout",
       "text": [
        "\n",
        "fund_returns_OTCFX"
       ]
      },
      {
       "output_type": "stream",
       "stream": "stdout",
       "text": [
        "\n",
        "fund_returns_PRSVX"
       ]
      },
      {
       "output_type": "stream",
       "stream": "stdout",
       "text": [
        "\n",
        "fund_returns_PRSGX"
       ]
      },
      {
       "output_type": "stream",
       "stream": "stdout",
       "text": [
        "\n",
        "fund_returns_RPSIX"
       ]
      },
      {
       "output_type": "stream",
       "stream": "stdout",
       "text": [
        "\n",
        "fund_returns_PSILX"
       ]
      },
      {
       "output_type": "stream",
       "stream": "stdout",
       "text": [
        "\n",
        "fund_returns_PRSAX"
       ]
      },
      {
       "output_type": "stream",
       "stream": "stdout",
       "text": [
        "\n",
        "fund_returns_PRINX"
       ]
      },
      {
       "output_type": "stream",
       "stream": "stdout",
       "text": [
        "\n",
        "fund_returns_PRSMX"
       ]
      },
      {
       "output_type": "stream",
       "stream": "stdout",
       "text": [
        "\n",
        "fund_returns_PANRX"
       ]
      },
      {
       "output_type": "stream",
       "stream": "stdout",
       "text": [
        "\n",
        "fund_returns_PAERX"
       ]
      },
      {
       "output_type": "stream",
       "stream": "stdout",
       "text": [
        "\n",
        "fund_returns_PAHRX"
       ]
      },
      {
       "output_type": "stream",
       "stream": "stdout",
       "text": [
        "\n",
        "fund_returns_PAIRX"
       ]
      },
      {
       "output_type": "stream",
       "stream": "stdout",
       "text": [
        "\n",
        "fund_returns_PAJRX"
       ]
      },
      {
       "output_type": "stream",
       "stream": "stdout",
       "text": [
        "\n",
        "fund_returns_PAKRX"
       ]
      },
      {
       "output_type": "stream",
       "stream": "stdout",
       "text": [
        "\n",
        "fund_returns_PATVX"
       ]
      },
      {
       "output_type": "stream",
       "stream": "stdout",
       "text": [
        "\n",
        "fund_returns_PAHHX"
       ]
      },
      {
       "output_type": "stream",
       "stream": "stdout",
       "text": [
        "\n",
        "fund_returns_PAFFX"
       ]
      },
      {
       "output_type": "stream",
       "stream": "stdout",
       "text": [
        "\n",
        "fund_returns_PAOFX"
       ]
      },
      {
       "output_type": "stream",
       "stream": "stdout",
       "text": [
        "\n",
        "fund_returns_PAFTX"
       ]
      },
      {
       "output_type": "stream",
       "stream": "stdout",
       "text": [
        "\n",
        "fund_returns_TRTGX"
       ]
      },
      {
       "output_type": "stream",
       "stream": "stdout",
       "text": [
        "\n",
        "fund_returns_PREFX"
       ]
      },
      {
       "output_type": "stream",
       "stream": "stdout",
       "text": [
        "\n",
        "fund_returns_PRFHX"
       ]
      },
      {
       "output_type": "stream",
       "stream": "stdout",
       "text": [
        "\n",
        "fund_returns_PRTAX"
       ]
      },
      {
       "output_type": "stream",
       "stream": "stdout",
       "text": [
        "\n",
        "fund_returns_PRFSX"
       ]
      },
      {
       "output_type": "stream",
       "stream": "stdout",
       "text": [
        "\n",
        "fund_returns_POMIX"
       ]
      },
      {
       "output_type": "stream",
       "stream": "stdout",
       "text": [
        "\n",
        "fund_returns_PBDIX"
       ]
      },
      {
       "output_type": "stream",
       "stream": "stdout",
       "text": [
        "\n",
        "fund_returns_TRBUX"
       ]
      },
      {
       "output_type": "stream",
       "stream": "stdout",
       "text": [
        "\n",
        "fund_returns_PAULX"
       ]
      },
      {
       "output_type": "stream",
       "stream": "stdout",
       "text": [
        "\n",
        "fund_returns_PRTIX"
       ]
      },
      {
       "output_type": "stream",
       "stream": "stdout",
       "text": [
        "\n",
        "fund_returns_PRULX"
       ]
      },
      {
       "output_type": "stream",
       "stream": "stdout",
       "text": [
        "\n",
        "fund_returns_PRVAX"
       ]
      },
      {
       "output_type": "stream",
       "stream": "stdout",
       "text": [
        "\n",
        "fund_returns_TRVLX"
       ]
      },
      {
       "output_type": "stream",
       "stream": "stdout",
       "text": [
        "\n",
        "fund_returns_JASAX"
       ]
      },
      {
       "output_type": "stream",
       "stream": "stdout",
       "text": [
        "\n",
        "fund_returns_JAPFX"
       ]
      },
      {
       "output_type": "stream",
       "stream": "stdout",
       "text": [
        "\n",
        "fund_returns_JPICX"
       ]
      },
      {
       "output_type": "stream",
       "stream": "stdout",
       "text": [
        "\n",
        "fund_returns_JCHAX"
       ]
      },
      {
       "output_type": "stream",
       "stream": "stdout",
       "text": [
        "\n",
        "fund_returns_CSAFX"
       ]
      },
      {
       "output_type": "stream",
       "stream": "stdout",
       "text": [
        "\n",
        "fund_returns_WOBDX"
       ]
      },
      {
       "output_type": "stream",
       "stream": "stdout",
       "text": [
        "\n",
        "fund_returns_ONIAX"
       ]
      },
      {
       "output_type": "stream",
       "stream": "stdout",
       "text": [
        "\n",
        "fund_returns_CBRAX"
       ]
      },
      {
       "output_type": "stream",
       "stream": "stdout",
       "text": [
        "\n",
        "fund_returns_JPCIX"
       ]
      },
      {
       "output_type": "stream",
       "stream": "stdout",
       "text": [
        "\n",
        "fund_returns_JPIEX"
       ]
      },
      {
       "output_type": "stream",
       "stream": "stdout",
       "text": [
        "\n",
        "fund_returns_JPDVX"
       ]
      },
      {
       "output_type": "stream",
       "stream": "stdout",
       "text": [
        "\n",
        "fund_returns_JRNAX"
       ]
      },
      {
       "output_type": "stream",
       "stream": "stdout",
       "text": [
        "\n",
        "fund_returns_DGAAX"
       ]
      },
      {
       "output_type": "stream",
       "stream": "stdout",
       "text": [
        "\n",
        "fund_returns_VSCOX"
       ]
      },
      {
       "output_type": "stream",
       "stream": "stdout",
       "text": [
        "\n",
        "fund_returns_JEEAX"
       ]
      },
      {
       "output_type": "stream",
       "stream": "stdout",
       "text": [
        "\n",
        "fund_returns_JEMDX"
       ]
      },
      {
       "output_type": "stream",
       "stream": "stdout",
       "text": [
        "\n",
        "fund_returns_JMIEX"
       ]
      },
      {
       "output_type": "stream",
       "stream": "stdout",
       "text": [
        "\n",
        "fund_returns_JECAX"
       ]
      },
      {
       "output_type": "stream",
       "stream": "stdout",
       "text": [
        "\n",
        "fund_returns_JPFAX"
       ]
      },
      {
       "output_type": "stream",
       "stream": "stdout",
       "text": [
        "\n",
        "fund_returns_HLIEX"
       ]
      },
      {
       "output_type": "stream",
       "stream": "stdout",
       "text": [
        "\n",
        "fund_returns_HLEIX"
       ]
      },
      {
       "output_type": "stream",
       "stream": "stdout",
       "text": [
        "\n",
        "fund_returns_JPHAX"
       ]
      },
      {
       "output_type": "stream",
       "stream": "stdout",
       "text": [
        "\n",
        "fund_returns_GAOAX"
       ]
      },
      {
       "output_type": "stream",
       "stream": "stdout",
       "text": [
        "\n",
        "fund_returns_GBOAX"
       ]
      },
      {
       "output_type": "stream",
       "stream": "stdout",
       "text": [
        "\n",
        "fund_returns_JEIAX"
       ]
      },
      {
       "output_type": "stream",
       "stream": "stdout",
       "text": [
        "\n",
        "fund_returns_JGNAX"
       ]
      },
      {
       "output_type": "stream",
       "stream": "stdout",
       "text": [
        "\n",
        "fund_returns_JEITX"
       ]
      },
      {
       "output_type": "stream",
       "stream": "stdout",
       "text": [
        "\n",
        "fund_returns_HLGAX"
       ]
      },
      {
       "output_type": "stream",
       "stream": "stdout",
       "text": [
        "\n",
        "fund_returns_VGRIX"
       ]
      },
      {
       "output_type": "stream",
       "stream": "stdout",
       "text": [
        "\n",
        "fund_returns_VHIAX"
       ]
      },
      {
       "output_type": "stream",
       "stream": "stdout",
       "text": [
        "\n",
        "fund_returns_OHYAX"
       ]
      },
      {
       "output_type": "stream",
       "stream": "stdout",
       "text": [
        "\n",
        "fund_returns_JNBAX"
       ]
      },
      {
       "output_type": "stream",
       "stream": "stdout",
       "text": [
        "\n",
        "fund_returns_JIMAX"
       ]
      },
      {
       "output_type": "stream",
       "stream": "stdout",
       "text": [
        "\n",
        "fund_returns_VSITX"
       ]
      },
      {
       "output_type": "stream",
       "stream": "stdout",
       "text": [
        "\n",
        "fund_returns_JCIAX"
       ]
      },
      {
       "output_type": "stream",
       "stream": "stdout",
       "text": [
        "\n",
        "fund_returns_VSIEX"
       ]
      },
      {
       "output_type": "stream",
       "stream": "stdout",
       "text": [
        "\n",
        "fund_returns_OIEAX"
       ]
      },
      {
       "output_type": "stream",
       "stream": "stdout",
       "text": [
        "\n",
        "fund_returns_IUAEX"
       ]
      },
      {
       "output_type": "stream",
       "stream": "stdout",
       "text": [
        "\n",
        "fund_returns_JNUSX"
       ]
      },
      {
       "output_type": "stream",
       "stream": "stdout",
       "text": [
        "\n",
        "fund_returns_JPIOX"
       ]
      },
      {
       "output_type": "stream",
       "stream": "stdout",
       "text": [
        "\n",
        "fund_returns_JIISX"
       ]
      },
      {
       "output_type": "stream",
       "stream": "stdout",
       "text": [
        "\n",
        "fund_returns_JPIAX"
       ]
      },
      {
       "output_type": "stream",
       "stream": "stdout",
       "text": [
        "\n",
        "fund_returns_VEUAX"
       ]
      },
      {
       "output_type": "stream",
       "stream": "stdout",
       "text": [
        "\n",
        "fund_returns_JPGSX"
       ]
      },
      {
       "output_type": "stream",
       "stream": "stdout",
       "text": [
        "\n",
        "fund_returns_JFTAX"
       ]
      },
      {
       "output_type": "stream",
       "stream": "stdout",
       "text": [
        "\n",
        "fund_returns_WOOPX"
       ]
      },
      {
       "output_type": "stream",
       "stream": "stdout",
       "text": [
        "\n",
        "fund_returns_JPIVX"
       ]
      },
      {
       "output_type": "stream",
       "stream": "stdout",
       "text": [
        "\n",
        "fund_returns_OGIAX"
       ]
      },
      {
       "output_type": "stream",
       "stream": "stdout",
       "text": [
        "\n",
        "fund_returns_OICAX"
       ]
      },
      {
       "output_type": "stream",
       "stream": "stdout",
       "text": [
        "\n",
        "fund_returns_ONGIX"
       ]
      },
      {
       "output_type": "stream",
       "stream": "stdout",
       "text": [
        "\n",
        "fund_returns_ONGAX"
       ]
      },
      {
       "output_type": "stream",
       "stream": "stdout",
       "text": [
        "\n",
        "fund_returns_SEEGX"
       ]
      },
      {
       "output_type": "stream",
       "stream": "stdout",
       "text": [
        "\n",
        "fund_returns_HLQVX"
       ]
      },
      {
       "output_type": "stream",
       "stream": "stdout",
       "text": [
        "\n",
        "fund_returns_JLTAX"
       ]
      },
      {
       "output_type": "stream",
       "stream": "stdout",
       "text": [
        "\n",
        "fund_returns_HLGFX"
       ]
      },
      {
       "output_type": "stream",
       "stream": "stdout",
       "text": [
        "\n",
        "fund_returns_JMGIX"
       ]
      },
      {
       "output_type": "stream",
       "stream": "stdout",
       "text": [
        "\n",
        "fund_returns_OMEAX"
       ]
      },
      {
       "output_type": "stream",
       "stream": "stdout",
       "text": [
        "\n",
        "No Returns Data available for Fund : "
       ]
      },
      {
       "output_type": "stream",
       "stream": "stdout",
       "text": [
        " OMEAX\n",
        "fund_returns_HSKAX\n",
        "fund_returns_VSNGX"
       ]
      },
      {
       "output_type": "stream",
       "stream": "stdout",
       "text": [
        "\n",
        "fund_returns_HLGEX"
       ]
      },
      {
       "output_type": "stream",
       "stream": "stdout",
       "text": [
        "\n",
        "fund_returns_FLMVX"
       ]
      },
      {
       "output_type": "stream",
       "stream": "stdout",
       "text": [
        "\n",
        "fund_returns_OMBAX"
       ]
      },
      {
       "output_type": "stream",
       "stream": "stdout",
       "text": [
        "\n",
        "fund_returns_OGNAX"
       ]
      },
      {
       "output_type": "stream",
       "stream": "stdout",
       "text": [
        "\n",
        "fund_returns_JSIAX"
       ]
      },
      {
       "output_type": "stream",
       "stream": "stdout",
       "text": [
        "\n",
        "fund_returns_HLTAX"
       ]
      },
      {
       "output_type": "stream",
       "stream": "stdout",
       "text": [
        "\n",
        "fund_returns_VINTX"
       ]
      },
      {
       "output_type": "stream",
       "stream": "stdout",
       "text": [
        "\n",
        "fund_returns_HLOMX"
       ]
      },
      {
       "output_type": "stream",
       "stream": "stdout",
       "text": [
        "\n",
        "fund_returns_RRNAX"
       ]
      },
      {
       "output_type": "stream",
       "stream": "stdout",
       "text": [
        "\n",
        "fund_returns_URTLX"
       ]
      },
      {
       "output_type": "stream",
       "stream": "stdout",
       "text": [
        "\n",
        "fund_returns_JLSAX"
       ]
      },
      {
       "output_type": "stream",
       "stream": "stdout",
       "text": [
        "\n",
        "fund_returns_JPMNX"
       ]
      },
      {
       "output_type": "stream",
       "stream": "stdout",
       "text": [
        "\n",
        "fund_returns_CEEAX"
       ]
      },
      {
       "output_type": "stream",
       "stream": "stdout",
       "text": [
        "\n",
        "fund_returns_HLLVX"
       ]
      },
      {
       "output_type": "stream",
       "stream": "stdout",
       "text": [
        "\n",
        "fund_returns_JSDHX"
       ]
      },
      {
       "output_type": "stream",
       "stream": "stdout",
       "text": [
        "\n",
        "fund_returns_OSTAX"
       ]
      },
      {
       "output_type": "stream",
       "stream": "stdout",
       "text": [
        "\n",
        "fund_returns_VSSCX"
       ]
      },
      {
       "output_type": "stream",
       "stream": "stdout",
       "text": [
        "\n",
        "fund_returns_VSEAX"
       ]
      },
      {
       "output_type": "stream",
       "stream": "stdout",
       "text": [
        "\n",
        "fund_returns_PGSGX"
       ]
      },
      {
       "output_type": "stream",
       "stream": "stdout",
       "text": [
        "\n",
        "fund_returns_PSOAX"
       ]
      },
      {
       "output_type": "stream",
       "stream": "stdout",
       "text": [
        "\n",
        "fund_returns_SAEAX"
       ]
      },
      {
       "output_type": "stream",
       "stream": "stdout",
       "text": [
        "\n",
        "fund_returns_SAIAX"
       ]
      },
      {
       "output_type": "stream",
       "stream": "stdout",
       "text": [
        "\n",
        "fund_returns_JSFAX"
       ]
      },
      {
       "output_type": "stream",
       "stream": "stdout",
       "text": [
        "\n",
        "fund_returns_JTTAX"
       ]
      },
      {
       "output_type": "stream",
       "stream": "stdout",
       "text": [
        "\n",
        "fund_returns_JNSAX"
       ]
      },
      {
       "output_type": "stream",
       "stream": "stdout",
       "text": [
        "\n",
        "fund_returns_JSMAX"
       ]
      },
      {
       "output_type": "stream",
       "stream": "stdout",
       "text": [
        "\n",
        "fund_returns_SRJAX"
       ]
      },
      {
       "output_type": "stream",
       "stream": "stdout",
       "text": [
        "\n",
        "fund_returns_SMTAX"
       ]
      },
      {
       "output_type": "stream",
       "stream": "stdout",
       "text": [
        "\n",
        "fund_returns_JSAAX"
       ]
      },
      {
       "output_type": "stream",
       "stream": "stdout",
       "text": [
        "\n",
        "fund_returns_JTSAX"
       ]
      },
      {
       "output_type": "stream",
       "stream": "stdout",
       "text": [
        "\n",
        "fund_returns_JFFAX"
       ]
      },
      {
       "output_type": "stream",
       "stream": "stdout",
       "text": [
        "\n",
        "fund_returns_JSBWX"
       ]
      },
      {
       "output_type": "stream",
       "stream": "stdout",
       "text": [
        "\n",
        "fund_returns_JBSRX"
       ]
      },
      {
       "output_type": "stream",
       "stream": "stdout",
       "text": [
        "\n",
        "fund_returns_JBBSX"
       ]
      },
      {
       "output_type": "stream",
       "stream": "stdout",
       "text": [
        "\n",
        "fund_returns_JRBBX"
       ]
      },
      {
       "output_type": "stream",
       "stream": "stdout",
       "text": [
        "\n",
        "fund_returns_JPBRX"
       ]
      },
      {
       "output_type": "stream",
       "stream": "stdout",
       "text": [
        "\n",
        "fund_returns_JOBBX"
       ]
      },
      {
       "output_type": "stream",
       "stream": "stdout",
       "text": [
        "\n",
        "fund_returns_JMBRX"
       ]
      },
      {
       "output_type": "stream",
       "stream": "stdout",
       "text": [
        "\n",
        "fund_returns_JNABX"
       ]
      },
      {
       "output_type": "stream",
       "stream": "stdout",
       "text": [
        "\n",
        "fund_returns_JTBBX"
       ]
      },
      {
       "output_type": "stream",
       "stream": "stdout",
       "text": [
        "\n",
        "fund_returns_JIBBX"
       ]
      },
      {
       "output_type": "stream",
       "stream": "stdout",
       "text": [
        "\n",
        "fund_returns_JSRAX"
       ]
      },
      {
       "output_type": "stream",
       "stream": "stdout",
       "text": [
        "\n",
        "fund_returns_JSOAX"
       ]
      },
      {
       "output_type": "stream",
       "stream": "stdout",
       "text": [
        "\n",
        "fund_returns_JPDEX"
       ]
      },
      {
       "output_type": "stream",
       "stream": "stdout",
       "text": [
        "\n",
        "fund_returns_JTIAX"
       ]
      },
      {
       "output_type": "stream",
       "stream": "stdout",
       "text": [
        "\n",
        "fund_returns_JTAAX"
       ]
      },
      {
       "output_type": "stream",
       "stream": "stdout",
       "text": [
        "\n",
        "fund_returns_TXRAX"
       ]
      },
      {
       "output_type": "stream",
       "stream": "stdout",
       "text": [
        "\n",
        "fund_returns_JTARX"
       ]
      },
      {
       "output_type": "stream",
       "stream": "stdout",
       "text": [
        "\n",
        "fund_returns_PMBAX"
       ]
      },
      {
       "output_type": "stream",
       "stream": "stdout",
       "text": [
        "\n",
        "fund_returns_TMGGX"
       ]
      },
      {
       "output_type": "stream",
       "stream": "stdout",
       "text": [
        "\n",
        "fund_returns_JMTAX"
       ]
      },
      {
       "output_type": "stream",
       "stream": "stdout",
       "text": [
        "\n",
        "fund_returns_OTABX"
       ]
      },
      {
       "output_type": "stream",
       "stream": "stdout",
       "text": [
        "\n",
        "fund_returns_JPSAX"
       ]
      },
      {
       "output_type": "stream",
       "stream": "stdout",
       "text": [
        "\n",
        "fund_returns_JMUEX"
       ]
      },
      {
       "output_type": "stream",
       "stream": "stdout",
       "text": [
        "\n",
        "fund_returns_JLCAX"
       ]
      },
      {
       "output_type": "stream",
       "stream": "stdout",
       "text": [
        "\n",
        "fund_returns_JEPAX"
       ]
      },
      {
       "output_type": "stream",
       "stream": "stdout",
       "text": [
        "\n",
        "fund_returns_JUSSX"
       ]
      },
      {
       "output_type": "stream",
       "stream": "stdout",
       "text": [
        "\n",
        "fund_returns_JVAAX"
       ]
      },
      {
       "output_type": "stream",
       "stream": "stdout",
       "text": [
        "\n",
        "fund_returns_UBVLX"
       ]
      },
      {
       "output_type": "stream",
       "stream": "stdout",
       "text": [
        "\n",
        "fund_returns_FFIDX"
       ]
      },
      {
       "output_type": "stream",
       "stream": "stdout",
       "text": [
        "\n",
        "fund_returns_FTAAX"
       ]
      },
      {
       "output_type": "stream",
       "stream": "stdout",
       "text": [
        "\n",
        "fund_returns_FFNAX"
       ]
      },
      {
       "output_type": "stream",
       "stream": "stdout",
       "text": [
        "\n",
        "fund_returns_FSAAX"
       ]
      },
      {
       "output_type": "stream",
       "stream": "stdout",
       "text": [
        "\n",
        "fund_returns_FFAVX"
       ]
      },
      {
       "output_type": "stream",
       "stream": "stdout",
       "text": [
        "\n",
        "fund_returns_FACFX"
       ]
      },
      {
       "output_type": "stream",
       "stream": "stdout",
       "text": [
        "\n",
        "fund_returns_FFVAX"
       ]
      },
      {
       "output_type": "stream",
       "stream": "stdout",
       "text": [
        "\n",
        "fund_returns_FDAFX"
       ]
      },
      {
       "output_type": "stream",
       "stream": "stdout",
       "text": [
        "\n",
        "fund_returns_FATWX"
       ]
      },
      {
       "output_type": "stream",
       "stream": "stdout",
       "text": [
        "\n",
        "fund_returns_FAFEX"
       ]
      },
      {
       "output_type": "stream",
       "stream": "stdout",
       "text": [
        "\n",
        "fund_returns_FATHX"
       ]
      },
      {
       "output_type": "stream",
       "stream": "stdout",
       "text": [
        "\n",
        "fund_returns_FAFFX"
       ]
      },
      {
       "output_type": "stream",
       "stream": "stdout",
       "text": [
        "\n",
        "fund_returns_FFFZX"
       ]
      },
      {
       "output_type": "stream",
       "stream": "stdout",
       "text": [
        "\n",
        "fund_returns_FFFLX"
       ]
      },
      {
       "output_type": "stream",
       "stream": "stdout",
       "text": [
        "\n",
        "fund_returns_FHFAX"
       ]
      },
      {
       "output_type": "stream",
       "stream": "stdout",
       "text": [
        "\n",
        "fund_returns_FAFAX"
       ]
      },
      {
       "output_type": "stream",
       "stream": "stdout",
       "text": [
        "\n",
        "fund_returns_FRJAX"
       ]
      },
      {
       "output_type": "stream",
       "stream": "stdout",
       "text": [
        "\n",
        "fund_returns_FRKAX"
       ]
      },
      {
       "output_type": "stream",
       "stream": "stdout",
       "text": [
        "\n",
        "fund_returns_FILAX"
       ]
      },
      {
       "output_type": "stream",
       "stream": "stdout",
       "text": [
        "\n",
        "fund_returns_FRAMX"
       ]
      },
      {
       "output_type": "stream",
       "stream": "stdout",
       "text": [
        "\n",
        "fund_returns_FRNAX"
       ]
      },
      {
       "output_type": "stream",
       "stream": "stdout",
       "text": [
        "\n",
        "fund_returns_FIOAX"
       ]
      },
      {
       "output_type": "stream",
       "stream": "stdout",
       "text": [
        "\n",
        "fund_returns_FARPX"
       ]
      },
      {
       "output_type": "stream",
       "stream": "stdout",
       "text": [
        "\n",
        "fund_returns_FRQAX"
       ]
      },
      {
       "output_type": "stream",
       "stream": "stdout",
       "text": [
        "\n",
        "fund_returns_FIARX"
       ]
      },
      {
       "output_type": "stream",
       "stream": "stdout",
       "text": [
        "\n",
        "fund_returns_FARSX"
       ]
      },
      {
       "output_type": "stream",
       "stream": "stdout",
       "text": [
        "\n",
        "fund_returns_FURAX"
       ]
      },
      {
       "output_type": "stream",
       "stream": "stdout",
       "text": [
        "\n",
        "fund_returns_FARVX"
       ]
      },
      {
       "output_type": "stream",
       "stream": "stdout",
       "text": [
        "\n",
        "fund_returns_FARWX"
       ]
      },
      {
       "output_type": "stream",
       "stream": "stdout",
       "text": [
        "\n",
        "fund_returns_FARFX"
       ]
      },
      {
       "output_type": "stream",
       "stream": "stdout",
       "text": [
        "\n",
        "fund_returns_FAIGX"
       ]
      },
      {
       "output_type": "stream",
       "stream": "stdout",
       "text": [
        "\n",
        "fund_returns_FBTAX"
       ]
      },
      {
       "output_type": "stream",
       "stream": "stdout",
       "text": [
        "\n",
        "fund_returns_FDETX"
       ]
      },
      {
       "output_type": "stream",
       "stream": "stdout",
       "text": [
        "\n",
        "fund_returns_FDMAX"
       ]
      },
      {
       "output_type": "stream",
       "stream": "stdout",
       "text": [
        "\n",
        "fund_returns_FCNAX"
       ]
      },
      {
       "output_type": "stream",
       "stream": "stdout",
       "text": [
        "\n",
        "fund_returns_FCBAX"
       ]
      },
      {
       "output_type": "stream",
       "stream": "stdout",
       "text": [
        "\n",
        "fund_returns_FDVAX"
       ]
      },
      {
       "output_type": "stream",
       "stream": "stdout",
       "text": [
        "\n",
        "fund_returns_FDESX"
       ]
      },
      {
       "output_type": "stream",
       "stream": "stdout",
       "text": [
        "\n",
        "fund_returns_FADAX"
       ]
      },
      {
       "output_type": "stream",
       "stream": "stdout",
       "text": [
        "\n",
        "fund_returns_FELAX"
       ]
      },
      {
       "output_type": "stream",
       "stream": "stdout",
       "text": [
        "\n",
        "fund_returns_FMEAX"
       ]
      },
      {
       "output_type": "stream",
       "stream": "stdout",
       "text": [
        "\n",
        "fund_returns_FEDAX"
       ]
      },
      {
       "output_type": "stream",
       "stream": "stdout",
       "text": [
        "\n",
        "fund_returns_FEAAX"
       ]
      },
      {
       "output_type": "stream",
       "stream": "stdout",
       "text": [
        "\n",
        "fund_returns_FAMKX"
       ]
      },
      {
       "output_type": "stream",
       "stream": "stdout",
       "text": [
        "\n",
        "fund_returns_FAEMX"
       ]
      },
      {
       "output_type": "stream",
       "stream": "stdout",
       "text": [
        "\n",
        "fund_returns_FAGNX"
       ]
      },
      {
       "output_type": "stream",
       "stream": "stdout",
       "text": [
        "\n",
        "fund_returns_EQPGX"
       ]
      },
      {
       "output_type": "stream",
       "stream": "stdout",
       "text": [
        "\n",
        "fund_returns_EQPIX"
       ]
      },
      {
       "output_type": "stream",
       "stream": "stdout",
       "text": [
        "\n",
        "fund_returns_FAVAX"
       ]
      },
      {
       "output_type": "stream",
       "stream": "stdout",
       "text": [
        "\n",
        "fund_returns_FCHSX"
       ]
      },
      {
       "output_type": "stream",
       "stream": "stdout",
       "text": [
        "\n",
        "fund_returns_FAFDX"
       ]
      },
      {
       "output_type": "stream",
       "stream": "stdout",
       "text": [
        "\n",
        "fund_returns_FFRAX"
       ]
      },
      {
       "output_type": "stream",
       "stream": "stdout",
       "text": [
        "\n",
        "fund_returns_FGEAX"
       ]
      },
      {
       "output_type": "stream",
       "stream": "stdout",
       "text": [
        "\n",
        "fund_returns_FGBZX"
       ]
      },
      {
       "output_type": "stream",
       "stream": "stdout",
       "text": [
        "\n",
        "fund_returns_FFGAX"
       ]
      },
      {
       "output_type": "stream",
       "stream": "stdout",
       "text": [
        "\n",
        "fund_returns_FBLYX"
       ]
      },
      {
       "output_type": "stream",
       "stream": "stdout",
       "text": [
        "\n",
        "fund_returns_FGHAX"
       ]
      },
      {
       "output_type": "stream",
       "stream": "stdout",
       "text": [
        "\n",
        "fund_returns_FDASX"
       ]
      },
      {
       "output_type": "stream",
       "stream": "stdout",
       "text": [
        "\n",
        "fund_returns_FGIRX"
       ]
      },
      {
       "output_type": "stream",
       "stream": "stdout",
       "text": [
        "\n",
        "fund_returns_FAGOX"
       ]
      },
      {
       "output_type": "stream",
       "stream": "stdout",
       "text": [
        "\n",
        "fund_returns_FACDX"
       ]
      },
      {
       "output_type": "stream",
       "stream": "stdout",
       "text": [
        "\n",
        "fund_returns_FHIAX"
       ]
      },
      {
       "output_type": "stream",
       "stream": "stdout",
       "text": [
        "\n",
        "fund_returns_FAHDX"
       ]
      },
      {
       "output_type": "stream",
       "stream": "stdout",
       "text": [
        "\n",
        "fund_returns_FCLAX"
       ]
      },
      {
       "output_type": "stream",
       "stream": "stdout",
       "text": [
        "\n",
        "fund_returns_FINWX"
       ]
      },
      {
       "output_type": "stream",
       "stream": "stdout",
       "text": [
        "\n",
        "fund_returns_FIAGX"
       ]
      },
      {
       "output_type": "stream",
       "stream": "stdout",
       "text": [
        "\n",
        "fund_returns_FIVMX"
       ]
      },
      {
       "output_type": "stream",
       "stream": "stdout",
       "text": [
        "\n",
        "fund_returns_FCPAX"
       ]
      },
      {
       "output_type": "stream",
       "stream": "stdout",
       "text": [
        "\n",
        "fund_returns_FOPAX"
       ]
      },
      {
       "output_type": "stream",
       "stream": "stdout",
       "text": [
        "\n",
        "fund_returns_FALHX"
       ]
      },
      {
       "output_type": "stream",
       "stream": "stdout",
       "text": [
        "\n",
        "fund_returns_FLSAX"
       ]
      },
      {
       "output_type": "stream",
       "stream": "stdout",
       "text": [
        "\n",
        "fund_returns_EFIPX"
       ]
      },
      {
       "output_type": "stream",
       "stream": "stdout",
       "text": [
        "\n",
        "fund_returns_FGRTX"
       ]
      },
      {
       "output_type": "stream",
       "stream": "stdout",
       "text": [
        "\n",
        "fund_returns_FIIAX"
       ]
      },
      {
       "output_type": "stream",
       "stream": "stdout",
       "text": [
        "\n",
        "fund_returns_FAMPX"
       ]
      },
      {
       "output_type": "stream",
       "stream": "stdout",
       "text": [
        "\n",
        "fund_returns_FAMMX"
       ]
      },
      {
       "output_type": "stream",
       "stream": "stdout",
       "text": [
        "\n",
        "fund_returns_FAPAX"
       ]
      },
      {
       "output_type": "stream",
       "stream": "stdout",
       "text": [
        "\n",
        "fund_returns_FOMAX"
       ]
      },
      {
       "output_type": "stream",
       "stream": "stdout",
       "text": [
        "\n",
        "fund_returns_FSODX"
       ]
      },
      {
       "output_type": "stream",
       "stream": "stdout",
       "text": [
        "\n",
        "fund_returns_FAHIX"
       ]
      },
      {
       "output_type": "stream",
       "stream": "stdout",
       "text": [
        "\n",
        "fund_returns_FNIAX"
       ]
      },
      {
       "output_type": "stream",
       "stream": "stdout",
       "text": [
        "\n",
        "fund_returns_FAERX"
       ]
      },
      {
       "output_type": "stream",
       "stream": "stdout",
       "text": [
        "\n",
        "fund_returns_FHEAX"
       ]
      },
      {
       "output_type": "stream",
       "stream": "stdout",
       "text": [
        "\n",
        "fund_returns_FLMLX"
       ]
      },
      {
       "output_type": "stream",
       "stream": "stdout",
       "text": [
        "\n",
        "fund_returns_FAMGX"
       ]
      },
      {
       "output_type": "stream",
       "stream": "stdout",
       "text": [
        "\n",
        "fund_returns_FMMLX"
       ]
      },
      {
       "output_type": "stream",
       "stream": "stdout",
       "text": [
        "\n",
        "fund_returns_FMALX"
       ]
      },
      {
       "output_type": "stream",
       "stream": "stdout",
       "text": [
        "\n",
        "fund_returns_FAOFX"
       ]
      },
      {
       "output_type": "stream",
       "stream": "stdout",
       "text": [
        "\n",
        "fund_returns_FSSFX"
       ]
      },
      {
       "output_type": "stream",
       "stream": "stdout",
       "text": [
        "\n",
        "fund_returns_FSBHX"
       ]
      },
      {
       "output_type": "stream",
       "stream": "stdout",
       "text": [
        "\n",
        "fund_returns_FASFX"
       ]
      },
      {
       "output_type": "stream",
       "stream": "stdout",
       "text": [
        "\n",
        "fund_returns_FSCDX"
       ]
      },
      {
       "output_type": "stream",
       "stream": "stdout",
       "text": [
        "\n",
        "fund_returns_FCAGX"
       ]
      },
      {
       "output_type": "stream",
       "stream": "stdout",
       "text": [
        "\n",
        "fund_returns_FCVAX"
       ]
      },
      {
       "output_type": "stream",
       "stream": "stdout",
       "text": [
        "\n",
        "fund_returns_FMCBX"
       ]
      },
      {
       "output_type": "stream",
       "stream": "stdout",
       "text": [
        "\n",
        "fund_returns_FASDX"
       ]
      },
      {
       "output_type": "stream",
       "stream": "stdout",
       "text": [
        "\n",
        "fund_returns_FSINX"
       ]
      },
      {
       "output_type": "stream",
       "stream": "stdout",
       "text": [
        "\n",
        "fund_returns_FSRAX"
       ]
      },
      {
       "output_type": "stream",
       "stream": "stdout",
       "text": [
        "\n",
        "fund_returns_FADTX"
       ]
      },
      {
       "output_type": "stream",
       "stream": "stdout",
       "text": [
        "\n",
        "fund_returns_FTEDX"
       ]
      },
      {
       "output_type": "stream",
       "stream": "stdout",
       "text": [
        "\n",
        "fund_returns_FTAEX"
       ]
      },
      {
       "output_type": "stream",
       "stream": "stdout",
       "text": [
        "\n",
        "fund_returns_FUGAX"
       ]
      },
      {
       "output_type": "stream",
       "stream": "stdout",
       "text": [
        "\n",
        "fund_returns_FAVFX"
       ]
      },
      {
       "output_type": "stream",
       "stream": "stdout",
       "text": [
        "\n",
        "fund_returns_FVLAX"
       ]
      },
      {
       "output_type": "stream",
       "stream": "stdout",
       "text": [
        "\n",
        "fund_returns_FASPX"
       ]
      },
      {
       "output_type": "stream",
       "stream": "stdout",
       "text": [
        "\n",
        "No Returns Data available for Fund : "
       ]
      },
      {
       "output_type": "stream",
       "stream": "stdout",
       "text": [
        " FASPX\n",
        "fund_returns_FASIX\n",
        "fund_returns_FASMX"
       ]
      },
      {
       "output_type": "stream",
       "stream": "stdout",
       "text": [
        "\n",
        "fund_returns_FASGX"
       ]
      },
      {
       "output_type": "stream",
       "stream": "stdout",
       "text": [
        "\n",
        "fund_returns_FAMRX"
       ]
      },
      {
       "output_type": "stream",
       "stream": "stdout",
       "text": [
        "\n",
        "fund_returns_FFKVX"
       ]
      },
      {
       "output_type": "stream",
       "stream": "stdout",
       "text": [
        "\n",
        "fund_returns_FFKCX"
       ]
      },
      {
       "output_type": "stream",
       "stream": "stdout",
       "text": [
        "\n",
        "fund_returns_FKVFX"
       ]
      },
      {
       "output_type": "stream",
       "stream": "stdout",
       "text": [
        "\n",
        "fund_returns_FFKDX"
       ]
      },
      {
       "output_type": "stream",
       "stream": "stdout",
       "text": [
        "\n",
        "fund_returns_FKTWX"
       ]
      },
      {
       "output_type": "stream",
       "stream": "stdout",
       "text": [
        "\n",
        "fund_returns_FFKEX"
       ]
      },
      {
       "output_type": "stream",
       "stream": "stdout",
       "text": [
        "\n",
        "fund_returns_FKTHX"
       ]
      },
      {
       "output_type": "stream",
       "stream": "stdout",
       "text": [
        "\n",
        "fund_returns_FFKFX"
       ]
      },
      {
       "output_type": "stream",
       "stream": "stdout",
       "text": [
        "\n",
        "fund_returns_FFKGX"
       ]
      },
      {
       "output_type": "stream",
       "stream": "stdout",
       "text": [
        "\n",
        "fund_returns_FFKHX"
       ]
      },
      {
       "output_type": "stream",
       "stream": "stdout",
       "text": [
        "\n",
        "fund_returns_FDENX"
       ]
      },
      {
       "output_type": "stream",
       "stream": "stdout",
       "text": [
        "\n",
        "fund_returns_FFKAX"
       ]
      },
      {
       "output_type": "stream",
       "stream": "stdout",
       "text": [
        "\n",
        "fund_returns_FFFVX"
       ]
      },
      {
       "output_type": "stream",
       "stream": "stdout",
       "text": [
        "\n",
        "fund_returns_FFFCX"
       ]
      },
      {
       "output_type": "stream",
       "stream": "stdout",
       "text": [
        "\n",
        "fund_returns_FFVFX"
       ]
      },
      {
       "output_type": "stream",
       "stream": "stdout",
       "text": [
        "\n",
        "fund_returns_FFFDX"
       ]
      },
      {
       "output_type": "stream",
       "stream": "stdout",
       "text": [
        "\n",
        "fund_returns_FFTWX"
       ]
      },
      {
       "output_type": "stream",
       "stream": "stdout",
       "text": [
        "\n",
        "fund_returns_FFFEX"
       ]
      },
      {
       "output_type": "stream",
       "stream": "stdout",
       "text": [
        "\n",
        "fund_returns_FFTHX"
       ]
      },
      {
       "output_type": "stream",
       "stream": "stdout",
       "text": [
        "\n",
        "fund_returns_FFFFX"
       ]
      },
      {
       "output_type": "stream",
       "stream": "stdout",
       "text": [
        "\n",
        "fund_returns_FFFGX"
       ]
      },
      {
       "output_type": "stream",
       "stream": "stdout",
       "text": [
        "\n",
        "fund_returns_FFFHX"
       ]
      },
      {
       "output_type": "stream",
       "stream": "stdout",
       "text": [
        "\n",
        "fund_returns_FDEEX"
       ]
      },
      {
       "output_type": "stream",
       "stream": "stdout",
       "text": [
        "\n",
        "fund_returns_FFFAX"
       ]
      },
      {
       "output_type": "stream",
       "stream": "stdout",
       "text": [
        "\n",
        "fund_returns_FJIFX"
       ]
      },
      {
       "output_type": "stream",
       "stream": "stdout",
       "text": [
        "\n",
        "fund_returns_FKIFX"
       ]
      },
      {
       "output_type": "stream",
       "stream": "stdout",
       "text": [
        "\n",
        "fund_returns_FLIFX"
       ]
      },
      {
       "output_type": "stream",
       "stream": "stdout",
       "text": [
        "\n",
        "fund_returns_FPIFX"
       ]
      },
      {
       "output_type": "stream",
       "stream": "stdout",
       "text": [
        "\n",
        "fund_returns_FQIFX"
       ]
      },
      {
       "output_type": "stream",
       "stream": "stdout",
       "text": [
        "\n",
        "fund_returns_FXIFX"
       ]
      },
      {
       "output_type": "stream",
       "stream": "stdout",
       "text": [
        "\n",
        "fund_returns_FIHFX"
       ]
      },
      {
       "output_type": "stream",
       "stream": "stdout",
       "text": [
        "\n",
        "fund_returns_FBIFX"
       ]
      },
      {
       "output_type": "stream",
       "stream": "stdout",
       "text": [
        "\n",
        "fund_returns_FIOFX"
       ]
      },
      {
       "output_type": "stream",
       "stream": "stdout",
       "text": [
        "\n",
        "fund_returns_FIPFX"
       ]
      },
      {
       "output_type": "stream",
       "stream": "stdout",
       "text": [
        "\n",
        "fund_returns_FDEWX"
       ]
      },
      {
       "output_type": "stream",
       "stream": "stdout",
       "text": [
        "\n",
        "fund_returns_FIKFX"
       ]
      },
      {
       "output_type": "stream",
       "stream": "stdout",
       "text": [
        "\n",
        "fund_returns_FUSEX"
       ]
      },
      {
       "output_type": "stream",
       "stream": "stdout",
       "text": [
        "\n",
        "fund_returns_FPADX"
       ]
      },
      {
       "output_type": "stream",
       "stream": "stdout",
       "text": [
        "\n",
        "fund_returns_FSEMX"
       ]
      },
      {
       "output_type": "stream",
       "stream": "stdout",
       "text": [
        "\n",
        "fund_returns_FSGGX"
       ]
      },
      {
       "output_type": "stream",
       "stream": "stdout",
       "text": [
        "\n",
        "fund_returns_FIPDX"
       ]
      },
      {
       "output_type": "stream",
       "stream": "stdout",
       "text": [
        "\n",
        "fund_returns_FIBIX"
       ]
      },
      {
       "output_type": "stream",
       "stream": "stdout",
       "text": [
        "\n",
        "fund_returns_FSIIX"
       ]
      },
      {
       "output_type": "stream",
       "stream": "stdout",
       "text": [
        "\n",
        "fund_returns_FLBIX"
       ]
      },
      {
       "output_type": "stream",
       "stream": "stdout",
       "text": [
        "\n",
        "fund_returns_FSMDX"
       ]
      },
      {
       "output_type": "stream",
       "stream": "stdout",
       "text": [
        "\n",
        "fund_returns_FSRNX"
       ]
      },
      {
       "output_type": "stream",
       "stream": "stdout",
       "text": [
        "\n",
        "fund_returns_FSBIX"
       ]
      },
      {
       "output_type": "stream",
       "stream": "stdout",
       "text": [
        "\n",
        "fund_returns_FSSNX"
       ]
      },
      {
       "output_type": "stream",
       "stream": "stdout",
       "text": [
        "\n",
        "fund_returns_FSTMX"
       ]
      },
      {
       "output_type": "stream",
       "stream": "stdout",
       "text": [
        "\n",
        "fund_returns_FBIDX"
       ]
      },
      {
       "output_type": "stream",
       "stream": "stdout",
       "text": [
        "\n",
        "fund_returns_FSAZX"
       ]
      },
      {
       "output_type": "stream",
       "stream": "stdout",
       "text": [
        "\n",
        "fund_returns_FBALX"
       ]
      },
      {
       "output_type": "stream",
       "stream": "stdout",
       "text": [
        "\n",
        "fund_returns_FBGRX"
       ]
      },
      {
       "output_type": "stream",
       "stream": "stdout",
       "text": [
        "\n",
        "fund_returns_FBCVX"
       ]
      },
      {
       "output_type": "stream",
       "stream": "stdout",
       "text": [
        "\n",
        "fund_returns_FCSTX"
       ]
      },
      {
       "output_type": "stream",
       "stream": "stdout",
       "text": [
        "\n",
        "fund_returns_FCTFX"
       ]
      },
      {
       "output_type": "stream",
       "stream": "stdout",
       "text": [
        "\n",
        "fund_returns_FICDX"
       ]
      },
      {
       "output_type": "stream",
       "stream": "stdout",
       "text": [
        "\n",
        "fund_returns_FAGIX"
       ]
      },
      {
       "output_type": "stream",
       "stream": "stdout",
       "text": [
        "\n",
        "fund_returns_FDCAX"
       ]
      },
      {
       "output_type": "stream",
       "stream": "stdout",
       "text": [
        "\n",
        "fund_returns_FHKCX"
       ]
      },
      {
       "output_type": "stream",
       "stream": "stdout",
       "text": [
        "\n",
        "fund_returns_FICNX"
       ]
      },
      {
       "output_type": "stream",
       "stream": "stdout",
       "text": [
        "\n",
        "fund_returns_FMNDX"
       ]
      },
      {
       "output_type": "stream",
       "stream": "stdout",
       "text": [
        "\n",
        "fund_returns_FCNVX"
       ]
      },
      {
       "output_type": "stream",
       "stream": "stdout",
       "text": [
        "\n",
        "fund_returns_FCNTX"
       ]
      },
      {
       "output_type": "stream",
       "stream": "stdout",
       "text": [
        "\n",
        "fund_returns_FCVSX"
       ]
      },
      {
       "output_type": "stream",
       "stream": "stdout",
       "text": [
        "\n",
        "fund_returns_FDEQX"
       ]
      },
      {
       "output_type": "stream",
       "stream": "stdout",
       "text": [
        "\n",
        "fund_returns_FDIVX"
       ]
      },
      {
       "output_type": "stream",
       "stream": "stdout",
       "text": [
        "\n",
        "fund_returns_FDGFX"
       ]
      },
      {
       "output_type": "stream",
       "stream": "stdout",
       "text": [
        "\n",
        "fund_returns_FSEAX"
       ]
      },
      {
       "output_type": "stream",
       "stream": "stdout",
       "text": [
        "\n",
        "fund_returns_FEMKX"
       ]
      },
      {
       "output_type": "stream",
       "stream": "stdout",
       "text": [
        "\n",
        "fund_returns_FEQTX"
       ]
      },
      {
       "output_type": "stream",
       "stream": "stdout",
       "text": [
        "\n",
        "fund_returns_FEQIX"
       ]
      },
      {
       "output_type": "stream",
       "stream": "stdout",
       "text": [
        "\n",
        "fund_returns_FIEUX"
       ]
      },
      {
       "output_type": "stream",
       "stream": "stdout",
       "text": [
        "\n",
        "fund_returns_FARNX"
       ]
      },
      {
       "output_type": "stream",
       "stream": "stdout",
       "text": [
        "\n",
        "fund_returns_FEXPX"
       ]
      },
      {
       "output_type": "stream",
       "stream": "stdout",
       "text": [
        "\n",
        "fund_returns_FFTYX"
       ]
      },
      {
       "output_type": "stream",
       "stream": "stdout",
       "text": [
        "\n",
        "fund_returns_FHIFX"
       ]
      },
      {
       "output_type": "stream",
       "stream": "stdout",
       "text": [
        "\n",
        "fund_returns_FTQGX"
       ]
      },
      {
       "output_type": "stream",
       "stream": "stdout",
       "text": [
        "\n",
        "fund_returns_FFNOX"
       ]
      },
      {
       "output_type": "stream",
       "stream": "stdout",
       "text": [
        "\n",
        "fund_returns_FGBLX"
       ]
      },
      {
       "output_type": "stream",
       "stream": "stdout",
       "text": [
        "\n",
        "fund_returns_FGILX"
       ]
      },
      {
       "output_type": "stream",
       "stream": "stdout",
       "text": [
        "\n",
        "fund_returns_FGMNX"
       ]
      },
      {
       "output_type": "stream",
       "stream": "stdout",
       "text": [
        "\n",
        "fund_returns_FGOVX"
       ]
      },
      {
       "output_type": "stream",
       "stream": "stdout",
       "text": [
        "\n",
        "fund_returns_FGRIX"
       ]
      },
      {
       "output_type": "stream",
       "stream": "stdout",
       "text": [
        "\n",
        "fund_returns_FDGRX"
       ]
      },
      {
       "output_type": "stream",
       "stream": "stdout",
       "text": [
        "\n",
        "fund_returns_FDSVX"
       ]
      },
      {
       "output_type": "stream",
       "stream": "stdout",
       "text": [
        "\n",
        "fund_returns_FDEGX"
       ]
      },
      {
       "output_type": "stream",
       "stream": "stdout",
       "text": [
        "\n",
        "fund_returns_SPHIX"
       ]
      },
      {
       "output_type": "stream",
       "stream": "stdout",
       "text": [
        "\n",
        "fund_returns_FDFFX"
       ]
      },
      {
       "output_type": "stream",
       "stream": "stdout",
       "text": [
        "\n",
        "fund_returns_FINPX"
       ]
      },
      {
       "output_type": "stream",
       "stream": "stdout",
       "text": [
        "\n",
        "fund_returns_FTHRX"
       ]
      },
      {
       "output_type": "stream",
       "stream": "stdout",
       "text": [
        "\n",
        "fund_returns_FSTGX"
       ]
      },
      {
       "output_type": "stream",
       "stream": "stdout",
       "text": [
        "\n",
        "fund_returns_FLTMX"
       ]
      },
      {
       "output_type": "stream",
       "stream": "stdout",
       "text": [
        "\n",
        "fund_returns_FIVFX"
       ]
      },
      {
       "output_type": "stream",
       "stream": "stdout",
       "text": [
        "\n",
        "fund_returns_FIGRX"
       ]
      },
      {
       "output_type": "stream",
       "stream": "stdout",
       "text": [
        "\n",
        "fund_returns_FIENX"
       ]
      },
      {
       "output_type": "stream",
       "stream": "stdout",
       "text": [
        "\n",
        "fund_returns_FIREX"
       ]
      },
      {
       "output_type": "stream",
       "stream": "stdout",
       "text": [
        "\n",
        "fund_returns_FISMX"
       ]
      },
      {
       "output_type": "stream",
       "stream": "stdout",
       "text": [
        "\n",
        "fund_returns_FBNDX"
       ]
      },
      {
       "output_type": "stream",
       "stream": "stdout",
       "text": [
        "\n",
        "fund_returns_FJPNX"
       ]
      },
      {
       "output_type": "stream",
       "stream": "stdout",
       "text": [
        "\n",
        "fund_returns_FJSCX"
       ]
      },
      {
       "output_type": "stream",
       "stream": "stdout",
       "text": [
        "\n",
        "fund_returns_FLCEX"
       ]
      },
      {
       "output_type": "stream",
       "stream": "stdout",
       "text": [
        "\n",
        "fund_returns_FLGEX"
       ]
      },
      {
       "output_type": "stream",
       "stream": "stdout",
       "text": [
        "\n",
        "fund_returns_FLCSX"
       ]
      },
      {
       "output_type": "stream",
       "stream": "stdout",
       "text": [
        "\n",
        "fund_returns_FLVEX"
       ]
      },
      {
       "output_type": "stream",
       "stream": "stdout",
       "text": [
        "\n",
        "fund_returns_FLATX"
       ]
      },
      {
       "output_type": "stream",
       "stream": "stdout",
       "text": [
        "\n",
        "fund_returns_FLVCX"
       ]
      },
      {
       "output_type": "stream",
       "stream": "stdout",
       "text": [
        "\n",
        "fund_returns_FFXSX"
       ]
      },
      {
       "output_type": "stream",
       "stream": "stdout",
       "text": [
        "\n",
        "fund_returns_FSTFX"
       ]
      },
      {
       "output_type": "stream",
       "stream": "stdout",
       "text": [
        "\n",
        "fund_returns_FLPSX"
       ]
      },
      {
       "output_type": "stream",
       "stream": "stdout",
       "text": [
        "\n",
        "fund_returns_FMAGX"
       ]
      },
      {
       "output_type": "stream",
       "stream": "stdout",
       "text": [
        "\n",
        "fund_returns_SMDMX"
       ]
      },
      {
       "output_type": "stream",
       "stream": "stdout",
       "text": [
        "\n",
        "fund_returns_FDMMX"
       ]
      },
      {
       "output_type": "stream",
       "stream": "stdout",
       "text": [
        "\n",
        "fund_returns_FMHTX"
       ]
      },
      {
       "output_type": "stream",
       "stream": "stdout",
       "text": [
        "\n",
        "fund_returns_FMEIX"
       ]
      },
      {
       "output_type": "stream",
       "stream": "stdout",
       "text": [
        "\n",
        "fund_returns_FSMVX"
       ]
      },
      {
       "output_type": "stream",
       "stream": "stdout",
       "text": [
        "\n",
        "No Returns Data available for Fund : "
       ]
      },
      {
       "output_type": "stream",
       "stream": "stdout",
       "text": [
        " FSMVX\n",
        "fund_returns_FMCSX\n",
        "fund_returns_FIMIX"
       ]
      },
      {
       "output_type": "stream",
       "stream": "stdout",
       "text": [
        "\n",
        "fund_returns_FMSFX"
       ]
      },
      {
       "output_type": "stream",
       "stream": "stdout",
       "text": [
        "\n",
        "fund_returns_FHIGX"
       ]
      },
      {
       "output_type": "stream",
       "stream": "stdout",
       "text": [
        "\n",
        "fund_returns_FNCMX"
       ]
      },
      {
       "output_type": "stream",
       "stream": "stdout",
       "text": [
        "\n",
        "fund_returns_FNJHX"
       ]
      },
      {
       "output_type": "stream",
       "stream": "stdout",
       "text": [
        "\n",
        "fund_returns_FNMIX"
       ]
      },
      {
       "output_type": "stream",
       "stream": "stdout",
       "text": [
        "\n",
        "fund_returns_FMILX"
       ]
      },
      {
       "output_type": "stream",
       "stream": "stdout",
       "text": [
        "\n",
        "fund_returns_FTFMX"
       ]
      },
      {
       "output_type": "stream",
       "stream": "stdout",
       "text": [
        "\n",
        "fund_returns_FNORX"
       ]
      },
      {
       "output_type": "stream",
       "stream": "stdout",
       "text": [
        "\n",
        "fund_returns_FOHFX"
       ]
      },
      {
       "output_type": "stream",
       "stream": "stdout",
       "text": [
        "\n",
        "fund_returns_FOCPX"
       ]
      },
      {
       "output_type": "stream",
       "stream": "stdout",
       "text": [
        "\n",
        "fund_returns_FOSFX"
       ]
      },
      {
       "output_type": "stream",
       "stream": "stdout",
       "text": [
        "\n",
        "fund_returns_FPBFX"
       ]
      },
      {
       "output_type": "stream",
       "stream": "stdout",
       "text": [
        "\n",
        "fund_returns_FPXTX"
       ]
      },
      {
       "output_type": "stream",
       "stream": "stdout",
       "text": [
        "\n",
        "fund_returns_FPURX"
       ]
      },
      {
       "output_type": "stream",
       "stream": "stdout",
       "text": [
        "\n",
        "fund_returns_FRIFX"
       ]
      },
      {
       "output_type": "stream",
       "stream": "stdout",
       "text": [
        "\n",
        "fund_returns_FRESX"
       ]
      },
      {
       "output_type": "stream",
       "stream": "stdout",
       "text": [
        "\n",
        "fund_returns_FSAIX"
       ]
      },
      {
       "output_type": "stream",
       "stream": "stdout",
       "text": [
        "\n",
        "fund_returns_FSAVX"
       ]
      },
      {
       "output_type": "stream",
       "stream": "stdout",
       "text": [
        "\n",
        "fund_returns_FSRBX"
       ]
      },
      {
       "output_type": "stream",
       "stream": "stdout",
       "text": [
        "\n",
        "fund_returns_FBIOX"
       ]
      },
      {
       "output_type": "stream",
       "stream": "stdout",
       "text": [
        "\n",
        "fund_returns_FSLBX"
       ]
      },
      {
       "output_type": "stream",
       "stream": "stdout",
       "text": [
        "\n",
        "fund_returns_FSCHX"
       ]
      },
      {
       "output_type": "stream",
       "stream": "stdout",
       "text": [
        "\n",
        "fund_returns_FSDCX"
       ]
      },
      {
       "output_type": "stream",
       "stream": "stdout",
       "text": [
        "\n",
        "fund_returns_FDCPX"
       ]
      },
      {
       "output_type": "stream",
       "stream": "stdout",
       "text": [
        "\n",
        "fund_returns_FSHOX"
       ]
      },
      {
       "output_type": "stream",
       "stream": "stdout",
       "text": [
        "\n",
        "fund_returns_FSCPX"
       ]
      },
      {
       "output_type": "stream",
       "stream": "stdout",
       "text": [
        "\n",
        "fund_returns_FSVLX"
       ]
      },
      {
       "output_type": "stream",
       "stream": "stdout",
       "text": [
        "\n",
        "fund_returns_FDFAX"
       ]
      },
      {
       "output_type": "stream",
       "stream": "stdout",
       "text": [
        "\n",
        "fund_returns_FSDAX"
       ]
      },
      {
       "output_type": "stream",
       "stream": "stdout",
       "text": [
        "\n",
        "fund_returns_FSELX"
       ]
      },
      {
       "output_type": "stream",
       "stream": "stdout",
       "text": [
        "\n",
        "fund_returns_FSENX"
       ]
      },
      {
       "output_type": "stream",
       "stream": "stdout",
       "text": [
        "\n",
        "fund_returns_FSESX"
       ]
      },
      {
       "output_type": "stream",
       "stream": "stdout",
       "text": [
        "\n",
        "fund_returns_FSLEX"
       ]
      },
      {
       "output_type": "stream",
       "stream": "stdout",
       "text": [
        "\n",
        "fund_returns_FIDSX"
       ]
      },
      {
       "output_type": "stream",
       "stream": "stdout",
       "text": [
        "\n",
        "fund_returns_FSAGX"
       ]
      },
      {
       "output_type": "stream",
       "stream": "stdout",
       "text": [
        "\n",
        "fund_returns_FSPHX"
       ]
      },
      {
       "output_type": "stream",
       "stream": "stdout",
       "text": [
        "\n",
        "fund_returns_FSCGX"
       ]
      },
      {
       "output_type": "stream",
       "stream": "stdout",
       "text": [
        "\n",
        "fund_returns_FCYIX"
       ]
      },
      {
       "output_type": "stream",
       "stream": "stdout",
       "text": [
        "\n",
        "fund_returns_FSPCX"
       ]
      },
      {
       "output_type": "stream",
       "stream": "stdout",
       "text": [
        "\n",
        "fund_returns_FBSOX"
       ]
      },
      {
       "output_type": "stream",
       "stream": "stdout",
       "text": [
        "\n",
        "fund_returns_FDLSX"
       ]
      },
      {
       "output_type": "stream",
       "stream": "stdout",
       "text": [
        "\n",
        "fund_returns_FSDPX"
       ]
      },
      {
       "output_type": "stream",
       "stream": "stdout",
       "text": [
        "\n",
        "fund_returns_FSHCX"
       ]
      },
      {
       "output_type": "stream",
       "stream": "stdout",
       "text": [
        "\n",
        "fund_returns_FSMEX"
       ]
      },
      {
       "output_type": "stream",
       "stream": "stdout",
       "text": [
        "\n",
        "fund_returns_FBMPX"
       ]
      },
      {
       "output_type": "stream",
       "stream": "stdout",
       "text": [
        "\n",
        "fund_returns_FSNGX"
       ]
      },
      {
       "output_type": "stream",
       "stream": "stdout",
       "text": [
        "\n",
        "fund_returns_FNARX"
       ]
      },
      {
       "output_type": "stream",
       "stream": "stdout",
       "text": [
        "\n",
        "fund_returns_FPHAX"
       ]
      },
      {
       "output_type": "stream",
       "stream": "stdout",
       "text": [
        "\n",
        "fund_returns_FSRPX"
       ]
      },
      {
       "output_type": "stream",
       "stream": "stdout",
       "text": [
        "\n",
        "fund_returns_FSCSX"
       ]
      },
      {
       "output_type": "stream",
       "stream": "stdout",
       "text": [
        "\n",
        "fund_returns_FSPTX"
       ]
      },
      {
       "output_type": "stream",
       "stream": "stdout",
       "text": [
        "\n",
        "fund_returns_FSTCX"
       ]
      },
      {
       "output_type": "stream",
       "stream": "stdout",
       "text": [
        "\n",
        "fund_returns_FSRFX"
       ]
      },
      {
       "output_type": "stream",
       "stream": "stdout",
       "text": [
        "\n",
        "fund_returns_FSUTX"
       ]
      },
      {
       "output_type": "stream",
       "stream": "stdout",
       "text": [
        "\n",
        "fund_returns_FWRLX"
       ]
      },
      {
       "output_type": "stream",
       "stream": "stdout",
       "text": [
        "\n",
        "fund_returns_FOHIX"
       ]
      },
      {
       "output_type": "stream",
       "stream": "stdout",
       "text": [
        "\n",
        "fund_returns_FIOOX"
       ]
      },
      {
       "output_type": "stream",
       "stream": "stdout",
       "text": [
        "\n",
        "fund_returns_FSAEX"
       ]
      },
      {
       "output_type": "stream",
       "stream": "stdout",
       "text": [
        "\n",
        "fund_returns_FSBDX"
       ]
      },
      {
       "output_type": "stream",
       "stream": "stdout",
       "text": [
        "\n",
        "fund_returns_FBMAX"
       ]
      },
      {
       "output_type": "stream",
       "stream": "stdout",
       "text": [
        "\n",
        "fund_returns_FCSSX"
       ]
      },
      {
       "output_type": "stream",
       "stream": "stdout",
       "text": [
        "\n",
        "fund_returns_FEMSX"
       ]
      },
      {
       "output_type": "stream",
       "stream": "stdout",
       "text": [
        "\n",
        "fund_returns_FEDCX"
       ]
      },
      {
       "output_type": "stream",
       "stream": "stdout",
       "text": [
        "\n",
        "fund_returns_FNKLX"
       ]
      },
      {
       "output_type": "stream",
       "stream": "stdout",
       "text": [
        "\n",
        "fund_returns_FFHCX"
       ]
      },
      {
       "output_type": "stream",
       "stream": "stdout",
       "text": [
        "\n",
        "fund_returns_FSGEX"
       ]
      },
      {
       "output_type": "stream",
       "stream": "stdout",
       "text": [
        "\n",
        "fund_returns_FGLGX"
       ]
      },
      {
       "output_type": "stream",
       "stream": "stdout",
       "text": [
        "\n",
        "fund_returns_FCGSX"
       ]
      },
      {
       "output_type": "stream",
       "stream": "stdout",
       "text": [
        "\n",
        "fund_returns_FSHNX"
       ]
      },
      {
       "output_type": "stream",
       "stream": "stdout",
       "text": [
        "\n",
        "fund_returns_FSIPX"
       ]
      },
      {
       "output_type": "stream",
       "stream": "stdout",
       "text": [
        "\n",
        "fund_returns_FIGSX"
       ]
      },
      {
       "output_type": "stream",
       "stream": "stdout",
       "text": [
        "\n",
        "fund_returns_FSTSX"
       ]
      },
      {
       "output_type": "stream",
       "stream": "stdout",
       "text": [
        "\n",
        "fund_returns_FINVX"
       ]
      },
      {
       "output_type": "stream",
       "stream": "stdout",
       "text": [
        "\n",
        "fund_returns_FGLLX"
       ]
      },
      {
       "output_type": "stream",
       "stream": "stdout",
       "text": [
        "\n",
        "fund_returns_FSIGX"
       ]
      },
      {
       "output_type": "stream",
       "stream": "stdout",
       "text": [
        "\n",
        "fund_returns_FVWSX"
       ]
      },
      {
       "output_type": "stream",
       "stream": "stdout",
       "text": [
        "\n",
        "fund_returns_FREDX"
       ]
      },
      {
       "output_type": "stream",
       "stream": "stdout",
       "text": [
        "\n",
        "fund_returns_FSREX"
       ]
      },
      {
       "output_type": "stream",
       "stream": "stdout",
       "text": [
        "\n",
        "fund_returns_FJACX"
       ]
      },
      {
       "output_type": "stream",
       "stream": "stdout",
       "text": [
        "\n",
        "fund_returns_FSOPX"
       ]
      },
      {
       "output_type": "stream",
       "stream": "stdout",
       "text": [
        "\n",
        "fund_returns_FBLEX"
       ]
      },
      {
       "output_type": "stream",
       "stream": "stdout",
       "text": [
        "\n",
        "fund_returns_FSHBX"
       ]
      },
      {
       "output_type": "stream",
       "stream": "stdout",
       "text": [
        "\n",
        "fund_returns_FSCRX"
       ]
      },
      {
       "output_type": "stream",
       "stream": "stdout",
       "text": [
        "\n",
        "fund_returns_FCPEX"
       ]
      },
      {
       "output_type": "stream",
       "stream": "stdout",
       "text": [
        "\n",
        "fund_returns_FSLCX"
       ]
      },
      {
       "output_type": "stream",
       "stream": "stdout",
       "text": [
        "\n",
        "fund_returns_FDSSX"
       ]
      },
      {
       "output_type": "stream",
       "stream": "stdout",
       "text": [
        "\n",
        "fund_returns_FSLVX"
       ]
      },
      {
       "output_type": "stream",
       "stream": "stdout",
       "text": [
        "\n",
        "fund_returns_FDSCX"
       ]
      },
      {
       "output_type": "stream",
       "stream": "stdout",
       "text": [
        "\n",
        "fund_returns_FSICX"
       ]
      },
      {
       "output_type": "stream",
       "stream": "stdout",
       "text": [
        "\n",
        "fund_returns_FTABX"
       ]
      },
      {
       "output_type": "stream",
       "stream": "stdout",
       "text": [
        "\n",
        "fund_returns_FIUIX"
       ]
      },
      {
       "output_type": "stream",
       "stream": "stdout",
       "text": [
        "\n",
        "fund_returns_FTBFX"
       ]
      },
      {
       "output_type": "stream",
       "stream": "stdout",
       "text": [
        "\n",
        "fund_returns_FTRNX"
       ]
      },
      {
       "output_type": "stream",
       "stream": "stdout",
       "text": [
        "\n",
        "fund_returns_FDVLX"
       ]
      },
      {
       "output_type": "stream",
       "stream": "stdout",
       "text": [
        "\n",
        "fund_returns_FVDFX"
       ]
      },
      {
       "output_type": "stream",
       "stream": "stdout",
       "text": [
        "\n",
        "fund_returns_FWWFX"
       ]
      },
      {
       "output_type": "stream",
       "stream": "stdout",
       "text": [
        "\n",
        "fund_returns_FCSAX"
       ]
      },
      {
       "output_type": "stream",
       "stream": "stdout",
       "text": [
        "\n",
        "fund_returns_FWHBX"
       ]
      },
      {
       "output_type": "stream",
       "stream": "stdout",
       "text": [
        "\n",
        "fund_returns_FPCIX"
       ]
      },
      {
       "output_type": "stream",
       "stream": "stdout",
       "text": [
        "\n",
        "fund_returns_FLAUX"
       ]
      },
      {
       "output_type": "stream",
       "stream": "stdout",
       "text": [
        "\n",
        "fund_returns_FSAMX"
       ]
      },
      {
       "output_type": "stream",
       "stream": "stdout",
       "text": [
        "\n",
        "fund_returns_FLILX"
       ]
      },
      {
       "output_type": "stream",
       "stream": "stdout",
       "text": [
        "\n",
        "fund_returns_FSGFX"
       ]
      },
      {
       "output_type": "stream",
       "stream": "stdout",
       "text": [
        "\n",
        "fund_returns_FMELX"
       ]
      },
      {
       "output_type": "stream",
       "stream": "stdout",
       "text": [
        "\n",
        "fund_returns_FSADX"
       ]
      },
      {
       "output_type": "stream",
       "stream": "stdout",
       "text": [
        "\n",
        "fund_returns_FPIOX"
       ]
      },
      {
       "output_type": "stream",
       "stream": "stdout",
       "text": [
        "\n",
        "fund_returns_FILFX"
       ]
      },
      {
       "output_type": "stream",
       "stream": "stdout",
       "text": [
        "\n",
        "fund_returns_FUSIX"
       ]
      },
      {
       "output_type": "stream",
       "stream": "stdout",
       "text": [
        "\n",
        "fund_returns_FMJDX"
       ]
      },
      {
       "output_type": "stream",
       "stream": "stdout",
       "text": [
        "\n",
        "fund_returns_FEHPX"
       ]
      },
      {
       "output_type": "stream",
       "stream": "stdout",
       "text": [
        "\n",
        "fund_returns_FEMPX"
       ]
      },
      {
       "output_type": "stream",
       "stream": "stdout",
       "text": [
        "\n",
        "fund_returns_FEJPX"
       ]
      },
      {
       "output_type": "stream",
       "stream": "stdout",
       "text": [
        "\n",
        "fund_returns_FEKPX"
       ]
      },
      {
       "output_type": "stream",
       "stream": "stdout",
       "text": [
        "\n",
        "fund_returns_FEDPX"
       ]
      },
      {
       "output_type": "stream",
       "stream": "stdout",
       "text": [
        "\n",
        "fund_returns_FECPX"
       ]
      },
      {
       "output_type": "stream",
       "stream": "stdout",
       "text": [
        "\n",
        "fund_returns_FENPX"
       ]
      },
      {
       "output_type": "stream",
       "stream": "stdout",
       "text": [
        "\n",
        "fund_returns_FEWPX"
       ]
      },
      {
       "output_type": "stream",
       "stream": "stdout",
       "text": [
        "\n",
        "fund_returns_FEZPX"
       ]
      },
      {
       "output_type": "stream",
       "stream": "stdout",
       "text": [
        "\n",
        "fund_returns_FEYPX"
       ]
      },
      {
       "output_type": "stream",
       "stream": "stdout",
       "text": [
        "\n",
        "fund_returns_FESPX"
       ]
      },
      {
       "output_type": "stream",
       "stream": "stdout",
       "text": [
        "\n",
        "fund_returns_FEBPX"
       ]
      },
      {
       "output_type": "stream",
       "stream": "stdout",
       "text": [
        "\n",
        "fund_returns_FAUDX"
       ]
      },
      {
       "output_type": "stream",
       "stream": "stdout",
       "text": [
        "\n",
        "fund_returns_FNAPX"
       ]
      },
      {
       "output_type": "stream",
       "stream": "stdout",
       "text": [
        "\n",
        "fund_returns_FSCFX"
       ]
      },
      {
       "output_type": "stream",
       "stream": "stdout",
       "text": [
        "\n",
        "fund_returns_FVSAX"
       ]
      },
      {
       "output_type": "stream",
       "stream": "stdout",
       "text": [
        "\n",
        "fund_returns_FKMOX"
       ]
      },
      {
       "output_type": "stream",
       "stream": "stdout",
       "text": [
        "\n",
        "fund_returns_FISAX"
       ]
      },
      {
       "output_type": "stream",
       "stream": "stdout",
       "text": [
        "\n",
        "fund_returns_FRALX"
       ]
      },
      {
       "output_type": "stream",
       "stream": "stdout",
       "text": [
        "\n",
        "fund_returns_FRAVX"
       ]
      },
      {
       "output_type": "stream",
       "stream": "stdout",
       "text": [
        "\n",
        "fund_returns_FTAZX"
       ]
      },
      {
       "output_type": "stream",
       "stream": "stdout",
       "text": [
        "\n",
        "fund_returns_FRBSX"
       ]
      },
      {
       "output_type": "stream",
       "stream": "stdout",
       "text": [
        "\n",
        "fund_returns_FBLAX"
       ]
      },
      {
       "output_type": "stream",
       "stream": "stdout",
       "text": [
        "\n",
        "fund_returns_FBDIX"
       ]
      },
      {
       "output_type": "stream",
       "stream": "stdout",
       "text": [
        "\n",
        "fund_returns_FCAMX"
       ]
      },
      {
       "output_type": "stream",
       "stream": "stdout",
       "text": [
        "\n",
        "fund_returns_FRCIX"
       ]
      },
      {
       "output_type": "stream",
       "stream": "stdout",
       "text": [
        "\n",
        "fund_returns_FKCIX"
       ]
      },
      {
       "output_type": "stream",
       "stream": "stdout",
       "text": [
        "\n",
        "fund_returns_FKTFX"
       ]
      },
      {
       "output_type": "stream",
       "stream": "stdout",
       "text": [
        "\n",
        "fund_returns_FRCOX"
       ]
      },
      {
       "output_type": "stream",
       "stream": "stdout",
       "text": [
        "\n",
        "fund_returns_FTCIX"
       ]
      },
      {
       "output_type": "stream",
       "stream": "stdout",
       "text": [
        "\n",
        "fund_returns_FISCX"
       ]
      },
      {
       "output_type": "stream",
       "stream": "stdout",
       "text": [
        "\n",
        "fund_returns_FTCOX"
       ]
      },
      {
       "output_type": "stream",
       "stream": "stdout",
       "text": [
        "\n",
        "fund_returns_FXCTX"
       ]
      },
      {
       "output_type": "stream",
       "stream": "stdout",
       "text": [
        "\n",
        "fund_returns_FPRTX"
       ]
      },
      {
       "output_type": "stream",
       "stream": "stdout",
       "text": [
        "\n",
        "fund_returns_FKDNX"
       ]
      },
      {
       "output_type": "stream",
       "stream": "stdout",
       "text": [
        "\n",
        "fund_returns_FEMDX"
       ]
      },
      {
       "output_type": "stream",
       "stream": "stdout",
       "text": [
        "\n",
        "fund_returns_FISEX"
       ]
      },
      {
       "output_type": "stream",
       "stream": "stdout",
       "text": [
        "\n",
        "fund_returns_FKITX"
       ]
      },
      {
       "output_type": "stream",
       "stream": "stdout",
       "text": [
        "\n",
        "fund_returns_FFTFX"
       ]
      },
      {
       "output_type": "stream",
       "stream": "stdout",
       "text": [
        "\n",
        "fund_returns_FKTIX"
       ]
      },
      {
       "output_type": "stream",
       "stream": "stdout",
       "text": [
        "\n",
        "fund_returns_FRFLX"
       ]
      },
      {
       "output_type": "stream",
       "stream": "stdout",
       "text": [
        "\n",
        "fund_returns_FKCGX"
       ]
      },
      {
       "output_type": "stream",
       "stream": "stdout",
       "text": [
        "\n",
        "fund_returns_FAFRX"
       ]
      },
      {
       "output_type": "stream",
       "stream": "stdout",
       "text": [
        "\n",
        "fund_returns_FCEQX"
       ]
      },
      {
       "output_type": "stream",
       "stream": "stdout",
       "text": [
        "\n",
        "fund_returns_FFALX"
       ]
      },
      {
       "output_type": "stream",
       "stream": "stdout",
       "text": [
        "\n",
        "fund_returns_FTGAX"
       ]
      },
      {
       "output_type": "stream",
       "stream": "stdout",
       "text": [
        "\n",
        "fund_returns_FGAAX"
       ]
      },
      {
       "output_type": "stream",
       "stream": "stdout",
       "text": [
        "\n",
        "fund_returns_FGGAX"
       ]
      },
      {
       "output_type": "stream",
       "stream": "stdout",
       "text": [
        "\n",
        "fund_returns_FLGIX"
       ]
      },
      {
       "output_type": "stream",
       "stream": "stdout",
       "text": [
        "\n",
        "fund_returns_FGRRX"
       ]
      },
      {
       "output_type": "stream",
       "stream": "stdout",
       "text": [
        "\n",
        "fund_returns_FKRCX"
       ]
      },
      {
       "output_type": "stream",
       "stream": "stdout",
       "text": [
        "\n",
        "fund_returns_FKGRX"
       ]
      },
      {
       "output_type": "stream",
       "stream": "stdout",
       "text": [
        "\n",
        "fund_returns_FGTIX"
       ]
      },
      {
       "output_type": "stream",
       "stream": "stdout",
       "text": [
        "\n",
        "fund_returns_FGRAX"
       ]
      },
      {
       "output_type": "stream",
       "stream": "stdout",
       "text": [
        "\n",
        "fund_returns_FHAIX"
       ]
      },
      {
       "output_type": "stream",
       "stream": "stdout",
       "text": [
        "\n",
        "fund_returns_FRHIX"
       ]
      },
      {
       "output_type": "stream",
       "stream": "stdout",
       "text": [
        "\n",
        "fund_returns_FKINX"
       ]
      },
      {
       "output_type": "stream",
       "stream": "stdout",
       "text": [
        "\n",
        "fund_returns_FINGX"
       ]
      },
      {
       "output_type": "stream",
       "stream": "stdout",
       "text": [
        "\n",
        "fund_returns_FTFIX"
       ]
      },
      {
       "output_type": "stream",
       "stream": "stdout",
       "text": [
        "\n",
        "fund_returns_FNGAX"
       ]
      },
      {
       "output_type": "stream",
       "stream": "stdout",
       "text": [
        "\n",
        "fund_returns_FKSCX"
       ]
      },
      {
       "output_type": "stream",
       "stream": "stdout",
       "text": [
        "\n",
        "fund_returns_FAAAX"
       ]
      },
      {
       "output_type": "stream",
       "stream": "stdout",
       "text": [
        "\n",
        "fund_returns_FRKYX"
       ]
      },
      {
       "output_type": "stream",
       "stream": "stdout",
       "text": [
        "\n",
        "fund_returns_FKLAX"
       ]
      },
      {
       "output_type": "stream",
       "stream": "stdout",
       "text": [
        "\n",
        "fund_returns_FLCIX"
       ]
      },
      {
       "output_type": "stream",
       "stream": "stdout",
       "text": [
        "\n",
        "fund_returns_FLVAX"
       ]
      },
      {
       "output_type": "stream",
       "stream": "stdout",
       "text": [
        "\n",
        "fund_returns_FTRAX"
       ]
      },
      {
       "output_type": "stream",
       "stream": "stdout",
       "text": [
        "\n",
        "fund_returns_FTRTX"
       ]
      },
      {
       "output_type": "stream",
       "stream": "stdout",
       "text": [
        "\n",
        "fund_returns_FRTAX"
       ]
      },
      {
       "output_type": "stream",
       "stream": "stdout",
       "text": [
        "\n",
        "fund_returns_FTTAX"
       ]
      },
      {
       "output_type": "stream",
       "stream": "stdout",
       "text": [
        "\n",
        "fund_returns_FLDAX"
       ]
      },
      {
       "output_type": "stream",
       "stream": "stdout",
       "text": [
        "\n",
        "fund_returns_FMISX"
       ]
      },
      {
       "output_type": "stream",
       "stream": "stdout",
       "text": [
        "\n",
        "fund_returns_FMDTX"
       ]
      },
      {
       "output_type": "stream",
       "stream": "stdout",
       "text": [
        "\n",
        "fund_returns_FTTMX"
       ]
      },
      {
       "output_type": "stream",
       "stream": "stdout",
       "text": [
        "\n",
        "fund_returns_FRMCX"
       ]
      },
      {
       "output_type": "stream",
       "stream": "stdout",
       "text": [
        "\n",
        "fund_returns_FMVAX"
       ]
      },
      {
       "output_type": "stream",
       "stream": "stdout",
       "text": [
        "\n",
        "fund_returns_FMINX"
       ]
      },
      {
       "output_type": "stream",
       "stream": "stdout",
       "text": [
        "\n",
        "fund_returns_FRMOX"
       ]
      },
      {
       "output_type": "stream",
       "stream": "stdout",
       "text": [
        "\n",
        "fund_returns_FMTIX"
       ]
      },
      {
       "output_type": "stream",
       "stream": "stdout",
       "text": [
        "\n",
        "fund_returns_FTMAX"
       ]
      },
      {
       "output_type": "stream",
       "stream": "stdout",
       "text": [
        "\n",
        "fund_returns_BEGRX"
       ]
      },
      {
       "output_type": "stream",
       "stream": "stdout",
       "text": [
        "\n",
        "fund_returns_MEURX"
       ]
      },
      {
       "output_type": "stream",
       "stream": "stdout",
       "text": [
        "\n",
        "fund_returns_TFSIX"
       ]
      },
      {
       "output_type": "stream",
       "stream": "stdout",
       "text": [
        "\n",
        "fund_returns_MDISX"
       ]
      },
      {
       "output_type": "stream",
       "stream": "stdout",
       "text": [
        "\n",
        "fund_returns_FMIAX"
       ]
      },
      {
       "output_type": "stream",
       "stream": "stdout",
       "text": [
        "\n",
        "fund_returns_MQIFX"
       ]
      },
      {
       "output_type": "stream",
       "stream": "stdout",
       "text": [
        "\n",
        "fund_returns_MUTHX"
       ]
      },
      {
       "output_type": "stream",
       "stream": "stdout",
       "text": [
        "\n",
        "fund_returns_FRNRX"
       ]
      },
      {
       "output_type": "stream",
       "stream": "stdout",
       "text": [
        "\n",
        "fund_returns_FXNCX"
       ]
      },
      {
       "output_type": "stream",
       "stream": "stdout",
       "text": [
        "\n",
        "fund_returns_FRNJX"
       ]
      },
      {
       "output_type": "stream",
       "stream": "stdout",
       "text": [
        "\n",
        "fund_returns_FKNIX"
       ]
      },
      {
       "output_type": "stream",
       "stream": "stdout",
       "text": [
        "\n",
        "fund_returns_FNYTX"
       ]
      },
      {
       "output_type": "stream",
       "stream": "stdout",
       "text": [
        "\n",
        "fund_returns_FTOIX"
       ]
      },
      {
       "output_type": "stream",
       "stream": "stdout",
       "text": [
        "\n",
        "fund_returns_FRORX"
       ]
      },
      {
       "output_type": "stream",
       "stream": "stdout",
       "text": [
        "\n",
        "fund_returns_FRPAX"
       ]
      },
      {
       "output_type": "stream",
       "stream": "stdout",
       "text": [
        "\n",
        "fund_returns_FREEX"
       ]
      },
      {
       "output_type": "stream",
       "stream": "stdout",
       "text": [
        "\n",
        "fund_returns_FRRAX"
       ]
      },
      {
       "output_type": "stream",
       "stream": "stdout",
       "text": [
        "\n",
        "fund_returns_FRDPX"
       ]
      },
      {
       "output_type": "stream",
       "stream": "stdout",
       "text": [
        "\n",
        "fund_returns_FSGRX"
       ]
      },
      {
       "output_type": "stream",
       "stream": "stdout",
       "text": [
        "\n",
        "fund_returns_FRVLX"
       ]
      },
      {
       "output_type": "stream",
       "stream": "stdout",
       "text": [
        "\n",
        "fund_returns_FRSGX"
       ]
      },
      {
       "output_type": "stream",
       "stream": "stdout",
       "text": [
        "\n",
        "fund_returns_FRSTX"
       ]
      },
      {
       "output_type": "stream",
       "stream": "stdout",
       "text": [
        "\n",
        "fund_returns_FSMIX"
       ]
      },
      {
       "output_type": "stream",
       "stream": "stdout",
       "text": [
        "\n",
        "fund_returns_FRTIX"
       ]
      },
      {
       "output_type": "stream",
       "stream": "stdout",
       "text": [
        "\n",
        "fund_returns_FKBAX"
       ]
      },
      {
       "output_type": "stream",
       "stream": "stdout",
       "text": [
        "\n",
        "fund_returns_FKUSX"
       ]
      },
      {
       "output_type": "stream",
       "stream": "stdout",
       "text": [
        "\n",
        "fund_returns_FKUTX"
       ]
      },
      {
       "output_type": "stream",
       "stream": "stdout",
       "text": [
        "\n",
        "fund_returns_FRVAX"
       ]
      },
      {
       "output_type": "stream",
       "stream": "stdout",
       "text": [
        "\n",
        "fund_returns_FWPAX"
       ]
      },
      {
       "output_type": "stream",
       "stream": "stdout",
       "text": [
        "\n",
        "fund_returns_TABRX"
       ]
      },
      {
       "output_type": "stream",
       "stream": "stdout",
       "text": [
        "\n",
        "fund_returns_TCWAX"
       ]
      },
      {
       "output_type": "stream",
       "stream": "stdout",
       "text": [
        "\n",
        "fund_returns_TEDMX"
       ]
      },
      {
       "output_type": "stream",
       "stream": "stdout",
       "text": [
        "\n",
        "fund_returns_TAEMX"
       ]
      },
      {
       "output_type": "stream",
       "stream": "stdout",
       "text": [
        "\n",
        "fund_returns_FEMGX"
       ]
      },
      {
       "output_type": "stream",
       "stream": "stdout",
       "text": [
        "\n",
        "fund_returns_TEMMX"
       ]
      },
      {
       "output_type": "stream",
       "stream": "stdout",
       "text": [
        "\n",
        "fund_returns_TEMFX"
       ]
      },
      {
       "output_type": "stream",
       "stream": "stdout",
       "text": [
        "\n",
        "fund_returns_FINEX"
       ]
      },
      {
       "output_type": "stream",
       "stream": "stdout",
       "text": [
        "\n",
        "fund_returns_TFMAX"
       ]
      },
      {
       "output_type": "stream",
       "stream": "stdout",
       "text": [
        "\n",
        "fund_returns_TINCX"
       ]
      },
      {
       "output_type": "stream",
       "stream": "stdout",
       "text": [
        "\n",
        "fund_returns_TPINX"
       ]
      },
      {
       "output_type": "stream",
       "stream": "stdout",
       "text": [
        "\n",
        "fund_returns_TEGOX"
       ]
      },
      {
       "output_type": "stream",
       "stream": "stdout",
       "text": [
        "\n",
        "fund_returns_TEMGX"
       ]
      },
      {
       "output_type": "stream",
       "stream": "stdout",
       "text": [
        "\n",
        "fund_returns_TGTRX"
       ]
      },
      {
       "output_type": "stream",
       "stream": "stdout",
       "text": [
        "\n",
        "fund_returns_TEPLX"
       ]
      },
      {
       "output_type": "stream",
       "stream": "stdout",
       "text": [
        "\n",
        "fund_returns_ICPHX"
       ]
      },
      {
       "output_type": "stream",
       "stream": "stdout",
       "text": [
        "\n",
        "fund_returns_TFSCX"
       ]
      },
      {
       "output_type": "stream",
       "stream": "stdout",
       "text": [
        "\n",
        "fund_returns_TGESX"
       ]
      },
      {
       "output_type": "stream",
       "stream": "stdout",
       "text": [
        "\n",
        "fund_returns_TEEMX"
       ]
      },
      {
       "output_type": "stream",
       "stream": "stdout",
       "text": [
        "\n",
        "fund_returns_TFEQX"
       ]
      },
      {
       "output_type": "stream",
       "stream": "stdout",
       "text": [
        "\n",
        "fund_returns_TBOAX"
       ]
      },
      {
       "output_type": "stream",
       "stream": "stdout",
       "text": [
        "\n",
        "fund_returns_TEMWX"
       ]
      },
      {
       "output_type": "stream",
       "stream": "stdout",
       "text": [
        "\n",
        "fund_returns_BDOIX"
       ]
      },
      {
       "output_type": "stream",
       "stream": "stdout",
       "text": [
        "\n",
        "fund_returns_BAAPX"
       ]
      },
      {
       "output_type": "stream",
       "stream": "stdout",
       "text": [
        "\n",
        "fund_returns_BACAX"
       ]
      },
      {
       "output_type": "stream",
       "stream": "stdout",
       "text": [
        "\n",
        "fund_returns_BRACX"
       ]
      },
      {
       "output_type": "stream",
       "stream": "stdout",
       "text": [
        "\n",
        "fund_returns_BRAMX"
       ]
      },
      {
       "output_type": "stream",
       "stream": "stdout",
       "text": [
        "\n",
        "fund_returns_BATPX"
       ]
      },
      {
       "output_type": "stream",
       "stream": "stdout",
       "text": [
        "\n",
        "fund_returns_BRASX"
       ]
      },
      {
       "output_type": "stream",
       "stream": "stdout",
       "text": [
        "\n",
        "fund_returns_MACPX"
       ]
      },
      {
       "output_type": "stream",
       "stream": "stdout",
       "text": [
        "\n",
        "fund_returns_MABAX"
       ]
      },
      {
       "output_type": "stream",
       "stream": "stdout",
       "text": [
        "\n",
        "fund_returns_WFBIX"
       ]
      },
      {
       "output_type": "stream",
       "stream": "stdout",
       "text": [
        "\n",
        "fund_returns_MBCMX"
       ]
      },
      {
       "output_type": "stream",
       "stream": "stdout",
       "text": [
        "\n",
        "fund_returns_MDFGX"
       ]
      },
      {
       "output_type": "stream",
       "stream": "stdout",
       "text": [
        "\n",
        "fund_returns_BCSAX"
       ]
      },
      {
       "output_type": "stream",
       "stream": "stdout",
       "text": [
        "\n",
        "fund_returns_BACPX"
       ]
      },
      {
       "output_type": "stream",
       "stream": "stdout",
       "text": [
        "\n",
        "fund_returns_BFMCX"
       ]
      },
      {
       "output_type": "stream",
       "stream": "stdout",
       "text": [
        "\n",
        "fund_returns_BCRIX"
       ]
      },
      {
       "output_type": "stream",
       "stream": "stdout",
       "text": [
        "\n",
        "fund_returns_BDSAX"
       ]
      },
      {
       "output_type": "stream",
       "stream": "stdout",
       "text": [
        "\n",
        "fund_returns_BAEDX"
       ]
      },
      {
       "output_type": "stream",
       "stream": "stdout",
       "text": [
        "\n",
        "fund_returns_BEEAX"
       ]
      },
      {
       "output_type": "stream",
       "stream": "stdout",
       "text": [
        "\n",
        "fund_returns_BACHX"
       ]
      },
      {
       "output_type": "stream",
       "stream": "stdout",
       "text": [
        "\n",
        "fund_returns_BLSAX"
       ]
      },
      {
       "output_type": "stream",
       "stream": "stdout",
       "text": [
        "\n",
        "fund_returns_MADCX"
       ]
      },
      {
       "output_type": "stream",
       "stream": "stdout",
       "text": [
        "\n",
        "fund_returns_SSGRX"
       ]
      },
      {
       "output_type": "stream",
       "stream": "stdout",
       "text": [
        "\n",
        "fund_returns_MBDVX"
       ]
      },
      {
       "output_type": "stream",
       "stream": "stdout",
       "text": [
        "\n",
        "fund_returns_MAEFX"
       ]
      },
      {
       "output_type": "stream",
       "stream": "stdout",
       "text": [
        "\n",
        "fund_returns_STSEX"
       ]
      },
      {
       "output_type": "stream",
       "stream": "stdout",
       "text": [
        "\n",
        "fund_returns_BMCAX"
       ]
      },
      {
       "output_type": "stream",
       "stream": "stdout",
       "text": [
        "\n",
        "fund_returns_BFRAX"
       ]
      },
      {
       "output_type": "stream",
       "stream": "stdout",
       "text": [
        "\n",
        "fund_returns_MDFOX"
       ]
      },
      {
       "output_type": "stream",
       "stream": "stdout",
       "text": [
        "\n",
        "fund_returns_MBLOX"
       ]
      },
      {
       "output_type": "stream",
       "stream": "stdout",
       "text": [
        "\n",
        "fund_returns_BABDX"
       ]
      },
      {
       "output_type": "stream",
       "stream": "stdout",
       "text": [
        "\n",
        "fund_returns_BGCAX"
       ]
      },
      {
       "output_type": "stream",
       "stream": "stdout",
       "text": [
        "\n",
        "fund_returns_BDMAX"
       ]
      },
      {
       "output_type": "stream",
       "stream": "stdout",
       "text": [
        "\n",
        "fund_returns_BROAX"
       ]
      },
      {
       "output_type": "stream",
       "stream": "stdout",
       "text": [
        "\n",
        "fund_returns_MDGCX"
       ]
      },
      {
       "output_type": "stream",
       "stream": "stdout",
       "text": [
        "\n",
        "fund_returns_BGPAX"
       ]
      },
      {
       "output_type": "stream",
       "stream": "stdout",
       "text": [
        "\n",
        "fund_returns_BAGPX"
       ]
      },
      {
       "output_type": "stream",
       "stream": "stdout",
       "text": [
        "\n",
        "fund_returns_SHSAX"
       ]
      },
      {
       "output_type": "stream",
       "stream": "stdout",
       "text": [
        "\n",
        "fund_returns_BHYAX"
       ]
      },
      {
       "output_type": "stream",
       "stream": "stdout",
       "text": [
        "\n",
        "fund_returns_MDYHX"
       ]
      },
      {
       "output_type": "stream",
       "stream": "stdout",
       "text": [
        "\n",
        "fund_returns_BPRAX"
       ]
      },
      {
       "output_type": "stream",
       "stream": "stdout",
       "text": [
        "\n",
        "fund_returns_MAIIX"
       ]
      },
      {
       "output_type": "stream",
       "stream": "stdout",
       "text": [
        "\n",
        "fund_returns_MDILX"
       ]
      },
      {
       "output_type": "stream",
       "stream": "stdout",
       "text": [
        "\n",
        "fund_returns_BREAX"
       ]
      },
      {
       "output_type": "stream",
       "stream": "stdout",
       "text": [
        "\n",
        "fund_returns_BLADX"
       ]
      },
      {
       "output_type": "stream",
       "stream": "stdout",
       "text": [
        "\n",
        "fund_returns_MDLRX"
       ]
      },
      {
       "output_type": "stream",
       "stream": "stdout",
       "text": [
        "\n",
        "fund_returns_BALPX"
       ]
      },
      {
       "output_type": "stream",
       "stream": "stdout",
       "text": [
        "\n",
        "fund_returns_MKLRX"
       ]
      },
      {
       "output_type": "stream",
       "stream": "stdout",
       "text": [
        "\n",
        "fund_returns_MDLHX"
       ]
      },
      {
       "output_type": "stream",
       "stream": "stdout",
       "text": [
        "\n",
        "fund_returns_MKLHX"
       ]
      },
      {
       "output_type": "stream",
       "stream": "stdout",
       "text": [
        "\n",
        "fund_returns_MDLVX"
       ]
      },
      {
       "output_type": "stream",
       "stream": "stdout",
       "text": [
        "\n",
        "fund_returns_MKLVX"
       ]
      },
      {
       "output_type": "stream",
       "stream": "stdout",
       "text": [
        "\n",
        "fund_returns_MDLTX"
       ]
      },
      {
       "output_type": "stream",
       "stream": "stdout",
       "text": [
        "\n",
        "fund_returns_STLCX"
       ]
      },
      {
       "output_type": "stream",
       "stream": "stdout",
       "text": [
        "\n",
        "fund_returns_LPBAX"
       ]
      },
      {
       "output_type": "stream",
       "stream": "stdout",
       "text": [
        "\n",
        "fund_returns_STLDX"
       ]
      },
      {
       "output_type": "stream",
       "stream": "stdout",
       "text": [
        "\n",
        "fund_returns_LPJAX"
       ]
      },
      {
       "output_type": "stream",
       "stream": "stdout",
       "text": [
        "\n",
        "fund_returns_STLEX"
       ]
      },
      {
       "output_type": "stream",
       "stream": "stdout",
       "text": [
        "\n",
        "fund_returns_LPHAX"
       ]
      },
      {
       "output_type": "stream",
       "stream": "stdout",
       "text": [
        "\n",
        "fund_returns_LPRFX"
       ]
      },
      {
       "output_type": "stream",
       "stream": "stdout",
       "text": [
        "\n",
        "fund_returns_LPVAX"
       ]
      },
      {
       "output_type": "stream",
       "stream": "stdout",
       "text": [
        "\n",
        "fund_returns_BAPBX"
       ]
      },
      {
       "output_type": "stream",
       "stream": "stdout",
       "text": [
        "\n",
        "fund_returns_BAPCX"
       ]
      },
      {
       "output_type": "stream",
       "stream": "stdout",
       "text": [
        "\n",
        "fund_returns_BAPDX"
       ]
      },
      {
       "output_type": "stream",
       "stream": "stdout",
       "text": [
        "\n",
        "fund_returns_BAPEX"
       ]
      },
      {
       "output_type": "stream",
       "stream": "stdout",
       "text": [
        "\n",
        "fund_returns_BAPGX"
       ]
      },
      {
       "output_type": "stream",
       "stream": "stdout",
       "text": [
        "\n",
        "fund_returns_BAPHX"
       ]
      },
      {
       "output_type": "stream",
       "stream": "stdout",
       "text": [
        "\n",
        "fund_returns_BAPJX"
       ]
      },
      {
       "output_type": "stream",
       "stream": "stdout",
       "text": [
        "\n",
        "fund_returns_BAPKX"
       ]
      },
      {
       "output_type": "stream",
       "stream": "stdout",
       "text": [
        "\n",
        "fund_returns_BAPLX"
       ]
      },
      {
       "output_type": "stream",
       "stream": "stdout",
       "text": [
        "\n",
        "fund_returns_LIQIX"
       ]
      },
      {
       "output_type": "stream",
       "stream": "stdout",
       "text": [
        "\n",
        "No Returns Data available for Fund : "
       ]
      },
      {
       "output_type": "stream",
       "stream": "stdout",
       "text": [
        " LIQIX\n",
        "fund_returns_LIBIX\n",
        "fund_returns_LINIX"
       ]
      },
      {
       "output_type": "stream",
       "stream": "stdout",
       "text": [
        "\n",
        "fund_returns_LIJIX"
       ]
      },
      {
       "output_type": "stream",
       "stream": "stdout",
       "text": [
        "\n",
        "fund_returns_LIKIX"
       ]
      },
      {
       "output_type": "stream",
       "stream": "stdout",
       "text": [
        "\n",
        "fund_returns_LIHIX"
       ]
      },
      {
       "output_type": "stream",
       "stream": "stdout",
       "text": [
        "\n",
        "fund_returns_LIPIX"
       ]
      },
      {
       "output_type": "stream",
       "stream": "stdout",
       "text": [
        "\n",
        "fund_returns_LIVIX"
       ]
      },
      {
       "output_type": "stream",
       "stream": "stdout",
       "text": [
        "\n",
        "fund_returns_LIRIX"
       ]
      },
      {
       "output_type": "stream",
       "stream": "stdout",
       "text": [
        "\n",
        "fund_returns_STLAX"
       ]
      },
      {
       "output_type": "stream",
       "stream": "stdout",
       "text": [
        "\n",
        "fund_returns_MDEGX"
       ]
      },
      {
       "output_type": "stream",
       "stream": "stdout",
       "text": [
        "\n",
        "fund_returns_BFMSX"
       ]
      },
      {
       "output_type": "stream",
       "stream": "stdout",
       "text": [
        "\n",
        "fund_returns_PCBAX"
       ]
      },
      {
       "output_type": "stream",
       "stream": "stdout",
       "text": [
        "\n",
        "fund_returns_MDRFX"
       ]
      },
      {
       "output_type": "stream",
       "stream": "stdout",
       "text": [
        "\n",
        "fund_returns_BMGAX"
       ]
      },
      {
       "output_type": "stream",
       "stream": "stdout",
       "text": [
        "\n",
        "fund_returns_BAMPX"
       ]
      },
      {
       "output_type": "stream",
       "stream": "stdout",
       "text": [
        "\n",
        "fund_returns_BAICX"
       ]
      },
      {
       "output_type": "stream",
       "stream": "stdout",
       "text": [
        "\n",
        "fund_returns_BRRAX"
       ]
      },
      {
       "output_type": "stream",
       "stream": "stdout",
       "text": [
        "\n",
        "fund_returns_MANLX"
       ]
      },
      {
       "output_type": "stream",
       "stream": "stdout",
       "text": [
        "\n",
        "fund_returns_MBGRX"
       ]
      },
      {
       "output_type": "stream",
       "stream": "stdout",
       "text": [
        "\n",
        "No Returns Data available for Fund : "
       ]
      },
      {
       "output_type": "stream",
       "stream": "stdout",
       "text": [
        " MBGRX\n",
        "fund_returns_MANJX\n",
        "fund_returns_MANKX"
       ]
      },
      {
       "output_type": "stream",
       "stream": "stdout",
       "text": [
        "\n",
        "fund_returns_MAPYX"
       ]
      },
      {
       "output_type": "stream",
       "stream": "stdout",
       "text": [
        "\n",
        "fund_returns_MAPCX"
       ]
      },
      {
       "output_type": "stream",
       "stream": "stdout",
       "text": [
        "\n",
        "fund_returns_BAREX"
       ]
      },
      {
       "output_type": "stream",
       "stream": "stdout",
       "text": [
        "\n",
        "fund_returns_BRGNX"
       ]
      },
      {
       "output_type": "stream",
       "stream": "stdout",
       "text": [
        "\n",
        "fund_returns_WFSPX"
       ]
      },
      {
       "output_type": "stream",
       "stream": "stdout",
       "text": [
        "\n",
        "fund_returns_BGSAX"
       ]
      },
      {
       "output_type": "stream",
       "stream": "stdout",
       "text": [
        "\n",
        "fund_returns_BMSAX"
       ]
      },
      {
       "output_type": "stream",
       "stream": "stdout",
       "text": [
        "\n",
        "fund_returns_BBSOX"
       ]
      },
      {
       "output_type": "stream",
       "stream": "stdout",
       "text": [
        "\n",
        "fund_returns_MALMX"
       ]
      },
      {
       "output_type": "stream",
       "stream": "stdout",
       "text": [
        "\n",
        "fund_returns_BDSTX"
       ]
      },
      {
       "output_type": "stream",
       "stream": "stdout",
       "text": [
        "\n",
        "fund_returns_PSGIX"
       ]
      },
      {
       "output_type": "stream",
       "stream": "stdout",
       "text": [
        "\n",
        "fund_returns_MDSWX"
       ]
      },
      {
       "output_type": "stream",
       "stream": "stdout",
       "text": [
        "\n",
        "fund_returns_MASKX"
       ]
      },
      {
       "output_type": "stream",
       "stream": "stdout",
       "text": [
        "\n",
        "fund_returns_BASIX"
       ]
      },
      {
       "output_type": "stream",
       "stream": "stdout",
       "text": [
        "\n",
        "fund_returns_MAMTX"
       ]
      },
      {
       "output_type": "stream",
       "stream": "stdout",
       "text": [
        "\n",
        "fund_returns_BSTAX"
       ]
      },
      {
       "output_type": "stream",
       "stream": "stdout",
       "text": [
        "\n",
        "fund_returns_MFHQX"
       ]
      },
      {
       "output_type": "stream",
       "stream": "stdout",
       "text": [
        "\n",
        "fund_returns_BBUSX"
       ]
      },
      {
       "output_type": "stream",
       "stream": "stdout",
       "text": [
        "\n",
        "fund_returns_PNIGX"
       ]
      },
      {
       "output_type": "stream",
       "stream": "stdout",
       "text": [
        "\n",
        "fund_returns_MSUMX"
       ]
      },
      {
       "output_type": "stream",
       "stream": "stdout",
       "text": [
        "\n",
        "fund_returns_BMEAX"
       ]
      },
      {
       "output_type": "stream",
       "stream": "stdout",
       "text": [
        "\n",
        "fund_returns_MASPX"
       ]
      },
      {
       "output_type": "stream",
       "stream": "stdout",
       "text": [
        "\n",
        "fund_returns_MAWIX"
       ]
      },
      {
       "output_type": "stream",
       "stream": "stdout",
       "text": [
        "\n",
        "fund_returns_MGCSX"
       ]
      },
      {
       "output_type": "stream",
       "stream": "stdout",
       "text": [
        "\n",
        "fund_returns_MMCVX"
       ]
      },
      {
       "output_type": "stream",
       "stream": "stdout",
       "text": [
        "\n",
        "fund_returns_CPASX"
       ]
      },
      {
       "output_type": "stream",
       "stream": "stdout",
       "text": [
        "\n",
        "fund_returns_CMCPX"
       ]
      },
      {
       "output_type": "stream",
       "stream": "stdout",
       "text": [
        "\n",
        "fund_returns_CSCEX"
       ]
      },
      {
       "output_type": "stream",
       "stream": "stdout",
       "text": [
        "\n",
        "fund_returns_CSLGX"
       ]
      },
      {
       "output_type": "stream",
       "stream": "stdout",
       "text": [
        "\n",
        "fund_returns_CDEIX"
       ]
      },
      {
       "output_type": "stream",
       "stream": "stdout",
       "text": [
        "\n",
        "fund_returns_CMGUX"
       ]
      },
      {
       "output_type": "stream",
       "stream": "stdout",
       "text": [
        "\n",
        "fund_returns_RARAX"
       ]
      },
      {
       "output_type": "stream",
       "stream": "stdout",
       "text": [
        "\n",
        "fund_returns_CMMAX"
       ]
      },
      {
       "output_type": "stream",
       "stream": "stdout",
       "text": [
        "\n",
        "fund_returns_CEMAX"
       ]
      },
      {
       "output_type": "stream",
       "stream": "stdout",
       "text": [
        "\n",
        "fund_returns_CMSAX"
       ]
      },
      {
       "output_type": "stream",
       "stream": "stdout",
       "text": [
        "\n",
        "fund_returns_CAGAX"
       ]
      },
      {
       "output_type": "stream",
       "stream": "stdout",
       "text": [
        "\n",
        "fund_returns_CAEAX"
       ]
      },
      {
       "output_type": "stream",
       "stream": "stdout",
       "text": [
        "\n",
        "fund_returns_ACFFX"
       ]
      },
      {
       "output_type": "stream",
       "stream": "stdout",
       "text": [
        "\n",
        "fund_returns_ACINX"
       ]
      },
      {
       "output_type": "stream",
       "stream": "stdout",
       "text": [
        "\n",
        "fund_returns_ACTWX"
       ]
      },
      {
       "output_type": "stream",
       "stream": "stdout",
       "text": [
        "\n",
        "fund_returns_AUSAX"
       ]
      },
      {
       "output_type": "stream",
       "stream": "stdout",
       "text": [
        "\n",
        "fund_returns_ACRNX"
       ]
      },
      {
       "output_type": "stream",
       "stream": "stdout",
       "text": [
        "\n",
        "fund_returns_NCMAX"
       ]
      },
      {
       "output_type": "stream",
       "stream": "stdout",
       "text": [
        "\n",
        "fund_returns_SCTEX"
       ]
      },
      {
       "output_type": "stream",
       "stream": "stdout",
       "text": [
        "\n",
        "fund_returns_NGAMX"
       ]
      },
      {
       "output_type": "stream",
       "stream": "stdout",
       "text": [
        "\n",
        "fund_returns_SETMX"
       ]
      },
      {
       "output_type": "stream",
       "stream": "stdout",
       "text": [
        "\n",
        "fund_returns_SEMAX"
       ]
      },
      {
       "output_type": "stream",
       "stream": "stdout",
       "text": [
        "\n",
        "fund_returns_NMDMX"
       ]
      },
      {
       "output_type": "stream",
       "stream": "stdout",
       "text": [
        "\n",
        "fund_returns_NNIBX"
       ]
      },
      {
       "output_type": "stream",
       "stream": "stdout",
       "text": [
        "\n",
        "fund_returns_GANYX"
       ]
      },
      {
       "output_type": "stream",
       "stream": "stdout",
       "text": [
        "\n",
        "fund_returns_CMBFX"
       ]
      },
      {
       "output_type": "stream",
       "stream": "stdout",
       "text": [
        "\n",
        "fund_returns_NSCMX"
       ]
      },
      {
       "output_type": "stream",
       "stream": "stdout",
       "text": [
        "\n",
        "fund_returns_INTAX"
       ]
      },
      {
       "output_type": "stream",
       "stream": "stdout",
       "text": [
        "\n",
        "fund_returns_NVABX"
       ]
      },
      {
       "output_type": "stream",
       "stream": "stdout",
       "text": [
        "\n",
        "fund_returns_TAPRX"
       ]
      },
      {
       "output_type": "stream",
       "stream": "stdout",
       "text": [
        "\n",
        "fund_returns_CBALX"
       ]
      },
      {
       "output_type": "stream",
       "stream": "stdout",
       "text": [
        "\n",
        "fund_returns_UMMGX"
       ]
      },
      {
       "output_type": "stream",
       "stream": "stdout",
       "text": [
        "\n",
        "fund_returns_CLMPX"
       ]
      },
      {
       "output_type": "stream",
       "stream": "stdout",
       "text": [
        "\n",
        "fund_returns_AXBAX"
       ]
      },
      {
       "output_type": "stream",
       "stream": "stdout",
       "text": [
        "\n",
        "fund_returns_ABDAX"
       ]
      },
      {
       "output_type": "stream",
       "stream": "stdout",
       "text": [
        "\n",
        "fund_returns_NBIAX"
       ]
      },
      {
       "output_type": "stream",
       "stream": "stdout",
       "text": [
        "\n",
        "fund_returns_NLGAX"
       ]
      },
      {
       "output_type": "stream",
       "stream": "stdout",
       "text": [
        "\n",
        "fund_returns_ABUAX"
       ]
      },
      {
       "output_type": "stream",
       "stream": "stdout",
       "text": [
        "\n",
        "fund_returns_CCIYX"
       ]
      },
      {
       "output_type": "stream",
       "stream": "stdout",
       "text": [
        "\n",
        "fund_returns_SMGIX"
       ]
      },
      {
       "output_type": "stream",
       "stream": "stdout",
       "text": [
        "\n",
        "fund_returns_PACIX"
       ]
      },
      {
       "output_type": "stream",
       "stream": "stdout",
       "text": [
        "\n",
        "fund_returns_SRINX"
       ]
      },
      {
       "output_type": "stream",
       "stream": "stdout",
       "text": [
        "\n",
        "fund_returns_INDZX"
       ]
      },
      {
       "output_type": "stream",
       "stream": "stdout",
       "text": [
        "\n",
        "fund_returns_CDRAX"
       ]
      },
      {
       "output_type": "stream",
       "stream": "stdout",
       "text": [
        "\n",
        "fund_returns_GEQAX"
       ]
      },
      {
       "output_type": "stream",
       "stream": "stdout",
       "text": [
        "\n",
        "fund_returns_INUTX"
       ]
      },
      {
       "output_type": "stream",
       "stream": "stdout",
       "text": [
        "\n",
        "fund_returns_REBAX"
       ]
      },
      {
       "output_type": "stream",
       "stream": "stdout",
       "text": [
        "\n",
        "fund_returns_UMEMX"
       ]
      },
      {
       "output_type": "stream",
       "stream": "stdout",
       "text": [
        "\n",
        "fund_returns_INEGX"
       ]
      },
      {
       "output_type": "stream",
       "stream": "stdout",
       "text": [
        "\n",
        "fund_returns_AXEAX"
       ]
      },
      {
       "output_type": "stream",
       "stream": "stdout",
       "text": [
        "\n",
        "fund_returns_CFIAX"
       ]
      },
      {
       "output_type": "stream",
       "stream": "stdout",
       "text": [
        "\n",
        "fund_returns_RFRAX"
       ]
      },
      {
       "output_type": "stream",
       "stream": "stdout",
       "text": [
        "\n",
        "fund_returns_IGBFX"
       ]
      },
      {
       "output_type": "stream",
       "stream": "stdout",
       "text": [
        "\n",
        "fund_returns_CSVFX"
       ]
      },
      {
       "output_type": "stream",
       "stream": "stdout",
       "text": [
        "\n",
        "fund_returns_UMESX"
       ]
      },
      {
       "output_type": "stream",
       "stream": "stdout",
       "text": [
        "\n",
        "fund_returns_IGLGX"
       ]
      },
      {
       "output_type": "stream",
       "stream": "stdout",
       "text": [
        "\n",
        "fund_returns_RRIAX"
       ]
      },
      {
       "output_type": "stream",
       "stream": "stdout",
       "text": [
        "\n",
        "No Returns Data available for Fund : "
       ]
      },
      {
       "output_type": "stream",
       "stream": "stdout",
       "text": [
        " RRIAX\n",
        "fund_returns_IMRFX\n",
        "fund_returns_CMTFX"
       ]
      },
      {
       "output_type": "stream",
       "stream": "stdout",
       "text": [
        "\n",
        "fund_returns_NGCAX"
       ]
      },
      {
       "output_type": "stream",
       "stream": "stdout",
       "text": [
        "\n",
        "fund_returns_INEAX"
       ]
      },
      {
       "output_type": "stream",
       "stream": "stdout",
       "text": [
        "\n",
        "fund_returns_SRHMX"
       ]
      },
      {
       "output_type": "stream",
       "stream": "stdout",
       "text": [
        "\n",
        "fund_returns_RBBAX"
       ]
      },
      {
       "output_type": "stream",
       "stream": "stdout",
       "text": [
        "\n",
        "fund_returns_AIOAX"
       ]
      },
      {
       "output_type": "stream",
       "stream": "stdout",
       "text": [
        "\n",
        "fund_returns_APSAX"
       ]
      },
      {
       "output_type": "stream",
       "stream": "stdout",
       "text": [
        "\n",
        "fund_returns_SRBFX"
       ]
      },
      {
       "output_type": "stream",
       "stream": "stdout",
       "text": [
        "\n",
        "fund_returns_CNBAX"
       ]
      },
      {
       "output_type": "stream",
       "stream": "stdout",
       "text": [
        "\n",
        "fund_returns_NIVLX"
       ]
      },
      {
       "output_type": "stream",
       "stream": "stdout",
       "text": [
        "\n",
        "fund_returns_NMIAX"
       ]
      },
      {
       "output_type": "stream",
       "stream": "stdout",
       "text": [
        "\n",
        "fund_returns_GAEGX"
       ]
      },
      {
       "output_type": "stream",
       "stream": "stdout",
       "text": [
        "\n",
        "fund_returns_NINDX"
       ]
      },
      {
       "output_type": "stream",
       "stream": "stdout",
       "text": [
        "\n",
        "fund_returns_AQEAX"
       ]
      },
      {
       "output_type": "stream",
       "stream": "stdout",
       "text": [
        "\n",
        "fund_returns_RDLAX"
       ]
      },
      {
       "output_type": "stream",
       "stream": "stdout",
       "text": [
        "\n",
        "fund_returns_RLCAX"
       ]
      },
      {
       "output_type": "stream",
       "stream": "stdout",
       "text": [
        "\n",
        "fund_returns_NLGIX"
       ]
      },
      {
       "output_type": "stream",
       "stream": "stdout",
       "text": [
        "\n",
        "fund_returns_ALDAX"
       ]
      },
      {
       "output_type": "stream",
       "stream": "stdout",
       "text": [
        "\n",
        "fund_returns_NMTAX"
       ]
      },
      {
       "output_type": "stream",
       "stream": "stdout",
       "text": [
        "\n",
        "fund_returns_CCMAX"
       ]
      },
      {
       "output_type": "stream",
       "stream": "stdout",
       "text": [
        "\n",
        "fund_returns_NFEAX"
       ]
      },
      {
       "output_type": "stream",
       "stream": "stdout",
       "text": [
        "\n",
        "fund_returns_COGAX"
       ]
      },
      {
       "output_type": "stream",
       "stream": "stdout",
       "text": [
        "\n",
        "fund_returns_NMGIX"
       ]
      },
      {
       "output_type": "stream",
       "stream": "stdout",
       "text": [
        "\n",
        "fund_returns_MAIOX"
       ]
      },
      {
       "output_type": "stream",
       "stream": "stdout",
       "text": [
        "\n",
        "fund_returns_CMTAX"
       ]
      },
      {
       "output_type": "stream",
       "stream": "stdout",
       "text": [
        "\n",
        "fund_returns_CLSPX"
       ]
      },
      {
       "output_type": "stream",
       "stream": "stdout",
       "text": [
        "\n",
        "fund_returns_NMPAX"
       ]
      },
      {
       "output_type": "stream",
       "stream": "stdout",
       "text": [
        "\n",
        "fund_returns_CMUAX"
       ]
      },
      {
       "output_type": "stream",
       "stream": "stdout",
       "text": [
        "\n",
        "fund_returns_IMNTX"
       ]
      },
      {
       "output_type": "stream",
       "stream": "stdout",
       "text": [
        "\n",
        "fund_returns_NIEQX"
       ]
      },
      {
       "output_type": "stream",
       "stream": "stdout",
       "text": [
        "\n",
        "fund_returns_ASVAX"
       ]
      },
      {
       "output_type": "stream",
       "stream": "stdout",
       "text": [
        "\n",
        "fund_returns_COLNX"
       ]
      },
      {
       "output_type": "stream",
       "stream": "stdout",
       "text": [
        "\n",
        "fund_returns_COSZX"
       ]
      },
      {
       "output_type": "stream",
       "stream": "stdout",
       "text": [
        "\n",
        "fund_returns_USPAX"
       ]
      },
      {
       "output_type": "stream",
       "stream": "stdout",
       "text": [
        "\n",
        "fund_returns_CREEX"
       ]
      },
      {
       "output_type": "stream",
       "stream": "stdout",
       "text": [
        "\n",
        "fund_returns_CRAAX"
       ]
      },
      {
       "output_type": "stream",
       "stream": "stdout",
       "text": [
        "\n",
        "fund_returns_NSEPX"
       ]
      },
      {
       "output_type": "stream",
       "stream": "stdout",
       "text": [
        "\n",
        "fund_returns_UMLGX"
       ]
      },
      {
       "output_type": "stream",
       "stream": "stdout",
       "text": [
        "\n",
        "fund_returns_SLVAX"
       ]
      },
      {
       "output_type": "stream",
       "stream": "stdout",
       "text": [
        "\n",
        "fund_returns_SSCVX"
       ]
      },
      {
       "output_type": "stream",
       "stream": "stdout",
       "text": [
        "\n",
        "fund_returns_SLMCX"
       ]
      },
      {
       "output_type": "stream",
       "stream": "stdout",
       "text": [
        "\n",
        "fund_returns_SHGTX"
       ]
      },
      {
       "output_type": "stream",
       "stream": "stdout",
       "text": [
        "\n",
        "fund_returns_NSTMX"
       ]
      },
      {
       "output_type": "stream",
       "stream": "stdout",
       "text": [
        "\n",
        "fund_returns_NSMIX"
       ]
      },
      {
       "output_type": "stream",
       "stream": "stdout",
       "text": [
        "\n",
        "fund_returns_SMCEX"
       ]
      },
      {
       "output_type": "stream",
       "stream": "stdout",
       "text": [
        "\n",
        "fund_returns_CMSCX"
       ]
      },
      {
       "output_type": "stream",
       "stream": "stdout",
       "text": [
        "\n",
        "fund_returns_NMSAX"
       ]
      },
      {
       "output_type": "stream",
       "stream": "stdout",
       "text": [
        "\n",
        "fund_returns_CSMIX"
       ]
      },
      {
       "output_type": "stream",
       "stream": "stdout",
       "text": [
        "\n",
        "fund_returns_COVAX"
       ]
      },
      {
       "output_type": "stream",
       "stream": "stdout",
       "text": [
        "\n",
        "fund_returns_AMVAX"
       ]
      },
      {
       "output_type": "stream",
       "stream": "stdout",
       "text": [
        "\n",
        "fund_returns_COSIX"
       ]
      },
      {
       "output_type": "stream",
       "stream": "stdout",
       "text": [
        "\n",
        "fund_returns_COLTX"
       ]
      },
      {
       "output_type": "stream",
       "stream": "stdout",
       "text": [
        "\n",
        "fund_returns_COTZX"
       ]
      },
      {
       "output_type": "stream",
       "stream": "stdout",
       "text": [
        "\n",
        "fund_returns_AUGAX"
       ]
      },
      {
       "output_type": "stream",
       "stream": "stdout",
       "text": [
        "\n",
        "fund_returns_IUTIX"
       ]
      },
      {
       "output_type": "stream",
       "stream": "stdout",
       "text": [
        "\n",
        "fund_returns_UMBIX"
       ]
      },
      {
       "output_type": "stream",
       "stream": "stdout",
       "text": [
        "\n",
        "fund_returns_OAAAX"
       ]
      },
      {
       "output_type": "stream",
       "stream": "stdout",
       "text": [
        "\n",
        "fund_returns_OPTFX"
       ]
      },
      {
       "output_type": "stream",
       "stream": "stdout",
       "text": [
        "\n",
        "fund_returns_OPPEX"
       ]
      },
      {
       "output_type": "stream",
       "stream": "stdout",
       "text": [
        "\n",
        "fund_returns_QRAAX"
       ]
      },
      {
       "output_type": "stream",
       "stream": "stdout",
       "text": [
        "\n",
        "fund_returns_OACIX"
       ]
      },
      {
       "output_type": "stream",
       "stream": "stdout",
       "text": [
        "\n",
        "fund_returns_OPIGX"
       ]
      },
      {
       "output_type": "stream",
       "stream": "stdout",
       "text": [
        "\n",
        "fund_returns_OFIAX"
       ]
      },
      {
       "output_type": "stream",
       "stream": "stdout",
       "text": [
        "\n",
        "fund_returns_ODMAX"
       ]
      },
      {
       "output_type": "stream",
       "stream": "stdout",
       "text": [
        "\n",
        "fund_returns_OPOCX"
       ]
      },
      {
       "output_type": "stream",
       "stream": "stdout",
       "text": [
        "\n",
        "fund_returns_OEGAX"
       ]
      },
      {
       "output_type": "stream",
       "stream": "stdout",
       "text": [
        "\n",
        "fund_returns_ODAAX"
       ]
      },
      {
       "output_type": "stream",
       "stream": "stdout",
       "text": [
        "\n",
        "fund_returns_OSVAX"
       ]
      },
      {
       "output_type": "stream",
       "stream": "stdout",
       "text": [
        "\n",
        "fund_returns_OEMAX"
       ]
      },
      {
       "output_type": "stream",
       "stream": "stdout",
       "text": [
        "\n",
        "fund_returns_OEQAX"
       ]
      },
      {
       "output_type": "stream",
       "stream": "stdout",
       "text": [
        "\n",
        "fund_returns_OAEIX"
       ]
      },
      {
       "output_type": "stream",
       "stream": "stdout",
       "text": [
        "\n",
        "fund_returns_OAAIX"
       ]
      },
      {
       "output_type": "stream",
       "stream": "stdout",
       "text": [
        "\n",
        "fund_returns_QVOPX"
       ]
      },
      {
       "output_type": "stream",
       "stream": "stdout",
       "text": [
        "\n",
        "fund_returns_OPPAX"
       ]
      },
      {
       "output_type": "stream",
       "stream": "stdout",
       "text": [
        "\n",
        "fund_returns_QVGIX"
       ]
      },
      {
       "output_type": "stream",
       "stream": "stdout",
       "text": [
        "\n",
        "fund_returns_OGYAX"
       ]
      },
      {
       "output_type": "stream",
       "stream": "stdout",
       "text": [
        "\n",
        "fund_returns_OARAX"
       ]
      },
      {
       "output_type": "stream",
       "stream": "stdout",
       "text": [
        "\n",
        "fund_returns_OPGIX"
       ]
      },
      {
       "output_type": "stream",
       "stream": "stdout",
       "text": [
        "\n",
        "fund_returns_OGRAX"
       ]
      },
      {
       "output_type": "stream",
       "stream": "stdout",
       "text": [
        "\n",
        "fund_returns_OPSIX"
       ]
      },
      {
       "output_type": "stream",
       "stream": "stdout",
       "text": [
        "\n",
        "fund_returns_GLVAX"
       ]
      },
      {
       "output_type": "stream",
       "stream": "stdout",
       "text": [
        "\n",
        "fund_returns_OPGSX"
       ]
      },
      {
       "output_type": "stream",
       "stream": "stdout",
       "text": [
        "\n",
        "fund_returns_OIBAX"
       ]
      },
      {
       "output_type": "stream",
       "stream": "stdout",
       "text": [
        "\n",
        "fund_returns_OIDAX"
       ]
      },
      {
       "output_type": "stream",
       "stream": "stdout",
       "text": [
        "\n",
        "fund_returns_OIGAX"
       ]
      },
      {
       "output_type": "stream",
       "stream": "stdout",
       "text": [
        "\n",
        "fund_returns_OSMAX"
       ]
      },
      {
       "output_type": "stream",
       "stream": "stdout",
       "text": [
        "\n",
        "fund_returns_QIVAX"
       ]
      },
      {
       "output_type": "stream",
       "stream": "stdout",
       "text": [
        "\n",
        "fund_returns_OUSGX"
       ]
      },
      {
       "output_type": "stream",
       "stream": "stdout",
       "text": [
        "\n",
        "fund_returns_OPGVX"
       ]
      },
      {
       "output_type": "stream",
       "stream": "stdout",
       "text": [
        "\n",
        "fund_returns_MSIGX"
       ]
      },
      {
       "output_type": "stream",
       "stream": "stdout",
       "text": [
        "\n",
        "fund_returns_OPMSX"
       ]
      },
      {
       "output_type": "stream",
       "stream": "stdout",
       "text": [
        "\n",
        "fund_returns_OMSOX"
       ]
      },
      {
       "output_type": "stream",
       "stream": "stdout",
       "text": [
        "\n",
        "fund_returns_OSCAX"
       ]
      },
      {
       "output_type": "stream",
       "stream": "stdout",
       "text": [
        "\n",
        "fund_returns_OAMIX"
       ]
      },
      {
       "output_type": "stream",
       "stream": "stdout",
       "text": [
        "\n",
        "fund_returns_OREAX"
       ]
      },
      {
       "output_type": "stream",
       "stream": "stdout",
       "text": [
        "\n",
        "fund_returns_OARDX"
       ]
      },
      {
       "output_type": "stream",
       "stream": "stdout",
       "text": [
        "\n",
        "fund_returns_OPTAX"
       ]
      },
      {
       "output_type": "stream",
       "stream": "stdout",
       "text": [
        "\n",
        "fund_returns_OPNYX"
       ]
      },
      {
       "output_type": "stream",
       "stream": "stdout",
       "text": [
        "\n",
        "fund_returns_ORAZX"
       ]
      },
      {
       "output_type": "stream",
       "stream": "stdout",
       "text": [
        "\n",
        "fund_returns_OPCAX"
       ]
      },
      {
       "output_type": "stream",
       "stream": "stdout",
       "text": [
        "\n",
        "fund_returns_RMUNX"
       ]
      },
      {
       "output_type": "stream",
       "stream": "stdout",
       "text": [
        "\n",
        "fund_returns_ORNAX"
       ]
      },
      {
       "output_type": "stream",
       "stream": "stdout",
       "text": [
        "\n",
        "fund_returns_ORRWX"
       ]
      },
      {
       "output_type": "stream",
       "stream": "stdout",
       "text": [
        "\n",
        "fund_returns_OLCAX"
       ]
      },
      {
       "output_type": "stream",
       "stream": "stdout",
       "text": [
        "\n",
        "fund_returns_OPITX"
       ]
      },
      {
       "output_type": "stream",
       "stream": "stdout",
       "text": [
        "\n",
        "fund_returns_LTNYX"
       ]
      },
      {
       "output_type": "stream",
       "stream": "stdout",
       "text": [
        "\n",
        "fund_returns_ORMAX"
       ]
      },
      {
       "output_type": "stream",
       "stream": "stdout",
       "text": [
        "\n",
        "fund_returns_ORMDX"
       ]
      },
      {
       "output_type": "stream",
       "stream": "stdout",
       "text": [
        "\n",
        "fund_returns_ORMIX"
       ]
      },
      {
       "output_type": "stream",
       "stream": "stdout",
       "text": [
        "\n",
        "fund_returns_OPAMX"
       ]
      },
      {
       "output_type": "stream",
       "stream": "stdout",
       "text": [
        "\n",
        "fund_returns_OPNCX"
       ]
      },
      {
       "output_type": "stream",
       "stream": "stdout",
       "text": [
        "\n",
        "fund_returns_ONJAX"
       ]
      },
      {
       "output_type": "stream",
       "stream": "stdout",
       "text": [
        "\n",
        "fund_returns_OROHX"
       ]
      },
      {
       "output_type": "stream",
       "stream": "stdout",
       "text": [
        "\n",
        "fund_returns_OPATX"
       ]
      },
      {
       "output_type": "stream",
       "stream": "stdout",
       "text": [
        "\n",
        "fund_returns_ORSTX"
       ]
      },
      {
       "output_type": "stream",
       "stream": "stdout",
       "text": [
        "\n",
        "fund_returns_ORVAX"
       ]
      },
      {
       "output_type": "stream",
       "stream": "stdout",
       "text": [
        "\n",
        "fund_returns_OOSAX"
       ]
      },
      {
       "output_type": "stream",
       "stream": "stdout",
       "text": [
        "\n",
        "fund_returns_OSFAX"
       ]
      },
      {
       "output_type": "stream",
       "stream": "stdout",
       "text": [
        "\n",
        "fund_returns_QVSCX"
       ]
      },
      {
       "output_type": "stream",
       "stream": "stdout",
       "text": [
        "\n",
        "fund_returns_MLPAX"
       ]
      },
      {
       "output_type": "stream",
       "stream": "stdout",
       "text": [
        "\n",
        "fund_returns_MLPNX"
       ]
      },
      {
       "output_type": "stream",
       "stream": "stdout",
       "text": [
        "\n",
        "fund_returns_MLPDX"
       ]
      },
      {
       "output_type": "stream",
       "stream": "stdout",
       "text": [
        "\n",
        "fund_returns_MLPFX"
       ]
      },
      {
       "output_type": "stream",
       "stream": "stdout",
       "text": [
        "\n",
        "fund_returns_OSDYX"
       ]
      },
      {
       "output_type": "stream",
       "stream": "stdout",
       "text": [
        "\n",
        "fund_returns_CGRWX"
       ]
      },
      {
       "output_type": "stream",
       "stream": "stdout",
       "text": [
        "\n"
       ]
      }
     ],
     "prompt_number": 309
    },
    {
     "cell_type": "code",
     "collapsed": false,
     "input": [
      "fund_returns['fund_returns_FCNTX']"
     ],
     "language": "python",
     "metadata": {},
     "outputs": [
      {
       "html": [
        "<div style=\"max-height:1000px;max-width:1500px;overflow:auto;\">\n",
        "<table border=\"1\" class=\"dataframe\">\n",
        "  <thead>\n",
        "    <tr style=\"text-align: right;\">\n",
        "      <th></th>\n",
        "      <th>Year</th>\n",
        "      <th>FCNTX_Returns</th>\n",
        "      <th>S&amp;P 500 TR USD</th>\n",
        "      <th>Category (LB)</th>\n",
        "      <th>+/- S&amp;P 500 TR USD</th>\n",
        "      <th>+/- Category (LB)</th>\n",
        "      <th>Annual_Net_Exp_Ratio</th>\n",
        "      <th>Turnover_Ratio</th>\n",
        "      <th>Rank_In_Category</th>\n",
        "    </tr>\n",
        "  </thead>\n",
        "  <tbody>\n",
        "    <tr>\n",
        "      <th>0 </th>\n",
        "      <td> 1999</td>\n",
        "      <td> 25.03</td>\n",
        "      <td> 21.04</td>\n",
        "      <td> 38.87</td>\n",
        "      <td>  3.99</td>\n",
        "      <td>-13.84</td>\n",
        "      <td> 0.62</td>\n",
        "      <td> 177.00</td>\n",
        "      <td> 21</td>\n",
        "    </tr>\n",
        "    <tr>\n",
        "      <th>1 </th>\n",
        "      <td> 2000</td>\n",
        "      <td> -6.80</td>\n",
        "      <td> -9.10</td>\n",
        "      <td>-13.05</td>\n",
        "      <td>  2.30</td>\n",
        "      <td>  6.24</td>\n",
        "      <td> 0.84</td>\n",
        "      <td> 166.00</td>\n",
        "      <td> 40</td>\n",
        "    </tr>\n",
        "    <tr>\n",
        "      <th>2 </th>\n",
        "      <td> 2001</td>\n",
        "      <td>-12.59</td>\n",
        "      <td>-11.89</td>\n",
        "      <td>-22.30</td>\n",
        "      <td> -0.70</td>\n",
        "      <td>  9.71</td>\n",
        "      <td> 0.91</td>\n",
        "      <td> 141.00</td>\n",
        "      <td> 51</td>\n",
        "    </tr>\n",
        "    <tr>\n",
        "      <th>3 </th>\n",
        "      <td> 2002</td>\n",
        "      <td> -9.63</td>\n",
        "      <td>-22.10</td>\n",
        "      <td>-27.64</td>\n",
        "      <td> 12.47</td>\n",
        "      <td> 18.01</td>\n",
        "      <td> 0.99</td>\n",
        "      <td>  80.00</td>\n",
        "      <td>  2</td>\n",
        "    </tr>\n",
        "    <tr>\n",
        "      <th>4 </th>\n",
        "      <td> 2003</td>\n",
        "      <td> 27.95</td>\n",
        "      <td> 28.68</td>\n",
        "      <td> 28.66</td>\n",
        "      <td> -0.73</td>\n",
        "      <td> -0.70</td>\n",
        "      <td> 0.98</td>\n",
        "      <td>   0.98</td>\n",
        "      <td> 39</td>\n",
        "    </tr>\n",
        "    <tr>\n",
        "      <th>5 </th>\n",
        "      <td> 2004</td>\n",
        "      <td> 15.07</td>\n",
        "      <td> 10.88</td>\n",
        "      <td>  7.81</td>\n",
        "      <td>  4.19</td>\n",
        "      <td>  7.26</td>\n",
        "      <td> 0.92</td>\n",
        "      <td>   0.92</td>\n",
        "      <td>  5</td>\n",
        "    </tr>\n",
        "    <tr>\n",
        "      <th>6 </th>\n",
        "      <td> 2005</td>\n",
        "      <td> 16.23</td>\n",
        "      <td>  4.91</td>\n",
        "      <td>  6.71</td>\n",
        "      <td> 11.32</td>\n",
        "      <td>  9.52</td>\n",
        "      <td> 0.88</td>\n",
        "      <td>  60.00</td>\n",
        "      <td>  3</td>\n",
        "    </tr>\n",
        "    <tr>\n",
        "      <th>7 </th>\n",
        "      <td> 2006</td>\n",
        "      <td> 11.54</td>\n",
        "      <td> 15.79</td>\n",
        "      <td>  7.05</td>\n",
        "      <td> -4.26</td>\n",
        "      <td>  4.48</td>\n",
        "      <td> 0.89</td>\n",
        "      <td>  76.00</td>\n",
        "      <td> 14</td>\n",
        "    </tr>\n",
        "    <tr>\n",
        "      <th>8 </th>\n",
        "      <td> 2007</td>\n",
        "      <td> 19.78</td>\n",
        "      <td>  5.49</td>\n",
        "      <td> 13.35</td>\n",
        "      <td> 14.29</td>\n",
        "      <td>  6.43</td>\n",
        "      <td> 0.89</td>\n",
        "      <td>  56.00</td>\n",
        "      <td> 19</td>\n",
        "    </tr>\n",
        "    <tr>\n",
        "      <th>9 </th>\n",
        "      <td> 2008</td>\n",
        "      <td>-37.16</td>\n",
        "      <td>-37.00</td>\n",
        "      <td>-40.67</td>\n",
        "      <td> -0.17</td>\n",
        "      <td>  3.50</td>\n",
        "      <td> 0.94</td>\n",
        "      <td>  78.00</td>\n",
        "      <td> 21</td>\n",
        "    </tr>\n",
        "    <tr>\n",
        "      <th>10</th>\n",
        "      <td> 2009</td>\n",
        "      <td> 29.23</td>\n",
        "      <td> 26.46</td>\n",
        "      <td> 35.68</td>\n",
        "      <td>  2.76</td>\n",
        "      <td> -6.46</td>\n",
        "      <td> 1.01</td>\n",
        "      <td>  58.00</td>\n",
        "      <td> 76</td>\n",
        "    </tr>\n",
        "    <tr>\n",
        "      <th>11</th>\n",
        "      <td> 2010</td>\n",
        "      <td> 16.93</td>\n",
        "      <td> 15.06</td>\n",
        "      <td> 15.53</td>\n",
        "      <td>  1.87</td>\n",
        "      <td>  1.40</td>\n",
        "      <td> 0.91</td>\n",
        "      <td>  46.00</td>\n",
        "      <td> 35</td>\n",
        "    </tr>\n",
        "    <tr>\n",
        "      <th>12</th>\n",
        "      <td> 2011</td>\n",
        "      <td> -0.14</td>\n",
        "      <td>  2.11</td>\n",
        "      <td> -2.46</td>\n",
        "      <td> -2.25</td>\n",
        "      <td>  2.32</td>\n",
        "      <td> 0.81</td>\n",
        "      <td>  55.00</td>\n",
        "      <td> 30</td>\n",
        "    </tr>\n",
        "    <tr>\n",
        "      <th>13</th>\n",
        "      <td> 2012</td>\n",
        "      <td> 16.26</td>\n",
        "      <td> 16.00</td>\n",
        "      <td> 15.34</td>\n",
        "      <td>  0.25</td>\n",
        "      <td>  0.92</td>\n",
        "      <td> 0.74</td>\n",
        "      <td>  48.00</td>\n",
        "      <td> 36</td>\n",
        "    </tr>\n",
        "    <tr>\n",
        "      <th>14</th>\n",
        "      <td> 2013</td>\n",
        "      <td> 34.15</td>\n",
        "      <td> 32.39</td>\n",
        "      <td> 33.92</td>\n",
        "      <td>  1.76</td>\n",
        "      <td>  0.23</td>\n",
        "      <td> 0.66</td>\n",
        "      <td>  46.00</td>\n",
        "      <td> 46</td>\n",
        "    </tr>\n",
        "    <tr>\n",
        "      <th>15</th>\n",
        "      <td>  YTD</td>\n",
        "      <td> 10.14</td>\n",
        "      <td> 13.98</td>\n",
        "      <td> 10.79</td>\n",
        "      <td> -3.84</td>\n",
        "      <td> -0.65</td>\n",
        "      <td>-0.65</td>\n",
        "      <td>  -0.65</td>\n",
        "      <td> 61</td>\n",
        "    </tr>\n",
        "  </tbody>\n",
        "</table>\n",
        "</div>"
       ],
       "metadata": {},
       "output_type": "pyout",
       "prompt_number": 314,
       "text": [
        "    Year  FCNTX_Returns  S&P 500 TR USD  Category (LB)  +/- S&P 500 TR USD  \\\n",
        "0   1999          25.03           21.04          38.87                3.99   \n",
        "1   2000          -6.80           -9.10         -13.05                2.30   \n",
        "2   2001         -12.59          -11.89         -22.30               -0.70   \n",
        "3   2002          -9.63          -22.10         -27.64               12.47   \n",
        "4   2003          27.95           28.68          28.66               -0.73   \n",
        "5   2004          15.07           10.88           7.81                4.19   \n",
        "6   2005          16.23            4.91           6.71               11.32   \n",
        "7   2006          11.54           15.79           7.05               -4.26   \n",
        "8   2007          19.78            5.49          13.35               14.29   \n",
        "9   2008         -37.16          -37.00         -40.67               -0.17   \n",
        "10  2009          29.23           26.46          35.68                2.76   \n",
        "11  2010          16.93           15.06          15.53                1.87   \n",
        "12  2011          -0.14            2.11          -2.46               -2.25   \n",
        "13  2012          16.26           16.00          15.34                0.25   \n",
        "14  2013          34.15           32.39          33.92                1.76   \n",
        "15   YTD          10.14           13.98          10.79               -3.84   \n",
        "\n",
        "    +/- Category (LB)  Annual_Net_Exp_Ratio  Turnover_Ratio  Rank_In_Category  \n",
        "0              -13.84                  0.62          177.00                21  \n",
        "1                6.24                  0.84          166.00                40  \n",
        "2                9.71                  0.91          141.00                51  \n",
        "3               18.01                  0.99           80.00                 2  \n",
        "4               -0.70                  0.98            0.98                39  \n",
        "5                7.26                  0.92            0.92                 5  \n",
        "6                9.52                  0.88           60.00                 3  \n",
        "7                4.48                  0.89           76.00                14  \n",
        "8                6.43                  0.89           56.00                19  \n",
        "9                3.50                  0.94           78.00                21  \n",
        "10              -6.46                  1.01           58.00                76  \n",
        "11               1.40                  0.91           46.00                35  \n",
        "12               2.32                  0.81           55.00                30  \n",
        "13               0.92                  0.74           48.00                36  \n",
        "14               0.23                  0.66           46.00                46  \n",
        "15              -0.65                 -0.65           -0.65                61  "
       ]
      }
     ],
     "prompt_number": 314
    },
    {
     "cell_type": "code",
     "collapsed": false,
     "input": [
      "fund_returns1 = {}\n",
      "# 15 year returns data \n",
      "for i in range(0,1):\n",
      "    fund_name1 = \"OMEAX\"\n",
      "    fund_benchmark_var1 = \"Barclays Municipal TR USD\"\n",
      "    print fund_name1, fund_benchmark_var1\n",
      "    symbol1 = (mstar_benchmark_symbol[mstar_benchmark_symbol['Benchmark_Index'] == fund_benchmark_var1]['Mstar_Symbol']).values[0]\n",
      "    fund_ret_url1 = \"http://performance.morningstar.com/Performance/fund/performance-history-1.action?&t=XNAS:\"+fund_name1+\"&region=usa&culture=en-US&cur=&ops=clear&s=\"+symbol1+\"&ndec=2&ep=true&align=m&y=15&comparisonRemove=false&loccat=&taxadj=&benchmarkSecId=&benchmarktype=\"\n",
      "    fund_history1 = get_performance_data(fund_ret_url1)\n",
      "    fund_history1 = fnc_transpose(fund_history1)\n",
      "    fund_history1 = fund_history1.reset_index()\n",
      "    fund_history1.columns = ['Year',fund_name1+'_Returns',fund_benchmark_var1,'Category (LB)','+/- S&P 500 TR USD','+/- Category (LB)','Annual_Net_Exp_Ratio','Turnover_Ratio','Rank_In_Category']\n",
      "    #print \"No Returns Data available for Fund : \",fund_name\n",
      "    # Creating an Empty DataFrame for fund with no returns\n",
      "    #fund_history = pd.DataFrame()\n",
      "    key = \"fund_returns_\"+fund_name1\n",
      "    fund_returns1[key] = fund_history1"
     ],
     "language": "python",
     "metadata": {},
     "outputs": [
      {
       "output_type": "stream",
       "stream": "stdout",
       "text": [
        "OMEAX Barclays Municipal TR USD\n"
       ]
      }
     ],
     "prompt_number": 310
    },
    {
     "cell_type": "code",
     "collapsed": false,
     "input": [
      "fund_history1"
     ],
     "language": "python",
     "metadata": {},
     "outputs": [
      {
       "html": [
        "<div style=\"max-height:1000px;max-width:1500px;overflow:auto;\">\n",
        "<table border=\"1\" class=\"dataframe\">\n",
        "  <thead>\n",
        "    <tr style=\"text-align: right;\">\n",
        "      <th></th>\n",
        "      <th>Year</th>\n",
        "      <th>OMEAX_Returns</th>\n",
        "      <th>Barclays Municipal TR USD</th>\n",
        "      <th>Category (LB)</th>\n",
        "      <th>+/- S&amp;P 500 TR USD</th>\n",
        "      <th>+/- Category (LB)</th>\n",
        "      <th>Annual_Net_Exp_Ratio</th>\n",
        "      <th>Turnover_Ratio</th>\n",
        "      <th>Rank_In_Category</th>\n",
        "    </tr>\n",
        "  </thead>\n",
        "  <tbody>\n",
        "    <tr>\n",
        "      <th>0 </th>\n",
        "      <td> 1999</td>\n",
        "      <td> 11.27</td>\n",
        "      <td> -2.06</td>\n",
        "      <td> 20.92</td>\n",
        "      <td> 13.33</td>\n",
        "      <td>-9.65</td>\n",
        "      <td>-9.65</td>\n",
        "      <td> -9.65</td>\n",
        "      <td> 66</td>\n",
        "    </tr>\n",
        "    <tr>\n",
        "      <th>1 </th>\n",
        "      <td> 2000</td>\n",
        "      <td> 13.85</td>\n",
        "      <td> 11.68</td>\n",
        "      <td>  6.36</td>\n",
        "      <td>  2.16</td>\n",
        "      <td> 7.49</td>\n",
        "      <td> 0.82</td>\n",
        "      <td> 64.00</td>\n",
        "      <td> 32</td>\n",
        "    </tr>\n",
        "    <tr>\n",
        "      <th>2 </th>\n",
        "      <td> 2001</td>\n",
        "      <td>  1.29</td>\n",
        "      <td>  5.13</td>\n",
        "      <td> -3.12</td>\n",
        "      <td> -3.83</td>\n",
        "      <td> 4.41</td>\n",
        "      <td> 0.82</td>\n",
        "      <td> 37.00</td>\n",
        "      <td> 29</td>\n",
        "    </tr>\n",
        "    <tr>\n",
        "      <th>3 </th>\n",
        "      <td> 2002</td>\n",
        "      <td>-14.93</td>\n",
        "      <td>  9.60</td>\n",
        "      <td>-16.55</td>\n",
        "      <td>-24.54</td>\n",
        "      <td> 1.61</td>\n",
        "      <td> 0.82</td>\n",
        "      <td> 74.00</td>\n",
        "      <td> 44</td>\n",
        "    </tr>\n",
        "    <tr>\n",
        "      <th>4 </th>\n",
        "      <td> 2003</td>\n",
        "      <td> 36.19</td>\n",
        "      <td>  5.31</td>\n",
        "      <td> 36.28</td>\n",
        "      <td> 30.87</td>\n",
        "      <td>-0.10</td>\n",
        "      <td> 0.82</td>\n",
        "      <td> 54.00</td>\n",
        "      <td> 40</td>\n",
        "    </tr>\n",
        "    <tr>\n",
        "      <th>5 </th>\n",
        "      <td> 2004</td>\n",
        "      <td> 18.23</td>\n",
        "      <td>  4.48</td>\n",
        "      <td> 16.30</td>\n",
        "      <td> 13.75</td>\n",
        "      <td> 1.92</td>\n",
        "      <td> 0.77</td>\n",
        "      <td>  0.77</td>\n",
        "      <td> 28</td>\n",
        "    </tr>\n",
        "    <tr>\n",
        "      <th>6 </th>\n",
        "      <td> 2005</td>\n",
        "      <td> 10.81</td>\n",
        "      <td>  3.51</td>\n",
        "      <td>  9.25</td>\n",
        "      <td>  7.29</td>\n",
        "      <td> 1.56</td>\n",
        "      <td> 0.75</td>\n",
        "      <td> 64.00</td>\n",
        "      <td> 39</td>\n",
        "    </tr>\n",
        "    <tr>\n",
        "      <th>7 </th>\n",
        "      <td> 2006</td>\n",
        "      <td> 13.38</td>\n",
        "      <td>  4.84</td>\n",
        "      <td> 14.03</td>\n",
        "      <td>  8.54</td>\n",
        "      <td>-0.65</td>\n",
        "      <td> 0.66</td>\n",
        "      <td> 53.00</td>\n",
        "      <td> 49</td>\n",
        "    </tr>\n",
        "    <tr>\n",
        "      <th>8 </th>\n",
        "      <td> 2007</td>\n",
        "      <td>  3.01</td>\n",
        "      <td>  3.36</td>\n",
        "      <td>  4.85</td>\n",
        "      <td> -0.35</td>\n",
        "      <td>-1.85</td>\n",
        "      <td> 0.70</td>\n",
        "      <td> 44.00</td>\n",
        "      <td> 63</td>\n",
        "    </tr>\n",
        "    <tr>\n",
        "      <th>9 </th>\n",
        "      <td> 2008</td>\n",
        "      <td>-35.62</td>\n",
        "      <td> -2.47</td>\n",
        "      <td>-39.18</td>\n",
        "      <td>-33.14</td>\n",
        "      <td> 3.57</td>\n",
        "      <td> 0.70</td>\n",
        "      <td> 65.00</td>\n",
        "      <td> 27</td>\n",
        "    </tr>\n",
        "    <tr>\n",
        "      <th>10</th>\n",
        "      <td> 2009</td>\n",
        "      <td> 34.28</td>\n",
        "      <td> 12.91</td>\n",
        "      <td> 37.39</td>\n",
        "      <td> 21.37</td>\n",
        "      <td>-3.11</td>\n",
        "      <td> 0.75</td>\n",
        "      <td> 70.00</td>\n",
        "      <td> 51</td>\n",
        "    </tr>\n",
        "    <tr>\n",
        "      <th>11</th>\n",
        "      <td> 2010</td>\n",
        "      <td> 24.38</td>\n",
        "      <td>  2.38</td>\n",
        "      <td> 22.52</td>\n",
        "      <td> 22.00</td>\n",
        "      <td> 1.86</td>\n",
        "      <td> 0.69</td>\n",
        "      <td> 61.00</td>\n",
        "      <td> 41</td>\n",
        "    </tr>\n",
        "    <tr>\n",
        "      <th>12</th>\n",
        "      <td> 2011</td>\n",
        "      <td> -1.90</td>\n",
        "      <td> 10.70</td>\n",
        "      <td> -3.81</td>\n",
        "      <td>-12.60</td>\n",
        "      <td> 1.92</td>\n",
        "      <td> 0.69</td>\n",
        "      <td> 78.00</td>\n",
        "      <td> 31</td>\n",
        "    </tr>\n",
        "    <tr>\n",
        "      <th>13</th>\n",
        "      <td> 2012</td>\n",
        "      <td> 16.99</td>\n",
        "      <td>  6.78</td>\n",
        "      <td> 16.15</td>\n",
        "      <td> 10.21</td>\n",
        "      <td> 0.83</td>\n",
        "      <td> 0.69</td>\n",
        "      <td> 77.00</td>\n",
        "      <td> 44</td>\n",
        "    </tr>\n",
        "    <tr>\n",
        "      <th>14</th>\n",
        "      <td> 2013</td>\n",
        "      <td> 35.90</td>\n",
        "      <td> -2.55</td>\n",
        "      <td> 34.10</td>\n",
        "      <td> 38.46</td>\n",
        "      <td> 1.80</td>\n",
        "      <td> 0.69</td>\n",
        "      <td> 51.00</td>\n",
        "      <td> 34</td>\n",
        "    </tr>\n",
        "    <tr>\n",
        "      <th>15</th>\n",
        "      <td>  YTD</td>\n",
        "      <td>  7.64</td>\n",
        "      <td>  8.50</td>\n",
        "      <td>  7.43</td>\n",
        "      <td> -0.87</td>\n",
        "      <td> 0.21</td>\n",
        "      <td> 0.69</td>\n",
        "      <td> 25.00</td>\n",
        "      <td> 53</td>\n",
        "    </tr>\n",
        "  </tbody>\n",
        "</table>\n",
        "</div>"
       ],
       "metadata": {},
       "output_type": "pyout",
       "prompt_number": 311,
       "text": [
        "    Year  OMEAX_Returns  Barclays Municipal TR USD  Category (LB)  \\\n",
        "0   1999          11.27                      -2.06          20.92   \n",
        "1   2000          13.85                      11.68           6.36   \n",
        "2   2001           1.29                       5.13          -3.12   \n",
        "3   2002         -14.93                       9.60         -16.55   \n",
        "4   2003          36.19                       5.31          36.28   \n",
        "5   2004          18.23                       4.48          16.30   \n",
        "6   2005          10.81                       3.51           9.25   \n",
        "7   2006          13.38                       4.84          14.03   \n",
        "8   2007           3.01                       3.36           4.85   \n",
        "9   2008         -35.62                      -2.47         -39.18   \n",
        "10  2009          34.28                      12.91          37.39   \n",
        "11  2010          24.38                       2.38          22.52   \n",
        "12  2011          -1.90                      10.70          -3.81   \n",
        "13  2012          16.99                       6.78          16.15   \n",
        "14  2013          35.90                      -2.55          34.10   \n",
        "15   YTD           7.64                       8.50           7.43   \n",
        "\n",
        "    +/- S&P 500 TR USD  +/- Category (LB)  Annual_Net_Exp_Ratio  \\\n",
        "0                13.33              -9.65                 -9.65   \n",
        "1                 2.16               7.49                  0.82   \n",
        "2                -3.83               4.41                  0.82   \n",
        "3               -24.54               1.61                  0.82   \n",
        "4                30.87              -0.10                  0.82   \n",
        "5                13.75               1.92                  0.77   \n",
        "6                 7.29               1.56                  0.75   \n",
        "7                 8.54              -0.65                  0.66   \n",
        "8                -0.35              -1.85                  0.70   \n",
        "9               -33.14               3.57                  0.70   \n",
        "10               21.37              -3.11                  0.75   \n",
        "11               22.00               1.86                  0.69   \n",
        "12              -12.60               1.92                  0.69   \n",
        "13               10.21               0.83                  0.69   \n",
        "14               38.46               1.80                  0.69   \n",
        "15               -0.87               0.21                  0.69   \n",
        "\n",
        "    Turnover_Ratio  Rank_In_Category  \n",
        "0            -9.65                66  \n",
        "1            64.00                32  \n",
        "2            37.00                29  \n",
        "3            74.00                44  \n",
        "4            54.00                40  \n",
        "5             0.77                28  \n",
        "6            64.00                39  \n",
        "7            53.00                49  \n",
        "8            44.00                63  \n",
        "9            65.00                27  \n",
        "10           70.00                51  \n",
        "11           61.00                41  \n",
        "12           78.00                31  \n",
        "13           77.00                44  \n",
        "14           51.00                34  \n",
        "15           25.00                53  "
       ]
      }
     ],
     "prompt_number": 311
    },
    {
     "cell_type": "code",
     "collapsed": false,
     "input": [
      "mstar_benchmark_symbol[mstar_benchmark_symbol['Benchmark_Index'] == 'Barclays Municipal TR USD']"
     ],
     "language": "python",
     "metadata": {},
     "outputs": [
      {
       "html": [
        "<div style=\"max-height:1000px;max-width:1500px;overflow:auto;\">\n",
        "<table border=\"1\" class=\"dataframe\">\n",
        "  <thead>\n",
        "    <tr style=\"text-align: right;\">\n",
        "      <th></th>\n",
        "      <th>Benchmark_Index</th>\n",
        "      <th>Mstar_Symbol</th>\n",
        "    </tr>\n",
        "  </thead>\n",
        "  <tbody>\n",
        "    <tr>\n",
        "      <th>2</th>\n",
        "      <td> Barclays Municipal TR USD</td>\n",
        "      <td> 0P00001G5X</td>\n",
        "    </tr>\n",
        "  </tbody>\n",
        "</table>\n",
        "</div>"
       ],
       "metadata": {},
       "output_type": "pyout",
       "prompt_number": 136,
       "text": [
        "             Benchmark_Index Mstar_Symbol\n",
        "2  Barclays Municipal TR USD   0P00001G5X"
       ]
      }
     ],
     "prompt_number": 136
    },
    {
     "cell_type": "code",
     "collapsed": false,
     "input": [
      "fund_returns[\"fund_returns_OMEAX\"]"
     ],
     "language": "python",
     "metadata": {},
     "outputs": [
      {
       "html": [
        "<div style=\"max-height:1000px;max-width:1500px;overflow:auto;\">\n",
        "<table border=\"1\" class=\"dataframe\">\n",
        "  <thead>\n",
        "    <tr style=\"text-align: right;\">\n",
        "      <th></th>\n",
        "    </tr>\n",
        "  </thead>\n",
        "  <tbody>\n",
        "  </tbody>\n",
        "</table>\n",
        "</div>"
       ],
       "metadata": {},
       "output_type": "pyout",
       "prompt_number": 316,
       "text": [
        "Empty DataFrame\n",
        "Columns: []\n",
        "Index: []"
       ]
      }
     ],
     "prompt_number": 316
    },
    {
     "cell_type": "code",
     "collapsed": false,
     "input": [
      "# Export to csv files:\n",
      "\n",
      "for i in range(0, len(fund_returns)):\n",
      "    fund_key = fund_returns.keys()[i]\n",
      "    fund_filename = fund_returns.keys()[i][-5:]+\"_RETURNS.csv\"\n",
      "    fund_returns[fund_key].replace(to_replace=u'\\u2014',value='').to_csv(fund_filename)"
     ],
     "language": "python",
     "metadata": {},
     "outputs": [
      {
       "output_type": "stream",
       "stream": "stderr",
       "text": [
        "//anaconda/lib/python2.7/site-packages/pandas/core/common.py:381: UnicodeWarning: Unicode equal comparison failed to convert both arguments to Unicode - interpreting them as being unequal\n",
        "  mask = arr == x\n"
       ]
      }
     ],
     "prompt_number": 317
    },
    {
     "cell_type": "code",
     "collapsed": false,
     "input": [
      "fund_benchmark_fcntx = fund_returns['fund_returns_VNJTX'].columns[2]\n",
      "print fund_benchmark_fcntx\n",
      "\n",
      "#print fund_benchmark_fcntx"
     ],
     "language": "python",
     "metadata": {},
     "outputs": [
      {
       "output_type": "stream",
       "stream": "stdout",
       "text": [
        "S&P 500 TR USD\n"
       ]
      }
     ],
     "prompt_number": 12
    },
    {
     "cell_type": "code",
     "collapsed": false,
     "input": [
      "fund_returns['fund_returns_VMRGX']"
     ],
     "language": "python",
     "metadata": {},
     "outputs": [
      {
       "html": [
        "<div style=\"max-height:1000px;max-width:1500px;overflow:auto;\">\n",
        "<table border=\"1\" class=\"dataframe\">\n",
        "  <thead>\n",
        "    <tr style=\"text-align: right;\">\n",
        "      <th></th>\n",
        "      <th>Year</th>\n",
        "      <th>VMRGX_Returns</th>\n",
        "      <th>S&amp;P 500 TR USD</th>\n",
        "      <th>Category (LB)</th>\n",
        "      <th>+/- S&amp;P 500 TR USD</th>\n",
        "      <th>+/- Category (LB)</th>\n",
        "      <th>Annual_Net_Exp_Ratio</th>\n",
        "      <th>Turnover_Ratio</th>\n",
        "      <th>Rank_In_Category</th>\n",
        "    </tr>\n",
        "  </thead>\n",
        "  <tbody>\n",
        "    <tr>\n",
        "      <th>0 </th>\n",
        "      <td> 1999</td>\n",
        "      <td> 34.10</td>\n",
        "      <td> 21.04</td>\n",
        "      <td> 38.87</td>\n",
        "      <td> 13.06</td>\n",
        "      <td>-4.77</td>\n",
        "      <td> 0.00</td>\n",
        "      <td>  65</td>\n",
        "      <td>  9</td>\n",
        "    </tr>\n",
        "    <tr>\n",
        "      <th>1 </th>\n",
        "      <td> 2000</td>\n",
        "      <td>-12.51</td>\n",
        "      <td> -9.10</td>\n",
        "      <td>-13.05</td>\n",
        "      <td> -3.41</td>\n",
        "      <td> 0.54</td>\n",
        "      <td> 0.40</td>\n",
        "      <td>  94</td>\n",
        "      <td> 86</td>\n",
        "    </tr>\n",
        "    <tr>\n",
        "      <th>2 </th>\n",
        "      <td> 2001</td>\n",
        "      <td>-13.60</td>\n",
        "      <td>-11.89</td>\n",
        "      <td>-22.30</td>\n",
        "      <td> -1.72</td>\n",
        "      <td> 8.70</td>\n",
        "      <td> 0.41</td>\n",
        "      <td>  53</td>\n",
        "      <td> 61</td>\n",
        "    </tr>\n",
        "    <tr>\n",
        "      <th>3 </th>\n",
        "      <td> 2002</td>\n",
        "      <td>-23.52</td>\n",
        "      <td>-22.10</td>\n",
        "      <td>-27.64</td>\n",
        "      <td> -1.42</td>\n",
        "      <td> 4.13</td>\n",
        "      <td> 0.48</td>\n",
        "      <td> 104</td>\n",
        "      <td> 24</td>\n",
        "    </tr>\n",
        "    <tr>\n",
        "      <th>4 </th>\n",
        "      <td> 2003</td>\n",
        "      <td> 33.73</td>\n",
        "      <td> 28.68</td>\n",
        "      <td> 28.66</td>\n",
        "      <td>  5.05</td>\n",
        "      <td> 5.07</td>\n",
        "      <td> 0.50</td>\n",
        "      <td>  91</td>\n",
        "      <td> 16</td>\n",
        "    </tr>\n",
        "    <tr>\n",
        "      <th>5 </th>\n",
        "      <td> 2004</td>\n",
        "      <td> 10.47</td>\n",
        "      <td> 10.88</td>\n",
        "      <td>  7.81</td>\n",
        "      <td> -0.41</td>\n",
        "      <td> 2.66</td>\n",
        "      <td> 0.44</td>\n",
        "      <td>   0</td>\n",
        "      <td> 26</td>\n",
        "    </tr>\n",
        "    <tr>\n",
        "      <th>6 </th>\n",
        "      <td> 2005</td>\n",
        "      <td>  9.09</td>\n",
        "      <td>  4.91</td>\n",
        "      <td>  6.71</td>\n",
        "      <td>  4.18</td>\n",
        "      <td> 2.38</td>\n",
        "      <td> 0.39</td>\n",
        "      <td>  88</td>\n",
        "      <td> 28</td>\n",
        "    </tr>\n",
        "    <tr>\n",
        "      <th>7 </th>\n",
        "      <td> 2006</td>\n",
        "      <td> 11.09</td>\n",
        "      <td> 15.79</td>\n",
        "      <td>  7.05</td>\n",
        "      <td> -4.70</td>\n",
        "      <td> 4.04</td>\n",
        "      <td> 0.41</td>\n",
        "      <td>  90</td>\n",
        "      <td> 16</td>\n",
        "    </tr>\n",
        "    <tr>\n",
        "      <th>8 </th>\n",
        "      <td> 2007</td>\n",
        "      <td> 11.22</td>\n",
        "      <td>  5.49</td>\n",
        "      <td> 13.35</td>\n",
        "      <td>  5.72</td>\n",
        "      <td>-2.14</td>\n",
        "      <td> 0.37</td>\n",
        "      <td>  79</td>\n",
        "      <td> 62</td>\n",
        "    </tr>\n",
        "    <tr>\n",
        "      <th>9 </th>\n",
        "      <td> 2008</td>\n",
        "      <td>-41.43</td>\n",
        "      <td>-37.00</td>\n",
        "      <td>-40.67</td>\n",
        "      <td> -4.43</td>\n",
        "      <td>-0.76</td>\n",
        "      <td> 0.38</td>\n",
        "      <td>  88</td>\n",
        "      <td> 58</td>\n",
        "    </tr>\n",
        "    <tr>\n",
        "      <th>10</th>\n",
        "      <td> 2009</td>\n",
        "      <td> 36.10</td>\n",
        "      <td> 26.46</td>\n",
        "      <td> 35.68</td>\n",
        "      <td>  9.63</td>\n",
        "      <td> 0.41</td>\n",
        "      <td> 0.48</td>\n",
        "      <td>  87</td>\n",
        "      <td> 40</td>\n",
        "    </tr>\n",
        "    <tr>\n",
        "      <th>11</th>\n",
        "      <td> 2010</td>\n",
        "      <td> 18.70</td>\n",
        "      <td> 15.06</td>\n",
        "      <td> 15.53</td>\n",
        "      <td>  3.64</td>\n",
        "      <td> 3.17</td>\n",
        "      <td> 0.43</td>\n",
        "      <td>  60</td>\n",
        "      <td> 23</td>\n",
        "    </tr>\n",
        "    <tr>\n",
        "      <th>12</th>\n",
        "      <td> 2011</td>\n",
        "      <td> -2.56</td>\n",
        "      <td>  2.11</td>\n",
        "      <td> -2.46</td>\n",
        "      <td> -4.67</td>\n",
        "      <td>-0.09</td>\n",
        "      <td> 0.41</td>\n",
        "      <td>  55</td>\n",
        "      <td> 55</td>\n",
        "    </tr>\n",
        "    <tr>\n",
        "      <th>13</th>\n",
        "      <td> 2012</td>\n",
        "      <td> 15.09</td>\n",
        "      <td> 16.00</td>\n",
        "      <td> 15.34</td>\n",
        "      <td> -0.91</td>\n",
        "      <td>-0.25</td>\n",
        "      <td> 0.40</td>\n",
        "      <td>  49</td>\n",
        "      <td> 50</td>\n",
        "    </tr>\n",
        "    <tr>\n",
        "      <th>14</th>\n",
        "      <td> 2013</td>\n",
        "      <td> 34.76</td>\n",
        "      <td> 32.39</td>\n",
        "      <td> 33.92</td>\n",
        "      <td>  2.38</td>\n",
        "      <td> 0.85</td>\n",
        "      <td> 0.39</td>\n",
        "      <td>  53</td>\n",
        "      <td> 40</td>\n",
        "    </tr>\n",
        "    <tr>\n",
        "      <th>15</th>\n",
        "      <td>  YTD</td>\n",
        "      <td> 12.03</td>\n",
        "      <td> 13.98</td>\n",
        "      <td> 10.80</td>\n",
        "      <td> -1.95</td>\n",
        "      <td> 1.23</td>\n",
        "      <td> 0.40</td>\n",
        "      <td>  52</td>\n",
        "      <td> 36</td>\n",
        "    </tr>\n",
        "  </tbody>\n",
        "</table>\n",
        "</div>"
       ],
       "metadata": {},
       "output_type": "pyout",
       "prompt_number": 39,
       "text": [
        "    Year  VMRGX_Returns  S&P 500 TR USD  Category (LB)  +/- S&P 500 TR USD  \\\n",
        "0   1999          34.10           21.04          38.87               13.06   \n",
        "1   2000         -12.51           -9.10         -13.05               -3.41   \n",
        "2   2001         -13.60          -11.89         -22.30               -1.72   \n",
        "3   2002         -23.52          -22.10         -27.64               -1.42   \n",
        "4   2003          33.73           28.68          28.66                5.05   \n",
        "5   2004          10.47           10.88           7.81               -0.41   \n",
        "6   2005           9.09            4.91           6.71                4.18   \n",
        "7   2006          11.09           15.79           7.05               -4.70   \n",
        "8   2007          11.22            5.49          13.35                5.72   \n",
        "9   2008         -41.43          -37.00         -40.67               -4.43   \n",
        "10  2009          36.10           26.46          35.68                9.63   \n",
        "11  2010          18.70           15.06          15.53                3.64   \n",
        "12  2011          -2.56            2.11          -2.46               -4.67   \n",
        "13  2012          15.09           16.00          15.34               -0.91   \n",
        "14  2013          34.76           32.39          33.92                2.38   \n",
        "15   YTD          12.03           13.98          10.80               -1.95   \n",
        "\n",
        "    +/- Category (LB)  Annual_Net_Exp_Ratio  Turnover_Ratio  Rank_In_Category  \n",
        "0               -4.77                  0.00              65                 9  \n",
        "1                0.54                  0.40              94                86  \n",
        "2                8.70                  0.41              53                61  \n",
        "3                4.13                  0.48             104                24  \n",
        "4                5.07                  0.50              91                16  \n",
        "5                2.66                  0.44               0                26  \n",
        "6                2.38                  0.39              88                28  \n",
        "7                4.04                  0.41              90                16  \n",
        "8               -2.14                  0.37              79                62  \n",
        "9               -0.76                  0.38              88                58  \n",
        "10               0.41                  0.48              87                40  \n",
        "11               3.17                  0.43              60                23  \n",
        "12              -0.09                  0.41              55                55  \n",
        "13              -0.25                  0.40              49                50  \n",
        "14               0.85                  0.39              53                40  \n",
        "15               1.23                  0.40              52                36  "
       ]
      }
     ],
     "prompt_number": 39
    },
    {
     "cell_type": "code",
     "collapsed": false,
     "input": [
      "Year_trailing = ['3','5','10','15']\n",
      "mpt_stats_columns = ['Fund_Ticker','Benchmark_Index', 'R_Squared','Beta','Alpha','Treynor_Ratio','Currency','Year_Trailing']\n",
      "volatility_measures_columns = ['Fund_Ticker','Std_Dev','Return','Sharpe_Ratio','Sortino_Ratio','Bear_MktPercentile_Rank']\n",
      "\n",
      "fund_statistics = {}\n",
      "\n",
      "for yt in range(0,10):\n",
      "    fund_name = fund_df['Fund_Ticker'][yt]\n",
      "    #print fund_name\n",
      "    fund_stats_benchmark = fund_df['Benchmark_Index'][yt]\n",
      "    #print fund_stats_benchmark\n",
      "    key = \"fund_statistics_\"+fund_name\n",
      "    print key\n",
      "    symbol = (mstar_benchmark_symbol[mstar_benchmark_symbol['Benchmark_Index'] == fund_stats_benchmark]['Mstar_Symbol']).values[0]   \n",
      "    #print symbol\n",
      "    mpt_statistics = pd.DataFrame()\n",
      "    for i in Year_trailing:\n",
      "        mptstatsurl = \"http://performance.morningstar.com/RatingRisk/fund/mpt-statistics.action?&t=XNAS:\"+fund_name+\"&region=usa&culture=en-US&cur=&ops=clear&s=\"+fund_stats_benchmark+\"&y=\"+i+\"&ep=true&comparisonRemove=null&benchmarkSecId=&benchmarktype=\"\n",
      "        volmeasuresurl = \"http://performance.morningstar.com/RatingRisk/fund/volatility-measurements.action?&t=XNAS:\"+fund_name+\"&region=usa&culture=en-US&cur=&ops=clear&s=\"+fund_stats_benchmark+\"&y=\"+i+\"&ep=true&comparisonRemove=null&benchmarkSecId=&benchmarktype=\"\n",
      "        try:\n",
      "            mpt_statistics_sub = pd.read_html(mptstatsurl)[0]\n",
      "            mpt_statistics_sub = mpt_statistics_sub[mpt_statistics_sub.Alpha.notnull()]\n",
      "            mpt_statistics_sub['Year_Trailing'] = i\n",
      "            mpt_statistics_sub.columns = mpt_stats_columns\n",
      "            #print mpt_statistics_sub\n",
      "            mpt_statistics_sub = mpt_statistics_sub[(mpt_statistics_sub['Fund_Ticker'] == fund_name) & (mpt_statistics_sub['Benchmark_Index'] == fund_stats_benchmark)].reset_index(drop=True).tail(1)\n",
      "            #print mpt_statistics_sub\n",
      "            volatility_measures = pd.read_html(volmeasuresurl)[0]\n",
      "            volatility_measures = volatility_measures[volatility_measures.Return.notnull()].reset_index(drop = True)\n",
      "            volatility_measures.columns = volatility_measures_columns\n",
      "            #print volatility_measures\n",
      "            mpt_statistics_sub = pd.merge(mpt_statistics_sub,volatility_measures,on='Fund_Ticker',how='inner')\n",
      "            #print mpt_statistics_sub\n",
      "            mpt_statistics = mpt_statistics.append(mpt_statistics_sub)\n",
      "        except:\n",
      "            print \"No Statitics available for Fund : \",fund_name,\" for \",i,\" years\"\n",
      "            mpt_statistics = pd.DataFrame()\n",
      "    fund_statistics[key] = mpt_statistics.reset_index(drop=True)"
     ],
     "language": "python",
     "metadata": {},
     "outputs": [
      {
       "output_type": "stream",
       "stream": "stdout",
       "text": [
        "fund_statistics_VFINX\n",
        "fund_statistics_VBINX"
       ]
      },
      {
       "output_type": "stream",
       "stream": "stdout",
       "text": [
        "\n",
        "fund_statistics_VCAIX"
       ]
      },
      {
       "output_type": "stream",
       "stream": "stdout",
       "text": [
        "\n",
        "fund_statistics_VCITX"
       ]
      },
      {
       "output_type": "stream",
       "stream": "stdout",
       "text": [
        "\n",
        "fund_statistics_VHCOX"
       ]
      },
      {
       "output_type": "stream",
       "stream": "stdout",
       "text": [
        "\n",
        "fund_statistics_VCVLX"
       ]
      },
      {
       "output_type": "stream",
       "stream": "stdout",
       "text": [
        "\n",
        "fund_statistics_VCVSX"
       ]
      },
      {
       "output_type": "stream",
       "stream": "stdout",
       "text": [
        "\n",
        "fund_statistics_VTMGX"
       ]
      },
      {
       "output_type": "stream",
       "stream": "stdout",
       "text": [
        "\n",
        "fund_statistics_VDEQX"
       ]
      },
      {
       "output_type": "stream",
       "stream": "stdout",
       "text": [
        "\n",
        "fund_statistics_VDIGX"
       ]
      },
      {
       "output_type": "stream",
       "stream": "stdout",
       "text": [
        "\n"
       ]
      }
     ],
     "prompt_number": 342
    },
    {
     "cell_type": "code",
     "collapsed": false,
     "input": [
      "#fund_statistics.keys()\n",
      "fund_statistics['fund_statistics_VHCOX']"
     ],
     "language": "python",
     "metadata": {},
     "outputs": [
      {
       "html": [
        "<div style=\"max-height:1000px;max-width:1500px;overflow:auto;\">\n",
        "<table border=\"1\" class=\"dataframe\">\n",
        "  <thead>\n",
        "    <tr style=\"text-align: right;\">\n",
        "      <th></th>\n",
        "      <th>Fund_Ticker</th>\n",
        "      <th>Benchmark_Index</th>\n",
        "      <th>R_Squared</th>\n",
        "      <th>Beta</th>\n",
        "      <th>Alpha</th>\n",
        "      <th>Treynor_Ratio</th>\n",
        "      <th>Currency</th>\n",
        "      <th>Year_Trailing</th>\n",
        "      <th>Std_Dev</th>\n",
        "      <th>Return</th>\n",
        "      <th>Sharpe_Ratio</th>\n",
        "      <th>Sortino_Ratio</th>\n",
        "      <th>Bear_MktPercentile_Rank</th>\n",
        "    </tr>\n",
        "  </thead>\n",
        "  <tbody>\n",
        "    <tr>\n",
        "      <th>0</th>\n",
        "      <td> VHCOX</td>\n",
        "      <td> S&amp;P 500 TR USD</td>\n",
        "      <td> 69.49</td>\n",
        "      <td> 1.01</td>\n",
        "      <td> 4.26</td>\n",
        "      <td> 25.78</td>\n",
        "      <td> USD</td>\n",
        "      <td>  3</td>\n",
        "      <td> 10.99</td>\n",
        "      <td> 26.19</td>\n",
        "      <td> 2.18</td>\n",
        "      <td> 4.92</td>\n",
        "      <td>     \u2014</td>\n",
        "    </tr>\n",
        "    <tr>\n",
        "      <th>1</th>\n",
        "      <td> VHCOX</td>\n",
        "      <td> S&amp;P 500 TR USD</td>\n",
        "      <td> 69.49</td>\n",
        "      <td> 1.01</td>\n",
        "      <td> 4.26</td>\n",
        "      <td> 25.78</td>\n",
        "      <td> USD</td>\n",
        "      <td>  5</td>\n",
        "      <td> 16.02</td>\n",
        "      <td> 17.57</td>\n",
        "      <td> 1.09</td>\n",
        "      <td> 1.86</td>\n",
        "      <td> 65.00</td>\n",
        "    </tr>\n",
        "    <tr>\n",
        "      <th>2</th>\n",
        "      <td> VHCOX</td>\n",
        "      <td> S&amp;P 500 TR USD</td>\n",
        "      <td> 69.49</td>\n",
        "      <td> 1.01</td>\n",
        "      <td> 4.26</td>\n",
        "      <td> 25.78</td>\n",
        "      <td> USD</td>\n",
        "      <td> 10</td>\n",
        "      <td> 17.78</td>\n",
        "      <td> 10.66</td>\n",
        "      <td> 0.58</td>\n",
        "      <td> 0.85</td>\n",
        "      <td>     \u2014</td>\n",
        "    </tr>\n",
        "    <tr>\n",
        "      <th>3</th>\n",
        "      <td> VHCOX</td>\n",
        "      <td> S&amp;P 500 TR USD</td>\n",
        "      <td> 69.49</td>\n",
        "      <td> 1.01</td>\n",
        "      <td> 4.26</td>\n",
        "      <td> 25.78</td>\n",
        "      <td> USD</td>\n",
        "      <td> 15</td>\n",
        "      <td> 20.38</td>\n",
        "      <td> 10.16</td>\n",
        "      <td> 0.48</td>\n",
        "      <td> 0.73</td>\n",
        "      <td>     \u2014</td>\n",
        "    </tr>\n",
        "  </tbody>\n",
        "</table>\n",
        "</div>"
       ],
       "metadata": {},
       "output_type": "pyout",
       "prompt_number": 344,
       "text": [
        "  Fund_Ticker Benchmark_Index R_Squared  Beta Alpha Treynor_Ratio Currency  \\\n",
        "0       VHCOX  S&P 500 TR USD     69.49  1.01  4.26         25.78      USD   \n",
        "1       VHCOX  S&P 500 TR USD     69.49  1.01  4.26         25.78      USD   \n",
        "2       VHCOX  S&P 500 TR USD     69.49  1.01  4.26         25.78      USD   \n",
        "3       VHCOX  S&P 500 TR USD     69.49  1.01  4.26         25.78      USD   \n",
        "\n",
        "  Year_Trailing Std_Dev Return Sharpe_Ratio Sortino_Ratio  \\\n",
        "0             3   10.99  26.19         2.18          4.92   \n",
        "1             5   16.02  17.57         1.09          1.86   \n",
        "2            10   17.78  10.66         0.58          0.85   \n",
        "3            15   20.38  10.16         0.48          0.73   \n",
        "\n",
        "  Bear_MktPercentile_Rank  \n",
        "0                       \u2014  \n",
        "1                   65.00  \n",
        "2                       \u2014  \n",
        "3                       \u2014  "
       ]
      }
     ],
     "prompt_number": 344
    },
    {
     "cell_type": "code",
     "collapsed": false,
     "input": [
      "mpt_statistics_sub2"
     ],
     "language": "python",
     "metadata": {},
     "outputs": [
      {
       "html": [
        "<div style=\"max-height:1000px;max-width:1500px;overflow:auto;\">\n",
        "<table border=\"1\" class=\"dataframe\">\n",
        "  <thead>\n",
        "    <tr style=\"text-align: right;\">\n",
        "      <th></th>\n",
        "      <th>Fund_Ticker</th>\n",
        "      <th>Benchmark_Index</th>\n",
        "    </tr>\n",
        "  </thead>\n",
        "  <tbody>\n",
        "    <tr>\n",
        "      <th>0   </th>\n",
        "      <td> VFINX</td>\n",
        "      <td>                   S&amp;P 500 TR USD</td>\n",
        "    </tr>\n",
        "    <tr>\n",
        "      <th>1   </th>\n",
        "      <td> VBINX</td>\n",
        "      <td> Morningstar Moderate Target Risk</td>\n",
        "    </tr>\n",
        "    <tr>\n",
        "      <th>2   </th>\n",
        "      <td> VCAIX</td>\n",
        "      <td>        Barclays Municipal TR USD</td>\n",
        "    </tr>\n",
        "    <tr>\n",
        "      <th>3   </th>\n",
        "      <td> VCITX</td>\n",
        "      <td>        Barclays Municipal TR USD</td>\n",
        "    </tr>\n",
        "    <tr>\n",
        "      <th>4   </th>\n",
        "      <td> VHCOX</td>\n",
        "      <td>                   S&amp;P 500 TR USD</td>\n",
        "    </tr>\n",
        "    <tr>\n",
        "      <th>5   </th>\n",
        "      <td> VCVLX</td>\n",
        "      <td>                   S&amp;P 500 TR USD</td>\n",
        "    </tr>\n",
        "    <tr>\n",
        "      <th>6   </th>\n",
        "      <td> VCVSX</td>\n",
        "      <td> Morningstar Moderate Target Risk</td>\n",
        "    </tr>\n",
        "    <tr>\n",
        "      <th>7   </th>\n",
        "      <td> VTMGX</td>\n",
        "      <td>          MSCI ACWI Ex USA NR USD</td>\n",
        "    </tr>\n",
        "    <tr>\n",
        "      <th>8   </th>\n",
        "      <td> VDEQX</td>\n",
        "      <td>                   S&amp;P 500 TR USD</td>\n",
        "    </tr>\n",
        "    <tr>\n",
        "      <th>9   </th>\n",
        "      <td> VDIGX</td>\n",
        "      <td>                   S&amp;P 500 TR USD</td>\n",
        "    </tr>\n",
        "    <tr>\n",
        "      <th>10  </th>\n",
        "      <td> VGOVX</td>\n",
        "      <td>      Barclays US Agg Bond TR USD</td>\n",
        "    </tr>\n",
        "    <tr>\n",
        "      <th>11  </th>\n",
        "      <td> VMMSX</td>\n",
        "      <td>          MSCI ACWI Ex USA NR USD</td>\n",
        "    </tr>\n",
        "    <tr>\n",
        "      <th>12  </th>\n",
        "      <td> VEIEX</td>\n",
        "      <td>          MSCI ACWI Ex USA NR USD</td>\n",
        "    </tr>\n",
        "    <tr>\n",
        "      <th>13  </th>\n",
        "      <td> VGENX</td>\n",
        "      <td>                 MSCI ACWI NR USD</td>\n",
        "    </tr>\n",
        "    <tr>\n",
        "      <th>14  </th>\n",
        "      <td> VEIPX</td>\n",
        "      <td>                   S&amp;P 500 TR USD</td>\n",
        "    </tr>\n",
        "    <tr>\n",
        "      <th>15  </th>\n",
        "      <td> VEURX</td>\n",
        "      <td>          MSCI ACWI Ex USA NR USD</td>\n",
        "    </tr>\n",
        "    <tr>\n",
        "      <th>16  </th>\n",
        "      <td> VEXPX</td>\n",
        "      <td>                   S&amp;P 500 TR USD</td>\n",
        "    </tr>\n",
        "    <tr>\n",
        "      <th>17  </th>\n",
        "      <td> VEVFX</td>\n",
        "      <td>                   S&amp;P 500 TR USD</td>\n",
        "    </tr>\n",
        "    <tr>\n",
        "      <th>18  </th>\n",
        "      <td> VEDTX</td>\n",
        "      <td>      Barclays US Agg Bond TR USD</td>\n",
        "    </tr>\n",
        "    <tr>\n",
        "      <th>19  </th>\n",
        "      <td> VEXMX</td>\n",
        "      <td>                   S&amp;P 500 TR USD</td>\n",
        "    </tr>\n",
        "    <tr>\n",
        "      <th>20  </th>\n",
        "      <td> VFSNX</td>\n",
        "      <td>          MSCI ACWI Ex USA NR USD</td>\n",
        "    </tr>\n",
        "    <tr>\n",
        "      <th>21  </th>\n",
        "      <td> VFTSX</td>\n",
        "      <td>                   S&amp;P 500 TR USD</td>\n",
        "    </tr>\n",
        "    <tr>\n",
        "      <th>22  </th>\n",
        "      <td> VHGEX</td>\n",
        "      <td>          MSCI ACWI Ex USA NR USD</td>\n",
        "    </tr>\n",
        "    <tr>\n",
        "      <th>23  </th>\n",
        "      <td> VGXRX</td>\n",
        "      <td>                 MSCI ACWI NR USD</td>\n",
        "    </tr>\n",
        "    <tr>\n",
        "      <th>24  </th>\n",
        "      <td> VMNVX</td>\n",
        "      <td>          MSCI ACWI Ex USA NR USD</td>\n",
        "    </tr>\n",
        "    <tr>\n",
        "      <th>25  </th>\n",
        "      <td> VFIIX</td>\n",
        "      <td>      Barclays US Agg Bond TR USD</td>\n",
        "    </tr>\n",
        "    <tr>\n",
        "      <th>26  </th>\n",
        "      <td> VQNPX</td>\n",
        "      <td>                   S&amp;P 500 TR USD</td>\n",
        "    </tr>\n",
        "    <tr>\n",
        "      <th>27  </th>\n",
        "      <td> VIGRX</td>\n",
        "      <td>                   S&amp;P 500 TR USD</td>\n",
        "    </tr>\n",
        "    <tr>\n",
        "      <th>28  </th>\n",
        "      <td> VGHCX</td>\n",
        "      <td>                 MSCI ACWI NR USD</td>\n",
        "    </tr>\n",
        "    <tr>\n",
        "      <th>29  </th>\n",
        "      <td> VWEHX</td>\n",
        "      <td>      Barclays US Agg Bond TR USD</td>\n",
        "    </tr>\n",
        "    <tr>\n",
        "      <th>...</th>\n",
        "      <td>...</td>\n",
        "      <td>...</td>\n",
        "    </tr>\n",
        "    <tr>\n",
        "      <th>1240</th>\n",
        "      <td> OARDX</td>\n",
        "      <td>                   S&amp;P 500 TR USD</td>\n",
        "    </tr>\n",
        "    <tr>\n",
        "      <th>1241</th>\n",
        "      <td> OPTAX</td>\n",
        "      <td>        Barclays Municipal TR USD</td>\n",
        "    </tr>\n",
        "    <tr>\n",
        "      <th>1242</th>\n",
        "      <td> OPNYX</td>\n",
        "      <td>        Barclays Municipal TR USD</td>\n",
        "    </tr>\n",
        "    <tr>\n",
        "      <th>1243</th>\n",
        "      <td> ORAZX</td>\n",
        "      <td>        Barclays Municipal TR USD</td>\n",
        "    </tr>\n",
        "    <tr>\n",
        "      <th>1244</th>\n",
        "      <td> OPCAX</td>\n",
        "      <td>        Barclays Municipal TR USD</td>\n",
        "    </tr>\n",
        "    <tr>\n",
        "      <th>1245</th>\n",
        "      <td> RMUNX</td>\n",
        "      <td>        Barclays Municipal TR USD</td>\n",
        "    </tr>\n",
        "    <tr>\n",
        "      <th>1246</th>\n",
        "      <td> ORNAX</td>\n",
        "      <td>        Barclays Municipal TR USD</td>\n",
        "    </tr>\n",
        "    <tr>\n",
        "      <th>1247</th>\n",
        "      <td> ORRWX</td>\n",
        "      <td>        Barclays Municipal TR USD</td>\n",
        "    </tr>\n",
        "    <tr>\n",
        "      <th>1248</th>\n",
        "      <td> OLCAX</td>\n",
        "      <td>        Barclays Municipal TR USD</td>\n",
        "    </tr>\n",
        "    <tr>\n",
        "      <th>1249</th>\n",
        "      <td> OPITX</td>\n",
        "      <td>        Barclays Municipal TR USD</td>\n",
        "    </tr>\n",
        "    <tr>\n",
        "      <th>1250</th>\n",
        "      <td> LTNYX</td>\n",
        "      <td>        Barclays Municipal TR USD</td>\n",
        "    </tr>\n",
        "    <tr>\n",
        "      <th>1251</th>\n",
        "      <td> ORMAX</td>\n",
        "      <td>        Barclays Municipal TR USD</td>\n",
        "    </tr>\n",
        "    <tr>\n",
        "      <th>1252</th>\n",
        "      <td> ORMDX</td>\n",
        "      <td>        Barclays Municipal TR USD</td>\n",
        "    </tr>\n",
        "    <tr>\n",
        "      <th>1253</th>\n",
        "      <td> ORMIX</td>\n",
        "      <td>        Barclays Municipal TR USD</td>\n",
        "    </tr>\n",
        "    <tr>\n",
        "      <th>1254</th>\n",
        "      <td> OPAMX</td>\n",
        "      <td>        Barclays Municipal TR USD</td>\n",
        "    </tr>\n",
        "    <tr>\n",
        "      <th>1255</th>\n",
        "      <td> OPNCX</td>\n",
        "      <td>        Barclays Municipal TR USD</td>\n",
        "    </tr>\n",
        "    <tr>\n",
        "      <th>1256</th>\n",
        "      <td> ONJAX</td>\n",
        "      <td>        Barclays Municipal TR USD</td>\n",
        "    </tr>\n",
        "    <tr>\n",
        "      <th>1257</th>\n",
        "      <td> OROHX</td>\n",
        "      <td>        Barclays Municipal TR USD</td>\n",
        "    </tr>\n",
        "    <tr>\n",
        "      <th>1258</th>\n",
        "      <td> OPATX</td>\n",
        "      <td>        Barclays Municipal TR USD</td>\n",
        "    </tr>\n",
        "    <tr>\n",
        "      <th>1259</th>\n",
        "      <td> ORSTX</td>\n",
        "      <td>        Barclays Municipal TR USD</td>\n",
        "    </tr>\n",
        "    <tr>\n",
        "      <th>1260</th>\n",
        "      <td> ORVAX</td>\n",
        "      <td>        Barclays Municipal TR USD</td>\n",
        "    </tr>\n",
        "    <tr>\n",
        "      <th>1261</th>\n",
        "      <td> OOSAX</td>\n",
        "      <td>      Barclays US Agg Bond TR USD</td>\n",
        "    </tr>\n",
        "    <tr>\n",
        "      <th>1262</th>\n",
        "      <td> OSFAX</td>\n",
        "      <td>      Barclays US Agg Bond TR USD</td>\n",
        "    </tr>\n",
        "    <tr>\n",
        "      <th>1263</th>\n",
        "      <td> QVSCX</td>\n",
        "      <td>                   S&amp;P 500 TR USD</td>\n",
        "    </tr>\n",
        "    <tr>\n",
        "      <th>1264</th>\n",
        "      <td> MLPAX</td>\n",
        "      <td>                 MSCI ACWI NR USD</td>\n",
        "    </tr>\n",
        "    <tr>\n",
        "      <th>1265</th>\n",
        "      <td> MLPNX</td>\n",
        "      <td>                 MSCI ACWI NR USD</td>\n",
        "    </tr>\n",
        "    <tr>\n",
        "      <th>1266</th>\n",
        "      <td> MLPDX</td>\n",
        "      <td>                 MSCI ACWI NR USD</td>\n",
        "    </tr>\n",
        "    <tr>\n",
        "      <th>1267</th>\n",
        "      <td> MLPFX</td>\n",
        "      <td>                 MSCI ACWI NR USD</td>\n",
        "    </tr>\n",
        "    <tr>\n",
        "      <th>1268</th>\n",
        "      <td> OSDYX</td>\n",
        "      <td>      Barclays US Agg Bond TR USD</td>\n",
        "    </tr>\n",
        "    <tr>\n",
        "      <th>1269</th>\n",
        "      <td> CGRWX</td>\n",
        "      <td>                   S&amp;P 500 TR USD</td>\n",
        "    </tr>\n",
        "  </tbody>\n",
        "</table>\n",
        "<p>1270 rows \u00d7 2 columns</p>\n",
        "</div>"
       ],
       "metadata": {},
       "output_type": "pyout",
       "prompt_number": 495,
       "text": [
        "     Fund_Ticker                   Benchmark_Index\n",
        "0          VFINX                    S&P 500 TR USD\n",
        "1          VBINX  Morningstar Moderate Target Risk\n",
        "2          VCAIX         Barclays Municipal TR USD\n",
        "3          VCITX         Barclays Municipal TR USD\n",
        "4          VHCOX                    S&P 500 TR USD\n",
        "5          VCVLX                    S&P 500 TR USD\n",
        "6          VCVSX  Morningstar Moderate Target Risk\n",
        "7          VTMGX           MSCI ACWI Ex USA NR USD\n",
        "8          VDEQX                    S&P 500 TR USD\n",
        "9          VDIGX                    S&P 500 TR USD\n",
        "10         VGOVX       Barclays US Agg Bond TR USD\n",
        "11         VMMSX           MSCI ACWI Ex USA NR USD\n",
        "12         VEIEX           MSCI ACWI Ex USA NR USD\n",
        "13         VGENX                  MSCI ACWI NR USD\n",
        "14         VEIPX                    S&P 500 TR USD\n",
        "15         VEURX           MSCI ACWI Ex USA NR USD\n",
        "16         VEXPX                    S&P 500 TR USD\n",
        "17         VEVFX                    S&P 500 TR USD\n",
        "18         VEDTX       Barclays US Agg Bond TR USD\n",
        "19         VEXMX                    S&P 500 TR USD\n",
        "20         VFSNX           MSCI ACWI Ex USA NR USD\n",
        "21         VFTSX                    S&P 500 TR USD\n",
        "22         VHGEX           MSCI ACWI Ex USA NR USD\n",
        "23         VGXRX                  MSCI ACWI NR USD\n",
        "24         VMNVX           MSCI ACWI Ex USA NR USD\n",
        "25         VFIIX       Barclays US Agg Bond TR USD\n",
        "26         VQNPX                    S&P 500 TR USD\n",
        "27         VIGRX                    S&P 500 TR USD\n",
        "28         VGHCX                  MSCI ACWI NR USD\n",
        "29         VWEHX       Barclays US Agg Bond TR USD\n",
        "...          ...                               ...\n",
        "1240       OARDX                    S&P 500 TR USD\n",
        "1241       OPTAX         Barclays Municipal TR USD\n",
        "1242       OPNYX         Barclays Municipal TR USD\n",
        "1243       ORAZX         Barclays Municipal TR USD\n",
        "1244       OPCAX         Barclays Municipal TR USD\n",
        "1245       RMUNX         Barclays Municipal TR USD\n",
        "1246       ORNAX         Barclays Municipal TR USD\n",
        "1247       ORRWX         Barclays Municipal TR USD\n",
        "1248       OLCAX         Barclays Municipal TR USD\n",
        "1249       OPITX         Barclays Municipal TR USD\n",
        "1250       LTNYX         Barclays Municipal TR USD\n",
        "1251       ORMAX         Barclays Municipal TR USD\n",
        "1252       ORMDX         Barclays Municipal TR USD\n",
        "1253       ORMIX         Barclays Municipal TR USD\n",
        "1254       OPAMX         Barclays Municipal TR USD\n",
        "1255       OPNCX         Barclays Municipal TR USD\n",
        "1256       ONJAX         Barclays Municipal TR USD\n",
        "1257       OROHX         Barclays Municipal TR USD\n",
        "1258       OPATX         Barclays Municipal TR USD\n",
        "1259       ORSTX         Barclays Municipal TR USD\n",
        "1260       ORVAX         Barclays Municipal TR USD\n",
        "1261       OOSAX       Barclays US Agg Bond TR USD\n",
        "1262       OSFAX       Barclays US Agg Bond TR USD\n",
        "1263       QVSCX                    S&P 500 TR USD\n",
        "1264       MLPAX                  MSCI ACWI NR USD\n",
        "1265       MLPNX                  MSCI ACWI NR USD\n",
        "1266       MLPDX                  MSCI ACWI NR USD\n",
        "1267       MLPFX                  MSCI ACWI NR USD\n",
        "1268       OSDYX       Barclays US Agg Bond TR USD\n",
        "1269       CGRWX                    S&P 500 TR USD\n",
        "\n",
        "[1270 rows x 2 columns]"
       ]
      }
     ],
     "prompt_number": 495
    },
    {
     "cell_type": "code",
     "collapsed": false,
     "input": [
      "fund_statistics1[\"fund_statistics_FFNAX\"]"
     ],
     "language": "python",
     "metadata": {},
     "outputs": [
      {
       "html": [
        "<div style=\"max-height:1000px;max-width:1500px;overflow:auto;\">\n",
        "<table border=\"1\" class=\"dataframe\">\n",
        "  <thead>\n",
        "    <tr style=\"text-align: right;\">\n",
        "      <th></th>\n",
        "      <th>Benchmark_Index</th>\n",
        "      <th>R_Squared</th>\n",
        "      <th>Beta</th>\n",
        "      <th>Alpha</th>\n",
        "      <th>Treynor_Ratio</th>\n",
        "      <th>Currency</th>\n",
        "      <th>Year_Trailing</th>\n",
        "      <th>Fund_Ticker</th>\n",
        "      <th>Std_Dev</th>\n",
        "      <th>Return</th>\n",
        "      <th>Sharpe_Ratio</th>\n",
        "      <th>Sortino_Ratio</th>\n",
        "      <th>Bear_MktPercentile_Rank</th>\n",
        "    </tr>\n",
        "  </thead>\n",
        "  <tbody>\n",
        "  </tbody>\n",
        "</table>\n",
        "</div>"
       ],
       "metadata": {},
       "output_type": "pyout",
       "prompt_number": 96,
       "text": [
        "Empty DataFrame\n",
        "Columns: [Benchmark_Index, R_Squared, Beta, Alpha, Treynor_Ratio, Currency, Year_Trailing, Fund_Ticker, Std_Dev, Return, Sharpe_Ratio, Sortino_Ratio, Bear_MktPercentile_Rank]\n",
        "Index: []"
       ]
      }
     ],
     "prompt_number": 96
    },
    {
     "cell_type": "code",
     "collapsed": false,
     "input": [
      "Year_trailing = ['3','5','10','15']\n",
      "mpt_stats_columns = ['Fund_Ticker','Benchmark_Index', 'R_Squared','Beta','Alpha','Treynor_Ratio','Currency','Year_Trailing']\n",
      "volatility_measures_columns = ['Fund_Ticker','Std_Dev','Return','Sharpe_Ratio','Sortino_Ratio','Bear_MktPercentile_Rank']\n",
      "\n",
      "fund_statistics = {}\n",
      "\n",
      "for yt in range(0,len(fund_df)):\n",
      "    fund_name = fund_df['Fund_Ticker'][yt]\n",
      "    fund_stats_benchmark = fund_df['Benchmark_Index'][yt]\n",
      "    key = \"fund_statistics_\"+fund_name\n",
      "    print key\n",
      "    symbol = (mstar_benchmark_symbol[mstar_benchmark_symbol['Benchmark_Index'] == fund_stats_benchmark]['Mstar_Symbol']).values[0]   \n",
      "    mpt_statistics = pd.DataFrame()\n",
      "    for i in Year_trailing:\n",
      "        mptstatsurl = \"http://performance.morningstar.com/RatingRisk/fund/mpt-statistics.action?&t=XNAS:\"+fund_name+\"&region=usa&culture=en-US&cur=&ops=clear&s=\"+fund_stats_benchmark+\"&y=\"+i+\"&ep=true&comparisonRemove=null&benchmarkSecId=&benchmarktype=\"\n",
      "        volmeasuresurl = \"http://performance.morningstar.com/RatingRisk/fund/volatility-measurements.action?&t=XNAS:\"+fund_name+\"&region=usa&culture=en-US&cur=&ops=clear&s=\"+fund_stats_benchmark+\"&y=\"+i+\"&ep=true&comparisonRemove=null&benchmarkSecId=&benchmarktype=\"\n",
      "        try:\n",
      "            mpt_statistics_sub = pd.read_html(mptstatsurl)[0]\n",
      "            mpt_statistics_sub = mpt_statistics_sub[mpt_statistics_sub.Alpha.notnull()]\n",
      "            mpt_statistics_sub['Year_Trailing'] = i\n",
      "            mpt_statistics_sub.columns = mpt_stats_columns\n",
      "            mpt_statistics_sub = mpt_statistics_sub[(mpt_statistics_sub['Fund_Ticker'] == fund_name) & (mpt_statistics_sub['Benchmark_Index'] == fund_stats_benchmark)].reset_index(drop=True).tail(1)\n",
      "            volatility_measures = pd.read_html(volmeasuresurl)[0]\n",
      "            volatility_measures = volatility_measures[volatility_measures.Return.notnull()].reset_index(drop = True)\n",
      "            volatility_measures.columns = volatility_measures_columns\n",
      "            mpt_statistics_sub = pd.merge(mpt_statistics_sub,volatility_measures,on='Fund_Ticker',how='inner')\n",
      "            mpt_statistics = mpt_statistics.append(mpt_statistics_sub)\n",
      "        except:\n",
      "            print \"Index : \",yt,\", No Statitics available for Fund : \",fund_name,\" for \",i,\" years\"\n",
      "            mpt_statistics = pd.DataFrame()\n",
      "    fund_statistics[key] = mpt_statistics.reset_index(drop=True)"
     ],
     "language": "python",
     "metadata": {},
     "outputs": [
      {
       "output_type": "stream",
       "stream": "stdout",
       "text": [
        "fund_statistics_VFINX\n",
        "fund_statistics_VBINX"
       ]
      },
      {
       "output_type": "stream",
       "stream": "stdout",
       "text": [
        "\n",
        "fund_statistics_VCAIX"
       ]
      },
      {
       "output_type": "stream",
       "stream": "stdout",
       "text": [
        "\n",
        "fund_statistics_VCITX"
       ]
      },
      {
       "output_type": "stream",
       "stream": "stdout",
       "text": [
        "\n",
        "fund_statistics_VHCOX"
       ]
      },
      {
       "output_type": "stream",
       "stream": "stdout",
       "text": [
        "\n",
        "fund_statistics_VCVLX"
       ]
      },
      {
       "output_type": "stream",
       "stream": "stdout",
       "text": [
        "\n",
        "fund_statistics_VCVSX"
       ]
      },
      {
       "output_type": "stream",
       "stream": "stdout",
       "text": [
        "\n",
        "fund_statistics_VTMGX"
       ]
      },
      {
       "output_type": "stream",
       "stream": "stdout",
       "text": [
        "\n",
        "fund_statistics_VDEQX"
       ]
      },
      {
       "output_type": "stream",
       "stream": "stdout",
       "text": [
        "\n",
        "fund_statistics_VDIGX"
       ]
      },
      {
       "output_type": "stream",
       "stream": "stdout",
       "text": [
        "\n",
        "fund_statistics_VGOVX"
       ]
      },
      {
       "output_type": "stream",
       "stream": "stdout",
       "text": [
        "\n",
        "fund_statistics_VMMSX"
       ]
      },
      {
       "output_type": "stream",
       "stream": "stdout",
       "text": [
        "\n",
        "fund_statistics_VEIEX"
       ]
      },
      {
       "output_type": "stream",
       "stream": "stdout",
       "text": [
        "\n",
        "fund_statistics_VGENX"
       ]
      },
      {
       "output_type": "stream",
       "stream": "stdout",
       "text": [
        "\n",
        "fund_statistics_VEIPX"
       ]
      },
      {
       "output_type": "stream",
       "stream": "stdout",
       "text": [
        "\n",
        "fund_statistics_VEURX"
       ]
      },
      {
       "output_type": "stream",
       "stream": "stdout",
       "text": [
        "\n",
        "fund_statistics_VEXPX"
       ]
      },
      {
       "output_type": "stream",
       "stream": "stdout",
       "text": [
        "\n",
        "fund_statistics_VEVFX"
       ]
      },
      {
       "output_type": "stream",
       "stream": "stdout",
       "text": [
        "\n",
        "fund_statistics_VEDTX"
       ]
      },
      {
       "output_type": "stream",
       "stream": "stdout",
       "text": [
        "\n",
        "fund_statistics_VEXMX"
       ]
      },
      {
       "output_type": "stream",
       "stream": "stdout",
       "text": [
        "\n",
        "fund_statistics_VFSNX"
       ]
      },
      {
       "output_type": "stream",
       "stream": "stdout",
       "text": [
        "\n",
        "fund_statistics_VFTSX"
       ]
      },
      {
       "output_type": "stream",
       "stream": "stdout",
       "text": [
        "\n",
        "fund_statistics_VHGEX"
       ]
      },
      {
       "output_type": "stream",
       "stream": "stdout",
       "text": [
        "\n",
        "fund_statistics_VGXRX"
       ]
      },
      {
       "output_type": "stream",
       "stream": "stdout",
       "text": [
        "\n",
        "fund_statistics_VMNVX"
       ]
      },
      {
       "output_type": "stream",
       "stream": "stdout",
       "text": [
        "\n",
        "fund_statistics_VFIIX"
       ]
      },
      {
       "output_type": "stream",
       "stream": "stdout",
       "text": [
        "\n",
        "fund_statistics_VQNPX"
       ]
      },
      {
       "output_type": "stream",
       "stream": "stdout",
       "text": [
        "\n",
        "fund_statistics_VIGRX"
       ]
      },
      {
       "output_type": "stream",
       "stream": "stdout",
       "text": [
        "\n",
        "fund_statistics_VGHCX"
       ]
      },
      {
       "output_type": "stream",
       "stream": "stdout",
       "text": [
        "\n",
        "fund_statistics_VWEHX"
       ]
      },
      {
       "output_type": "stream",
       "stream": "stdout",
       "text": [
        "\n",
        "fund_statistics_VWAHX"
       ]
      },
      {
       "output_type": "stream",
       "stream": "stdout",
       "text": [
        "\n",
        "fund_statistics_VIPSX"
       ]
      },
      {
       "output_type": "stream",
       "stream": "stdout",
       "text": [
        "\n",
        "fund_statistics_VINIX"
       ]
      },
      {
       "output_type": "stream",
       "stream": "stdout",
       "text": [
        "\n",
        "fund_statistics_VITPX"
       ]
      },
      {
       "output_type": "stream",
       "stream": "stdout",
       "text": [
        "\n",
        "fund_statistics_VBIIX"
       ]
      },
      {
       "output_type": "stream",
       "stream": "stdout",
       "text": [
        "\n",
        "fund_statistics_VFICX"
       ]
      },
      {
       "output_type": "stream",
       "stream": "stdout",
       "text": [
        "\n",
        "fund_statistics_VFITX"
       ]
      },
      {
       "output_type": "stream",
       "stream": "stdout",
       "text": [
        "\n",
        "fund_statistics_VWITX"
       ]
      },
      {
       "output_type": "stream",
       "stream": "stdout",
       "text": [
        "\n",
        "fund_statistics_VINEX"
       ]
      },
      {
       "output_type": "stream",
       "stream": "stdout",
       "text": [
        "\n",
        "fund_statistics_VWIGX"
       ]
      },
      {
       "output_type": "stream",
       "stream": "stdout",
       "text": [
        "\n",
        "fund_statistics_VTRIX"
       ]
      },
      {
       "output_type": "stream",
       "stream": "stdout",
       "text": [
        "\n",
        "fund_statistics_VSCGX"
       ]
      },
      {
       "output_type": "stream",
       "stream": "stdout",
       "text": [
        "\n",
        "fund_statistics_VASGX"
       ]
      },
      {
       "output_type": "stream",
       "stream": "stdout",
       "text": [
        "\n",
        "fund_statistics_VASIX"
       ]
      },
      {
       "output_type": "stream",
       "stream": "stdout",
       "text": [
        "\n",
        "fund_statistics_VSMGX"
       ]
      },
      {
       "output_type": "stream",
       "stream": "stdout",
       "text": [
        "\n",
        "fund_statistics_VBLTX"
       ]
      },
      {
       "output_type": "stream",
       "stream": "stdout",
       "text": [
        "\n",
        "fund_statistics_VLCIX"
       ]
      },
      {
       "output_type": "stream",
       "stream": "stdout",
       "text": [
        "\n",
        "fund_statistics_VLGIX"
       ]
      },
      {
       "output_type": "stream",
       "stream": "stdout",
       "text": [
        "\n",
        "fund_statistics_VWESX"
       ]
      },
      {
       "output_type": "stream",
       "stream": "stdout",
       "text": [
        "\n",
        "fund_statistics_VWLTX"
       ]
      },
      {
       "output_type": "stream",
       "stream": "stdout",
       "text": [
        "\n",
        "fund_statistics_VUSTX"
       ]
      },
      {
       "output_type": "stream",
       "stream": "stdout",
       "text": [
        "\n",
        "fund_statistics_VMLTX"
       ]
      },
      {
       "output_type": "stream",
       "stream": "stdout",
       "text": [
        "\n",
        "fund_statistics_VMATX"
       ]
      },
      {
       "output_type": "stream",
       "stream": "stdout",
       "text": [
        "\n",
        "fund_statistics_VPGDX"
       ]
      },
      {
       "output_type": "stream",
       "stream": "stdout",
       "text": [
        "\n",
        "fund_statistics_VMNIX"
       ]
      },
      {
       "output_type": "stream",
       "stream": "stdout",
       "text": [
        "\n",
        "fund_statistics_VMGRX"
       ]
      },
      {
       "output_type": "stream",
       "stream": "stdout",
       "text": [
        "\n",
        "fund_statistics_VMCIX"
       ]
      },
      {
       "output_type": "stream",
       "stream": "stdout",
       "text": [
        "\n",
        "fund_statistics_VMRGX"
       ]
      },
      {
       "output_type": "stream",
       "stream": "stdout",
       "text": [
        "\n",
        "fund_statistics_VNJTX"
       ]
      },
      {
       "output_type": "stream",
       "stream": "stdout",
       "text": [
        "\n",
        "fund_statistics_VNYTX"
       ]
      },
      {
       "output_type": "stream",
       "stream": "stdout",
       "text": [
        "\n",
        "fund_statistics_VOHIX"
       ]
      },
      {
       "output_type": "stream",
       "stream": "stdout",
       "text": [
        "\n",
        "fund_statistics_VPAIX"
       ]
      },
      {
       "output_type": "stream",
       "stream": "stdout",
       "text": [
        "\n",
        "fund_statistics_VPACX"
       ]
      },
      {
       "output_type": "stream",
       "stream": "stdout",
       "text": [
        "\n",
        "fund_statistics_VGPMX"
       ]
      },
      {
       "output_type": "stream",
       "stream": "stdout",
       "text": [
        "\n",
        "fund_statistics_VPCCX"
       ]
      },
      {
       "output_type": "stream",
       "stream": "stdout",
       "text": [
        "\n",
        "fund_statistics_VPMCX"
       ]
      },
      {
       "output_type": "stream",
       "stream": "stdout",
       "text": [
        "\n",
        "fund_statistics_VGSIX"
       ]
      },
      {
       "output_type": "stream",
       "stream": "stdout",
       "text": [
        "\n",
        "fund_statistics_VASVX"
       ]
      },
      {
       "output_type": "stream",
       "stream": "stdout",
       "text": [
        "\n",
        "fund_statistics_VBISX"
       ]
      },
      {
       "output_type": "stream",
       "stream": "stdout",
       "text": [
        "\n",
        "fund_statistics_VSTBX"
       ]
      },
      {
       "output_type": "stream",
       "stream": "stdout",
       "text": [
        "\n",
        "fund_statistics_VSGBX"
       ]
      },
      {
       "output_type": "stream",
       "stream": "stdout",
       "text": [
        "\n",
        "fund_statistics_VFSTX"
       ]
      },
      {
       "output_type": "stream",
       "stream": "stdout",
       "text": [
        "\n",
        "fund_statistics_VFISX"
       ]
      },
      {
       "output_type": "stream",
       "stream": "stdout",
       "text": [
        "\n",
        "fund_statistics_VWSTX"
       ]
      },
      {
       "output_type": "stream",
       "stream": "stdout",
       "text": [
        "\n",
        "fund_statistics_VISGX"
       ]
      },
      {
       "output_type": "stream",
       "stream": "stdout",
       "text": [
        "\n",
        "fund_statistics_NAESX"
       ]
      },
      {
       "output_type": "stream",
       "stream": "stdout",
       "text": [
        "\n",
        "fund_statistics_VISVX"
       ]
      },
      {
       "output_type": "stream",
       "stream": "stdout",
       "text": [
        "\n",
        "fund_statistics_VGSTX"
       ]
      },
      {
       "output_type": "stream",
       "stream": "stdout",
       "text": [
        "\n",
        "fund_statistics_VSEQX"
       ]
      },
      {
       "output_type": "stream",
       "stream": "stdout",
       "text": [
        "\n",
        "fund_statistics_VSTCX"
       ]
      },
      {
       "output_type": "stream",
       "stream": "stdout",
       "text": [
        "\n",
        "fund_statistics_VSLPX"
       ]
      },
      {
       "output_type": "stream",
       "stream": "stdout",
       "text": [
        "\n",
        "fund_statistics_VSBPX"
       ]
      },
      {
       "output_type": "stream",
       "stream": "stdout",
       "text": [
        "\n",
        "fund_statistics_VTENX"
       ]
      },
      {
       "output_type": "stream",
       "stream": "stdout",
       "text": [
        "\n",
        "fund_statistics_VTXVX"
       ]
      },
      {
       "output_type": "stream",
       "stream": "stdout",
       "text": [
        "\n",
        "fund_statistics_VTWNX"
       ]
      },
      {
       "output_type": "stream",
       "stream": "stdout",
       "text": [
        "\n",
        "fund_statistics_VTTVX"
       ]
      },
      {
       "output_type": "stream",
       "stream": "stdout",
       "text": [
        "\n",
        "fund_statistics_VTHRX"
       ]
      },
      {
       "output_type": "stream",
       "stream": "stdout",
       "text": [
        "\n",
        "fund_statistics_VTTHX"
       ]
      },
      {
       "output_type": "stream",
       "stream": "stdout",
       "text": [
        "\n",
        "fund_statistics_VFORX"
       ]
      },
      {
       "output_type": "stream",
       "stream": "stdout",
       "text": [
        "\n",
        "fund_statistics_VTIVX"
       ]
      },
      {
       "output_type": "stream",
       "stream": "stdout",
       "text": [
        "\n",
        "fund_statistics_VFIFX"
       ]
      },
      {
       "output_type": "stream",
       "stream": "stdout",
       "text": [
        "\n",
        "fund_statistics_VFFVX"
       ]
      },
      {
       "output_type": "stream",
       "stream": "stdout",
       "text": [
        "\n",
        "fund_statistics_VTTSX"
       ]
      },
      {
       "output_type": "stream",
       "stream": "stdout",
       "text": [
        "\n",
        "fund_statistics_VTINX"
       ]
      },
      {
       "output_type": "stream",
       "stream": "stdout",
       "text": [
        "\n",
        "fund_statistics_VTMFX"
       ]
      },
      {
       "output_type": "stream",
       "stream": "stdout",
       "text": [
        "\n",
        "fund_statistics_VTCIX"
       ]
      },
      {
       "output_type": "stream",
       "stream": "stdout",
       "text": [
        "\n",
        "fund_statistics_VTMSX"
       ]
      },
      {
       "output_type": "stream",
       "stream": "stdout",
       "text": [
        "\n",
        "fund_statistics_VTBIX"
       ]
      },
      {
       "output_type": "stream",
       "stream": "stdout",
       "text": [
        "\n",
        "fund_statistics_VBMFX"
       ]
      },
      {
       "output_type": "stream",
       "stream": "stdout",
       "text": [
        "\n",
        "fund_statistics_VTIFX"
       ]
      },
      {
       "output_type": "stream",
       "stream": "stdout",
       "text": [
        "\n",
        "fund_statistics_VGTSX"
       ]
      },
      {
       "output_type": "stream",
       "stream": "stdout",
       "text": [
        "\n",
        "fund_statistics_VTSMX"
       ]
      },
      {
       "output_type": "stream",
       "stream": "stdout",
       "text": [
        "\n",
        "fund_statistics_VWUSX"
       ]
      },
      {
       "output_type": "stream",
       "stream": "stdout",
       "text": [
        "\n",
        "fund_statistics_VUVLX"
       ]
      },
      {
       "output_type": "stream",
       "stream": "stdout",
       "text": [
        "\n",
        "fund_statistics_VIVAX"
       ]
      },
      {
       "output_type": "stream",
       "stream": "stdout",
       "text": [
        "\n",
        "fund_statistics_VWINX"
       ]
      },
      {
       "output_type": "stream",
       "stream": "stdout",
       "text": [
        "\n",
        "fund_statistics_VWELX"
       ]
      },
      {
       "output_type": "stream",
       "stream": "stdout",
       "text": [
        "\n",
        "fund_statistics_VWNFX"
       ]
      },
      {
       "output_type": "stream",
       "stream": "stdout",
       "text": [
        "\n",
        "fund_statistics_VWNDX"
       ]
      },
      {
       "output_type": "stream",
       "stream": "stdout",
       "text": [
        "\n",
        "fund_statistics_AAATX"
       ]
      },
      {
       "output_type": "stream",
       "stream": "stdout",
       "text": [
        "\n",
        "fund_statistics_AABTX"
       ]
      },
      {
       "output_type": "stream",
       "stream": "stdout",
       "text": [
        "\n",
        "fund_statistics_AACTX"
       ]
      },
      {
       "output_type": "stream",
       "stream": "stdout",
       "text": [
        "\n",
        "fund_statistics_AADTX"
       ]
      },
      {
       "output_type": "stream",
       "stream": "stdout",
       "text": [
        "\n",
        "fund_statistics_AAETX"
       ]
      },
      {
       "output_type": "stream",
       "stream": "stdout",
       "text": [
        "\n",
        "fund_statistics_AAFTX"
       ]
      },
      {
       "output_type": "stream",
       "stream": "stdout",
       "text": [
        "\n",
        "fund_statistics_AAGTX"
       ]
      },
      {
       "output_type": "stream",
       "stream": "stdout",
       "text": [
        "\n",
        "fund_statistics_AAHTX"
       ]
      },
      {
       "output_type": "stream",
       "stream": "stdout",
       "text": [
        "\n",
        "fund_statistics_AALTX"
       ]
      },
      {
       "output_type": "stream",
       "stream": "stdout",
       "text": [
        "\n",
        "fund_statistics_AAMTX"
       ]
      },
      {
       "output_type": "stream",
       "stream": "stdout",
       "text": [
        "\n",
        "fund_statistics_AMCPX"
       ]
      },
      {
       "output_type": "stream",
       "stream": "stdout",
       "text": [
        "\n",
        "fund_statistics_ABALX"
       ]
      },
      {
       "output_type": "stream",
       "stream": "stdout",
       "text": [
        "\n",
        "fund_statistics_AHITX"
       ]
      },
      {
       "output_type": "stream",
       "stream": "stdout",
       "text": [
        "\n",
        "fund_statistics_AMRMX"
       ]
      },
      {
       "output_type": "stream",
       "stream": "stdout",
       "text": [
        "\n",
        "fund_statistics_CBAAX"
       ]
      },
      {
       "output_type": "stream",
       "stream": "stdout",
       "text": [
        "\n",
        "fund_statistics_ABNDX"
       ]
      },
      {
       "output_type": "stream",
       "stream": "stdout",
       "text": [
        "\n",
        "fund_statistics_CAIBX"
       ]
      },
      {
       "output_type": "stream",
       "stream": "stdout",
       "text": [
        "\n",
        "fund_statistics_CWBFX"
       ]
      },
      {
       "output_type": "stream",
       "stream": "stdout",
       "text": [
        "\n",
        "fund_statistics_CWGIX"
       ]
      },
      {
       "output_type": "stream",
       "stream": "stdout",
       "text": [
        "\n",
        "fund_statistics_CFFAX"
       ]
      },
      {
       "output_type": "stream",
       "stream": "stdout",
       "text": [
        "\n",
        "fund_statistics_CNEAX"
       ]
      },
      {
       "output_type": "stream",
       "stream": "stdout",
       "text": [
        "\n",
        "fund_statistics_CTOAX"
       ]
      },
      {
       "output_type": "stream",
       "stream": "stdout",
       "text": [
        "\n",
        "fund_statistics_CFTAX"
       ]
      },
      {
       "output_type": "stream",
       "stream": "stdout",
       "text": [
        "\n",
        "fund_statistics_CSTAX"
       ]
      },
      {
       "output_type": "stream",
       "stream": "stdout",
       "text": [
        "\n",
        "fund_statistics_CTHAX"
       ]
      },
      {
       "output_type": "stream",
       "stream": "stdout",
       "text": [
        "\n",
        "fund_statistics_CENAX"
       ]
      },
      {
       "output_type": "stream",
       "stream": "stdout",
       "text": [
        "\n",
        "fund_statistics_DWGAX"
       ]
      },
      {
       "output_type": "stream",
       "stream": "stdout",
       "text": [
        "\n",
        "fund_statistics_AEPGX"
       ]
      },
      {
       "output_type": "stream",
       "stream": "stdout",
       "text": [
        "\n",
        "fund_statistics_ANCFX"
       ]
      },
      {
       "output_type": "stream",
       "stream": "stdout",
       "text": [
        "\n",
        "fund_statistics_CBFAX"
       ]
      },
      {
       "output_type": "stream",
       "stream": "stdout",
       "text": [
        "\n",
        "fund_statistics_CPGAX"
       ]
      },
      {
       "output_type": "stream",
       "stream": "stdout",
       "text": [
        "\n",
        "fund_statistics_CGNAX"
       ]
      },
      {
       "output_type": "stream",
       "stream": "stdout",
       "text": [
        "\n",
        "fund_statistics_AGTHX"
       ]
      },
      {
       "output_type": "stream",
       "stream": "stdout",
       "text": [
        "\n",
        "fund_statistics_CGPAX"
       ]
      },
      {
       "output_type": "stream",
       "stream": "stdout",
       "text": [
        "\n",
        "fund_statistics_AMECX"
       ]
      },
      {
       "output_type": "stream",
       "stream": "stdout",
       "text": [
        "\n",
        "fund_statistics_INPAX"
       ]
      },
      {
       "output_type": "stream",
       "stream": "stdout",
       "text": [
        "\n",
        "fund_statistics_AIBAX"
       ]
      },
      {
       "output_type": "stream",
       "stream": "stdout",
       "text": [
        "\n",
        "fund_statistics_CGIAX"
       ]
      },
      {
       "output_type": "stream",
       "stream": "stdout",
       "text": [
        "\n",
        "fund_statistics_AIVSX"
       ]
      },
      {
       "output_type": "stream",
       "stream": "stdout",
       "text": [
        "\n",
        "fund_statistics_LTEBX"
       ]
      },
      {
       "output_type": "stream",
       "stream": "stdout",
       "text": [
        "\n",
        "fund_statistics_CMFAX"
       ]
      },
      {
       "output_type": "stream",
       "stream": "stdout",
       "text": [
        "\n",
        "fund_statistics_ANEFX"
       ]
      },
      {
       "output_type": "stream",
       "stream": "stdout",
       "text": [
        "\n",
        "fund_statistics_ANWPX"
       ]
      },
      {
       "output_type": "stream",
       "stream": "stdout",
       "text": [
        "\n",
        "fund_statistics_NEWFX"
       ]
      },
      {
       "output_type": "stream",
       "stream": "stdout",
       "text": [
        "\n",
        "fund_statistics_PPVAX"
       ]
      },
      {
       "output_type": "stream",
       "stream": "stdout",
       "text": [
        "\n",
        "fund_statistics_ASTEX"
       ]
      },
      {
       "output_type": "stream",
       "stream": "stdout",
       "text": [
        "\n",
        "fund_statistics_SMCWX"
       ]
      },
      {
       "output_type": "stream",
       "stream": "stdout",
       "text": [
        "\n",
        "fund_statistics_ASBAX"
       ]
      },
      {
       "output_type": "stream",
       "stream": "stdout",
       "text": [
        "\n",
        "fund_statistics_AFTEX"
       ]
      },
      {
       "output_type": "stream",
       "stream": "stdout",
       "text": [
        "\n",
        "fund_statistics_TAFTX"
       ]
      },
      {
       "output_type": "stream",
       "stream": "stdout",
       "text": [
        "\n",
        "fund_statistics_NYAAX"
       ]
      },
      {
       "output_type": "stream",
       "stream": "stdout",
       "text": [
        "\n",
        "fund_statistics_TMMDX"
       ]
      },
      {
       "output_type": "stream",
       "stream": "stdout",
       "text": [
        "\n",
        "fund_statistics_TEPAX"
       ]
      },
      {
       "output_type": "stream",
       "stream": "stdout",
       "text": [
        "\n",
        "fund_statistics_TFVAX"
       ]
      },
      {
       "output_type": "stream",
       "stream": "stdout",
       "text": [
        "\n",
        "fund_statistics_TAIAX"
       ]
      },
      {
       "output_type": "stream",
       "stream": "stdout",
       "text": [
        "\n",
        "fund_statistics_AMUSX"
       ]
      },
      {
       "output_type": "stream",
       "stream": "stdout",
       "text": [
        "\n",
        "fund_statistics_AWSHX"
       ]
      },
      {
       "output_type": "stream",
       "stream": "stdout",
       "text": [
        "\n",
        "fund_statistics_AMHIX"
       ]
      },
      {
       "output_type": "stream",
       "stream": "stdout",
       "text": [
        "\n",
        "fund_statistics_PAUIX"
       ]
      },
      {
       "output_type": "stream",
       "stream": "stdout",
       "text": [
        "\n",
        "fund_statistics_PAAIX"
       ]
      },
      {
       "output_type": "stream",
       "stream": "stdout",
       "text": [
        "\n",
        "fund_statistics_PBIAX"
       ]
      },
      {
       "output_type": "stream",
       "stream": "stdout",
       "text": [
        "\n",
        "fund_statistics_PCIMX"
       ]
      },
      {
       "output_type": "stream",
       "stream": "stdout",
       "text": [
        "\n",
        "fund_statistics_PCDAX"
       ]
      },
      {
       "output_type": "stream",
       "stream": "stdout",
       "text": [
        "\n",
        "fund_statistics_PCTTX"
       ]
      },
      {
       "output_type": "stream",
       "stream": "stdout",
       "text": [
        "\n",
        "fund_statistics_PCLAX"
       ]
      },
      {
       "output_type": "stream",
       "stream": "stdout",
       "text": [
        "\n",
        "fund_statistics_PCRIX"
       ]
      },
      {
       "output_type": "stream",
       "stream": "stdout",
       "text": [
        "\n",
        "fund_statistics_PFCIX"
       ]
      },
      {
       "output_type": "stream",
       "stream": "stdout",
       "text": [
        "\n",
        "fund_statistics_PZCRX"
       ]
      },
      {
       "output_type": "stream",
       "stream": "stdout",
       "text": [
        "\n",
        "fund_statistics_PDVAX"
       ]
      },
      {
       "output_type": "stream",
       "stream": "stdout",
       "text": [
        "\n",
        "fund_statistics_PQIZX"
       ]
      },
      {
       "output_type": "stream",
       "stream": "stdout",
       "text": [
        "\n",
        "fund_statistics_PEFIX"
       ]
      },
      {
       "output_type": "stream",
       "stream": "stdout",
       "text": [
        "\n",
        "fund_statistics_PFSSX"
       ]
      },
      {
       "output_type": "stream",
       "stream": "stdout",
       "text": [
        "\n",
        "fund_statistics_PELBX"
       ]
      },
      {
       "output_type": "stream",
       "stream": "stdout",
       "text": [
        "\n",
        "fund_statistics_PAEMX"
       ]
      },
      {
       "output_type": "stream",
       "stream": "stdout",
       "text": [
        "\n",
        "fund_statistics_PEMIX"
       ]
      },
      {
       "output_type": "stream",
       "stream": "stdout",
       "text": [
        "\n",
        "fund_statistics_PLMAX"
       ]
      },
      {
       "output_type": "stream",
       "stream": "stdout",
       "text": [
        "\n",
        "fund_statistics_PEAAX"
       ]
      },
      {
       "output_type": "stream",
       "stream": "stdout",
       "text": [
        "\n",
        "fund_statistics_PLVVX"
       ]
      },
      {
       "output_type": "stream",
       "stream": "stdout",
       "text": [
        "\n",
        "fund_statistics_PATHX"
       ]
      },
      {
       "output_type": "stream",
       "stream": "stdout",
       "text": [
        "\n",
        "fund_statistics_PQDAX"
       ]
      },
      {
       "output_type": "stream",
       "stream": "stdout",
       "text": [
        "\n",
        "fund_statistics_PEQAX"
       ]
      },
      {
       "output_type": "stream",
       "stream": "stdout",
       "text": [
        "\n",
        "fund_statistics_PMHIX"
       ]
      },
      {
       "output_type": "stream",
       "stream": "stdout",
       "text": [
        "\n",
        "fund_statistics_PEDIX"
       ]
      },
      {
       "output_type": "stream",
       "stream": "stdout",
       "text": [
        "\n",
        "fund_statistics_PFIAX"
       ]
      },
      {
       "output_type": "stream",
       "stream": "stdout",
       "text": [
        "\n",
        "fund_statistics_PFUIX"
       ]
      },
      {
       "output_type": "stream",
       "stream": "stdout",
       "text": [
        "\n",
        "fund_statistics_PFORX"
       ]
      },
      {
       "output_type": "stream",
       "stream": "stdout",
       "text": [
        "\n",
        "fund_statistics_PFATX"
       ]
      },
      {
       "output_type": "stream",
       "stream": "stdout",
       "text": [
        "\n",
        "fund_statistics_PIXAX"
       ]
      },
      {
       "output_type": "stream",
       "stream": "stdout",
       "text": [
        "\n",
        "fund_statistics_PGSAX"
       ]
      },
      {
       "output_type": "stream",
       "stream": "stdout",
       "text": [
        "\n",
        "fund_statistics_PIGLX"
       ]
      },
      {
       "output_type": "stream",
       "stream": "stdout",
       "text": [
        "\n",
        "fund_statistics_PAIIX"
       ]
      },
      {
       "output_type": "stream",
       "stream": "stdout",
       "text": [
        "\n",
        "fund_statistics_PGMAX"
       ]
      },
      {
       "output_type": "stream",
       "stream": "stdout",
       "text": [
        "\n",
        "fund_statistics_PDMIX"
       ]
      },
      {
       "output_type": "stream",
       "stream": "stdout",
       "text": [
        "\n",
        "fund_statistics_PHIYX"
       ]
      },
      {
       "output_type": "stream",
       "stream": "stdout",
       "text": [
        "\n",
        "fund_statistics_PYMAX"
       ]
      },
      {
       "output_type": "stream",
       "stream": "stdout",
       "text": [
        "\n",
        "fund_statistics_PHSAX"
       ]
      },
      {
       "output_type": "stream",
       "stream": "stdout",
       "text": [
        "\n",
        "fund_statistics_PONAX"
       ]
      },
      {
       "output_type": "stream",
       "stream": "stdout",
       "text": [
        "\n",
        "fund_statistics_PZRMX"
       ]
      },
      {
       "output_type": "stream",
       "stream": "stdout",
       "text": [
        "\n",
        "fund_statistics_PTSIX"
       ]
      },
      {
       "output_type": "stream",
       "stream": "stdout",
       "text": [
        "\n",
        "fund_statistics_PLVBX"
       ]
      },
      {
       "output_type": "stream",
       "stream": "stdout",
       "text": [
        "\n",
        "fund_statistics_PPUAX"
       ]
      },
      {
       "output_type": "stream",
       "stream": "stdout",
       "text": [
        "\n",
        "fund_statistics_PIPAX"
       ]
      },
      {
       "output_type": "stream",
       "stream": "stdout",
       "text": [
        "\n",
        "fund_statistics_PIGIX"
       ]
      },
      {
       "output_type": "stream",
       "stream": "stdout",
       "text": [
        "\n",
        "fund_statistics_PLRIX"
       ]
      },
      {
       "output_type": "stream",
       "stream": "stdout",
       "text": [
        "\n",
        "fund_statistics_PTCIX"
       ]
      },
      {
       "output_type": "stream",
       "stream": "stdout",
       "text": [
        "\n",
        "fund_statistics_PGOVX"
       ]
      },
      {
       "output_type": "stream",
       "stream": "stdout",
       "text": [
        "\n",
        "fund_statistics_PLDTX"
       ]
      },
      {
       "output_type": "stream",
       "stream": "stdout",
       "text": [
        "\n",
        "fund_statistics_PLDIX"
       ]
      },
      {
       "output_type": "stream",
       "stream": "stdout",
       "text": [
        "\n",
        "fund_statistics_PTLDX"
       ]
      },
      {
       "output_type": "stream",
       "stream": "stdout",
       "text": [
        "\n",
        "fund_statistics_PXLVX"
       ]
      },
      {
       "output_type": "stream",
       "stream": "stdout",
       "text": [
        "\n",
        "fund_statistics_PMDRX"
       ]
      },
      {
       "output_type": "stream",
       "stream": "stdout",
       "text": [
        "\n",
        "fund_statistics_PMZAX"
       ]
      },
      {
       "output_type": "stream",
       "stream": "stdout",
       "text": [
        "\n",
        "fund_statistics_PTRIX"
       ]
      },
      {
       "output_type": "stream",
       "stream": "stdout",
       "text": [
        "\n",
        "fund_statistics_PFMIX"
       ]
      },
      {
       "output_type": "stream",
       "stream": "stdout",
       "text": [
        "\n",
        "fund_statistics_PMNTX"
       ]
      },
      {
       "output_type": "stream",
       "stream": "stdout",
       "text": [
        "\n",
        "fund_statistics_PNYIX"
       ]
      },
      {
       "output_type": "stream",
       "stream": "stdout",
       "text": [
        "\n",
        "fund_statistics_PETAX"
       ]
      },
      {
       "output_type": "stream",
       "stream": "stdout",
       "text": [
        "\n",
        "fund_statistics_PRTNX"
       ]
      },
      {
       "output_type": "stream",
       "stream": "stdout",
       "text": [
        "\n",
        "fund_statistics_PRAIX"
       ]
      },
      {
       "output_type": "stream",
       "stream": "stdout",
       "text": [
        "\n",
        "fund_statistics_PTNYX"
       ]
      },
      {
       "output_type": "stream",
       "stream": "stdout",
       "text": [
        "\n",
        "fund_statistics_PTYAX"
       ]
      },
      {
       "output_type": "stream",
       "stream": "stdout",
       "text": [
        "\n",
        "fund_statistics_PENZX"
       ]
      },
      {
       "output_type": "stream",
       "stream": "stdout",
       "text": [
        "\n",
        "fund_statistics_PEHAX"
       ]
      },
      {
       "output_type": "stream",
       "stream": "stdout",
       "text": [
        "\n",
        "fund_statistics_PIVAX"
       ]
      },
      {
       "output_type": "stream",
       "stream": "stdout",
       "text": [
        "\n",
        "fund_statistics_POFAX"
       ]
      },
      {
       "output_type": "stream",
       "stream": "stdout",
       "text": [
        "\n",
        "fund_statistics_PFZAX"
       ]
      },
      {
       "output_type": "stream",
       "stream": "stdout",
       "text": [
        "\n",
        "fund_statistics_PFYAX"
       ]
      },
      {
       "output_type": "stream",
       "stream": "stdout",
       "text": [
        "\n",
        "fund_statistics_PTNAX"
       ]
      },
      {
       "output_type": "stream",
       "stream": "stdout",
       "text": [
        "\n",
        "fund_statistics_PSRZX"
       ]
      },
      {
       "output_type": "stream",
       "stream": "stdout",
       "text": [
        "\n",
        "fund_statistics_PAIAX"
       ]
      },
      {
       "output_type": "stream",
       "stream": "stdout",
       "text": [
        "\n",
        "fund_statistics_PSDIX"
       ]
      },
      {
       "output_type": "stream",
       "stream": "stdout",
       "text": [
        "\n",
        "fund_statistics_PTSHX"
       ]
      },
      {
       "output_type": "stream",
       "stream": "stdout",
       "text": [
        "\n",
        "fund_statistics_PCFIX"
       ]
      },
      {
       "output_type": "stream",
       "stream": "stdout",
       "text": [
        "\n",
        "fund_statistics_PSCSX"
       ]
      },
      {
       "output_type": "stream",
       "stream": "stdout",
       "text": [
        "\n",
        "fund_statistics_PSPTX"
       ]
      },
      {
       "output_type": "stream",
       "stream": "stdout",
       "text": [
        "\n",
        "fund_statistics_PSTIX"
       ]
      },
      {
       "output_type": "stream",
       "stream": "stdout",
       "text": [
        "\n",
        "fund_statistics_PSTKX"
       ]
      },
      {
       "output_type": "stream",
       "stream": "stdout",
       "text": [
        "\n",
        "fund_statistics_PSLDX"
       ]
      },
      {
       "output_type": "stream",
       "stream": "stdout",
       "text": [
        "\n",
        "fund_statistics_PTXAX"
       ]
      },
      {
       "output_type": "stream",
       "stream": "stdout",
       "text": [
        "\n",
        "fund_statistics_PMBIX"
       ]
      },
      {
       "output_type": "stream",
       "stream": "stdout",
       "text": [
        "\n",
        "fund_statistics_PTSAX"
       ]
      },
      {
       "output_type": "stream",
       "stream": "stdout",
       "text": [
        "\n",
        "fund_statistics_PTTRX"
       ]
      },
      {
       "output_type": "stream",
       "stream": "stdout",
       "text": [
        "\n",
        "fund_statistics_PTUZX"
       ]
      },
      {
       "output_type": "stream",
       "stream": "stdout",
       "text": [
        "\n",
        "fund_statistics_PQTAX"
       ]
      },
      {
       "output_type": "stream",
       "stream": "stdout",
       "text": [
        "\n",
        "fund_statistics_PUBAX"
       ]
      },
      {
       "output_type": "stream",
       "stream": "stdout",
       "text": [
        "\n",
        "fund_statistics_ATMAX"
       ]
      },
      {
       "output_type": "stream",
       "stream": "stdout",
       "text": [
        "\n",
        "fund_statistics_PWWIX"
       ]
      },
      {
       "output_type": "stream",
       "stream": "stdout",
       "text": [
        "\n",
        "fund_statistics_TRAMX"
       ]
      },
      {
       "output_type": "stream",
       "stream": "stdout",
       "text": [
        "\n",
        "fund_statistics_PAAOX"
       ]
      },
      {
       "output_type": "stream",
       "stream": "stdout",
       "text": [
        "\n",
        "fund_statistics_RPBAX"
       ]
      },
      {
       "output_type": "stream",
       "stream": "stdout",
       "text": [
        "\n",
        "fund_statistics_TRBCX"
       ]
      },
      {
       "output_type": "stream",
       "stream": "stdout",
       "text": [
        "\n",
        "fund_statistics_PRXCX"
       ]
      },
      {
       "output_type": "stream",
       "stream": "stdout",
       "text": [
        "\n",
        "fund_statistics_PRWCX"
       ]
      },
      {
       "output_type": "stream",
       "stream": "stdout",
       "text": [
        "\n",
        "fund_statistics_PRCOX"
       ]
      },
      {
       "output_type": "stream",
       "stream": "stdout",
       "text": [
        "\n",
        "fund_statistics_PRPIX"
       ]
      },
      {
       "output_type": "stream",
       "stream": "stdout",
       "text": [
        "\n",
        "fund_statistics_PAOPX"
       ]
      },
      {
       "output_type": "stream",
       "stream": "stdout",
       "text": [
        "\n",
        "fund_statistics_PRDMX"
       ]
      },
      {
       "output_type": "stream",
       "stream": "stdout",
       "text": [
        "\n",
        "fund_statistics_PRDSX"
       ]
      },
      {
       "output_type": "stream",
       "stream": "stdout",
       "text": [
        "\n",
        "fund_statistics_PRDGX"
       ]
      },
      {
       "output_type": "stream",
       "stream": "stdout",
       "text": [
        "\n",
        "fund_statistics_PAELX"
       ]
      },
      {
       "output_type": "stream",
       "stream": "stdout",
       "text": [
        "\n",
        "fund_statistics_TREMX"
       ]
      },
      {
       "output_type": "stream",
       "stream": "stdout",
       "text": [
        "\n",
        "fund_statistics_PREMX"
       ]
      },
      {
       "output_type": "stream",
       "stream": "stdout",
       "text": [
        "\n",
        "fund_statistics_PRMSX"
       ]
      },
      {
       "output_type": "stream",
       "stream": "stdout",
       "text": [
        "\n",
        "fund_statistics_PACEX"
       ]
      },
      {
       "output_type": "stream",
       "stream": "stdout",
       "text": [
        "\n",
        "fund_statistics_PRFDX"
       ]
      },
      {
       "output_type": "stream",
       "stream": "stdout",
       "text": [
        "\n",
        "fund_statistics_PREIX"
       ]
      },
      {
       "output_type": "stream",
       "stream": "stdout",
       "text": [
        "\n",
        "fund_statistics_PRESX"
       ]
      },
      {
       "output_type": "stream",
       "stream": "stdout",
       "text": [
        "\n",
        "fund_statistics_PEXMX"
       ]
      },
      {
       "output_type": "stream",
       "stream": "stdout",
       "text": [
        "\n",
        "fund_statistics_PRISX"
       ]
      },
      {
       "output_type": "stream",
       "stream": "stdout",
       "text": [
        "\n",
        "fund_statistics_PAFRX"
       ]
      },
      {
       "output_type": "stream",
       "stream": "stdout",
       "text": [
        "\n",
        "fund_statistics_GTFBX"
       ]
      },
      {
       "output_type": "stream",
       "stream": "stdout",
       "text": [
        "\n",
        "fund_statistics_PAGLX"
       ]
      },
      {
       "output_type": "stream",
       "stream": "stdout",
       "text": [
        "\n",
        "fund_statistics_PAFGX"
       ]
      },
      {
       "output_type": "stream",
       "stream": "stdout",
       "text": [
        "\n",
        "fund_statistics_RPGIX"
       ]
      },
      {
       "output_type": "stream",
       "stream": "stdout",
       "text": [
        "\n",
        "fund_statistics_PAGEX"
       ]
      },
      {
       "output_type": "stream",
       "stream": "stdout",
       "text": [
        "\n",
        "fund_statistics_PRGSX"
       ]
      },
      {
       "output_type": "stream",
       "stream": "stdout",
       "text": [
        "\n",
        "fund_statistics_PRGTX"
       ]
      },
      {
       "output_type": "stream",
       "stream": "stdout",
       "text": [
        "\n",
        "fund_statistics_PRGMX"
       ]
      },
      {
       "output_type": "stream",
       "stream": "stdout",
       "text": [
        "\n",
        "fund_statistics_PRGIX"
       ]
      },
      {
       "output_type": "stream",
       "stream": "stdout",
       "text": [
        "\n",
        "fund_statistics_PRGFX"
       ]
      },
      {
       "output_type": "stream",
       "stream": "stdout",
       "text": [
        "\n",
        "fund_statistics_PRHSX"
       ]
      },
      {
       "output_type": "stream",
       "stream": "stdout",
       "text": [
        "\n",
        "fund_statistics_PRHYX"
       ]
      },
      {
       "output_type": "stream",
       "stream": "stdout",
       "text": [
        "\n",
        "fund_statistics_PRIPX"
       ]
      },
      {
       "output_type": "stream",
       "stream": "stdout",
       "text": [
        "\n",
        "fund_statistics_TRIAX"
       ]
      },
      {
       "output_type": "stream",
       "stream": "stdout",
       "text": [
        "\n",
        "fund_statistics_RPICX"
       ]
      },
      {
       "output_type": "stream",
       "stream": "stdout",
       "text": [
        "\n",
        "fund_statistics_TRXPX"
       ]
      },
      {
       "output_type": "stream",
       "stream": "stdout",
       "text": [
        "\n",
        "fund_statistics_TICPX"
       ]
      },
      {
       "output_type": "stream",
       "stream": "stdout",
       "text": [
        "\n",
        "fund_statistics_TREBX"
       ]
      },
      {
       "output_type": "stream",
       "stream": "stdout",
       "text": [
        "\n",
        "fund_statistics_IEMFX"
       ]
      },
      {
       "output_type": "stream",
       "stream": "stdout",
       "text": [
        "\n",
        "fund_statistics_RPIFX"
       ]
      },
      {
       "output_type": "stream",
       "stream": "stdout",
       "text": [
        "\n",
        "fund_statistics_TRGSX"
       ]
      },
      {
       "output_type": "stream",
       "stream": "stdout",
       "text": [
        "\n",
        "fund_statistics_RPIGX"
       ]
      },
      {
       "output_type": "stream",
       "stream": "stdout",
       "text": [
        "\n",
        "fund_statistics_RPGMX"
       ]
      },
      {
       "output_type": "stream",
       "stream": "stdout",
       "text": [
        "\n",
        "fund_statistics_PRIGX"
       ]
      },
      {
       "output_type": "stream",
       "stream": "stdout",
       "text": [
        "\n",
        "fund_statistics_TRHYX"
       ]
      },
      {
       "output_type": "stream",
       "stream": "stdout",
       "text": [
        "\n",
        "fund_statistics_RPIIX"
       ]
      },
      {
       "output_type": "stream",
       "stream": "stdout",
       "text": [
        "\n",
        "fund_statistics_TRCEX"
       ]
      },
      {
       "output_type": "stream",
       "stream": "stdout",
       "text": [
        "\n",
        "fund_statistics_PRFEX"
       ]
      },
      {
       "output_type": "stream",
       "stream": "stdout",
       "text": [
        "\n",
        "fund_statistics_TPLGX"
       ]
      },
      {
       "output_type": "stream",
       "stream": "stdout",
       "text": [
        "\n",
        "fund_statistics_TRLGX"
       ]
      },
      {
       "output_type": "stream",
       "stream": "stdout",
       "text": [
        "\n",
        "fund_statistics_TILCX"
       ]
      },
      {
       "output_type": "stream",
       "stream": "stdout",
       "text": [
        "\n",
        "fund_statistics_RPLCX"
       ]
      },
      {
       "output_type": "stream",
       "stream": "stdout",
       "text": [
        "\n",
        "fund_statistics_PMEGX"
       ]
      },
      {
       "output_type": "stream",
       "stream": "stdout",
       "text": [
        "\n",
        "fund_statistics_TRSSX"
       ]
      },
      {
       "output_type": "stream",
       "stream": "stdout",
       "text": [
        "\n",
        "fund_statistics_TRISX"
       ]
      },
      {
       "output_type": "stream",
       "stream": "stdout",
       "text": [
        "\n",
        "fund_statistics_RPIBX"
       ]
      },
      {
       "output_type": "stream",
       "stream": "stdout",
       "text": [
        "\n",
        "fund_statistics_PRIDX"
       ]
      },
      {
       "output_type": "stream",
       "stream": "stdout",
       "text": [
        "\n",
        "fund_statistics_PIEQX"
       ]
      },
      {
       "output_type": "stream",
       "stream": "stdout",
       "text": [
        "\n",
        "fund_statistics_PRITX"
       ]
      },
      {
       "output_type": "stream",
       "stream": "stdout",
       "text": [
        "\n",
        "fund_statistics_TRIGX"
       ]
      },
      {
       "output_type": "stream",
       "stream": "stdout",
       "text": [
        "\n",
        "fund_statistics_PRJPX"
       ]
      },
      {
       "output_type": "stream",
       "stream": "stdout",
       "text": [
        "\n",
        "fund_statistics_PRLAX"
       ]
      },
      {
       "output_type": "stream",
       "stream": "stdout",
       "text": [
        "\n",
        "fund_statistics_PRMDX"
       ]
      },
      {
       "output_type": "stream",
       "stream": "stdout",
       "text": [
        "\n",
        "fund_statistics_MDXBX"
       ]
      },
      {
       "output_type": "stream",
       "stream": "stdout",
       "text": [
        "\n",
        "fund_statistics_PRMTX"
       ]
      },
      {
       "output_type": "stream",
       "stream": "stdout",
       "text": [
        "\n",
        "fund_statistics_RPMGX"
       ]
      },
      {
       "output_type": "stream",
       "stream": "stdout",
       "text": [
        "\n",
        "fund_statistics_TRMCX"
       ]
      },
      {
       "output_type": "stream",
       "stream": "stdout",
       "text": [
        "\n",
        "fund_statistics_PRWAX"
       ]
      },
      {
       "output_type": "stream",
       "stream": "stdout",
       "text": [
        "\n",
        "fund_statistics_PRASX"
       ]
      },
      {
       "output_type": "stream",
       "stream": "stdout",
       "text": [
        "\n",
        "fund_statistics_PRNEX"
       ]
      },
      {
       "output_type": "stream",
       "stream": "stdout",
       "text": [
        "\n",
        "fund_statistics_PRNHX"
       ]
      },
      {
       "output_type": "stream",
       "stream": "stdout",
       "text": [
        "\n",
        "fund_statistics_PRCIX"
       ]
      },
      {
       "output_type": "stream",
       "stream": "stdout",
       "text": [
        "\n",
        "fund_statistics_NJTFX"
       ]
      },
      {
       "output_type": "stream",
       "stream": "stdout",
       "text": [
        "\n",
        "fund_statistics_PRNYX"
       ]
      },
      {
       "output_type": "stream",
       "stream": "stdout",
       "text": [
        "\n",
        "fund_statistics_TROSX"
       ]
      },
      {
       "output_type": "stream",
       "stream": "stdout",
       "text": [
        "\n",
        "fund_statistics_TRPBX"
       ]
      },
      {
       "output_type": "stream",
       "stream": "stdout",
       "text": [
        "\n",
        "fund_statistics_TRSGX"
       ]
      },
      {
       "output_type": "stream",
       "stream": "stdout",
       "text": [
        "\n",
        "fund_statistics_PRSIX"
       ]
      },
      {
       "output_type": "stream",
       "stream": "stdout",
       "text": [
        "\n",
        "fund_statistics_PRAFX"
       ]
      },
      {
       "output_type": "stream",
       "stream": "stdout",
       "text": [
        "\n",
        "fund_statistics_TRREX"
       ]
      },
      {
       "output_type": "stream",
       "stream": "stdout",
       "text": [
        "\n",
        "fund_statistics_TRRFX"
       ]
      },
      {
       "output_type": "stream",
       "stream": "stdout",
       "text": [
        "\n",
        "fund_statistics_TRRAX"
       ]
      },
      {
       "output_type": "stream",
       "stream": "stdout",
       "text": [
        "\n",
        "fund_statistics_TRRGX"
       ]
      },
      {
       "output_type": "stream",
       "stream": "stdout",
       "text": [
        "\n",
        "fund_statistics_TRRBX"
       ]
      },
      {
       "output_type": "stream",
       "stream": "stdout",
       "text": [
        "\n",
        "fund_statistics_TRRHX"
       ]
      },
      {
       "output_type": "stream",
       "stream": "stdout",
       "text": [
        "\n",
        "fund_statistics_TRRCX"
       ]
      },
      {
       "output_type": "stream",
       "stream": "stdout",
       "text": [
        "\n",
        "fund_statistics_TRRJX"
       ]
      },
      {
       "output_type": "stream",
       "stream": "stdout",
       "text": [
        "\n",
        "fund_statistics_TRRDX"
       ]
      },
      {
       "output_type": "stream",
       "stream": "stdout",
       "text": [
        "\n",
        "fund_statistics_TRRKX"
       ]
      },
      {
       "output_type": "stream",
       "stream": "stdout",
       "text": [
        "\n",
        "fund_statistics_PARFX"
       ]
      },
      {
       "output_type": "stream",
       "stream": "stdout",
       "text": [
        "\n",
        "fund_statistics_TRRNX"
       ]
      },
      {
       "output_type": "stream",
       "stream": "stdout",
       "text": [
        "\n",
        "fund_statistics_TRRYX"
       ]
      },
      {
       "output_type": "stream",
       "stream": "stdout",
       "text": [
        "\n",
        "fund_statistics_TRRIX"
       ]
      },
      {
       "output_type": "stream",
       "stream": "stdout",
       "text": [
        "\n",
        "fund_statistics_PRSCX"
       ]
      },
      {
       "output_type": "stream",
       "stream": "stdout",
       "text": [
        "\n",
        "fund_statistics_PRWBX"
       ]
      },
      {
       "output_type": "stream",
       "stream": "stdout",
       "text": [
        "\n",
        "fund_statistics_OTCFX"
       ]
      },
      {
       "output_type": "stream",
       "stream": "stdout",
       "text": [
        "\n",
        "fund_statistics_PRSVX"
       ]
      },
      {
       "output_type": "stream",
       "stream": "stdout",
       "text": [
        "\n",
        "fund_statistics_PRSGX"
       ]
      },
      {
       "output_type": "stream",
       "stream": "stdout",
       "text": [
        "\n",
        "fund_statistics_RPSIX"
       ]
      },
      {
       "output_type": "stream",
       "stream": "stdout",
       "text": [
        "\n",
        "fund_statistics_PSILX"
       ]
      },
      {
       "output_type": "stream",
       "stream": "stdout",
       "text": [
        "\n",
        "fund_statistics_PRSAX"
       ]
      },
      {
       "output_type": "stream",
       "stream": "stdout",
       "text": [
        "\n",
        "fund_statistics_PRINX"
       ]
      },
      {
       "output_type": "stream",
       "stream": "stdout",
       "text": [
        "\n",
        "fund_statistics_PRSMX"
       ]
      },
      {
       "output_type": "stream",
       "stream": "stdout",
       "text": [
        "\n",
        "fund_statistics_PANRX"
       ]
      },
      {
       "output_type": "stream",
       "stream": "stdout",
       "text": [
        "\n",
        "fund_statistics_PAERX"
       ]
      },
      {
       "output_type": "stream",
       "stream": "stdout",
       "text": [
        "\n",
        "fund_statistics_PAHRX"
       ]
      },
      {
       "output_type": "stream",
       "stream": "stdout",
       "text": [
        "\n",
        "fund_statistics_PAIRX"
       ]
      },
      {
       "output_type": "stream",
       "stream": "stdout",
       "text": [
        "\n",
        "fund_statistics_PAJRX"
       ]
      },
      {
       "output_type": "stream",
       "stream": "stdout",
       "text": [
        "\n",
        "fund_statistics_PAKRX"
       ]
      },
      {
       "output_type": "stream",
       "stream": "stdout",
       "text": [
        "\n",
        "fund_statistics_PATVX"
       ]
      },
      {
       "output_type": "stream",
       "stream": "stdout",
       "text": [
        "\n",
        "fund_statistics_PAHHX"
       ]
      },
      {
       "output_type": "stream",
       "stream": "stdout",
       "text": [
        "\n",
        "fund_statistics_PAFFX"
       ]
      },
      {
       "output_type": "stream",
       "stream": "stdout",
       "text": [
        "\n",
        "fund_statistics_PAOFX"
       ]
      },
      {
       "output_type": "stream",
       "stream": "stdout",
       "text": [
        "\n",
        "fund_statistics_PAFTX"
       ]
      },
      {
       "output_type": "stream",
       "stream": "stdout",
       "text": [
        "\n",
        "fund_statistics_TRTGX"
       ]
      },
      {
       "output_type": "stream",
       "stream": "stdout",
       "text": [
        "\n",
        "fund_statistics_PREFX"
       ]
      },
      {
       "output_type": "stream",
       "stream": "stdout",
       "text": [
        "\n",
        "fund_statistics_PRFHX"
       ]
      },
      {
       "output_type": "stream",
       "stream": "stdout",
       "text": [
        "\n",
        "fund_statistics_PRTAX"
       ]
      },
      {
       "output_type": "stream",
       "stream": "stdout",
       "text": [
        "\n",
        "fund_statistics_PRFSX"
       ]
      },
      {
       "output_type": "stream",
       "stream": "stdout",
       "text": [
        "\n",
        "fund_statistics_POMIX"
       ]
      },
      {
       "output_type": "stream",
       "stream": "stdout",
       "text": [
        "\n",
        "fund_statistics_PBDIX"
       ]
      },
      {
       "output_type": "stream",
       "stream": "stdout",
       "text": [
        "\n",
        "fund_statistics_TRBUX"
       ]
      },
      {
       "output_type": "stream",
       "stream": "stdout",
       "text": [
        "\n",
        "fund_statistics_PAULX"
       ]
      },
      {
       "output_type": "stream",
       "stream": "stdout",
       "text": [
        "\n",
        "fund_statistics_PRTIX"
       ]
      },
      {
       "output_type": "stream",
       "stream": "stdout",
       "text": [
        "\n",
        "fund_statistics_PRULX"
       ]
      },
      {
       "output_type": "stream",
       "stream": "stdout",
       "text": [
        "\n",
        "fund_statistics_PRVAX"
       ]
      },
      {
       "output_type": "stream",
       "stream": "stdout",
       "text": [
        "\n",
        "fund_statistics_TRVLX"
       ]
      },
      {
       "output_type": "stream",
       "stream": "stdout",
       "text": [
        "\n",
        "fund_statistics_JASAX"
       ]
      },
      {
       "output_type": "stream",
       "stream": "stdout",
       "text": [
        "\n",
        "fund_statistics_JAPFX"
       ]
      },
      {
       "output_type": "stream",
       "stream": "stdout",
       "text": [
        "\n",
        "fund_statistics_JPICX"
       ]
      },
      {
       "output_type": "stream",
       "stream": "stdout",
       "text": [
        "\n",
        "fund_statistics_JCHAX"
       ]
      },
      {
       "output_type": "stream",
       "stream": "stdout",
       "text": [
        "\n",
        "fund_statistics_CSAFX"
       ]
      },
      {
       "output_type": "stream",
       "stream": "stdout",
       "text": [
        "\n",
        "fund_statistics_WOBDX"
       ]
      },
      {
       "output_type": "stream",
       "stream": "stdout",
       "text": [
        "\n",
        "fund_statistics_ONIAX"
       ]
      },
      {
       "output_type": "stream",
       "stream": "stdout",
       "text": [
        "\n",
        "fund_statistics_CBRAX"
       ]
      },
      {
       "output_type": "stream",
       "stream": "stdout",
       "text": [
        "\n",
        "fund_statistics_JPCIX"
       ]
      },
      {
       "output_type": "stream",
       "stream": "stdout",
       "text": [
        "\n",
        "fund_statistics_JPIEX"
       ]
      },
      {
       "output_type": "stream",
       "stream": "stdout",
       "text": [
        "\n",
        "fund_statistics_JPDVX"
       ]
      },
      {
       "output_type": "stream",
       "stream": "stdout",
       "text": [
        "\n",
        "fund_statistics_JRNAX"
       ]
      },
      {
       "output_type": "stream",
       "stream": "stdout",
       "text": [
        "\n",
        "fund_statistics_DGAAX"
       ]
      },
      {
       "output_type": "stream",
       "stream": "stdout",
       "text": [
        "\n",
        "fund_statistics_VSCOX"
       ]
      },
      {
       "output_type": "stream",
       "stream": "stdout",
       "text": [
        "\n",
        "fund_statistics_JEEAX"
       ]
      },
      {
       "output_type": "stream",
       "stream": "stdout",
       "text": [
        "\n",
        "fund_statistics_JEMDX"
       ]
      },
      {
       "output_type": "stream",
       "stream": "stdout",
       "text": [
        "\n",
        "fund_statistics_JMIEX"
       ]
      },
      {
       "output_type": "stream",
       "stream": "stdout",
       "text": [
        "\n",
        "fund_statistics_JECAX"
       ]
      },
      {
       "output_type": "stream",
       "stream": "stdout",
       "text": [
        "\n",
        "fund_statistics_JPFAX"
       ]
      },
      {
       "output_type": "stream",
       "stream": "stdout",
       "text": [
        "\n",
        "fund_statistics_HLIEX"
       ]
      },
      {
       "output_type": "stream",
       "stream": "stdout",
       "text": [
        "\n",
        "fund_statistics_HLEIX"
       ]
      },
      {
       "output_type": "stream",
       "stream": "stdout",
       "text": [
        "\n",
        "fund_statistics_JPHAX"
       ]
      },
      {
       "output_type": "stream",
       "stream": "stdout",
       "text": [
        "\n",
        "fund_statistics_GAOAX"
       ]
      },
      {
       "output_type": "stream",
       "stream": "stdout",
       "text": [
        "\n",
        "fund_statistics_GBOAX"
       ]
      },
      {
       "output_type": "stream",
       "stream": "stdout",
       "text": [
        "\n",
        "fund_statistics_JEIAX"
       ]
      },
      {
       "output_type": "stream",
       "stream": "stdout",
       "text": [
        "\n",
        "fund_statistics_JGNAX"
       ]
      },
      {
       "output_type": "stream",
       "stream": "stdout",
       "text": [
        "\n",
        "fund_statistics_JEITX"
       ]
      },
      {
       "output_type": "stream",
       "stream": "stdout",
       "text": [
        "\n",
        "fund_statistics_HLGAX"
       ]
      },
      {
       "output_type": "stream",
       "stream": "stdout",
       "text": [
        "\n",
        "fund_statistics_VGRIX"
       ]
      },
      {
       "output_type": "stream",
       "stream": "stdout",
       "text": [
        "\n",
        "fund_statistics_VHIAX"
       ]
      },
      {
       "output_type": "stream",
       "stream": "stdout",
       "text": [
        "\n",
        "fund_statistics_OHYAX"
       ]
      },
      {
       "output_type": "stream",
       "stream": "stdout",
       "text": [
        "\n",
        "fund_statistics_JNBAX"
       ]
      },
      {
       "output_type": "stream",
       "stream": "stdout",
       "text": [
        "\n",
        "fund_statistics_JIMAX"
       ]
      },
      {
       "output_type": "stream",
       "stream": "stdout",
       "text": [
        "\n",
        "fund_statistics_VSITX"
       ]
      },
      {
       "output_type": "stream",
       "stream": "stdout",
       "text": [
        "\n",
        "fund_statistics_JCIAX"
       ]
      },
      {
       "output_type": "stream",
       "stream": "stdout",
       "text": [
        "\n",
        "fund_statistics_VSIEX"
       ]
      },
      {
       "output_type": "stream",
       "stream": "stdout",
       "text": [
        "\n",
        "fund_statistics_OIEAX"
       ]
      },
      {
       "output_type": "stream",
       "stream": "stdout",
       "text": [
        "\n",
        "fund_statistics_IUAEX"
       ]
      },
      {
       "output_type": "stream",
       "stream": "stdout",
       "text": [
        "\n",
        "fund_statistics_JNUSX"
       ]
      },
      {
       "output_type": "stream",
       "stream": "stdout",
       "text": [
        "\n",
        "fund_statistics_JPIOX"
       ]
      },
      {
       "output_type": "stream",
       "stream": "stdout",
       "text": [
        "\n",
        "fund_statistics_JIISX"
       ]
      },
      {
       "output_type": "stream",
       "stream": "stdout",
       "text": [
        "\n",
        "fund_statistics_JPIAX"
       ]
      },
      {
       "output_type": "stream",
       "stream": "stdout",
       "text": [
        "\n",
        "fund_statistics_VEUAX"
       ]
      },
      {
       "output_type": "stream",
       "stream": "stdout",
       "text": [
        "\n",
        "fund_statistics_JPGSX"
       ]
      },
      {
       "output_type": "stream",
       "stream": "stdout",
       "text": [
        "\n",
        "fund_statistics_JFTAX"
       ]
      },
      {
       "output_type": "stream",
       "stream": "stdout",
       "text": [
        "\n",
        "fund_statistics_WOOPX"
       ]
      },
      {
       "output_type": "stream",
       "stream": "stdout",
       "text": [
        "\n",
        "fund_statistics_JPIVX"
       ]
      },
      {
       "output_type": "stream",
       "stream": "stdout",
       "text": [
        "\n",
        "fund_statistics_OGIAX"
       ]
      },
      {
       "output_type": "stream",
       "stream": "stdout",
       "text": [
        "\n",
        "fund_statistics_OICAX"
       ]
      },
      {
       "output_type": "stream",
       "stream": "stdout",
       "text": [
        "\n",
        "fund_statistics_ONGIX"
       ]
      },
      {
       "output_type": "stream",
       "stream": "stdout",
       "text": [
        "\n",
        "fund_statistics_ONGAX"
       ]
      },
      {
       "output_type": "stream",
       "stream": "stdout",
       "text": [
        "\n",
        "fund_statistics_SEEGX"
       ]
      },
      {
       "output_type": "stream",
       "stream": "stdout",
       "text": [
        "\n",
        "fund_statistics_HLQVX"
       ]
      },
      {
       "output_type": "stream",
       "stream": "stdout",
       "text": [
        "\n",
        "fund_statistics_JLTAX"
       ]
      },
      {
       "output_type": "stream",
       "stream": "stdout",
       "text": [
        "\n",
        "fund_statistics_HLGFX"
       ]
      },
      {
       "output_type": "stream",
       "stream": "stdout",
       "text": [
        "\n",
        "fund_statistics_JMGIX"
       ]
      },
      {
       "output_type": "stream",
       "stream": "stdout",
       "text": [
        "\n",
        "fund_statistics_OMEAX"
       ]
      },
      {
       "output_type": "stream",
       "stream": "stdout",
       "text": [
        "\n",
        "fund_statistics_HSKAX"
       ]
      },
      {
       "output_type": "stream",
       "stream": "stdout",
       "text": [
        "\n",
        "fund_statistics_VSNGX"
       ]
      },
      {
       "output_type": "stream",
       "stream": "stdout",
       "text": [
        "\n",
        "fund_statistics_HLGEX"
       ]
      },
      {
       "output_type": "stream",
       "stream": "stdout",
       "text": [
        "\n",
        "fund_statistics_FLMVX"
       ]
      },
      {
       "output_type": "stream",
       "stream": "stdout",
       "text": [
        "\n",
        "fund_statistics_OMBAX"
       ]
      },
      {
       "output_type": "stream",
       "stream": "stdout",
       "text": [
        "\n",
        "fund_statistics_OGNAX"
       ]
      },
      {
       "output_type": "stream",
       "stream": "stdout",
       "text": [
        "\n",
        "fund_statistics_JSIAX"
       ]
      },
      {
       "output_type": "stream",
       "stream": "stdout",
       "text": [
        "\n",
        "fund_statistics_HLTAX"
       ]
      },
      {
       "output_type": "stream",
       "stream": "stdout",
       "text": [
        "\n",
        "fund_statistics_VINTX"
       ]
      },
      {
       "output_type": "stream",
       "stream": "stdout",
       "text": [
        "\n",
        "fund_statistics_HLOMX"
       ]
      },
      {
       "output_type": "stream",
       "stream": "stdout",
       "text": [
        "\n",
        "fund_statistics_RRNAX"
       ]
      },
      {
       "output_type": "stream",
       "stream": "stdout",
       "text": [
        "\n",
        "fund_statistics_URTLX"
       ]
      },
      {
       "output_type": "stream",
       "stream": "stdout",
       "text": [
        "\n",
        "fund_statistics_JLSAX"
       ]
      },
      {
       "output_type": "stream",
       "stream": "stdout",
       "text": [
        "\n",
        "fund_statistics_JPMNX"
       ]
      },
      {
       "output_type": "stream",
       "stream": "stdout",
       "text": [
        "\n",
        "fund_statistics_CEEAX"
       ]
      },
      {
       "output_type": "stream",
       "stream": "stdout",
       "text": [
        "\n",
        "fund_statistics_HLLVX"
       ]
      },
      {
       "output_type": "stream",
       "stream": "stdout",
       "text": [
        "\n",
        "fund_statistics_JSDHX"
       ]
      },
      {
       "output_type": "stream",
       "stream": "stdout",
       "text": [
        "\n",
        "fund_statistics_OSTAX"
       ]
      },
      {
       "output_type": "stream",
       "stream": "stdout",
       "text": [
        "\n",
        "fund_statistics_VSSCX"
       ]
      },
      {
       "output_type": "stream",
       "stream": "stdout",
       "text": [
        "\n",
        "fund_statistics_VSEAX"
       ]
      },
      {
       "output_type": "stream",
       "stream": "stdout",
       "text": [
        "\n",
        "fund_statistics_PGSGX"
       ]
      },
      {
       "output_type": "stream",
       "stream": "stdout",
       "text": [
        "\n",
        "fund_statistics_PSOAX"
       ]
      },
      {
       "output_type": "stream",
       "stream": "stdout",
       "text": [
        "\n",
        "fund_statistics_SAEAX"
       ]
      },
      {
       "output_type": "stream",
       "stream": "stdout",
       "text": [
        "\n",
        "fund_statistics_SAIAX"
       ]
      },
      {
       "output_type": "stream",
       "stream": "stdout",
       "text": [
        "\n",
        "fund_statistics_JSFAX"
       ]
      },
      {
       "output_type": "stream",
       "stream": "stdout",
       "text": [
        "\n",
        "fund_statistics_JTTAX"
       ]
      },
      {
       "output_type": "stream",
       "stream": "stdout",
       "text": [
        "\n",
        "fund_statistics_JNSAX"
       ]
      },
      {
       "output_type": "stream",
       "stream": "stdout",
       "text": [
        "\n",
        "fund_statistics_JSMAX"
       ]
      },
      {
       "output_type": "stream",
       "stream": "stdout",
       "text": [
        "\n",
        "fund_statistics_SRJAX"
       ]
      },
      {
       "output_type": "stream",
       "stream": "stdout",
       "text": [
        "\n",
        "fund_statistics_SMTAX"
       ]
      },
      {
       "output_type": "stream",
       "stream": "stdout",
       "text": [
        "\n",
        "fund_statistics_JSAAX"
       ]
      },
      {
       "output_type": "stream",
       "stream": "stdout",
       "text": [
        "\n",
        "fund_statistics_JTSAX"
       ]
      },
      {
       "output_type": "stream",
       "stream": "stdout",
       "text": [
        "\n",
        "fund_statistics_JFFAX"
       ]
      },
      {
       "output_type": "stream",
       "stream": "stdout",
       "text": [
        "\n",
        "fund_statistics_JSBWX"
       ]
      },
      {
       "output_type": "stream",
       "stream": "stdout",
       "text": [
        "\n",
        "fund_statistics_JBSRX"
       ]
      },
      {
       "output_type": "stream",
       "stream": "stdout",
       "text": [
        "\n",
        "fund_statistics_JBBSX"
       ]
      },
      {
       "output_type": "stream",
       "stream": "stdout",
       "text": [
        "\n",
        "fund_statistics_JRBBX"
       ]
      },
      {
       "output_type": "stream",
       "stream": "stdout",
       "text": [
        "\n",
        "fund_statistics_JPBRX"
       ]
      },
      {
       "output_type": "stream",
       "stream": "stdout",
       "text": [
        "\n",
        "fund_statistics_JOBBX"
       ]
      },
      {
       "output_type": "stream",
       "stream": "stdout",
       "text": [
        "\n",
        "fund_statistics_JMBRX"
       ]
      },
      {
       "output_type": "stream",
       "stream": "stdout",
       "text": [
        "\n",
        "fund_statistics_JNABX"
       ]
      },
      {
       "output_type": "stream",
       "stream": "stdout",
       "text": [
        "\n",
        "fund_statistics_JTBBX"
       ]
      },
      {
       "output_type": "stream",
       "stream": "stdout",
       "text": [
        "\n",
        "fund_statistics_JIBBX"
       ]
      },
      {
       "output_type": "stream",
       "stream": "stdout",
       "text": [
        "\n",
        "fund_statistics_JSRAX"
       ]
      },
      {
       "output_type": "stream",
       "stream": "stdout",
       "text": [
        "\n",
        "fund_statistics_JSOAX"
       ]
      },
      {
       "output_type": "stream",
       "stream": "stdout",
       "text": [
        "\n",
        "fund_statistics_JPDEX"
       ]
      },
      {
       "output_type": "stream",
       "stream": "stdout",
       "text": [
        "\n",
        "fund_statistics_JTIAX"
       ]
      },
      {
       "output_type": "stream",
       "stream": "stdout",
       "text": [
        "\n",
        "fund_statistics_JTAAX"
       ]
      },
      {
       "output_type": "stream",
       "stream": "stdout",
       "text": [
        "\n",
        "fund_statistics_TXRAX"
       ]
      },
      {
       "output_type": "stream",
       "stream": "stdout",
       "text": [
        "\n",
        "fund_statistics_JTARX"
       ]
      },
      {
       "output_type": "stream",
       "stream": "stdout",
       "text": [
        "\n",
        "fund_statistics_PMBAX"
       ]
      },
      {
       "output_type": "stream",
       "stream": "stdout",
       "text": [
        "\n",
        "fund_statistics_TMGGX"
       ]
      },
      {
       "output_type": "stream",
       "stream": "stdout",
       "text": [
        "\n",
        "fund_statistics_JMTAX"
       ]
      },
      {
       "output_type": "stream",
       "stream": "stdout",
       "text": [
        "\n",
        "fund_statistics_OTABX"
       ]
      },
      {
       "output_type": "stream",
       "stream": "stdout",
       "text": [
        "\n",
        "fund_statistics_JPSAX"
       ]
      },
      {
       "output_type": "stream",
       "stream": "stdout",
       "text": [
        "\n",
        "fund_statistics_JMUEX"
       ]
      },
      {
       "output_type": "stream",
       "stream": "stdout",
       "text": [
        "\n",
        "fund_statistics_JLCAX"
       ]
      },
      {
       "output_type": "stream",
       "stream": "stdout",
       "text": [
        "\n",
        "fund_statistics_JEPAX"
       ]
      },
      {
       "output_type": "stream",
       "stream": "stdout",
       "text": [
        "\n",
        "fund_statistics_JUSSX"
       ]
      },
      {
       "output_type": "stream",
       "stream": "stdout",
       "text": [
        "\n",
        "fund_statistics_JVAAX"
       ]
      },
      {
       "output_type": "stream",
       "stream": "stdout",
       "text": [
        "\n",
        "fund_statistics_UBVLX"
       ]
      },
      {
       "output_type": "stream",
       "stream": "stdout",
       "text": [
        "\n",
        "fund_statistics_FFIDX"
       ]
      },
      {
       "output_type": "stream",
       "stream": "stdout",
       "text": [
        "\n",
        "fund_statistics_FTAAX"
       ]
      },
      {
       "output_type": "stream",
       "stream": "stdout",
       "text": [
        "\n",
        "fund_statistics_FFNAX"
       ]
      },
      {
       "output_type": "stream",
       "stream": "stdout",
       "text": [
        "\n",
        "fund_statistics_FSAAX"
       ]
      },
      {
       "output_type": "stream",
       "stream": "stdout",
       "text": [
        "\n",
        "fund_statistics_FFAVX"
       ]
      },
      {
       "output_type": "stream",
       "stream": "stdout",
       "text": [
        "\n",
        "fund_statistics_FACFX"
       ]
      },
      {
       "output_type": "stream",
       "stream": "stdout",
       "text": [
        "\n",
        "fund_statistics_FFVAX"
       ]
      },
      {
       "output_type": "stream",
       "stream": "stdout",
       "text": [
        "\n",
        "fund_statistics_FDAFX"
       ]
      },
      {
       "output_type": "stream",
       "stream": "stdout",
       "text": [
        "\n",
        "fund_statistics_FATWX"
       ]
      },
      {
       "output_type": "stream",
       "stream": "stdout",
       "text": [
        "\n",
        "fund_statistics_FAFEX"
       ]
      },
      {
       "output_type": "stream",
       "stream": "stdout",
       "text": [
        "\n",
        "fund_statistics_FATHX"
       ]
      },
      {
       "output_type": "stream",
       "stream": "stdout",
       "text": [
        "\n",
        "fund_statistics_FAFFX"
       ]
      },
      {
       "output_type": "stream",
       "stream": "stdout",
       "text": [
        "\n",
        "fund_statistics_FFFZX"
       ]
      },
      {
       "output_type": "stream",
       "stream": "stdout",
       "text": [
        "\n",
        "fund_statistics_FFFLX"
       ]
      },
      {
       "output_type": "stream",
       "stream": "stdout",
       "text": [
        "\n",
        "fund_statistics_FHFAX"
       ]
      },
      {
       "output_type": "stream",
       "stream": "stdout",
       "text": [
        "\n",
        "fund_statistics_FAFAX"
       ]
      },
      {
       "output_type": "stream",
       "stream": "stdout",
       "text": [
        "\n",
        "fund_statistics_FRJAX"
       ]
      },
      {
       "output_type": "stream",
       "stream": "stdout",
       "text": [
        "\n",
        "fund_statistics_FRKAX"
       ]
      },
      {
       "output_type": "stream",
       "stream": "stdout",
       "text": [
        "\n",
        "fund_statistics_FILAX"
       ]
      },
      {
       "output_type": "stream",
       "stream": "stdout",
       "text": [
        "\n",
        "fund_statistics_FRAMX"
       ]
      },
      {
       "output_type": "stream",
       "stream": "stdout",
       "text": [
        "\n",
        "fund_statistics_FRNAX"
       ]
      },
      {
       "output_type": "stream",
       "stream": "stdout",
       "text": [
        "\n",
        "fund_statistics_FIOAX"
       ]
      },
      {
       "output_type": "stream",
       "stream": "stdout",
       "text": [
        "\n",
        "fund_statistics_FARPX"
       ]
      },
      {
       "output_type": "stream",
       "stream": "stdout",
       "text": [
        "\n",
        "fund_statistics_FRQAX"
       ]
      },
      {
       "output_type": "stream",
       "stream": "stdout",
       "text": [
        "\n",
        "fund_statistics_FIARX"
       ]
      },
      {
       "output_type": "stream",
       "stream": "stdout",
       "text": [
        "\n",
        "fund_statistics_FARSX"
       ]
      },
      {
       "output_type": "stream",
       "stream": "stdout",
       "text": [
        "\n",
        "fund_statistics_FURAX"
       ]
      },
      {
       "output_type": "stream",
       "stream": "stdout",
       "text": [
        "\n",
        "fund_statistics_FARVX"
       ]
      },
      {
       "output_type": "stream",
       "stream": "stdout",
       "text": [
        "\n",
        "fund_statistics_FARWX"
       ]
      },
      {
       "output_type": "stream",
       "stream": "stdout",
       "text": [
        "\n",
        "fund_statistics_FARFX"
       ]
      },
      {
       "output_type": "stream",
       "stream": "stdout",
       "text": [
        "\n",
        "fund_statistics_FAIGX"
       ]
      },
      {
       "output_type": "stream",
       "stream": "stdout",
       "text": [
        "\n",
        "fund_statistics_FBTAX"
       ]
      },
      {
       "output_type": "stream",
       "stream": "stdout",
       "text": [
        "\n",
        "fund_statistics_FDETX"
       ]
      },
      {
       "output_type": "stream",
       "stream": "stdout",
       "text": [
        "\n",
        "fund_statistics_FDMAX"
       ]
      },
      {
       "output_type": "stream",
       "stream": "stdout",
       "text": [
        "\n",
        "fund_statistics_FCNAX"
       ]
      },
      {
       "output_type": "stream",
       "stream": "stdout",
       "text": [
        "\n",
        "fund_statistics_FCBAX"
       ]
      },
      {
       "output_type": "stream",
       "stream": "stdout",
       "text": [
        "\n",
        "fund_statistics_FDVAX"
       ]
      },
      {
       "output_type": "stream",
       "stream": "stdout",
       "text": [
        "\n",
        "fund_statistics_FDESX"
       ]
      },
      {
       "output_type": "stream",
       "stream": "stdout",
       "text": [
        "\n",
        "fund_statistics_FADAX"
       ]
      },
      {
       "output_type": "stream",
       "stream": "stdout",
       "text": [
        "\n",
        "fund_statistics_FELAX"
       ]
      },
      {
       "output_type": "stream",
       "stream": "stdout",
       "text": [
        "\n",
        "fund_statistics_FMEAX"
       ]
      },
      {
       "output_type": "stream",
       "stream": "stdout",
       "text": [
        "\n",
        "fund_statistics_FEDAX"
       ]
      },
      {
       "output_type": "stream",
       "stream": "stdout",
       "text": [
        "\n",
        "fund_statistics_FEAAX"
       ]
      },
      {
       "output_type": "stream",
       "stream": "stdout",
       "text": [
        "\n",
        "fund_statistics_FAMKX"
       ]
      },
      {
       "output_type": "stream",
       "stream": "stdout",
       "text": [
        "\n",
        "fund_statistics_FAEMX"
       ]
      },
      {
       "output_type": "stream",
       "stream": "stdout",
       "text": [
        "\n",
        "fund_statistics_FAGNX"
       ]
      },
      {
       "output_type": "stream",
       "stream": "stdout",
       "text": [
        "\n",
        "fund_statistics_EQPGX"
       ]
      },
      {
       "output_type": "stream",
       "stream": "stdout",
       "text": [
        "\n",
        "fund_statistics_EQPIX"
       ]
      },
      {
       "output_type": "stream",
       "stream": "stdout",
       "text": [
        "\n",
        "fund_statistics_FAVAX"
       ]
      },
      {
       "output_type": "stream",
       "stream": "stdout",
       "text": [
        "\n",
        "fund_statistics_FCHSX"
       ]
      },
      {
       "output_type": "stream",
       "stream": "stdout",
       "text": [
        "\n",
        "fund_statistics_FAFDX"
       ]
      },
      {
       "output_type": "stream",
       "stream": "stdout",
       "text": [
        "\n",
        "fund_statistics_FFRAX"
       ]
      },
      {
       "output_type": "stream",
       "stream": "stdout",
       "text": [
        "\n",
        "fund_statistics_FGEAX"
       ]
      },
      {
       "output_type": "stream",
       "stream": "stdout",
       "text": [
        "\n",
        "fund_statistics_FGBZX"
       ]
      },
      {
       "output_type": "stream",
       "stream": "stdout",
       "text": [
        "\n",
        "fund_statistics_FFGAX"
       ]
      },
      {
       "output_type": "stream",
       "stream": "stdout",
       "text": [
        "\n",
        "fund_statistics_FBLYX"
       ]
      },
      {
       "output_type": "stream",
       "stream": "stdout",
       "text": [
        "\n",
        "fund_statistics_FGHAX"
       ]
      },
      {
       "output_type": "stream",
       "stream": "stdout",
       "text": [
        "\n",
        "fund_statistics_FDASX"
       ]
      },
      {
       "output_type": "stream",
       "stream": "stdout",
       "text": [
        "\n",
        "fund_statistics_FGIRX"
       ]
      },
      {
       "output_type": "stream",
       "stream": "stdout",
       "text": [
        "\n",
        "fund_statistics_FAGOX"
       ]
      },
      {
       "output_type": "stream",
       "stream": "stdout",
       "text": [
        "\n",
        "fund_statistics_FACDX"
       ]
      },
      {
       "output_type": "stream",
       "stream": "stdout",
       "text": [
        "\n",
        "fund_statistics_FHIAX"
       ]
      },
      {
       "output_type": "stream",
       "stream": "stdout",
       "text": [
        "\n",
        "fund_statistics_FAHDX"
       ]
      },
      {
       "output_type": "stream",
       "stream": "stdout",
       "text": [
        "\n",
        "fund_statistics_FCLAX"
       ]
      },
      {
       "output_type": "stream",
       "stream": "stdout",
       "text": [
        "\n",
        "fund_statistics_FINWX"
       ]
      },
      {
       "output_type": "stream",
       "stream": "stdout",
       "text": [
        "\n",
        "fund_statistics_FIAGX"
       ]
      },
      {
       "output_type": "stream",
       "stream": "stdout",
       "text": [
        "\n",
        "fund_statistics_FIVMX"
       ]
      },
      {
       "output_type": "stream",
       "stream": "stdout",
       "text": [
        "\n",
        "fund_statistics_FCPAX"
       ]
      },
      {
       "output_type": "stream",
       "stream": "stdout",
       "text": [
        "\n",
        "fund_statistics_FOPAX"
       ]
      },
      {
       "output_type": "stream",
       "stream": "stdout",
       "text": [
        "\n",
        "fund_statistics_FALHX"
       ]
      },
      {
       "output_type": "stream",
       "stream": "stdout",
       "text": [
        "\n",
        "fund_statistics_FLSAX"
       ]
      },
      {
       "output_type": "stream",
       "stream": "stdout",
       "text": [
        "\n",
        "fund_statistics_EFIPX"
       ]
      },
      {
       "output_type": "stream",
       "stream": "stdout",
       "text": [
        "\n",
        "fund_statistics_FGRTX"
       ]
      },
      {
       "output_type": "stream",
       "stream": "stdout",
       "text": [
        "\n",
        "fund_statistics_FIIAX"
       ]
      },
      {
       "output_type": "stream",
       "stream": "stdout",
       "text": [
        "\n",
        "fund_statistics_FAMPX"
       ]
      },
      {
       "output_type": "stream",
       "stream": "stdout",
       "text": [
        "\n",
        "fund_statistics_FAMMX"
       ]
      },
      {
       "output_type": "stream",
       "stream": "stdout",
       "text": [
        "\n",
        "fund_statistics_FAPAX"
       ]
      },
      {
       "output_type": "stream",
       "stream": "stdout",
       "text": [
        "\n",
        "fund_statistics_FOMAX"
       ]
      },
      {
       "output_type": "stream",
       "stream": "stdout",
       "text": [
        "\n",
        "fund_statistics_FSODX"
       ]
      },
      {
       "output_type": "stream",
       "stream": "stdout",
       "text": [
        "\n",
        "fund_statistics_FAHIX"
       ]
      },
      {
       "output_type": "stream",
       "stream": "stdout",
       "text": [
        "\n",
        "fund_statistics_FNIAX"
       ]
      },
      {
       "output_type": "stream",
       "stream": "stdout",
       "text": [
        "\n",
        "fund_statistics_FAERX"
       ]
      },
      {
       "output_type": "stream",
       "stream": "stdout",
       "text": [
        "\n",
        "fund_statistics_FHEAX"
       ]
      },
      {
       "output_type": "stream",
       "stream": "stdout",
       "text": [
        "\n",
        "fund_statistics_FLMLX"
       ]
      },
      {
       "output_type": "stream",
       "stream": "stdout",
       "text": [
        "\n",
        "fund_statistics_FAMGX"
       ]
      },
      {
       "output_type": "stream",
       "stream": "stdout",
       "text": [
        "\n",
        "fund_statistics_FMMLX"
       ]
      },
      {
       "output_type": "stream",
       "stream": "stdout",
       "text": [
        "\n",
        "fund_statistics_FMALX"
       ]
      },
      {
       "output_type": "stream",
       "stream": "stdout",
       "text": [
        "\n",
        "fund_statistics_FAOFX"
       ]
      },
      {
       "output_type": "stream",
       "stream": "stdout",
       "text": [
        "\n",
        "fund_statistics_FSSFX"
       ]
      },
      {
       "output_type": "stream",
       "stream": "stdout",
       "text": [
        "\n",
        "fund_statistics_FSBHX"
       ]
      },
      {
       "output_type": "stream",
       "stream": "stdout",
       "text": [
        "\n",
        "fund_statistics_FASFX"
       ]
      },
      {
       "output_type": "stream",
       "stream": "stdout",
       "text": [
        "\n",
        "fund_statistics_FSCDX"
       ]
      },
      {
       "output_type": "stream",
       "stream": "stdout",
       "text": [
        "\n",
        "fund_statistics_FCAGX"
       ]
      },
      {
       "output_type": "stream",
       "stream": "stdout",
       "text": [
        "\n",
        "fund_statistics_FCVAX"
       ]
      },
      {
       "output_type": "stream",
       "stream": "stdout",
       "text": [
        "\n",
        "fund_statistics_FMCBX"
       ]
      },
      {
       "output_type": "stream",
       "stream": "stdout",
       "text": [
        "\n",
        "fund_statistics_FASDX"
       ]
      },
      {
       "output_type": "stream",
       "stream": "stdout",
       "text": [
        "\n",
        "fund_statistics_FSINX"
       ]
      },
      {
       "output_type": "stream",
       "stream": "stdout",
       "text": [
        "\n",
        "fund_statistics_FSRAX"
       ]
      },
      {
       "output_type": "stream",
       "stream": "stdout",
       "text": [
        "\n",
        "fund_statistics_FADTX"
       ]
      },
      {
       "output_type": "stream",
       "stream": "stdout",
       "text": [
        "\n",
        "fund_statistics_FTEDX"
       ]
      },
      {
       "output_type": "stream",
       "stream": "stdout",
       "text": [
        "\n",
        "fund_statistics_FTAEX"
       ]
      },
      {
       "output_type": "stream",
       "stream": "stdout",
       "text": [
        "\n",
        "fund_statistics_FUGAX"
       ]
      },
      {
       "output_type": "stream",
       "stream": "stdout",
       "text": [
        "\n",
        "fund_statistics_FAVFX"
       ]
      },
      {
       "output_type": "stream",
       "stream": "stdout",
       "text": [
        "\n",
        "fund_statistics_FVLAX"
       ]
      },
      {
       "output_type": "stream",
       "stream": "stdout",
       "text": [
        "\n",
        "fund_statistics_FASPX"
       ]
      },
      {
       "output_type": "stream",
       "stream": "stdout",
       "text": [
        "\n",
        "fund_statistics_FASIX"
       ]
      },
      {
       "output_type": "stream",
       "stream": "stdout",
       "text": [
        "\n",
        "fund_statistics_FASMX"
       ]
      },
      {
       "output_type": "stream",
       "stream": "stdout",
       "text": [
        "\n",
        "fund_statistics_FASGX"
       ]
      },
      {
       "output_type": "stream",
       "stream": "stdout",
       "text": [
        "\n",
        "fund_statistics_FAMRX"
       ]
      },
      {
       "output_type": "stream",
       "stream": "stdout",
       "text": [
        "\n",
        "fund_statistics_FFKVX"
       ]
      },
      {
       "output_type": "stream",
       "stream": "stdout",
       "text": [
        "\n",
        "fund_statistics_FFKCX"
       ]
      },
      {
       "output_type": "stream",
       "stream": "stdout",
       "text": [
        "\n",
        "fund_statistics_FKVFX"
       ]
      },
      {
       "output_type": "stream",
       "stream": "stdout",
       "text": [
        "\n",
        "fund_statistics_FFKDX"
       ]
      },
      {
       "output_type": "stream",
       "stream": "stdout",
       "text": [
        "\n",
        "fund_statistics_FKTWX"
       ]
      },
      {
       "output_type": "stream",
       "stream": "stdout",
       "text": [
        "\n",
        "fund_statistics_FFKEX"
       ]
      },
      {
       "output_type": "stream",
       "stream": "stdout",
       "text": [
        "\n",
        "fund_statistics_FKTHX"
       ]
      },
      {
       "output_type": "stream",
       "stream": "stdout",
       "text": [
        "\n",
        "fund_statistics_FFKFX"
       ]
      },
      {
       "output_type": "stream",
       "stream": "stdout",
       "text": [
        "\n",
        "fund_statistics_FFKGX"
       ]
      },
      {
       "output_type": "stream",
       "stream": "stdout",
       "text": [
        "\n",
        "fund_statistics_FFKHX"
       ]
      },
      {
       "output_type": "stream",
       "stream": "stdout",
       "text": [
        "\n",
        "fund_statistics_FDENX"
       ]
      },
      {
       "output_type": "stream",
       "stream": "stdout",
       "text": [
        "\n",
        "fund_statistics_FFKAX"
       ]
      },
      {
       "output_type": "stream",
       "stream": "stdout",
       "text": [
        "\n",
        "fund_statistics_FFFVX"
       ]
      },
      {
       "output_type": "stream",
       "stream": "stdout",
       "text": [
        "\n",
        "fund_statistics_FFFCX"
       ]
      },
      {
       "output_type": "stream",
       "stream": "stdout",
       "text": [
        "\n",
        "fund_statistics_FFVFX"
       ]
      },
      {
       "output_type": "stream",
       "stream": "stdout",
       "text": [
        "\n",
        "fund_statistics_FFFDX"
       ]
      },
      {
       "output_type": "stream",
       "stream": "stdout",
       "text": [
        "\n",
        "fund_statistics_FFTWX"
       ]
      },
      {
       "output_type": "stream",
       "stream": "stdout",
       "text": [
        "\n",
        "fund_statistics_FFFEX"
       ]
      },
      {
       "output_type": "stream",
       "stream": "stdout",
       "text": [
        "\n",
        "fund_statistics_FFTHX"
       ]
      },
      {
       "output_type": "stream",
       "stream": "stdout",
       "text": [
        "\n",
        "fund_statistics_FFFFX"
       ]
      },
      {
       "output_type": "stream",
       "stream": "stdout",
       "text": [
        "\n",
        "fund_statistics_FFFGX"
       ]
      },
      {
       "output_type": "stream",
       "stream": "stdout",
       "text": [
        "\n",
        "fund_statistics_FFFHX"
       ]
      },
      {
       "output_type": "stream",
       "stream": "stdout",
       "text": [
        "\n",
        "fund_statistics_FDEEX"
       ]
      },
      {
       "output_type": "stream",
       "stream": "stdout",
       "text": [
        "\n",
        "fund_statistics_FFFAX"
       ]
      },
      {
       "output_type": "stream",
       "stream": "stdout",
       "text": [
        "\n",
        "fund_statistics_FJIFX"
       ]
      },
      {
       "output_type": "stream",
       "stream": "stdout",
       "text": [
        "\n",
        "fund_statistics_FKIFX"
       ]
      },
      {
       "output_type": "stream",
       "stream": "stdout",
       "text": [
        "\n",
        "fund_statistics_FLIFX"
       ]
      },
      {
       "output_type": "stream",
       "stream": "stdout",
       "text": [
        "\n",
        "fund_statistics_FPIFX"
       ]
      },
      {
       "output_type": "stream",
       "stream": "stdout",
       "text": [
        "\n",
        "fund_statistics_FQIFX"
       ]
      },
      {
       "output_type": "stream",
       "stream": "stdout",
       "text": [
        "\n",
        "fund_statistics_FXIFX"
       ]
      },
      {
       "output_type": "stream",
       "stream": "stdout",
       "text": [
        "\n",
        "fund_statistics_FIHFX"
       ]
      },
      {
       "output_type": "stream",
       "stream": "stdout",
       "text": [
        "\n",
        "fund_statistics_FBIFX"
       ]
      },
      {
       "output_type": "stream",
       "stream": "stdout",
       "text": [
        "\n",
        "fund_statistics_FIOFX"
       ]
      },
      {
       "output_type": "stream",
       "stream": "stdout",
       "text": [
        "\n",
        "fund_statistics_FIPFX"
       ]
      },
      {
       "output_type": "stream",
       "stream": "stdout",
       "text": [
        "\n",
        "fund_statistics_FDEWX"
       ]
      },
      {
       "output_type": "stream",
       "stream": "stdout",
       "text": [
        "\n",
        "fund_statistics_FIKFX"
       ]
      },
      {
       "output_type": "stream",
       "stream": "stdout",
       "text": [
        "\n",
        "fund_statistics_FUSEX"
       ]
      },
      {
       "output_type": "stream",
       "stream": "stdout",
       "text": [
        "\n",
        "fund_statistics_FPADX"
       ]
      },
      {
       "output_type": "stream",
       "stream": "stdout",
       "text": [
        "\n",
        "fund_statistics_FSEMX"
       ]
      },
      {
       "output_type": "stream",
       "stream": "stdout",
       "text": [
        "\n",
        "fund_statistics_FSGGX"
       ]
      },
      {
       "output_type": "stream",
       "stream": "stdout",
       "text": [
        "\n",
        "fund_statistics_FIPDX"
       ]
      },
      {
       "output_type": "stream",
       "stream": "stdout",
       "text": [
        "\n",
        "fund_statistics_FIBIX"
       ]
      },
      {
       "output_type": "stream",
       "stream": "stdout",
       "text": [
        "\n",
        "fund_statistics_FSIIX"
       ]
      },
      {
       "output_type": "stream",
       "stream": "stdout",
       "text": [
        "\n",
        "fund_statistics_FLBIX"
       ]
      },
      {
       "output_type": "stream",
       "stream": "stdout",
       "text": [
        "\n",
        "fund_statistics_FSMDX"
       ]
      },
      {
       "output_type": "stream",
       "stream": "stdout",
       "text": [
        "\n",
        "fund_statistics_FSRNX"
       ]
      },
      {
       "output_type": "stream",
       "stream": "stdout",
       "text": [
        "\n",
        "fund_statistics_FSBIX"
       ]
      },
      {
       "output_type": "stream",
       "stream": "stdout",
       "text": [
        "\n",
        "fund_statistics_FSSNX"
       ]
      },
      {
       "output_type": "stream",
       "stream": "stdout",
       "text": [
        "\n",
        "fund_statistics_FSTMX"
       ]
      },
      {
       "output_type": "stream",
       "stream": "stdout",
       "text": [
        "\n",
        "fund_statistics_FBIDX"
       ]
      },
      {
       "output_type": "stream",
       "stream": "stdout",
       "text": [
        "\n",
        "fund_statistics_FSAZX"
       ]
      },
      {
       "output_type": "stream",
       "stream": "stdout",
       "text": [
        "\n",
        "fund_statistics_FBALX"
       ]
      },
      {
       "output_type": "stream",
       "stream": "stdout",
       "text": [
        "\n",
        "fund_statistics_FBGRX"
       ]
      },
      {
       "output_type": "stream",
       "stream": "stdout",
       "text": [
        "\n",
        "fund_statistics_FBCVX"
       ]
      },
      {
       "output_type": "stream",
       "stream": "stdout",
       "text": [
        "\n",
        "fund_statistics_FCSTX"
       ]
      },
      {
       "output_type": "stream",
       "stream": "stdout",
       "text": [
        "\n",
        "fund_statistics_FCTFX"
       ]
      },
      {
       "output_type": "stream",
       "stream": "stdout",
       "text": [
        "\n",
        "fund_statistics_FICDX"
       ]
      },
      {
       "output_type": "stream",
       "stream": "stdout",
       "text": [
        "\n",
        "fund_statistics_FAGIX"
       ]
      },
      {
       "output_type": "stream",
       "stream": "stdout",
       "text": [
        "\n",
        "fund_statistics_FDCAX"
       ]
      },
      {
       "output_type": "stream",
       "stream": "stdout",
       "text": [
        "\n",
        "fund_statistics_FHKCX"
       ]
      },
      {
       "output_type": "stream",
       "stream": "stdout",
       "text": [
        "\n",
        "fund_statistics_FICNX"
       ]
      },
      {
       "output_type": "stream",
       "stream": "stdout",
       "text": [
        "\n",
        "fund_statistics_FMNDX"
       ]
      },
      {
       "output_type": "stream",
       "stream": "stdout",
       "text": [
        "\n",
        "fund_statistics_FCNVX"
       ]
      },
      {
       "output_type": "stream",
       "stream": "stdout",
       "text": [
        "\n",
        "fund_statistics_FCNTX"
       ]
      },
      {
       "output_type": "stream",
       "stream": "stdout",
       "text": [
        "\n",
        "fund_statistics_FCVSX"
       ]
      },
      {
       "output_type": "stream",
       "stream": "stdout",
       "text": [
        "\n",
        "fund_statistics_FDEQX"
       ]
      },
      {
       "output_type": "stream",
       "stream": "stdout",
       "text": [
        "\n",
        "fund_statistics_FDIVX"
       ]
      },
      {
       "output_type": "stream",
       "stream": "stdout",
       "text": [
        "\n",
        "fund_statistics_FDGFX"
       ]
      },
      {
       "output_type": "stream",
       "stream": "stdout",
       "text": [
        "\n",
        "fund_statistics_FSEAX"
       ]
      },
      {
       "output_type": "stream",
       "stream": "stdout",
       "text": [
        "\n",
        "fund_statistics_FEMKX"
       ]
      },
      {
       "output_type": "stream",
       "stream": "stdout",
       "text": [
        "\n",
        "fund_statistics_FEQTX"
       ]
      },
      {
       "output_type": "stream",
       "stream": "stdout",
       "text": [
        "\n",
        "fund_statistics_FEQIX"
       ]
      },
      {
       "output_type": "stream",
       "stream": "stdout",
       "text": [
        "\n",
        "fund_statistics_FIEUX"
       ]
      },
      {
       "output_type": "stream",
       "stream": "stdout",
       "text": [
        "\n",
        "fund_statistics_FARNX"
       ]
      },
      {
       "output_type": "stream",
       "stream": "stdout",
       "text": [
        "\n",
        "fund_statistics_FEXPX"
       ]
      },
      {
       "output_type": "stream",
       "stream": "stdout",
       "text": [
        "\n",
        "fund_statistics_FFTYX"
       ]
      },
      {
       "output_type": "stream",
       "stream": "stdout",
       "text": [
        "\n",
        "fund_statistics_FHIFX"
       ]
      },
      {
       "output_type": "stream",
       "stream": "stdout",
       "text": [
        "\n",
        "fund_statistics_FTQGX"
       ]
      },
      {
       "output_type": "stream",
       "stream": "stdout",
       "text": [
        "\n",
        "fund_statistics_FFNOX"
       ]
      },
      {
       "output_type": "stream",
       "stream": "stdout",
       "text": [
        "\n",
        "fund_statistics_FGBLX"
       ]
      },
      {
       "output_type": "stream",
       "stream": "stdout",
       "text": [
        "\n",
        "fund_statistics_FGILX"
       ]
      },
      {
       "output_type": "stream",
       "stream": "stdout",
       "text": [
        "\n",
        "fund_statistics_FGMNX"
       ]
      },
      {
       "output_type": "stream",
       "stream": "stdout",
       "text": [
        "\n",
        "fund_statistics_FGOVX"
       ]
      },
      {
       "output_type": "stream",
       "stream": "stdout",
       "text": [
        "\n",
        "fund_statistics_FGRIX"
       ]
      },
      {
       "output_type": "stream",
       "stream": "stdout",
       "text": [
        "\n",
        "fund_statistics_FDGRX"
       ]
      },
      {
       "output_type": "stream",
       "stream": "stdout",
       "text": [
        "\n",
        "fund_statistics_FDSVX"
       ]
      },
      {
       "output_type": "stream",
       "stream": "stdout",
       "text": [
        "\n",
        "fund_statistics_FDEGX"
       ]
      },
      {
       "output_type": "stream",
       "stream": "stdout",
       "text": [
        "\n",
        "fund_statistics_SPHIX"
       ]
      },
      {
       "output_type": "stream",
       "stream": "stdout",
       "text": [
        "\n",
        "fund_statistics_FDFFX"
       ]
      },
      {
       "output_type": "stream",
       "stream": "stdout",
       "text": [
        "\n",
        "fund_statistics_FINPX"
       ]
      },
      {
       "output_type": "stream",
       "stream": "stdout",
       "text": [
        "\n",
        "fund_statistics_FTHRX"
       ]
      },
      {
       "output_type": "stream",
       "stream": "stdout",
       "text": [
        "\n",
        "fund_statistics_FSTGX"
       ]
      },
      {
       "output_type": "stream",
       "stream": "stdout",
       "text": [
        "\n",
        "fund_statistics_FLTMX"
       ]
      },
      {
       "output_type": "stream",
       "stream": "stdout",
       "text": [
        "\n",
        "fund_statistics_FIVFX"
       ]
      },
      {
       "output_type": "stream",
       "stream": "stdout",
       "text": [
        "\n",
        "fund_statistics_FIGRX"
       ]
      },
      {
       "output_type": "stream",
       "stream": "stdout",
       "text": [
        "\n",
        "fund_statistics_FIENX"
       ]
      },
      {
       "output_type": "stream",
       "stream": "stdout",
       "text": [
        "\n",
        "fund_statistics_FIREX"
       ]
      },
      {
       "output_type": "stream",
       "stream": "stdout",
       "text": [
        "\n",
        "fund_statistics_FISMX"
       ]
      },
      {
       "output_type": "stream",
       "stream": "stdout",
       "text": [
        "\n",
        "fund_statistics_FBNDX"
       ]
      },
      {
       "output_type": "stream",
       "stream": "stdout",
       "text": [
        "\n",
        "fund_statistics_FJPNX"
       ]
      },
      {
       "output_type": "stream",
       "stream": "stdout",
       "text": [
        "\n",
        "fund_statistics_FJSCX"
       ]
      },
      {
       "output_type": "stream",
       "stream": "stdout",
       "text": [
        "\n",
        "fund_statistics_FLCEX"
       ]
      },
      {
       "output_type": "stream",
       "stream": "stdout",
       "text": [
        "\n",
        "fund_statistics_FLGEX"
       ]
      },
      {
       "output_type": "stream",
       "stream": "stdout",
       "text": [
        "\n",
        "fund_statistics_FLCSX"
       ]
      },
      {
       "output_type": "stream",
       "stream": "stdout",
       "text": [
        "\n",
        "fund_statistics_FLVEX"
       ]
      },
      {
       "output_type": "stream",
       "stream": "stdout",
       "text": [
        "\n",
        "fund_statistics_FLATX"
       ]
      },
      {
       "output_type": "stream",
       "stream": "stdout",
       "text": [
        "\n",
        "fund_statistics_FLVCX"
       ]
      },
      {
       "output_type": "stream",
       "stream": "stdout",
       "text": [
        "\n",
        "fund_statistics_FFXSX"
       ]
      },
      {
       "output_type": "stream",
       "stream": "stdout",
       "text": [
        "\n",
        "fund_statistics_FSTFX"
       ]
      },
      {
       "output_type": "stream",
       "stream": "stdout",
       "text": [
        "\n",
        "fund_statistics_FLPSX"
       ]
      },
      {
       "output_type": "stream",
       "stream": "stdout",
       "text": [
        "\n",
        "fund_statistics_FMAGX"
       ]
      },
      {
       "output_type": "stream",
       "stream": "stdout",
       "text": [
        "\n",
        "fund_statistics_SMDMX"
       ]
      },
      {
       "output_type": "stream",
       "stream": "stdout",
       "text": [
        "\n",
        "fund_statistics_FDMMX"
       ]
      },
      {
       "output_type": "stream",
       "stream": "stdout",
       "text": [
        "\n",
        "fund_statistics_FMHTX"
       ]
      },
      {
       "output_type": "stream",
       "stream": "stdout",
       "text": [
        "\n",
        "fund_statistics_FMEIX"
       ]
      },
      {
       "output_type": "stream",
       "stream": "stdout",
       "text": [
        "\n",
        "fund_statistics_FSMVX"
       ]
      },
      {
       "output_type": "stream",
       "stream": "stdout",
       "text": [
        "\n",
        "fund_statistics_FMCSX"
       ]
      },
      {
       "output_type": "stream",
       "stream": "stdout",
       "text": [
        "\n",
        "fund_statistics_FIMIX"
       ]
      },
      {
       "output_type": "stream",
       "stream": "stdout",
       "text": [
        "\n",
        "fund_statistics_FMSFX"
       ]
      },
      {
       "output_type": "stream",
       "stream": "stdout",
       "text": [
        "\n",
        "fund_statistics_FHIGX"
       ]
      },
      {
       "output_type": "stream",
       "stream": "stdout",
       "text": [
        "\n",
        "fund_statistics_FNCMX"
       ]
      },
      {
       "output_type": "stream",
       "stream": "stdout",
       "text": [
        "\n",
        "fund_statistics_FNJHX"
       ]
      },
      {
       "output_type": "stream",
       "stream": "stdout",
       "text": [
        "\n",
        "fund_statistics_FNMIX"
       ]
      },
      {
       "output_type": "stream",
       "stream": "stdout",
       "text": [
        "\n",
        "fund_statistics_FMILX"
       ]
      },
      {
       "output_type": "stream",
       "stream": "stdout",
       "text": [
        "\n",
        "fund_statistics_FTFMX"
       ]
      },
      {
       "output_type": "stream",
       "stream": "stdout",
       "text": [
        "\n",
        "fund_statistics_FNORX"
       ]
      },
      {
       "output_type": "stream",
       "stream": "stdout",
       "text": [
        "\n",
        "fund_statistics_FOHFX"
       ]
      },
      {
       "output_type": "stream",
       "stream": "stdout",
       "text": [
        "\n",
        "fund_statistics_FOCPX"
       ]
      },
      {
       "output_type": "stream",
       "stream": "stdout",
       "text": [
        "\n",
        "fund_statistics_FOSFX"
       ]
      },
      {
       "output_type": "stream",
       "stream": "stdout",
       "text": [
        "\n",
        "fund_statistics_FPBFX"
       ]
      },
      {
       "output_type": "stream",
       "stream": "stdout",
       "text": [
        "\n",
        "fund_statistics_FPXTX"
       ]
      },
      {
       "output_type": "stream",
       "stream": "stdout",
       "text": [
        "\n",
        "fund_statistics_FPURX"
       ]
      },
      {
       "output_type": "stream",
       "stream": "stdout",
       "text": [
        "\n",
        "fund_statistics_FRIFX"
       ]
      },
      {
       "output_type": "stream",
       "stream": "stdout",
       "text": [
        "\n",
        "fund_statistics_FRESX"
       ]
      },
      {
       "output_type": "stream",
       "stream": "stdout",
       "text": [
        "\n",
        "fund_statistics_FSAIX"
       ]
      },
      {
       "output_type": "stream",
       "stream": "stdout",
       "text": [
        "\n",
        "fund_statistics_FSAVX"
       ]
      },
      {
       "output_type": "stream",
       "stream": "stdout",
       "text": [
        "\n",
        "fund_statistics_FSRBX"
       ]
      },
      {
       "output_type": "stream",
       "stream": "stdout",
       "text": [
        "\n",
        "fund_statistics_FBIOX"
       ]
      },
      {
       "output_type": "stream",
       "stream": "stdout",
       "text": [
        "\n",
        "fund_statistics_FSLBX"
       ]
      },
      {
       "output_type": "stream",
       "stream": "stdout",
       "text": [
        "\n",
        "fund_statistics_FSCHX"
       ]
      },
      {
       "output_type": "stream",
       "stream": "stdout",
       "text": [
        "\n",
        "fund_statistics_FSDCX"
       ]
      },
      {
       "output_type": "stream",
       "stream": "stdout",
       "text": [
        "\n",
        "fund_statistics_FDCPX"
       ]
      },
      {
       "output_type": "stream",
       "stream": "stdout",
       "text": [
        "\n",
        "fund_statistics_FSHOX"
       ]
      },
      {
       "output_type": "stream",
       "stream": "stdout",
       "text": [
        "\n",
        "fund_statistics_FSCPX"
       ]
      },
      {
       "output_type": "stream",
       "stream": "stdout",
       "text": [
        "\n",
        "fund_statistics_FSVLX"
       ]
      },
      {
       "output_type": "stream",
       "stream": "stdout",
       "text": [
        "\n",
        "fund_statistics_FDFAX"
       ]
      },
      {
       "output_type": "stream",
       "stream": "stdout",
       "text": [
        "\n",
        "fund_statistics_FSDAX"
       ]
      },
      {
       "output_type": "stream",
       "stream": "stdout",
       "text": [
        "\n",
        "fund_statistics_FSELX"
       ]
      },
      {
       "output_type": "stream",
       "stream": "stdout",
       "text": [
        "\n",
        "fund_statistics_FSENX"
       ]
      },
      {
       "output_type": "stream",
       "stream": "stdout",
       "text": [
        "\n",
        "fund_statistics_FSESX"
       ]
      },
      {
       "output_type": "stream",
       "stream": "stdout",
       "text": [
        "\n",
        "fund_statistics_FSLEX"
       ]
      },
      {
       "output_type": "stream",
       "stream": "stdout",
       "text": [
        "\n",
        "fund_statistics_FIDSX"
       ]
      },
      {
       "output_type": "stream",
       "stream": "stdout",
       "text": [
        "\n",
        "fund_statistics_FSAGX"
       ]
      },
      {
       "output_type": "stream",
       "stream": "stdout",
       "text": [
        "\n",
        "fund_statistics_FSPHX"
       ]
      },
      {
       "output_type": "stream",
       "stream": "stdout",
       "text": [
        "\n",
        "fund_statistics_FSCGX"
       ]
      },
      {
       "output_type": "stream",
       "stream": "stdout",
       "text": [
        "\n",
        "fund_statistics_FCYIX"
       ]
      },
      {
       "output_type": "stream",
       "stream": "stdout",
       "text": [
        "\n",
        "fund_statistics_FSPCX"
       ]
      },
      {
       "output_type": "stream",
       "stream": "stdout",
       "text": [
        "\n",
        "fund_statistics_FBSOX"
       ]
      },
      {
       "output_type": "stream",
       "stream": "stdout",
       "text": [
        "\n",
        "fund_statistics_FDLSX"
       ]
      },
      {
       "output_type": "stream",
       "stream": "stdout",
       "text": [
        "\n",
        "fund_statistics_FSDPX"
       ]
      },
      {
       "output_type": "stream",
       "stream": "stdout",
       "text": [
        "\n",
        "fund_statistics_FSHCX"
       ]
      },
      {
       "output_type": "stream",
       "stream": "stdout",
       "text": [
        "\n",
        "fund_statistics_FSMEX"
       ]
      },
      {
       "output_type": "stream",
       "stream": "stdout",
       "text": [
        "\n",
        "fund_statistics_FBMPX"
       ]
      },
      {
       "output_type": "stream",
       "stream": "stdout",
       "text": [
        "\n",
        "fund_statistics_FSNGX"
       ]
      },
      {
       "output_type": "stream",
       "stream": "stdout",
       "text": [
        "\n",
        "fund_statistics_FNARX"
       ]
      },
      {
       "output_type": "stream",
       "stream": "stdout",
       "text": [
        "\n",
        "fund_statistics_FPHAX"
       ]
      },
      {
       "output_type": "stream",
       "stream": "stdout",
       "text": [
        "\n",
        "fund_statistics_FSRPX"
       ]
      },
      {
       "output_type": "stream",
       "stream": "stdout",
       "text": [
        "\n",
        "fund_statistics_FSCSX"
       ]
      },
      {
       "output_type": "stream",
       "stream": "stdout",
       "text": [
        "\n",
        "fund_statistics_FSPTX"
       ]
      },
      {
       "output_type": "stream",
       "stream": "stdout",
       "text": [
        "\n",
        "fund_statistics_FSTCX"
       ]
      },
      {
       "output_type": "stream",
       "stream": "stdout",
       "text": [
        "\n",
        "fund_statistics_FSRFX"
       ]
      },
      {
       "output_type": "stream",
       "stream": "stdout",
       "text": [
        "\n",
        "fund_statistics_FSUTX"
       ]
      },
      {
       "output_type": "stream",
       "stream": "stdout",
       "text": [
        "\n",
        "fund_statistics_FWRLX"
       ]
      },
      {
       "output_type": "stream",
       "stream": "stdout",
       "text": [
        "\n",
        "fund_statistics_FOHIX"
       ]
      },
      {
       "output_type": "stream",
       "stream": "stdout",
       "text": [
        "\n",
        "fund_statistics_FIOOX"
       ]
      },
      {
       "output_type": "stream",
       "stream": "stdout",
       "text": [
        "\n",
        "fund_statistics_FSAEX"
       ]
      },
      {
       "output_type": "stream",
       "stream": "stdout",
       "text": [
        "\n",
        "fund_statistics_FSBDX"
       ]
      },
      {
       "output_type": "stream",
       "stream": "stdout",
       "text": [
        "\n",
        "fund_statistics_FBMAX"
       ]
      },
      {
       "output_type": "stream",
       "stream": "stdout",
       "text": [
        "\n",
        "fund_statistics_FCSSX"
       ]
      },
      {
       "output_type": "stream",
       "stream": "stdout",
       "text": [
        "\n",
        "fund_statistics_FEMSX"
       ]
      },
      {
       "output_type": "stream",
       "stream": "stdout",
       "text": [
        "\n",
        "fund_statistics_FEDCX"
       ]
      },
      {
       "output_type": "stream",
       "stream": "stdout",
       "text": [
        "\n",
        "fund_statistics_FNKLX"
       ]
      },
      {
       "output_type": "stream",
       "stream": "stdout",
       "text": [
        "\n",
        "fund_statistics_FFHCX"
       ]
      },
      {
       "output_type": "stream",
       "stream": "stdout",
       "text": [
        "\n",
        "fund_statistics_FSGEX"
       ]
      },
      {
       "output_type": "stream",
       "stream": "stdout",
       "text": [
        "\n",
        "fund_statistics_FGLGX"
       ]
      },
      {
       "output_type": "stream",
       "stream": "stdout",
       "text": [
        "\n",
        "fund_statistics_FCGSX"
       ]
      },
      {
       "output_type": "stream",
       "stream": "stdout",
       "text": [
        "\n",
        "fund_statistics_FSHNX"
       ]
      },
      {
       "output_type": "stream",
       "stream": "stdout",
       "text": [
        "\n",
        "fund_statistics_FSIPX"
       ]
      },
      {
       "output_type": "stream",
       "stream": "stdout",
       "text": [
        "\n",
        "fund_statistics_FIGSX"
       ]
      },
      {
       "output_type": "stream",
       "stream": "stdout",
       "text": [
        "\n",
        "fund_statistics_FSTSX"
       ]
      },
      {
       "output_type": "stream",
       "stream": "stdout",
       "text": [
        "\n",
        "fund_statistics_FINVX"
       ]
      },
      {
       "output_type": "stream",
       "stream": "stdout",
       "text": [
        "\n",
        "fund_statistics_FGLLX"
       ]
      },
      {
       "output_type": "stream",
       "stream": "stdout",
       "text": [
        "\n",
        "fund_statistics_FSIGX"
       ]
      },
      {
       "output_type": "stream",
       "stream": "stdout",
       "text": [
        "\n",
        "fund_statistics_FVWSX"
       ]
      },
      {
       "output_type": "stream",
       "stream": "stdout",
       "text": [
        "\n",
        "fund_statistics_FREDX"
       ]
      },
      {
       "output_type": "stream",
       "stream": "stdout",
       "text": [
        "\n",
        "fund_statistics_FSREX"
       ]
      },
      {
       "output_type": "stream",
       "stream": "stdout",
       "text": [
        "\n",
        "fund_statistics_FJACX"
       ]
      },
      {
       "output_type": "stream",
       "stream": "stdout",
       "text": [
        "\n",
        "fund_statistics_FSOPX"
       ]
      },
      {
       "output_type": "stream",
       "stream": "stdout",
       "text": [
        "\n",
        "fund_statistics_FBLEX"
       ]
      },
      {
       "output_type": "stream",
       "stream": "stdout",
       "text": [
        "\n",
        "fund_statistics_FSHBX"
       ]
      },
      {
       "output_type": "stream",
       "stream": "stdout",
       "text": [
        "\n",
        "fund_statistics_FSCRX"
       ]
      },
      {
       "output_type": "stream",
       "stream": "stdout",
       "text": [
        "\n",
        "fund_statistics_FCPEX"
       ]
      },
      {
       "output_type": "stream",
       "stream": "stdout",
       "text": [
        "\n",
        "fund_statistics_FSLCX"
       ]
      },
      {
       "output_type": "stream",
       "stream": "stdout",
       "text": [
        "\n",
        "fund_statistics_FDSSX"
       ]
      },
      {
       "output_type": "stream",
       "stream": "stdout",
       "text": [
        "\n",
        "fund_statistics_FSLVX"
       ]
      },
      {
       "output_type": "stream",
       "stream": "stdout",
       "text": [
        "\n",
        "fund_statistics_FDSCX"
       ]
      },
      {
       "output_type": "stream",
       "stream": "stdout",
       "text": [
        "\n",
        "fund_statistics_FSICX"
       ]
      },
      {
       "output_type": "stream",
       "stream": "stdout",
       "text": [
        "\n",
        "fund_statistics_FTABX"
       ]
      },
      {
       "output_type": "stream",
       "stream": "stdout",
       "text": [
        "\n",
        "fund_statistics_FIUIX"
       ]
      },
      {
       "output_type": "stream",
       "stream": "stdout",
       "text": [
        "\n",
        "fund_statistics_FTBFX"
       ]
      },
      {
       "output_type": "stream",
       "stream": "stdout",
       "text": [
        "\n",
        "fund_statistics_FTRNX"
       ]
      },
      {
       "output_type": "stream",
       "stream": "stdout",
       "text": [
        "\n",
        "fund_statistics_FDVLX"
       ]
      },
      {
       "output_type": "stream",
       "stream": "stdout",
       "text": [
        "\n",
        "fund_statistics_FVDFX"
       ]
      },
      {
       "output_type": "stream",
       "stream": "stdout",
       "text": [
        "\n",
        "fund_statistics_FWWFX"
       ]
      },
      {
       "output_type": "stream",
       "stream": "stdout",
       "text": [
        "\n",
        "fund_statistics_FCSAX"
       ]
      },
      {
       "output_type": "stream",
       "stream": "stdout",
       "text": [
        "\n",
        "fund_statistics_FWHBX"
       ]
      },
      {
       "output_type": "stream",
       "stream": "stdout",
       "text": [
        "\n",
        "fund_statistics_FPCIX"
       ]
      },
      {
       "output_type": "stream",
       "stream": "stdout",
       "text": [
        "\n",
        "fund_statistics_FLAUX"
       ]
      },
      {
       "output_type": "stream",
       "stream": "stdout",
       "text": [
        "\n",
        "fund_statistics_FSAMX"
       ]
      },
      {
       "output_type": "stream",
       "stream": "stdout",
       "text": [
        "\n",
        "fund_statistics_FLILX"
       ]
      },
      {
       "output_type": "stream",
       "stream": "stdout",
       "text": [
        "\n",
        "fund_statistics_FSGFX"
       ]
      },
      {
       "output_type": "stream",
       "stream": "stdout",
       "text": [
        "\n",
        "fund_statistics_FMELX"
       ]
      },
      {
       "output_type": "stream",
       "stream": "stdout",
       "text": [
        "\n",
        "fund_statistics_FSADX"
       ]
      },
      {
       "output_type": "stream",
       "stream": "stdout",
       "text": [
        "\n",
        "fund_statistics_FPIOX"
       ]
      },
      {
       "output_type": "stream",
       "stream": "stdout",
       "text": [
        "\n",
        "fund_statistics_FILFX"
       ]
      },
      {
       "output_type": "stream",
       "stream": "stdout",
       "text": [
        "\n",
        "fund_statistics_FUSIX"
       ]
      },
      {
       "output_type": "stream",
       "stream": "stdout",
       "text": [
        "\n",
        "fund_statistics_FMJDX"
       ]
      },
      {
       "output_type": "stream",
       "stream": "stdout",
       "text": [
        "\n",
        "fund_statistics_FEHPX"
       ]
      },
      {
       "output_type": "stream",
       "stream": "stdout",
       "text": [
        "\n",
        "fund_statistics_FEMPX"
       ]
      },
      {
       "output_type": "stream",
       "stream": "stdout",
       "text": [
        "\n",
        "fund_statistics_FEJPX"
       ]
      },
      {
       "output_type": "stream",
       "stream": "stdout",
       "text": [
        "\n",
        "fund_statistics_FEKPX"
       ]
      },
      {
       "output_type": "stream",
       "stream": "stdout",
       "text": [
        "\n",
        "fund_statistics_FEDPX"
       ]
      },
      {
       "output_type": "stream",
       "stream": "stdout",
       "text": [
        "\n",
        "fund_statistics_FECPX"
       ]
      },
      {
       "output_type": "stream",
       "stream": "stdout",
       "text": [
        "\n",
        "fund_statistics_FENPX"
       ]
      },
      {
       "output_type": "stream",
       "stream": "stdout",
       "text": [
        "\n",
        "fund_statistics_FEWPX"
       ]
      },
      {
       "output_type": "stream",
       "stream": "stdout",
       "text": [
        "\n",
        "fund_statistics_FEZPX"
       ]
      },
      {
       "output_type": "stream",
       "stream": "stdout",
       "text": [
        "\n",
        "fund_statistics_FEYPX"
       ]
      },
      {
       "output_type": "stream",
       "stream": "stdout",
       "text": [
        "\n",
        "fund_statistics_FESPX"
       ]
      },
      {
       "output_type": "stream",
       "stream": "stdout",
       "text": [
        "\n",
        "fund_statistics_FEBPX"
       ]
      },
      {
       "output_type": "stream",
       "stream": "stdout",
       "text": [
        "\n",
        "fund_statistics_FAUDX"
       ]
      },
      {
       "output_type": "stream",
       "stream": "stdout",
       "text": [
        "\n",
        "fund_statistics_FNAPX"
       ]
      },
      {
       "output_type": "stream",
       "stream": "stdout",
       "text": [
        "\n",
        "fund_statistics_FSCFX"
       ]
      },
      {
       "output_type": "stream",
       "stream": "stdout",
       "text": [
        "\n",
        "fund_statistics_FVSAX"
       ]
      },
      {
       "output_type": "stream",
       "stream": "stdout",
       "text": [
        "\n",
        "fund_statistics_FKMOX"
       ]
      },
      {
       "output_type": "stream",
       "stream": "stdout",
       "text": [
        "\n",
        "fund_statistics_FISAX"
       ]
      },
      {
       "output_type": "stream",
       "stream": "stdout",
       "text": [
        "\n",
        "fund_statistics_FRALX"
       ]
      },
      {
       "output_type": "stream",
       "stream": "stdout",
       "text": [
        "\n",
        "fund_statistics_FRAVX"
       ]
      },
      {
       "output_type": "stream",
       "stream": "stdout",
       "text": [
        "\n",
        "fund_statistics_FTAZX"
       ]
      },
      {
       "output_type": "stream",
       "stream": "stdout",
       "text": [
        "\n",
        "fund_statistics_FRBSX"
       ]
      },
      {
       "output_type": "stream",
       "stream": "stdout",
       "text": [
        "\n",
        "fund_statistics_FBLAX"
       ]
      },
      {
       "output_type": "stream",
       "stream": "stdout",
       "text": [
        "\n",
        "fund_statistics_FBDIX"
       ]
      },
      {
       "output_type": "stream",
       "stream": "stdout",
       "text": [
        "\n",
        "fund_statistics_FCAMX"
       ]
      },
      {
       "output_type": "stream",
       "stream": "stdout",
       "text": [
        "\n",
        "fund_statistics_FRCIX"
       ]
      },
      {
       "output_type": "stream",
       "stream": "stdout",
       "text": [
        "\n",
        "fund_statistics_FKCIX"
       ]
      },
      {
       "output_type": "stream",
       "stream": "stdout",
       "text": [
        "\n",
        "fund_statistics_FKTFX"
       ]
      },
      {
       "output_type": "stream",
       "stream": "stdout",
       "text": [
        "\n",
        "fund_statistics_FRCOX"
       ]
      },
      {
       "output_type": "stream",
       "stream": "stdout",
       "text": [
        "\n",
        "fund_statistics_FTCIX"
       ]
      },
      {
       "output_type": "stream",
       "stream": "stdout",
       "text": [
        "\n",
        "fund_statistics_FISCX"
       ]
      },
      {
       "output_type": "stream",
       "stream": "stdout",
       "text": [
        "\n",
        "fund_statistics_FTCOX"
       ]
      },
      {
       "output_type": "stream",
       "stream": "stdout",
       "text": [
        "\n",
        "fund_statistics_FXCTX"
       ]
      },
      {
       "output_type": "stream",
       "stream": "stdout",
       "text": [
        "\n",
        "fund_statistics_FPRTX"
       ]
      },
      {
       "output_type": "stream",
       "stream": "stdout",
       "text": [
        "\n",
        "fund_statistics_FKDNX"
       ]
      },
      {
       "output_type": "stream",
       "stream": "stdout",
       "text": [
        "\n",
        "fund_statistics_FEMDX"
       ]
      },
      {
       "output_type": "stream",
       "stream": "stdout",
       "text": [
        "\n",
        "fund_statistics_FISEX"
       ]
      },
      {
       "output_type": "stream",
       "stream": "stdout",
       "text": [
        "\n",
        "fund_statistics_FKITX"
       ]
      },
      {
       "output_type": "stream",
       "stream": "stdout",
       "text": [
        "\n",
        "fund_statistics_FFTFX"
       ]
      },
      {
       "output_type": "stream",
       "stream": "stdout",
       "text": [
        "\n",
        "fund_statistics_FKTIX"
       ]
      },
      {
       "output_type": "stream",
       "stream": "stdout",
       "text": [
        "\n",
        "fund_statistics_FRFLX"
       ]
      },
      {
       "output_type": "stream",
       "stream": "stdout",
       "text": [
        "\n",
        "fund_statistics_FKCGX"
       ]
      },
      {
       "output_type": "stream",
       "stream": "stdout",
       "text": [
        "\n",
        "fund_statistics_FAFRX"
       ]
      },
      {
       "output_type": "stream",
       "stream": "stdout",
       "text": [
        "\n",
        "fund_statistics_FCEQX"
       ]
      },
      {
       "output_type": "stream",
       "stream": "stdout",
       "text": [
        "\n",
        "fund_statistics_FFALX"
       ]
      },
      {
       "output_type": "stream",
       "stream": "stdout",
       "text": [
        "\n",
        "fund_statistics_FTGAX"
       ]
      },
      {
       "output_type": "stream",
       "stream": "stdout",
       "text": [
        "\n",
        "fund_statistics_FGAAX"
       ]
      },
      {
       "output_type": "stream",
       "stream": "stdout",
       "text": [
        "\n",
        "fund_statistics_FGGAX"
       ]
      },
      {
       "output_type": "stream",
       "stream": "stdout",
       "text": [
        "\n",
        "fund_statistics_FLGIX"
       ]
      },
      {
       "output_type": "stream",
       "stream": "stdout",
       "text": [
        "\n",
        "fund_statistics_FGRRX"
       ]
      },
      {
       "output_type": "stream",
       "stream": "stdout",
       "text": [
        "\n",
        "fund_statistics_FKRCX"
       ]
      },
      {
       "output_type": "stream",
       "stream": "stdout",
       "text": [
        "\n",
        "fund_statistics_FKGRX"
       ]
      },
      {
       "output_type": "stream",
       "stream": "stdout",
       "text": [
        "\n",
        "fund_statistics_FGTIX"
       ]
      },
      {
       "output_type": "stream",
       "stream": "stdout",
       "text": [
        "\n",
        "fund_statistics_FGRAX"
       ]
      },
      {
       "output_type": "stream",
       "stream": "stdout",
       "text": [
        "\n",
        "fund_statistics_FHAIX"
       ]
      },
      {
       "output_type": "stream",
       "stream": "stdout",
       "text": [
        "\n",
        "fund_statistics_FRHIX"
       ]
      },
      {
       "output_type": "stream",
       "stream": "stdout",
       "text": [
        "\n",
        "fund_statistics_FKINX"
       ]
      },
      {
       "output_type": "stream",
       "stream": "stdout",
       "text": [
        "\n",
        "fund_statistics_FINGX"
       ]
      },
      {
       "output_type": "stream",
       "stream": "stdout",
       "text": [
        "\n",
        "fund_statistics_FTFIX"
       ]
      },
      {
       "output_type": "stream",
       "stream": "stdout",
       "text": [
        "\n",
        "fund_statistics_FNGAX"
       ]
      },
      {
       "output_type": "stream",
       "stream": "stdout",
       "text": [
        "\n",
        "fund_statistics_FKSCX"
       ]
      },
      {
       "output_type": "stream",
       "stream": "stdout",
       "text": [
        "\n",
        "fund_statistics_FAAAX"
       ]
      },
      {
       "output_type": "stream",
       "stream": "stdout",
       "text": [
        "\n",
        "fund_statistics_FRKYX"
       ]
      },
      {
       "output_type": "stream",
       "stream": "stdout",
       "text": [
        "\n",
        "fund_statistics_FKLAX"
       ]
      },
      {
       "output_type": "stream",
       "stream": "stdout",
       "text": [
        "\n",
        "fund_statistics_FLCIX"
       ]
      },
      {
       "output_type": "stream",
       "stream": "stdout",
       "text": [
        "\n",
        "fund_statistics_FLVAX"
       ]
      },
      {
       "output_type": "stream",
       "stream": "stdout",
       "text": [
        "\n",
        "fund_statistics_FTRAX"
       ]
      },
      {
       "output_type": "stream",
       "stream": "stdout",
       "text": [
        "\n",
        "fund_statistics_FTRTX"
       ]
      },
      {
       "output_type": "stream",
       "stream": "stdout",
       "text": [
        "\n",
        "fund_statistics_FRTAX"
       ]
      },
      {
       "output_type": "stream",
       "stream": "stdout",
       "text": [
        "\n",
        "fund_statistics_FTTAX"
       ]
      },
      {
       "output_type": "stream",
       "stream": "stdout",
       "text": [
        "\n",
        "fund_statistics_FLDAX"
       ]
      },
      {
       "output_type": "stream",
       "stream": "stdout",
       "text": [
        "\n",
        "fund_statistics_FMISX"
       ]
      },
      {
       "output_type": "stream",
       "stream": "stdout",
       "text": [
        "\n",
        "fund_statistics_FMDTX"
       ]
      },
      {
       "output_type": "stream",
       "stream": "stdout",
       "text": [
        "\n",
        "fund_statistics_FTTMX"
       ]
      },
      {
       "output_type": "stream",
       "stream": "stdout",
       "text": [
        "\n",
        "fund_statistics_FRMCX"
       ]
      },
      {
       "output_type": "stream",
       "stream": "stdout",
       "text": [
        "\n",
        "fund_statistics_FMVAX"
       ]
      },
      {
       "output_type": "stream",
       "stream": "stdout",
       "text": [
        "\n",
        "fund_statistics_FMINX"
       ]
      },
      {
       "output_type": "stream",
       "stream": "stdout",
       "text": [
        "\n",
        "fund_statistics_FRMOX"
       ]
      },
      {
       "output_type": "stream",
       "stream": "stdout",
       "text": [
        "\n",
        "fund_statistics_FMTIX"
       ]
      },
      {
       "output_type": "stream",
       "stream": "stdout",
       "text": [
        "\n",
        "fund_statistics_FTMAX"
       ]
      },
      {
       "output_type": "stream",
       "stream": "stdout",
       "text": [
        "\n",
        "fund_statistics_BEGRX"
       ]
      },
      {
       "output_type": "stream",
       "stream": "stdout",
       "text": [
        "\n",
        "fund_statistics_MEURX"
       ]
      },
      {
       "output_type": "stream",
       "stream": "stdout",
       "text": [
        "\n",
        "fund_statistics_TFSIX"
       ]
      },
      {
       "output_type": "stream",
       "stream": "stdout",
       "text": [
        "\n",
        "fund_statistics_MDISX"
       ]
      },
      {
       "output_type": "stream",
       "stream": "stdout",
       "text": [
        "\n",
        "fund_statistics_FMIAX"
       ]
      },
      {
       "output_type": "stream",
       "stream": "stdout",
       "text": [
        "\n",
        "fund_statistics_MQIFX"
       ]
      },
      {
       "output_type": "stream",
       "stream": "stdout",
       "text": [
        "\n",
        "fund_statistics_MUTHX"
       ]
      },
      {
       "output_type": "stream",
       "stream": "stdout",
       "text": [
        "\n",
        "fund_statistics_FRNRX"
       ]
      },
      {
       "output_type": "stream",
       "stream": "stdout",
       "text": [
        "\n",
        "fund_statistics_FXNCX"
       ]
      },
      {
       "output_type": "stream",
       "stream": "stdout",
       "text": [
        "\n",
        "fund_statistics_FRNJX"
       ]
      },
      {
       "output_type": "stream",
       "stream": "stdout",
       "text": [
        "\n",
        "fund_statistics_FKNIX"
       ]
      },
      {
       "output_type": "stream",
       "stream": "stdout",
       "text": [
        "\n",
        "fund_statistics_FNYTX"
       ]
      },
      {
       "output_type": "stream",
       "stream": "stdout",
       "text": [
        "\n",
        "fund_statistics_FTOIX"
       ]
      },
      {
       "output_type": "stream",
       "stream": "stdout",
       "text": [
        "\n",
        "fund_statistics_FRORX"
       ]
      },
      {
       "output_type": "stream",
       "stream": "stdout",
       "text": [
        "\n",
        "fund_statistics_FRPAX"
       ]
      },
      {
       "output_type": "stream",
       "stream": "stdout",
       "text": [
        "\n",
        "fund_statistics_FREEX"
       ]
      },
      {
       "output_type": "stream",
       "stream": "stdout",
       "text": [
        "\n",
        "fund_statistics_FRRAX"
       ]
      },
      {
       "output_type": "stream",
       "stream": "stdout",
       "text": [
        "\n",
        "fund_statistics_FRDPX"
       ]
      },
      {
       "output_type": "stream",
       "stream": "stdout",
       "text": [
        "\n",
        "fund_statistics_FSGRX"
       ]
      },
      {
       "output_type": "stream",
       "stream": "stdout",
       "text": [
        "\n",
        "fund_statistics_FRVLX"
       ]
      },
      {
       "output_type": "stream",
       "stream": "stdout",
       "text": [
        "\n",
        "fund_statistics_FRSGX"
       ]
      },
      {
       "output_type": "stream",
       "stream": "stdout",
       "text": [
        "\n",
        "fund_statistics_FRSTX"
       ]
      },
      {
       "output_type": "stream",
       "stream": "stdout",
       "text": [
        "\n",
        "fund_statistics_FSMIX"
       ]
      },
      {
       "output_type": "stream",
       "stream": "stdout",
       "text": [
        "\n",
        "fund_statistics_FRTIX"
       ]
      },
      {
       "output_type": "stream",
       "stream": "stdout",
       "text": [
        "\n",
        "fund_statistics_FKBAX"
       ]
      },
      {
       "output_type": "stream",
       "stream": "stdout",
       "text": [
        "\n",
        "fund_statistics_FKUSX"
       ]
      },
      {
       "output_type": "stream",
       "stream": "stdout",
       "text": [
        "\n",
        "fund_statistics_FKUTX"
       ]
      },
      {
       "output_type": "stream",
       "stream": "stdout",
       "text": [
        "\n",
        "fund_statistics_FRVAX"
       ]
      },
      {
       "output_type": "stream",
       "stream": "stdout",
       "text": [
        "\n",
        "fund_statistics_FWPAX"
       ]
      },
      {
       "output_type": "stream",
       "stream": "stdout",
       "text": [
        "\n",
        "fund_statistics_TABRX"
       ]
      },
      {
       "output_type": "stream",
       "stream": "stdout",
       "text": [
        "\n",
        "fund_statistics_TCWAX"
       ]
      },
      {
       "output_type": "stream",
       "stream": "stdout",
       "text": [
        "\n",
        "fund_statistics_TEDMX"
       ]
      },
      {
       "output_type": "stream",
       "stream": "stdout",
       "text": [
        "\n",
        "fund_statistics_TAEMX"
       ]
      },
      {
       "output_type": "stream",
       "stream": "stdout",
       "text": [
        "\n",
        "fund_statistics_FEMGX"
       ]
      },
      {
       "output_type": "stream",
       "stream": "stdout",
       "text": [
        "\n",
        "fund_statistics_TEMMX"
       ]
      },
      {
       "output_type": "stream",
       "stream": "stdout",
       "text": [
        "\n",
        "fund_statistics_TEMFX"
       ]
      },
      {
       "output_type": "stream",
       "stream": "stdout",
       "text": [
        "\n",
        "fund_statistics_FINEX"
       ]
      },
      {
       "output_type": "stream",
       "stream": "stdout",
       "text": [
        "\n",
        "fund_statistics_TFMAX"
       ]
      },
      {
       "output_type": "stream",
       "stream": "stdout",
       "text": [
        "\n",
        "fund_statistics_TINCX"
       ]
      },
      {
       "output_type": "stream",
       "stream": "stdout",
       "text": [
        "\n",
        "fund_statistics_TPINX"
       ]
      },
      {
       "output_type": "stream",
       "stream": "stdout",
       "text": [
        "\n",
        "fund_statistics_TEGOX"
       ]
      },
      {
       "output_type": "stream",
       "stream": "stdout",
       "text": [
        "\n",
        "fund_statistics_TEMGX"
       ]
      },
      {
       "output_type": "stream",
       "stream": "stdout",
       "text": [
        "\n",
        "fund_statistics_TGTRX"
       ]
      },
      {
       "output_type": "stream",
       "stream": "stdout",
       "text": [
        "\n",
        "fund_statistics_TEPLX"
       ]
      },
      {
       "output_type": "stream",
       "stream": "stdout",
       "text": [
        "\n",
        "fund_statistics_ICPHX"
       ]
      },
      {
       "output_type": "stream",
       "stream": "stdout",
       "text": [
        "\n",
        "fund_statistics_TFSCX"
       ]
      },
      {
       "output_type": "stream",
       "stream": "stdout",
       "text": [
        "\n",
        "fund_statistics_TGESX"
       ]
      },
      {
       "output_type": "stream",
       "stream": "stdout",
       "text": [
        "\n",
        "fund_statistics_TEEMX"
       ]
      },
      {
       "output_type": "stream",
       "stream": "stdout",
       "text": [
        "\n",
        "fund_statistics_TFEQX"
       ]
      },
      {
       "output_type": "stream",
       "stream": "stdout",
       "text": [
        "\n",
        "fund_statistics_TBOAX"
       ]
      },
      {
       "output_type": "stream",
       "stream": "stdout",
       "text": [
        "\n",
        "fund_statistics_TEMWX"
       ]
      },
      {
       "output_type": "stream",
       "stream": "stdout",
       "text": [
        "\n",
        "fund_statistics_BDOIX"
       ]
      },
      {
       "output_type": "stream",
       "stream": "stdout",
       "text": [
        "\n",
        "fund_statistics_BAAPX"
       ]
      },
      {
       "output_type": "stream",
       "stream": "stdout",
       "text": [
        "\n",
        "fund_statistics_BACAX"
       ]
      },
      {
       "output_type": "stream",
       "stream": "stdout",
       "text": [
        "\n",
        "fund_statistics_BRACX"
       ]
      },
      {
       "output_type": "stream",
       "stream": "stdout",
       "text": [
        "\n",
        "fund_statistics_BRAMX"
       ]
      },
      {
       "output_type": "stream",
       "stream": "stdout",
       "text": [
        "\n",
        "fund_statistics_BATPX"
       ]
      },
      {
       "output_type": "stream",
       "stream": "stdout",
       "text": [
        "\n",
        "fund_statistics_BRASX"
       ]
      },
      {
       "output_type": "stream",
       "stream": "stdout",
       "text": [
        "\n",
        "fund_statistics_MACPX"
       ]
      },
      {
       "output_type": "stream",
       "stream": "stdout",
       "text": [
        "\n",
        "fund_statistics_MABAX"
       ]
      },
      {
       "output_type": "stream",
       "stream": "stdout",
       "text": [
        "\n",
        "fund_statistics_WFBIX"
       ]
      },
      {
       "output_type": "stream",
       "stream": "stdout",
       "text": [
        "\n",
        "fund_statistics_MBCMX"
       ]
      },
      {
       "output_type": "stream",
       "stream": "stdout",
       "text": [
        "\n",
        "fund_statistics_MDFGX"
       ]
      },
      {
       "output_type": "stream",
       "stream": "stdout",
       "text": [
        "\n",
        "fund_statistics_BCSAX"
       ]
      },
      {
       "output_type": "stream",
       "stream": "stdout",
       "text": [
        "\n",
        "fund_statistics_BACPX"
       ]
      },
      {
       "output_type": "stream",
       "stream": "stdout",
       "text": [
        "\n",
        "fund_statistics_BFMCX"
       ]
      },
      {
       "output_type": "stream",
       "stream": "stdout",
       "text": [
        "\n",
        "fund_statistics_BCRIX"
       ]
      },
      {
       "output_type": "stream",
       "stream": "stdout",
       "text": [
        "\n",
        "fund_statistics_BDSAX"
       ]
      },
      {
       "output_type": "stream",
       "stream": "stdout",
       "text": [
        "\n",
        "fund_statistics_BAEDX"
       ]
      },
      {
       "output_type": "stream",
       "stream": "stdout",
       "text": [
        "\n",
        "fund_statistics_BEEAX"
       ]
      },
      {
       "output_type": "stream",
       "stream": "stdout",
       "text": [
        "\n",
        "fund_statistics_BACHX"
       ]
      },
      {
       "output_type": "stream",
       "stream": "stdout",
       "text": [
        "\n",
        "fund_statistics_BLSAX"
       ]
      },
      {
       "output_type": "stream",
       "stream": "stdout",
       "text": [
        "\n",
        "fund_statistics_MADCX"
       ]
      },
      {
       "output_type": "stream",
       "stream": "stdout",
       "text": [
        "\n",
        "fund_statistics_SSGRX"
       ]
      },
      {
       "output_type": "stream",
       "stream": "stdout",
       "text": [
        "\n",
        "fund_statistics_MBDVX"
       ]
      },
      {
       "output_type": "stream",
       "stream": "stdout",
       "text": [
        "\n",
        "fund_statistics_MAEFX"
       ]
      },
      {
       "output_type": "stream",
       "stream": "stdout",
       "text": [
        "\n",
        "fund_statistics_STSEX"
       ]
      },
      {
       "output_type": "stream",
       "stream": "stdout",
       "text": [
        "\n",
        "fund_statistics_BMCAX"
       ]
      },
      {
       "output_type": "stream",
       "stream": "stdout",
       "text": [
        "\n",
        "fund_statistics_BFRAX"
       ]
      },
      {
       "output_type": "stream",
       "stream": "stdout",
       "text": [
        "\n",
        "fund_statistics_MDFOX"
       ]
      },
      {
       "output_type": "stream",
       "stream": "stdout",
       "text": [
        "\n",
        "fund_statistics_MBLOX"
       ]
      },
      {
       "output_type": "stream",
       "stream": "stdout",
       "text": [
        "\n",
        "fund_statistics_BABDX"
       ]
      },
      {
       "output_type": "stream",
       "stream": "stdout",
       "text": [
        "\n",
        "fund_statistics_BGCAX"
       ]
      },
      {
       "output_type": "stream",
       "stream": "stdout",
       "text": [
        "\n",
        "fund_statistics_BDMAX"
       ]
      },
      {
       "output_type": "stream",
       "stream": "stdout",
       "text": [
        "\n",
        "fund_statistics_BROAX"
       ]
      },
      {
       "output_type": "stream",
       "stream": "stdout",
       "text": [
        "\n",
        "fund_statistics_MDGCX"
       ]
      },
      {
       "output_type": "stream",
       "stream": "stdout",
       "text": [
        "\n",
        "fund_statistics_BGPAX"
       ]
      },
      {
       "output_type": "stream",
       "stream": "stdout",
       "text": [
        "\n",
        "fund_statistics_BAGPX"
       ]
      },
      {
       "output_type": "stream",
       "stream": "stdout",
       "text": [
        "\n",
        "fund_statistics_SHSAX"
       ]
      },
      {
       "output_type": "stream",
       "stream": "stdout",
       "text": [
        "\n",
        "fund_statistics_BHYAX"
       ]
      },
      {
       "output_type": "stream",
       "stream": "stdout",
       "text": [
        "\n",
        "fund_statistics_MDYHX"
       ]
      },
      {
       "output_type": "stream",
       "stream": "stdout",
       "text": [
        "\n",
        "fund_statistics_BPRAX"
       ]
      },
      {
       "output_type": "stream",
       "stream": "stdout",
       "text": [
        "\n",
        "fund_statistics_MAIIX"
       ]
      },
      {
       "output_type": "stream",
       "stream": "stdout",
       "text": [
        "\n",
        "fund_statistics_MDILX"
       ]
      },
      {
       "output_type": "stream",
       "stream": "stdout",
       "text": [
        "\n",
        "fund_statistics_BREAX"
       ]
      },
      {
       "output_type": "stream",
       "stream": "stdout",
       "text": [
        "\n",
        "fund_statistics_BLADX"
       ]
      },
      {
       "output_type": "stream",
       "stream": "stdout",
       "text": [
        "\n",
        "fund_statistics_MDLRX"
       ]
      },
      {
       "output_type": "stream",
       "stream": "stdout",
       "text": [
        "\n",
        "fund_statistics_BALPX"
       ]
      },
      {
       "output_type": "stream",
       "stream": "stdout",
       "text": [
        "\n",
        "fund_statistics_MKLRX"
       ]
      },
      {
       "output_type": "stream",
       "stream": "stdout",
       "text": [
        "\n",
        "fund_statistics_MDLHX"
       ]
      },
      {
       "output_type": "stream",
       "stream": "stdout",
       "text": [
        "\n",
        "fund_statistics_MKLHX"
       ]
      },
      {
       "output_type": "stream",
       "stream": "stdout",
       "text": [
        "\n",
        "fund_statistics_MDLVX"
       ]
      },
      {
       "output_type": "stream",
       "stream": "stdout",
       "text": [
        "\n",
        "fund_statistics_MKLVX"
       ]
      },
      {
       "output_type": "stream",
       "stream": "stdout",
       "text": [
        "\n",
        "fund_statistics_MDLTX"
       ]
      },
      {
       "output_type": "stream",
       "stream": "stdout",
       "text": [
        "\n",
        "fund_statistics_STLCX"
       ]
      },
      {
       "output_type": "stream",
       "stream": "stdout",
       "text": [
        "\n",
        "fund_statistics_LPBAX"
       ]
      },
      {
       "output_type": "stream",
       "stream": "stdout",
       "text": [
        "\n",
        "fund_statistics_STLDX"
       ]
      },
      {
       "output_type": "stream",
       "stream": "stdout",
       "text": [
        "\n",
        "fund_statistics_LPJAX"
       ]
      },
      {
       "output_type": "stream",
       "stream": "stdout",
       "text": [
        "\n",
        "fund_statistics_STLEX"
       ]
      },
      {
       "output_type": "stream",
       "stream": "stdout",
       "text": [
        "\n",
        "fund_statistics_LPHAX"
       ]
      },
      {
       "output_type": "stream",
       "stream": "stdout",
       "text": [
        "\n",
        "fund_statistics_LPRFX"
       ]
      },
      {
       "output_type": "stream",
       "stream": "stdout",
       "text": [
        "\n",
        "fund_statistics_LPVAX"
       ]
      },
      {
       "output_type": "stream",
       "stream": "stdout",
       "text": [
        "\n",
        "fund_statistics_BAPBX"
       ]
      },
      {
       "output_type": "stream",
       "stream": "stdout",
       "text": [
        "\n",
        "fund_statistics_BAPCX"
       ]
      },
      {
       "output_type": "stream",
       "stream": "stdout",
       "text": [
        "\n",
        "fund_statistics_BAPDX"
       ]
      },
      {
       "output_type": "stream",
       "stream": "stdout",
       "text": [
        "\n",
        "fund_statistics_BAPEX"
       ]
      },
      {
       "output_type": "stream",
       "stream": "stdout",
       "text": [
        "\n",
        "fund_statistics_BAPGX"
       ]
      },
      {
       "output_type": "stream",
       "stream": "stdout",
       "text": [
        "\n",
        "fund_statistics_BAPHX"
       ]
      },
      {
       "output_type": "stream",
       "stream": "stdout",
       "text": [
        "\n",
        "fund_statistics_BAPJX"
       ]
      },
      {
       "output_type": "stream",
       "stream": "stdout",
       "text": [
        "\n",
        "fund_statistics_BAPKX"
       ]
      },
      {
       "output_type": "stream",
       "stream": "stdout",
       "text": [
        "\n",
        "fund_statistics_BAPLX"
       ]
      },
      {
       "output_type": "stream",
       "stream": "stdout",
       "text": [
        "\n",
        "fund_statistics_LIQIX"
       ]
      },
      {
       "output_type": "stream",
       "stream": "stdout",
       "text": [
        "\n",
        "fund_statistics_LIBIX"
       ]
      },
      {
       "output_type": "stream",
       "stream": "stdout",
       "text": [
        "\n",
        "fund_statistics_LINIX"
       ]
      },
      {
       "output_type": "stream",
       "stream": "stdout",
       "text": [
        "\n",
        "fund_statistics_LIJIX"
       ]
      },
      {
       "output_type": "stream",
       "stream": "stdout",
       "text": [
        "\n",
        "fund_statistics_LIKIX"
       ]
      },
      {
       "output_type": "stream",
       "stream": "stdout",
       "text": [
        "\n",
        "fund_statistics_LIHIX"
       ]
      },
      {
       "output_type": "stream",
       "stream": "stdout",
       "text": [
        "\n",
        "fund_statistics_LIPIX"
       ]
      },
      {
       "output_type": "stream",
       "stream": "stdout",
       "text": [
        "\n",
        "fund_statistics_LIVIX"
       ]
      },
      {
       "output_type": "stream",
       "stream": "stdout",
       "text": [
        "\n",
        "fund_statistics_LIRIX"
       ]
      },
      {
       "output_type": "stream",
       "stream": "stdout",
       "text": [
        "\n",
        "fund_statistics_STLAX"
       ]
      },
      {
       "output_type": "stream",
       "stream": "stdout",
       "text": [
        "\n",
        "fund_statistics_MDEGX"
       ]
      },
      {
       "output_type": "stream",
       "stream": "stdout",
       "text": [
        "\n",
        "fund_statistics_BFMSX"
       ]
      },
      {
       "output_type": "stream",
       "stream": "stdout",
       "text": [
        "\n",
        "fund_statistics_PCBAX"
       ]
      },
      {
       "output_type": "stream",
       "stream": "stdout",
       "text": [
        "\n",
        "fund_statistics_MDRFX"
       ]
      },
      {
       "output_type": "stream",
       "stream": "stdout",
       "text": [
        "\n",
        "fund_statistics_BMGAX"
       ]
      },
      {
       "output_type": "stream",
       "stream": "stdout",
       "text": [
        "\n",
        "fund_statistics_BAMPX"
       ]
      },
      {
       "output_type": "stream",
       "stream": "stdout",
       "text": [
        "\n",
        "fund_statistics_BAICX"
       ]
      },
      {
       "output_type": "stream",
       "stream": "stdout",
       "text": [
        "\n",
        "fund_statistics_BRRAX"
       ]
      },
      {
       "output_type": "stream",
       "stream": "stdout",
       "text": [
        "\n",
        "fund_statistics_MANLX"
       ]
      },
      {
       "output_type": "stream",
       "stream": "stdout",
       "text": [
        "\n",
        "fund_statistics_MBGRX"
       ]
      },
      {
       "output_type": "stream",
       "stream": "stdout",
       "text": [
        "\n",
        "fund_statistics_MANJX"
       ]
      },
      {
       "output_type": "stream",
       "stream": "stdout",
       "text": [
        "\n",
        "fund_statistics_MANKX"
       ]
      },
      {
       "output_type": "stream",
       "stream": "stdout",
       "text": [
        "\n",
        "fund_statistics_MAPYX"
       ]
      },
      {
       "output_type": "stream",
       "stream": "stdout",
       "text": [
        "\n",
        "fund_statistics_MAPCX"
       ]
      },
      {
       "output_type": "stream",
       "stream": "stdout",
       "text": [
        "\n",
        "fund_statistics_BAREX"
       ]
      },
      {
       "output_type": "stream",
       "stream": "stdout",
       "text": [
        "\n",
        "fund_statistics_BRGNX"
       ]
      },
      {
       "output_type": "stream",
       "stream": "stdout",
       "text": [
        "\n",
        "fund_statistics_WFSPX"
       ]
      },
      {
       "output_type": "stream",
       "stream": "stdout",
       "text": [
        "\n",
        "fund_statistics_BGSAX"
       ]
      },
      {
       "output_type": "stream",
       "stream": "stdout",
       "text": [
        "\n",
        "fund_statistics_BMSAX"
       ]
      },
      {
       "output_type": "stream",
       "stream": "stdout",
       "text": [
        "\n",
        "fund_statistics_BBSOX"
       ]
      },
      {
       "output_type": "stream",
       "stream": "stdout",
       "text": [
        "\n",
        "fund_statistics_MALMX"
       ]
      },
      {
       "output_type": "stream",
       "stream": "stdout",
       "text": [
        "\n",
        "fund_statistics_BDSTX"
       ]
      },
      {
       "output_type": "stream",
       "stream": "stdout",
       "text": [
        "\n",
        "fund_statistics_PSGIX"
       ]
      },
      {
       "output_type": "stream",
       "stream": "stdout",
       "text": [
        "\n",
        "fund_statistics_MDSWX"
       ]
      },
      {
       "output_type": "stream",
       "stream": "stdout",
       "text": [
        "\n",
        "fund_statistics_MASKX"
       ]
      },
      {
       "output_type": "stream",
       "stream": "stdout",
       "text": [
        "\n",
        "fund_statistics_BASIX"
       ]
      },
      {
       "output_type": "stream",
       "stream": "stdout",
       "text": [
        "\n",
        "fund_statistics_MAMTX"
       ]
      },
      {
       "output_type": "stream",
       "stream": "stdout",
       "text": [
        "\n",
        "fund_statistics_BSTAX"
       ]
      },
      {
       "output_type": "stream",
       "stream": "stdout",
       "text": [
        "\n",
        "fund_statistics_MFHQX"
       ]
      },
      {
       "output_type": "stream",
       "stream": "stdout",
       "text": [
        "\n",
        "fund_statistics_BBUSX"
       ]
      },
      {
       "output_type": "stream",
       "stream": "stdout",
       "text": [
        "\n",
        "fund_statistics_PNIGX"
       ]
      },
      {
       "output_type": "stream",
       "stream": "stdout",
       "text": [
        "\n",
        "fund_statistics_MSUMX"
       ]
      },
      {
       "output_type": "stream",
       "stream": "stdout",
       "text": [
        "\n",
        "fund_statistics_BMEAX"
       ]
      },
      {
       "output_type": "stream",
       "stream": "stdout",
       "text": [
        "\n",
        "fund_statistics_MASPX"
       ]
      },
      {
       "output_type": "stream",
       "stream": "stdout",
       "text": [
        "\n",
        "fund_statistics_MAWIX"
       ]
      },
      {
       "output_type": "stream",
       "stream": "stdout",
       "text": [
        "\n",
        "fund_statistics_MGCSX"
       ]
      },
      {
       "output_type": "stream",
       "stream": "stdout",
       "text": [
        "\n",
        "fund_statistics_MMCVX"
       ]
      },
      {
       "output_type": "stream",
       "stream": "stdout",
       "text": [
        "\n",
        "fund_statistics_CPASX"
       ]
      },
      {
       "output_type": "stream",
       "stream": "stdout",
       "text": [
        "\n",
        "fund_statistics_CMCPX"
       ]
      },
      {
       "output_type": "stream",
       "stream": "stdout",
       "text": [
        "\n",
        "fund_statistics_CSCEX"
       ]
      },
      {
       "output_type": "stream",
       "stream": "stdout",
       "text": [
        "\n",
        "fund_statistics_CSLGX"
       ]
      },
      {
       "output_type": "stream",
       "stream": "stdout",
       "text": [
        "\n",
        "fund_statistics_CDEIX"
       ]
      },
      {
       "output_type": "stream",
       "stream": "stdout",
       "text": [
        "\n",
        "fund_statistics_CMGUX"
       ]
      },
      {
       "output_type": "stream",
       "stream": "stdout",
       "text": [
        "\n",
        "fund_statistics_RARAX"
       ]
      },
      {
       "output_type": "stream",
       "stream": "stdout",
       "text": [
        "\n",
        "fund_statistics_CMMAX"
       ]
      },
      {
       "output_type": "stream",
       "stream": "stdout",
       "text": [
        "\n",
        "fund_statistics_CEMAX"
       ]
      },
      {
       "output_type": "stream",
       "stream": "stdout",
       "text": [
        "\n",
        "fund_statistics_CMSAX"
       ]
      },
      {
       "output_type": "stream",
       "stream": "stdout",
       "text": [
        "\n",
        "fund_statistics_CAGAX"
       ]
      },
      {
       "output_type": "stream",
       "stream": "stdout",
       "text": [
        "\n",
        "fund_statistics_CAEAX"
       ]
      },
      {
       "output_type": "stream",
       "stream": "stdout",
       "text": [
        "\n",
        "fund_statistics_ACFFX"
       ]
      },
      {
       "output_type": "stream",
       "stream": "stdout",
       "text": [
        "\n",
        "fund_statistics_ACINX"
       ]
      },
      {
       "output_type": "stream",
       "stream": "stdout",
       "text": [
        "\n",
        "fund_statistics_ACTWX"
       ]
      },
      {
       "output_type": "stream",
       "stream": "stdout",
       "text": [
        "\n",
        "fund_statistics_AUSAX"
       ]
      },
      {
       "output_type": "stream",
       "stream": "stdout",
       "text": [
        "\n",
        "fund_statistics_ACRNX"
       ]
      },
      {
       "output_type": "stream",
       "stream": "stdout",
       "text": [
        "\n",
        "fund_statistics_NCMAX"
       ]
      },
      {
       "output_type": "stream",
       "stream": "stdout",
       "text": [
        "\n",
        "fund_statistics_SCTEX"
       ]
      },
      {
       "output_type": "stream",
       "stream": "stdout",
       "text": [
        "\n",
        "fund_statistics_NGAMX"
       ]
      },
      {
       "output_type": "stream",
       "stream": "stdout",
       "text": [
        "\n",
        "fund_statistics_SETMX"
       ]
      },
      {
       "output_type": "stream",
       "stream": "stdout",
       "text": [
        "\n",
        "fund_statistics_SEMAX"
       ]
      },
      {
       "output_type": "stream",
       "stream": "stdout",
       "text": [
        "\n",
        "fund_statistics_NMDMX"
       ]
      },
      {
       "output_type": "stream",
       "stream": "stdout",
       "text": [
        "\n",
        "fund_statistics_NNIBX"
       ]
      },
      {
       "output_type": "stream",
       "stream": "stdout",
       "text": [
        "\n",
        "fund_statistics_GANYX"
       ]
      },
      {
       "output_type": "stream",
       "stream": "stdout",
       "text": [
        "\n",
        "fund_statistics_CMBFX"
       ]
      },
      {
       "output_type": "stream",
       "stream": "stdout",
       "text": [
        "\n",
        "fund_statistics_NSCMX"
       ]
      },
      {
       "output_type": "stream",
       "stream": "stdout",
       "text": [
        "\n",
        "fund_statistics_INTAX"
       ]
      },
      {
       "output_type": "stream",
       "stream": "stdout",
       "text": [
        "\n",
        "fund_statistics_NVABX"
       ]
      },
      {
       "output_type": "stream",
       "stream": "stdout",
       "text": [
        "\n",
        "fund_statistics_TAPRX"
       ]
      },
      {
       "output_type": "stream",
       "stream": "stdout",
       "text": [
        "\n",
        "fund_statistics_CBALX"
       ]
      },
      {
       "output_type": "stream",
       "stream": "stdout",
       "text": [
        "\n",
        "fund_statistics_UMMGX"
       ]
      },
      {
       "output_type": "stream",
       "stream": "stdout",
       "text": [
        "\n",
        "fund_statistics_CLMPX"
       ]
      },
      {
       "output_type": "stream",
       "stream": "stdout",
       "text": [
        "\n",
        "fund_statistics_AXBAX"
       ]
      },
      {
       "output_type": "stream",
       "stream": "stdout",
       "text": [
        "\n",
        "fund_statistics_ABDAX"
       ]
      },
      {
       "output_type": "stream",
       "stream": "stdout",
       "text": [
        "\n",
        "fund_statistics_NBIAX"
       ]
      },
      {
       "output_type": "stream",
       "stream": "stdout",
       "text": [
        "\n",
        "fund_statistics_NLGAX"
       ]
      },
      {
       "output_type": "stream",
       "stream": "stdout",
       "text": [
        "\n",
        "fund_statistics_ABUAX"
       ]
      },
      {
       "output_type": "stream",
       "stream": "stdout",
       "text": [
        "\n",
        "fund_statistics_CCIYX"
       ]
      },
      {
       "output_type": "stream",
       "stream": "stdout",
       "text": [
        "\n",
        "fund_statistics_SMGIX"
       ]
      },
      {
       "output_type": "stream",
       "stream": "stdout",
       "text": [
        "\n",
        "fund_statistics_PACIX"
       ]
      },
      {
       "output_type": "stream",
       "stream": "stdout",
       "text": [
        "\n",
        "fund_statistics_SRINX"
       ]
      },
      {
       "output_type": "stream",
       "stream": "stdout",
       "text": [
        "\n",
        "fund_statistics_INDZX"
       ]
      },
      {
       "output_type": "stream",
       "stream": "stdout",
       "text": [
        "\n",
        "fund_statistics_CDRAX"
       ]
      },
      {
       "output_type": "stream",
       "stream": "stdout",
       "text": [
        "\n",
        "fund_statistics_GEQAX"
       ]
      },
      {
       "output_type": "stream",
       "stream": "stdout",
       "text": [
        "\n",
        "fund_statistics_INUTX"
       ]
      },
      {
       "output_type": "stream",
       "stream": "stdout",
       "text": [
        "\n",
        "fund_statistics_REBAX"
       ]
      },
      {
       "output_type": "stream",
       "stream": "stdout",
       "text": [
        "\n",
        "fund_statistics_UMEMX"
       ]
      },
      {
       "output_type": "stream",
       "stream": "stdout",
       "text": [
        "\n",
        "fund_statistics_INEGX"
       ]
      },
      {
       "output_type": "stream",
       "stream": "stdout",
       "text": [
        "\n",
        "fund_statistics_AXEAX"
       ]
      },
      {
       "output_type": "stream",
       "stream": "stdout",
       "text": [
        "\n",
        "fund_statistics_CFIAX"
       ]
      },
      {
       "output_type": "stream",
       "stream": "stdout",
       "text": [
        "\n",
        "fund_statistics_RFRAX"
       ]
      },
      {
       "output_type": "stream",
       "stream": "stdout",
       "text": [
        "\n",
        "fund_statistics_IGBFX"
       ]
      },
      {
       "output_type": "stream",
       "stream": "stdout",
       "text": [
        "\n",
        "fund_statistics_CSVFX"
       ]
      },
      {
       "output_type": "stream",
       "stream": "stdout",
       "text": [
        "\n",
        "fund_statistics_UMESX"
       ]
      },
      {
       "output_type": "stream",
       "stream": "stdout",
       "text": [
        "\n",
        "fund_statistics_IGLGX"
       ]
      },
      {
       "output_type": "stream",
       "stream": "stdout",
       "text": [
        "\n",
        "fund_statistics_RRIAX"
       ]
      },
      {
       "output_type": "stream",
       "stream": "stdout",
       "text": [
        "\n",
        "fund_statistics_IMRFX"
       ]
      },
      {
       "output_type": "stream",
       "stream": "stdout",
       "text": [
        "\n",
        "fund_statistics_CMTFX"
       ]
      },
      {
       "output_type": "stream",
       "stream": "stdout",
       "text": [
        "\n",
        "fund_statistics_NGCAX"
       ]
      },
      {
       "output_type": "stream",
       "stream": "stdout",
       "text": [
        "\n",
        "fund_statistics_INEAX"
       ]
      },
      {
       "output_type": "stream",
       "stream": "stdout",
       "text": [
        "\n",
        "fund_statistics_SRHMX"
       ]
      },
      {
       "output_type": "stream",
       "stream": "stdout",
       "text": [
        "\n",
        "fund_statistics_RBBAX"
       ]
      },
      {
       "output_type": "stream",
       "stream": "stdout",
       "text": [
        "\n",
        "fund_statistics_AIOAX"
       ]
      },
      {
       "output_type": "stream",
       "stream": "stdout",
       "text": [
        "\n",
        "fund_statistics_APSAX"
       ]
      },
      {
       "output_type": "stream",
       "stream": "stdout",
       "text": [
        "\n",
        "fund_statistics_SRBFX"
       ]
      },
      {
       "output_type": "stream",
       "stream": "stdout",
       "text": [
        "\n",
        "fund_statistics_CNBAX"
       ]
      },
      {
       "output_type": "stream",
       "stream": "stdout",
       "text": [
        "\n",
        "fund_statistics_NIVLX"
       ]
      },
      {
       "output_type": "stream",
       "stream": "stdout",
       "text": [
        "\n",
        "fund_statistics_NMIAX"
       ]
      },
      {
       "output_type": "stream",
       "stream": "stdout",
       "text": [
        "\n",
        "fund_statistics_GAEGX"
       ]
      },
      {
       "output_type": "stream",
       "stream": "stdout",
       "text": [
        "\n",
        "fund_statistics_NINDX"
       ]
      },
      {
       "output_type": "stream",
       "stream": "stdout",
       "text": [
        "\n",
        "fund_statistics_AQEAX"
       ]
      },
      {
       "output_type": "stream",
       "stream": "stdout",
       "text": [
        "\n",
        "fund_statistics_RDLAX"
       ]
      },
      {
       "output_type": "stream",
       "stream": "stdout",
       "text": [
        "\n",
        "fund_statistics_RLCAX"
       ]
      },
      {
       "output_type": "stream",
       "stream": "stdout",
       "text": [
        "\n",
        "fund_statistics_NLGIX"
       ]
      },
      {
       "output_type": "stream",
       "stream": "stdout",
       "text": [
        "\n",
        "fund_statistics_ALDAX"
       ]
      },
      {
       "output_type": "stream",
       "stream": "stdout",
       "text": [
        "\n",
        "fund_statistics_NMTAX"
       ]
      },
      {
       "output_type": "stream",
       "stream": "stdout",
       "text": [
        "\n",
        "fund_statistics_CCMAX"
       ]
      },
      {
       "output_type": "stream",
       "stream": "stdout",
       "text": [
        "\n",
        "fund_statistics_NFEAX"
       ]
      },
      {
       "output_type": "stream",
       "stream": "stdout",
       "text": [
        "\n",
        "fund_statistics_COGAX"
       ]
      },
      {
       "output_type": "stream",
       "stream": "stdout",
       "text": [
        "\n",
        "fund_statistics_NMGIX"
       ]
      },
      {
       "output_type": "stream",
       "stream": "stdout",
       "text": [
        "\n",
        "fund_statistics_MAIOX"
       ]
      },
      {
       "output_type": "stream",
       "stream": "stdout",
       "text": [
        "\n",
        "fund_statistics_CMTAX"
       ]
      },
      {
       "output_type": "stream",
       "stream": "stdout",
       "text": [
        "\n",
        "fund_statistics_CLSPX"
       ]
      },
      {
       "output_type": "stream",
       "stream": "stdout",
       "text": [
        "\n",
        "fund_statistics_NMPAX"
       ]
      },
      {
       "output_type": "stream",
       "stream": "stdout",
       "text": [
        "\n",
        "fund_statistics_CMUAX"
       ]
      },
      {
       "output_type": "stream",
       "stream": "stdout",
       "text": [
        "\n",
        "fund_statistics_IMNTX"
       ]
      },
      {
       "output_type": "stream",
       "stream": "stdout",
       "text": [
        "\n",
        "fund_statistics_NIEQX"
       ]
      },
      {
       "output_type": "stream",
       "stream": "stdout",
       "text": [
        "\n",
        "fund_statistics_ASVAX"
       ]
      },
      {
       "output_type": "stream",
       "stream": "stdout",
       "text": [
        "\n",
        "fund_statistics_COLNX"
       ]
      },
      {
       "output_type": "stream",
       "stream": "stdout",
       "text": [
        "\n",
        "fund_statistics_COSZX"
       ]
      },
      {
       "output_type": "stream",
       "stream": "stdout",
       "text": [
        "\n",
        "fund_statistics_USPAX"
       ]
      },
      {
       "output_type": "stream",
       "stream": "stdout",
       "text": [
        "\n",
        "fund_statistics_CREEX"
       ]
      },
      {
       "output_type": "stream",
       "stream": "stdout",
       "text": [
        "\n",
        "fund_statistics_CRAAX"
       ]
      },
      {
       "output_type": "stream",
       "stream": "stdout",
       "text": [
        "\n",
        "fund_statistics_NSEPX"
       ]
      },
      {
       "output_type": "stream",
       "stream": "stdout",
       "text": [
        "\n",
        "fund_statistics_UMLGX"
       ]
      },
      {
       "output_type": "stream",
       "stream": "stdout",
       "text": [
        "\n",
        "fund_statistics_SLVAX"
       ]
      },
      {
       "output_type": "stream",
       "stream": "stdout",
       "text": [
        "\n",
        "fund_statistics_SSCVX"
       ]
      },
      {
       "output_type": "stream",
       "stream": "stdout",
       "text": [
        "\n",
        "fund_statistics_SLMCX"
       ]
      },
      {
       "output_type": "stream",
       "stream": "stdout",
       "text": [
        "\n",
        "fund_statistics_SHGTX"
       ]
      },
      {
       "output_type": "stream",
       "stream": "stdout",
       "text": [
        "\n",
        "fund_statistics_NSTMX"
       ]
      },
      {
       "output_type": "stream",
       "stream": "stdout",
       "text": [
        "\n",
        "fund_statistics_NSMIX"
       ]
      },
      {
       "output_type": "stream",
       "stream": "stdout",
       "text": [
        "\n",
        "fund_statistics_SMCEX"
       ]
      },
      {
       "output_type": "stream",
       "stream": "stdout",
       "text": [
        "\n",
        "fund_statistics_CMSCX"
       ]
      },
      {
       "output_type": "stream",
       "stream": "stdout",
       "text": [
        "\n",
        "fund_statistics_NMSAX"
       ]
      },
      {
       "output_type": "stream",
       "stream": "stdout",
       "text": [
        "\n",
        "fund_statistics_CSMIX"
       ]
      },
      {
       "output_type": "stream",
       "stream": "stdout",
       "text": [
        "\n",
        "fund_statistics_COVAX"
       ]
      },
      {
       "output_type": "stream",
       "stream": "stdout",
       "text": [
        "\n",
        "fund_statistics_AMVAX"
       ]
      },
      {
       "output_type": "stream",
       "stream": "stdout",
       "text": [
        "\n",
        "fund_statistics_COSIX"
       ]
      },
      {
       "output_type": "stream",
       "stream": "stdout",
       "text": [
        "\n",
        "fund_statistics_COLTX"
       ]
      },
      {
       "output_type": "stream",
       "stream": "stdout",
       "text": [
        "\n",
        "fund_statistics_COTZX"
       ]
      },
      {
       "output_type": "stream",
       "stream": "stdout",
       "text": [
        "\n",
        "fund_statistics_AUGAX"
       ]
      },
      {
       "output_type": "stream",
       "stream": "stdout",
       "text": [
        "\n",
        "fund_statistics_IUTIX"
       ]
      },
      {
       "output_type": "stream",
       "stream": "stdout",
       "text": [
        "\n",
        "fund_statistics_UMBIX"
       ]
      },
      {
       "output_type": "stream",
       "stream": "stdout",
       "text": [
        "\n",
        "fund_statistics_OAAAX"
       ]
      },
      {
       "output_type": "stream",
       "stream": "stdout",
       "text": [
        "\n",
        "fund_statistics_OPTFX"
       ]
      },
      {
       "output_type": "stream",
       "stream": "stdout",
       "text": [
        "\n",
        "fund_statistics_OPPEX"
       ]
      },
      {
       "output_type": "stream",
       "stream": "stdout",
       "text": [
        "\n",
        "fund_statistics_QRAAX"
       ]
      },
      {
       "output_type": "stream",
       "stream": "stdout",
       "text": [
        "\n",
        "fund_statistics_OACIX"
       ]
      },
      {
       "output_type": "stream",
       "stream": "stdout",
       "text": [
        "\n",
        "fund_statistics_OPIGX"
       ]
      },
      {
       "output_type": "stream",
       "stream": "stdout",
       "text": [
        "\n",
        "fund_statistics_OFIAX"
       ]
      },
      {
       "output_type": "stream",
       "stream": "stdout",
       "text": [
        "\n",
        "fund_statistics_ODMAX"
       ]
      },
      {
       "output_type": "stream",
       "stream": "stdout",
       "text": [
        "\n",
        "fund_statistics_OPOCX"
       ]
      },
      {
       "output_type": "stream",
       "stream": "stdout",
       "text": [
        "\n",
        "fund_statistics_OEGAX"
       ]
      },
      {
       "output_type": "stream",
       "stream": "stdout",
       "text": [
        "\n",
        "fund_statistics_ODAAX"
       ]
      },
      {
       "output_type": "stream",
       "stream": "stdout",
       "text": [
        "\n",
        "fund_statistics_OSVAX"
       ]
      },
      {
       "output_type": "stream",
       "stream": "stdout",
       "text": [
        "\n",
        "fund_statistics_OEMAX"
       ]
      },
      {
       "output_type": "stream",
       "stream": "stdout",
       "text": [
        "\n",
        "fund_statistics_OEQAX"
       ]
      },
      {
       "output_type": "stream",
       "stream": "stdout",
       "text": [
        "\n",
        "fund_statistics_OAEIX"
       ]
      },
      {
       "output_type": "stream",
       "stream": "stdout",
       "text": [
        "\n",
        "fund_statistics_OAAIX"
       ]
      },
      {
       "output_type": "stream",
       "stream": "stdout",
       "text": [
        "\n",
        "fund_statistics_QVOPX"
       ]
      },
      {
       "output_type": "stream",
       "stream": "stdout",
       "text": [
        "\n",
        "fund_statistics_OPPAX"
       ]
      },
      {
       "output_type": "stream",
       "stream": "stdout",
       "text": [
        "\n",
        "fund_statistics_QVGIX"
       ]
      },
      {
       "output_type": "stream",
       "stream": "stdout",
       "text": [
        "\n",
        "fund_statistics_OGYAX"
       ]
      },
      {
       "output_type": "stream",
       "stream": "stdout",
       "text": [
        "\n",
        "fund_statistics_OARAX"
       ]
      },
      {
       "output_type": "stream",
       "stream": "stdout",
       "text": [
        "\n",
        "fund_statistics_OPGIX"
       ]
      },
      {
       "output_type": "stream",
       "stream": "stdout",
       "text": [
        "\n",
        "fund_statistics_OGRAX"
       ]
      },
      {
       "output_type": "stream",
       "stream": "stdout",
       "text": [
        "\n",
        "fund_statistics_OPSIX"
       ]
      },
      {
       "output_type": "stream",
       "stream": "stdout",
       "text": [
        "\n",
        "fund_statistics_GLVAX"
       ]
      },
      {
       "output_type": "stream",
       "stream": "stdout",
       "text": [
        "\n",
        "fund_statistics_OPGSX"
       ]
      },
      {
       "output_type": "stream",
       "stream": "stdout",
       "text": [
        "\n",
        "fund_statistics_OIBAX"
       ]
      },
      {
       "output_type": "stream",
       "stream": "stdout",
       "text": [
        "\n",
        "fund_statistics_OIDAX"
       ]
      },
      {
       "output_type": "stream",
       "stream": "stdout",
       "text": [
        "\n",
        "fund_statistics_OIGAX"
       ]
      },
      {
       "output_type": "stream",
       "stream": "stdout",
       "text": [
        "\n",
        "fund_statistics_OSMAX"
       ]
      },
      {
       "output_type": "stream",
       "stream": "stdout",
       "text": [
        "\n",
        "fund_statistics_QIVAX"
       ]
      },
      {
       "output_type": "stream",
       "stream": "stdout",
       "text": [
        "\n",
        "fund_statistics_OUSGX"
       ]
      },
      {
       "output_type": "stream",
       "stream": "stdout",
       "text": [
        "\n",
        "fund_statistics_OPGVX"
       ]
      },
      {
       "output_type": "stream",
       "stream": "stdout",
       "text": [
        "\n",
        "fund_statistics_MSIGX"
       ]
      },
      {
       "output_type": "stream",
       "stream": "stdout",
       "text": [
        "\n",
        "fund_statistics_OPMSX"
       ]
      },
      {
       "output_type": "stream",
       "stream": "stdout",
       "text": [
        "\n",
        "fund_statistics_OMSOX"
       ]
      },
      {
       "output_type": "stream",
       "stream": "stdout",
       "text": [
        "\n",
        "fund_statistics_OSCAX"
       ]
      },
      {
       "output_type": "stream",
       "stream": "stdout",
       "text": [
        "\n",
        "fund_statistics_OAMIX"
       ]
      },
      {
       "output_type": "stream",
       "stream": "stdout",
       "text": [
        "\n",
        "fund_statistics_OREAX"
       ]
      },
      {
       "output_type": "stream",
       "stream": "stdout",
       "text": [
        "\n",
        "fund_statistics_OARDX"
       ]
      },
      {
       "output_type": "stream",
       "stream": "stdout",
       "text": [
        "\n",
        "fund_statistics_OPTAX"
       ]
      },
      {
       "output_type": "stream",
       "stream": "stdout",
       "text": [
        "\n",
        "fund_statistics_OPNYX"
       ]
      },
      {
       "output_type": "stream",
       "stream": "stdout",
       "text": [
        "\n",
        "fund_statistics_ORAZX"
       ]
      },
      {
       "output_type": "stream",
       "stream": "stdout",
       "text": [
        "\n",
        "fund_statistics_OPCAX"
       ]
      },
      {
       "output_type": "stream",
       "stream": "stdout",
       "text": [
        "\n",
        "fund_statistics_RMUNX"
       ]
      },
      {
       "output_type": "stream",
       "stream": "stdout",
       "text": [
        "\n",
        "fund_statistics_ORNAX"
       ]
      },
      {
       "output_type": "stream",
       "stream": "stdout",
       "text": [
        "\n",
        "fund_statistics_ORRWX"
       ]
      },
      {
       "output_type": "stream",
       "stream": "stdout",
       "text": [
        "\n",
        "fund_statistics_OLCAX"
       ]
      },
      {
       "output_type": "stream",
       "stream": "stdout",
       "text": [
        "\n",
        "fund_statistics_OPITX"
       ]
      },
      {
       "output_type": "stream",
       "stream": "stdout",
       "text": [
        "\n",
        "fund_statistics_LTNYX"
       ]
      },
      {
       "output_type": "stream",
       "stream": "stdout",
       "text": [
        "\n",
        "fund_statistics_ORMAX"
       ]
      },
      {
       "output_type": "stream",
       "stream": "stdout",
       "text": [
        "\n",
        "fund_statistics_ORMDX"
       ]
      },
      {
       "output_type": "stream",
       "stream": "stdout",
       "text": [
        "\n",
        "fund_statistics_ORMIX"
       ]
      },
      {
       "output_type": "stream",
       "stream": "stdout",
       "text": [
        "\n",
        "fund_statistics_OPAMX"
       ]
      },
      {
       "output_type": "stream",
       "stream": "stdout",
       "text": [
        "\n",
        "fund_statistics_OPNCX"
       ]
      },
      {
       "output_type": "stream",
       "stream": "stdout",
       "text": [
        "\n",
        "fund_statistics_ONJAX"
       ]
      },
      {
       "output_type": "stream",
       "stream": "stdout",
       "text": [
        "\n",
        "fund_statistics_OROHX"
       ]
      },
      {
       "output_type": "stream",
       "stream": "stdout",
       "text": [
        "\n",
        "fund_statistics_OPATX"
       ]
      },
      {
       "output_type": "stream",
       "stream": "stdout",
       "text": [
        "\n",
        "fund_statistics_ORSTX"
       ]
      },
      {
       "output_type": "stream",
       "stream": "stdout",
       "text": [
        "\n",
        "fund_statistics_ORVAX"
       ]
      },
      {
       "output_type": "stream",
       "stream": "stdout",
       "text": [
        "\n",
        "fund_statistics_OOSAX"
       ]
      },
      {
       "output_type": "stream",
       "stream": "stdout",
       "text": [
        "\n",
        "fund_statistics_OSFAX"
       ]
      },
      {
       "output_type": "stream",
       "stream": "stdout",
       "text": [
        "\n",
        "fund_statistics_QVSCX"
       ]
      },
      {
       "output_type": "stream",
       "stream": "stdout",
       "text": [
        "\n",
        "fund_statistics_MLPAX"
       ]
      },
      {
       "output_type": "stream",
       "stream": "stdout",
       "text": [
        "\n",
        "fund_statistics_MLPNX"
       ]
      },
      {
       "output_type": "stream",
       "stream": "stdout",
       "text": [
        "\n",
        "fund_statistics_MLPDX"
       ]
      },
      {
       "output_type": "stream",
       "stream": "stdout",
       "text": [
        "\n",
        "fund_statistics_MLPFX"
       ]
      },
      {
       "output_type": "stream",
       "stream": "stdout",
       "text": [
        "\n",
        "fund_statistics_OSDYX"
       ]
      },
      {
       "output_type": "stream",
       "stream": "stdout",
       "text": [
        "\n",
        "fund_statistics_CGRWX"
       ]
      },
      {
       "output_type": "stream",
       "stream": "stdout",
       "text": [
        "\n"
       ]
      }
     ],
     "prompt_number": 345
    },
    {
     "cell_type": "code",
     "collapsed": false,
     "input": [
      "fund_statistics[\"fund_statistics_FCNTX\"]"
     ],
     "language": "python",
     "metadata": {},
     "outputs": [
      {
       "html": [
        "<div style=\"max-height:1000px;max-width:1500px;overflow:auto;\">\n",
        "<table border=\"1\" class=\"dataframe\">\n",
        "  <thead>\n",
        "    <tr style=\"text-align: right;\">\n",
        "      <th></th>\n",
        "      <th>Fund_Ticker</th>\n",
        "      <th>Benchmark_Index</th>\n",
        "      <th>R_Squared</th>\n",
        "      <th>Beta</th>\n",
        "      <th>Alpha</th>\n",
        "      <th>Treynor_Ratio</th>\n",
        "      <th>Currency</th>\n",
        "      <th>Year_Trailing</th>\n",
        "      <th>Std_Dev</th>\n",
        "      <th>Return</th>\n",
        "      <th>Sharpe_Ratio</th>\n",
        "      <th>Sortino_Ratio</th>\n",
        "      <th>Bear_MktPercentile_Rank</th>\n",
        "    </tr>\n",
        "  </thead>\n",
        "  <tbody>\n",
        "    <tr>\n",
        "      <th>0</th>\n",
        "      <td> FCNTX</td>\n",
        "      <td> S&amp;P 500 TR USD</td>\n",
        "      <td> 83.49</td>\n",
        "      <td> 1.00</td>\n",
        "      <td> -1.23</td>\n",
        "      <td> 19.31</td>\n",
        "      <td> USD</td>\n",
        "      <td>  3</td>\n",
        "      <td>  9.88</td>\n",
        "      <td> 19.33</td>\n",
        "      <td> 1.84</td>\n",
        "      <td> 3.78</td>\n",
        "      <td>     \u2014</td>\n",
        "    </tr>\n",
        "    <tr>\n",
        "      <th>1</th>\n",
        "      <td> FCNTX</td>\n",
        "      <td> S&amp;P 500 TR USD</td>\n",
        "      <td> 83.49</td>\n",
        "      <td> 1.00</td>\n",
        "      <td> -1.23</td>\n",
        "      <td> 19.31</td>\n",
        "      <td> USD</td>\n",
        "      <td>  5</td>\n",
        "      <td> 12.57</td>\n",
        "      <td> 15.61</td>\n",
        "      <td> 1.22</td>\n",
        "      <td> 2.22</td>\n",
        "      <td> 27.00</td>\n",
        "    </tr>\n",
        "    <tr>\n",
        "      <th>2</th>\n",
        "      <td> FCNTX</td>\n",
        "      <td> S&amp;P 500 TR USD</td>\n",
        "      <td> 83.49</td>\n",
        "      <td> 1.00</td>\n",
        "      <td> -1.23</td>\n",
        "      <td> 19.31</td>\n",
        "      <td> USD</td>\n",
        "      <td> 10</td>\n",
        "      <td> 14.10</td>\n",
        "      <td> 10.01</td>\n",
        "      <td> 0.64</td>\n",
        "      <td> 0.94</td>\n",
        "      <td>     \u2014</td>\n",
        "    </tr>\n",
        "    <tr>\n",
        "      <th>3</th>\n",
        "      <td> FCNTX</td>\n",
        "      <td> S&amp;P 500 TR USD</td>\n",
        "      <td> 83.49</td>\n",
        "      <td> 1.00</td>\n",
        "      <td> -1.23</td>\n",
        "      <td> 19.31</td>\n",
        "      <td> USD</td>\n",
        "      <td> 15</td>\n",
        "      <td> 13.62</td>\n",
        "      <td>  7.56</td>\n",
        "      <td> 0.46</td>\n",
        "      <td> 0.66</td>\n",
        "      <td>     \u2014</td>\n",
        "    </tr>\n",
        "  </tbody>\n",
        "</table>\n",
        "</div>"
       ],
       "metadata": {},
       "output_type": "pyout",
       "prompt_number": 354,
       "text": [
        "  Fund_Ticker Benchmark_Index R_Squared  Beta  Alpha Treynor_Ratio Currency  \\\n",
        "0       FCNTX  S&P 500 TR USD     83.49  1.00  -1.23         19.31      USD   \n",
        "1       FCNTX  S&P 500 TR USD     83.49  1.00  -1.23         19.31      USD   \n",
        "2       FCNTX  S&P 500 TR USD     83.49  1.00  -1.23         19.31      USD   \n",
        "3       FCNTX  S&P 500 TR USD     83.49  1.00  -1.23         19.31      USD   \n",
        "\n",
        "  Year_Trailing Std_Dev Return Sharpe_Ratio Sortino_Ratio  \\\n",
        "0             3    9.88  19.33         1.84          3.78   \n",
        "1             5   12.57  15.61         1.22          2.22   \n",
        "2            10   14.10  10.01         0.64          0.94   \n",
        "3            15   13.62   7.56         0.46          0.66   \n",
        "\n",
        "  Bear_MktPercentile_Rank  \n",
        "0                       \u2014  \n",
        "1                   27.00  \n",
        "2                       \u2014  \n",
        "3                       \u2014  "
       ]
      }
     ],
     "prompt_number": 354
    },
    {
     "cell_type": "code",
     "collapsed": false,
     "input": [
      "# Export Data for Statistics in CSV files\n",
      "for i in range(0, len(fund_statistics)):\n",
      "    fund_key = fund_statistics.keys()[i]\n",
      "    fund_filename = fund_statistics.keys()[i][-5:]+\"_STATS.csv\"\n",
      "    fund_statistics[fund_key].replace(to_replace=u'\\u2014',value='').to_csv(fund_filename)"
     ],
     "language": "python",
     "metadata": {},
     "outputs": [],
     "prompt_number": 349
    },
    {
     "cell_type": "code",
     "collapsed": false,
     "input": [
      "fund_statistics.keys()[1]\n",
      "fund_statistics[\"fund_statistics_VTWNX\"]"
     ],
     "language": "python",
     "metadata": {},
     "outputs": [
      {
       "html": [
        "<div style=\"max-height:1000px;max-width:1500px;overflow:auto;\">\n",
        "<table border=\"1\" class=\"dataframe\">\n",
        "  <thead>\n",
        "    <tr style=\"text-align: right;\">\n",
        "      <th></th>\n",
        "      <th>Fund_Ticker</th>\n",
        "      <th>Benchmark_Index</th>\n",
        "      <th>R_Squared</th>\n",
        "      <th>Beta</th>\n",
        "      <th>Alpha</th>\n",
        "      <th>Treynor_Ratio</th>\n",
        "      <th>Currency</th>\n",
        "      <th>Year_Trailing</th>\n",
        "      <th>Std_Dev</th>\n",
        "      <th>Return</th>\n",
        "      <th>Sharpe_Ratio</th>\n",
        "      <th>Sortino_Ratio</th>\n",
        "      <th>Bear_MktPercentile_Rank</th>\n",
        "    </tr>\n",
        "  </thead>\n",
        "  <tbody>\n",
        "    <tr>\n",
        "      <th>0</th>\n",
        "      <td> VTWNX</td>\n",
        "      <td> Morningstar Moderate Target Risk</td>\n",
        "      <td> 98.55</td>\n",
        "      <td>    1</td>\n",
        "      <td>  1.1</td>\n",
        "      <td> 11.98</td>\n",
        "      <td> USD</td>\n",
        "      <td>  3</td>\n",
        "      <td> 6.41</td>\n",
        "      <td> 12.01</td>\n",
        "      <td> 1.8</td>\n",
        "      <td> 3.29</td>\n",
        "      <td>     \u2014</td>\n",
        "    </tr>\n",
        "    <tr>\n",
        "      <th>1</th>\n",
        "      <td> VTWNX</td>\n",
        "      <td> Morningstar Moderate Target Risk</td>\n",
        "      <td> 98.97</td>\n",
        "      <td> 1.06</td>\n",
        "      <td> 0.35</td>\n",
        "      <td>  9.38</td>\n",
        "      <td> USD</td>\n",
        "      <td>  5</td>\n",
        "      <td> 9.03</td>\n",
        "      <td> 10.06</td>\n",
        "      <td> 1.1</td>\n",
        "      <td> 1.91</td>\n",
        "      <td> 18.00</td>\n",
        "    </tr>\n",
        "    <tr>\n",
        "      <th>2</th>\n",
        "      <td> VTWNX</td>\n",
        "      <td> Morningstar Moderate Target Risk</td>\n",
        "      <td>     \u2014</td>\n",
        "      <td>    \u2014</td>\n",
        "      <td>    \u2014</td>\n",
        "      <td>     \u2014</td>\n",
        "      <td> USD</td>\n",
        "      <td> 10</td>\n",
        "      <td>    \u2014</td>\n",
        "      <td>     \u2014</td>\n",
        "      <td>   \u2014</td>\n",
        "      <td>    \u2014</td>\n",
        "      <td>     \u2014</td>\n",
        "    </tr>\n",
        "    <tr>\n",
        "      <th>3</th>\n",
        "      <td> VTWNX</td>\n",
        "      <td> Morningstar Moderate Target Risk</td>\n",
        "      <td>     \u2014</td>\n",
        "      <td>    \u2014</td>\n",
        "      <td>    \u2014</td>\n",
        "      <td>     \u2014</td>\n",
        "      <td> USD</td>\n",
        "      <td> 15</td>\n",
        "      <td>    \u2014</td>\n",
        "      <td>     \u2014</td>\n",
        "      <td>   \u2014</td>\n",
        "      <td>    \u2014</td>\n",
        "      <td>     \u2014</td>\n",
        "    </tr>\n",
        "  </tbody>\n",
        "</table>\n",
        "</div>"
       ],
       "metadata": {},
       "output_type": "pyout",
       "prompt_number": 355,
       "text": [
        "  Fund_Ticker                   Benchmark_Index R_Squared  Beta Alpha  \\\n",
        "0       VTWNX  Morningstar Moderate Target Risk     98.55     1   1.1   \n",
        "1       VTWNX  Morningstar Moderate Target Risk     98.97  1.06  0.35   \n",
        "2       VTWNX  Morningstar Moderate Target Risk         \u2014     \u2014     \u2014   \n",
        "3       VTWNX  Morningstar Moderate Target Risk         \u2014     \u2014     \u2014   \n",
        "\n",
        "  Treynor_Ratio Currency Year_Trailing Std_Dev Return Sharpe_Ratio  \\\n",
        "0         11.98      USD             3    6.41  12.01          1.8   \n",
        "1          9.38      USD             5    9.03  10.06          1.1   \n",
        "2             \u2014      USD            10       \u2014      \u2014            \u2014   \n",
        "3             \u2014      USD            15       \u2014      \u2014            \u2014   \n",
        "\n",
        "  Sortino_Ratio Bear_MktPercentile_Rank  \n",
        "0          3.29                       \u2014  \n",
        "1          1.91                   18.00  \n",
        "2             \u2014                       \u2014  \n",
        "3             \u2014                       \u2014  "
       ]
      }
     ],
     "prompt_number": 355
    },
    {
     "cell_type": "markdown",
     "metadata": {},
     "source": [
      "### Funds MPT Statistics DataFrame for 3 years"
     ]
    },
    {
     "cell_type": "code",
     "collapsed": false,
     "input": [
      "# DataFrame for 3 years:\n",
      "\n",
      "fund_stats_cols = fund_statistics[\"fund_statistics_FCNTX\"].columns\n",
      "\n",
      "Fund_param_3 = pd.DataFrame(columns = fund_stats_cols)\n",
      "\n",
      "for i in range(0,len(fund_statistics)):\n",
      "    fund_stat_keys = fund_statistics.keys()[i]\n",
      "    Fund_param_3 = Fund_param_3.append(fund_statistics[fund_stat_keys][fund_statistics[fund_stat_keys]['Year_Trailing'] == '3'])\n",
      "\n",
      "# Dropping the Bear Market Percentile Market Rank as most of the values are not available\n",
      "Fund_param_3 = Fund_param_3.drop('Bear_MktPercentile_Rank',1)\n",
      "Fund_param_3 = Fund_param_3.reset_index(drop=True)"
     ],
     "language": "python",
     "metadata": {},
     "outputs": [],
     "prompt_number": 619
    },
    {
     "cell_type": "code",
     "collapsed": false,
     "input": [
      "# It is found that ticker JPCIX has Treynor_Ratio as incorrect. Assigning the correct value\n",
      "Fund_param_3['Treynor_Ratio'][102] = 1954.64\n",
      "# Replacing the columns with - with a random number -10001 for later removing the values from the dataframe\n",
      "Fund_param_3[['R_Squared','Beta','Alpha','Std_Dev','Return','Sharpe_Ratio','Sortino_Ratio']] = Fund_param_3[['R_Squared','Beta','Alpha','Std_Dev','Return','Sharpe_Ratio','Sortino_Ratio']].replace(to_replace=u'\\u2014',value=-10001).astype(float)\n",
      "# Filtering the funds who donot have information on the parmaters\n",
      "Fund_param_3 = Fund_param_3[Fund_param_3['R_Squared'] != -10001.0]\n",
      "Fund_param_3 = Fund_param_3[Fund_param_3['Std_Dev'] != -10001.0].reset_index(drop=True)\n",
      "# Print the length of the funds\n",
      "print \" Total # of funds with 3 year analysis data : \",len(Fund_param_3)"
     ],
     "language": "python",
     "metadata": {},
     "outputs": [
      {
       "output_type": "stream",
       "stream": "stdout",
       "text": [
        " Total # of funds with 3 year analysis data :  1122\n"
       ]
      }
     ],
     "prompt_number": 620
    },
    {
     "cell_type": "code",
     "collapsed": false,
     "input": [
      "# Print the header\n",
      "Fund_param_3.head()"
     ],
     "language": "python",
     "metadata": {},
     "outputs": [
      {
       "html": [
        "<div style=\"max-height:1000px;max-width:1500px;overflow:auto;\">\n",
        "<table border=\"1\" class=\"dataframe\">\n",
        "  <thead>\n",
        "    <tr style=\"text-align: right;\">\n",
        "      <th></th>\n",
        "      <th>Fund_Ticker</th>\n",
        "      <th>Benchmark_Index</th>\n",
        "      <th>R_Squared</th>\n",
        "      <th>Beta</th>\n",
        "      <th>Alpha</th>\n",
        "      <th>Treynor_Ratio</th>\n",
        "      <th>Currency</th>\n",
        "      <th>Year_Trailing</th>\n",
        "      <th>Std_Dev</th>\n",
        "      <th>Return</th>\n",
        "      <th>Sharpe_Ratio</th>\n",
        "      <th>Sortino_Ratio</th>\n",
        "    </tr>\n",
        "  </thead>\n",
        "  <tbody>\n",
        "    <tr>\n",
        "      <th>0</th>\n",
        "      <td> FRIFX</td>\n",
        "      <td>                 MSCI ACWI NR USD</td>\n",
        "      <td> 32.40</td>\n",
        "      <td> 0.28</td>\n",
        "      <td> 7.74</td>\n",
        "      <td> 43.38</td>\n",
        "      <td> USD</td>\n",
        "      <td> 3</td>\n",
        "      <td> 5.25</td>\n",
        "      <td> 12.39</td>\n",
        "      <td> 2.25</td>\n",
        "      <td> 4.31</td>\n",
        "    </tr>\n",
        "    <tr>\n",
        "      <th>1</th>\n",
        "      <td> VTWNX</td>\n",
        "      <td> Morningstar Moderate Target Risk</td>\n",
        "      <td> 98.55</td>\n",
        "      <td> 1.00</td>\n",
        "      <td> 1.10</td>\n",
        "      <td> 11.98</td>\n",
        "      <td> USD</td>\n",
        "      <td> 3</td>\n",
        "      <td> 6.41</td>\n",
        "      <td> 12.01</td>\n",
        "      <td> 1.80</td>\n",
        "      <td> 3.29</td>\n",
        "    </tr>\n",
        "    <tr>\n",
        "      <th>2</th>\n",
        "      <td> JNBAX</td>\n",
        "      <td> Morningstar Moderate Target Risk</td>\n",
        "      <td> 86.54</td>\n",
        "      <td> 0.92</td>\n",
        "      <td> 0.93</td>\n",
        "      <td> 11.82</td>\n",
        "      <td> USD</td>\n",
        "      <td> 3</td>\n",
        "      <td> 6.30</td>\n",
        "      <td> 10.92</td>\n",
        "      <td> 1.67</td>\n",
        "      <td> 3.00</td>\n",
        "    </tr>\n",
        "    <tr>\n",
        "      <th>3</th>\n",
        "      <td> FIOFX</td>\n",
        "      <td> Morningstar Moderate Target Risk</td>\n",
        "      <td> 97.12</td>\n",
        "      <td> 1.29</td>\n",
        "      <td>-0.77</td>\n",
        "      <td> 10.17</td>\n",
        "      <td> USD</td>\n",
        "      <td> 3</td>\n",
        "      <td> 8.35</td>\n",
        "      <td> 13.18</td>\n",
        "      <td> 1.52</td>\n",
        "      <td> 2.60</td>\n",
        "    </tr>\n",
        "    <tr>\n",
        "      <th>4</th>\n",
        "      <td> PTTRX</td>\n",
        "      <td>      Barclays US Agg Bond TR USD</td>\n",
        "      <td> 83.35</td>\n",
        "      <td> 1.24</td>\n",
        "      <td> 1.28</td>\n",
        "      <td>  4.00</td>\n",
        "      <td> USD</td>\n",
        "      <td> 3</td>\n",
        "      <td> 3.68</td>\n",
        "      <td>  5.03</td>\n",
        "      <td> 1.34</td>\n",
        "      <td> 2.18</td>\n",
        "    </tr>\n",
        "  </tbody>\n",
        "</table>\n",
        "</div>"
       ],
       "metadata": {},
       "output_type": "pyout",
       "prompt_number": 621,
       "text": [
        "  Fund_Ticker                   Benchmark_Index  R_Squared  Beta  Alpha  \\\n",
        "0       FRIFX                  MSCI ACWI NR USD      32.40  0.28   7.74   \n",
        "1       VTWNX  Morningstar Moderate Target Risk      98.55  1.00   1.10   \n",
        "2       JNBAX  Morningstar Moderate Target Risk      86.54  0.92   0.93   \n",
        "3       FIOFX  Morningstar Moderate Target Risk      97.12  1.29  -0.77   \n",
        "4       PTTRX       Barclays US Agg Bond TR USD      83.35  1.24   1.28   \n",
        "\n",
        "  Treynor_Ratio Currency Year_Trailing  Std_Dev  Return  Sharpe_Ratio  \\\n",
        "0         43.38      USD             3     5.25   12.39          2.25   \n",
        "1         11.98      USD             3     6.41   12.01          1.80   \n",
        "2         11.82      USD             3     6.30   10.92          1.67   \n",
        "3         10.17      USD             3     8.35   13.18          1.52   \n",
        "4          4.00      USD             3     3.68    5.03          1.34   \n",
        "\n",
        "   Sortino_Ratio  \n",
        "0           4.31  \n",
        "1           3.29  \n",
        "2           3.00  \n",
        "3           2.60  \n",
        "4           2.18  "
       ]
      }
     ],
     "prompt_number": 621
    },
    {
     "cell_type": "code",
     "collapsed": false,
     "input": [
      "# Exporting 3 years data to CSV file\n",
      "Fund_param_3.to_csv(\"Fund_statistics_3years.csv\")"
     ],
     "language": "python",
     "metadata": {},
     "outputs": [],
     "prompt_number": 639
    },
    {
     "cell_type": "markdown",
     "metadata": {},
     "source": [
      "### Funds MPT Statistics DataFrame for 5 years"
     ]
    },
    {
     "cell_type": "code",
     "collapsed": false,
     "input": [
      "# DataFrame for 5 years:\n",
      "\n",
      "Fund_param_5 = pd.DataFrame(columns = fund_stats_cols)\n",
      "\n",
      "for i in range(0,len(fund_statistics)):\n",
      "    fund_stat_keys = fund_statistics.keys()[i]\n",
      "    Fund_param_5 = Fund_param_5.append(fund_statistics[fund_stat_keys][fund_statistics[fund_stat_keys]['Year_Trailing'] == '5'])\n",
      "\n",
      "# Dropping the Bear Market Percentile Market Rank as most of the values are not available\n",
      "Fund_param_5 = Fund_param_5.drop('Bear_MktPercentile_Rank',1)\n",
      "Fund_param_5 = Fund_param_5.reset_index(drop=True)"
     ],
     "language": "python",
     "metadata": {},
     "outputs": [],
     "prompt_number": 622
    },
    {
     "cell_type": "code",
     "collapsed": false,
     "input": [
      "# Replacing the columns with - with a random number -10001 for later removing the values from the dataframe\n",
      "Fund_param_5[['R_Squared','Beta','Alpha','Std_Dev','Return','Sharpe_Ratio','Sortino_Ratio']] = Fund_param_5[['R_Squared','Beta','Alpha','Std_Dev','Return','Sharpe_Ratio','Sortino_Ratio']].replace(to_replace=u'\\u2014',value=-10001).astype(float)\n",
      "# Filtering the funds who donot have information on the parmaters\n",
      "Fund_param_5 = Fund_param_5[Fund_param_5['R_Squared'] != -10001.0]\n",
      "Fund_param_5 = Fund_param_5[Fund_param_5['Std_Dev'] != -10001.0].reset_index(drop=True)\n",
      "# Print the length of the funds\n",
      "print \" Total # of funds with 5 year analysis data : \",len(Fund_param_5)"
     ],
     "language": "python",
     "metadata": {},
     "outputs": [
      {
       "output_type": "stream",
       "stream": "stdout",
       "text": [
        " Total # of funds with 5 year analysis data :  1005\n"
       ]
      }
     ],
     "prompt_number": 623
    },
    {
     "cell_type": "code",
     "collapsed": false,
     "input": [
      "# Print the header\n",
      "Fund_param_5.head()"
     ],
     "language": "python",
     "metadata": {},
     "outputs": [
      {
       "html": [
        "<div style=\"max-height:1000px;max-width:1500px;overflow:auto;\">\n",
        "<table border=\"1\" class=\"dataframe\">\n",
        "  <thead>\n",
        "    <tr style=\"text-align: right;\">\n",
        "      <th></th>\n",
        "      <th>Fund_Ticker</th>\n",
        "      <th>Benchmark_Index</th>\n",
        "      <th>R_Squared</th>\n",
        "      <th>Beta</th>\n",
        "      <th>Alpha</th>\n",
        "      <th>Treynor_Ratio</th>\n",
        "      <th>Currency</th>\n",
        "      <th>Year_Trailing</th>\n",
        "      <th>Std_Dev</th>\n",
        "      <th>Return</th>\n",
        "      <th>Sharpe_Ratio</th>\n",
        "      <th>Sortino_Ratio</th>\n",
        "    </tr>\n",
        "  </thead>\n",
        "  <tbody>\n",
        "    <tr>\n",
        "      <th>0</th>\n",
        "      <td> FRIFX</td>\n",
        "      <td>                 MSCI ACWI NR USD</td>\n",
        "      <td> 55.22</td>\n",
        "      <td> 0.30</td>\n",
        "      <td> 8.48</td>\n",
        "      <td> 40.52</td>\n",
        "      <td> USD</td>\n",
        "      <td> 5</td>\n",
        "      <td>  5.84</td>\n",
        "      <td> 12.18</td>\n",
        "      <td> 1.99</td>\n",
        "      <td> 3.85</td>\n",
        "    </tr>\n",
        "    <tr>\n",
        "      <th>1</th>\n",
        "      <td> VTWNX</td>\n",
        "      <td> Morningstar Moderate Target Risk</td>\n",
        "      <td> 98.97</td>\n",
        "      <td> 1.06</td>\n",
        "      <td> 0.35</td>\n",
        "      <td>  9.38</td>\n",
        "      <td> USD</td>\n",
        "      <td> 5</td>\n",
        "      <td>  9.03</td>\n",
        "      <td> 10.06</td>\n",
        "      <td> 1.10</td>\n",
        "      <td> 1.91</td>\n",
        "    </tr>\n",
        "    <tr>\n",
        "      <th>2</th>\n",
        "      <td> JNBAX</td>\n",
        "      <td> Morningstar Moderate Target Risk</td>\n",
        "      <td> 88.95</td>\n",
        "      <td> 0.96</td>\n",
        "      <td> 0.44</td>\n",
        "      <td>  9.48</td>\n",
        "      <td> USD</td>\n",
        "      <td> 5</td>\n",
        "      <td>  8.62</td>\n",
        "      <td>  9.20</td>\n",
        "      <td> 1.06</td>\n",
        "      <td> 1.74</td>\n",
        "    </tr>\n",
        "    <tr>\n",
        "      <th>3</th>\n",
        "      <td> FIOFX</td>\n",
        "      <td> Morningstar Moderate Target Risk</td>\n",
        "      <td> 98.47</td>\n",
        "      <td> 1.37</td>\n",
        "      <td>-1.67</td>\n",
        "      <td>  7.67</td>\n",
        "      <td> USD</td>\n",
        "      <td> 5</td>\n",
        "      <td> 11.65</td>\n",
        "      <td> 10.58</td>\n",
        "      <td> 0.92</td>\n",
        "      <td> 1.51</td>\n",
        "    </tr>\n",
        "    <tr>\n",
        "      <th>4</th>\n",
        "      <td> PTTRX</td>\n",
        "      <td>      Barclays US Agg Bond TR USD</td>\n",
        "      <td> 59.01</td>\n",
        "      <td> 0.98</td>\n",
        "      <td> 1.02</td>\n",
        "      <td>  5.08</td>\n",
        "      <td> USD</td>\n",
        "      <td> 5</td>\n",
        "      <td>  3.60</td>\n",
        "      <td>  5.06</td>\n",
        "      <td> 1.37</td>\n",
        "      <td> 2.32</td>\n",
        "    </tr>\n",
        "  </tbody>\n",
        "</table>\n",
        "</div>"
       ],
       "metadata": {},
       "output_type": "pyout",
       "prompt_number": 632,
       "text": [
        "  Fund_Ticker                   Benchmark_Index  R_Squared  Beta  Alpha  \\\n",
        "0       FRIFX                  MSCI ACWI NR USD      55.22  0.30   8.48   \n",
        "1       VTWNX  Morningstar Moderate Target Risk      98.97  1.06   0.35   \n",
        "2       JNBAX  Morningstar Moderate Target Risk      88.95  0.96   0.44   \n",
        "3       FIOFX  Morningstar Moderate Target Risk      98.47  1.37  -1.67   \n",
        "4       PTTRX       Barclays US Agg Bond TR USD      59.01  0.98   1.02   \n",
        "\n",
        "  Treynor_Ratio Currency Year_Trailing  Std_Dev  Return  Sharpe_Ratio  \\\n",
        "0         40.52      USD             5     5.84   12.18          1.99   \n",
        "1          9.38      USD             5     9.03   10.06          1.10   \n",
        "2          9.48      USD             5     8.62    9.20          1.06   \n",
        "3          7.67      USD             5    11.65   10.58          0.92   \n",
        "4          5.08      USD             5     3.60    5.06          1.37   \n",
        "\n",
        "   Sortino_Ratio  \n",
        "0           3.85  \n",
        "1           1.91  \n",
        "2           1.74  \n",
        "3           1.51  \n",
        "4           2.32  "
       ]
      }
     ],
     "prompt_number": 632
    },
    {
     "cell_type": "code",
     "collapsed": false,
     "input": [
      "# Exporting the 5 years data to csv file\n",
      "Fund_param_5.to_csv(\"Fund_statistics_5years.csv\")"
     ],
     "language": "python",
     "metadata": {},
     "outputs": [],
     "prompt_number": 638
    },
    {
     "cell_type": "markdown",
     "metadata": {},
     "source": [
      "### Funds MPT Statistics DataFrame for 10 years "
     ]
    },
    {
     "cell_type": "code",
     "collapsed": false,
     "input": [
      "# DataFrame for 10 years:\n",
      "\n",
      "Fund_param_10 = pd.DataFrame(columns = fund_stats_cols)\n",
      "\n",
      "for i in range(0,len(fund_statistics)):\n",
      "    fund_stat_keys = fund_statistics.keys()[i]\n",
      "    Fund_param_10 = Fund_param_10.append(fund_statistics[fund_stat_keys][fund_statistics[fund_stat_keys]['Year_Trailing'] == '10'])\n",
      "\n",
      "# Dropping the Bear Market Percentile Market Rank as most of the values are not available\n",
      "Fund_param_10 = Fund_param_10.drop('Bear_MktPercentile_Rank',1)\n",
      "Fund_param_10 = Fund_param_10.reset_index(drop=True)"
     ],
     "language": "python",
     "metadata": {},
     "outputs": [],
     "prompt_number": 625
    },
    {
     "cell_type": "code",
     "collapsed": false,
     "input": [
      "# Replacing the columns with - with a random number -10001 for later removing the values from the dataframe\n",
      "Fund_param_10[['R_Squared','Beta','Alpha','Std_Dev','Return','Sharpe_Ratio','Sortino_Ratio']] = Fund_param_10[['R_Squared','Beta','Alpha','Std_Dev','Return','Sharpe_Ratio','Sortino_Ratio']].replace(to_replace=u'\\u2014',value=-10001).astype(float)\n",
      "# Filtering the funds who donot have information on the parmaters\n",
      "Fund_param_10 = Fund_param_10[Fund_param_10['R_Squared'] != -10001.0]\n",
      "Fund_param_10 = Fund_param_10[Fund_param_10['Std_Dev'] != -10001.0].reset_index(drop=True)\n",
      "# Print the length of the funds\n",
      "print \" Total # of funds with 10 year analysis data : \",len(Fund_param_10)"
     ],
     "language": "python",
     "metadata": {},
     "outputs": [
      {
       "output_type": "stream",
       "stream": "stdout",
       "text": [
        " Total # of funds with 10 year analysis data :  760\n"
       ]
      }
     ],
     "prompt_number": 626
    },
    {
     "cell_type": "code",
     "collapsed": false,
     "input": [
      "# Print the header\n",
      "Fund_param_10.head()"
     ],
     "language": "python",
     "metadata": {},
     "outputs": [
      {
       "html": [
        "<div style=\"max-height:1000px;max-width:1500px;overflow:auto;\">\n",
        "<table border=\"1\" class=\"dataframe\">\n",
        "  <thead>\n",
        "    <tr style=\"text-align: right;\">\n",
        "      <th></th>\n",
        "      <th>Fund_Ticker</th>\n",
        "      <th>Benchmark_Index</th>\n",
        "      <th>R_Squared</th>\n",
        "      <th>Beta</th>\n",
        "      <th>Alpha</th>\n",
        "      <th>Treynor_Ratio</th>\n",
        "      <th>Currency</th>\n",
        "      <th>Year_Trailing</th>\n",
        "      <th>Std_Dev</th>\n",
        "      <th>Return</th>\n",
        "      <th>Sharpe_Ratio</th>\n",
        "      <th>Sortino_Ratio</th>\n",
        "    </tr>\n",
        "  </thead>\n",
        "  <tbody>\n",
        "    <tr>\n",
        "      <th>0</th>\n",
        "      <td> FRIFX</td>\n",
        "      <td>            MSCI ACWI NR USD</td>\n",
        "      <td> 56.99</td>\n",
        "      <td> 0.45</td>\n",
        "      <td> 2.81</td>\n",
        "      <td> 11.99</td>\n",
        "      <td> USD</td>\n",
        "      <td> 10</td>\n",
        "      <td>  9.78</td>\n",
        "      <td>  6.92</td>\n",
        "      <td> 0.58</td>\n",
        "      <td> 0.78</td>\n",
        "    </tr>\n",
        "    <tr>\n",
        "      <th>1</th>\n",
        "      <td> PTTRX</td>\n",
        "      <td> Barclays US Agg Bond TR USD</td>\n",
        "      <td> 69.53</td>\n",
        "      <td> 1.01</td>\n",
        "      <td> 1.24</td>\n",
        "      <td>  4.54</td>\n",
        "      <td> USD</td>\n",
        "      <td> 10</td>\n",
        "      <td>  3.92</td>\n",
        "      <td>  6.11</td>\n",
        "      <td> 1.13</td>\n",
        "      <td> 2.00</td>\n",
        "    </tr>\n",
        "    <tr>\n",
        "      <th>2</th>\n",
        "      <td> VGPMX</td>\n",
        "      <td>            MSCI ACWI NR USD</td>\n",
        "      <td> 56.66</td>\n",
        "      <td> 1.44</td>\n",
        "      <td>-4.60</td>\n",
        "      <td> -0.51</td>\n",
        "      <td> USD</td>\n",
        "      <td> 10</td>\n",
        "      <td> 31.67</td>\n",
        "      <td>  0.78</td>\n",
        "      <td> 0.14</td>\n",
        "      <td> 0.20</td>\n",
        "    </tr>\n",
        "    <tr>\n",
        "      <th>3</th>\n",
        "      <td> PRGTX</td>\n",
        "      <td>            MSCI ACWI NR USD</td>\n",
        "      <td> 78.52</td>\n",
        "      <td> 1.12</td>\n",
        "      <td> 6.63</td>\n",
        "      <td>  11.1</td>\n",
        "      <td> USD</td>\n",
        "      <td> 10</td>\n",
        "      <td> 20.84</td>\n",
        "      <td> 13.94</td>\n",
        "      <td> 0.66</td>\n",
        "      <td> 1.02</td>\n",
        "    </tr>\n",
        "    <tr>\n",
        "      <th>4</th>\n",
        "      <td> FOSFX</td>\n",
        "      <td>     MSCI ACWI Ex USA NR USD</td>\n",
        "      <td> 95.43</td>\n",
        "      <td> 1.03</td>\n",
        "      <td>-0.62</td>\n",
        "      <td>  3.66</td>\n",
        "      <td> USD</td>\n",
        "      <td> 10</td>\n",
        "      <td> 19.83</td>\n",
        "      <td>  5.29</td>\n",
        "      <td> 0.29</td>\n",
        "      <td> 0.40</td>\n",
        "    </tr>\n",
        "  </tbody>\n",
        "</table>\n",
        "</div>"
       ],
       "metadata": {},
       "output_type": "pyout",
       "prompt_number": 627,
       "text": [
        "  Fund_Ticker              Benchmark_Index  R_Squared  Beta  Alpha  \\\n",
        "0       FRIFX             MSCI ACWI NR USD      56.99  0.45   2.81   \n",
        "1       PTTRX  Barclays US Agg Bond TR USD      69.53  1.01   1.24   \n",
        "2       VGPMX             MSCI ACWI NR USD      56.66  1.44  -4.60   \n",
        "3       PRGTX             MSCI ACWI NR USD      78.52  1.12   6.63   \n",
        "4       FOSFX      MSCI ACWI Ex USA NR USD      95.43  1.03  -0.62   \n",
        "\n",
        "  Treynor_Ratio Currency Year_Trailing  Std_Dev  Return  Sharpe_Ratio  \\\n",
        "0         11.99      USD            10     9.78    6.92          0.58   \n",
        "1          4.54      USD            10     3.92    6.11          1.13   \n",
        "2         -0.51      USD            10    31.67    0.78          0.14   \n",
        "3          11.1      USD            10    20.84   13.94          0.66   \n",
        "4          3.66      USD            10    19.83    5.29          0.29   \n",
        "\n",
        "   Sortino_Ratio  \n",
        "0           0.78  \n",
        "1           2.00  \n",
        "2           0.20  \n",
        "3           1.02  \n",
        "4           0.40  "
       ]
      }
     ],
     "prompt_number": 627
    },
    {
     "cell_type": "code",
     "collapsed": false,
     "input": [
      "# Exporting the 10 years data to csv file\n",
      "Fund_param_10.to_csv(\"Fund_statistics_10years.csv\")"
     ],
     "language": "python",
     "metadata": {},
     "outputs": [],
     "prompt_number": 637
    },
    {
     "cell_type": "markdown",
     "metadata": {},
     "source": [
      "### Funds MPT Statistics DataFrame for 15 years "
     ]
    },
    {
     "cell_type": "code",
     "collapsed": false,
     "input": [
      "# DataFrame for 15 years:\n",
      "\n",
      "Fund_param_15 = pd.DataFrame(columns = fund_stats_cols)\n",
      "\n",
      "for i in range(0,len(fund_statistics)):\n",
      "    fund_stat_keys = fund_statistics.keys()[i]\n",
      "    Fund_param_15 = Fund_param_15.append(fund_statistics[fund_stat_keys][fund_statistics[fund_stat_keys]['Year_Trailing'] == '15'])\n",
      "\n",
      "# Dropping the Bear Market Percentile Market Rank as most of the values are not available\n",
      "Fund_param_15 = Fund_param_15.drop('Bear_MktPercentile_Rank',1)\n",
      "Fund_param_15 = Fund_param_15.reset_index(drop=True)"
     ],
     "language": "python",
     "metadata": {},
     "outputs": [],
     "prompt_number": 628
    },
    {
     "cell_type": "code",
     "collapsed": false,
     "input": [
      "# Replacing the columns with - with a random number -10001 for later removing the values from the dataframe\n",
      "Fund_param_15[['R_Squared','Beta','Alpha','Std_Dev','Return','Sharpe_Ratio','Sortino_Ratio']] = Fund_param_15[['R_Squared','Beta','Alpha','Std_Dev','Return','Sharpe_Ratio','Sortino_Ratio']].replace(to_replace=u'\\u2014',value=-10001).astype(float)\n",
      "# Filtering the funds who donot have information on the parmaters\n",
      "Fund_param_15 = Fund_param_15[Fund_param_15['R_Squared'] != -10001.0]\n",
      "Fund_param_15 = Fund_param_15[Fund_param_15['Std_Dev'] != -10001.0].reset_index(drop=True)\n",
      "# Print the length of the funds\n",
      "print \" Total # of funds with 15 year analysis : \",len(Fund_param_15)"
     ],
     "language": "python",
     "metadata": {},
     "outputs": [
      {
       "output_type": "stream",
       "stream": "stdout",
       "text": [
        " Total # of funds with 15 year analysis :  614\n"
       ]
      }
     ],
     "prompt_number": 629
    },
    {
     "cell_type": "code",
     "collapsed": false,
     "input": [
      "# Print the header\n",
      "Fund_param_15.head()"
     ],
     "language": "python",
     "metadata": {},
     "outputs": [
      {
       "html": [
        "<div style=\"max-height:1000px;max-width:1500px;overflow:auto;\">\n",
        "<table border=\"1\" class=\"dataframe\">\n",
        "  <thead>\n",
        "    <tr style=\"text-align: right;\">\n",
        "      <th></th>\n",
        "      <th>Fund_Ticker</th>\n",
        "      <th>Benchmark_Index</th>\n",
        "      <th>R_Squared</th>\n",
        "      <th>Beta</th>\n",
        "      <th>Alpha</th>\n",
        "      <th>Treynor_Ratio</th>\n",
        "      <th>Currency</th>\n",
        "      <th>Year_Trailing</th>\n",
        "      <th>Std_Dev</th>\n",
        "      <th>Return</th>\n",
        "      <th>Sharpe_Ratio</th>\n",
        "      <th>Sortino_Ratio</th>\n",
        "    </tr>\n",
        "  </thead>\n",
        "  <tbody>\n",
        "    <tr>\n",
        "      <th>0</th>\n",
        "      <td> PTTRX</td>\n",
        "      <td> Barclays US Agg Bond TR USD</td>\n",
        "      <td> 78.23</td>\n",
        "      <td> 1.02</td>\n",
        "      <td> 1.02</td>\n",
        "      <td>  4.73</td>\n",
        "      <td> USD</td>\n",
        "      <td> 15</td>\n",
        "      <td>  4.03</td>\n",
        "      <td> 6.80</td>\n",
        "      <td> 1.17</td>\n",
        "      <td> 2.00</td>\n",
        "    </tr>\n",
        "    <tr>\n",
        "      <th>1</th>\n",
        "      <td> VGPMX</td>\n",
        "      <td>            MSCI ACWI NR USD</td>\n",
        "      <td> 40.85</td>\n",
        "      <td> 1.17</td>\n",
        "      <td> 6.15</td>\n",
        "      <td>  4.64</td>\n",
        "      <td> USD</td>\n",
        "      <td> 15</td>\n",
        "      <td> 30.21</td>\n",
        "      <td> 7.42</td>\n",
        "      <td> 0.33</td>\n",
        "      <td> 0.47</td>\n",
        "    </tr>\n",
        "    <tr>\n",
        "      <th>2</th>\n",
        "      <td> FOSFX</td>\n",
        "      <td>     MSCI ACWI Ex USA NR USD</td>\n",
        "      <td> 94.99</td>\n",
        "      <td> 1.04</td>\n",
        "      <td>-1.08</td>\n",
        "      <td>  0.96</td>\n",
        "      <td> USD</td>\n",
        "      <td> 15</td>\n",
        "      <td> 19.34</td>\n",
        "      <td> 2.97</td>\n",
        "      <td> 0.15</td>\n",
        "      <td> 0.20</td>\n",
        "    </tr>\n",
        "    <tr>\n",
        "      <th>3</th>\n",
        "      <td> VMRGX</td>\n",
        "      <td>              S&amp;P 500 TR USD</td>\n",
        "      <td> 83.25</td>\n",
        "      <td> 1.12</td>\n",
        "      <td>-3.23</td>\n",
        "      <td> 17.46</td>\n",
        "      <td> USD</td>\n",
        "      <td> 15</td>\n",
        "      <td> 17.56</td>\n",
        "      <td> 4.90</td>\n",
        "      <td> 0.25</td>\n",
        "      <td> 0.35</td>\n",
        "    </tr>\n",
        "    <tr>\n",
        "      <th>4</th>\n",
        "      <td> FSTFX</td>\n",
        "      <td>   Barclays Municipal TR USD</td>\n",
        "      <td> 78.13</td>\n",
        "      <td> 0.41</td>\n",
        "      <td> 0.02</td>\n",
        "      <td>  3.56</td>\n",
        "      <td> USD</td>\n",
        "      <td> 15</td>\n",
        "      <td>  2.03</td>\n",
        "      <td> 3.43</td>\n",
        "      <td> 0.70</td>\n",
        "      <td> 1.14</td>\n",
        "    </tr>\n",
        "  </tbody>\n",
        "</table>\n",
        "</div>"
       ],
       "metadata": {},
       "output_type": "pyout",
       "prompt_number": 630,
       "text": [
        "  Fund_Ticker              Benchmark_Index  R_Squared  Beta  Alpha  \\\n",
        "0       PTTRX  Barclays US Agg Bond TR USD      78.23  1.02   1.02   \n",
        "1       VGPMX             MSCI ACWI NR USD      40.85  1.17   6.15   \n",
        "2       FOSFX      MSCI ACWI Ex USA NR USD      94.99  1.04  -1.08   \n",
        "3       VMRGX               S&P 500 TR USD      83.25  1.12  -3.23   \n",
        "4       FSTFX    Barclays Municipal TR USD      78.13  0.41   0.02   \n",
        "\n",
        "  Treynor_Ratio Currency Year_Trailing  Std_Dev  Return  Sharpe_Ratio  \\\n",
        "0          4.73      USD            15     4.03    6.80          1.17   \n",
        "1          4.64      USD            15    30.21    7.42          0.33   \n",
        "2          0.96      USD            15    19.34    2.97          0.15   \n",
        "3         17.46      USD            15    17.56    4.90          0.25   \n",
        "4          3.56      USD            15     2.03    3.43          0.70   \n",
        "\n",
        "   Sortino_Ratio  \n",
        "0           2.00  \n",
        "1           0.47  \n",
        "2           0.20  \n",
        "3           0.35  \n",
        "4           1.14  "
       ]
      }
     ],
     "prompt_number": 630
    },
    {
     "cell_type": "code",
     "collapsed": false,
     "input": [
      "# Exporting the 15 years data to csv file\n",
      "Fund_param_15.to_csv(\"Fund_statistics_15years.csv\")"
     ],
     "language": "python",
     "metadata": {},
     "outputs": [],
     "prompt_number": 636
    },
    {
     "cell_type": "markdown",
     "metadata": {},
     "source": [
      "### Fetching other parameters"
     ]
    },
    {
     "cell_type": "code",
     "collapsed": false,
     "input": [
      "other_params_url = \"http://quotes.morningstar.com/fund/c-standardized?&t=XNAS:FCNTX&region=usa&culture=en-US&cur=\"\n",
      "other_params = pd.read_html(other_params_url,match='Max Front Load')[0]\n",
      "other_params.columns = other_params.loc[0]\n",
      "other_params = pd.DataFrame(pd.Series(other_params.loc[1])).T.reset_index(drop=True)\n",
      "other_params['Fund_Ticker'] = 'FCNTX'\n",
      "other_params"
     ],
     "language": "python",
     "metadata": {},
     "outputs": [
      {
       "html": [
        "<div style=\"max-height:1000px;max-width:1500px;overflow:auto;\">\n",
        "<table border=\"1\" class=\"dataframe\">\n",
        "  <thead>\n",
        "    <tr style=\"text-align: right;\">\n",
        "      <th></th>\n",
        "      <th>Max Front Load %</th>\n",
        "      <th>Max Back Load %</th>\n",
        "      <th>Net Expense Ratio %</th>\n",
        "      <th>Gross Expense Ratio %</th>\n",
        "      <th>30-day SEC Yield</th>\n",
        "      <th>30-day Yield Unsubsidized</th>\n",
        "      <th>Fund_Ticker</th>\n",
        "    </tr>\n",
        "  </thead>\n",
        "  <tbody>\n",
        "    <tr>\n",
        "      <th>0</th>\n",
        "      <td> \u2014</td>\n",
        "      <td> \u2014</td>\n",
        "      <td> 0.67</td>\n",
        "      <td> 0.67</td>\n",
        "      <td> \u2014</td>\n",
        "      <td> \u2014</td>\n",
        "      <td> FCNTX</td>\n",
        "    </tr>\n",
        "  </tbody>\n",
        "</table>\n",
        "</div>"
       ],
       "metadata": {},
       "output_type": "pyout",
       "prompt_number": 1299,
       "text": [
        "0 Max Front Load % Max Back Load % Net Expense Ratio % Gross Expense Ratio %  \\\n",
        "0                \u2014               \u2014                0.67                  0.67   \n",
        "\n",
        "0 30-day SEC Yield 30-day Yield Unsubsidized Fund_Ticker  \n",
        "0                \u2014                         \u2014       FCNTX  "
       ]
      }
     ],
     "prompt_number": 1299
    },
    {
     "cell_type": "code",
     "collapsed": false,
     "input": [
      "other_params_ret = pd.read_html(other_params_url,match='Standardized Return')[0]\n",
      "other_params_ret.columns = ['Inception','Return','Tax_Return','Unnamed']\n",
      "other_params_ret = other_params_ret[other_params_ret['Inception'].str.contains('Inception',na=False)]\n",
      "other_params_ret['Fund_Ticker'] = 'FCNTX'\n",
      "other_params_ret = other_params_ret[['Fund_Ticker','Inception','Return']].reset_index(drop=True)\n",
      "var_inc = other_params_ret['Inception']\n",
      "start = var_inc[0].find('(')+1\n",
      "end = var_inc[0].find(')', start)\n",
      "other_params_ret['Inception'] = var_inc[0][start:end]\n",
      "other_params_ret"
     ],
     "language": "python",
     "metadata": {},
     "outputs": [
      {
       "html": [
        "<div style=\"max-height:1000px;max-width:1500px;overflow:auto;\">\n",
        "<table border=\"1\" class=\"dataframe\">\n",
        "  <thead>\n",
        "    <tr style=\"text-align: right;\">\n",
        "      <th></th>\n",
        "      <th>Fund_Ticker</th>\n",
        "      <th>Inception</th>\n",
        "      <th>Return</th>\n",
        "    </tr>\n",
        "  </thead>\n",
        "  <tbody>\n",
        "    <tr>\n",
        "      <th>0</th>\n",
        "      <td> FCNTX</td>\n",
        "      <td> 05/17/1967</td>\n",
        "      <td> 12.52</td>\n",
        "    </tr>\n",
        "  </tbody>\n",
        "</table>\n",
        "</div>"
       ],
       "metadata": {},
       "output_type": "pyout",
       "prompt_number": 1304,
       "text": [
        "  Fund_Ticker   Inception  Return\n",
        "0       FCNTX  05/17/1967   12.52"
       ]
      }
     ],
     "prompt_number": 1304
    },
    {
     "cell_type": "code",
     "collapsed": false,
     "input": [
      "management_url = \"http://quotes.morningstar.com/fund/c-management?&t=XNAS:FCNTX&region=usa&culture=en-US&cur=\"\n",
      "management = pd.read_html(management_url,match='Start')[0]\n",
      "management = management[management[0].notnull()].tail(1).reset_index(drop=True)\n",
      "management.columns = ['Fund_Manager','Manager_Start_Date']\n",
      "management['Fund_Ticker'] = 'FCNTX'\n",
      "management"
     ],
     "language": "python",
     "metadata": {},
     "outputs": [
      {
       "html": [
        "<div style=\"max-height:1000px;max-width:1500px;overflow:auto;\">\n",
        "<table border=\"1\" class=\"dataframe\">\n",
        "  <thead>\n",
        "    <tr style=\"text-align: right;\">\n",
        "      <th></th>\n",
        "      <th>Fund_Manager</th>\n",
        "      <th>Manager_Start_Date</th>\n",
        "      <th>Fund_Ticker</th>\n",
        "    </tr>\n",
        "  </thead>\n",
        "  <tbody>\n",
        "    <tr>\n",
        "      <th>0</th>\n",
        "      <td> William Danoff</td>\n",
        "      <td>1990-09-17</td>\n",
        "      <td> FCNTX</td>\n",
        "    </tr>\n",
        "  </tbody>\n",
        "</table>\n",
        "</div>"
       ],
       "metadata": {},
       "output_type": "pyout",
       "prompt_number": 1305,
       "text": [
        "     Fund_Manager Manager_Start_Date Fund_Ticker\n",
        "0  William Danoff         1990-09-17       FCNTX"
       ]
      }
     ],
     "prompt_number": 1305
    },
    {
     "cell_type": "code",
     "collapsed": false,
     "input": [
      "other_params_1 = pd.merge(other_params_ret,other_params,on='Fund_Ticker',how='inner')\n",
      "other_params_1 = pd.merge(other_params_1,management,on='Fund_Ticker',how='inner')\n",
      "other_params_1"
     ],
     "language": "python",
     "metadata": {},
     "outputs": [
      {
       "html": [
        "<div style=\"max-height:1000px;max-width:1500px;overflow:auto;\">\n",
        "<table border=\"1\" class=\"dataframe\">\n",
        "  <thead>\n",
        "    <tr style=\"text-align: right;\">\n",
        "      <th></th>\n",
        "      <th>Fund_Ticker</th>\n",
        "      <th>Inception</th>\n",
        "      <th>Return</th>\n",
        "      <th>Max Front Load %</th>\n",
        "      <th>Max Back Load %</th>\n",
        "      <th>Net Expense Ratio %</th>\n",
        "      <th>Gross Expense Ratio %</th>\n",
        "      <th>30-day SEC Yield</th>\n",
        "      <th>30-day Yield Unsubsidized</th>\n",
        "      <th>Fund_Manager</th>\n",
        "      <th>Manager_Start_Date</th>\n",
        "    </tr>\n",
        "  </thead>\n",
        "  <tbody>\n",
        "    <tr>\n",
        "      <th>0</th>\n",
        "      <td> FCNTX</td>\n",
        "      <td> 05/17/1967</td>\n",
        "      <td> 12.52</td>\n",
        "      <td> \u2014</td>\n",
        "      <td> \u2014</td>\n",
        "      <td> 0.67</td>\n",
        "      <td> 0.67</td>\n",
        "      <td> \u2014</td>\n",
        "      <td> \u2014</td>\n",
        "      <td> William Danoff</td>\n",
        "      <td>1990-09-17</td>\n",
        "    </tr>\n",
        "  </tbody>\n",
        "</table>\n",
        "</div>"
       ],
       "metadata": {},
       "output_type": "pyout",
       "prompt_number": 1306,
       "text": [
        "  Fund_Ticker   Inception  Return Max Front Load % Max Back Load %  \\\n",
        "0       FCNTX  05/17/1967   12.52                \u2014               \u2014   \n",
        "\n",
        "  Net Expense Ratio % Gross Expense Ratio % 30-day SEC Yield  \\\n",
        "0                0.67                  0.67                \u2014   \n",
        "\n",
        "  30-day Yield Unsubsidized    Fund_Manager Manager_Start_Date  \n",
        "0                         \u2014  William Danoff         1990-09-17  "
       ]
      }
     ],
     "prompt_number": 1306
    },
    {
     "cell_type": "code",
     "collapsed": false,
     "input": [
      "class_values = ['Fund_Ticker','TTM_Yield','Load','PortfolioMktValue','TotalAssets','ExpenseRatio','FeeLevel',\n",
      "                'Turnover','Status','MinInvestment','Yield','MorningstarCategory','InvestmentStyle']\n",
      "\n",
      "fund_other_params = pd.DataFrame()\n",
      "fund_other = pd.DataFrame(columns=class_values)\n",
      "\n",
      "for fd in range(0,len(fund_df)):\n",
      "    fund_name = fund_df['Fund_Ticker'][fd]\n",
      "    print \"Fund other paramters : \",fund_name\n",
      "    try:\n",
      "        # Fetching the parameters of the fund like Expense Ratio\n",
      "        fund_oth_params_url = \"http://quotes.morningstar.com/fund/c-standardized?&t=XNAS:\"+fund_name+\"&region=usa&culture=en-US&cur=\"\n",
      "        fund_oth_params = pd.read_html(fund_oth_params_url,match='Max Front Load')[0]\n",
      "        fund_oth_params.columns = fund_oth_params.loc[0]\n",
      "        fund_oth_params = pd.DataFrame(pd.Series(fund_oth_params.loc[1])).T.reset_index(drop=True)\n",
      "        fund_oth_params['Fund_Ticker'] = fund_name       \n",
      "        \n",
      "        # Fetching the annualized returns Since Inception\n",
      "        fund_oth_params_ret = pd.read_html(fund_oth_params_url,match='Standardized Return')[0]\n",
      "        fund_oth_params_ret.columns = ['Inception','Return','Tax_Return','Unnamed']\n",
      "        fund_oth_params_ret = fund_oth_params_ret[fund_oth_params_ret['Inception'].str.contains('Inception',na=False)]\n",
      "        fund_oth_params_ret['Fund_Ticker'] = fund_name\n",
      "        fund_oth_params_ret = fund_oth_params_ret[['Fund_Ticker','Inception','Return']].reset_index(drop=True)\n",
      "        var_inc = fund_oth_params_ret['Inception']\n",
      "        start = var_inc[0].find('(')+1\n",
      "        end = var_inc[0].find(')', start)\n",
      "        fund_oth_params_ret['Inception'] = var_inc[0][start:end]\n",
      "\n",
      "        # Fetching Fund Manager Information\n",
      "        fund_management_url = \"http://quotes.morningstar.com/fund/c-management?&t=XNAS:\"+fund_name+\"&region=usa&culture=en-US&cur=\"\n",
      "        fund_management = pd.read_html(fund_management_url,match='Start')[0]\n",
      "        fund_management = fund_management[fund_management[0].notnull()].tail(1).reset_index(drop=True)\n",
      "        fund_management.columns = ['Fund_Manager','Manager_Start_Date']\n",
      "        fund_management['Fund_Ticker'] = fund_name\n",
      "        \n",
      "        # Merging above 3 dataframes\n",
      "        fund_other_params_sub = pd.merge(fund_oth_params_ret,fund_oth_params,on='Fund_Ticker',how='inner')\n",
      "        fund_other_params_sub = pd.merge(fund_other_params_sub,fund_management,on='Fund_Ticker',how='inner')\n",
      "        fund_other_params = fund_other_params.append(fund_other_params_sub)\n",
      "        \n",
      "        # Fetching other parameters like TurnOver Ratio etc.\n",
      "        url_param = urllib2.urlopen(\"http://quotes.morningstar.com/chart/fund/c-banner?&t=XNAS:\"+fund_name+\"&region=usa&culture=en-US&cur=\") # Opens URLS\n",
      "        htmlSource = url_param.read()\n",
      "        param_soup = bs4.BeautifulSoup(htmlSource)\n",
      "        param_table = param_soup.find('table', attrs={'class': 'gr_table_b1'})\n",
      "        param_rows = param_table.findAll('td')\n",
      "        fund_values = {}\n",
      "        i=0\n",
      "        for tr in param_rows:\n",
      "            fund_values_sub = tr.findAll('span')\n",
      "            if len(fund_values_sub) != 0:\n",
      "                fund_values[i] = fund_values_sub[0]\n",
      "                if (i == 2):\n",
      "                    var_total_asset = fund_values_sub[2].contents[3].contents[0].splitlines()[1].strip()          \n",
      "                i = i+1\n",
      "\n",
      "        for j in range(0,len(fund_values)):\n",
      "            try:\n",
      "                fund_values[j] = fund_values[j].contents[1].contents[0].splitlines()[1].strip()\n",
      "            except:\n",
      "                try:\n",
      "                    fund_values[j] = fund_values[j].contents[2].splitlines()[1].strip()\n",
      "                except:\n",
      "                    fund_values[j] = fund_values[j].contents[0].splitlines()[1].strip()\n",
      "\n",
      "        class_series = pd.Series([fund_name,fund_values[0],fund_values[1],fund_values[2],var_total_asset,fund_values[3],\\\n",
      "                                   fund_values[4],fund_values[5],fund_values[6],fund_values[7],fund_values[8],fund_values[9],\\\n",
      "                                   fund_values[10]])\n",
      "\n",
      "        col_df = pd.DataFrame()\n",
      "        col_df = col_df.append(class_series,ignore_index=True)\n",
      "        col_df.columns=class_values\n",
      "        fund_other = fund_other.append(col_df)\n",
      "    except:\n",
      "        print \"Issues in finding paramters for Fund : \",fund_name\n",
      "        \n",
      "fund_other = pd.merge(fund_other,fund_other_params,on='Fund_Ticker',how='inner')        "
     ],
     "language": "python",
     "metadata": {},
     "outputs": [
      {
       "output_type": "stream",
       "stream": "stdout",
       "text": [
        "Fund other paramters :  VFINX\n",
        "Fund other paramters : "
       ]
      },
      {
       "output_type": "stream",
       "stream": "stdout",
       "text": [
        " VBINX\n",
        "Fund other paramters : "
       ]
      },
      {
       "output_type": "stream",
       "stream": "stdout",
       "text": [
        " VCAIX\n",
        "Fund other paramters : "
       ]
      },
      {
       "output_type": "stream",
       "stream": "stdout",
       "text": [
        " VCITX\n",
        "Fund other paramters : "
       ]
      },
      {
       "output_type": "stream",
       "stream": "stdout",
       "text": [
        " VHCOX\n",
        "Fund other paramters : "
       ]
      },
      {
       "output_type": "stream",
       "stream": "stdout",
       "text": [
        " VCVLX\n",
        "Fund other paramters : "
       ]
      },
      {
       "output_type": "stream",
       "stream": "stdout",
       "text": [
        " VCVSX\n",
        "Fund other paramters : "
       ]
      },
      {
       "output_type": "stream",
       "stream": "stdout",
       "text": [
        " VTMGX\n",
        "Fund other paramters : "
       ]
      },
      {
       "output_type": "stream",
       "stream": "stdout",
       "text": [
        " VDEQX\n",
        "Fund other paramters : "
       ]
      },
      {
       "output_type": "stream",
       "stream": "stdout",
       "text": [
        " VDIGX\n",
        "Fund other paramters : "
       ]
      },
      {
       "output_type": "stream",
       "stream": "stdout",
       "text": [
        " VGOVX\n",
        "Fund other paramters : "
       ]
      },
      {
       "output_type": "stream",
       "stream": "stdout",
       "text": [
        " VMMSX\n",
        "Fund other paramters : "
       ]
      },
      {
       "output_type": "stream",
       "stream": "stdout",
       "text": [
        " VEIEX\n",
        "Fund other paramters : "
       ]
      },
      {
       "output_type": "stream",
       "stream": "stdout",
       "text": [
        " VGENX\n",
        "Fund other paramters : "
       ]
      },
      {
       "output_type": "stream",
       "stream": "stdout",
       "text": [
        " VEIPX\n",
        "Fund other paramters : "
       ]
      },
      {
       "output_type": "stream",
       "stream": "stdout",
       "text": [
        " VEURX\n",
        "Fund other paramters : "
       ]
      },
      {
       "output_type": "stream",
       "stream": "stdout",
       "text": [
        " VEXPX\n",
        "Fund other paramters : "
       ]
      },
      {
       "output_type": "stream",
       "stream": "stdout",
       "text": [
        " VEVFX\n",
        "Fund other paramters : "
       ]
      },
      {
       "output_type": "stream",
       "stream": "stdout",
       "text": [
        " VEDTX\n",
        "Fund other paramters : "
       ]
      },
      {
       "output_type": "stream",
       "stream": "stdout",
       "text": [
        " VEXMX\n",
        "Fund other paramters : "
       ]
      },
      {
       "output_type": "stream",
       "stream": "stdout",
       "text": [
        " VFSNX\n",
        "Fund other paramters : "
       ]
      },
      {
       "output_type": "stream",
       "stream": "stdout",
       "text": [
        " VFTSX\n",
        "Fund other paramters : "
       ]
      },
      {
       "output_type": "stream",
       "stream": "stdout",
       "text": [
        " VHGEX\n",
        "Fund other paramters : "
       ]
      },
      {
       "output_type": "stream",
       "stream": "stdout",
       "text": [
        " VGXRX\n",
        "Fund other paramters : "
       ]
      },
      {
       "output_type": "stream",
       "stream": "stdout",
       "text": [
        " VMNVX\n",
        "Fund other paramters : "
       ]
      },
      {
       "output_type": "stream",
       "stream": "stdout",
       "text": [
        " VFIIX\n",
        "Fund other paramters : "
       ]
      },
      {
       "output_type": "stream",
       "stream": "stdout",
       "text": [
        " VQNPX\n",
        "Fund other paramters : "
       ]
      },
      {
       "output_type": "stream",
       "stream": "stdout",
       "text": [
        " VIGRX\n",
        "Fund other paramters : "
       ]
      },
      {
       "output_type": "stream",
       "stream": "stdout",
       "text": [
        " VGHCX\n",
        "Fund other paramters : "
       ]
      },
      {
       "output_type": "stream",
       "stream": "stdout",
       "text": [
        " VWEHX\n",
        "Fund other paramters : "
       ]
      },
      {
       "output_type": "stream",
       "stream": "stdout",
       "text": [
        " VWAHX\n",
        "Fund other paramters : "
       ]
      },
      {
       "output_type": "stream",
       "stream": "stdout",
       "text": [
        " VIPSX\n",
        "Fund other paramters : "
       ]
      },
      {
       "output_type": "stream",
       "stream": "stdout",
       "text": [
        " VINIX\n",
        "Fund other paramters : "
       ]
      },
      {
       "output_type": "stream",
       "stream": "stdout",
       "text": [
        " VITPX\n",
        "Fund other paramters : "
       ]
      },
      {
       "output_type": "stream",
       "stream": "stdout",
       "text": [
        " VBIIX\n",
        "Fund other paramters : "
       ]
      },
      {
       "output_type": "stream",
       "stream": "stdout",
       "text": [
        " VFICX\n",
        "Fund other paramters : "
       ]
      },
      {
       "output_type": "stream",
       "stream": "stdout",
       "text": [
        " VFITX\n",
        "Fund other paramters : "
       ]
      },
      {
       "output_type": "stream",
       "stream": "stdout",
       "text": [
        " VWITX\n",
        "Fund other paramters : "
       ]
      },
      {
       "output_type": "stream",
       "stream": "stdout",
       "text": [
        " VINEX\n",
        "Fund other paramters : "
       ]
      },
      {
       "output_type": "stream",
       "stream": "stdout",
       "text": [
        " VWIGX\n",
        "Fund other paramters : "
       ]
      },
      {
       "output_type": "stream",
       "stream": "stdout",
       "text": [
        " VTRIX\n",
        "Fund other paramters : "
       ]
      },
      {
       "output_type": "stream",
       "stream": "stdout",
       "text": [
        " VSCGX\n",
        "Fund other paramters : "
       ]
      },
      {
       "output_type": "stream",
       "stream": "stdout",
       "text": [
        " VASGX\n",
        "Fund other paramters : "
       ]
      },
      {
       "output_type": "stream",
       "stream": "stdout",
       "text": [
        " VASIX\n",
        "Fund other paramters : "
       ]
      },
      {
       "output_type": "stream",
       "stream": "stdout",
       "text": [
        " VSMGX\n",
        "Fund other paramters : "
       ]
      },
      {
       "output_type": "stream",
       "stream": "stdout",
       "text": [
        " VBLTX\n",
        "Fund other paramters : "
       ]
      },
      {
       "output_type": "stream",
       "stream": "stdout",
       "text": [
        " VLCIX\n",
        "Fund other paramters : "
       ]
      },
      {
       "output_type": "stream",
       "stream": "stdout",
       "text": [
        " VLGIX\n",
        "Fund other paramters : "
       ]
      },
      {
       "output_type": "stream",
       "stream": "stdout",
       "text": [
        " VWESX\n",
        "Fund other paramters : "
       ]
      },
      {
       "output_type": "stream",
       "stream": "stdout",
       "text": [
        " VWLTX\n",
        "Fund other paramters : "
       ]
      },
      {
       "output_type": "stream",
       "stream": "stdout",
       "text": [
        " VUSTX\n",
        "Fund other paramters : "
       ]
      },
      {
       "output_type": "stream",
       "stream": "stdout",
       "text": [
        " VMLTX\n",
        "Fund other paramters : "
       ]
      },
      {
       "output_type": "stream",
       "stream": "stdout",
       "text": [
        " VMATX\n",
        "Fund other paramters : "
       ]
      },
      {
       "output_type": "stream",
       "stream": "stdout",
       "text": [
        " VPGDX\n",
        "Fund other paramters : "
       ]
      },
      {
       "output_type": "stream",
       "stream": "stdout",
       "text": [
        " VMNIX\n",
        "Fund other paramters : "
       ]
      },
      {
       "output_type": "stream",
       "stream": "stdout",
       "text": [
        " VMGRX\n",
        "Fund other paramters : "
       ]
      },
      {
       "output_type": "stream",
       "stream": "stdout",
       "text": [
        " VMCIX\n",
        "Fund other paramters : "
       ]
      },
      {
       "output_type": "stream",
       "stream": "stdout",
       "text": [
        " VMRGX\n",
        "Fund other paramters : "
       ]
      },
      {
       "output_type": "stream",
       "stream": "stdout",
       "text": [
        " VNJTX\n",
        "Fund other paramters : "
       ]
      },
      {
       "output_type": "stream",
       "stream": "stdout",
       "text": [
        " VNYTX\n",
        "Fund other paramters : "
       ]
      },
      {
       "output_type": "stream",
       "stream": "stdout",
       "text": [
        " VOHIX\n",
        "Fund other paramters : "
       ]
      },
      {
       "output_type": "stream",
       "stream": "stdout",
       "text": [
        " VPAIX\n",
        "Fund other paramters : "
       ]
      },
      {
       "output_type": "stream",
       "stream": "stdout",
       "text": [
        " VPACX\n",
        "Fund other paramters : "
       ]
      },
      {
       "output_type": "stream",
       "stream": "stdout",
       "text": [
        " VGPMX\n",
        "Fund other paramters : "
       ]
      },
      {
       "output_type": "stream",
       "stream": "stdout",
       "text": [
        " VPCCX\n",
        "Fund other paramters : "
       ]
      },
      {
       "output_type": "stream",
       "stream": "stdout",
       "text": [
        " VPMCX\n",
        "Fund other paramters : "
       ]
      },
      {
       "output_type": "stream",
       "stream": "stdout",
       "text": [
        " VGSIX\n",
        "Fund other paramters : "
       ]
      },
      {
       "output_type": "stream",
       "stream": "stdout",
       "text": [
        " VASVX\n",
        "Fund other paramters : "
       ]
      },
      {
       "output_type": "stream",
       "stream": "stdout",
       "text": [
        " VBISX\n",
        "Fund other paramters : "
       ]
      },
      {
       "output_type": "stream",
       "stream": "stdout",
       "text": [
        " VSTBX\n",
        "Fund other paramters : "
       ]
      },
      {
       "output_type": "stream",
       "stream": "stdout",
       "text": [
        " VSGBX\n",
        "Fund other paramters : "
       ]
      },
      {
       "output_type": "stream",
       "stream": "stdout",
       "text": [
        " VFSTX\n",
        "Fund other paramters : "
       ]
      },
      {
       "output_type": "stream",
       "stream": "stdout",
       "text": [
        " VFISX\n",
        "Fund other paramters : "
       ]
      },
      {
       "output_type": "stream",
       "stream": "stdout",
       "text": [
        " VWSTX\n",
        "Fund other paramters : "
       ]
      },
      {
       "output_type": "stream",
       "stream": "stdout",
       "text": [
        " VISGX\n",
        "Fund other paramters : "
       ]
      },
      {
       "output_type": "stream",
       "stream": "stdout",
       "text": [
        " NAESX\n",
        "Fund other paramters : "
       ]
      },
      {
       "output_type": "stream",
       "stream": "stdout",
       "text": [
        " VISVX\n",
        "Fund other paramters : "
       ]
      },
      {
       "output_type": "stream",
       "stream": "stdout",
       "text": [
        " VGSTX\n",
        "Fund other paramters : "
       ]
      },
      {
       "output_type": "stream",
       "stream": "stdout",
       "text": [
        " VSEQX\n",
        "Fund other paramters : "
       ]
      },
      {
       "output_type": "stream",
       "stream": "stdout",
       "text": [
        " VSTCX\n",
        "Fund other paramters : "
       ]
      },
      {
       "output_type": "stream",
       "stream": "stdout",
       "text": [
        " VSLPX\n",
        "Fund other paramters : "
       ]
      },
      {
       "output_type": "stream",
       "stream": "stdout",
       "text": [
        " VSBPX\n",
        "Fund other paramters : "
       ]
      },
      {
       "output_type": "stream",
       "stream": "stdout",
       "text": [
        " VTENX\n",
        "Fund other paramters : "
       ]
      },
      {
       "output_type": "stream",
       "stream": "stdout",
       "text": [
        " VTXVX\n",
        "Fund other paramters : "
       ]
      },
      {
       "output_type": "stream",
       "stream": "stdout",
       "text": [
        " VTWNX\n",
        "Fund other paramters : "
       ]
      },
      {
       "output_type": "stream",
       "stream": "stdout",
       "text": [
        " VTTVX\n",
        "Fund other paramters : "
       ]
      },
      {
       "output_type": "stream",
       "stream": "stdout",
       "text": [
        " VTHRX\n",
        "Fund other paramters : "
       ]
      },
      {
       "output_type": "stream",
       "stream": "stdout",
       "text": [
        " VTTHX\n",
        "Fund other paramters : "
       ]
      },
      {
       "output_type": "stream",
       "stream": "stdout",
       "text": [
        " VFORX\n",
        "Fund other paramters : "
       ]
      },
      {
       "output_type": "stream",
       "stream": "stdout",
       "text": [
        " VTIVX\n",
        "Fund other paramters : "
       ]
      },
      {
       "output_type": "stream",
       "stream": "stdout",
       "text": [
        " VFIFX\n",
        "Fund other paramters : "
       ]
      },
      {
       "output_type": "stream",
       "stream": "stdout",
       "text": [
        " VFFVX\n",
        "Fund other paramters : "
       ]
      },
      {
       "output_type": "stream",
       "stream": "stdout",
       "text": [
        " VTTSX\n",
        "Fund other paramters : "
       ]
      },
      {
       "output_type": "stream",
       "stream": "stdout",
       "text": [
        " VTINX\n",
        "Fund other paramters : "
       ]
      },
      {
       "output_type": "stream",
       "stream": "stdout",
       "text": [
        " VTMFX\n",
        "Fund other paramters : "
       ]
      },
      {
       "output_type": "stream",
       "stream": "stdout",
       "text": [
        " VTCIX\n",
        "Fund other paramters : "
       ]
      },
      {
       "output_type": "stream",
       "stream": "stdout",
       "text": [
        " VTMSX\n",
        "Fund other paramters : "
       ]
      },
      {
       "output_type": "stream",
       "stream": "stdout",
       "text": [
        " VTBIX\n",
        "Fund other paramters : "
       ]
      },
      {
       "output_type": "stream",
       "stream": "stdout",
       "text": [
        " VBMFX\n",
        "Fund other paramters : "
       ]
      },
      {
       "output_type": "stream",
       "stream": "stdout",
       "text": [
        " VTIFX\n",
        "Fund other paramters : "
       ]
      },
      {
       "output_type": "stream",
       "stream": "stdout",
       "text": [
        " VGTSX\n",
        "Fund other paramters : "
       ]
      },
      {
       "output_type": "stream",
       "stream": "stdout",
       "text": [
        " VTSMX\n",
        "Fund other paramters : "
       ]
      },
      {
       "output_type": "stream",
       "stream": "stdout",
       "text": [
        " VWUSX\n",
        "Fund other paramters : "
       ]
      },
      {
       "output_type": "stream",
       "stream": "stdout",
       "text": [
        " VUVLX\n",
        "Fund other paramters : "
       ]
      },
      {
       "output_type": "stream",
       "stream": "stdout",
       "text": [
        " VIVAX\n",
        "Fund other paramters : "
       ]
      },
      {
       "output_type": "stream",
       "stream": "stdout",
       "text": [
        " VWINX\n",
        "Fund other paramters : "
       ]
      },
      {
       "output_type": "stream",
       "stream": "stdout",
       "text": [
        " VWELX\n",
        "Fund other paramters : "
       ]
      },
      {
       "output_type": "stream",
       "stream": "stdout",
       "text": [
        " VWNFX\n",
        "Fund other paramters : "
       ]
      },
      {
       "output_type": "stream",
       "stream": "stdout",
       "text": [
        " VWNDX\n",
        "Fund other paramters : "
       ]
      },
      {
       "output_type": "stream",
       "stream": "stdout",
       "text": [
        " AAATX\n",
        "Fund other paramters : "
       ]
      },
      {
       "output_type": "stream",
       "stream": "stdout",
       "text": [
        " AABTX\n",
        "Fund other paramters : "
       ]
      },
      {
       "output_type": "stream",
       "stream": "stdout",
       "text": [
        " AACTX\n",
        "Fund other paramters : "
       ]
      },
      {
       "output_type": "stream",
       "stream": "stdout",
       "text": [
        " AADTX\n",
        "Fund other paramters : "
       ]
      },
      {
       "output_type": "stream",
       "stream": "stdout",
       "text": [
        " AAETX\n",
        "Fund other paramters : "
       ]
      },
      {
       "output_type": "stream",
       "stream": "stdout",
       "text": [
        " AAFTX\n",
        "Fund other paramters : "
       ]
      },
      {
       "output_type": "stream",
       "stream": "stdout",
       "text": [
        " AAGTX\n",
        "Fund other paramters : "
       ]
      },
      {
       "output_type": "stream",
       "stream": "stdout",
       "text": [
        " AAHTX\n",
        "Fund other paramters : "
       ]
      },
      {
       "output_type": "stream",
       "stream": "stdout",
       "text": [
        " AALTX\n",
        "Fund other paramters : "
       ]
      },
      {
       "output_type": "stream",
       "stream": "stdout",
       "text": [
        " AAMTX\n",
        "Fund other paramters : "
       ]
      },
      {
       "output_type": "stream",
       "stream": "stdout",
       "text": [
        " AMCPX\n",
        "Fund other paramters : "
       ]
      },
      {
       "output_type": "stream",
       "stream": "stdout",
       "text": [
        " ABALX\n",
        "Fund other paramters : "
       ]
      },
      {
       "output_type": "stream",
       "stream": "stdout",
       "text": [
        " AHITX\n",
        "Fund other paramters : "
       ]
      },
      {
       "output_type": "stream",
       "stream": "stdout",
       "text": [
        " AMRMX\n",
        "Fund other paramters : "
       ]
      },
      {
       "output_type": "stream",
       "stream": "stdout",
       "text": [
        " CBAAX\n",
        "Fund other paramters : "
       ]
      },
      {
       "output_type": "stream",
       "stream": "stdout",
       "text": [
        " ABNDX\n",
        "Fund other paramters : "
       ]
      },
      {
       "output_type": "stream",
       "stream": "stdout",
       "text": [
        " CAIBX\n",
        "Fund other paramters : "
       ]
      },
      {
       "output_type": "stream",
       "stream": "stdout",
       "text": [
        " CWBFX\n",
        "Fund other paramters : "
       ]
      },
      {
       "output_type": "stream",
       "stream": "stdout",
       "text": [
        " CWGIX\n",
        "Fund other paramters : "
       ]
      },
      {
       "output_type": "stream",
       "stream": "stdout",
       "text": [
        " CFFAX\n",
        "Fund other paramters : "
       ]
      },
      {
       "output_type": "stream",
       "stream": "stdout",
       "text": [
        " CNEAX\n",
        "Fund other paramters : "
       ]
      },
      {
       "output_type": "stream",
       "stream": "stdout",
       "text": [
        " CTOAX\n",
        "Fund other paramters : "
       ]
      },
      {
       "output_type": "stream",
       "stream": "stdout",
       "text": [
        " CFTAX\n",
        "Fund other paramters : "
       ]
      },
      {
       "output_type": "stream",
       "stream": "stdout",
       "text": [
        " CSTAX\n",
        "Fund other paramters : "
       ]
      },
      {
       "output_type": "stream",
       "stream": "stdout",
       "text": [
        " CTHAX\n",
        "Fund other paramters : "
       ]
      },
      {
       "output_type": "stream",
       "stream": "stdout",
       "text": [
        " CENAX\n",
        "Fund other paramters : "
       ]
      },
      {
       "output_type": "stream",
       "stream": "stdout",
       "text": [
        " DWGAX\n",
        "Fund other paramters : "
       ]
      },
      {
       "output_type": "stream",
       "stream": "stdout",
       "text": [
        " AEPGX\n",
        "Fund other paramters : "
       ]
      },
      {
       "output_type": "stream",
       "stream": "stdout",
       "text": [
        " ANCFX\n",
        "Fund other paramters : "
       ]
      },
      {
       "output_type": "stream",
       "stream": "stdout",
       "text": [
        " CBFAX\n",
        "Fund other paramters : "
       ]
      },
      {
       "output_type": "stream",
       "stream": "stdout",
       "text": [
        " CPGAX\n",
        "Fund other paramters : "
       ]
      },
      {
       "output_type": "stream",
       "stream": "stdout",
       "text": [
        " CGNAX\n",
        "Fund other paramters : "
       ]
      },
      {
       "output_type": "stream",
       "stream": "stdout",
       "text": [
        " AGTHX\n",
        "Fund other paramters : "
       ]
      },
      {
       "output_type": "stream",
       "stream": "stdout",
       "text": [
        " CGPAX\n",
        "Fund other paramters : "
       ]
      },
      {
       "output_type": "stream",
       "stream": "stdout",
       "text": [
        " AMECX\n",
        "Fund other paramters : "
       ]
      },
      {
       "output_type": "stream",
       "stream": "stdout",
       "text": [
        " INPAX\n",
        "Fund other paramters : "
       ]
      },
      {
       "output_type": "stream",
       "stream": "stdout",
       "text": [
        " AIBAX\n",
        "Fund other paramters : "
       ]
      },
      {
       "output_type": "stream",
       "stream": "stdout",
       "text": [
        " CGIAX\n",
        "Fund other paramters : "
       ]
      },
      {
       "output_type": "stream",
       "stream": "stdout",
       "text": [
        " AIVSX\n",
        "Fund other paramters : "
       ]
      },
      {
       "output_type": "stream",
       "stream": "stdout",
       "text": [
        " LTEBX\n",
        "Fund other paramters : "
       ]
      },
      {
       "output_type": "stream",
       "stream": "stdout",
       "text": [
        " CMFAX\n",
        "Fund other paramters : "
       ]
      },
      {
       "output_type": "stream",
       "stream": "stdout",
       "text": [
        " ANEFX\n",
        "Fund other paramters : "
       ]
      },
      {
       "output_type": "stream",
       "stream": "stdout",
       "text": [
        " ANWPX\n",
        "Fund other paramters : "
       ]
      },
      {
       "output_type": "stream",
       "stream": "stdout",
       "text": [
        " NEWFX\n",
        "Fund other paramters : "
       ]
      },
      {
       "output_type": "stream",
       "stream": "stdout",
       "text": [
        " PPVAX\n",
        "Fund other paramters : "
       ]
      },
      {
       "output_type": "stream",
       "stream": "stdout",
       "text": [
        " ASTEX\n",
        "Fund other paramters : "
       ]
      },
      {
       "output_type": "stream",
       "stream": "stdout",
       "text": [
        " SMCWX\n",
        "Fund other paramters : "
       ]
      },
      {
       "output_type": "stream",
       "stream": "stdout",
       "text": [
        " ASBAX\n",
        "Fund other paramters : "
       ]
      },
      {
       "output_type": "stream",
       "stream": "stdout",
       "text": [
        " AFTEX\n",
        "Fund other paramters : "
       ]
      },
      {
       "output_type": "stream",
       "stream": "stdout",
       "text": [
        " TAFTX\n",
        "Fund other paramters : "
       ]
      },
      {
       "output_type": "stream",
       "stream": "stdout",
       "text": [
        " NYAAX\n",
        "Fund other paramters : "
       ]
      },
      {
       "output_type": "stream",
       "stream": "stdout",
       "text": [
        " TMMDX\n",
        "Fund other paramters : "
       ]
      },
      {
       "output_type": "stream",
       "stream": "stdout",
       "text": [
        " TEPAX\n",
        "Fund other paramters : "
       ]
      },
      {
       "output_type": "stream",
       "stream": "stdout",
       "text": [
        " TFVAX\n",
        "Fund other paramters : "
       ]
      },
      {
       "output_type": "stream",
       "stream": "stdout",
       "text": [
        " TAIAX\n",
        "Fund other paramters : "
       ]
      },
      {
       "output_type": "stream",
       "stream": "stdout",
       "text": [
        " AMUSX\n",
        "Fund other paramters : "
       ]
      },
      {
       "output_type": "stream",
       "stream": "stdout",
       "text": [
        " AWSHX\n",
        "Fund other paramters : "
       ]
      },
      {
       "output_type": "stream",
       "stream": "stdout",
       "text": [
        " AMHIX\n",
        "Fund other paramters : "
       ]
      },
      {
       "output_type": "stream",
       "stream": "stdout",
       "text": [
        " PAUIX\n",
        "Fund other paramters : "
       ]
      },
      {
       "output_type": "stream",
       "stream": "stdout",
       "text": [
        " PAAIX\n",
        "Fund other paramters : "
       ]
      },
      {
       "output_type": "stream",
       "stream": "stdout",
       "text": [
        " PBIAX\n",
        "Fund other paramters : "
       ]
      },
      {
       "output_type": "stream",
       "stream": "stdout",
       "text": [
        " PCIMX\n",
        "Fund other paramters : "
       ]
      },
      {
       "output_type": "stream",
       "stream": "stdout",
       "text": [
        " PCDAX\n",
        "Fund other paramters : "
       ]
      },
      {
       "output_type": "stream",
       "stream": "stdout",
       "text": [
        " PCTTX\n",
        "Fund other paramters : "
       ]
      },
      {
       "output_type": "stream",
       "stream": "stdout",
       "text": [
        " PCLAX\n",
        "Fund other paramters : "
       ]
      },
      {
       "output_type": "stream",
       "stream": "stdout",
       "text": [
        " PCRIX\n",
        "Fund other paramters : "
       ]
      },
      {
       "output_type": "stream",
       "stream": "stdout",
       "text": [
        " PFCIX\n",
        "Fund other paramters : "
       ]
      },
      {
       "output_type": "stream",
       "stream": "stdout",
       "text": [
        " PZCRX\n",
        "Fund other paramters : "
       ]
      },
      {
       "output_type": "stream",
       "stream": "stdout",
       "text": [
        " PDVAX\n",
        "Fund other paramters : "
       ]
      },
      {
       "output_type": "stream",
       "stream": "stdout",
       "text": [
        " PQIZX\n",
        "Fund other paramters : "
       ]
      },
      {
       "output_type": "stream",
       "stream": "stdout",
       "text": [
        " PEFIX\n",
        "Fund other paramters : "
       ]
      },
      {
       "output_type": "stream",
       "stream": "stdout",
       "text": [
        " PFSSX\n",
        "Fund other paramters : "
       ]
      },
      {
       "output_type": "stream",
       "stream": "stdout",
       "text": [
        " PELBX\n",
        "Fund other paramters : "
       ]
      },
      {
       "output_type": "stream",
       "stream": "stdout",
       "text": [
        " PAEMX\n",
        "Fund other paramters : "
       ]
      },
      {
       "output_type": "stream",
       "stream": "stdout",
       "text": [
        " PEMIX\n",
        "Fund other paramters : "
       ]
      },
      {
       "output_type": "stream",
       "stream": "stdout",
       "text": [
        " PLMAX\n",
        "Fund other paramters : "
       ]
      },
      {
       "output_type": "stream",
       "stream": "stdout",
       "text": [
        " PEAAX\n",
        "Fund other paramters : "
       ]
      },
      {
       "output_type": "stream",
       "stream": "stdout",
       "text": [
        " PLVVX\n",
        "Fund other paramters : "
       ]
      },
      {
       "output_type": "stream",
       "stream": "stdout",
       "text": [
        " PATHX\n",
        "Fund other paramters : "
       ]
      },
      {
       "output_type": "stream",
       "stream": "stdout",
       "text": [
        " PQDAX\n",
        "Fund other paramters : "
       ]
      },
      {
       "output_type": "stream",
       "stream": "stdout",
       "text": [
        " PEQAX\n",
        "Fund other paramters : "
       ]
      },
      {
       "output_type": "stream",
       "stream": "stdout",
       "text": [
        " PMHIX\n",
        "Fund other paramters : "
       ]
      },
      {
       "output_type": "stream",
       "stream": "stdout",
       "text": [
        " PEDIX\n",
        "Fund other paramters : "
       ]
      },
      {
       "output_type": "stream",
       "stream": "stdout",
       "text": [
        " PFIAX\n",
        "Fund other paramters : "
       ]
      },
      {
       "output_type": "stream",
       "stream": "stdout",
       "text": [
        " PFUIX\n",
        "Fund other paramters : "
       ]
      },
      {
       "output_type": "stream",
       "stream": "stdout",
       "text": [
        " PFORX\n",
        "Fund other paramters : "
       ]
      },
      {
       "output_type": "stream",
       "stream": "stdout",
       "text": [
        " PFATX\n",
        "Fund other paramters : "
       ]
      },
      {
       "output_type": "stream",
       "stream": "stdout",
       "text": [
        " PIXAX\n",
        "Fund other paramters : "
       ]
      },
      {
       "output_type": "stream",
       "stream": "stdout",
       "text": [
        " PGSAX\n",
        "Fund other paramters : "
       ]
      },
      {
       "output_type": "stream",
       "stream": "stdout",
       "text": [
        " PIGLX\n",
        "Fund other paramters : "
       ]
      },
      {
       "output_type": "stream",
       "stream": "stdout",
       "text": [
        " PAIIX\n",
        "Fund other paramters : "
       ]
      },
      {
       "output_type": "stream",
       "stream": "stdout",
       "text": [
        " PGMAX\n",
        "Fund other paramters : "
       ]
      },
      {
       "output_type": "stream",
       "stream": "stdout",
       "text": [
        " PDMIX\n",
        "Fund other paramters : "
       ]
      },
      {
       "output_type": "stream",
       "stream": "stdout",
       "text": [
        " PHIYX\n",
        "Fund other paramters : "
       ]
      },
      {
       "output_type": "stream",
       "stream": "stdout",
       "text": [
        " PYMAX\n",
        "Fund other paramters : "
       ]
      },
      {
       "output_type": "stream",
       "stream": "stdout",
       "text": [
        " PHSAX\n",
        "Fund other paramters : "
       ]
      },
      {
       "output_type": "stream",
       "stream": "stdout",
       "text": [
        " PONAX\n",
        "Fund other paramters : "
       ]
      },
      {
       "output_type": "stream",
       "stream": "stdout",
       "text": [
        " PZRMX\n",
        "Fund other paramters : "
       ]
      },
      {
       "output_type": "stream",
       "stream": "stdout",
       "text": [
        " PTSIX\n",
        "Fund other paramters : "
       ]
      },
      {
       "output_type": "stream",
       "stream": "stdout",
       "text": [
        " PLVBX\n",
        "Fund other paramters : "
       ]
      },
      {
       "output_type": "stream",
       "stream": "stdout",
       "text": [
        " PPUAX\n",
        "Fund other paramters : "
       ]
      },
      {
       "output_type": "stream",
       "stream": "stdout",
       "text": [
        " PIPAX\n",
        "Fund other paramters : "
       ]
      },
      {
       "output_type": "stream",
       "stream": "stdout",
       "text": [
        " PIGIX\n",
        "Fund other paramters : "
       ]
      },
      {
       "output_type": "stream",
       "stream": "stdout",
       "text": [
        " PLRIX\n",
        "Fund other paramters : "
       ]
      },
      {
       "output_type": "stream",
       "stream": "stdout",
       "text": [
        " PTCIX\n",
        "Fund other paramters : "
       ]
      },
      {
       "output_type": "stream",
       "stream": "stdout",
       "text": [
        " PGOVX\n",
        "Fund other paramters : "
       ]
      },
      {
       "output_type": "stream",
       "stream": "stdout",
       "text": [
        " PLDTX\n",
        "Fund other paramters : "
       ]
      },
      {
       "output_type": "stream",
       "stream": "stdout",
       "text": [
        " PLDIX\n",
        "Fund other paramters : "
       ]
      },
      {
       "output_type": "stream",
       "stream": "stdout",
       "text": [
        " PTLDX\n",
        "Fund other paramters : "
       ]
      },
      {
       "output_type": "stream",
       "stream": "stdout",
       "text": [
        " PXLVX\n",
        "Fund other paramters : "
       ]
      },
      {
       "output_type": "stream",
       "stream": "stdout",
       "text": [
        " PMDRX\n",
        "Fund other paramters : "
       ]
      },
      {
       "output_type": "stream",
       "stream": "stdout",
       "text": [
        " PMZAX\n",
        "Fund other paramters : "
       ]
      },
      {
       "output_type": "stream",
       "stream": "stdout",
       "text": [
        " PTRIX\n",
        "Fund other paramters : "
       ]
      },
      {
       "output_type": "stream",
       "stream": "stdout",
       "text": [
        " PFMIX\n",
        "Fund other paramters : "
       ]
      },
      {
       "output_type": "stream",
       "stream": "stdout",
       "text": [
        " PMNTX\n",
        "Fund other paramters : "
       ]
      },
      {
       "output_type": "stream",
       "stream": "stdout",
       "text": [
        " PNYIX\n",
        "Fund other paramters : "
       ]
      },
      {
       "output_type": "stream",
       "stream": "stdout",
       "text": [
        " PETAX\n",
        "Fund other paramters : "
       ]
      },
      {
       "output_type": "stream",
       "stream": "stdout",
       "text": [
        " PRTNX\n",
        "Fund other paramters : "
       ]
      },
      {
       "output_type": "stream",
       "stream": "stdout",
       "text": [
        " PRAIX\n",
        "Fund other paramters : "
       ]
      },
      {
       "output_type": "stream",
       "stream": "stdout",
       "text": [
        " PTNYX\n",
        "Fund other paramters : "
       ]
      },
      {
       "output_type": "stream",
       "stream": "stdout",
       "text": [
        " PTYAX\n",
        "Fund other paramters : "
       ]
      },
      {
       "output_type": "stream",
       "stream": "stdout",
       "text": [
        " PENZX\n",
        "Fund other paramters : "
       ]
      },
      {
       "output_type": "stream",
       "stream": "stdout",
       "text": [
        " PEHAX\n",
        "Fund other paramters : "
       ]
      },
      {
       "output_type": "stream",
       "stream": "stdout",
       "text": [
        " PIVAX\n",
        "Fund other paramters : "
       ]
      },
      {
       "output_type": "stream",
       "stream": "stdout",
       "text": [
        " POFAX\n",
        "Fund other paramters : "
       ]
      },
      {
       "output_type": "stream",
       "stream": "stdout",
       "text": [
        " PFZAX\n",
        "Fund other paramters : "
       ]
      },
      {
       "output_type": "stream",
       "stream": "stdout",
       "text": [
        " PFYAX\n",
        "Fund other paramters : "
       ]
      },
      {
       "output_type": "stream",
       "stream": "stdout",
       "text": [
        " PTNAX\n",
        "Fund other paramters : "
       ]
      },
      {
       "output_type": "stream",
       "stream": "stdout",
       "text": [
        " PSRZX\n",
        "Fund other paramters : "
       ]
      },
      {
       "output_type": "stream",
       "stream": "stdout",
       "text": [
        " PAIAX\n",
        "Fund other paramters : "
       ]
      },
      {
       "output_type": "stream",
       "stream": "stdout",
       "text": [
        " PSDIX\n",
        "Fund other paramters : "
       ]
      },
      {
       "output_type": "stream",
       "stream": "stdout",
       "text": [
        " PTSHX\n",
        "Fund other paramters : "
       ]
      },
      {
       "output_type": "stream",
       "stream": "stdout",
       "text": [
        " PCFIX\n",
        "Fund other paramters : "
       ]
      },
      {
       "output_type": "stream",
       "stream": "stdout",
       "text": [
        " PSCSX\n",
        "Fund other paramters : "
       ]
      },
      {
       "output_type": "stream",
       "stream": "stdout",
       "text": [
        " PSPTX\n",
        "Fund other paramters : "
       ]
      },
      {
       "output_type": "stream",
       "stream": "stdout",
       "text": [
        " PSTIX\n",
        "Fund other paramters : "
       ]
      },
      {
       "output_type": "stream",
       "stream": "stdout",
       "text": [
        " PSTKX\n",
        "Fund other paramters : "
       ]
      },
      {
       "output_type": "stream",
       "stream": "stdout",
       "text": [
        " PSLDX\n",
        "Fund other paramters : "
       ]
      },
      {
       "output_type": "stream",
       "stream": "stdout",
       "text": [
        " PTXAX\n",
        "Fund other paramters : "
       ]
      },
      {
       "output_type": "stream",
       "stream": "stdout",
       "text": [
        " PMBIX\n",
        "Fund other paramters : "
       ]
      },
      {
       "output_type": "stream",
       "stream": "stdout",
       "text": [
        " PTSAX\n",
        "Fund other paramters : "
       ]
      },
      {
       "output_type": "stream",
       "stream": "stdout",
       "text": [
        " PTTRX\n",
        "Fund other paramters : "
       ]
      },
      {
       "output_type": "stream",
       "stream": "stdout",
       "text": [
        " PTUZX\n",
        "Fund other paramters : "
       ]
      },
      {
       "output_type": "stream",
       "stream": "stdout",
       "text": [
        " PQTAX\n",
        "Fund other paramters : "
       ]
      },
      {
       "output_type": "stream",
       "stream": "stdout",
       "text": [
        " PUBAX\n",
        "Fund other paramters : "
       ]
      },
      {
       "output_type": "stream",
       "stream": "stdout",
       "text": [
        " ATMAX\n",
        "Fund other paramters : "
       ]
      },
      {
       "output_type": "stream",
       "stream": "stdout",
       "text": [
        " PWWIX\n",
        "Fund other paramters : "
       ]
      },
      {
       "output_type": "stream",
       "stream": "stdout",
       "text": [
        " TRAMX\n",
        "Fund other paramters : "
       ]
      },
      {
       "output_type": "stream",
       "stream": "stdout",
       "text": [
        " PAAOX\n",
        "Fund other paramters : "
       ]
      },
      {
       "output_type": "stream",
       "stream": "stdout",
       "text": [
        " RPBAX\n",
        "Fund other paramters : "
       ]
      },
      {
       "output_type": "stream",
       "stream": "stdout",
       "text": [
        " TRBCX\n",
        "Fund other paramters : "
       ]
      },
      {
       "output_type": "stream",
       "stream": "stdout",
       "text": [
        " PRXCX\n",
        "Fund other paramters : "
       ]
      },
      {
       "output_type": "stream",
       "stream": "stdout",
       "text": [
        " PRWCX\n",
        "Fund other paramters : "
       ]
      },
      {
       "output_type": "stream",
       "stream": "stdout",
       "text": [
        " PRCOX\n",
        "Fund other paramters : "
       ]
      },
      {
       "output_type": "stream",
       "stream": "stdout",
       "text": [
        " PRPIX\n",
        "Fund other paramters : "
       ]
      },
      {
       "output_type": "stream",
       "stream": "stdout",
       "text": [
        " PAOPX\n",
        "Fund other paramters : "
       ]
      },
      {
       "output_type": "stream",
       "stream": "stdout",
       "text": [
        " PRDMX\n",
        "Fund other paramters : "
       ]
      },
      {
       "output_type": "stream",
       "stream": "stdout",
       "text": [
        " PRDSX\n",
        "Fund other paramters : "
       ]
      },
      {
       "output_type": "stream",
       "stream": "stdout",
       "text": [
        " PRDGX\n",
        "Fund other paramters : "
       ]
      },
      {
       "output_type": "stream",
       "stream": "stdout",
       "text": [
        " PAELX\n",
        "Fund other paramters : "
       ]
      },
      {
       "output_type": "stream",
       "stream": "stdout",
       "text": [
        " TREMX\n",
        "Fund other paramters : "
       ]
      },
      {
       "output_type": "stream",
       "stream": "stdout",
       "text": [
        " PREMX\n",
        "Fund other paramters : "
       ]
      },
      {
       "output_type": "stream",
       "stream": "stdout",
       "text": [
        " PRMSX\n",
        "Fund other paramters : "
       ]
      },
      {
       "output_type": "stream",
       "stream": "stdout",
       "text": [
        " PACEX\n",
        "Fund other paramters : "
       ]
      },
      {
       "output_type": "stream",
       "stream": "stdout",
       "text": [
        " PRFDX\n",
        "Fund other paramters : "
       ]
      },
      {
       "output_type": "stream",
       "stream": "stdout",
       "text": [
        " PREIX\n",
        "Fund other paramters : "
       ]
      },
      {
       "output_type": "stream",
       "stream": "stdout",
       "text": [
        " PRESX\n",
        "Fund other paramters : "
       ]
      },
      {
       "output_type": "stream",
       "stream": "stdout",
       "text": [
        " PEXMX\n",
        "Fund other paramters : "
       ]
      },
      {
       "output_type": "stream",
       "stream": "stdout",
       "text": [
        " PRISX\n",
        "Fund other paramters : "
       ]
      },
      {
       "output_type": "stream",
       "stream": "stdout",
       "text": [
        " PAFRX\n",
        "Fund other paramters : "
       ]
      },
      {
       "output_type": "stream",
       "stream": "stdout",
       "text": [
        " GTFBX\n",
        "Fund other paramters : "
       ]
      },
      {
       "output_type": "stream",
       "stream": "stdout",
       "text": [
        " PAGLX\n",
        "Fund other paramters : "
       ]
      },
      {
       "output_type": "stream",
       "stream": "stdout",
       "text": [
        " PAFGX\n",
        "Fund other paramters : "
       ]
      },
      {
       "output_type": "stream",
       "stream": "stdout",
       "text": [
        " RPGIX\n",
        "Fund other paramters : "
       ]
      },
      {
       "output_type": "stream",
       "stream": "stdout",
       "text": [
        " PAGEX\n",
        "Fund other paramters : "
       ]
      },
      {
       "output_type": "stream",
       "stream": "stdout",
       "text": [
        " PRGSX\n",
        "Fund other paramters : "
       ]
      },
      {
       "output_type": "stream",
       "stream": "stdout",
       "text": [
        " PRGTX\n",
        "Fund other paramters : "
       ]
      },
      {
       "output_type": "stream",
       "stream": "stdout",
       "text": [
        " PRGMX\n",
        "Fund other paramters : "
       ]
      },
      {
       "output_type": "stream",
       "stream": "stdout",
       "text": [
        " PRGIX\n",
        "Fund other paramters : "
       ]
      },
      {
       "output_type": "stream",
       "stream": "stdout",
       "text": [
        " PRGFX\n",
        "Fund other paramters : "
       ]
      },
      {
       "output_type": "stream",
       "stream": "stdout",
       "text": [
        " PRHSX\n",
        "Fund other paramters : "
       ]
      },
      {
       "output_type": "stream",
       "stream": "stdout",
       "text": [
        " PRHYX\n",
        "Fund other paramters : "
       ]
      },
      {
       "output_type": "stream",
       "stream": "stdout",
       "text": [
        " PRIPX\n",
        "Fund other paramters : "
       ]
      },
      {
       "output_type": "stream",
       "stream": "stdout",
       "text": [
        " TRIAX\n",
        "Fund other paramters : "
       ]
      },
      {
       "output_type": "stream",
       "stream": "stdout",
       "text": [
        " RPICX\n",
        "Fund other paramters : "
       ]
      },
      {
       "output_type": "stream",
       "stream": "stdout",
       "text": [
        " TRXPX\n",
        "Fund other paramters : "
       ]
      },
      {
       "output_type": "stream",
       "stream": "stdout",
       "text": [
        " TICPX\n",
        "Fund other paramters : "
       ]
      },
      {
       "output_type": "stream",
       "stream": "stdout",
       "text": [
        " TREBX\n",
        "Fund other paramters : "
       ]
      },
      {
       "output_type": "stream",
       "stream": "stdout",
       "text": [
        " IEMFX\n",
        "Fund other paramters : "
       ]
      },
      {
       "output_type": "stream",
       "stream": "stdout",
       "text": [
        " RPIFX\n",
        "Fund other paramters : "
       ]
      },
      {
       "output_type": "stream",
       "stream": "stdout",
       "text": [
        " TRGSX\n",
        "Fund other paramters : "
       ]
      },
      {
       "output_type": "stream",
       "stream": "stdout",
       "text": [
        " RPIGX\n",
        "Fund other paramters : "
       ]
      },
      {
       "output_type": "stream",
       "stream": "stdout",
       "text": [
        " RPGMX\n",
        "Fund other paramters : "
       ]
      },
      {
       "output_type": "stream",
       "stream": "stdout",
       "text": [
        " PRIGX\n",
        "Fund other paramters : "
       ]
      },
      {
       "output_type": "stream",
       "stream": "stdout",
       "text": [
        " TRHYX\n",
        "Fund other paramters : "
       ]
      },
      {
       "output_type": "stream",
       "stream": "stdout",
       "text": [
        " RPIIX\n",
        "Fund other paramters : "
       ]
      },
      {
       "output_type": "stream",
       "stream": "stdout",
       "text": [
        " TRCEX\n",
        "Fund other paramters : "
       ]
      },
      {
       "output_type": "stream",
       "stream": "stdout",
       "text": [
        " PRFEX\n",
        "Fund other paramters : "
       ]
      },
      {
       "output_type": "stream",
       "stream": "stdout",
       "text": [
        " TPLGX\n",
        "Fund other paramters : "
       ]
      },
      {
       "output_type": "stream",
       "stream": "stdout",
       "text": [
        " TRLGX\n",
        "Fund other paramters : "
       ]
      },
      {
       "output_type": "stream",
       "stream": "stdout",
       "text": [
        " TILCX\n",
        "Fund other paramters : "
       ]
      },
      {
       "output_type": "stream",
       "stream": "stdout",
       "text": [
        " RPLCX\n",
        "Fund other paramters : "
       ]
      },
      {
       "output_type": "stream",
       "stream": "stdout",
       "text": [
        " PMEGX\n",
        "Fund other paramters : "
       ]
      },
      {
       "output_type": "stream",
       "stream": "stdout",
       "text": [
        " TRSSX\n",
        "Issues in finding paramters for Fund : "
       ]
      },
      {
       "output_type": "stream",
       "stream": "stdout",
       "text": [
        " TRSSX\n",
        "Fund other paramters :  TRISX\n",
        "Fund other paramters : "
       ]
      },
      {
       "output_type": "stream",
       "stream": "stdout",
       "text": [
        " RPIBX\n",
        "Fund other paramters : "
       ]
      },
      {
       "output_type": "stream",
       "stream": "stdout",
       "text": [
        " PRIDX\n",
        "Fund other paramters : "
       ]
      },
      {
       "output_type": "stream",
       "stream": "stdout",
       "text": [
        " PIEQX\n",
        "Fund other paramters : "
       ]
      },
      {
       "output_type": "stream",
       "stream": "stdout",
       "text": [
        " PRITX\n",
        "Fund other paramters : "
       ]
      },
      {
       "output_type": "stream",
       "stream": "stdout",
       "text": [
        " TRIGX\n",
        "Fund other paramters : "
       ]
      },
      {
       "output_type": "stream",
       "stream": "stdout",
       "text": [
        " PRJPX\n",
        "Fund other paramters : "
       ]
      },
      {
       "output_type": "stream",
       "stream": "stdout",
       "text": [
        " PRLAX\n",
        "Fund other paramters : "
       ]
      },
      {
       "output_type": "stream",
       "stream": "stdout",
       "text": [
        " PRMDX\n",
        "Fund other paramters : "
       ]
      },
      {
       "output_type": "stream",
       "stream": "stdout",
       "text": [
        " MDXBX\n",
        "Fund other paramters : "
       ]
      },
      {
       "output_type": "stream",
       "stream": "stdout",
       "text": [
        " PRMTX\n",
        "Fund other paramters : "
       ]
      },
      {
       "output_type": "stream",
       "stream": "stdout",
       "text": [
        " RPMGX\n",
        "Fund other paramters : "
       ]
      },
      {
       "output_type": "stream",
       "stream": "stdout",
       "text": [
        " TRMCX\n",
        "Fund other paramters : "
       ]
      },
      {
       "output_type": "stream",
       "stream": "stdout",
       "text": [
        " PRWAX\n",
        "Fund other paramters : "
       ]
      },
      {
       "output_type": "stream",
       "stream": "stdout",
       "text": [
        " PRASX\n",
        "Fund other paramters : "
       ]
      },
      {
       "output_type": "stream",
       "stream": "stdout",
       "text": [
        " PRNEX\n",
        "Fund other paramters : "
       ]
      },
      {
       "output_type": "stream",
       "stream": "stdout",
       "text": [
        " PRNHX\n",
        "Fund other paramters : "
       ]
      },
      {
       "output_type": "stream",
       "stream": "stdout",
       "text": [
        " PRCIX\n",
        "Fund other paramters : "
       ]
      },
      {
       "output_type": "stream",
       "stream": "stdout",
       "text": [
        " NJTFX\n",
        "Fund other paramters : "
       ]
      },
      {
       "output_type": "stream",
       "stream": "stdout",
       "text": [
        " PRNYX\n",
        "Fund other paramters : "
       ]
      },
      {
       "output_type": "stream",
       "stream": "stdout",
       "text": [
        " TROSX\n",
        "Fund other paramters : "
       ]
      },
      {
       "output_type": "stream",
       "stream": "stdout",
       "text": [
        " TRPBX\n",
        "Fund other paramters : "
       ]
      },
      {
       "output_type": "stream",
       "stream": "stdout",
       "text": [
        " TRSGX\n",
        "Fund other paramters : "
       ]
      },
      {
       "output_type": "stream",
       "stream": "stdout",
       "text": [
        " PRSIX\n",
        "Fund other paramters : "
       ]
      },
      {
       "output_type": "stream",
       "stream": "stdout",
       "text": [
        " PRAFX\n",
        "Fund other paramters : "
       ]
      },
      {
       "output_type": "stream",
       "stream": "stdout",
       "text": [
        " TRREX\n",
        "Fund other paramters : "
       ]
      },
      {
       "output_type": "stream",
       "stream": "stdout",
       "text": [
        " TRRFX\n",
        "Fund other paramters : "
       ]
      },
      {
       "output_type": "stream",
       "stream": "stdout",
       "text": [
        " TRRAX\n",
        "Fund other paramters : "
       ]
      },
      {
       "output_type": "stream",
       "stream": "stdout",
       "text": [
        " TRRGX\n",
        "Fund other paramters : "
       ]
      },
      {
       "output_type": "stream",
       "stream": "stdout",
       "text": [
        " TRRBX\n",
        "Fund other paramters : "
       ]
      },
      {
       "output_type": "stream",
       "stream": "stdout",
       "text": [
        " TRRHX\n",
        "Fund other paramters : "
       ]
      },
      {
       "output_type": "stream",
       "stream": "stdout",
       "text": [
        " TRRCX\n",
        "Fund other paramters : "
       ]
      },
      {
       "output_type": "stream",
       "stream": "stdout",
       "text": [
        " TRRJX\n",
        "Fund other paramters : "
       ]
      },
      {
       "output_type": "stream",
       "stream": "stdout",
       "text": [
        " TRRDX\n",
        "Fund other paramters : "
       ]
      },
      {
       "output_type": "stream",
       "stream": "stdout",
       "text": [
        " TRRKX\n",
        "Fund other paramters : "
       ]
      },
      {
       "output_type": "stream",
       "stream": "stdout",
       "text": [
        " PARFX\n",
        "Fund other paramters : "
       ]
      },
      {
       "output_type": "stream",
       "stream": "stdout",
       "text": [
        " TRRNX\n",
        "Fund other paramters : "
       ]
      },
      {
       "output_type": "stream",
       "stream": "stdout",
       "text": [
        " TRRYX\n",
        "Fund other paramters : "
       ]
      },
      {
       "output_type": "stream",
       "stream": "stdout",
       "text": [
        " TRRIX\n",
        "Fund other paramters : "
       ]
      },
      {
       "output_type": "stream",
       "stream": "stdout",
       "text": [
        " PRSCX\n",
        "Fund other paramters : "
       ]
      },
      {
       "output_type": "stream",
       "stream": "stdout",
       "text": [
        " PRWBX\n",
        "Fund other paramters : "
       ]
      },
      {
       "output_type": "stream",
       "stream": "stdout",
       "text": [
        " OTCFX\n",
        "Fund other paramters : "
       ]
      },
      {
       "output_type": "stream",
       "stream": "stdout",
       "text": [
        " PRSVX\n",
        "Fund other paramters : "
       ]
      },
      {
       "output_type": "stream",
       "stream": "stdout",
       "text": [
        " PRSGX\n",
        "Fund other paramters : "
       ]
      },
      {
       "output_type": "stream",
       "stream": "stdout",
       "text": [
        " RPSIX\n",
        "Fund other paramters : "
       ]
      },
      {
       "output_type": "stream",
       "stream": "stdout",
       "text": [
        " PSILX\n",
        "Fund other paramters : "
       ]
      },
      {
       "output_type": "stream",
       "stream": "stdout",
       "text": [
        " PRSAX\n",
        "Fund other paramters : "
       ]
      },
      {
       "output_type": "stream",
       "stream": "stdout",
       "text": [
        " PRINX\n",
        "Fund other paramters : "
       ]
      },
      {
       "output_type": "stream",
       "stream": "stdout",
       "text": [
        " PRSMX\n",
        "Fund other paramters : "
       ]
      },
      {
       "output_type": "stream",
       "stream": "stdout",
       "text": [
        " PANRX\n",
        "Fund other paramters : "
       ]
      },
      {
       "output_type": "stream",
       "stream": "stdout",
       "text": [
        " PAERX\n",
        "Fund other paramters : "
       ]
      },
      {
       "output_type": "stream",
       "stream": "stdout",
       "text": [
        " PAHRX\n",
        "Fund other paramters : "
       ]
      },
      {
       "output_type": "stream",
       "stream": "stdout",
       "text": [
        " PAIRX\n",
        "Fund other paramters : "
       ]
      },
      {
       "output_type": "stream",
       "stream": "stdout",
       "text": [
        " PAJRX\n",
        "Fund other paramters : "
       ]
      },
      {
       "output_type": "stream",
       "stream": "stdout",
       "text": [
        " PAKRX\n",
        "Fund other paramters : "
       ]
      },
      {
       "output_type": "stream",
       "stream": "stdout",
       "text": [
        " PATVX\n",
        "Fund other paramters : "
       ]
      },
      {
       "output_type": "stream",
       "stream": "stdout",
       "text": [
        " PAHHX\n",
        "Fund other paramters : "
       ]
      },
      {
       "output_type": "stream",
       "stream": "stdout",
       "text": [
        " PAFFX\n",
        "Fund other paramters : "
       ]
      },
      {
       "output_type": "stream",
       "stream": "stdout",
       "text": [
        " PAOFX\n",
        "Fund other paramters : "
       ]
      },
      {
       "output_type": "stream",
       "stream": "stdout",
       "text": [
        " PAFTX\n",
        "Fund other paramters : "
       ]
      },
      {
       "output_type": "stream",
       "stream": "stdout",
       "text": [
        " TRTGX\n",
        "Fund other paramters : "
       ]
      },
      {
       "output_type": "stream",
       "stream": "stdout",
       "text": [
        " PREFX\n",
        "Fund other paramters : "
       ]
      },
      {
       "output_type": "stream",
       "stream": "stdout",
       "text": [
        " PRFHX\n",
        "Fund other paramters : "
       ]
      },
      {
       "output_type": "stream",
       "stream": "stdout",
       "text": [
        " PRTAX\n",
        "Fund other paramters : "
       ]
      },
      {
       "output_type": "stream",
       "stream": "stdout",
       "text": [
        " PRFSX\n",
        "Fund other paramters : "
       ]
      },
      {
       "output_type": "stream",
       "stream": "stdout",
       "text": [
        " POMIX\n",
        "Fund other paramters : "
       ]
      },
      {
       "output_type": "stream",
       "stream": "stdout",
       "text": [
        " PBDIX\n",
        "Fund other paramters : "
       ]
      },
      {
       "output_type": "stream",
       "stream": "stdout",
       "text": [
        " TRBUX\n",
        "Fund other paramters : "
       ]
      },
      {
       "output_type": "stream",
       "stream": "stdout",
       "text": [
        " PAULX\n",
        "Fund other paramters : "
       ]
      },
      {
       "output_type": "stream",
       "stream": "stdout",
       "text": [
        " PRTIX\n",
        "Fund other paramters : "
       ]
      },
      {
       "output_type": "stream",
       "stream": "stdout",
       "text": [
        " PRULX\n",
        "Fund other paramters : "
       ]
      },
      {
       "output_type": "stream",
       "stream": "stdout",
       "text": [
        " PRVAX\n",
        "Fund other paramters : "
       ]
      },
      {
       "output_type": "stream",
       "stream": "stdout",
       "text": [
        " TRVLX\n",
        "Fund other paramters : "
       ]
      },
      {
       "output_type": "stream",
       "stream": "stdout",
       "text": [
        " JASAX\n",
        "Fund other paramters : "
       ]
      },
      {
       "output_type": "stream",
       "stream": "stdout",
       "text": [
        " JAPFX\n",
        "Fund other paramters : "
       ]
      },
      {
       "output_type": "stream",
       "stream": "stdout",
       "text": [
        " JPICX\n",
        "Fund other paramters : "
       ]
      },
      {
       "output_type": "stream",
       "stream": "stdout",
       "text": [
        " JCHAX\n",
        "Fund other paramters : "
       ]
      },
      {
       "output_type": "stream",
       "stream": "stdout",
       "text": [
        " CSAFX\n",
        "Fund other paramters : "
       ]
      },
      {
       "output_type": "stream",
       "stream": "stdout",
       "text": [
        " WOBDX\n",
        "Fund other paramters : "
       ]
      },
      {
       "output_type": "stream",
       "stream": "stdout",
       "text": [
        " ONIAX\n",
        "Fund other paramters : "
       ]
      },
      {
       "output_type": "stream",
       "stream": "stdout",
       "text": [
        " CBRAX\n",
        "Fund other paramters : "
       ]
      },
      {
       "output_type": "stream",
       "stream": "stdout",
       "text": [
        " JPCIX\n",
        "Fund other paramters : "
       ]
      },
      {
       "output_type": "stream",
       "stream": "stdout",
       "text": [
        " JPIEX\n",
        "Fund other paramters : "
       ]
      },
      {
       "output_type": "stream",
       "stream": "stdout",
       "text": [
        " JPDVX\n",
        "Fund other paramters : "
       ]
      },
      {
       "output_type": "stream",
       "stream": "stdout",
       "text": [
        " JRNAX\n",
        "Fund other paramters : "
       ]
      },
      {
       "output_type": "stream",
       "stream": "stdout",
       "text": [
        " DGAAX\n",
        "Fund other paramters : "
       ]
      },
      {
       "output_type": "stream",
       "stream": "stdout",
       "text": [
        " VSCOX\n",
        "Fund other paramters : "
       ]
      },
      {
       "output_type": "stream",
       "stream": "stdout",
       "text": [
        " JEEAX\n",
        "Fund other paramters : "
       ]
      },
      {
       "output_type": "stream",
       "stream": "stdout",
       "text": [
        " JEMDX\n",
        "Fund other paramters : "
       ]
      },
      {
       "output_type": "stream",
       "stream": "stdout",
       "text": [
        " JMIEX\n",
        "Fund other paramters : "
       ]
      },
      {
       "output_type": "stream",
       "stream": "stdout",
       "text": [
        " JECAX\n",
        "Fund other paramters : "
       ]
      },
      {
       "output_type": "stream",
       "stream": "stdout",
       "text": [
        " JPFAX\n",
        "Fund other paramters : "
       ]
      },
      {
       "output_type": "stream",
       "stream": "stdout",
       "text": [
        " HLIEX\n",
        "Fund other paramters : "
       ]
      },
      {
       "output_type": "stream",
       "stream": "stdout",
       "text": [
        " HLEIX\n",
        "Fund other paramters : "
       ]
      },
      {
       "output_type": "stream",
       "stream": "stdout",
       "text": [
        " JPHAX\n",
        "Fund other paramters : "
       ]
      },
      {
       "output_type": "stream",
       "stream": "stdout",
       "text": [
        " GAOAX\n",
        "Fund other paramters : "
       ]
      },
      {
       "output_type": "stream",
       "stream": "stdout",
       "text": [
        " GBOAX\n",
        "Fund other paramters : "
       ]
      },
      {
       "output_type": "stream",
       "stream": "stdout",
       "text": [
        " JEIAX\n",
        "Fund other paramters : "
       ]
      },
      {
       "output_type": "stream",
       "stream": "stdout",
       "text": [
        " JGNAX\n",
        "Fund other paramters : "
       ]
      },
      {
       "output_type": "stream",
       "stream": "stdout",
       "text": [
        " JEITX\n",
        "Fund other paramters : "
       ]
      },
      {
       "output_type": "stream",
       "stream": "stdout",
       "text": [
        " HLGAX\n",
        "Fund other paramters : "
       ]
      },
      {
       "output_type": "stream",
       "stream": "stdout",
       "text": [
        " VGRIX\n",
        "Fund other paramters : "
       ]
      },
      {
       "output_type": "stream",
       "stream": "stdout",
       "text": [
        " VHIAX\n",
        "Fund other paramters : "
       ]
      },
      {
       "output_type": "stream",
       "stream": "stdout",
       "text": [
        " OHYAX\n",
        "Fund other paramters : "
       ]
      },
      {
       "output_type": "stream",
       "stream": "stdout",
       "text": [
        " JNBAX\n",
        "Fund other paramters : "
       ]
      },
      {
       "output_type": "stream",
       "stream": "stdout",
       "text": [
        " JIMAX\n",
        "Fund other paramters : "
       ]
      },
      {
       "output_type": "stream",
       "stream": "stdout",
       "text": [
        " VSITX\n",
        "Fund other paramters : "
       ]
      },
      {
       "output_type": "stream",
       "stream": "stdout",
       "text": [
        " JCIAX\n",
        "Fund other paramters : "
       ]
      },
      {
       "output_type": "stream",
       "stream": "stdout",
       "text": [
        " VSIEX\n",
        "Fund other paramters : "
       ]
      },
      {
       "output_type": "stream",
       "stream": "stdout",
       "text": [
        " OIEAX\n",
        "Fund other paramters : "
       ]
      },
      {
       "output_type": "stream",
       "stream": "stdout",
       "text": [
        " IUAEX\n",
        "Fund other paramters : "
       ]
      },
      {
       "output_type": "stream",
       "stream": "stdout",
       "text": [
        " JNUSX\n",
        "Fund other paramters : "
       ]
      },
      {
       "output_type": "stream",
       "stream": "stdout",
       "text": [
        " JPIOX\n",
        "Fund other paramters : "
       ]
      },
      {
       "output_type": "stream",
       "stream": "stdout",
       "text": [
        " JIISX\n",
        "Fund other paramters : "
       ]
      },
      {
       "output_type": "stream",
       "stream": "stdout",
       "text": [
        " JPIAX\n",
        "Fund other paramters : "
       ]
      },
      {
       "output_type": "stream",
       "stream": "stdout",
       "text": [
        " VEUAX\n",
        "Fund other paramters : "
       ]
      },
      {
       "output_type": "stream",
       "stream": "stdout",
       "text": [
        " JPGSX\n",
        "Fund other paramters : "
       ]
      },
      {
       "output_type": "stream",
       "stream": "stdout",
       "text": [
        " JFTAX\n",
        "Fund other paramters : "
       ]
      },
      {
       "output_type": "stream",
       "stream": "stdout",
       "text": [
        " WOOPX\n",
        "Fund other paramters : "
       ]
      },
      {
       "output_type": "stream",
       "stream": "stdout",
       "text": [
        " JPIVX\n",
        "Fund other paramters : "
       ]
      },
      {
       "output_type": "stream",
       "stream": "stdout",
       "text": [
        " OGIAX\n",
        "Fund other paramters : "
       ]
      },
      {
       "output_type": "stream",
       "stream": "stdout",
       "text": [
        " OICAX\n",
        "Fund other paramters : "
       ]
      },
      {
       "output_type": "stream",
       "stream": "stdout",
       "text": [
        " ONGIX\n",
        "Fund other paramters : "
       ]
      },
      {
       "output_type": "stream",
       "stream": "stdout",
       "text": [
        " ONGAX\n",
        "Fund other paramters : "
       ]
      },
      {
       "output_type": "stream",
       "stream": "stdout",
       "text": [
        " SEEGX\n",
        "Fund other paramters : "
       ]
      },
      {
       "output_type": "stream",
       "stream": "stdout",
       "text": [
        " HLQVX\n",
        "Fund other paramters : "
       ]
      },
      {
       "output_type": "stream",
       "stream": "stdout",
       "text": [
        " JLTAX\n",
        "Fund other paramters : "
       ]
      },
      {
       "output_type": "stream",
       "stream": "stdout",
       "text": [
        " HLGFX\n",
        "Fund other paramters : "
       ]
      },
      {
       "output_type": "stream",
       "stream": "stdout",
       "text": [
        " JMGIX\n",
        "Fund other paramters : "
       ]
      },
      {
       "output_type": "stream",
       "stream": "stdout",
       "text": [
        " OMEAX\n",
        "Fund other paramters : "
       ]
      },
      {
       "output_type": "stream",
       "stream": "stdout",
       "text": [
        " HSKAX\n",
        "Fund other paramters : "
       ]
      },
      {
       "output_type": "stream",
       "stream": "stdout",
       "text": [
        " VSNGX\n",
        "Fund other paramters : "
       ]
      },
      {
       "output_type": "stream",
       "stream": "stdout",
       "text": [
        " HLGEX\n",
        "Fund other paramters : "
       ]
      },
      {
       "output_type": "stream",
       "stream": "stdout",
       "text": [
        " FLMVX\n",
        "Fund other paramters : "
       ]
      },
      {
       "output_type": "stream",
       "stream": "stdout",
       "text": [
        " OMBAX\n",
        "Fund other paramters : "
       ]
      },
      {
       "output_type": "stream",
       "stream": "stdout",
       "text": [
        " OGNAX\n",
        "Fund other paramters : "
       ]
      },
      {
       "output_type": "stream",
       "stream": "stdout",
       "text": [
        " JSIAX\n",
        "Fund other paramters : "
       ]
      },
      {
       "output_type": "stream",
       "stream": "stdout",
       "text": [
        " HLTAX\n",
        "Fund other paramters : "
       ]
      },
      {
       "output_type": "stream",
       "stream": "stdout",
       "text": [
        " VINTX\n",
        "Fund other paramters : "
       ]
      },
      {
       "output_type": "stream",
       "stream": "stdout",
       "text": [
        " HLOMX\n",
        "Fund other paramters : "
       ]
      },
      {
       "output_type": "stream",
       "stream": "stdout",
       "text": [
        " RRNAX\n",
        "Fund other paramters : "
       ]
      },
      {
       "output_type": "stream",
       "stream": "stdout",
       "text": [
        " URTLX\n",
        "Fund other paramters : "
       ]
      },
      {
       "output_type": "stream",
       "stream": "stdout",
       "text": [
        " JLSAX\n",
        "Fund other paramters : "
       ]
      },
      {
       "output_type": "stream",
       "stream": "stdout",
       "text": [
        " JPMNX\n",
        "Fund other paramters : "
       ]
      },
      {
       "output_type": "stream",
       "stream": "stdout",
       "text": [
        " CEEAX\n",
        "Fund other paramters : "
       ]
      },
      {
       "output_type": "stream",
       "stream": "stdout",
       "text": [
        " HLLVX\n",
        "Fund other paramters : "
       ]
      },
      {
       "output_type": "stream",
       "stream": "stdout",
       "text": [
        " JSDHX\n",
        "Fund other paramters : "
       ]
      },
      {
       "output_type": "stream",
       "stream": "stdout",
       "text": [
        " OSTAX\n",
        "Fund other paramters : "
       ]
      },
      {
       "output_type": "stream",
       "stream": "stdout",
       "text": [
        " VSSCX\n",
        "Fund other paramters : "
       ]
      },
      {
       "output_type": "stream",
       "stream": "stdout",
       "text": [
        " VSEAX\n",
        "Fund other paramters : "
       ]
      },
      {
       "output_type": "stream",
       "stream": "stdout",
       "text": [
        " PGSGX\n",
        "Fund other paramters : "
       ]
      },
      {
       "output_type": "stream",
       "stream": "stdout",
       "text": [
        " PSOAX\n",
        "Fund other paramters : "
       ]
      },
      {
       "output_type": "stream",
       "stream": "stdout",
       "text": [
        " SAEAX\n",
        "Fund other paramters : "
       ]
      },
      {
       "output_type": "stream",
       "stream": "stdout",
       "text": [
        " SAIAX\n",
        "Fund other paramters : "
       ]
      },
      {
       "output_type": "stream",
       "stream": "stdout",
       "text": [
        " JSFAX\n",
        "Fund other paramters : "
       ]
      },
      {
       "output_type": "stream",
       "stream": "stdout",
       "text": [
        " JTTAX\n",
        "Fund other paramters : "
       ]
      },
      {
       "output_type": "stream",
       "stream": "stdout",
       "text": [
        " JNSAX\n",
        "Fund other paramters : "
       ]
      },
      {
       "output_type": "stream",
       "stream": "stdout",
       "text": [
        " JSMAX\n",
        "Fund other paramters : "
       ]
      },
      {
       "output_type": "stream",
       "stream": "stdout",
       "text": [
        " SRJAX\n",
        "Fund other paramters : "
       ]
      },
      {
       "output_type": "stream",
       "stream": "stdout",
       "text": [
        " SMTAX\n",
        "Fund other paramters : "
       ]
      },
      {
       "output_type": "stream",
       "stream": "stdout",
       "text": [
        " JSAAX\n",
        "Fund other paramters : "
       ]
      },
      {
       "output_type": "stream",
       "stream": "stdout",
       "text": [
        " JTSAX\n",
        "Fund other paramters : "
       ]
      },
      {
       "output_type": "stream",
       "stream": "stdout",
       "text": [
        " JFFAX\n",
        "Fund other paramters : "
       ]
      },
      {
       "output_type": "stream",
       "stream": "stdout",
       "text": [
        " JSBWX\n",
        "Fund other paramters : "
       ]
      },
      {
       "output_type": "stream",
       "stream": "stdout",
       "text": [
        " JBSRX\n",
        "Fund other paramters : "
       ]
      },
      {
       "output_type": "stream",
       "stream": "stdout",
       "text": [
        " JBBSX\n",
        "Fund other paramters : "
       ]
      },
      {
       "output_type": "stream",
       "stream": "stdout",
       "text": [
        " JRBBX\n",
        "Fund other paramters : "
       ]
      },
      {
       "output_type": "stream",
       "stream": "stdout",
       "text": [
        " JPBRX\n",
        "Fund other paramters : "
       ]
      },
      {
       "output_type": "stream",
       "stream": "stdout",
       "text": [
        " JOBBX\n",
        "Fund other paramters : "
       ]
      },
      {
       "output_type": "stream",
       "stream": "stdout",
       "text": [
        " JMBRX\n",
        "Fund other paramters : "
       ]
      },
      {
       "output_type": "stream",
       "stream": "stdout",
       "text": [
        " JNABX\n",
        "Fund other paramters : "
       ]
      },
      {
       "output_type": "stream",
       "stream": "stdout",
       "text": [
        " JTBBX\n",
        "Fund other paramters : "
       ]
      },
      {
       "output_type": "stream",
       "stream": "stdout",
       "text": [
        " JIBBX\n",
        "Fund other paramters : "
       ]
      },
      {
       "output_type": "stream",
       "stream": "stdout",
       "text": [
        " JSRAX\n",
        "Fund other paramters : "
       ]
      },
      {
       "output_type": "stream",
       "stream": "stdout",
       "text": [
        " JSOAX\n",
        "Fund other paramters : "
       ]
      },
      {
       "output_type": "stream",
       "stream": "stdout",
       "text": [
        " JPDEX\n",
        "Fund other paramters : "
       ]
      },
      {
       "output_type": "stream",
       "stream": "stdout",
       "text": [
        " JTIAX\n",
        "Fund other paramters : "
       ]
      },
      {
       "output_type": "stream",
       "stream": "stdout",
       "text": [
        " JTAAX\n",
        "Fund other paramters : "
       ]
      },
      {
       "output_type": "stream",
       "stream": "stdout",
       "text": [
        " TXRAX\n",
        "Fund other paramters : "
       ]
      },
      {
       "output_type": "stream",
       "stream": "stdout",
       "text": [
        " JTARX\n",
        "Fund other paramters : "
       ]
      },
      {
       "output_type": "stream",
       "stream": "stdout",
       "text": [
        " PMBAX\n",
        "Fund other paramters : "
       ]
      },
      {
       "output_type": "stream",
       "stream": "stdout",
       "text": [
        " TMGGX\n",
        "Fund other paramters : "
       ]
      },
      {
       "output_type": "stream",
       "stream": "stdout",
       "text": [
        " JMTAX\n",
        "Fund other paramters : "
       ]
      },
      {
       "output_type": "stream",
       "stream": "stdout",
       "text": [
        " OTABX\n",
        "Fund other paramters : "
       ]
      },
      {
       "output_type": "stream",
       "stream": "stdout",
       "text": [
        " JPSAX\n",
        "Fund other paramters : "
       ]
      },
      {
       "output_type": "stream",
       "stream": "stdout",
       "text": [
        " JMUEX\n",
        "Fund other paramters : "
       ]
      },
      {
       "output_type": "stream",
       "stream": "stdout",
       "text": [
        " JLCAX\n",
        "Fund other paramters : "
       ]
      },
      {
       "output_type": "stream",
       "stream": "stdout",
       "text": [
        " JEPAX\n",
        "Fund other paramters : "
       ]
      },
      {
       "output_type": "stream",
       "stream": "stdout",
       "text": [
        " JUSSX\n",
        "Fund other paramters : "
       ]
      },
      {
       "output_type": "stream",
       "stream": "stdout",
       "text": [
        " JVAAX\n",
        "Fund other paramters : "
       ]
      },
      {
       "output_type": "stream",
       "stream": "stdout",
       "text": [
        " UBVLX\n",
        "Fund other paramters : "
       ]
      },
      {
       "output_type": "stream",
       "stream": "stdout",
       "text": [
        " FFIDX\n",
        "Fund other paramters : "
       ]
      },
      {
       "output_type": "stream",
       "stream": "stdout",
       "text": [
        " FTAAX\n",
        "Fund other paramters : "
       ]
      },
      {
       "output_type": "stream",
       "stream": "stdout",
       "text": [
        " FFNAX\n",
        "Fund other paramters : "
       ]
      },
      {
       "output_type": "stream",
       "stream": "stdout",
       "text": [
        " FSAAX\n",
        "Fund other paramters : "
       ]
      },
      {
       "output_type": "stream",
       "stream": "stdout",
       "text": [
        " FFAVX\n",
        "Fund other paramters : "
       ]
      },
      {
       "output_type": "stream",
       "stream": "stdout",
       "text": [
        " FACFX\n",
        "Fund other paramters : "
       ]
      },
      {
       "output_type": "stream",
       "stream": "stdout",
       "text": [
        " FFVAX\n",
        "Fund other paramters : "
       ]
      },
      {
       "output_type": "stream",
       "stream": "stdout",
       "text": [
        " FDAFX\n",
        "Fund other paramters : "
       ]
      },
      {
       "output_type": "stream",
       "stream": "stdout",
       "text": [
        " FATWX\n",
        "Fund other paramters : "
       ]
      },
      {
       "output_type": "stream",
       "stream": "stdout",
       "text": [
        " FAFEX\n",
        "Fund other paramters : "
       ]
      },
      {
       "output_type": "stream",
       "stream": "stdout",
       "text": [
        " FATHX\n",
        "Fund other paramters : "
       ]
      },
      {
       "output_type": "stream",
       "stream": "stdout",
       "text": [
        " FAFFX\n",
        "Fund other paramters : "
       ]
      },
      {
       "output_type": "stream",
       "stream": "stdout",
       "text": [
        " FFFZX\n",
        "Fund other paramters : "
       ]
      },
      {
       "output_type": "stream",
       "stream": "stdout",
       "text": [
        " FFFLX\n",
        "Fund other paramters : "
       ]
      },
      {
       "output_type": "stream",
       "stream": "stdout",
       "text": [
        " FHFAX\n",
        "Fund other paramters : "
       ]
      },
      {
       "output_type": "stream",
       "stream": "stdout",
       "text": [
        " FAFAX\n",
        "Fund other paramters : "
       ]
      },
      {
       "output_type": "stream",
       "stream": "stdout",
       "text": [
        " FRJAX\n",
        "Fund other paramters : "
       ]
      },
      {
       "output_type": "stream",
       "stream": "stdout",
       "text": [
        " FRKAX\n",
        "Fund other paramters : "
       ]
      },
      {
       "output_type": "stream",
       "stream": "stdout",
       "text": [
        " FILAX\n",
        "Fund other paramters : "
       ]
      },
      {
       "output_type": "stream",
       "stream": "stdout",
       "text": [
        " FRAMX\n",
        "Fund other paramters : "
       ]
      },
      {
       "output_type": "stream",
       "stream": "stdout",
       "text": [
        " FRNAX\n",
        "Fund other paramters : "
       ]
      },
      {
       "output_type": "stream",
       "stream": "stdout",
       "text": [
        " FIOAX\n",
        "Fund other paramters : "
       ]
      },
      {
       "output_type": "stream",
       "stream": "stdout",
       "text": [
        " FARPX\n",
        "Fund other paramters : "
       ]
      },
      {
       "output_type": "stream",
       "stream": "stdout",
       "text": [
        " FRQAX\n",
        "Fund other paramters : "
       ]
      },
      {
       "output_type": "stream",
       "stream": "stdout",
       "text": [
        " FIARX\n",
        "Fund other paramters : "
       ]
      },
      {
       "output_type": "stream",
       "stream": "stdout",
       "text": [
        " FARSX\n",
        "Fund other paramters : "
       ]
      },
      {
       "output_type": "stream",
       "stream": "stdout",
       "text": [
        " FURAX\n",
        "Fund other paramters : "
       ]
      },
      {
       "output_type": "stream",
       "stream": "stdout",
       "text": [
        " FARVX\n",
        "Fund other paramters : "
       ]
      },
      {
       "output_type": "stream",
       "stream": "stdout",
       "text": [
        " FARWX\n",
        "Fund other paramters : "
       ]
      },
      {
       "output_type": "stream",
       "stream": "stdout",
       "text": [
        " FARFX\n",
        "Fund other paramters : "
       ]
      },
      {
       "output_type": "stream",
       "stream": "stdout",
       "text": [
        " FAIGX\n",
        "Fund other paramters : "
       ]
      },
      {
       "output_type": "stream",
       "stream": "stdout",
       "text": [
        " FBTAX\n",
        "Fund other paramters : "
       ]
      },
      {
       "output_type": "stream",
       "stream": "stdout",
       "text": [
        " FDETX\n",
        "Fund other paramters : "
       ]
      },
      {
       "output_type": "stream",
       "stream": "stdout",
       "text": [
        " FDMAX\n",
        "Fund other paramters : "
       ]
      },
      {
       "output_type": "stream",
       "stream": "stdout",
       "text": [
        " FCNAX\n",
        "Fund other paramters : "
       ]
      },
      {
       "output_type": "stream",
       "stream": "stdout",
       "text": [
        " FCBAX\n",
        "Fund other paramters : "
       ]
      },
      {
       "output_type": "stream",
       "stream": "stdout",
       "text": [
        " FDVAX\n",
        "Fund other paramters : "
       ]
      },
      {
       "output_type": "stream",
       "stream": "stdout",
       "text": [
        " FDESX\n",
        "Fund other paramters : "
       ]
      },
      {
       "output_type": "stream",
       "stream": "stdout",
       "text": [
        " FADAX\n",
        "Fund other paramters : "
       ]
      },
      {
       "output_type": "stream",
       "stream": "stdout",
       "text": [
        " FELAX\n",
        "Fund other paramters : "
       ]
      },
      {
       "output_type": "stream",
       "stream": "stdout",
       "text": [
        " FMEAX\n",
        "Fund other paramters : "
       ]
      },
      {
       "output_type": "stream",
       "stream": "stdout",
       "text": [
        " FEDAX\n",
        "Fund other paramters : "
       ]
      },
      {
       "output_type": "stream",
       "stream": "stdout",
       "text": [
        " FEAAX\n",
        "Fund other paramters : "
       ]
      },
      {
       "output_type": "stream",
       "stream": "stdout",
       "text": [
        " FAMKX\n",
        "Fund other paramters : "
       ]
      },
      {
       "output_type": "stream",
       "stream": "stdout",
       "text": [
        " FAEMX\n",
        "Fund other paramters : "
       ]
      },
      {
       "output_type": "stream",
       "stream": "stdout",
       "text": [
        " FAGNX\n",
        "Fund other paramters : "
       ]
      },
      {
       "output_type": "stream",
       "stream": "stdout",
       "text": [
        " EQPGX\n",
        "Fund other paramters : "
       ]
      },
      {
       "output_type": "stream",
       "stream": "stdout",
       "text": [
        " EQPIX\n",
        "Fund other paramters : "
       ]
      },
      {
       "output_type": "stream",
       "stream": "stdout",
       "text": [
        " FAVAX\n",
        "Fund other paramters : "
       ]
      },
      {
       "output_type": "stream",
       "stream": "stdout",
       "text": [
        " FCHSX\n",
        "Fund other paramters : "
       ]
      },
      {
       "output_type": "stream",
       "stream": "stdout",
       "text": [
        " FAFDX\n",
        "Fund other paramters : "
       ]
      },
      {
       "output_type": "stream",
       "stream": "stdout",
       "text": [
        " FFRAX\n",
        "Fund other paramters : "
       ]
      },
      {
       "output_type": "stream",
       "stream": "stdout",
       "text": [
        " FGEAX\n",
        "Fund other paramters : "
       ]
      },
      {
       "output_type": "stream",
       "stream": "stdout",
       "text": [
        " FGBZX\n",
        "Fund other paramters : "
       ]
      },
      {
       "output_type": "stream",
       "stream": "stdout",
       "text": [
        " FFGAX\n",
        "Fund other paramters : "
       ]
      },
      {
       "output_type": "stream",
       "stream": "stdout",
       "text": [
        " FBLYX\n",
        "Fund other paramters : "
       ]
      },
      {
       "output_type": "stream",
       "stream": "stdout",
       "text": [
        " FGHAX\n",
        "Fund other paramters : "
       ]
      },
      {
       "output_type": "stream",
       "stream": "stdout",
       "text": [
        " FDASX\n",
        "Fund other paramters : "
       ]
      },
      {
       "output_type": "stream",
       "stream": "stdout",
       "text": [
        " FGIRX\n",
        "Fund other paramters : "
       ]
      },
      {
       "output_type": "stream",
       "stream": "stdout",
       "text": [
        " FAGOX\n",
        "Fund other paramters : "
       ]
      },
      {
       "output_type": "stream",
       "stream": "stdout",
       "text": [
        " FACDX\n",
        "Fund other paramters : "
       ]
      },
      {
       "output_type": "stream",
       "stream": "stdout",
       "text": [
        " FHIAX\n",
        "Fund other paramters : "
       ]
      },
      {
       "output_type": "stream",
       "stream": "stdout",
       "text": [
        " FAHDX\n",
        "Fund other paramters : "
       ]
      },
      {
       "output_type": "stream",
       "stream": "stdout",
       "text": [
        " FCLAX\n",
        "Fund other paramters : "
       ]
      },
      {
       "output_type": "stream",
       "stream": "stdout",
       "text": [
        " FINWX\n",
        "Fund other paramters : "
       ]
      },
      {
       "output_type": "stream",
       "stream": "stdout",
       "text": [
        " FIAGX\n",
        "Fund other paramters : "
       ]
      },
      {
       "output_type": "stream",
       "stream": "stdout",
       "text": [
        " FIVMX\n",
        "Fund other paramters : "
       ]
      },
      {
       "output_type": "stream",
       "stream": "stdout",
       "text": [
        " FCPAX\n",
        "Fund other paramters : "
       ]
      },
      {
       "output_type": "stream",
       "stream": "stdout",
       "text": [
        " FOPAX\n",
        "Fund other paramters : "
       ]
      },
      {
       "output_type": "stream",
       "stream": "stdout",
       "text": [
        " FALHX\n",
        "Fund other paramters : "
       ]
      },
      {
       "output_type": "stream",
       "stream": "stdout",
       "text": [
        " FLSAX\n",
        "Fund other paramters : "
       ]
      },
      {
       "output_type": "stream",
       "stream": "stdout",
       "text": [
        " EFIPX\n",
        "Fund other paramters : "
       ]
      },
      {
       "output_type": "stream",
       "stream": "stdout",
       "text": [
        " FGRTX\n",
        "Fund other paramters : "
       ]
      },
      {
       "output_type": "stream",
       "stream": "stdout",
       "text": [
        " FIIAX\n",
        "Fund other paramters : "
       ]
      },
      {
       "output_type": "stream",
       "stream": "stdout",
       "text": [
        " FAMPX\n",
        "Fund other paramters : "
       ]
      },
      {
       "output_type": "stream",
       "stream": "stdout",
       "text": [
        " FAMMX\n",
        "Fund other paramters : "
       ]
      },
      {
       "output_type": "stream",
       "stream": "stdout",
       "text": [
        " FAPAX\n",
        "Fund other paramters : "
       ]
      },
      {
       "output_type": "stream",
       "stream": "stdout",
       "text": [
        " FOMAX\n",
        "Fund other paramters : "
       ]
      },
      {
       "output_type": "stream",
       "stream": "stdout",
       "text": [
        " FSODX\n",
        "Fund other paramters : "
       ]
      },
      {
       "output_type": "stream",
       "stream": "stdout",
       "text": [
        " FAHIX\n",
        "Fund other paramters : "
       ]
      },
      {
       "output_type": "stream",
       "stream": "stdout",
       "text": [
        " FNIAX\n",
        "Fund other paramters : "
       ]
      },
      {
       "output_type": "stream",
       "stream": "stdout",
       "text": [
        " FAERX\n",
        "Fund other paramters : "
       ]
      },
      {
       "output_type": "stream",
       "stream": "stdout",
       "text": [
        " FHEAX\n",
        "Fund other paramters : "
       ]
      },
      {
       "output_type": "stream",
       "stream": "stdout",
       "text": [
        " FLMLX\n",
        "Fund other paramters : "
       ]
      },
      {
       "output_type": "stream",
       "stream": "stdout",
       "text": [
        " FAMGX\n",
        "Fund other paramters : "
       ]
      },
      {
       "output_type": "stream",
       "stream": "stdout",
       "text": [
        " FMMLX\n",
        "Fund other paramters : "
       ]
      },
      {
       "output_type": "stream",
       "stream": "stdout",
       "text": [
        " FMALX\n",
        "Fund other paramters : "
       ]
      },
      {
       "output_type": "stream",
       "stream": "stdout",
       "text": [
        " FAOFX\n",
        "Fund other paramters : "
       ]
      },
      {
       "output_type": "stream",
       "stream": "stdout",
       "text": [
        " FSSFX\n",
        "Fund other paramters : "
       ]
      },
      {
       "output_type": "stream",
       "stream": "stdout",
       "text": [
        " FSBHX\n",
        "Fund other paramters : "
       ]
      },
      {
       "output_type": "stream",
       "stream": "stdout",
       "text": [
        " FASFX\n",
        "Fund other paramters : "
       ]
      },
      {
       "output_type": "stream",
       "stream": "stdout",
       "text": [
        " FSCDX\n",
        "Fund other paramters : "
       ]
      },
      {
       "output_type": "stream",
       "stream": "stdout",
       "text": [
        " FCAGX\n",
        "Fund other paramters : "
       ]
      },
      {
       "output_type": "stream",
       "stream": "stdout",
       "text": [
        " FCVAX\n",
        "Fund other paramters : "
       ]
      },
      {
       "output_type": "stream",
       "stream": "stdout",
       "text": [
        " FMCBX\n",
        "Fund other paramters : "
       ]
      },
      {
       "output_type": "stream",
       "stream": "stdout",
       "text": [
        " FASDX\n",
        "Fund other paramters : "
       ]
      },
      {
       "output_type": "stream",
       "stream": "stdout",
       "text": [
        " FSINX\n",
        "Fund other paramters : "
       ]
      },
      {
       "output_type": "stream",
       "stream": "stdout",
       "text": [
        " FSRAX\n",
        "Fund other paramters : "
       ]
      },
      {
       "output_type": "stream",
       "stream": "stdout",
       "text": [
        " FADTX\n",
        "Fund other paramters : "
       ]
      },
      {
       "output_type": "stream",
       "stream": "stdout",
       "text": [
        " FTEDX\n",
        "Fund other paramters : "
       ]
      },
      {
       "output_type": "stream",
       "stream": "stdout",
       "text": [
        " FTAEX\n",
        "Fund other paramters : "
       ]
      },
      {
       "output_type": "stream",
       "stream": "stdout",
       "text": [
        " FUGAX\n",
        "Fund other paramters : "
       ]
      },
      {
       "output_type": "stream",
       "stream": "stdout",
       "text": [
        " FAVFX\n",
        "Fund other paramters : "
       ]
      },
      {
       "output_type": "stream",
       "stream": "stdout",
       "text": [
        " FVLAX\n",
        "Fund other paramters : "
       ]
      },
      {
       "output_type": "stream",
       "stream": "stdout",
       "text": [
        " FASPX\n",
        "Fund other paramters : "
       ]
      },
      {
       "output_type": "stream",
       "stream": "stdout",
       "text": [
        " FASIX\n",
        "Fund other paramters : "
       ]
      },
      {
       "output_type": "stream",
       "stream": "stdout",
       "text": [
        " FASMX\n",
        "Fund other paramters : "
       ]
      },
      {
       "output_type": "stream",
       "stream": "stdout",
       "text": [
        " FASGX\n",
        "Fund other paramters : "
       ]
      },
      {
       "output_type": "stream",
       "stream": "stdout",
       "text": [
        " FAMRX\n",
        "Fund other paramters : "
       ]
      },
      {
       "output_type": "stream",
       "stream": "stdout",
       "text": [
        " FFKVX\n",
        "Fund other paramters : "
       ]
      },
      {
       "output_type": "stream",
       "stream": "stdout",
       "text": [
        " FFKCX\n",
        "Fund other paramters : "
       ]
      },
      {
       "output_type": "stream",
       "stream": "stdout",
       "text": [
        " FKVFX\n",
        "Fund other paramters : "
       ]
      },
      {
       "output_type": "stream",
       "stream": "stdout",
       "text": [
        " FFKDX\n",
        "Fund other paramters : "
       ]
      },
      {
       "output_type": "stream",
       "stream": "stdout",
       "text": [
        " FKTWX\n",
        "Fund other paramters : "
       ]
      },
      {
       "output_type": "stream",
       "stream": "stdout",
       "text": [
        " FFKEX\n",
        "Fund other paramters : "
       ]
      },
      {
       "output_type": "stream",
       "stream": "stdout",
       "text": [
        " FKTHX\n",
        "Fund other paramters : "
       ]
      },
      {
       "output_type": "stream",
       "stream": "stdout",
       "text": [
        " FFKFX\n",
        "Fund other paramters : "
       ]
      },
      {
       "output_type": "stream",
       "stream": "stdout",
       "text": [
        " FFKGX\n",
        "Fund other paramters : "
       ]
      },
      {
       "output_type": "stream",
       "stream": "stdout",
       "text": [
        " FFKHX\n",
        "Fund other paramters : "
       ]
      },
      {
       "output_type": "stream",
       "stream": "stdout",
       "text": [
        " FDENX\n",
        "Fund other paramters : "
       ]
      },
      {
       "output_type": "stream",
       "stream": "stdout",
       "text": [
        " FFKAX\n",
        "Fund other paramters : "
       ]
      },
      {
       "output_type": "stream",
       "stream": "stdout",
       "text": [
        " FFFVX\n",
        "Fund other paramters : "
       ]
      },
      {
       "output_type": "stream",
       "stream": "stdout",
       "text": [
        " FFFCX\n",
        "Fund other paramters : "
       ]
      },
      {
       "output_type": "stream",
       "stream": "stdout",
       "text": [
        " FFVFX\n",
        "Fund other paramters : "
       ]
      },
      {
       "output_type": "stream",
       "stream": "stdout",
       "text": [
        " FFFDX\n",
        "Fund other paramters : "
       ]
      },
      {
       "output_type": "stream",
       "stream": "stdout",
       "text": [
        " FFTWX\n",
        "Fund other paramters : "
       ]
      },
      {
       "output_type": "stream",
       "stream": "stdout",
       "text": [
        " FFFEX\n",
        "Fund other paramters : "
       ]
      },
      {
       "output_type": "stream",
       "stream": "stdout",
       "text": [
        " FFTHX\n",
        "Fund other paramters : "
       ]
      },
      {
       "output_type": "stream",
       "stream": "stdout",
       "text": [
        " FFFFX\n",
        "Fund other paramters : "
       ]
      },
      {
       "output_type": "stream",
       "stream": "stdout",
       "text": [
        " FFFGX\n",
        "Fund other paramters : "
       ]
      },
      {
       "output_type": "stream",
       "stream": "stdout",
       "text": [
        " FFFHX\n",
        "Fund other paramters : "
       ]
      },
      {
       "output_type": "stream",
       "stream": "stdout",
       "text": [
        " FDEEX\n",
        "Fund other paramters : "
       ]
      },
      {
       "output_type": "stream",
       "stream": "stdout",
       "text": [
        " FFFAX\n",
        "Fund other paramters : "
       ]
      },
      {
       "output_type": "stream",
       "stream": "stdout",
       "text": [
        " FJIFX\n",
        "Fund other paramters : "
       ]
      },
      {
       "output_type": "stream",
       "stream": "stdout",
       "text": [
        " FKIFX\n",
        "Fund other paramters : "
       ]
      },
      {
       "output_type": "stream",
       "stream": "stdout",
       "text": [
        " FLIFX\n",
        "Fund other paramters : "
       ]
      },
      {
       "output_type": "stream",
       "stream": "stdout",
       "text": [
        " FPIFX\n",
        "Fund other paramters : "
       ]
      },
      {
       "output_type": "stream",
       "stream": "stdout",
       "text": [
        " FQIFX\n",
        "Fund other paramters : "
       ]
      },
      {
       "output_type": "stream",
       "stream": "stdout",
       "text": [
        " FXIFX\n",
        "Fund other paramters : "
       ]
      },
      {
       "output_type": "stream",
       "stream": "stdout",
       "text": [
        " FIHFX\n",
        "Fund other paramters : "
       ]
      },
      {
       "output_type": "stream",
       "stream": "stdout",
       "text": [
        " FBIFX\n",
        "Fund other paramters : "
       ]
      },
      {
       "output_type": "stream",
       "stream": "stdout",
       "text": [
        " FIOFX\n",
        "Fund other paramters : "
       ]
      },
      {
       "output_type": "stream",
       "stream": "stdout",
       "text": [
        " FIPFX\n",
        "Fund other paramters : "
       ]
      },
      {
       "output_type": "stream",
       "stream": "stdout",
       "text": [
        " FDEWX\n",
        "Fund other paramters : "
       ]
      },
      {
       "output_type": "stream",
       "stream": "stdout",
       "text": [
        " FIKFX\n",
        "Fund other paramters : "
       ]
      },
      {
       "output_type": "stream",
       "stream": "stdout",
       "text": [
        " FUSEX\n",
        "Fund other paramters : "
       ]
      },
      {
       "output_type": "stream",
       "stream": "stdout",
       "text": [
        " FPADX\n",
        "Fund other paramters : "
       ]
      },
      {
       "output_type": "stream",
       "stream": "stdout",
       "text": [
        " FSEMX\n",
        "Fund other paramters : "
       ]
      },
      {
       "output_type": "stream",
       "stream": "stdout",
       "text": [
        " FSGGX\n",
        "Fund other paramters : "
       ]
      },
      {
       "output_type": "stream",
       "stream": "stdout",
       "text": [
        " FIPDX\n",
        "Fund other paramters : "
       ]
      },
      {
       "output_type": "stream",
       "stream": "stdout",
       "text": [
        " FIBIX\n",
        "Fund other paramters : "
       ]
      },
      {
       "output_type": "stream",
       "stream": "stdout",
       "text": [
        " FSIIX\n",
        "Fund other paramters : "
       ]
      },
      {
       "output_type": "stream",
       "stream": "stdout",
       "text": [
        " FLBIX\n",
        "Fund other paramters : "
       ]
      },
      {
       "output_type": "stream",
       "stream": "stdout",
       "text": [
        " FSMDX\n",
        "Fund other paramters : "
       ]
      },
      {
       "output_type": "stream",
       "stream": "stdout",
       "text": [
        " FSRNX\n",
        "Fund other paramters : "
       ]
      },
      {
       "output_type": "stream",
       "stream": "stdout",
       "text": [
        " FSBIX\n",
        "Fund other paramters : "
       ]
      },
      {
       "output_type": "stream",
       "stream": "stdout",
       "text": [
        " FSSNX\n",
        "Fund other paramters : "
       ]
      },
      {
       "output_type": "stream",
       "stream": "stdout",
       "text": [
        " FSTMX\n",
        "Fund other paramters : "
       ]
      },
      {
       "output_type": "stream",
       "stream": "stdout",
       "text": [
        " FBIDX\n",
        "Fund other paramters : "
       ]
      },
      {
       "output_type": "stream",
       "stream": "stdout",
       "text": [
        " FSAZX\n",
        "Fund other paramters : "
       ]
      },
      {
       "output_type": "stream",
       "stream": "stdout",
       "text": [
        " FBALX\n",
        "Fund other paramters : "
       ]
      },
      {
       "output_type": "stream",
       "stream": "stdout",
       "text": [
        " FBGRX\n",
        "Fund other paramters : "
       ]
      },
      {
       "output_type": "stream",
       "stream": "stdout",
       "text": [
        " FBCVX\n",
        "Fund other paramters : "
       ]
      },
      {
       "output_type": "stream",
       "stream": "stdout",
       "text": [
        " FCSTX\n",
        "Fund other paramters : "
       ]
      },
      {
       "output_type": "stream",
       "stream": "stdout",
       "text": [
        " FCTFX\n",
        "Fund other paramters : "
       ]
      },
      {
       "output_type": "stream",
       "stream": "stdout",
       "text": [
        " FICDX\n",
        "Fund other paramters : "
       ]
      },
      {
       "output_type": "stream",
       "stream": "stdout",
       "text": [
        " FAGIX\n",
        "Fund other paramters : "
       ]
      },
      {
       "output_type": "stream",
       "stream": "stdout",
       "text": [
        " FDCAX\n",
        "Fund other paramters : "
       ]
      },
      {
       "output_type": "stream",
       "stream": "stdout",
       "text": [
        " FHKCX\n",
        "Fund other paramters : "
       ]
      },
      {
       "output_type": "stream",
       "stream": "stdout",
       "text": [
        " FICNX\n",
        "Fund other paramters : "
       ]
      },
      {
       "output_type": "stream",
       "stream": "stdout",
       "text": [
        " FMNDX\n",
        "Fund other paramters : "
       ]
      },
      {
       "output_type": "stream",
       "stream": "stdout",
       "text": [
        " FCNVX\n",
        "Fund other paramters : "
       ]
      },
      {
       "output_type": "stream",
       "stream": "stdout",
       "text": [
        " FCNTX\n",
        "Fund other paramters : "
       ]
      },
      {
       "output_type": "stream",
       "stream": "stdout",
       "text": [
        " FCVSX\n",
        "Fund other paramters : "
       ]
      },
      {
       "output_type": "stream",
       "stream": "stdout",
       "text": [
        " FDEQX\n",
        "Fund other paramters : "
       ]
      },
      {
       "output_type": "stream",
       "stream": "stdout",
       "text": [
        " FDIVX\n",
        "Fund other paramters : "
       ]
      },
      {
       "output_type": "stream",
       "stream": "stdout",
       "text": [
        " FDGFX\n",
        "Fund other paramters : "
       ]
      },
      {
       "output_type": "stream",
       "stream": "stdout",
       "text": [
        " FSEAX\n",
        "Fund other paramters : "
       ]
      },
      {
       "output_type": "stream",
       "stream": "stdout",
       "text": [
        " FEMKX\n",
        "Fund other paramters : "
       ]
      },
      {
       "output_type": "stream",
       "stream": "stdout",
       "text": [
        " FEQTX\n",
        "Fund other paramters : "
       ]
      },
      {
       "output_type": "stream",
       "stream": "stdout",
       "text": [
        " FEQIX\n",
        "Fund other paramters : "
       ]
      },
      {
       "output_type": "stream",
       "stream": "stdout",
       "text": [
        " FIEUX\n",
        "Fund other paramters : "
       ]
      },
      {
       "output_type": "stream",
       "stream": "stdout",
       "text": [
        " FARNX\n",
        "Fund other paramters : "
       ]
      },
      {
       "output_type": "stream",
       "stream": "stdout",
       "text": [
        " FEXPX\n",
        "Fund other paramters : "
       ]
      },
      {
       "output_type": "stream",
       "stream": "stdout",
       "text": [
        " FFTYX\n",
        "Fund other paramters : "
       ]
      },
      {
       "output_type": "stream",
       "stream": "stdout",
       "text": [
        " FHIFX\n",
        "Fund other paramters : "
       ]
      },
      {
       "output_type": "stream",
       "stream": "stdout",
       "text": [
        " FTQGX\n",
        "Fund other paramters : "
       ]
      },
      {
       "output_type": "stream",
       "stream": "stdout",
       "text": [
        " FFNOX\n",
        "Fund other paramters : "
       ]
      },
      {
       "output_type": "stream",
       "stream": "stdout",
       "text": [
        " FGBLX\n",
        "Fund other paramters : "
       ]
      },
      {
       "output_type": "stream",
       "stream": "stdout",
       "text": [
        " FGILX\n",
        "Fund other paramters : "
       ]
      },
      {
       "output_type": "stream",
       "stream": "stdout",
       "text": [
        " FGMNX\n",
        "Fund other paramters : "
       ]
      },
      {
       "output_type": "stream",
       "stream": "stdout",
       "text": [
        " FGOVX\n",
        "Fund other paramters : "
       ]
      },
      {
       "output_type": "stream",
       "stream": "stdout",
       "text": [
        " FGRIX\n",
        "Fund other paramters : "
       ]
      },
      {
       "output_type": "stream",
       "stream": "stdout",
       "text": [
        " FDGRX\n",
        "Fund other paramters : "
       ]
      },
      {
       "output_type": "stream",
       "stream": "stdout",
       "text": [
        " FDSVX\n",
        "Fund other paramters : "
       ]
      },
      {
       "output_type": "stream",
       "stream": "stdout",
       "text": [
        " FDEGX\n",
        "Fund other paramters : "
       ]
      },
      {
       "output_type": "stream",
       "stream": "stdout",
       "text": [
        " SPHIX\n",
        "Fund other paramters : "
       ]
      },
      {
       "output_type": "stream",
       "stream": "stdout",
       "text": [
        " FDFFX\n",
        "Fund other paramters : "
       ]
      },
      {
       "output_type": "stream",
       "stream": "stdout",
       "text": [
        " FINPX\n",
        "Fund other paramters : "
       ]
      },
      {
       "output_type": "stream",
       "stream": "stdout",
       "text": [
        " FTHRX\n",
        "Fund other paramters : "
       ]
      },
      {
       "output_type": "stream",
       "stream": "stdout",
       "text": [
        " FSTGX\n",
        "Fund other paramters : "
       ]
      },
      {
       "output_type": "stream",
       "stream": "stdout",
       "text": [
        " FLTMX\n",
        "Fund other paramters : "
       ]
      },
      {
       "output_type": "stream",
       "stream": "stdout",
       "text": [
        " FIVFX\n",
        "Fund other paramters : "
       ]
      },
      {
       "output_type": "stream",
       "stream": "stdout",
       "text": [
        " FIGRX\n",
        "Fund other paramters : "
       ]
      },
      {
       "output_type": "stream",
       "stream": "stdout",
       "text": [
        " FIENX\n",
        "Fund other paramters : "
       ]
      },
      {
       "output_type": "stream",
       "stream": "stdout",
       "text": [
        " FIREX\n",
        "Fund other paramters : "
       ]
      },
      {
       "output_type": "stream",
       "stream": "stdout",
       "text": [
        " FISMX\n",
        "Fund other paramters : "
       ]
      },
      {
       "output_type": "stream",
       "stream": "stdout",
       "text": [
        " FBNDX\n",
        "Fund other paramters : "
       ]
      },
      {
       "output_type": "stream",
       "stream": "stdout",
       "text": [
        " FJPNX\n",
        "Fund other paramters : "
       ]
      },
      {
       "output_type": "stream",
       "stream": "stdout",
       "text": [
        " FJSCX\n",
        "Fund other paramters : "
       ]
      },
      {
       "output_type": "stream",
       "stream": "stdout",
       "text": [
        " FLCEX\n",
        "Fund other paramters : "
       ]
      },
      {
       "output_type": "stream",
       "stream": "stdout",
       "text": [
        " FLGEX\n",
        "Fund other paramters : "
       ]
      },
      {
       "output_type": "stream",
       "stream": "stdout",
       "text": [
        " FLCSX\n",
        "Fund other paramters : "
       ]
      },
      {
       "output_type": "stream",
       "stream": "stdout",
       "text": [
        " FLVEX\n",
        "Fund other paramters : "
       ]
      },
      {
       "output_type": "stream",
       "stream": "stdout",
       "text": [
        " FLATX\n",
        "Fund other paramters : "
       ]
      },
      {
       "output_type": "stream",
       "stream": "stdout",
       "text": [
        " FLVCX\n",
        "Fund other paramters : "
       ]
      },
      {
       "output_type": "stream",
       "stream": "stdout",
       "text": [
        " FFXSX\n",
        "Fund other paramters : "
       ]
      },
      {
       "output_type": "stream",
       "stream": "stdout",
       "text": [
        " FSTFX\n",
        "Fund other paramters : "
       ]
      },
      {
       "output_type": "stream",
       "stream": "stdout",
       "text": [
        " FLPSX\n",
        "Fund other paramters : "
       ]
      },
      {
       "output_type": "stream",
       "stream": "stdout",
       "text": [
        " FMAGX\n",
        "Fund other paramters : "
       ]
      },
      {
       "output_type": "stream",
       "stream": "stdout",
       "text": [
        " SMDMX\n",
        "Fund other paramters : "
       ]
      },
      {
       "output_type": "stream",
       "stream": "stdout",
       "text": [
        " FDMMX\n",
        "Fund other paramters : "
       ]
      },
      {
       "output_type": "stream",
       "stream": "stdout",
       "text": [
        " FMHTX\n",
        "Fund other paramters : "
       ]
      },
      {
       "output_type": "stream",
       "stream": "stdout",
       "text": [
        " FMEIX\n",
        "Fund other paramters : "
       ]
      },
      {
       "output_type": "stream",
       "stream": "stdout",
       "text": [
        " FSMVX\n",
        "Fund other paramters : "
       ]
      },
      {
       "output_type": "stream",
       "stream": "stdout",
       "text": [
        " FMCSX\n",
        "Fund other paramters : "
       ]
      },
      {
       "output_type": "stream",
       "stream": "stdout",
       "text": [
        " FIMIX\n",
        "Fund other paramters : "
       ]
      },
      {
       "output_type": "stream",
       "stream": "stdout",
       "text": [
        " FMSFX\n",
        "Fund other paramters : "
       ]
      },
      {
       "output_type": "stream",
       "stream": "stdout",
       "text": [
        " FHIGX\n",
        "Fund other paramters : "
       ]
      },
      {
       "output_type": "stream",
       "stream": "stdout",
       "text": [
        " FNCMX\n",
        "Fund other paramters : "
       ]
      },
      {
       "output_type": "stream",
       "stream": "stdout",
       "text": [
        " FNJHX\n",
        "Fund other paramters : "
       ]
      },
      {
       "output_type": "stream",
       "stream": "stdout",
       "text": [
        " FNMIX\n",
        "Fund other paramters : "
       ]
      },
      {
       "output_type": "stream",
       "stream": "stdout",
       "text": [
        " FMILX\n",
        "Fund other paramters : "
       ]
      },
      {
       "output_type": "stream",
       "stream": "stdout",
       "text": [
        " FTFMX\n",
        "Fund other paramters : "
       ]
      },
      {
       "output_type": "stream",
       "stream": "stdout",
       "text": [
        " FNORX\n",
        "Fund other paramters : "
       ]
      },
      {
       "output_type": "stream",
       "stream": "stdout",
       "text": [
        " FOHFX\n",
        "Fund other paramters : "
       ]
      },
      {
       "output_type": "stream",
       "stream": "stdout",
       "text": [
        " FOCPX\n",
        "Fund other paramters : "
       ]
      },
      {
       "output_type": "stream",
       "stream": "stdout",
       "text": [
        " FOSFX\n",
        "Fund other paramters : "
       ]
      },
      {
       "output_type": "stream",
       "stream": "stdout",
       "text": [
        " FPBFX\n",
        "Fund other paramters : "
       ]
      },
      {
       "output_type": "stream",
       "stream": "stdout",
       "text": [
        " FPXTX\n",
        "Fund other paramters : "
       ]
      },
      {
       "output_type": "stream",
       "stream": "stdout",
       "text": [
        " FPURX\n",
        "Fund other paramters : "
       ]
      },
      {
       "output_type": "stream",
       "stream": "stdout",
       "text": [
        " FRIFX\n",
        "Fund other paramters : "
       ]
      },
      {
       "output_type": "stream",
       "stream": "stdout",
       "text": [
        " FRESX\n",
        "Fund other paramters : "
       ]
      },
      {
       "output_type": "stream",
       "stream": "stdout",
       "text": [
        " FSAIX\n",
        "Fund other paramters : "
       ]
      },
      {
       "output_type": "stream",
       "stream": "stdout",
       "text": [
        " FSAVX\n",
        "Fund other paramters : "
       ]
      },
      {
       "output_type": "stream",
       "stream": "stdout",
       "text": [
        " FSRBX\n",
        "Fund other paramters : "
       ]
      },
      {
       "output_type": "stream",
       "stream": "stdout",
       "text": [
        " FBIOX\n",
        "Fund other paramters : "
       ]
      },
      {
       "output_type": "stream",
       "stream": "stdout",
       "text": [
        " FSLBX\n",
        "Fund other paramters : "
       ]
      },
      {
       "output_type": "stream",
       "stream": "stdout",
       "text": [
        " FSCHX\n",
        "Fund other paramters : "
       ]
      },
      {
       "output_type": "stream",
       "stream": "stdout",
       "text": [
        " FSDCX\n",
        "Fund other paramters : "
       ]
      },
      {
       "output_type": "stream",
       "stream": "stdout",
       "text": [
        " FDCPX\n",
        "Fund other paramters : "
       ]
      },
      {
       "output_type": "stream",
       "stream": "stdout",
       "text": [
        " FSHOX\n",
        "Fund other paramters : "
       ]
      },
      {
       "output_type": "stream",
       "stream": "stdout",
       "text": [
        " FSCPX\n",
        "Fund other paramters : "
       ]
      },
      {
       "output_type": "stream",
       "stream": "stdout",
       "text": [
        " FSVLX\n",
        "Fund other paramters : "
       ]
      },
      {
       "output_type": "stream",
       "stream": "stdout",
       "text": [
        " FDFAX\n",
        "Fund other paramters : "
       ]
      },
      {
       "output_type": "stream",
       "stream": "stdout",
       "text": [
        " FSDAX\n",
        "Fund other paramters : "
       ]
      },
      {
       "output_type": "stream",
       "stream": "stdout",
       "text": [
        " FSELX\n",
        "Fund other paramters : "
       ]
      },
      {
       "output_type": "stream",
       "stream": "stdout",
       "text": [
        " FSENX\n",
        "Fund other paramters : "
       ]
      },
      {
       "output_type": "stream",
       "stream": "stdout",
       "text": [
        " FSESX\n",
        "Fund other paramters : "
       ]
      },
      {
       "output_type": "stream",
       "stream": "stdout",
       "text": [
        " FSLEX\n",
        "Fund other paramters : "
       ]
      },
      {
       "output_type": "stream",
       "stream": "stdout",
       "text": [
        " FIDSX\n",
        "Fund other paramters : "
       ]
      },
      {
       "output_type": "stream",
       "stream": "stdout",
       "text": [
        " FSAGX\n",
        "Fund other paramters : "
       ]
      },
      {
       "output_type": "stream",
       "stream": "stdout",
       "text": [
        " FSPHX\n",
        "Fund other paramters : "
       ]
      },
      {
       "output_type": "stream",
       "stream": "stdout",
       "text": [
        " FSCGX\n",
        "Fund other paramters : "
       ]
      },
      {
       "output_type": "stream",
       "stream": "stdout",
       "text": [
        " FCYIX\n",
        "Fund other paramters : "
       ]
      },
      {
       "output_type": "stream",
       "stream": "stdout",
       "text": [
        " FSPCX\n",
        "Fund other paramters : "
       ]
      },
      {
       "output_type": "stream",
       "stream": "stdout",
       "text": [
        " FBSOX\n",
        "Fund other paramters : "
       ]
      },
      {
       "output_type": "stream",
       "stream": "stdout",
       "text": [
        " FDLSX\n",
        "Fund other paramters : "
       ]
      },
      {
       "output_type": "stream",
       "stream": "stdout",
       "text": [
        " FSDPX\n",
        "Fund other paramters : "
       ]
      },
      {
       "output_type": "stream",
       "stream": "stdout",
       "text": [
        " FSHCX\n",
        "Fund other paramters : "
       ]
      },
      {
       "output_type": "stream",
       "stream": "stdout",
       "text": [
        " FSMEX\n",
        "Fund other paramters : "
       ]
      },
      {
       "output_type": "stream",
       "stream": "stdout",
       "text": [
        " FBMPX\n",
        "Fund other paramters : "
       ]
      },
      {
       "output_type": "stream",
       "stream": "stdout",
       "text": [
        " FSNGX\n",
        "Fund other paramters : "
       ]
      },
      {
       "output_type": "stream",
       "stream": "stdout",
       "text": [
        " FNARX\n",
        "Fund other paramters : "
       ]
      },
      {
       "output_type": "stream",
       "stream": "stdout",
       "text": [
        " FPHAX\n",
        "Fund other paramters : "
       ]
      },
      {
       "output_type": "stream",
       "stream": "stdout",
       "text": [
        " FSRPX\n",
        "Fund other paramters : "
       ]
      },
      {
       "output_type": "stream",
       "stream": "stdout",
       "text": [
        " FSCSX\n",
        "Fund other paramters : "
       ]
      },
      {
       "output_type": "stream",
       "stream": "stdout",
       "text": [
        " FSPTX\n",
        "Fund other paramters : "
       ]
      },
      {
       "output_type": "stream",
       "stream": "stdout",
       "text": [
        " FSTCX\n",
        "Fund other paramters : "
       ]
      },
      {
       "output_type": "stream",
       "stream": "stdout",
       "text": [
        " FSRFX\n",
        "Fund other paramters : "
       ]
      },
      {
       "output_type": "stream",
       "stream": "stdout",
       "text": [
        " FSUTX\n",
        "Fund other paramters : "
       ]
      },
      {
       "output_type": "stream",
       "stream": "stdout",
       "text": [
        " FWRLX\n",
        "Fund other paramters : "
       ]
      },
      {
       "output_type": "stream",
       "stream": "stdout",
       "text": [
        " FOHIX\n",
        "Fund other paramters : "
       ]
      },
      {
       "output_type": "stream",
       "stream": "stdout",
       "text": [
        " FIOOX\n",
        "Fund other paramters : "
       ]
      },
      {
       "output_type": "stream",
       "stream": "stdout",
       "text": [
        " FSAEX\n",
        "Fund other paramters : "
       ]
      },
      {
       "output_type": "stream",
       "stream": "stdout",
       "text": [
        " FSBDX\n",
        "Fund other paramters : "
       ]
      },
      {
       "output_type": "stream",
       "stream": "stdout",
       "text": [
        " FBMAX\n",
        "Fund other paramters : "
       ]
      },
      {
       "output_type": "stream",
       "stream": "stdout",
       "text": [
        " FCSSX\n",
        "Fund other paramters : "
       ]
      },
      {
       "output_type": "stream",
       "stream": "stdout",
       "text": [
        " FEMSX\n",
        "Fund other paramters : "
       ]
      },
      {
       "output_type": "stream",
       "stream": "stdout",
       "text": [
        " FEDCX\n",
        "Fund other paramters : "
       ]
      },
      {
       "output_type": "stream",
       "stream": "stdout",
       "text": [
        " FNKLX\n",
        "Fund other paramters : "
       ]
      },
      {
       "output_type": "stream",
       "stream": "stdout",
       "text": [
        " FFHCX\n",
        "Fund other paramters : "
       ]
      },
      {
       "output_type": "stream",
       "stream": "stdout",
       "text": [
        " FSGEX\n",
        "Fund other paramters : "
       ]
      },
      {
       "output_type": "stream",
       "stream": "stdout",
       "text": [
        " FGLGX\n",
        "Fund other paramters : "
       ]
      },
      {
       "output_type": "stream",
       "stream": "stdout",
       "text": [
        " FCGSX\n",
        "Fund other paramters : "
       ]
      },
      {
       "output_type": "stream",
       "stream": "stdout",
       "text": [
        " FSHNX\n",
        "Fund other paramters : "
       ]
      },
      {
       "output_type": "stream",
       "stream": "stdout",
       "text": [
        " FSIPX\n",
        "Fund other paramters : "
       ]
      },
      {
       "output_type": "stream",
       "stream": "stdout",
       "text": [
        " FIGSX\n",
        "Fund other paramters : "
       ]
      },
      {
       "output_type": "stream",
       "stream": "stdout",
       "text": [
        " FSTSX\n",
        "Fund other paramters : "
       ]
      },
      {
       "output_type": "stream",
       "stream": "stdout",
       "text": [
        " FINVX\n",
        "Fund other paramters : "
       ]
      },
      {
       "output_type": "stream",
       "stream": "stdout",
       "text": [
        " FGLLX\n",
        "Fund other paramters : "
       ]
      },
      {
       "output_type": "stream",
       "stream": "stdout",
       "text": [
        " FSIGX\n",
        "Fund other paramters : "
       ]
      },
      {
       "output_type": "stream",
       "stream": "stdout",
       "text": [
        " FVWSX\n",
        "Fund other paramters : "
       ]
      },
      {
       "output_type": "stream",
       "stream": "stdout",
       "text": [
        " FREDX\n",
        "Fund other paramters : "
       ]
      },
      {
       "output_type": "stream",
       "stream": "stdout",
       "text": [
        " FSREX\n",
        "Fund other paramters : "
       ]
      },
      {
       "output_type": "stream",
       "stream": "stdout",
       "text": [
        " FJACX\n",
        "Fund other paramters : "
       ]
      },
      {
       "output_type": "stream",
       "stream": "stdout",
       "text": [
        " FSOPX\n",
        "Fund other paramters : "
       ]
      },
      {
       "output_type": "stream",
       "stream": "stdout",
       "text": [
        " FBLEX\n",
        "Fund other paramters : "
       ]
      },
      {
       "output_type": "stream",
       "stream": "stdout",
       "text": [
        " FSHBX\n",
        "Fund other paramters : "
       ]
      },
      {
       "output_type": "stream",
       "stream": "stdout",
       "text": [
        " FSCRX\n",
        "Fund other paramters : "
       ]
      },
      {
       "output_type": "stream",
       "stream": "stdout",
       "text": [
        " FCPEX\n",
        "Fund other paramters : "
       ]
      },
      {
       "output_type": "stream",
       "stream": "stdout",
       "text": [
        " FSLCX\n",
        "Fund other paramters : "
       ]
      },
      {
       "output_type": "stream",
       "stream": "stdout",
       "text": [
        " FDSSX\n",
        "Fund other paramters : "
       ]
      },
      {
       "output_type": "stream",
       "stream": "stdout",
       "text": [
        " FSLVX\n",
        "Fund other paramters : "
       ]
      },
      {
       "output_type": "stream",
       "stream": "stdout",
       "text": [
        " FDSCX\n",
        "Fund other paramters : "
       ]
      },
      {
       "output_type": "stream",
       "stream": "stdout",
       "text": [
        " FSICX\n",
        "Fund other paramters : "
       ]
      },
      {
       "output_type": "stream",
       "stream": "stdout",
       "text": [
        " FTABX\n",
        "Fund other paramters : "
       ]
      },
      {
       "output_type": "stream",
       "stream": "stdout",
       "text": [
        " FIUIX\n",
        "Fund other paramters : "
       ]
      },
      {
       "output_type": "stream",
       "stream": "stdout",
       "text": [
        " FTBFX\n",
        "Fund other paramters : "
       ]
      },
      {
       "output_type": "stream",
       "stream": "stdout",
       "text": [
        " FTRNX\n",
        "Fund other paramters : "
       ]
      },
      {
       "output_type": "stream",
       "stream": "stdout",
       "text": [
        " FDVLX\n",
        "Fund other paramters : "
       ]
      },
      {
       "output_type": "stream",
       "stream": "stdout",
       "text": [
        " FVDFX\n",
        "Fund other paramters : "
       ]
      },
      {
       "output_type": "stream",
       "stream": "stdout",
       "text": [
        " FWWFX\n",
        "Fund other paramters : "
       ]
      },
      {
       "output_type": "stream",
       "stream": "stdout",
       "text": [
        " FCSAX\n",
        "Fund other paramters : "
       ]
      },
      {
       "output_type": "stream",
       "stream": "stdout",
       "text": [
        " FWHBX\n",
        "Fund other paramters : "
       ]
      },
      {
       "output_type": "stream",
       "stream": "stdout",
       "text": [
        " FPCIX\n",
        "Fund other paramters : "
       ]
      },
      {
       "output_type": "stream",
       "stream": "stdout",
       "text": [
        " FLAUX\n",
        "Fund other paramters : "
       ]
      },
      {
       "output_type": "stream",
       "stream": "stdout",
       "text": [
        " FSAMX\n",
        "Fund other paramters : "
       ]
      },
      {
       "output_type": "stream",
       "stream": "stdout",
       "text": [
        " FLILX\n",
        "Fund other paramters : "
       ]
      },
      {
       "output_type": "stream",
       "stream": "stdout",
       "text": [
        " FSGFX\n",
        "Fund other paramters : "
       ]
      },
      {
       "output_type": "stream",
       "stream": "stdout",
       "text": [
        " FMELX\n",
        "Fund other paramters : "
       ]
      },
      {
       "output_type": "stream",
       "stream": "stdout",
       "text": [
        " FSADX\n",
        "Fund other paramters : "
       ]
      },
      {
       "output_type": "stream",
       "stream": "stdout",
       "text": [
        " FPIOX\n",
        "Fund other paramters : "
       ]
      },
      {
       "output_type": "stream",
       "stream": "stdout",
       "text": [
        " FILFX\n",
        "Fund other paramters : "
       ]
      },
      {
       "output_type": "stream",
       "stream": "stdout",
       "text": [
        " FUSIX\n",
        "Fund other paramters : "
       ]
      },
      {
       "output_type": "stream",
       "stream": "stdout",
       "text": [
        " FMJDX\n",
        "Fund other paramters : "
       ]
      },
      {
       "output_type": "stream",
       "stream": "stdout",
       "text": [
        " FEHPX\n",
        "Fund other paramters : "
       ]
      },
      {
       "output_type": "stream",
       "stream": "stdout",
       "text": [
        " FEMPX\n",
        "Fund other paramters : "
       ]
      },
      {
       "output_type": "stream",
       "stream": "stdout",
       "text": [
        " FEJPX\n",
        "Fund other paramters : "
       ]
      },
      {
       "output_type": "stream",
       "stream": "stdout",
       "text": [
        " FEKPX\n",
        "Fund other paramters : "
       ]
      },
      {
       "output_type": "stream",
       "stream": "stdout",
       "text": [
        " FEDPX\n",
        "Fund other paramters : "
       ]
      },
      {
       "output_type": "stream",
       "stream": "stdout",
       "text": [
        " FECPX\n",
        "Fund other paramters : "
       ]
      },
      {
       "output_type": "stream",
       "stream": "stdout",
       "text": [
        " FENPX\n",
        "Fund other paramters : "
       ]
      },
      {
       "output_type": "stream",
       "stream": "stdout",
       "text": [
        " FEWPX\n",
        "Fund other paramters : "
       ]
      },
      {
       "output_type": "stream",
       "stream": "stdout",
       "text": [
        " FEZPX\n",
        "Fund other paramters : "
       ]
      },
      {
       "output_type": "stream",
       "stream": "stdout",
       "text": [
        " FEYPX\n",
        "Fund other paramters : "
       ]
      },
      {
       "output_type": "stream",
       "stream": "stdout",
       "text": [
        " FESPX\n",
        "Fund other paramters : "
       ]
      },
      {
       "output_type": "stream",
       "stream": "stdout",
       "text": [
        " FEBPX\n",
        "Fund other paramters : "
       ]
      },
      {
       "output_type": "stream",
       "stream": "stdout",
       "text": [
        " FAUDX\n",
        "Fund other paramters : "
       ]
      },
      {
       "output_type": "stream",
       "stream": "stdout",
       "text": [
        " FNAPX\n",
        "Fund other paramters : "
       ]
      },
      {
       "output_type": "stream",
       "stream": "stdout",
       "text": [
        " FSCFX\n",
        "Fund other paramters : "
       ]
      },
      {
       "output_type": "stream",
       "stream": "stdout",
       "text": [
        " FVSAX\n",
        "Fund other paramters : "
       ]
      },
      {
       "output_type": "stream",
       "stream": "stdout",
       "text": [
        " FKMOX\n",
        "Fund other paramters : "
       ]
      },
      {
       "output_type": "stream",
       "stream": "stdout",
       "text": [
        " FISAX\n",
        "Fund other paramters : "
       ]
      },
      {
       "output_type": "stream",
       "stream": "stdout",
       "text": [
        " FRALX\n",
        "Fund other paramters : "
       ]
      },
      {
       "output_type": "stream",
       "stream": "stdout",
       "text": [
        " FRAVX\n",
        "Fund other paramters : "
       ]
      },
      {
       "output_type": "stream",
       "stream": "stdout",
       "text": [
        " FTAZX\n",
        "Fund other paramters : "
       ]
      },
      {
       "output_type": "stream",
       "stream": "stdout",
       "text": [
        " FRBSX\n",
        "Fund other paramters : "
       ]
      },
      {
       "output_type": "stream",
       "stream": "stdout",
       "text": [
        " FBLAX\n",
        "Fund other paramters : "
       ]
      },
      {
       "output_type": "stream",
       "stream": "stdout",
       "text": [
        " FBDIX\n",
        "Fund other paramters : "
       ]
      },
      {
       "output_type": "stream",
       "stream": "stdout",
       "text": [
        " FCAMX\n",
        "Fund other paramters : "
       ]
      },
      {
       "output_type": "stream",
       "stream": "stdout",
       "text": [
        " FRCIX\n",
        "Fund other paramters : "
       ]
      },
      {
       "output_type": "stream",
       "stream": "stdout",
       "text": [
        " FKCIX\n",
        "Fund other paramters : "
       ]
      },
      {
       "output_type": "stream",
       "stream": "stdout",
       "text": [
        " FKTFX\n",
        "Fund other paramters : "
       ]
      },
      {
       "output_type": "stream",
       "stream": "stdout",
       "text": [
        " FRCOX\n",
        "Fund other paramters : "
       ]
      },
      {
       "output_type": "stream",
       "stream": "stdout",
       "text": [
        " FTCIX\n",
        "Fund other paramters : "
       ]
      },
      {
       "output_type": "stream",
       "stream": "stdout",
       "text": [
        " FISCX\n",
        "Fund other paramters : "
       ]
      },
      {
       "output_type": "stream",
       "stream": "stdout",
       "text": [
        " FTCOX\n",
        "Fund other paramters : "
       ]
      },
      {
       "output_type": "stream",
       "stream": "stdout",
       "text": [
        " FXCTX\n",
        "Fund other paramters : "
       ]
      },
      {
       "output_type": "stream",
       "stream": "stdout",
       "text": [
        " FPRTX\n",
        "Fund other paramters : "
       ]
      },
      {
       "output_type": "stream",
       "stream": "stdout",
       "text": [
        " FKDNX\n",
        "Fund other paramters : "
       ]
      },
      {
       "output_type": "stream",
       "stream": "stdout",
       "text": [
        " FEMDX\n",
        "Fund other paramters : "
       ]
      },
      {
       "output_type": "stream",
       "stream": "stdout",
       "text": [
        " FISEX\n",
        "Fund other paramters : "
       ]
      },
      {
       "output_type": "stream",
       "stream": "stdout",
       "text": [
        " FKITX\n",
        "Fund other paramters : "
       ]
      },
      {
       "output_type": "stream",
       "stream": "stdout",
       "text": [
        " FFTFX\n",
        "Fund other paramters : "
       ]
      },
      {
       "output_type": "stream",
       "stream": "stdout",
       "text": [
        " FKTIX\n",
        "Fund other paramters : "
       ]
      },
      {
       "output_type": "stream",
       "stream": "stdout",
       "text": [
        " FRFLX\n",
        "Fund other paramters : "
       ]
      },
      {
       "output_type": "stream",
       "stream": "stdout",
       "text": [
        " FKCGX\n",
        "Fund other paramters : "
       ]
      },
      {
       "output_type": "stream",
       "stream": "stdout",
       "text": [
        " FAFRX\n",
        "Fund other paramters : "
       ]
      },
      {
       "output_type": "stream",
       "stream": "stdout",
       "text": [
        " FCEQX\n",
        "Fund other paramters : "
       ]
      },
      {
       "output_type": "stream",
       "stream": "stdout",
       "text": [
        " FFALX\n",
        "Fund other paramters : "
       ]
      },
      {
       "output_type": "stream",
       "stream": "stdout",
       "text": [
        " FTGAX\n",
        "Fund other paramters : "
       ]
      },
      {
       "output_type": "stream",
       "stream": "stdout",
       "text": [
        " FGAAX\n",
        "Fund other paramters : "
       ]
      },
      {
       "output_type": "stream",
       "stream": "stdout",
       "text": [
        " FGGAX\n",
        "Fund other paramters : "
       ]
      },
      {
       "output_type": "stream",
       "stream": "stdout",
       "text": [
        " FLGIX\n",
        "Fund other paramters : "
       ]
      },
      {
       "output_type": "stream",
       "stream": "stdout",
       "text": [
        " FGRRX\n",
        "Fund other paramters : "
       ]
      },
      {
       "output_type": "stream",
       "stream": "stdout",
       "text": [
        " FKRCX\n",
        "Fund other paramters : "
       ]
      },
      {
       "output_type": "stream",
       "stream": "stdout",
       "text": [
        " FKGRX\n",
        "Fund other paramters : "
       ]
      },
      {
       "output_type": "stream",
       "stream": "stdout",
       "text": [
        " FGTIX\n",
        "Fund other paramters : "
       ]
      },
      {
       "output_type": "stream",
       "stream": "stdout",
       "text": [
        " FGRAX\n",
        "Fund other paramters : "
       ]
      },
      {
       "output_type": "stream",
       "stream": "stdout",
       "text": [
        " FHAIX\n",
        "Fund other paramters : "
       ]
      },
      {
       "output_type": "stream",
       "stream": "stdout",
       "text": [
        " FRHIX\n",
        "Fund other paramters : "
       ]
      },
      {
       "output_type": "stream",
       "stream": "stdout",
       "text": [
        " FKINX\n",
        "Fund other paramters : "
       ]
      },
      {
       "output_type": "stream",
       "stream": "stdout",
       "text": [
        " FINGX\n",
        "Fund other paramters : "
       ]
      },
      {
       "output_type": "stream",
       "stream": "stdout",
       "text": [
        " FTFIX\n",
        "Fund other paramters : "
       ]
      },
      {
       "output_type": "stream",
       "stream": "stdout",
       "text": [
        " FNGAX\n",
        "Fund other paramters : "
       ]
      },
      {
       "output_type": "stream",
       "stream": "stdout",
       "text": [
        " FKSCX\n",
        "Fund other paramters : "
       ]
      },
      {
       "output_type": "stream",
       "stream": "stdout",
       "text": [
        " FAAAX\n",
        "Fund other paramters : "
       ]
      },
      {
       "output_type": "stream",
       "stream": "stdout",
       "text": [
        " FRKYX\n",
        "Fund other paramters : "
       ]
      },
      {
       "output_type": "stream",
       "stream": "stdout",
       "text": [
        " FKLAX\n",
        "Fund other paramters : "
       ]
      },
      {
       "output_type": "stream",
       "stream": "stdout",
       "text": [
        " FLCIX\n",
        "Fund other paramters : "
       ]
      },
      {
       "output_type": "stream",
       "stream": "stdout",
       "text": [
        " FLVAX\n",
        "Fund other paramters : "
       ]
      },
      {
       "output_type": "stream",
       "stream": "stdout",
       "text": [
        " FTRAX\n",
        "Fund other paramters : "
       ]
      },
      {
       "output_type": "stream",
       "stream": "stdout",
       "text": [
        " FTRTX\n",
        "Fund other paramters : "
       ]
      },
      {
       "output_type": "stream",
       "stream": "stdout",
       "text": [
        " FRTAX\n",
        "Fund other paramters : "
       ]
      },
      {
       "output_type": "stream",
       "stream": "stdout",
       "text": [
        " FTTAX\n",
        "Fund other paramters : "
       ]
      },
      {
       "output_type": "stream",
       "stream": "stdout",
       "text": [
        " FLDAX\n",
        "Fund other paramters : "
       ]
      },
      {
       "output_type": "stream",
       "stream": "stdout",
       "text": [
        " FMISX\n",
        "Fund other paramters : "
       ]
      },
      {
       "output_type": "stream",
       "stream": "stdout",
       "text": [
        " FMDTX\n",
        "Fund other paramters : "
       ]
      },
      {
       "output_type": "stream",
       "stream": "stdout",
       "text": [
        " FTTMX\n",
        "Fund other paramters : "
       ]
      },
      {
       "output_type": "stream",
       "stream": "stdout",
       "text": [
        " FRMCX\n",
        "Fund other paramters : "
       ]
      },
      {
       "output_type": "stream",
       "stream": "stdout",
       "text": [
        " FMVAX\n",
        "Fund other paramters : "
       ]
      },
      {
       "output_type": "stream",
       "stream": "stdout",
       "text": [
        " FMINX\n",
        "Fund other paramters : "
       ]
      },
      {
       "output_type": "stream",
       "stream": "stdout",
       "text": [
        " FRMOX\n",
        "Fund other paramters : "
       ]
      },
      {
       "output_type": "stream",
       "stream": "stdout",
       "text": [
        " FMTIX\n",
        "Fund other paramters : "
       ]
      },
      {
       "output_type": "stream",
       "stream": "stdout",
       "text": [
        " FTMAX\n",
        "Fund other paramters : "
       ]
      },
      {
       "output_type": "stream",
       "stream": "stdout",
       "text": [
        " BEGRX\n",
        "Fund other paramters : "
       ]
      },
      {
       "output_type": "stream",
       "stream": "stdout",
       "text": [
        " MEURX\n",
        "Fund other paramters : "
       ]
      },
      {
       "output_type": "stream",
       "stream": "stdout",
       "text": [
        " TFSIX\n",
        "Fund other paramters : "
       ]
      },
      {
       "output_type": "stream",
       "stream": "stdout",
       "text": [
        " MDISX\n",
        "Fund other paramters : "
       ]
      },
      {
       "output_type": "stream",
       "stream": "stdout",
       "text": [
        " FMIAX\n",
        "Fund other paramters : "
       ]
      },
      {
       "output_type": "stream",
       "stream": "stdout",
       "text": [
        " MQIFX\n",
        "Fund other paramters : "
       ]
      },
      {
       "output_type": "stream",
       "stream": "stdout",
       "text": [
        " MUTHX\n",
        "Fund other paramters : "
       ]
      },
      {
       "output_type": "stream",
       "stream": "stdout",
       "text": [
        " FRNRX\n",
        "Fund other paramters : "
       ]
      },
      {
       "output_type": "stream",
       "stream": "stdout",
       "text": [
        " FXNCX\n",
        "Fund other paramters : "
       ]
      },
      {
       "output_type": "stream",
       "stream": "stdout",
       "text": [
        " FRNJX\n",
        "Fund other paramters : "
       ]
      },
      {
       "output_type": "stream",
       "stream": "stdout",
       "text": [
        " FKNIX\n",
        "Fund other paramters : "
       ]
      },
      {
       "output_type": "stream",
       "stream": "stdout",
       "text": [
        " FNYTX\n",
        "Fund other paramters : "
       ]
      },
      {
       "output_type": "stream",
       "stream": "stdout",
       "text": [
        " FTOIX\n",
        "Fund other paramters : "
       ]
      },
      {
       "output_type": "stream",
       "stream": "stdout",
       "text": [
        " FRORX\n",
        "Fund other paramters : "
       ]
      },
      {
       "output_type": "stream",
       "stream": "stdout",
       "text": [
        " FRPAX\n",
        "Fund other paramters : "
       ]
      },
      {
       "output_type": "stream",
       "stream": "stdout",
       "text": [
        " FREEX\n",
        "Fund other paramters : "
       ]
      },
      {
       "output_type": "stream",
       "stream": "stdout",
       "text": [
        " FRRAX\n",
        "Fund other paramters : "
       ]
      },
      {
       "output_type": "stream",
       "stream": "stdout",
       "text": [
        " FRDPX\n",
        "Fund other paramters : "
       ]
      },
      {
       "output_type": "stream",
       "stream": "stdout",
       "text": [
        " FSGRX\n",
        "Fund other paramters : "
       ]
      },
      {
       "output_type": "stream",
       "stream": "stdout",
       "text": [
        " FRVLX\n",
        "Fund other paramters : "
       ]
      },
      {
       "output_type": "stream",
       "stream": "stdout",
       "text": [
        " FRSGX\n",
        "Fund other paramters : "
       ]
      },
      {
       "output_type": "stream",
       "stream": "stdout",
       "text": [
        " FRSTX\n",
        "Fund other paramters : "
       ]
      },
      {
       "output_type": "stream",
       "stream": "stdout",
       "text": [
        " FSMIX\n",
        "Fund other paramters : "
       ]
      },
      {
       "output_type": "stream",
       "stream": "stdout",
       "text": [
        " FRTIX\n",
        "Fund other paramters : "
       ]
      },
      {
       "output_type": "stream",
       "stream": "stdout",
       "text": [
        " FKBAX\n",
        "Fund other paramters : "
       ]
      },
      {
       "output_type": "stream",
       "stream": "stdout",
       "text": [
        " FKUSX\n",
        "Fund other paramters : "
       ]
      },
      {
       "output_type": "stream",
       "stream": "stdout",
       "text": [
        " FKUTX\n",
        "Fund other paramters : "
       ]
      },
      {
       "output_type": "stream",
       "stream": "stdout",
       "text": [
        " FRVAX\n",
        "Fund other paramters : "
       ]
      },
      {
       "output_type": "stream",
       "stream": "stdout",
       "text": [
        " FWPAX\n",
        "Fund other paramters : "
       ]
      },
      {
       "output_type": "stream",
       "stream": "stdout",
       "text": [
        " TABRX\n",
        "Fund other paramters : "
       ]
      },
      {
       "output_type": "stream",
       "stream": "stdout",
       "text": [
        " TCWAX\n",
        "Fund other paramters : "
       ]
      },
      {
       "output_type": "stream",
       "stream": "stdout",
       "text": [
        " TEDMX\n",
        "Fund other paramters : "
       ]
      },
      {
       "output_type": "stream",
       "stream": "stdout",
       "text": [
        " TAEMX\n",
        "Fund other paramters : "
       ]
      },
      {
       "output_type": "stream",
       "stream": "stdout",
       "text": [
        " FEMGX\n",
        "Fund other paramters : "
       ]
      },
      {
       "output_type": "stream",
       "stream": "stdout",
       "text": [
        " TEMMX\n",
        "Fund other paramters : "
       ]
      },
      {
       "output_type": "stream",
       "stream": "stdout",
       "text": [
        " TEMFX\n",
        "Fund other paramters : "
       ]
      },
      {
       "output_type": "stream",
       "stream": "stdout",
       "text": [
        " FINEX\n",
        "Fund other paramters : "
       ]
      },
      {
       "output_type": "stream",
       "stream": "stdout",
       "text": [
        " TFMAX\n",
        "Fund other paramters : "
       ]
      },
      {
       "output_type": "stream",
       "stream": "stdout",
       "text": [
        " TINCX\n",
        "Fund other paramters : "
       ]
      },
      {
       "output_type": "stream",
       "stream": "stdout",
       "text": [
        " TPINX\n",
        "Fund other paramters : "
       ]
      },
      {
       "output_type": "stream",
       "stream": "stdout",
       "text": [
        " TEGOX\n",
        "Fund other paramters : "
       ]
      },
      {
       "output_type": "stream",
       "stream": "stdout",
       "text": [
        " TEMGX\n",
        "Fund other paramters : "
       ]
      },
      {
       "output_type": "stream",
       "stream": "stdout",
       "text": [
        " TGTRX\n",
        "Fund other paramters : "
       ]
      },
      {
       "output_type": "stream",
       "stream": "stdout",
       "text": [
        " TEPLX\n",
        "Fund other paramters : "
       ]
      },
      {
       "output_type": "stream",
       "stream": "stdout",
       "text": [
        " ICPHX\n",
        "Fund other paramters : "
       ]
      },
      {
       "output_type": "stream",
       "stream": "stdout",
       "text": [
        " TFSCX\n",
        "Fund other paramters : "
       ]
      },
      {
       "output_type": "stream",
       "stream": "stdout",
       "text": [
        " TGESX\n",
        "Fund other paramters : "
       ]
      },
      {
       "output_type": "stream",
       "stream": "stdout",
       "text": [
        " TEEMX\n",
        "Fund other paramters : "
       ]
      },
      {
       "output_type": "stream",
       "stream": "stdout",
       "text": [
        " TFEQX\n",
        "Fund other paramters : "
       ]
      },
      {
       "output_type": "stream",
       "stream": "stdout",
       "text": [
        " TBOAX\n",
        "Fund other paramters : "
       ]
      },
      {
       "output_type": "stream",
       "stream": "stdout",
       "text": [
        " TEMWX\n",
        "Fund other paramters : "
       ]
      },
      {
       "output_type": "stream",
       "stream": "stdout",
       "text": [
        " BDOIX\n",
        "Fund other paramters : "
       ]
      },
      {
       "output_type": "stream",
       "stream": "stdout",
       "text": [
        " BAAPX\n",
        "Fund other paramters : "
       ]
      },
      {
       "output_type": "stream",
       "stream": "stdout",
       "text": [
        " BACAX\n",
        "Fund other paramters : "
       ]
      },
      {
       "output_type": "stream",
       "stream": "stdout",
       "text": [
        " BRACX\n",
        "Fund other paramters : "
       ]
      },
      {
       "output_type": "stream",
       "stream": "stdout",
       "text": [
        " BRAMX\n",
        "Fund other paramters : "
       ]
      },
      {
       "output_type": "stream",
       "stream": "stdout",
       "text": [
        " BATPX\n",
        "Fund other paramters : "
       ]
      },
      {
       "output_type": "stream",
       "stream": "stdout",
       "text": [
        " BRASX\n",
        "Fund other paramters : "
       ]
      },
      {
       "output_type": "stream",
       "stream": "stdout",
       "text": [
        " MACPX\n",
        "Fund other paramters : "
       ]
      },
      {
       "output_type": "stream",
       "stream": "stdout",
       "text": [
        " MABAX\n",
        "Fund other paramters : "
       ]
      },
      {
       "output_type": "stream",
       "stream": "stdout",
       "text": [
        " WFBIX\n",
        "Fund other paramters : "
       ]
      },
      {
       "output_type": "stream",
       "stream": "stdout",
       "text": [
        " MBCMX\n",
        "Fund other paramters : "
       ]
      },
      {
       "output_type": "stream",
       "stream": "stdout",
       "text": [
        " MDFGX\n",
        "Fund other paramters : "
       ]
      },
      {
       "output_type": "stream",
       "stream": "stdout",
       "text": [
        " BCSAX\n",
        "Fund other paramters : "
       ]
      },
      {
       "output_type": "stream",
       "stream": "stdout",
       "text": [
        " BACPX\n",
        "Fund other paramters : "
       ]
      },
      {
       "output_type": "stream",
       "stream": "stdout",
       "text": [
        " BFMCX\n",
        "Fund other paramters : "
       ]
      },
      {
       "output_type": "stream",
       "stream": "stdout",
       "text": [
        " BCRIX\n",
        "Fund other paramters : "
       ]
      },
      {
       "output_type": "stream",
       "stream": "stdout",
       "text": [
        " BDSAX\n",
        "Fund other paramters : "
       ]
      },
      {
       "output_type": "stream",
       "stream": "stdout",
       "text": [
        " BAEDX\n",
        "Fund other paramters : "
       ]
      },
      {
       "output_type": "stream",
       "stream": "stdout",
       "text": [
        " BEEAX\n",
        "Fund other paramters : "
       ]
      },
      {
       "output_type": "stream",
       "stream": "stdout",
       "text": [
        " BACHX\n",
        "Fund other paramters : "
       ]
      },
      {
       "output_type": "stream",
       "stream": "stdout",
       "text": [
        " BLSAX\n",
        "Fund other paramters : "
       ]
      },
      {
       "output_type": "stream",
       "stream": "stdout",
       "text": [
        " MADCX\n",
        "Fund other paramters : "
       ]
      },
      {
       "output_type": "stream",
       "stream": "stdout",
       "text": [
        " SSGRX\n",
        "Fund other paramters : "
       ]
      },
      {
       "output_type": "stream",
       "stream": "stdout",
       "text": [
        " MBDVX\n",
        "Fund other paramters : "
       ]
      },
      {
       "output_type": "stream",
       "stream": "stdout",
       "text": [
        " MAEFX\n",
        "Fund other paramters : "
       ]
      },
      {
       "output_type": "stream",
       "stream": "stdout",
       "text": [
        " STSEX\n",
        "Fund other paramters : "
       ]
      },
      {
       "output_type": "stream",
       "stream": "stdout",
       "text": [
        " BMCAX\n",
        "Fund other paramters : "
       ]
      },
      {
       "output_type": "stream",
       "stream": "stdout",
       "text": [
        " BFRAX\n",
        "Fund other paramters : "
       ]
      },
      {
       "output_type": "stream",
       "stream": "stdout",
       "text": [
        " MDFOX\n",
        "Fund other paramters : "
       ]
      },
      {
       "output_type": "stream",
       "stream": "stdout",
       "text": [
        " MBLOX\n",
        "Fund other paramters : "
       ]
      },
      {
       "output_type": "stream",
       "stream": "stdout",
       "text": [
        " BABDX\n",
        "Fund other paramters : "
       ]
      },
      {
       "output_type": "stream",
       "stream": "stdout",
       "text": [
        " BGCAX\n",
        "Fund other paramters : "
       ]
      },
      {
       "output_type": "stream",
       "stream": "stdout",
       "text": [
        " BDMAX\n",
        "Fund other paramters : "
       ]
      },
      {
       "output_type": "stream",
       "stream": "stdout",
       "text": [
        " BROAX\n",
        "Fund other paramters : "
       ]
      },
      {
       "output_type": "stream",
       "stream": "stdout",
       "text": [
        " MDGCX\n",
        "Fund other paramters : "
       ]
      },
      {
       "output_type": "stream",
       "stream": "stdout",
       "text": [
        " BGPAX\n",
        "Fund other paramters : "
       ]
      },
      {
       "output_type": "stream",
       "stream": "stdout",
       "text": [
        " BAGPX\n",
        "Fund other paramters : "
       ]
      },
      {
       "output_type": "stream",
       "stream": "stdout",
       "text": [
        " SHSAX\n",
        "Fund other paramters : "
       ]
      },
      {
       "output_type": "stream",
       "stream": "stdout",
       "text": [
        " BHYAX\n",
        "Fund other paramters : "
       ]
      },
      {
       "output_type": "stream",
       "stream": "stdout",
       "text": [
        " MDYHX\n",
        "Fund other paramters : "
       ]
      },
      {
       "output_type": "stream",
       "stream": "stdout",
       "text": [
        " BPRAX\n",
        "Fund other paramters : "
       ]
      },
      {
       "output_type": "stream",
       "stream": "stdout",
       "text": [
        " MAIIX\n",
        "Fund other paramters : "
       ]
      },
      {
       "output_type": "stream",
       "stream": "stdout",
       "text": [
        " MDILX\n",
        "Fund other paramters : "
       ]
      },
      {
       "output_type": "stream",
       "stream": "stdout",
       "text": [
        " BREAX\n",
        "Fund other paramters : "
       ]
      },
      {
       "output_type": "stream",
       "stream": "stdout",
       "text": [
        " BLADX\n",
        "Fund other paramters : "
       ]
      },
      {
       "output_type": "stream",
       "stream": "stdout",
       "text": [
        " MDLRX\n",
        "Fund other paramters : "
       ]
      },
      {
       "output_type": "stream",
       "stream": "stdout",
       "text": [
        " BALPX\n",
        "Fund other paramters : "
       ]
      },
      {
       "output_type": "stream",
       "stream": "stdout",
       "text": [
        " MKLRX\n",
        "Fund other paramters : "
       ]
      },
      {
       "output_type": "stream",
       "stream": "stdout",
       "text": [
        " MDLHX\n",
        "Fund other paramters : "
       ]
      },
      {
       "output_type": "stream",
       "stream": "stdout",
       "text": [
        " MKLHX\n",
        "Fund other paramters : "
       ]
      },
      {
       "output_type": "stream",
       "stream": "stdout",
       "text": [
        " MDLVX\n",
        "Fund other paramters : "
       ]
      },
      {
       "output_type": "stream",
       "stream": "stdout",
       "text": [
        " MKLVX\n",
        "Fund other paramters : "
       ]
      },
      {
       "output_type": "stream",
       "stream": "stdout",
       "text": [
        " MDLTX\n",
        "Fund other paramters : "
       ]
      },
      {
       "output_type": "stream",
       "stream": "stdout",
       "text": [
        " STLCX\n",
        "Fund other paramters : "
       ]
      },
      {
       "output_type": "stream",
       "stream": "stdout",
       "text": [
        " LPBAX\n",
        "Fund other paramters : "
       ]
      },
      {
       "output_type": "stream",
       "stream": "stdout",
       "text": [
        " STLDX\n",
        "Fund other paramters : "
       ]
      },
      {
       "output_type": "stream",
       "stream": "stdout",
       "text": [
        " LPJAX\n",
        "Fund other paramters : "
       ]
      },
      {
       "output_type": "stream",
       "stream": "stdout",
       "text": [
        " STLEX\n",
        "Fund other paramters : "
       ]
      },
      {
       "output_type": "stream",
       "stream": "stdout",
       "text": [
        " LPHAX\n",
        "Fund other paramters : "
       ]
      },
      {
       "output_type": "stream",
       "stream": "stdout",
       "text": [
        " LPRFX\n",
        "Fund other paramters : "
       ]
      },
      {
       "output_type": "stream",
       "stream": "stdout",
       "text": [
        " LPVAX\n",
        "Fund other paramters : "
       ]
      },
      {
       "output_type": "stream",
       "stream": "stdout",
       "text": [
        " BAPBX\n",
        "Fund other paramters : "
       ]
      },
      {
       "output_type": "stream",
       "stream": "stdout",
       "text": [
        " BAPCX\n",
        "Fund other paramters : "
       ]
      },
      {
       "output_type": "stream",
       "stream": "stdout",
       "text": [
        " BAPDX\n",
        "Fund other paramters : "
       ]
      },
      {
       "output_type": "stream",
       "stream": "stdout",
       "text": [
        " BAPEX\n",
        "Fund other paramters : "
       ]
      },
      {
       "output_type": "stream",
       "stream": "stdout",
       "text": [
        " BAPGX\n",
        "Fund other paramters : "
       ]
      },
      {
       "output_type": "stream",
       "stream": "stdout",
       "text": [
        " BAPHX\n",
        "Fund other paramters : "
       ]
      },
      {
       "output_type": "stream",
       "stream": "stdout",
       "text": [
        " BAPJX\n",
        "Fund other paramters : "
       ]
      },
      {
       "output_type": "stream",
       "stream": "stdout",
       "text": [
        " BAPKX\n",
        "Fund other paramters : "
       ]
      },
      {
       "output_type": "stream",
       "stream": "stdout",
       "text": [
        " BAPLX\n",
        "Fund other paramters : "
       ]
      },
      {
       "output_type": "stream",
       "stream": "stdout",
       "text": [
        " LIQIX\n",
        "Fund other paramters : "
       ]
      },
      {
       "output_type": "stream",
       "stream": "stdout",
       "text": [
        " LIBIX\n",
        "Fund other paramters : "
       ]
      },
      {
       "output_type": "stream",
       "stream": "stdout",
       "text": [
        " LINIX\n",
        "Fund other paramters : "
       ]
      },
      {
       "output_type": "stream",
       "stream": "stdout",
       "text": [
        " LIJIX\n",
        "Fund other paramters : "
       ]
      },
      {
       "output_type": "stream",
       "stream": "stdout",
       "text": [
        " LIKIX\n",
        "Fund other paramters : "
       ]
      },
      {
       "output_type": "stream",
       "stream": "stdout",
       "text": [
        " LIHIX\n",
        "Fund other paramters : "
       ]
      },
      {
       "output_type": "stream",
       "stream": "stdout",
       "text": [
        " LIPIX\n",
        "Fund other paramters : "
       ]
      },
      {
       "output_type": "stream",
       "stream": "stdout",
       "text": [
        " LIVIX\n",
        "Fund other paramters : "
       ]
      },
      {
       "output_type": "stream",
       "stream": "stdout",
       "text": [
        " LIRIX\n",
        "Fund other paramters : "
       ]
      },
      {
       "output_type": "stream",
       "stream": "stdout",
       "text": [
        " STLAX\n",
        "Fund other paramters : "
       ]
      },
      {
       "output_type": "stream",
       "stream": "stdout",
       "text": [
        " MDEGX\n",
        "Fund other paramters : "
       ]
      },
      {
       "output_type": "stream",
       "stream": "stdout",
       "text": [
        " BFMSX\n",
        "Fund other paramters : "
       ]
      },
      {
       "output_type": "stream",
       "stream": "stdout",
       "text": [
        " PCBAX\n",
        "Fund other paramters : "
       ]
      },
      {
       "output_type": "stream",
       "stream": "stdout",
       "text": [
        " MDRFX\n",
        "Fund other paramters : "
       ]
      },
      {
       "output_type": "stream",
       "stream": "stdout",
       "text": [
        " BMGAX\n",
        "Fund other paramters : "
       ]
      },
      {
       "output_type": "stream",
       "stream": "stdout",
       "text": [
        " BAMPX\n",
        "Fund other paramters : "
       ]
      },
      {
       "output_type": "stream",
       "stream": "stdout",
       "text": [
        " BAICX\n",
        "Fund other paramters : "
       ]
      },
      {
       "output_type": "stream",
       "stream": "stdout",
       "text": [
        " BRRAX\n",
        "Fund other paramters : "
       ]
      },
      {
       "output_type": "stream",
       "stream": "stdout",
       "text": [
        " MANLX\n",
        "Fund other paramters : "
       ]
      },
      {
       "output_type": "stream",
       "stream": "stdout",
       "text": [
        " MBGRX\n",
        "Fund other paramters : "
       ]
      },
      {
       "output_type": "stream",
       "stream": "stdout",
       "text": [
        " MANJX\n",
        "Fund other paramters : "
       ]
      },
      {
       "output_type": "stream",
       "stream": "stdout",
       "text": [
        " MANKX\n",
        "Fund other paramters : "
       ]
      },
      {
       "output_type": "stream",
       "stream": "stdout",
       "text": [
        " MAPYX\n",
        "Fund other paramters : "
       ]
      },
      {
       "output_type": "stream",
       "stream": "stdout",
       "text": [
        " MAPCX\n",
        "Fund other paramters : "
       ]
      },
      {
       "output_type": "stream",
       "stream": "stdout",
       "text": [
        " BAREX\n",
        "Fund other paramters : "
       ]
      },
      {
       "output_type": "stream",
       "stream": "stdout",
       "text": [
        " BRGNX\n",
        "Fund other paramters : "
       ]
      },
      {
       "output_type": "stream",
       "stream": "stdout",
       "text": [
        " WFSPX\n",
        "Fund other paramters : "
       ]
      },
      {
       "output_type": "stream",
       "stream": "stdout",
       "text": [
        " BGSAX\n",
        "Fund other paramters : "
       ]
      },
      {
       "output_type": "stream",
       "stream": "stdout",
       "text": [
        " BMSAX\n",
        "Fund other paramters : "
       ]
      },
      {
       "output_type": "stream",
       "stream": "stdout",
       "text": [
        " BBSOX\n",
        "Fund other paramters : "
       ]
      },
      {
       "output_type": "stream",
       "stream": "stdout",
       "text": [
        " MALMX\n",
        "Fund other paramters : "
       ]
      },
      {
       "output_type": "stream",
       "stream": "stdout",
       "text": [
        " BDSTX\n",
        "Fund other paramters : "
       ]
      },
      {
       "output_type": "stream",
       "stream": "stdout",
       "text": [
        " PSGIX\n",
        "Fund other paramters : "
       ]
      },
      {
       "output_type": "stream",
       "stream": "stdout",
       "text": [
        " MDSWX\n",
        "Fund other paramters : "
       ]
      },
      {
       "output_type": "stream",
       "stream": "stdout",
       "text": [
        " MASKX\n",
        "Fund other paramters : "
       ]
      },
      {
       "output_type": "stream",
       "stream": "stdout",
       "text": [
        " BASIX\n",
        "Fund other paramters : "
       ]
      },
      {
       "output_type": "stream",
       "stream": "stdout",
       "text": [
        " MAMTX\n",
        "Fund other paramters : "
       ]
      },
      {
       "output_type": "stream",
       "stream": "stdout",
       "text": [
        " BSTAX\n",
        "Fund other paramters : "
       ]
      },
      {
       "output_type": "stream",
       "stream": "stdout",
       "text": [
        " MFHQX\n",
        "Fund other paramters : "
       ]
      },
      {
       "output_type": "stream",
       "stream": "stdout",
       "text": [
        " BBUSX\n",
        "Fund other paramters : "
       ]
      },
      {
       "output_type": "stream",
       "stream": "stdout",
       "text": [
        " PNIGX\n",
        "Fund other paramters : "
       ]
      },
      {
       "output_type": "stream",
       "stream": "stdout",
       "text": [
        " MSUMX\n",
        "Fund other paramters : "
       ]
      },
      {
       "output_type": "stream",
       "stream": "stdout",
       "text": [
        " BMEAX\n",
        "Fund other paramters : "
       ]
      },
      {
       "output_type": "stream",
       "stream": "stdout",
       "text": [
        " MASPX\n",
        "Fund other paramters : "
       ]
      },
      {
       "output_type": "stream",
       "stream": "stdout",
       "text": [
        " MAWIX\n",
        "Fund other paramters : "
       ]
      },
      {
       "output_type": "stream",
       "stream": "stdout",
       "text": [
        " MGCSX\n",
        "Fund other paramters : "
       ]
      },
      {
       "output_type": "stream",
       "stream": "stdout",
       "text": [
        " MMCVX\n",
        "Fund other paramters : "
       ]
      },
      {
       "output_type": "stream",
       "stream": "stdout",
       "text": [
        " CPASX\n",
        "Fund other paramters : "
       ]
      },
      {
       "output_type": "stream",
       "stream": "stdout",
       "text": [
        " CMCPX\n",
        "Fund other paramters : "
       ]
      },
      {
       "output_type": "stream",
       "stream": "stdout",
       "text": [
        " CSCEX\n",
        "Fund other paramters : "
       ]
      },
      {
       "output_type": "stream",
       "stream": "stdout",
       "text": [
        " CSLGX\n",
        "Fund other paramters : "
       ]
      },
      {
       "output_type": "stream",
       "stream": "stdout",
       "text": [
        " CDEIX\n",
        "Fund other paramters : "
       ]
      },
      {
       "output_type": "stream",
       "stream": "stdout",
       "text": [
        " CMGUX\n",
        "Fund other paramters : "
       ]
      },
      {
       "output_type": "stream",
       "stream": "stdout",
       "text": [
        " RARAX\n",
        "Fund other paramters : "
       ]
      },
      {
       "output_type": "stream",
       "stream": "stdout",
       "text": [
        " CMMAX\n",
        "Fund other paramters : "
       ]
      },
      {
       "output_type": "stream",
       "stream": "stdout",
       "text": [
        " CEMAX\n",
        "Fund other paramters : "
       ]
      },
      {
       "output_type": "stream",
       "stream": "stdout",
       "text": [
        " CMSAX\n",
        "Fund other paramters : "
       ]
      },
      {
       "output_type": "stream",
       "stream": "stdout",
       "text": [
        " CAGAX\n",
        "Fund other paramters : "
       ]
      },
      {
       "output_type": "stream",
       "stream": "stdout",
       "text": [
        " CAEAX\n",
        "Fund other paramters : "
       ]
      },
      {
       "output_type": "stream",
       "stream": "stdout",
       "text": [
        " ACFFX\n",
        "Fund other paramters : "
       ]
      },
      {
       "output_type": "stream",
       "stream": "stdout",
       "text": [
        " ACINX\n",
        "Fund other paramters : "
       ]
      },
      {
       "output_type": "stream",
       "stream": "stdout",
       "text": [
        " ACTWX\n",
        "Fund other paramters : "
       ]
      },
      {
       "output_type": "stream",
       "stream": "stdout",
       "text": [
        " AUSAX\n",
        "Fund other paramters : "
       ]
      },
      {
       "output_type": "stream",
       "stream": "stdout",
       "text": [
        " ACRNX\n",
        "Fund other paramters : "
       ]
      },
      {
       "output_type": "stream",
       "stream": "stdout",
       "text": [
        " NCMAX\n",
        "Fund other paramters : "
       ]
      },
      {
       "output_type": "stream",
       "stream": "stdout",
       "text": [
        " SCTEX\n",
        "Fund other paramters : "
       ]
      },
      {
       "output_type": "stream",
       "stream": "stdout",
       "text": [
        " NGAMX\n",
        "Fund other paramters : "
       ]
      },
      {
       "output_type": "stream",
       "stream": "stdout",
       "text": [
        " SETMX\n",
        "Fund other paramters : "
       ]
      },
      {
       "output_type": "stream",
       "stream": "stdout",
       "text": [
        " SEMAX\n",
        "Fund other paramters : "
       ]
      },
      {
       "output_type": "stream",
       "stream": "stdout",
       "text": [
        " NMDMX\n",
        "Fund other paramters : "
       ]
      },
      {
       "output_type": "stream",
       "stream": "stdout",
       "text": [
        " NNIBX\n",
        "Fund other paramters : "
       ]
      },
      {
       "output_type": "stream",
       "stream": "stdout",
       "text": [
        " GANYX\n",
        "Fund other paramters : "
       ]
      },
      {
       "output_type": "stream",
       "stream": "stdout",
       "text": [
        " CMBFX\n",
        "Fund other paramters : "
       ]
      },
      {
       "output_type": "stream",
       "stream": "stdout",
       "text": [
        " NSCMX\n",
        "Fund other paramters : "
       ]
      },
      {
       "output_type": "stream",
       "stream": "stdout",
       "text": [
        " INTAX\n",
        "Fund other paramters : "
       ]
      },
      {
       "output_type": "stream",
       "stream": "stdout",
       "text": [
        " NVABX\n",
        "Fund other paramters : "
       ]
      },
      {
       "output_type": "stream",
       "stream": "stdout",
       "text": [
        " TAPRX\n",
        "Fund other paramters : "
       ]
      },
      {
       "output_type": "stream",
       "stream": "stdout",
       "text": [
        " CBALX\n",
        "Fund other paramters : "
       ]
      },
      {
       "output_type": "stream",
       "stream": "stdout",
       "text": [
        " UMMGX\n",
        "Fund other paramters : "
       ]
      },
      {
       "output_type": "stream",
       "stream": "stdout",
       "text": [
        " CLMPX\n",
        "Fund other paramters : "
       ]
      },
      {
       "output_type": "stream",
       "stream": "stdout",
       "text": [
        " AXBAX\n",
        "Fund other paramters : "
       ]
      },
      {
       "output_type": "stream",
       "stream": "stdout",
       "text": [
        " ABDAX\n",
        "Fund other paramters : "
       ]
      },
      {
       "output_type": "stream",
       "stream": "stdout",
       "text": [
        " NBIAX\n",
        "Fund other paramters : "
       ]
      },
      {
       "output_type": "stream",
       "stream": "stdout",
       "text": [
        " NLGAX\n",
        "Fund other paramters : "
       ]
      },
      {
       "output_type": "stream",
       "stream": "stdout",
       "text": [
        " ABUAX\n",
        "Fund other paramters : "
       ]
      },
      {
       "output_type": "stream",
       "stream": "stdout",
       "text": [
        " CCIYX\n",
        "Fund other paramters : "
       ]
      },
      {
       "output_type": "stream",
       "stream": "stdout",
       "text": [
        " SMGIX\n",
        "Fund other paramters : "
       ]
      },
      {
       "output_type": "stream",
       "stream": "stdout",
       "text": [
        " PACIX\n",
        "Fund other paramters : "
       ]
      },
      {
       "output_type": "stream",
       "stream": "stdout",
       "text": [
        " SRINX\n",
        "Fund other paramters : "
       ]
      },
      {
       "output_type": "stream",
       "stream": "stdout",
       "text": [
        " INDZX\n",
        "Fund other paramters : "
       ]
      },
      {
       "output_type": "stream",
       "stream": "stdout",
       "text": [
        " CDRAX\n",
        "Fund other paramters : "
       ]
      },
      {
       "output_type": "stream",
       "stream": "stdout",
       "text": [
        " GEQAX\n",
        "Fund other paramters : "
       ]
      },
      {
       "output_type": "stream",
       "stream": "stdout",
       "text": [
        " INUTX\n",
        "Fund other paramters : "
       ]
      },
      {
       "output_type": "stream",
       "stream": "stdout",
       "text": [
        " REBAX\n",
        "Fund other paramters : "
       ]
      },
      {
       "output_type": "stream",
       "stream": "stdout",
       "text": [
        " UMEMX\n",
        "Fund other paramters : "
       ]
      },
      {
       "output_type": "stream",
       "stream": "stdout",
       "text": [
        " INEGX\n",
        "Fund other paramters : "
       ]
      },
      {
       "output_type": "stream",
       "stream": "stdout",
       "text": [
        " AXEAX\n",
        "Fund other paramters : "
       ]
      },
      {
       "output_type": "stream",
       "stream": "stdout",
       "text": [
        " CFIAX\n",
        "Fund other paramters : "
       ]
      },
      {
       "output_type": "stream",
       "stream": "stdout",
       "text": [
        " RFRAX\n",
        "Fund other paramters : "
       ]
      },
      {
       "output_type": "stream",
       "stream": "stdout",
       "text": [
        " IGBFX\n",
        "Fund other paramters : "
       ]
      },
      {
       "output_type": "stream",
       "stream": "stdout",
       "text": [
        " CSVFX\n",
        "Fund other paramters : "
       ]
      },
      {
       "output_type": "stream",
       "stream": "stdout",
       "text": [
        " UMESX\n",
        "Fund other paramters : "
       ]
      },
      {
       "output_type": "stream",
       "stream": "stdout",
       "text": [
        " IGLGX\n",
        "Fund other paramters : "
       ]
      },
      {
       "output_type": "stream",
       "stream": "stdout",
       "text": [
        " RRIAX\n",
        "Fund other paramters : "
       ]
      },
      {
       "output_type": "stream",
       "stream": "stdout",
       "text": [
        " IMRFX\n",
        "Fund other paramters : "
       ]
      },
      {
       "output_type": "stream",
       "stream": "stdout",
       "text": [
        " CMTFX\n",
        "Fund other paramters : "
       ]
      },
      {
       "output_type": "stream",
       "stream": "stdout",
       "text": [
        " NGCAX\n",
        "Fund other paramters : "
       ]
      },
      {
       "output_type": "stream",
       "stream": "stdout",
       "text": [
        " INEAX\n",
        "Fund other paramters : "
       ]
      },
      {
       "output_type": "stream",
       "stream": "stdout",
       "text": [
        " SRHMX\n",
        "Fund other paramters : "
       ]
      },
      {
       "output_type": "stream",
       "stream": "stdout",
       "text": [
        " RBBAX\n",
        "Fund other paramters : "
       ]
      },
      {
       "output_type": "stream",
       "stream": "stdout",
       "text": [
        " AIOAX\n",
        "Fund other paramters : "
       ]
      },
      {
       "output_type": "stream",
       "stream": "stdout",
       "text": [
        " APSAX\n",
        "Fund other paramters : "
       ]
      },
      {
       "output_type": "stream",
       "stream": "stdout",
       "text": [
        " SRBFX\n",
        "Fund other paramters : "
       ]
      },
      {
       "output_type": "stream",
       "stream": "stdout",
       "text": [
        " CNBAX\n",
        "Fund other paramters : "
       ]
      },
      {
       "output_type": "stream",
       "stream": "stdout",
       "text": [
        " NIVLX\n",
        "Fund other paramters : "
       ]
      },
      {
       "output_type": "stream",
       "stream": "stdout",
       "text": [
        " NMIAX\n",
        "Fund other paramters : "
       ]
      },
      {
       "output_type": "stream",
       "stream": "stdout",
       "text": [
        " GAEGX\n",
        "Fund other paramters : "
       ]
      },
      {
       "output_type": "stream",
       "stream": "stdout",
       "text": [
        " NINDX\n",
        "Fund other paramters : "
       ]
      },
      {
       "output_type": "stream",
       "stream": "stdout",
       "text": [
        " AQEAX\n",
        "Fund other paramters : "
       ]
      },
      {
       "output_type": "stream",
       "stream": "stdout",
       "text": [
        " RDLAX\n",
        "Fund other paramters : "
       ]
      },
      {
       "output_type": "stream",
       "stream": "stdout",
       "text": [
        " RLCAX\n",
        "Fund other paramters : "
       ]
      },
      {
       "output_type": "stream",
       "stream": "stdout",
       "text": [
        " NLGIX\n",
        "Fund other paramters : "
       ]
      },
      {
       "output_type": "stream",
       "stream": "stdout",
       "text": [
        " ALDAX\n",
        "Fund other paramters : "
       ]
      },
      {
       "output_type": "stream",
       "stream": "stdout",
       "text": [
        " NMTAX\n",
        "Fund other paramters : "
       ]
      },
      {
       "output_type": "stream",
       "stream": "stdout",
       "text": [
        " CCMAX\n",
        "Fund other paramters : "
       ]
      },
      {
       "output_type": "stream",
       "stream": "stdout",
       "text": [
        " NFEAX\n",
        "Fund other paramters : "
       ]
      },
      {
       "output_type": "stream",
       "stream": "stdout",
       "text": [
        " COGAX\n",
        "Fund other paramters : "
       ]
      },
      {
       "output_type": "stream",
       "stream": "stdout",
       "text": [
        " NMGIX\n",
        "Fund other paramters : "
       ]
      },
      {
       "output_type": "stream",
       "stream": "stdout",
       "text": [
        " MAIOX\n",
        "Fund other paramters : "
       ]
      },
      {
       "output_type": "stream",
       "stream": "stdout",
       "text": [
        " CMTAX\n",
        "Fund other paramters : "
       ]
      },
      {
       "output_type": "stream",
       "stream": "stdout",
       "text": [
        " CLSPX\n",
        "Fund other paramters : "
       ]
      },
      {
       "output_type": "stream",
       "stream": "stdout",
       "text": [
        " NMPAX\n",
        "Fund other paramters : "
       ]
      },
      {
       "output_type": "stream",
       "stream": "stdout",
       "text": [
        " CMUAX\n",
        "Fund other paramters : "
       ]
      },
      {
       "output_type": "stream",
       "stream": "stdout",
       "text": [
        " IMNTX\n",
        "Fund other paramters : "
       ]
      },
      {
       "output_type": "stream",
       "stream": "stdout",
       "text": [
        " NIEQX\n",
        "Fund other paramters : "
       ]
      },
      {
       "output_type": "stream",
       "stream": "stdout",
       "text": [
        " ASVAX\n",
        "Fund other paramters : "
       ]
      },
      {
       "output_type": "stream",
       "stream": "stdout",
       "text": [
        " COLNX\n",
        "Fund other paramters : "
       ]
      },
      {
       "output_type": "stream",
       "stream": "stdout",
       "text": [
        " COSZX\n",
        "Fund other paramters : "
       ]
      },
      {
       "output_type": "stream",
       "stream": "stdout",
       "text": [
        " USPAX\n",
        "Fund other paramters : "
       ]
      },
      {
       "output_type": "stream",
       "stream": "stdout",
       "text": [
        " CREEX\n",
        "Fund other paramters : "
       ]
      },
      {
       "output_type": "stream",
       "stream": "stdout",
       "text": [
        " CRAAX\n",
        "Fund other paramters : "
       ]
      },
      {
       "output_type": "stream",
       "stream": "stdout",
       "text": [
        " NSEPX\n",
        "Fund other paramters : "
       ]
      },
      {
       "output_type": "stream",
       "stream": "stdout",
       "text": [
        " UMLGX\n",
        "Fund other paramters : "
       ]
      },
      {
       "output_type": "stream",
       "stream": "stdout",
       "text": [
        " SLVAX\n",
        "Fund other paramters : "
       ]
      },
      {
       "output_type": "stream",
       "stream": "stdout",
       "text": [
        " SSCVX\n",
        "Fund other paramters : "
       ]
      },
      {
       "output_type": "stream",
       "stream": "stdout",
       "text": [
        " SLMCX\n",
        "Fund other paramters : "
       ]
      },
      {
       "output_type": "stream",
       "stream": "stdout",
       "text": [
        " SHGTX\n",
        "Fund other paramters : "
       ]
      },
      {
       "output_type": "stream",
       "stream": "stdout",
       "text": [
        " NSTMX\n",
        "Fund other paramters : "
       ]
      },
      {
       "output_type": "stream",
       "stream": "stdout",
       "text": [
        " NSMIX\n",
        "Fund other paramters : "
       ]
      },
      {
       "output_type": "stream",
       "stream": "stdout",
       "text": [
        " SMCEX\n",
        "Fund other paramters : "
       ]
      },
      {
       "output_type": "stream",
       "stream": "stdout",
       "text": [
        " CMSCX\n",
        "Fund other paramters : "
       ]
      },
      {
       "output_type": "stream",
       "stream": "stdout",
       "text": [
        " NMSAX\n",
        "Fund other paramters : "
       ]
      },
      {
       "output_type": "stream",
       "stream": "stdout",
       "text": [
        " CSMIX\n",
        "Fund other paramters : "
       ]
      },
      {
       "output_type": "stream",
       "stream": "stdout",
       "text": [
        " COVAX\n",
        "Fund other paramters : "
       ]
      },
      {
       "output_type": "stream",
       "stream": "stdout",
       "text": [
        " AMVAX\n",
        "Fund other paramters : "
       ]
      },
      {
       "output_type": "stream",
       "stream": "stdout",
       "text": [
        " COSIX\n",
        "Fund other paramters : "
       ]
      },
      {
       "output_type": "stream",
       "stream": "stdout",
       "text": [
        " COLTX\n",
        "Fund other paramters : "
       ]
      },
      {
       "output_type": "stream",
       "stream": "stdout",
       "text": [
        " COTZX\n",
        "Fund other paramters : "
       ]
      },
      {
       "output_type": "stream",
       "stream": "stdout",
       "text": [
        " AUGAX\n",
        "Fund other paramters : "
       ]
      },
      {
       "output_type": "stream",
       "stream": "stdout",
       "text": [
        " IUTIX\n",
        "Fund other paramters : "
       ]
      },
      {
       "output_type": "stream",
       "stream": "stdout",
       "text": [
        " UMBIX\n",
        "Fund other paramters : "
       ]
      },
      {
       "output_type": "stream",
       "stream": "stdout",
       "text": [
        " OAAAX\n",
        "Fund other paramters : "
       ]
      },
      {
       "output_type": "stream",
       "stream": "stdout",
       "text": [
        " OPTFX\n",
        "Fund other paramters : "
       ]
      },
      {
       "output_type": "stream",
       "stream": "stdout",
       "text": [
        " OPPEX\n",
        "Fund other paramters : "
       ]
      },
      {
       "output_type": "stream",
       "stream": "stdout",
       "text": [
        " QRAAX\n",
        "Fund other paramters : "
       ]
      },
      {
       "output_type": "stream",
       "stream": "stdout",
       "text": [
        " OACIX\n",
        "Fund other paramters : "
       ]
      },
      {
       "output_type": "stream",
       "stream": "stdout",
       "text": [
        " OPIGX\n",
        "Fund other paramters : "
       ]
      },
      {
       "output_type": "stream",
       "stream": "stdout",
       "text": [
        " OFIAX\n",
        "Fund other paramters : "
       ]
      },
      {
       "output_type": "stream",
       "stream": "stdout",
       "text": [
        " ODMAX\n",
        "Fund other paramters : "
       ]
      },
      {
       "output_type": "stream",
       "stream": "stdout",
       "text": [
        " OPOCX\n",
        "Fund other paramters : "
       ]
      },
      {
       "output_type": "stream",
       "stream": "stdout",
       "text": [
        " OEGAX\n",
        "Fund other paramters : "
       ]
      },
      {
       "output_type": "stream",
       "stream": "stdout",
       "text": [
        " ODAAX\n",
        "Fund other paramters : "
       ]
      },
      {
       "output_type": "stream",
       "stream": "stdout",
       "text": [
        " OSVAX\n",
        "Fund other paramters : "
       ]
      },
      {
       "output_type": "stream",
       "stream": "stdout",
       "text": [
        " OEMAX\n",
        "Fund other paramters : "
       ]
      },
      {
       "output_type": "stream",
       "stream": "stdout",
       "text": [
        " OEQAX\n",
        "Fund other paramters : "
       ]
      },
      {
       "output_type": "stream",
       "stream": "stdout",
       "text": [
        " OAEIX\n",
        "Fund other paramters : "
       ]
      },
      {
       "output_type": "stream",
       "stream": "stdout",
       "text": [
        " OAAIX\n",
        "Fund other paramters : "
       ]
      },
      {
       "output_type": "stream",
       "stream": "stdout",
       "text": [
        " QVOPX\n",
        "Fund other paramters : "
       ]
      },
      {
       "output_type": "stream",
       "stream": "stdout",
       "text": [
        " OPPAX\n",
        "Fund other paramters : "
       ]
      },
      {
       "output_type": "stream",
       "stream": "stdout",
       "text": [
        " QVGIX\n",
        "Fund other paramters : "
       ]
      },
      {
       "output_type": "stream",
       "stream": "stdout",
       "text": [
        " OGYAX\n",
        "Fund other paramters : "
       ]
      },
      {
       "output_type": "stream",
       "stream": "stdout",
       "text": [
        " OARAX\n",
        "Fund other paramters : "
       ]
      },
      {
       "output_type": "stream",
       "stream": "stdout",
       "text": [
        " OPGIX\n",
        "Fund other paramters : "
       ]
      },
      {
       "output_type": "stream",
       "stream": "stdout",
       "text": [
        " OGRAX\n",
        "Fund other paramters : "
       ]
      },
      {
       "output_type": "stream",
       "stream": "stdout",
       "text": [
        " OPSIX\n",
        "Fund other paramters : "
       ]
      },
      {
       "output_type": "stream",
       "stream": "stdout",
       "text": [
        " GLVAX\n",
        "Fund other paramters : "
       ]
      },
      {
       "output_type": "stream",
       "stream": "stdout",
       "text": [
        " OPGSX\n",
        "Fund other paramters : "
       ]
      },
      {
       "output_type": "stream",
       "stream": "stdout",
       "text": [
        " OIBAX\n",
        "Fund other paramters : "
       ]
      },
      {
       "output_type": "stream",
       "stream": "stdout",
       "text": [
        " OIDAX\n",
        "Fund other paramters : "
       ]
      },
      {
       "output_type": "stream",
       "stream": "stdout",
       "text": [
        " OIGAX\n",
        "Fund other paramters : "
       ]
      },
      {
       "output_type": "stream",
       "stream": "stdout",
       "text": [
        " OSMAX\n",
        "Fund other paramters : "
       ]
      },
      {
       "output_type": "stream",
       "stream": "stdout",
       "text": [
        " QIVAX\n",
        "Fund other paramters : "
       ]
      },
      {
       "output_type": "stream",
       "stream": "stdout",
       "text": [
        " OUSGX\n",
        "Fund other paramters : "
       ]
      },
      {
       "output_type": "stream",
       "stream": "stdout",
       "text": [
        " OPGVX\n",
        "Fund other paramters : "
       ]
      },
      {
       "output_type": "stream",
       "stream": "stdout",
       "text": [
        " MSIGX\n",
        "Fund other paramters : "
       ]
      },
      {
       "output_type": "stream",
       "stream": "stdout",
       "text": [
        " OPMSX\n",
        "Fund other paramters : "
       ]
      },
      {
       "output_type": "stream",
       "stream": "stdout",
       "text": [
        " OMSOX\n",
        "Fund other paramters : "
       ]
      },
      {
       "output_type": "stream",
       "stream": "stdout",
       "text": [
        " OSCAX\n",
        "Fund other paramters : "
       ]
      },
      {
       "output_type": "stream",
       "stream": "stdout",
       "text": [
        " OAMIX\n",
        "Fund other paramters : "
       ]
      },
      {
       "output_type": "stream",
       "stream": "stdout",
       "text": [
        " OREAX\n",
        "Fund other paramters : "
       ]
      },
      {
       "output_type": "stream",
       "stream": "stdout",
       "text": [
        " OARDX\n",
        "Fund other paramters : "
       ]
      },
      {
       "output_type": "stream",
       "stream": "stdout",
       "text": [
        " OPTAX\n",
        "Fund other paramters : "
       ]
      },
      {
       "output_type": "stream",
       "stream": "stdout",
       "text": [
        " OPNYX\n",
        "Fund other paramters : "
       ]
      },
      {
       "output_type": "stream",
       "stream": "stdout",
       "text": [
        " ORAZX\n",
        "Fund other paramters : "
       ]
      },
      {
       "output_type": "stream",
       "stream": "stdout",
       "text": [
        " OPCAX\n",
        "Fund other paramters : "
       ]
      },
      {
       "output_type": "stream",
       "stream": "stdout",
       "text": [
        " RMUNX\n",
        "Fund other paramters : "
       ]
      },
      {
       "output_type": "stream",
       "stream": "stdout",
       "text": [
        " ORNAX\n",
        "Fund other paramters : "
       ]
      },
      {
       "output_type": "stream",
       "stream": "stdout",
       "text": [
        " ORRWX\n",
        "Fund other paramters : "
       ]
      },
      {
       "output_type": "stream",
       "stream": "stdout",
       "text": [
        " OLCAX\n",
        "Fund other paramters : "
       ]
      },
      {
       "output_type": "stream",
       "stream": "stdout",
       "text": [
        " OPITX\n",
        "Fund other paramters : "
       ]
      },
      {
       "output_type": "stream",
       "stream": "stdout",
       "text": [
        " LTNYX\n",
        "Fund other paramters : "
       ]
      },
      {
       "output_type": "stream",
       "stream": "stdout",
       "text": [
        " ORMAX\n",
        "Fund other paramters : "
       ]
      },
      {
       "output_type": "stream",
       "stream": "stdout",
       "text": [
        " ORMDX\n",
        "Fund other paramters : "
       ]
      },
      {
       "output_type": "stream",
       "stream": "stdout",
       "text": [
        " ORMIX\n",
        "Fund other paramters : "
       ]
      },
      {
       "output_type": "stream",
       "stream": "stdout",
       "text": [
        " OPAMX\n",
        "Fund other paramters : "
       ]
      },
      {
       "output_type": "stream",
       "stream": "stdout",
       "text": [
        " OPNCX\n",
        "Fund other paramters : "
       ]
      },
      {
       "output_type": "stream",
       "stream": "stdout",
       "text": [
        " ONJAX\n",
        "Fund other paramters : "
       ]
      },
      {
       "output_type": "stream",
       "stream": "stdout",
       "text": [
        " OROHX\n",
        "Fund other paramters : "
       ]
      },
      {
       "output_type": "stream",
       "stream": "stdout",
       "text": [
        " OPATX\n",
        "Fund other paramters : "
       ]
      },
      {
       "output_type": "stream",
       "stream": "stdout",
       "text": [
        " ORSTX\n",
        "Fund other paramters : "
       ]
      },
      {
       "output_type": "stream",
       "stream": "stdout",
       "text": [
        " ORVAX\n",
        "Fund other paramters : "
       ]
      },
      {
       "output_type": "stream",
       "stream": "stdout",
       "text": [
        " OOSAX\n",
        "Fund other paramters : "
       ]
      },
      {
       "output_type": "stream",
       "stream": "stdout",
       "text": [
        " OSFAX\n",
        "Fund other paramters : "
       ]
      },
      {
       "output_type": "stream",
       "stream": "stdout",
       "text": [
        " QVSCX\n",
        "Fund other paramters : "
       ]
      },
      {
       "output_type": "stream",
       "stream": "stdout",
       "text": [
        " MLPAX\n",
        "Fund other paramters : "
       ]
      },
      {
       "output_type": "stream",
       "stream": "stdout",
       "text": [
        " MLPNX\n",
        "Fund other paramters : "
       ]
      },
      {
       "output_type": "stream",
       "stream": "stdout",
       "text": [
        " MLPDX\n",
        "Fund other paramters : "
       ]
      },
      {
       "output_type": "stream",
       "stream": "stdout",
       "text": [
        " MLPFX\n",
        "Fund other paramters : "
       ]
      },
      {
       "output_type": "stream",
       "stream": "stdout",
       "text": [
        " OSDYX\n",
        "Fund other paramters : "
       ]
      },
      {
       "output_type": "stream",
       "stream": "stdout",
       "text": [
        " CGRWX\n"
       ]
      }
     ],
     "prompt_number": 1341
    },
    {
     "cell_type": "code",
     "collapsed": false,
     "input": [
      "fund_other[fund_other['Fund_Ticker'] == 'FCNTX']"
     ],
     "language": "python",
     "metadata": {},
     "outputs": [
      {
       "html": [
        "<div style=\"max-height:1000px;max-width:1500px;overflow:auto;\">\n",
        "<table border=\"1\" class=\"dataframe\">\n",
        "  <thead>\n",
        "    <tr style=\"text-align: right;\">\n",
        "      <th></th>\n",
        "      <th>Fund_Ticker</th>\n",
        "      <th>TTM_Yield</th>\n",
        "      <th>Load</th>\n",
        "      <th>PortfolioMktValue</th>\n",
        "      <th>TotalAssets</th>\n",
        "      <th>ExpenseRatio</th>\n",
        "      <th>FeeLevel</th>\n",
        "      <th>Turnover</th>\n",
        "      <th>Status</th>\n",
        "      <th>MinInvestment</th>\n",
        "      <th>...</th>\n",
        "      <th>30-day Yield Unsubsidized(as of 09/30/2014)</th>\n",
        "      <th>30-day Yield Unsubsidized(as of 10/31/2014)</th>\n",
        "      <th>Fund_Manager</th>\n",
        "      <th>Gross Expense Ratio %</th>\n",
        "      <th>Inception</th>\n",
        "      <th>Manager_Start_Date</th>\n",
        "      <th>Max Back Load %</th>\n",
        "      <th>Max Front Load %</th>\n",
        "      <th>Net Expense Ratio %</th>\n",
        "      <th>Return</th>\n",
        "    </tr>\n",
        "  </thead>\n",
        "  <tbody>\n",
        "    <tr>\n",
        "      <th>675</th>\n",
        "      <td> FCNTX</td>\n",
        "      <td> 0.12%</td>\n",
        "      <td> None</td>\n",
        "      <td> 16.8 bil</td>\n",
        "      <td> 111.1  bil</td>\n",
        "      <td> 0.66%</td>\n",
        "      <td> Low</td>\n",
        "      <td> 46%</td>\n",
        "      <td> Open</td>\n",
        "      <td> $</td>\n",
        "      <td>...</td>\n",
        "      <td> NaN</td>\n",
        "      <td> NaN</td>\n",
        "      <td> William Danoff</td>\n",
        "      <td> 0.67</td>\n",
        "      <td> 05/17/1967</td>\n",
        "      <td>1990-09-17</td>\n",
        "      <td> \u2014</td>\n",
        "      <td> \u2014</td>\n",
        "      <td> 0.67</td>\n",
        "      <td> 12.52</td>\n",
        "    </tr>\n",
        "  </tbody>\n",
        "</table>\n",
        "<p>1 rows \u00d7 34 columns</p>\n",
        "</div>"
       ],
       "metadata": {},
       "output_type": "pyout",
       "prompt_number": 1346,
       "text": [
        "    Fund_Ticker TTM_Yield  Load PortfolioMktValue TotalAssets ExpenseRatio  \\\n",
        "675       FCNTX     0.12%  None          16.8 bil  111.1  bil        0.66%   \n",
        "\n",
        "    FeeLevel Turnover Status MinInvestment      ...       \\\n",
        "675      Low      46%   Open             $      ...        \n",
        "\n",
        "    30-day Yield Unsubsidized(as of 09/30/2014)  \\\n",
        "675                                         NaN   \n",
        "\n",
        "    30-day Yield Unsubsidized(as of 10/31/2014)    Fund_Manager  \\\n",
        "675                                         NaN  William Danoff   \n",
        "\n",
        "    Gross Expense Ratio %   Inception Manager_Start_Date Max Back Load %  \\\n",
        "675                  0.67  05/17/1967         1990-09-17               \u2014   \n",
        "\n",
        "    Max Front Load % Net Expense Ratio % Return  \n",
        "675                \u2014                0.67  12.52  \n",
        "\n",
        "[1 rows x 34 columns]"
       ]
      }
     ],
     "prompt_number": 1346
    },
    {
     "cell_type": "code",
     "collapsed": false,
     "input": [
      "# New Dataframe fund_other_copy\n",
      "fund_other_copy = fund_other.copy()\n",
      "# Dropping the Minimum Investment column as it is not significant\n",
      "fund_other_copy = fund_other_copy.drop('MinInvestment',1)\n",
      "# Replacing the unicode character to Nan\n",
      "fund_other_copy.replace(to_replace=u'\\u2014',value=np.nan,inplace=True)\n",
      "# Encoding thr Fund Manager column which contains unicode characters to UTF-8 so to export to csv is possible\n",
      "fund_other_copy['Fund_Manager'] = fund_other_copy['Fund_Manager'].apply(lambda x: x.encode(\"UTF-8\"))\n",
      "# Stripping the trailing % character in the below 4 columns\n",
      "fund_other_copy['TTM_Yield_in_percent'] = fund_other_copy['TTM_Yield'].str.strip('%')\n",
      "fund_other_copy['ExpenseRatio_in_percent'] = fund_other_copy['ExpenseRatio'].str.strip('%')\n",
      "fund_other_copy['Turnover_in_percent'] = fund_other_copy['Turnover'].str.strip('%')\n",
      "fund_other_copy['Yield_in_percent'] = fund_other_copy['Yield'].str.strip('%')\n",
      "\n",
      "# Converting the columns PortfolioMktValue and TotalAssets columns to millions\n",
      "fund_other_copy['PortfolioMktValue_in_millions'] = fund_other_copy['PortfolioMktValue'].apply(lambda x: float(x.strip(' bil'))*1000.0 if x[-4:] == ' bil'  else  x.strip(' mil'))\n",
      "fund_other_copy['TotalAssets_in_millions'] = fund_other_copy['TotalAssets'].apply(lambda x: float(x.strip(' bil'))*1000.0 if x[-4:] == ' bil'  else  x.strip(' mil'))\n",
      "\n",
      "# Changing column name for Inception, it is Fund Inception\n",
      "fund_other_copy['Fund_Inception'] = fund_other_copy['Inception']\n",
      "# Dropping the changed percent columns \n",
      "fund_other_copy = fund_other_copy.drop(['TTM_Yield','ExpenseRatio','Turnover','Yield','PortfolioMktValue','TotalAssets','Inception'],1)\n"
     ],
     "language": "python",
     "metadata": {},
     "outputs": [],
     "prompt_number": 1496
    },
    {
     "cell_type": "code",
     "collapsed": false,
     "input": [
      "# Print the Header\n",
      "fund_other_copy.head()"
     ],
     "language": "python",
     "metadata": {},
     "outputs": [
      {
       "html": [
        "<div style=\"max-height:1000px;max-width:1500px;overflow:auto;\">\n",
        "<table border=\"1\" class=\"dataframe\">\n",
        "  <thead>\n",
        "    <tr style=\"text-align: right;\">\n",
        "      <th></th>\n",
        "      <th>Fund_Ticker</th>\n",
        "      <th>Load</th>\n",
        "      <th>FeeLevel</th>\n",
        "      <th>Status</th>\n",
        "      <th>MorningstarCategory</th>\n",
        "      <th>InvestmentStyle</th>\n",
        "      <th>30-day SEC Yield</th>\n",
        "      <th>30-day SEC Yield(as of 06/30/2014)</th>\n",
        "      <th>30-day SEC Yield(as of 09/30/2014)</th>\n",
        "      <th>30-day SEC Yield(as of 10/31/2014)</th>\n",
        "      <th>30-day SEC Yield(as of 11/28/2014)</th>\n",
        "      <th>30-day SEC Yield(as of 11/30/2014)</th>\n",
        "      <th>30-day SEC Yield(as of 12/05/2014)</th>\n",
        "      <th>30-day Yield Unsubsidized</th>\n",
        "      <th>30-day Yield Unsubsidized(as of 01/31/2014)</th>\n",
        "      <th>30-day Yield Unsubsidized(as of 06/30/2014)</th>\n",
        "      <th>30-day Yield Unsubsidized(as of 07/31/2014)</th>\n",
        "      <th>30-day Yield Unsubsidized(as of 09/30/2014)</th>\n",
        "      <th>30-day Yield Unsubsidized(as of 10/31/2014)</th>\n",
        "      <th>Fund_Manager</th>\n",
        "      <th>Gross Expense Ratio %</th>\n",
        "      <th>Manager_Start_Date</th>\n",
        "      <th>Max Back Load %</th>\n",
        "      <th>Max Front Load %</th>\n",
        "      <th>Net Expense Ratio %</th>\n",
        "      <th>Return</th>\n",
        "      <th>TTM_Yield_in_percent</th>\n",
        "      <th>ExpenseRatio_in_percent</th>\n",
        "      <th>Turnover_in_percent</th>\n",
        "      <th>Yield_in_percent</th>\n",
        "      <th>PortfolioMktValue_in_millions</th>\n",
        "      <th>TotalAssets_in_millions</th>\n",
        "      <th>Fund_Inception</th>\n",
        "    </tr>\n",
        "  </thead>\n",
        "  <tbody>\n",
        "    <tr>\n",
        "      <th>0</th>\n",
        "      <td> VFINX</td>\n",
        "      <td> None</td>\n",
        "      <td> Low</td>\n",
        "      <td>    Open</td>\n",
        "      <td>                  Large Blend</td>\n",
        "      <td>   Large Blend</td>\n",
        "      <td>NaN</td>\n",
        "      <td> NaN</td>\n",
        "      <td> NaN</td>\n",
        "      <td> NaN</td>\n",
        "      <td> NaN</td>\n",
        "      <td> NaN</td>\n",
        "      <td> 1.79</td>\n",
        "      <td>NaN</td>\n",
        "      <td> NaN</td>\n",
        "      <td> NaN</td>\n",
        "      <td> NaN</td>\n",
        "      <td> NaN</td>\n",
        "      <td> NaN</td>\n",
        "      <td>  Michael H. Buek</td>\n",
        "      <td> 0.17</td>\n",
        "      <td>1991-12-31</td>\n",
        "      <td> NaN</td>\n",
        "      <td> NaN</td>\n",
        "      <td> 0.17</td>\n",
        "      <td> 11.04</td>\n",
        "      <td> 1.67</td>\n",
        "      <td> 0.17</td>\n",
        "      <td>  3</td>\n",
        "      <td> 1.79</td>\n",
        "      <td> 16800</td>\n",
        "      <td> 197500</td>\n",
        "      <td> 08/31/1976</td>\n",
        "    </tr>\n",
        "    <tr>\n",
        "      <th>1</th>\n",
        "      <td> VBINX</td>\n",
        "      <td> None</td>\n",
        "      <td> Low</td>\n",
        "      <td>    Open</td>\n",
        "      <td>          Moderate Allocation</td>\n",
        "      <td>   Large Blend</td>\n",
        "      <td>NaN</td>\n",
        "      <td> NaN</td>\n",
        "      <td> NaN</td>\n",
        "      <td> NaN</td>\n",
        "      <td> NaN</td>\n",
        "      <td> NaN</td>\n",
        "      <td> 1.66</td>\n",
        "      <td>NaN</td>\n",
        "      <td> NaN</td>\n",
        "      <td> NaN</td>\n",
        "      <td> NaN</td>\n",
        "      <td> NaN</td>\n",
        "      <td> NaN</td>\n",
        "      <td>   Paul M. Malloy</td>\n",
        "      <td> 0.24</td>\n",
        "      <td>2013-03-22</td>\n",
        "      <td> NaN</td>\n",
        "      <td> NaN</td>\n",
        "      <td> 0.24</td>\n",
        "      <td>  8.29</td>\n",
        "      <td> 1.70</td>\n",
        "      <td> 0.24</td>\n",
        "      <td> 47</td>\n",
        "      <td> 1.66</td>\n",
        "      <td> 16800</td>\n",
        "      <td>  24500</td>\n",
        "      <td> 11/09/1992</td>\n",
        "    </tr>\n",
        "    <tr>\n",
        "      <th>2</th>\n",
        "      <td> VCAIX</td>\n",
        "      <td> None</td>\n",
        "      <td> Low</td>\n",
        "      <td>    Open</td>\n",
        "      <td> Muni California Intermediate</td>\n",
        "      <td> High/Moderate</td>\n",
        "      <td>NaN</td>\n",
        "      <td> NaN</td>\n",
        "      <td> NaN</td>\n",
        "      <td> NaN</td>\n",
        "      <td> NaN</td>\n",
        "      <td> NaN</td>\n",
        "      <td> 1.55</td>\n",
        "      <td>NaN</td>\n",
        "      <td> NaN</td>\n",
        "      <td> NaN</td>\n",
        "      <td> NaN</td>\n",
        "      <td> NaN</td>\n",
        "      <td> NaN</td>\n",
        "      <td> Adam M. Ferguson</td>\n",
        "      <td> 0.20</td>\n",
        "      <td>2013-06-28</td>\n",
        "      <td> NaN</td>\n",
        "      <td> NaN</td>\n",
        "      <td> 0.20</td>\n",
        "      <td>   5.1</td>\n",
        "      <td> 3.01</td>\n",
        "      <td> 0.20</td>\n",
        "      <td> 12</td>\n",
        "      <td> 1.55</td>\n",
        "      <td> 16800</td>\n",
        "      <td>   8700</td>\n",
        "      <td> 03/04/1994</td>\n",
        "    </tr>\n",
        "    <tr>\n",
        "      <th>3</th>\n",
        "      <td> VCITX</td>\n",
        "      <td> None</td>\n",
        "      <td> Low</td>\n",
        "      <td>    Open</td>\n",
        "      <td>         Muni California Long</td>\n",
        "      <td>  Mid/Moderate</td>\n",
        "      <td>NaN</td>\n",
        "      <td> NaN</td>\n",
        "      <td> NaN</td>\n",
        "      <td> NaN</td>\n",
        "      <td> NaN</td>\n",
        "      <td> NaN</td>\n",
        "      <td> 2.12</td>\n",
        "      <td>NaN</td>\n",
        "      <td> NaN</td>\n",
        "      <td> NaN</td>\n",
        "      <td> NaN</td>\n",
        "      <td> NaN</td>\n",
        "      <td> NaN</td>\n",
        "      <td>  James M. D'Arcy</td>\n",
        "      <td> 0.20</td>\n",
        "      <td>2011-07-22</td>\n",
        "      <td> NaN</td>\n",
        "      <td> NaN</td>\n",
        "      <td> 0.20</td>\n",
        "      <td>  6.23</td>\n",
        "      <td> 3.66</td>\n",
        "      <td> 0.20</td>\n",
        "      <td> 14</td>\n",
        "      <td> 2.12</td>\n",
        "      <td> 16800</td>\n",
        "      <td>   3100</td>\n",
        "      <td> 04/07/1986</td>\n",
        "    </tr>\n",
        "    <tr>\n",
        "      <th>4</th>\n",
        "      <td> VHCOX</td>\n",
        "      <td> None</td>\n",
        "      <td> Low</td>\n",
        "      <td> Limited</td>\n",
        "      <td>                 Large Growth</td>\n",
        "      <td>  Large Growth</td>\n",
        "      <td>NaN</td>\n",
        "      <td> NaN</td>\n",
        "      <td> NaN</td>\n",
        "      <td> NaN</td>\n",
        "      <td> NaN</td>\n",
        "      <td> NaN</td>\n",
        "      <td> 0.52</td>\n",
        "      <td>NaN</td>\n",
        "      <td> NaN</td>\n",
        "      <td> NaN</td>\n",
        "      <td> NaN</td>\n",
        "      <td> NaN</td>\n",
        "      <td> NaN</td>\n",
        "      <td> M. Mohsin Ansari</td>\n",
        "      <td> 0.48</td>\n",
        "      <td>2007-12-31</td>\n",
        "      <td> NaN</td>\n",
        "      <td> NaN</td>\n",
        "      <td> 0.48</td>\n",
        "      <td> 12.36</td>\n",
        "      <td> 0.13</td>\n",
        "      <td> 0.47</td>\n",
        "      <td>  7</td>\n",
        "      <td> 0.52</td>\n",
        "      <td> 16800</td>\n",
        "      <td>  13800</td>\n",
        "      <td> 08/14/1995</td>\n",
        "    </tr>\n",
        "  </tbody>\n",
        "</table>\n",
        "</div>"
       ],
       "metadata": {},
       "output_type": "pyout",
       "prompt_number": 1497,
       "text": [
        "  Fund_Ticker  Load FeeLevel   Status           MorningstarCategory  \\\n",
        "0       VFINX  None      Low     Open                   Large Blend   \n",
        "1       VBINX  None      Low     Open           Moderate Allocation   \n",
        "2       VCAIX  None      Low     Open  Muni California Intermediate   \n",
        "3       VCITX  None      Low     Open          Muni California Long   \n",
        "4       VHCOX  None      Low  Limited                  Large Growth   \n",
        "\n",
        "  InvestmentStyle  30-day SEC Yield 30-day SEC Yield(as of 06/30/2014)  \\\n",
        "0     Large Blend               NaN                                NaN   \n",
        "1     Large Blend               NaN                                NaN   \n",
        "2   High/Moderate               NaN                                NaN   \n",
        "3    Mid/Moderate               NaN                                NaN   \n",
        "4    Large Growth               NaN                                NaN   \n",
        "\n",
        "  30-day SEC Yield(as of 09/30/2014) 30-day SEC Yield(as of 10/31/2014)  \\\n",
        "0                                NaN                                NaN   \n",
        "1                                NaN                                NaN   \n",
        "2                                NaN                                NaN   \n",
        "3                                NaN                                NaN   \n",
        "4                                NaN                                NaN   \n",
        "\n",
        "  30-day SEC Yield(as of 11/28/2014) 30-day SEC Yield(as of 11/30/2014)  \\\n",
        "0                                NaN                                NaN   \n",
        "1                                NaN                                NaN   \n",
        "2                                NaN                                NaN   \n",
        "3                                NaN                                NaN   \n",
        "4                                NaN                                NaN   \n",
        "\n",
        "  30-day SEC Yield(as of 12/05/2014)  30-day Yield Unsubsidized  \\\n",
        "0                               1.79                        NaN   \n",
        "1                               1.66                        NaN   \n",
        "2                               1.55                        NaN   \n",
        "3                               2.12                        NaN   \n",
        "4                               0.52                        NaN   \n",
        "\n",
        "  30-day Yield Unsubsidized(as of 01/31/2014)  \\\n",
        "0                                         NaN   \n",
        "1                                         NaN   \n",
        "2                                         NaN   \n",
        "3                                         NaN   \n",
        "4                                         NaN   \n",
        "\n",
        "  30-day Yield Unsubsidized(as of 06/30/2014)  \\\n",
        "0                                         NaN   \n",
        "1                                         NaN   \n",
        "2                                         NaN   \n",
        "3                                         NaN   \n",
        "4                                         NaN   \n",
        "\n",
        "  30-day Yield Unsubsidized(as of 07/31/2014)  \\\n",
        "0                                         NaN   \n",
        "1                                         NaN   \n",
        "2                                         NaN   \n",
        "3                                         NaN   \n",
        "4                                         NaN   \n",
        "\n",
        "  30-day Yield Unsubsidized(as of 09/30/2014)  \\\n",
        "0                                         NaN   \n",
        "1                                         NaN   \n",
        "2                                         NaN   \n",
        "3                                         NaN   \n",
        "4                                         NaN   \n",
        "\n",
        "  30-day Yield Unsubsidized(as of 10/31/2014)      Fund_Manager  \\\n",
        "0                                         NaN   Michael H. Buek   \n",
        "1                                         NaN    Paul M. Malloy   \n",
        "2                                         NaN  Adam M. Ferguson   \n",
        "3                                         NaN   James M. D'Arcy   \n",
        "4                                         NaN  M. Mohsin Ansari   \n",
        "\n",
        "  Gross Expense Ratio % Manager_Start_Date Max Back Load % Max Front Load %  \\\n",
        "0                  0.17         1991-12-31             NaN              NaN   \n",
        "1                  0.24         2013-03-22             NaN              NaN   \n",
        "2                  0.20         2013-06-28             NaN              NaN   \n",
        "3                  0.20         2011-07-22             NaN              NaN   \n",
        "4                  0.48         2007-12-31             NaN              NaN   \n",
        "\n",
        "  Net Expense Ratio % Return TTM_Yield_in_percent ExpenseRatio_in_percent  \\\n",
        "0                0.17  11.04                 1.67                    0.17   \n",
        "1                0.24   8.29                 1.70                    0.24   \n",
        "2                0.20    5.1                 3.01                    0.20   \n",
        "3                0.20   6.23                 3.66                    0.20   \n",
        "4                0.48  12.36                 0.13                    0.47   \n",
        "\n",
        "  Turnover_in_percent Yield_in_percent  PortfolioMktValue_in_millions  \\\n",
        "0                   3             1.79                          16800   \n",
        "1                  47             1.66                          16800   \n",
        "2                  12             1.55                          16800   \n",
        "3                  14             2.12                          16800   \n",
        "4                   7             0.52                          16800   \n",
        "\n",
        "  TotalAssets_in_millions Fund_Inception  \n",
        "0                  197500     08/31/1976  \n",
        "1                   24500     11/09/1992  \n",
        "2                    8700     03/04/1994  \n",
        "3                    3100     04/07/1986  \n",
        "4                   13800     08/14/1995  "
       ]
      }
     ],
     "prompt_number": 1497
    },
    {
     "cell_type": "code",
     "collapsed": false,
     "input": [
      "#pd.set_option('display.max_columns', None)\n",
      "#fund_other1"
     ],
     "language": "python",
     "metadata": {},
     "outputs": [],
     "prompt_number": 1458
    },
    {
     "cell_type": "code",
     "collapsed": false,
     "input": [
      "#pd.set_option('display.max_rows',None)\n",
      "#fund_other1['Fund_Manager'] = fund_other1['Fund_Manager'].map(lambda x: x[:-2])\n",
      "#fund_other1['Fund_Manager']\n",
      "#pd.reset_option('display.max_rows')"
     ],
     "language": "python",
     "metadata": {},
     "outputs": [],
     "prompt_number": 1456
    },
    {
     "cell_type": "code",
     "collapsed": false,
     "input": [
      "# Exporting the Fund Other Parameter data to csv file\n",
      "fund_other_copy[['Fund_Ticker','Status','TTM_Yield_in_percent','PortfolioMktValue_in_millions','TotalAssets_in_millions',\n",
      "             'ExpenseRatio_in_percent','Net Expense Ratio %','Gross Expense Ratio %','Turnover_in_percent','Yield_in_percent','Status','FeeLevel',\\\n",
      "             'Fund_Manager','Manager_Start_Date','Fund_Inception','MorningstarCategory','InvestmentStyle',\\\n",
      "             'FeeLevel','Load','Max Front Load %','Max Back Load %','Return']].to_csv(\"Fund_Parameters.csv\")\n"
     ],
     "language": "python",
     "metadata": {},
     "outputs": [],
     "prompt_number": 1501
    },
    {
     "cell_type": "code",
     "collapsed": false,
     "input": [
      "url_fund_holding = \"http://portfolios.morningstar.com/fund/holdingsExport?exportType=details&&t=XNAS:FUSEX&region=usa&culture=en-US&cur=&dataType=0&holnum=\"\n",
      "\n",
      "fund_holding =pd.read_csv(url_fund_holding)\n",
      "fund_holding"
     ],
     "language": "python",
     "metadata": {},
     "outputs": [
      {
       "html": [
        "<div style=\"max-height:1000px;max-width:1500px;overflow:auto;\">\n",
        "<table border=\"1\" class=\"dataframe\">\n",
        "  <thead>\n",
        "    <tr style=\"text-align: right;\">\n",
        "      <th></th>\n",
        "      <th>\ufeff\"Holdings\"</th>\n",
        "      <th>Weighting</th>\n",
        "      <th>Type</th>\n",
        "      <th>Ticker</th>\n",
        "      <th>Style</th>\n",
        "      <th>First Bought</th>\n",
        "      <th>Shares Owned</th>\n",
        "      <th>Shares Change</th>\n",
        "      <th>Sector</th>\n",
        "      <th>Price</th>\n",
        "      <th>...</th>\n",
        "      <th>3-Year Return</th>\n",
        "      <th>5-Year Return</th>\n",
        "      <th>Market Cap Mil</th>\n",
        "      <th>Currency</th>\n",
        "      <th>Morningstar Rating</th>\n",
        "      <th>YTD Return</th>\n",
        "      <th>P/E</th>\n",
        "      <th>Maturity Date</th>\n",
        "      <th>Coupon %</th>\n",
        "      <th>Yield to Maturity</th>\n",
        "    </tr>\n",
        "  </thead>\n",
        "  <tbody>\n",
        "    <tr>\n",
        "      <th>0 </th>\n",
        "      <td>                            Apple Inc</td>\n",
        "      <td> 3.52</td>\n",
        "      <td>                EQUITY</td>\n",
        "      <td>  AAPL</td>\n",
        "      <td>   Large Core</td>\n",
        "      <td> 1988-10-31</td>\n",
        "      <td> 27011926</td>\n",
        "      <td>  795616</td>\n",
        "      <td>             Technology</td>\n",
        "      <td>    115</td>\n",
        "      <td>...</td>\n",
        "      <td> 28.56</td>\n",
        "      <td> 33.99</td>\n",
        "      <td> 674456.62</td>\n",
        "      <td> USD</td>\n",
        "      <td> 2</td>\n",
        "      <td>  45.79</td>\n",
        "      <td> 17.82</td>\n",
        "      <td>          -</td>\n",
        "      <td> -</td>\n",
        "      <td> -</td>\n",
        "    </tr>\n",
        "    <tr>\n",
        "      <th>1 </th>\n",
        "      <td>              Exxon Mobil Corporation</td>\n",
        "      <td> 2.25</td>\n",
        "      <td>                EQUITY</td>\n",
        "      <td>   XOM</td>\n",
        "      <td>  Large Value</td>\n",
        "      <td> 1988-10-31</td>\n",
        "      <td> 19238496</td>\n",
        "      <td>  566657</td>\n",
        "      <td>                 Energy</td>\n",
        "      <td>  93.82</td>\n",
        "      <td>...</td>\n",
        "      <td>  7.93</td>\n",
        "      <td>  7.13</td>\n",
        "      <td> 397283.47</td>\n",
        "      <td> USD</td>\n",
        "      <td> 4</td>\n",
        "      <td>  -4.62</td>\n",
        "      <td>  11.8</td>\n",
        "      <td>          -</td>\n",
        "      <td> -</td>\n",
        "      <td> -</td>\n",
        "    </tr>\n",
        "    <tr>\n",
        "      <th>2 </th>\n",
        "      <td>                       Microsoft Corp</td>\n",
        "      <td> 2.11</td>\n",
        "      <td>                EQUITY</td>\n",
        "      <td>  MSFT</td>\n",
        "      <td>   Large Core</td>\n",
        "      <td> 2002-08-31</td>\n",
        "      <td> 37170866</td>\n",
        "      <td> 1094841</td>\n",
        "      <td>             Technology</td>\n",
        "      <td>  48.42</td>\n",
        "      <td>...</td>\n",
        "      <td> 25.97</td>\n",
        "      <td>  11.9</td>\n",
        "      <td> 399118.94</td>\n",
        "      <td> USD</td>\n",
        "      <td> 3</td>\n",
        "      <td>   32.5</td>\n",
        "      <td> 18.98</td>\n",
        "      <td>          -</td>\n",
        "      <td> -</td>\n",
        "      <td> -</td>\n",
        "    </tr>\n",
        "    <tr>\n",
        "      <th>3 </th>\n",
        "      <td>                    Johnson &amp; Johnson</td>\n",
        "      <td> 1.66</td>\n",
        "      <td>                EQUITY</td>\n",
        "      <td>   JNJ</td>\n",
        "      <td>   Large Core</td>\n",
        "      <td> 1988-10-31</td>\n",
        "      <td> 12722625</td>\n",
        "      <td>  374736</td>\n",
        "      <td>             Healthcare</td>\n",
        "      <td> 108.51</td>\n",
        "      <td>...</td>\n",
        "      <td> 22.43</td>\n",
        "      <td> 13.39</td>\n",
        "      <td> 303731.47</td>\n",
        "      <td> USD</td>\n",
        "      <td> 2</td>\n",
        "      <td>  21.49</td>\n",
        "      <td> 17.99</td>\n",
        "      <td>          -</td>\n",
        "      <td> -</td>\n",
        "      <td> -</td>\n",
        "    </tr>\n",
        "    <tr>\n",
        "      <th>4 </th>\n",
        "      <td>                  General Electric Co</td>\n",
        "      <td> 1.41</td>\n",
        "      <td>                EQUITY</td>\n",
        "      <td>    GE</td>\n",
        "      <td>  Large Value</td>\n",
        "      <td> 1988-10-31</td>\n",
        "      <td> 45264044</td>\n",
        "      <td> 1333219</td>\n",
        "      <td>            Industrials</td>\n",
        "      <td>  26.01</td>\n",
        "      <td>...</td>\n",
        "      <td> 20.16</td>\n",
        "      <td> 12.61</td>\n",
        "      <td> 261197.42</td>\n",
        "      <td> USD</td>\n",
        "      <td> 3</td>\n",
        "      <td>  -4.85</td>\n",
        "      <td> 17.52</td>\n",
        "      <td>          -</td>\n",
        "      <td> -</td>\n",
        "      <td> -</td>\n",
        "    </tr>\n",
        "    <tr>\n",
        "      <th>5 </th>\n",
        "      <td>       Berkshire Hathaway Inc Class B</td>\n",
        "      <td> 1.39</td>\n",
        "      <td>                EQUITY</td>\n",
        "      <td> BRK.B</td>\n",
        "      <td> Large Growth</td>\n",
        "      <td> 2010-02-28</td>\n",
        "      <td>  8223858</td>\n",
        "      <td>  242227</td>\n",
        "      <td>     Financial Services</td>\n",
        "      <td> 150.68</td>\n",
        "      <td>...</td>\n",
        "      <td> 24.48</td>\n",
        "      <td> 17.81</td>\n",
        "      <td> 351887.19</td>\n",
        "      <td> USD</td>\n",
        "      <td> 3</td>\n",
        "      <td>  27.09</td>\n",
        "      <td> 17.09</td>\n",
        "      <td>          -</td>\n",
        "      <td> -</td>\n",
        "      <td> -</td>\n",
        "    </tr>\n",
        "    <tr>\n",
        "      <th>6 </th>\n",
        "      <td>                     Wells Fargo &amp; Co</td>\n",
        "      <td> 1.37</td>\n",
        "      <td>                EQUITY</td>\n",
        "      <td>   WFC</td>\n",
        "      <td>  Large Value</td>\n",
        "      <td> 1988-10-31</td>\n",
        "      <td> 21430345</td>\n",
        "      <td>  631215</td>\n",
        "      <td>     Financial Services</td>\n",
        "      <td>  55.03</td>\n",
        "      <td>...</td>\n",
        "      <td> 29.75</td>\n",
        "      <td> 16.99</td>\n",
        "      <td> 285474.97</td>\n",
        "      <td> USD</td>\n",
        "      <td> 3</td>\n",
        "      <td>  24.19</td>\n",
        "      <td> 13.49</td>\n",
        "      <td>          -</td>\n",
        "      <td> -</td>\n",
        "      <td> -</td>\n",
        "    </tr>\n",
        "    <tr>\n",
        "      <th>7 </th>\n",
        "      <td>                  Procter &amp; Gamble Co</td>\n",
        "      <td> 1.29</td>\n",
        "      <td>                EQUITY</td>\n",
        "      <td>    PG</td>\n",
        "      <td>  Large Value</td>\n",
        "      <td> 1988-10-31</td>\n",
        "      <td> 12214516</td>\n",
        "      <td>  359770</td>\n",
        "      <td>     Consumer Defensive</td>\n",
        "      <td>  90.38</td>\n",
        "      <td>...</td>\n",
        "      <td> 14.56</td>\n",
        "      <td> 10.13</td>\n",
        "      <td> 244217.48</td>\n",
        "      <td> USD</td>\n",
        "      <td> 3</td>\n",
        "      <td>  14.13</td>\n",
        "      <td> 25.47</td>\n",
        "      <td>          -</td>\n",
        "      <td> -</td>\n",
        "      <td> -</td>\n",
        "    </tr>\n",
        "    <tr>\n",
        "      <th>8 </th>\n",
        "      <td>                         Chevron Corp</td>\n",
        "      <td> 1.24</td>\n",
        "      <td>                EQUITY</td>\n",
        "      <td>   CVX</td>\n",
        "      <td>  Large Value</td>\n",
        "      <td> 1988-10-31</td>\n",
        "      <td>  8566290</td>\n",
        "      <td>  252313</td>\n",
        "      <td>                 Energy</td>\n",
        "      <td> 110.87</td>\n",
        "      <td>...</td>\n",
        "      <td>  6.01</td>\n",
        "      <td> 10.47</td>\n",
        "      <td> 209591.36</td>\n",
        "      <td> USD</td>\n",
        "      <td> 4</td>\n",
        "      <td>  -7.87</td>\n",
        "      <td> 10.21</td>\n",
        "      <td>          -</td>\n",
        "      <td> -</td>\n",
        "      <td> -</td>\n",
        "    </tr>\n",
        "    <tr>\n",
        "      <th>9 </th>\n",
        "      <td>                  JPMorgan Chase &amp; Co</td>\n",
        "      <td> 1.24</td>\n",
        "      <td>                EQUITY</td>\n",
        "      <td>   JPM</td>\n",
        "      <td>  Large Value</td>\n",
        "      <td> 1988-10-31</td>\n",
        "      <td> 16967553</td>\n",
        "      <td>  499767</td>\n",
        "      <td>     Financial Services</td>\n",
        "      <td>   62.7</td>\n",
        "      <td>...</td>\n",
        "      <td> 25.84</td>\n",
        "      <td> 10.18</td>\n",
        "      <td> 234384.44</td>\n",
        "      <td> USD</td>\n",
        "      <td> 3</td>\n",
        "      <td>   9.88</td>\n",
        "      <td> 11.62</td>\n",
        "      <td>          -</td>\n",
        "      <td> -</td>\n",
        "      <td> -</td>\n",
        "    </tr>\n",
        "    <tr>\n",
        "      <th>10</th>\n",
        "      <td>           Verizon Communications Inc</td>\n",
        "      <td> 1.13</td>\n",
        "      <td>                EQUITY</td>\n",
        "      <td>    VZ</td>\n",
        "      <td>  Large Value</td>\n",
        "      <td> 2000-08-31</td>\n",
        "      <td> 18699599</td>\n",
        "      <td>  550784</td>\n",
        "      <td> Communication Services</td>\n",
        "      <td>  48.61</td>\n",
        "      <td>...</td>\n",
        "      <td> 12.96</td>\n",
        "      <td> 13.92</td>\n",
        "      <td> 201718.06</td>\n",
        "      <td> USD</td>\n",
        "      <td> 3</td>\n",
        "      <td>   3.28</td>\n",
        "      <td> 10.51</td>\n",
        "      <td>          -</td>\n",
        "      <td> -</td>\n",
        "      <td> -</td>\n",
        "    </tr>\n",
        "    <tr>\n",
        "      <th>11</th>\n",
        "      <td>           S&amp;P 500 Index Future Dec14</td>\n",
        "      <td> 1.12</td>\n",
        "      <td> EQUITY INDEX - FUTURE</td>\n",
        "      <td>     -</td>\n",
        "      <td>            -</td>\n",
        "      <td>          -</td>\n",
        "      <td>     1845</td>\n",
        "      <td>    -936</td>\n",
        "      <td>                      -</td>\n",
        "      <td>      -</td>\n",
        "      <td>...</td>\n",
        "      <td>     -</td>\n",
        "      <td>     -</td>\n",
        "      <td>         -</td>\n",
        "      <td> USD</td>\n",
        "      <td> -</td>\n",
        "      <td>      -</td>\n",
        "      <td>     -</td>\n",
        "      <td> 2014-12-18</td>\n",
        "      <td> -</td>\n",
        "      <td> -</td>\n",
        "    </tr>\n",
        "    <tr>\n",
        "      <th>12</th>\n",
        "      <td>                           Pfizer Inc</td>\n",
        "      <td> 1.03</td>\n",
        "      <td>                EQUITY</td>\n",
        "      <td>   PFE</td>\n",
        "      <td>  Large Value</td>\n",
        "      <td> 1988-10-31</td>\n",
        "      <td> 28604330</td>\n",
        "      <td>  842519</td>\n",
        "      <td>             Healthcare</td>\n",
        "      <td>  31.99</td>\n",
        "      <td>...</td>\n",
        "      <td> 20.68</td>\n",
        "      <td>  14.5</td>\n",
        "      <td> 201558.03</td>\n",
        "      <td> USD</td>\n",
        "      <td> 2</td>\n",
        "      <td>   7.84</td>\n",
        "      <td> 19.76</td>\n",
        "      <td>          -</td>\n",
        "      <td> -</td>\n",
        "      <td> -</td>\n",
        "    </tr>\n",
        "    <tr>\n",
        "      <th>13</th>\n",
        "      <td>                             AT&amp;T Inc</td>\n",
        "      <td> 0.98</td>\n",
        "      <td>                EQUITY</td>\n",
        "      <td>     T</td>\n",
        "      <td>  Large Value</td>\n",
        "      <td> 1995-02-28</td>\n",
        "      <td> 23394616</td>\n",
        "      <td>  689071</td>\n",
        "      <td> Communication Services</td>\n",
        "      <td>  33.94</td>\n",
        "      <td>...</td>\n",
        "      <td> 10.51</td>\n",
        "      <td>  9.14</td>\n",
        "      <td> 176046.78</td>\n",
        "      <td> USD</td>\n",
        "      <td> 3</td>\n",
        "      <td>   1.76</td>\n",
        "      <td> 10.39</td>\n",
        "      <td>          -</td>\n",
        "      <td> -</td>\n",
        "      <td> -</td>\n",
        "    </tr>\n",
        "    <tr>\n",
        "      <th>14</th>\n",
        "      <td>          Bank of America Corporation</td>\n",
        "      <td> 0.98</td>\n",
        "      <td>                EQUITY</td>\n",
        "      <td>   BAC</td>\n",
        "      <td>   Large Core</td>\n",
        "      <td> 1988-10-31</td>\n",
        "      <td> 47438215</td>\n",
        "      <td> 1397258</td>\n",
        "      <td>     Financial Services</td>\n",
        "      <td>  17.68</td>\n",
        "      <td>...</td>\n",
        "      <td> 45.62</td>\n",
        "      <td>  1.98</td>\n",
        "      <td> 185930.84</td>\n",
        "      <td> USD</td>\n",
        "      <td> 3</td>\n",
        "      <td>  14.32</td>\n",
        "      <td> 45.05</td>\n",
        "      <td>          -</td>\n",
        "      <td> -</td>\n",
        "      <td> -</td>\n",
        "    </tr>\n",
        "    <tr>\n",
        "      <th>15</th>\n",
        "      <td>                  Gilead Sciences Inc</td>\n",
        "      <td> 0.92</td>\n",
        "      <td>                EQUITY</td>\n",
        "      <td>  GILD</td>\n",
        "      <td> Large Growth</td>\n",
        "      <td> 2004-08-31</td>\n",
        "      <td>  6819310</td>\n",
        "      <td>  200858</td>\n",
        "      <td>             Healthcare</td>\n",
        "      <td> 104.59</td>\n",
        "      <td>...</td>\n",
        "      <td> 73.36</td>\n",
        "      <td> 35.03</td>\n",
        "      <td>  157791.2</td>\n",
        "      <td> USD</td>\n",
        "      <td> 3</td>\n",
        "      <td>  39.27</td>\n",
        "      <td> 18.62</td>\n",
        "      <td>          -</td>\n",
        "      <td> -</td>\n",
        "      <td> -</td>\n",
        "    </tr>\n",
        "    <tr>\n",
        "      <th>16</th>\n",
        "      <td>                           Intel Corp</td>\n",
        "      <td> 0.92</td>\n",
        "      <td>                EQUITY</td>\n",
        "      <td>  INTC</td>\n",
        "      <td>   Large Core</td>\n",
        "      <td> 2002-08-31</td>\n",
        "      <td> 22334506</td>\n",
        "      <td>  657847</td>\n",
        "      <td>             Technology</td>\n",
        "      <td>  37.67</td>\n",
        "      <td>...</td>\n",
        "      <td> 17.28</td>\n",
        "      <td> 15.33</td>\n",
        "      <td> 182134.45</td>\n",
        "      <td> USD</td>\n",
        "      <td> 1</td>\n",
        "      <td>   48.6</td>\n",
        "      <td>    18</td>\n",
        "      <td>          -</td>\n",
        "      <td> -</td>\n",
        "      <td> -</td>\n",
        "    </tr>\n",
        "    <tr>\n",
        "      <th>17</th>\n",
        "      <td>                       Merck &amp; Co Inc</td>\n",
        "      <td> 0.91</td>\n",
        "      <td>                EQUITY</td>\n",
        "      <td>   MRK</td>\n",
        "      <td>  Large Value</td>\n",
        "      <td> 2009-11-30</td>\n",
        "      <td> 13012892</td>\n",
        "      <td>  383285</td>\n",
        "      <td>             Healthcare</td>\n",
        "      <td>  61.49</td>\n",
        "      <td>...</td>\n",
        "      <td> 23.64</td>\n",
        "      <td> 13.68</td>\n",
        "      <td>  175300.2</td>\n",
        "      <td> USD</td>\n",
        "      <td> 3</td>\n",
        "      <td>  25.49</td>\n",
        "      <td> 33.65</td>\n",
        "      <td>          -</td>\n",
        "      <td> -</td>\n",
        "      <td> -</td>\n",
        "    </tr>\n",
        "    <tr>\n",
        "      <th>18</th>\n",
        "      <td>                         Coca-Cola Co</td>\n",
        "      <td> 0.90</td>\n",
        "      <td>                EQUITY</td>\n",
        "      <td>    KO</td>\n",
        "      <td>  Large Value</td>\n",
        "      <td> 1988-10-31</td>\n",
        "      <td> 17806846</td>\n",
        "      <td>  524487</td>\n",
        "      <td>     Consumer Defensive</td>\n",
        "      <td>  43.53</td>\n",
        "      <td>...</td>\n",
        "      <td> 12.25</td>\n",
        "      <td> 11.12</td>\n",
        "      <td> 190666.31</td>\n",
        "      <td> USD</td>\n",
        "      <td> 3</td>\n",
        "      <td>   8.33</td>\n",
        "      <td> 24.16</td>\n",
        "      <td>          -</td>\n",
        "      <td> -</td>\n",
        "      <td> -</td>\n",
        "    </tr>\n",
        "    <tr>\n",
        "      <th>19</th>\n",
        "      <td>                        Citigroup Inc</td>\n",
        "      <td> 0.88</td>\n",
        "      <td>                EQUITY</td>\n",
        "      <td>     C</td>\n",
        "      <td>   Large Core</td>\n",
        "      <td> 1996-08-31</td>\n",
        "      <td> 13676661</td>\n",
        "      <td>  402836</td>\n",
        "      <td>     Financial Services</td>\n",
        "      <td>  56.08</td>\n",
        "      <td>...</td>\n",
        "      <td> 23.51</td>\n",
        "      <td>  6.73</td>\n",
        "      <td>  169893.7</td>\n",
        "      <td> USD</td>\n",
        "      <td> 2</td>\n",
        "      <td>    7.7</td>\n",
        "      <td> 18.84</td>\n",
        "      <td>          -</td>\n",
        "      <td> -</td>\n",
        "      <td> -</td>\n",
        "    </tr>\n",
        "    <tr>\n",
        "      <th>20</th>\n",
        "      <td>                   Google Inc Class A</td>\n",
        "      <td> 0.88</td>\n",
        "      <td>                EQUITY</td>\n",
        "      <td> GOOGL</td>\n",
        "      <td> Large Growth</td>\n",
        "      <td> 2006-05-31</td>\n",
        "      <td>  1281591</td>\n",
        "      <td>   37749</td>\n",
        "      <td>             Technology</td>\n",
        "      <td> 528.08</td>\n",
        "      <td>...</td>\n",
        "      <td> 19.03</td>\n",
        "      <td> 12.52</td>\n",
        "      <td> 358231.34</td>\n",
        "      <td> USD</td>\n",
        "      <td> 3</td>\n",
        "      <td>  -5.85</td>\n",
        "      <td> 28.06</td>\n",
        "      <td>          -</td>\n",
        "      <td> -</td>\n",
        "      <td> -</td>\n",
        "    </tr>\n",
        "    <tr>\n",
        "      <th>21</th>\n",
        "      <td>                   Google Inc Class C</td>\n",
        "      <td> 0.87</td>\n",
        "      <td>                EQUITY</td>\n",
        "      <td>  GOOG</td>\n",
        "      <td> Large Growth</td>\n",
        "      <td> 2014-04-30</td>\n",
        "      <td>  1281485</td>\n",
        "      <td>   37746</td>\n",
        "      <td>             Technology</td>\n",
        "      <td> 525.26</td>\n",
        "      <td>...</td>\n",
        "      <td>     -</td>\n",
        "      <td>     -</td>\n",
        "      <td> 356318.34</td>\n",
        "      <td> USD</td>\n",
        "      <td> 3</td>\n",
        "      <td>      -</td>\n",
        "      <td> 27.91</td>\n",
        "      <td>          -</td>\n",
        "      <td> -</td>\n",
        "      <td> -</td>\n",
        "    </tr>\n",
        "    <tr>\n",
        "      <th>22</th>\n",
        "      <td>                 Facebook Inc Class A</td>\n",
        "      <td> 0.85</td>\n",
        "      <td>                EQUITY</td>\n",
        "      <td>    FB</td>\n",
        "      <td> Large Growth</td>\n",
        "      <td> 2013-12-31</td>\n",
        "      <td>  9398264</td>\n",
        "      <td>  860528</td>\n",
        "      <td>             Technology</td>\n",
        "      <td>  76.36</td>\n",
        "      <td>...</td>\n",
        "      <td>     -</td>\n",
        "      <td>     -</td>\n",
        "      <td> 212880.06</td>\n",
        "      <td> USD</td>\n",
        "      <td> 2</td>\n",
        "      <td>  39.73</td>\n",
        "      <td> 72.25</td>\n",
        "      <td>          -</td>\n",
        "      <td> -</td>\n",
        "      <td> -</td>\n",
        "    </tr>\n",
        "    <tr>\n",
        "      <th>23</th>\n",
        "      <td> International Business Machines Corp</td>\n",
        "      <td> 0.83</td>\n",
        "      <td>                EQUITY</td>\n",
        "      <td>   IBM</td>\n",
        "      <td>  Large Value</td>\n",
        "      <td> 1988-10-31</td>\n",
        "      <td>  4185230</td>\n",
        "      <td>  123273</td>\n",
        "      <td>             Technology</td>\n",
        "      <td> 163.27</td>\n",
        "      <td>...</td>\n",
        "      <td> -2.94</td>\n",
        "      <td>  7.17</td>\n",
        "      <td> 161581.86</td>\n",
        "      <td> USD</td>\n",
        "      <td> 4</td>\n",
        "      <td> -10.69</td>\n",
        "      <td> 10.49</td>\n",
        "      <td>          -</td>\n",
        "      <td> -</td>\n",
        "      <td> -</td>\n",
        "    </tr>\n",
        "    <tr>\n",
        "      <th>24</th>\n",
        "      <td>                          PepsiCo Inc</td>\n",
        "      <td> 0.79</td>\n",
        "      <td>                EQUITY</td>\n",
        "      <td>   PEP</td>\n",
        "      <td>   Large Core</td>\n",
        "      <td> 1988-10-31</td>\n",
        "      <td>  6797291</td>\n",
        "      <td>  200209</td>\n",
        "      <td>     Consumer Defensive</td>\n",
        "      <td>  97.76</td>\n",
        "      <td>...</td>\n",
        "      <td> 17.57</td>\n",
        "      <td>  11.3</td>\n",
        "      <td>  146308.2</td>\n",
        "      <td> USD</td>\n",
        "      <td> 2</td>\n",
        "      <td>  20.92</td>\n",
        "      <td> 21.62</td>\n",
        "      <td>          -</td>\n",
        "      <td> -</td>\n",
        "      <td> -</td>\n",
        "    </tr>\n",
        "    <tr>\n",
        "      <th>25</th>\n",
        "      <td>                       Walt Disney Co</td>\n",
        "      <td> 0.79</td>\n",
        "      <td>                EQUITY</td>\n",
        "      <td>   DIS</td>\n",
        "      <td> Large Growth</td>\n",
        "      <td> 1988-10-31</td>\n",
        "      <td>  7124042</td>\n",
        "      <td>  209834</td>\n",
        "      <td>      Consumer Cyclical</td>\n",
        "      <td>  93.76</td>\n",
        "      <td>...</td>\n",
        "      <td> 37.47</td>\n",
        "      <td> 25.68</td>\n",
        "      <td> 158989.84</td>\n",
        "      <td> USD</td>\n",
        "      <td> 3</td>\n",
        "      <td>  22.72</td>\n",
        "      <td> 21.99</td>\n",
        "      <td>          -</td>\n",
        "      <td> -</td>\n",
        "      <td> -</td>\n",
        "    </tr>\n",
        "    <tr>\n",
        "      <th>26</th>\n",
        "      <td>                 Comcast Corp Class A</td>\n",
        "      <td> 0.78</td>\n",
        "      <td>                EQUITY</td>\n",
        "      <td> CMCSA</td>\n",
        "      <td>   Large Core</td>\n",
        "      <td> 2003-08-31</td>\n",
        "      <td> 11675216</td>\n",
        "      <td>  343884</td>\n",
        "      <td> Communication Services</td>\n",
        "      <td>  56.34</td>\n",
        "      <td>...</td>\n",
        "      <td> 36.25</td>\n",
        "      <td> 29.77</td>\n",
        "      <td> 146212.78</td>\n",
        "      <td> USD</td>\n",
        "      <td> 2</td>\n",
        "      <td>   9.72</td>\n",
        "      <td> 17.75</td>\n",
        "      <td>          -</td>\n",
        "      <td> -</td>\n",
        "      <td> -</td>\n",
        "    </tr>\n",
        "    <tr>\n",
        "      <th>27</th>\n",
        "      <td>      Philip Morris International Inc</td>\n",
        "      <td> 0.76</td>\n",
        "      <td>                EQUITY</td>\n",
        "      <td>    PM</td>\n",
        "      <td>  Large Value</td>\n",
        "      <td> 2008-03-31</td>\n",
        "      <td>  7046944</td>\n",
        "      <td>  207562</td>\n",
        "      <td>     Consumer Defensive</td>\n",
        "      <td>  87.14</td>\n",
        "      <td>...</td>\n",
        "      <td>  8.76</td>\n",
        "      <td> 15.56</td>\n",
        "      <td> 135390.73</td>\n",
        "      <td> USD</td>\n",
        "      <td> 3</td>\n",
        "      <td>   3.32</td>\n",
        "      <td> 17.47</td>\n",
        "      <td>          -</td>\n",
        "      <td> -</td>\n",
        "      <td> -</td>\n",
        "    </tr>\n",
        "    <tr>\n",
        "      <th>28</th>\n",
        "      <td>                         Qualcomm Inc</td>\n",
        "      <td> 0.72</td>\n",
        "      <td>                EQUITY</td>\n",
        "      <td>  QCOM</td>\n",
        "      <td> Large Growth</td>\n",
        "      <td> 1999-08-31</td>\n",
        "      <td>  7560729</td>\n",
        "      <td>  222696</td>\n",
        "      <td>             Technology</td>\n",
        "      <td>  73.37</td>\n",
        "      <td>...</td>\n",
        "      <td> 12.44</td>\n",
        "      <td> 11.84</td>\n",
        "      <td> 121985.03</td>\n",
        "      <td> USD</td>\n",
        "      <td> 3</td>\n",
        "      <td>   0.98</td>\n",
        "      <td> 16.67</td>\n",
        "      <td>          -</td>\n",
        "      <td> -</td>\n",
        "      <td> -</td>\n",
        "    </tr>\n",
        "    <tr>\n",
        "      <th>29</th>\n",
        "      <td>                       Home Depot Inc</td>\n",
        "      <td> 0.72</td>\n",
        "      <td>                EQUITY</td>\n",
        "      <td>    HD</td>\n",
        "      <td> Large Growth</td>\n",
        "      <td> 1988-10-31</td>\n",
        "      <td>  6071603</td>\n",
        "      <td>  178835</td>\n",
        "      <td>      Consumer Cyclical</td>\n",
        "      <td>  99.64</td>\n",
        "      <td>...</td>\n",
        "      <td> 37.35</td>\n",
        "      <td> 30.49</td>\n",
        "      <td> 131308.31</td>\n",
        "      <td> USD</td>\n",
        "      <td> 2</td>\n",
        "      <td>  23.29</td>\n",
        "      <td> 22.75</td>\n",
        "      <td>          -</td>\n",
        "      <td> -</td>\n",
        "      <td> -</td>\n",
        "    </tr>\n",
        "    <tr>\n",
        "      <th>...</th>\n",
        "      <td>...</td>\n",
        "      <td>...</td>\n",
        "      <td>...</td>\n",
        "      <td>...</td>\n",
        "      <td>...</td>\n",
        "      <td>...</td>\n",
        "      <td>...</td>\n",
        "      <td>...</td>\n",
        "      <td>...</td>\n",
        "      <td>...</td>\n",
        "      <td>...</td>\n",
        "      <td>...</td>\n",
        "      <td>...</td>\n",
        "      <td>...</td>\n",
        "      <td>...</td>\n",
        "      <td>...</td>\n",
        "      <td>...</td>\n",
        "      <td>...</td>\n",
        "      <td>...</td>\n",
        "      <td>...</td>\n",
        "      <td>...</td>\n",
        "    </tr>\n",
        "    <tr>\n",
        "      <th>70</th>\n",
        "      <td>                          Monsanto Co</td>\n",
        "      <td> 0.33</td>\n",
        "      <td>                EQUITY</td>\n",
        "      <td>   MON</td>\n",
        "      <td> Large Growth</td>\n",
        "      <td> 2002-08-31</td>\n",
        "      <td>  2366501</td>\n",
        "      <td>   69703</td>\n",
        "      <td>        Basic Materials</td>\n",
        "      <td> 120.86</td>\n",
        "      <td>...</td>\n",
        "      <td> 21.27</td>\n",
        "      <td>  8.88</td>\n",
        "      <td>   58505.1</td>\n",
        "      <td> USD</td>\n",
        "      <td> 3</td>\n",
        "      <td>   5.23</td>\n",
        "      <td> 23.29</td>\n",
        "      <td>          -</td>\n",
        "      <td> -</td>\n",
        "      <td> -</td>\n",
        "    </tr>\n",
        "    <tr>\n",
        "      <th>71</th>\n",
        "      <td>   Mondelez International Inc Class A</td>\n",
        "      <td> 0.32</td>\n",
        "      <td>                EQUITY</td>\n",
        "      <td>  MDLZ</td>\n",
        "      <td>   Large Core</td>\n",
        "      <td> 2007-05-31</td>\n",
        "      <td>  7605226</td>\n",
        "      <td>  224006</td>\n",
        "      <td>     Consumer Defensive</td>\n",
        "      <td>   38.5</td>\n",
        "      <td>...</td>\n",
        "      <td> 19.08</td>\n",
        "      <td> 19.21</td>\n",
        "      <td>  64677.04</td>\n",
        "      <td> USD</td>\n",
        "      <td> 2</td>\n",
        "      <td>  10.28</td>\n",
        "      <td> 35.96</td>\n",
        "      <td>          -</td>\n",
        "      <td> -</td>\n",
        "      <td> -</td>\n",
        "    </tr>\n",
        "    <tr>\n",
        "      <th>72</th>\n",
        "      <td>                             eBay Inc</td>\n",
        "      <td> 0.32</td>\n",
        "      <td>                EQUITY</td>\n",
        "      <td>  EBAY</td>\n",
        "      <td> Large Growth</td>\n",
        "      <td> 2002-08-31</td>\n",
        "      <td>  5095315</td>\n",
        "      <td>  150078</td>\n",
        "      <td>      Consumer Cyclical</td>\n",
        "      <td>  54.81</td>\n",
        "      <td>...</td>\n",
        "      <td> 21.31</td>\n",
        "      <td> 18.29</td>\n",
        "      <td>  68094.15</td>\n",
        "      <td> USD</td>\n",
        "      <td> 3</td>\n",
        "      <td>   -0.1</td>\n",
        "      <td>     -</td>\n",
        "      <td>          -</td>\n",
        "      <td> -</td>\n",
        "      <td> -</td>\n",
        "    </tr>\n",
        "    <tr>\n",
        "      <th>73</th>\n",
        "      <td>                Costco Wholesale Corp</td>\n",
        "      <td> 0.32</td>\n",
        "      <td>                EQUITY</td>\n",
        "      <td>  COST</td>\n",
        "      <td> Large Growth</td>\n",
        "      <td> 1988-10-31</td>\n",
        "      <td>  1977201</td>\n",
        "      <td>   58237</td>\n",
        "      <td>     Consumer Defensive</td>\n",
        "      <td> 143.25</td>\n",
        "      <td>...</td>\n",
        "      <td> 20.85</td>\n",
        "      <td> 21.33</td>\n",
        "      <td>  62709.42</td>\n",
        "      <td> USD</td>\n",
        "      <td> 2</td>\n",
        "      <td>  21.51</td>\n",
        "      <td>  30.8</td>\n",
        "      <td>          -</td>\n",
        "      <td> -</td>\n",
        "      <td> -</td>\n",
        "    </tr>\n",
        "    <tr>\n",
        "      <th>74</th>\n",
        "      <td>                             EMC Corp</td>\n",
        "      <td> 0.32</td>\n",
        "      <td>                EQUITY</td>\n",
        "      <td>   EMC</td>\n",
        "      <td> Large Growth</td>\n",
        "      <td> 1996-08-31</td>\n",
        "      <td>  9151499</td>\n",
        "      <td>  269550</td>\n",
        "      <td>             Technology</td>\n",
        "      <td>  30.33</td>\n",
        "      <td>...</td>\n",
        "      <td>  9.53</td>\n",
        "      <td> 12.57</td>\n",
        "      <td>  61718.77</td>\n",
        "      <td> USD</td>\n",
        "      <td> 2</td>\n",
        "      <td>  22.31</td>\n",
        "      <td> 24.32</td>\n",
        "      <td>          -</td>\n",
        "      <td> -</td>\n",
        "      <td> -</td>\n",
        "    </tr>\n",
        "    <tr>\n",
        "      <th>75</th>\n",
        "      <td>              Duke Energy Corporation</td>\n",
        "      <td> 0.32</td>\n",
        "      <td>                EQUITY</td>\n",
        "      <td>   DUK</td>\n",
        "      <td>  Large Value</td>\n",
        "      <td> 2002-08-31</td>\n",
        "      <td>  3190582</td>\n",
        "      <td>   93976</td>\n",
        "      <td>              Utilities</td>\n",
        "      <td>  80.73</td>\n",
        "      <td>...</td>\n",
        "      <td> 13.17</td>\n",
        "      <td> 13.27</td>\n",
        "      <td>  57099.57</td>\n",
        "      <td> USD</td>\n",
        "      <td> 2</td>\n",
        "      <td>  21.55</td>\n",
        "      <td>  18.3</td>\n",
        "      <td>          -</td>\n",
        "      <td> -</td>\n",
        "      <td> -</td>\n",
        "    </tr>\n",
        "    <tr>\n",
        "      <th>76</th>\n",
        "      <td>                 Colgate-Palmolive Co</td>\n",
        "      <td> 0.31</td>\n",
        "      <td>                EQUITY</td>\n",
        "      <td>    CL</td>\n",
        "      <td>   Large Core</td>\n",
        "      <td> 1988-10-31</td>\n",
        "      <td>  3872839</td>\n",
        "      <td>  114071</td>\n",
        "      <td>     Consumer Defensive</td>\n",
        "      <td>  69.37</td>\n",
        "      <td>...</td>\n",
        "      <td>  17.5</td>\n",
        "      <td> 12.12</td>\n",
        "      <td>   63223.7</td>\n",
        "      <td> USD</td>\n",
        "      <td> 2</td>\n",
        "      <td>   8.56</td>\n",
        "      <td> 30.43</td>\n",
        "      <td>          -</td>\n",
        "      <td> -</td>\n",
        "      <td> -</td>\n",
        "    </tr>\n",
        "    <tr>\n",
        "      <th>77</th>\n",
        "      <td>                      Express Scripts</td>\n",
        "      <td> 0.31</td>\n",
        "      <td>                EQUITY</td>\n",
        "      <td>  ESRX</td>\n",
        "      <td> Large Growth</td>\n",
        "      <td> 2004-02-29</td>\n",
        "      <td>  3362808</td>\n",
        "      <td>   99050</td>\n",
        "      <td>             Healthcare</td>\n",
        "      <td>  84.58</td>\n",
        "      <td>...</td>\n",
        "      <td> 22.34</td>\n",
        "      <td> 14.22</td>\n",
        "      <td>  62074.11</td>\n",
        "      <td> USD</td>\n",
        "      <td> 3</td>\n",
        "      <td>  20.42</td>\n",
        "      <td>  33.8</td>\n",
        "      <td>          -</td>\n",
        "      <td> -</td>\n",
        "      <td> -</td>\n",
        "    </tr>\n",
        "    <tr>\n",
        "      <th>78</th>\n",
        "      <td>                       Starbucks Corp</td>\n",
        "      <td> 0.31</td>\n",
        "      <td>                EQUITY</td>\n",
        "      <td>  SBUX</td>\n",
        "      <td> Large Growth</td>\n",
        "      <td> 2000-08-31</td>\n",
        "      <td>  3388744</td>\n",
        "      <td>   99811</td>\n",
        "      <td>      Consumer Cyclical</td>\n",
        "      <td>  83.57</td>\n",
        "      <td>...</td>\n",
        "      <td> 24.98</td>\n",
        "      <td> 32.19</td>\n",
        "      <td>  62535.43</td>\n",
        "      <td> USD</td>\n",
        "      <td> 3</td>\n",
        "      <td>   8.01</td>\n",
        "      <td> 30.84</td>\n",
        "      <td>          -</td>\n",
        "      <td> -</td>\n",
        "      <td> -</td>\n",
        "    </tr>\n",
        "    <tr>\n",
        "      <th>79</th>\n",
        "      <td>                          Walgreen Co</td>\n",
        "      <td> 0.31</td>\n",
        "      <td>                EQUITY</td>\n",
        "      <td>   WAG</td>\n",
        "      <td>   Large Core</td>\n",
        "      <td> 1988-10-31</td>\n",
        "      <td>  3969939</td>\n",
        "      <td>  116931</td>\n",
        "      <td>     Consumer Defensive</td>\n",
        "      <td>   68.6</td>\n",
        "      <td>...</td>\n",
        "      <td>    28</td>\n",
        "      <td> 14.19</td>\n",
        "      <td>  65196.54</td>\n",
        "      <td> USD</td>\n",
        "      <td> 2</td>\n",
        "      <td>   21.7</td>\n",
        "      <td> 34.27</td>\n",
        "      <td>          -</td>\n",
        "      <td> -</td>\n",
        "      <td> -</td>\n",
        "    </tr>\n",
        "    <tr>\n",
        "      <th>80</th>\n",
        "      <td>                         Allergan Inc</td>\n",
        "      <td> 0.31</td>\n",
        "      <td>                EQUITY</td>\n",
        "      <td>   AGN</td>\n",
        "      <td> Large Growth</td>\n",
        "      <td> 1992-04-30</td>\n",
        "      <td>  1340630</td>\n",
        "      <td>   39488</td>\n",
        "      <td>             Healthcare</td>\n",
        "      <td> 213.35</td>\n",
        "      <td>...</td>\n",
        "      <td> 36.72</td>\n",
        "      <td> 29.37</td>\n",
        "      <td>  63556.67</td>\n",
        "      <td> USD</td>\n",
        "      <td> 2</td>\n",
        "      <td>  92.25</td>\n",
        "      <td> 49.72</td>\n",
        "      <td>          -</td>\n",
        "      <td> -</td>\n",
        "      <td> -</td>\n",
        "    </tr>\n",
        "    <tr>\n",
        "      <th>81</th>\n",
        "      <td>                 Lowe's Companies Inc</td>\n",
        "      <td> 0.31</td>\n",
        "      <td>                EQUITY</td>\n",
        "      <td>   LOW</td>\n",
        "      <td> Large Growth</td>\n",
        "      <td> 1988-10-31</td>\n",
        "      <td>  4452962</td>\n",
        "      <td>  131159</td>\n",
        "      <td>      Consumer Cyclical</td>\n",
        "      <td>  64.86</td>\n",
        "      <td>...</td>\n",
        "      <td>  40.1</td>\n",
        "      <td> 24.29</td>\n",
        "      <td>  63102.86</td>\n",
        "      <td> USD</td>\n",
        "      <td> 2</td>\n",
        "      <td>  32.55</td>\n",
        "      <td> 25.59</td>\n",
        "      <td>          -</td>\n",
        "      <td> -</td>\n",
        "      <td> -</td>\n",
        "    </tr>\n",
        "    <tr>\n",
        "      <th>82</th>\n",
        "      <td>             Simon Property Group Inc</td>\n",
        "      <td> 0.30</td>\n",
        "      <td>                EQUITY</td>\n",
        "      <td>   SPG</td>\n",
        "      <td> Large Growth</td>\n",
        "      <td> 2002-08-31</td>\n",
        "      <td>  1401895</td>\n",
        "      <td>   41292</td>\n",
        "      <td>            Real Estate</td>\n",
        "      <td> 180.83</td>\n",
        "      <td>...</td>\n",
        "      <td> 18.88</td>\n",
        "      <td> 22.89</td>\n",
        "      <td>  56198.72</td>\n",
        "      <td> USD</td>\n",
        "      <td> 2</td>\n",
        "      <td>  29.89</td>\n",
        "      <td> 37.75</td>\n",
        "      <td>          -</td>\n",
        "      <td> -</td>\n",
        "      <td> -</td>\n",
        "    </tr>\n",
        "    <tr>\n",
        "      <th>83</th>\n",
        "      <td>                      Dow Chemical Co</td>\n",
        "      <td> 0.30</td>\n",
        "      <td>                EQUITY</td>\n",
        "      <td>   DOW</td>\n",
        "      <td>  Large Value</td>\n",
        "      <td> 1988-10-31</td>\n",
        "      <td>  5063484</td>\n",
        "      <td>  149141</td>\n",
        "      <td>        Basic Materials</td>\n",
        "      <td>  50.16</td>\n",
        "      <td>...</td>\n",
        "      <td>  24.5</td>\n",
        "      <td> 15.06</td>\n",
        "      <td>   59116.6</td>\n",
        "      <td> USD</td>\n",
        "      <td> 3</td>\n",
        "      <td>  15.47</td>\n",
        "      <td> 16.73</td>\n",
        "      <td>          -</td>\n",
        "      <td> -</td>\n",
        "      <td> -</td>\n",
        "    </tr>\n",
        "    <tr>\n",
        "      <th>84</th>\n",
        "      <td>                        Ford Motor Co</td>\n",
        "      <td> 0.30</td>\n",
        "      <td>                EQUITY</td>\n",
        "      <td>     F</td>\n",
        "      <td>  Large Value</td>\n",
        "      <td> 1988-10-31</td>\n",
        "      <td> 17496151</td>\n",
        "      <td>  515337</td>\n",
        "      <td>      Consumer Cyclical</td>\n",
        "      <td>   15.7</td>\n",
        "      <td>...</td>\n",
        "      <td> 14.78</td>\n",
        "      <td> 13.45</td>\n",
        "      <td>  60424.39</td>\n",
        "      <td> USD</td>\n",
        "      <td> 4</td>\n",
        "      <td>   4.99</td>\n",
        "      <td> 10.35</td>\n",
        "      <td>          -</td>\n",
        "      <td> -</td>\n",
        "      <td> -</td>\n",
        "    </tr>\n",
        "    <tr>\n",
        "      <th>85</th>\n",
        "      <td>                       Morgan Stanley</td>\n",
        "      <td> 0.29</td>\n",
        "      <td>                EQUITY</td>\n",
        "      <td>    MS</td>\n",
        "      <td>   Large Core</td>\n",
        "      <td> 1993-08-31</td>\n",
        "      <td>  6908387</td>\n",
        "      <td>  203482</td>\n",
        "      <td>     Financial Services</td>\n",
        "      <td>  37.24</td>\n",
        "      <td>...</td>\n",
        "      <td> 31.86</td>\n",
        "      <td>  4.39</td>\n",
        "      <td>   72893.7</td>\n",
        "      <td> USD</td>\n",
        "      <td> 3</td>\n",
        "      <td>  19.87</td>\n",
        "      <td> 14.82</td>\n",
        "      <td>          -</td>\n",
        "      <td> -</td>\n",
        "      <td> -</td>\n",
        "    </tr>\n",
        "    <tr>\n",
        "      <th>86</th>\n",
        "      <td>                Texas Instruments Inc</td>\n",
        "      <td> 0.29</td>\n",
        "      <td>                EQUITY</td>\n",
        "      <td>   TXN</td>\n",
        "      <td>   Large Core</td>\n",
        "      <td> 1988-10-31</td>\n",
        "      <td>  4815863</td>\n",
        "      <td>  141848</td>\n",
        "      <td>             Technology</td>\n",
        "      <td>  55.58</td>\n",
        "      <td>...</td>\n",
        "      <td> 24.69</td>\n",
        "      <td> 17.31</td>\n",
        "      <td>  58709.15</td>\n",
        "      <td> USD</td>\n",
        "      <td> 2</td>\n",
        "      <td>   29.4</td>\n",
        "      <td> 24.14</td>\n",
        "      <td>          -</td>\n",
        "      <td> -</td>\n",
        "      <td> -</td>\n",
        "    </tr>\n",
        "    <tr>\n",
        "      <th>87</th>\n",
        "      <td>                    EOG Resources Inc</td>\n",
        "      <td> 0.28</td>\n",
        "      <td>                EQUITY</td>\n",
        "      <td>   EOG</td>\n",
        "      <td> Large Growth</td>\n",
        "      <td> 2001-02-28</td>\n",
        "      <td>  2469634</td>\n",
        "      <td>   72741</td>\n",
        "      <td>                 Energy</td>\n",
        "      <td>  90.75</td>\n",
        "      <td>...</td>\n",
        "      <td> 21.67</td>\n",
        "      <td> 16.29</td>\n",
        "      <td>  49731.86</td>\n",
        "      <td> USD</td>\n",
        "      <td> 3</td>\n",
        "      <td>   8.75</td>\n",
        "      <td> 16.31</td>\n",
        "      <td>          -</td>\n",
        "      <td> -</td>\n",
        "      <td> -</td>\n",
        "    </tr>\n",
        "    <tr>\n",
        "      <th>88</th>\n",
        "      <td>                 Lockheed Martin Corp</td>\n",
        "      <td> 0.28</td>\n",
        "      <td>                EQUITY</td>\n",
        "      <td>   LMT</td>\n",
        "      <td>  Large Value</td>\n",
        "      <td> 1995-02-28</td>\n",
        "      <td>  1217006</td>\n",
        "      <td>   35846</td>\n",
        "      <td>            Industrials</td>\n",
        "      <td> 189.87</td>\n",
        "      <td>...</td>\n",
        "      <td> 37.78</td>\n",
        "      <td> 21.86</td>\n",
        "      <td>  59984.71</td>\n",
        "      <td> USD</td>\n",
        "      <td> 2</td>\n",
        "      <td>  31.41</td>\n",
        "      <td> 19.22</td>\n",
        "      <td>          -</td>\n",
        "      <td> -</td>\n",
        "      <td> -</td>\n",
        "    </tr>\n",
        "    <tr>\n",
        "      <th>89</th>\n",
        "      <td>                Accenture PLC Class A</td>\n",
        "      <td> 0.28</td>\n",
        "      <td>                EQUITY</td>\n",
        "      <td>   ACN</td>\n",
        "      <td>   Large Core</td>\n",
        "      <td> 2011-07-31</td>\n",
        "      <td>  2847603</td>\n",
        "      <td>   83875</td>\n",
        "      <td>             Technology</td>\n",
        "      <td>  86.19</td>\n",
        "      <td>...</td>\n",
        "      <td> 15.49</td>\n",
        "      <td> 17.01</td>\n",
        "      <td>  56497.76</td>\n",
        "      <td> USD</td>\n",
        "      <td> 3</td>\n",
        "      <td>    7.2</td>\n",
        "      <td> 20.29</td>\n",
        "      <td>          -</td>\n",
        "      <td> -</td>\n",
        "      <td> -</td>\n",
        "    </tr>\n",
        "    <tr>\n",
        "      <th>90</th>\n",
        "      <td>                         Danaher Corp</td>\n",
        "      <td> 0.27</td>\n",
        "      <td>                EQUITY</td>\n",
        "      <td>   DHR</td>\n",
        "      <td> Large Growth</td>\n",
        "      <td> 1999-02-28</td>\n",
        "      <td>  2749950</td>\n",
        "      <td>   80997</td>\n",
        "      <td>            Industrials</td>\n",
        "      <td>  84.88</td>\n",
        "      <td>...</td>\n",
        "      <td> 21.49</td>\n",
        "      <td> 18.76</td>\n",
        "      <td>  59644.46</td>\n",
        "      <td> USD</td>\n",
        "      <td> 2</td>\n",
        "      <td>  10.34</td>\n",
        "      <td> 22.27</td>\n",
        "      <td>          -</td>\n",
        "      <td> -</td>\n",
        "      <td> -</td>\n",
        "    </tr>\n",
        "    <tr>\n",
        "      <th>91</th>\n",
        "      <td>                        McKesson Corp</td>\n",
        "      <td> 0.26</td>\n",
        "      <td>                EQUITY</td>\n",
        "      <td>   MCK</td>\n",
        "      <td> Large Growth</td>\n",
        "      <td> 1999-02-28</td>\n",
        "      <td>  1044770</td>\n",
        "      <td>   30774</td>\n",
        "      <td>             Healthcare</td>\n",
        "      <td> 212.63</td>\n",
        "      <td>...</td>\n",
        "      <td> 38.61</td>\n",
        "      <td> 28.88</td>\n",
        "      <td>  49305.02</td>\n",
        "      <td> USD</td>\n",
        "      <td> 2</td>\n",
        "      <td>  32.34</td>\n",
        "      <td> 35.41</td>\n",
        "      <td>          -</td>\n",
        "      <td> -</td>\n",
        "      <td> -</td>\n",
        "    </tr>\n",
        "    <tr>\n",
        "      <th>92</th>\n",
        "      <td>         Thermo Fisher Scientific Inc</td>\n",
        "      <td> 0.26</td>\n",
        "      <td>                EQUITY</td>\n",
        "      <td>   TMO</td>\n",
        "      <td> Large Growth</td>\n",
        "      <td> 1997-02-28</td>\n",
        "      <td>  1799653</td>\n",
        "      <td>   53007</td>\n",
        "      <td>             Healthcare</td>\n",
        "      <td> 128.54</td>\n",
        "      <td>...</td>\n",
        "      <td> 40.64</td>\n",
        "      <td> 21.88</td>\n",
        "      <td>  51419.27</td>\n",
        "      <td> USD</td>\n",
        "      <td> 2</td>\n",
        "      <td>  15.84</td>\n",
        "      <td> 30.98</td>\n",
        "      <td>          -</td>\n",
        "      <td> -</td>\n",
        "      <td> -</td>\n",
        "    </tr>\n",
        "    <tr>\n",
        "      <th>93</th>\n",
        "      <td>                       Halliburton Co</td>\n",
        "      <td> 0.26</td>\n",
        "      <td>                EQUITY</td>\n",
        "      <td>   HAL</td>\n",
        "      <td>   Large Core</td>\n",
        "      <td> 1988-10-31</td>\n",
        "      <td>  3836825</td>\n",
        "      <td>  113011</td>\n",
        "      <td>                 Energy</td>\n",
        "      <td>  40.37</td>\n",
        "      <td>...</td>\n",
        "      <td>   4.2</td>\n",
        "      <td>  8.91</td>\n",
        "      <td>  34211.97</td>\n",
        "      <td> USD</td>\n",
        "      <td> 5</td>\n",
        "      <td> -19.21</td>\n",
        "      <td> 10.41</td>\n",
        "      <td>          -</td>\n",
        "      <td> -</td>\n",
        "      <td> -</td>\n",
        "    </tr>\n",
        "    <tr>\n",
        "      <th>94</th>\n",
        "      <td>     PNC Financial Services Group Inc</td>\n",
        "      <td> 0.25</td>\n",
        "      <td>                EQUITY</td>\n",
        "      <td>   PNC</td>\n",
        "      <td>  Large Value</td>\n",
        "      <td> 1998-02-28</td>\n",
        "      <td>  2438552</td>\n",
        "      <td>   71825</td>\n",
        "      <td>     Financial Services</td>\n",
        "      <td>  90.18</td>\n",
        "      <td>...</td>\n",
        "      <td> 19.99</td>\n",
        "      <td> 12.62</td>\n",
        "      <td>   47453.6</td>\n",
        "      <td> USD</td>\n",
        "      <td> 3</td>\n",
        "      <td>  18.66</td>\n",
        "      <td> 12.16</td>\n",
        "      <td>          -</td>\n",
        "      <td> -</td>\n",
        "      <td> -</td>\n",
        "    </tr>\n",
        "    <tr>\n",
        "      <th>95</th>\n",
        "      <td>           Capital One Financial Corp</td>\n",
        "      <td> 0.25</td>\n",
        "      <td>                EQUITY</td>\n",
        "      <td>   COF</td>\n",
        "      <td>  Large Value</td>\n",
        "      <td> 1998-08-31</td>\n",
        "      <td>  2532172</td>\n",
        "      <td>   74584</td>\n",
        "      <td>     Financial Services</td>\n",
        "      <td>  82.94</td>\n",
        "      <td>...</td>\n",
        "      <td> 22.15</td>\n",
        "      <td> 17.71</td>\n",
        "      <td>   46112.2</td>\n",
        "      <td> USD</td>\n",
        "      <td> 3</td>\n",
        "      <td>   9.83</td>\n",
        "      <td> 11.16</td>\n",
        "      <td>          -</td>\n",
        "      <td> -</td>\n",
        "      <td> -</td>\n",
        "    </tr>\n",
        "    <tr>\n",
        "      <th>96</th>\n",
        "      <td>              Anadarko Petroleum Corp</td>\n",
        "      <td> 0.25</td>\n",
        "      <td>                EQUITY</td>\n",
        "      <td>   APC</td>\n",
        "      <td>   Large Core</td>\n",
        "      <td> 1997-08-31</td>\n",
        "      <td>  2282455</td>\n",
        "      <td>   67228</td>\n",
        "      <td>                 Energy</td>\n",
        "      <td>  79.07</td>\n",
        "      <td>...</td>\n",
        "      <td> -0.39</td>\n",
        "      <td>  6.23</td>\n",
        "      <td>  40045.04</td>\n",
        "      <td> USD</td>\n",
        "      <td> 4</td>\n",
        "      <td>   0.59</td>\n",
        "      <td>     -</td>\n",
        "      <td>          -</td>\n",
        "      <td> -</td>\n",
        "      <td> -</td>\n",
        "    </tr>\n",
        "    <tr>\n",
        "      <th>97</th>\n",
        "      <td>                  Emerson Electric Co</td>\n",
        "      <td> 0.24</td>\n",
        "      <td>                EQUITY</td>\n",
        "      <td>   EMR</td>\n",
        "      <td>  Large Value</td>\n",
        "      <td> 1988-10-31</td>\n",
        "      <td>  3148371</td>\n",
        "      <td>   92733</td>\n",
        "      <td>            Industrials</td>\n",
        "      <td>  64.88</td>\n",
        "      <td>...</td>\n",
        "      <td> 10.28</td>\n",
        "      <td> 11.52</td>\n",
        "      <td>  45003.03</td>\n",
        "      <td> USD</td>\n",
        "      <td> 3</td>\n",
        "      <td>  -5.04</td>\n",
        "      <td> 21.28</td>\n",
        "      <td>          -</td>\n",
        "      <td> -</td>\n",
        "      <td> -</td>\n",
        "    </tr>\n",
        "    <tr>\n",
        "      <th>98</th>\n",
        "      <td>                           FedEx Corp</td>\n",
        "      <td> 0.24</td>\n",
        "      <td>                EQUITY</td>\n",
        "      <td>   FDX</td>\n",
        "      <td> Large Growth</td>\n",
        "      <td> 1998-02-28</td>\n",
        "      <td>  1197443</td>\n",
        "      <td>   35269</td>\n",
        "      <td>            Industrials</td>\n",
        "      <td> 182.03</td>\n",
        "      <td>...</td>\n",
        "      <td> 30.25</td>\n",
        "      <td> 16.02</td>\n",
        "      <td>  51559.34</td>\n",
        "      <td> USD</td>\n",
        "      <td> 2</td>\n",
        "      <td>  26.99</td>\n",
        "      <td> 24.87</td>\n",
        "      <td>          -</td>\n",
        "      <td> -</td>\n",
        "      <td> -</td>\n",
        "    </tr>\n",
        "    <tr>\n",
        "      <th>99</th>\n",
        "      <td>                General Dynamics Corp</td>\n",
        "      <td> 0.24</td>\n",
        "      <td>                EQUITY</td>\n",
        "      <td>    GD</td>\n",
        "      <td>   Large Core</td>\n",
        "      <td> 1988-10-31</td>\n",
        "      <td>  1432729</td>\n",
        "      <td>   42200</td>\n",
        "      <td>            Industrials</td>\n",
        "      <td> 145.15</td>\n",
        "      <td>...</td>\n",
        "      <td> 32.22</td>\n",
        "      <td> 18.11</td>\n",
        "      <td>  48101.22</td>\n",
        "      <td> USD</td>\n",
        "      <td> 2</td>\n",
        "      <td>  54.44</td>\n",
        "      <td> 19.62</td>\n",
        "      <td>          -</td>\n",
        "      <td> -</td>\n",
        "      <td> -</td>\n",
        "    </tr>\n",
        "  </tbody>\n",
        "</table>\n",
        "<p>100 rows \u00d7 27 columns</p>\n",
        "</div>"
       ],
       "metadata": {},
       "output_type": "pyout",
       "prompt_number": 987,
       "text": [
        "                             \ufeff\"Holdings\"  Weighting                   Type  \\\n",
        "0                              Apple Inc       3.52                 EQUITY   \n",
        "1                Exxon Mobil Corporation       2.25                 EQUITY   \n",
        "2                         Microsoft Corp       2.11                 EQUITY   \n",
        "3                      Johnson & Johnson       1.66                 EQUITY   \n",
        "4                    General Electric Co       1.41                 EQUITY   \n",
        "5         Berkshire Hathaway Inc Class B       1.39                 EQUITY   \n",
        "6                       Wells Fargo & Co       1.37                 EQUITY   \n",
        "7                    Procter & Gamble Co       1.29                 EQUITY   \n",
        "8                           Chevron Corp       1.24                 EQUITY   \n",
        "9                    JPMorgan Chase & Co       1.24                 EQUITY   \n",
        "10            Verizon Communications Inc       1.13                 EQUITY   \n",
        "11            S&P 500 Index Future Dec14       1.12  EQUITY INDEX - FUTURE   \n",
        "12                            Pfizer Inc       1.03                 EQUITY   \n",
        "13                              AT&T Inc       0.98                 EQUITY   \n",
        "14           Bank of America Corporation       0.98                 EQUITY   \n",
        "15                   Gilead Sciences Inc       0.92                 EQUITY   \n",
        "16                            Intel Corp       0.92                 EQUITY   \n",
        "17                        Merck & Co Inc       0.91                 EQUITY   \n",
        "18                          Coca-Cola Co       0.90                 EQUITY   \n",
        "19                         Citigroup Inc       0.88                 EQUITY   \n",
        "20                    Google Inc Class A       0.88                 EQUITY   \n",
        "21                    Google Inc Class C       0.87                 EQUITY   \n",
        "22                  Facebook Inc Class A       0.85                 EQUITY   \n",
        "23  International Business Machines Corp       0.83                 EQUITY   \n",
        "24                           PepsiCo Inc       0.79                 EQUITY   \n",
        "25                        Walt Disney Co       0.79                 EQUITY   \n",
        "26                  Comcast Corp Class A       0.78                 EQUITY   \n",
        "27       Philip Morris International Inc       0.76                 EQUITY   \n",
        "28                          Qualcomm Inc       0.72                 EQUITY   \n",
        "29                        Home Depot Inc       0.72                 EQUITY   \n",
        "..                                   ...        ...                    ...   \n",
        "70                           Monsanto Co       0.33                 EQUITY   \n",
        "71    Mondelez International Inc Class A       0.32                 EQUITY   \n",
        "72                              eBay Inc       0.32                 EQUITY   \n",
        "73                 Costco Wholesale Corp       0.32                 EQUITY   \n",
        "74                              EMC Corp       0.32                 EQUITY   \n",
        "75               Duke Energy Corporation       0.32                 EQUITY   \n",
        "76                  Colgate-Palmolive Co       0.31                 EQUITY   \n",
        "77                       Express Scripts       0.31                 EQUITY   \n",
        "78                        Starbucks Corp       0.31                 EQUITY   \n",
        "79                           Walgreen Co       0.31                 EQUITY   \n",
        "80                          Allergan Inc       0.31                 EQUITY   \n",
        "81                  Lowe's Companies Inc       0.31                 EQUITY   \n",
        "82              Simon Property Group Inc       0.30                 EQUITY   \n",
        "83                       Dow Chemical Co       0.30                 EQUITY   \n",
        "84                         Ford Motor Co       0.30                 EQUITY   \n",
        "85                        Morgan Stanley       0.29                 EQUITY   \n",
        "86                 Texas Instruments Inc       0.29                 EQUITY   \n",
        "87                     EOG Resources Inc       0.28                 EQUITY   \n",
        "88                  Lockheed Martin Corp       0.28                 EQUITY   \n",
        "89                 Accenture PLC Class A       0.28                 EQUITY   \n",
        "90                          Danaher Corp       0.27                 EQUITY   \n",
        "91                         McKesson Corp       0.26                 EQUITY   \n",
        "92          Thermo Fisher Scientific Inc       0.26                 EQUITY   \n",
        "93                        Halliburton Co       0.26                 EQUITY   \n",
        "94      PNC Financial Services Group Inc       0.25                 EQUITY   \n",
        "95            Capital One Financial Corp       0.25                 EQUITY   \n",
        "96               Anadarko Petroleum Corp       0.25                 EQUITY   \n",
        "97                   Emerson Electric Co       0.24                 EQUITY   \n",
        "98                            FedEx Corp       0.24                 EQUITY   \n",
        "99                 General Dynamics Corp       0.24                 EQUITY   \n",
        "\n",
        "   Ticker         Style First Bought  Shares Owned  Shares Change  \\\n",
        "0    AAPL    Large Core   1988-10-31      27011926         795616   \n",
        "1     XOM   Large Value   1988-10-31      19238496         566657   \n",
        "2    MSFT    Large Core   2002-08-31      37170866        1094841   \n",
        "3     JNJ    Large Core   1988-10-31      12722625         374736   \n",
        "4      GE   Large Value   1988-10-31      45264044        1333219   \n",
        "5   BRK.B  Large Growth   2010-02-28       8223858         242227   \n",
        "6     WFC   Large Value   1988-10-31      21430345         631215   \n",
        "7      PG   Large Value   1988-10-31      12214516         359770   \n",
        "8     CVX   Large Value   1988-10-31       8566290         252313   \n",
        "9     JPM   Large Value   1988-10-31      16967553         499767   \n",
        "10     VZ   Large Value   2000-08-31      18699599         550784   \n",
        "11      -             -            -          1845           -936   \n",
        "12    PFE   Large Value   1988-10-31      28604330         842519   \n",
        "13      T   Large Value   1995-02-28      23394616         689071   \n",
        "14    BAC    Large Core   1988-10-31      47438215        1397258   \n",
        "15   GILD  Large Growth   2004-08-31       6819310         200858   \n",
        "16   INTC    Large Core   2002-08-31      22334506         657847   \n",
        "17    MRK   Large Value   2009-11-30      13012892         383285   \n",
        "18     KO   Large Value   1988-10-31      17806846         524487   \n",
        "19      C    Large Core   1996-08-31      13676661         402836   \n",
        "20  GOOGL  Large Growth   2006-05-31       1281591          37749   \n",
        "21   GOOG  Large Growth   2014-04-30       1281485          37746   \n",
        "22     FB  Large Growth   2013-12-31       9398264         860528   \n",
        "23    IBM   Large Value   1988-10-31       4185230         123273   \n",
        "24    PEP    Large Core   1988-10-31       6797291         200209   \n",
        "25    DIS  Large Growth   1988-10-31       7124042         209834   \n",
        "26  CMCSA    Large Core   2003-08-31      11675216         343884   \n",
        "27     PM   Large Value   2008-03-31       7046944         207562   \n",
        "28   QCOM  Large Growth   1999-08-31       7560729         222696   \n",
        "29     HD  Large Growth   1988-10-31       6071603         178835   \n",
        "..    ...           ...          ...           ...            ...   \n",
        "70    MON  Large Growth   2002-08-31       2366501          69703   \n",
        "71   MDLZ    Large Core   2007-05-31       7605226         224006   \n",
        "72   EBAY  Large Growth   2002-08-31       5095315         150078   \n",
        "73   COST  Large Growth   1988-10-31       1977201          58237   \n",
        "74    EMC  Large Growth   1996-08-31       9151499         269550   \n",
        "75    DUK   Large Value   2002-08-31       3190582          93976   \n",
        "76     CL    Large Core   1988-10-31       3872839         114071   \n",
        "77   ESRX  Large Growth   2004-02-29       3362808          99050   \n",
        "78   SBUX  Large Growth   2000-08-31       3388744          99811   \n",
        "79    WAG    Large Core   1988-10-31       3969939         116931   \n",
        "80    AGN  Large Growth   1992-04-30       1340630          39488   \n",
        "81    LOW  Large Growth   1988-10-31       4452962         131159   \n",
        "82    SPG  Large Growth   2002-08-31       1401895          41292   \n",
        "83    DOW   Large Value   1988-10-31       5063484         149141   \n",
        "84      F   Large Value   1988-10-31      17496151         515337   \n",
        "85     MS    Large Core   1993-08-31       6908387         203482   \n",
        "86    TXN    Large Core   1988-10-31       4815863         141848   \n",
        "87    EOG  Large Growth   2001-02-28       2469634          72741   \n",
        "88    LMT   Large Value   1995-02-28       1217006          35846   \n",
        "89    ACN    Large Core   2011-07-31       2847603          83875   \n",
        "90    DHR  Large Growth   1999-02-28       2749950          80997   \n",
        "91    MCK  Large Growth   1999-02-28       1044770          30774   \n",
        "92    TMO  Large Growth   1997-02-28       1799653          53007   \n",
        "93    HAL    Large Core   1988-10-31       3836825         113011   \n",
        "94    PNC   Large Value   1998-02-28       2438552          71825   \n",
        "95    COF   Large Value   1998-08-31       2532172          74584   \n",
        "96    APC    Large Core   1997-08-31       2282455          67228   \n",
        "97    EMR   Large Value   1988-10-31       3148371          92733   \n",
        "98    FDX  Large Growth   1998-02-28       1197443          35269   \n",
        "99     GD    Large Core   1988-10-31       1432729          42200   \n",
        "\n",
        "                    Sector   Price   ...   3-Year Return 5-Year Return  \\\n",
        "0               Technology     115   ...           28.56         33.99   \n",
        "1                   Energy   93.82   ...            7.93          7.13   \n",
        "2               Technology   48.42   ...           25.97          11.9   \n",
        "3               Healthcare  108.51   ...           22.43         13.39   \n",
        "4              Industrials   26.01   ...           20.16         12.61   \n",
        "5       Financial Services  150.68   ...           24.48         17.81   \n",
        "6       Financial Services   55.03   ...           29.75         16.99   \n",
        "7       Consumer Defensive   90.38   ...           14.56         10.13   \n",
        "8                   Energy  110.87   ...            6.01         10.47   \n",
        "9       Financial Services    62.7   ...           25.84         10.18   \n",
        "10  Communication Services   48.61   ...           12.96         13.92   \n",
        "11                       -       -   ...               -             -   \n",
        "12              Healthcare   31.99   ...           20.68          14.5   \n",
        "13  Communication Services   33.94   ...           10.51          9.14   \n",
        "14      Financial Services   17.68   ...           45.62          1.98   \n",
        "15              Healthcare  104.59   ...           73.36         35.03   \n",
        "16              Technology   37.67   ...           17.28         15.33   \n",
        "17              Healthcare   61.49   ...           23.64         13.68   \n",
        "18      Consumer Defensive   43.53   ...           12.25         11.12   \n",
        "19      Financial Services   56.08   ...           23.51          6.73   \n",
        "20              Technology  528.08   ...           19.03         12.52   \n",
        "21              Technology  525.26   ...               -             -   \n",
        "22              Technology   76.36   ...               -             -   \n",
        "23              Technology  163.27   ...           -2.94          7.17   \n",
        "24      Consumer Defensive   97.76   ...           17.57          11.3   \n",
        "25       Consumer Cyclical   93.76   ...           37.47         25.68   \n",
        "26  Communication Services   56.34   ...           36.25         29.77   \n",
        "27      Consumer Defensive   87.14   ...            8.76         15.56   \n",
        "28              Technology   73.37   ...           12.44         11.84   \n",
        "29       Consumer Cyclical   99.64   ...           37.35         30.49   \n",
        "..                     ...     ...   ...             ...           ...   \n",
        "70         Basic Materials  120.86   ...           21.27          8.88   \n",
        "71      Consumer Defensive    38.5   ...           19.08         19.21   \n",
        "72       Consumer Cyclical   54.81   ...           21.31         18.29   \n",
        "73      Consumer Defensive  143.25   ...           20.85         21.33   \n",
        "74              Technology   30.33   ...            9.53         12.57   \n",
        "75               Utilities   80.73   ...           13.17         13.27   \n",
        "76      Consumer Defensive   69.37   ...            17.5         12.12   \n",
        "77              Healthcare   84.58   ...           22.34         14.22   \n",
        "78       Consumer Cyclical   83.57   ...           24.98         32.19   \n",
        "79      Consumer Defensive    68.6   ...              28         14.19   \n",
        "80              Healthcare  213.35   ...           36.72         29.37   \n",
        "81       Consumer Cyclical   64.86   ...            40.1         24.29   \n",
        "82             Real Estate  180.83   ...           18.88         22.89   \n",
        "83         Basic Materials   50.16   ...            24.5         15.06   \n",
        "84       Consumer Cyclical    15.7   ...           14.78         13.45   \n",
        "85      Financial Services   37.24   ...           31.86          4.39   \n",
        "86              Technology   55.58   ...           24.69         17.31   \n",
        "87                  Energy   90.75   ...           21.67         16.29   \n",
        "88             Industrials  189.87   ...           37.78         21.86   \n",
        "89              Technology   86.19   ...           15.49         17.01   \n",
        "90             Industrials   84.88   ...           21.49         18.76   \n",
        "91              Healthcare  212.63   ...           38.61         28.88   \n",
        "92              Healthcare  128.54   ...           40.64         21.88   \n",
        "93                  Energy   40.37   ...             4.2          8.91   \n",
        "94      Financial Services   90.18   ...           19.99         12.62   \n",
        "95      Financial Services   82.94   ...           22.15         17.71   \n",
        "96                  Energy   79.07   ...           -0.39          6.23   \n",
        "97             Industrials   64.88   ...           10.28         11.52   \n",
        "98             Industrials  182.03   ...           30.25         16.02   \n",
        "99             Industrials  145.15   ...           32.22         18.11   \n",
        "\n",
        "   Market Cap Mil Currency Morningstar Rating YTD Return    P/E Maturity Date  \\\n",
        "0       674456.62      USD                  2      45.79  17.82             -   \n",
        "1       397283.47      USD                  4      -4.62   11.8             -   \n",
        "2       399118.94      USD                  3       32.5  18.98             -   \n",
        "3       303731.47      USD                  2      21.49  17.99             -   \n",
        "4       261197.42      USD                  3      -4.85  17.52             -   \n",
        "5       351887.19      USD                  3      27.09  17.09             -   \n",
        "6       285474.97      USD                  3      24.19  13.49             -   \n",
        "7       244217.48      USD                  3      14.13  25.47             -   \n",
        "8       209591.36      USD                  4      -7.87  10.21             -   \n",
        "9       234384.44      USD                  3       9.88  11.62             -   \n",
        "10      201718.06      USD                  3       3.28  10.51             -   \n",
        "11              -      USD                  -          -      -    2014-12-18   \n",
        "12      201558.03      USD                  2       7.84  19.76             -   \n",
        "13      176046.78      USD                  3       1.76  10.39             -   \n",
        "14      185930.84      USD                  3      14.32  45.05             -   \n",
        "15       157791.2      USD                  3      39.27  18.62             -   \n",
        "16      182134.45      USD                  1       48.6     18             -   \n",
        "17       175300.2      USD                  3      25.49  33.65             -   \n",
        "18      190666.31      USD                  3       8.33  24.16             -   \n",
        "19       169893.7      USD                  2        7.7  18.84             -   \n",
        "20      358231.34      USD                  3      -5.85  28.06             -   \n",
        "21      356318.34      USD                  3          -  27.91             -   \n",
        "22      212880.06      USD                  2      39.73  72.25             -   \n",
        "23      161581.86      USD                  4     -10.69  10.49             -   \n",
        "24       146308.2      USD                  2      20.92  21.62             -   \n",
        "25      158989.84      USD                  3      22.72  21.99             -   \n",
        "26      146212.78      USD                  2       9.72  17.75             -   \n",
        "27      135390.73      USD                  3       3.32  17.47             -   \n",
        "28      121985.03      USD                  3       0.98  16.67             -   \n",
        "29      131308.31      USD                  2      23.29  22.75             -   \n",
        "..            ...      ...                ...        ...    ...           ...   \n",
        "70        58505.1      USD                  3       5.23  23.29             -   \n",
        "71       64677.04      USD                  2      10.28  35.96             -   \n",
        "72       68094.15      USD                  3       -0.1      -             -   \n",
        "73       62709.42      USD                  2      21.51   30.8             -   \n",
        "74       61718.77      USD                  2      22.31  24.32             -   \n",
        "75       57099.57      USD                  2      21.55   18.3             -   \n",
        "76        63223.7      USD                  2       8.56  30.43             -   \n",
        "77       62074.11      USD                  3      20.42   33.8             -   \n",
        "78       62535.43      USD                  3       8.01  30.84             -   \n",
        "79       65196.54      USD                  2       21.7  34.27             -   \n",
        "80       63556.67      USD                  2      92.25  49.72             -   \n",
        "81       63102.86      USD                  2      32.55  25.59             -   \n",
        "82       56198.72      USD                  2      29.89  37.75             -   \n",
        "83        59116.6      USD                  3      15.47  16.73             -   \n",
        "84       60424.39      USD                  4       4.99  10.35             -   \n",
        "85        72893.7      USD                  3      19.87  14.82             -   \n",
        "86       58709.15      USD                  2       29.4  24.14             -   \n",
        "87       49731.86      USD                  3       8.75  16.31             -   \n",
        "88       59984.71      USD                  2      31.41  19.22             -   \n",
        "89       56497.76      USD                  3        7.2  20.29             -   \n",
        "90       59644.46      USD                  2      10.34  22.27             -   \n",
        "91       49305.02      USD                  2      32.34  35.41             -   \n",
        "92       51419.27      USD                  2      15.84  30.98             -   \n",
        "93       34211.97      USD                  5     -19.21  10.41             -   \n",
        "94        47453.6      USD                  3      18.66  12.16             -   \n",
        "95        46112.2      USD                  3       9.83  11.16             -   \n",
        "96       40045.04      USD                  4       0.59      -             -   \n",
        "97       45003.03      USD                  3      -5.04  21.28             -   \n",
        "98       51559.34      USD                  2      26.99  24.87             -   \n",
        "99       48101.22      USD                  2      54.44  19.62             -   \n",
        "\n",
        "   Coupon % Yield to Maturity  \n",
        "0         -                 -  \n",
        "1         -                 -  \n",
        "2         -                 -  \n",
        "3         -                 -  \n",
        "4         -                 -  \n",
        "5         -                 -  \n",
        "6         -                 -  \n",
        "7         -                 -  \n",
        "8         -                 -  \n",
        "9         -                 -  \n",
        "10        -                 -  \n",
        "11        -                 -  \n",
        "12        -                 -  \n",
        "13        -                 -  \n",
        "14        -                 -  \n",
        "15        -                 -  \n",
        "16        -                 -  \n",
        "17        -                 -  \n",
        "18        -                 -  \n",
        "19        -                 -  \n",
        "20        -                 -  \n",
        "21        -                 -  \n",
        "22        -                 -  \n",
        "23        -                 -  \n",
        "24        -                 -  \n",
        "25        -                 -  \n",
        "26        -                 -  \n",
        "27        -                 -  \n",
        "28        -                 -  \n",
        "29        -                 -  \n",
        "..      ...               ...  \n",
        "70        -                 -  \n",
        "71        -                 -  \n",
        "72        -                 -  \n",
        "73        -                 -  \n",
        "74        -                 -  \n",
        "75        -                 -  \n",
        "76        -                 -  \n",
        "77        -                 -  \n",
        "78        -                 -  \n",
        "79        -                 -  \n",
        "80        -                 -  \n",
        "81        -                 -  \n",
        "82        -                 -  \n",
        "83        -                 -  \n",
        "84        -                 -  \n",
        "85        -                 -  \n",
        "86        -                 -  \n",
        "87        -                 -  \n",
        "88        -                 -  \n",
        "89        -                 -  \n",
        "90        -                 -  \n",
        "91        -                 -  \n",
        "92        -                 -  \n",
        "93        -                 -  \n",
        "94        -                 -  \n",
        "95        -                 -  \n",
        "96        -                 -  \n",
        "97        -                 -  \n",
        "98        -                 -  \n",
        "99        -                 -  \n",
        "\n",
        "[100 rows x 27 columns]"
       ]
      }
     ],
     "prompt_number": 987
    },
    {
     "cell_type": "code",
     "collapsed": false,
     "input": [
      "# Extraction starts from here\n",
      "\n",
      "url_quote_header =\"http://quotes.morningstar.com/fund/c-header?&t=XNAS:FCNTX&region=usa&culture=en-US&cur=\"\n",
      "quote_header = pd.read_html(url_quote_header, match=\"Expenses\", header=0)[0]\n",
      "quote_header"
     ],
     "language": "python",
     "metadata": {},
     "outputs": [
      {
       "html": [
        "<div style=\"max-height:1000px;max-width:1500px;overflow:auto;\">\n",
        "<table border=\"1\" class=\"dataframe\">\n",
        "  <thead>\n",
        "    <tr style=\"text-align: right;\">\n",
        "      <th></th>\n",
        "      <th>TTM Yield 0.12%</th>\n",
        "      <th>Unnamed: 1</th>\n",
        "      <th>Load None</th>\n",
        "      <th>Unnamed: 3</th>\n",
        "      <th>Total Mkt Val  16.8 bil  \u00a0  USD  Total Assets $  109.6 bil</th>\n",
        "      <th>Unnamed: 5</th>\n",
        "      <th>Expenses 0.66%</th>\n",
        "      <th>Unnamed: 7</th>\n",
        "      <th>Fee Level Low</th>\n",
        "      <th>Unnamed: 9</th>\n",
        "      <th>Turnover 46%</th>\n",
        "      <th>Unnamed: 11</th>\n",
        "      <th>Status Open</th>\n",
        "      <th>Unnamed: 13</th>\n",
        "      <th>Min. Inv. $  2,500</th>\n",
        "    </tr>\n",
        "  </thead>\n",
        "  <tbody>\n",
        "    <tr>\n",
        "      <th>0</th>\n",
        "      <td> 30-Day SEC Yield --</td>\n",
        "      <td> Category Large Growth</td>\n",
        "      <td> Investment Style Large Growth</td>\n",
        "      <td>NaN</td>\n",
        "      <td>NaN</td>\n",
        "      <td>NaN</td>\n",
        "      <td>NaN</td>\n",
        "      <td>NaN</td>\n",
        "      <td>NaN</td>\n",
        "      <td>NaN</td>\n",
        "      <td>NaN</td>\n",
        "      <td>NaN</td>\n",
        "      <td>NaN</td>\n",
        "      <td>NaN</td>\n",
        "      <td>NaN</td>\n",
        "    </tr>\n",
        "  </tbody>\n",
        "</table>\n",
        "</div>"
       ],
       "metadata": {},
       "output_type": "pyout",
       "prompt_number": 137,
       "text": [
        "       TTM Yield 0.12%             Unnamed: 1                      Load None  \\\n",
        "0  30-Day SEC Yield --  Category Large Growth  Investment Style Large Growth   \n",
        "\n",
        "   Unnamed: 3  Total Mkt Val  16.8 bil  \u00a0  USD  Total Assets $  109.6 bil  \\\n",
        "0         NaN                                                NaN            \n",
        "\n",
        "   Unnamed: 5  Expenses 0.66%  Unnamed: 7  Fee Level Low  Unnamed: 9  \\\n",
        "0         NaN             NaN         NaN            NaN         NaN   \n",
        "\n",
        "   Turnover 46%  Unnamed: 11  Status Open  Unnamed: 13  Min. Inv. $  2,500  \n",
        "0           NaN          NaN          NaN          NaN                 NaN  "
       ]
      }
     ],
     "prompt_number": 137
    },
    {
     "cell_type": "code",
     "collapsed": false,
     "input": [
      "url_quote_top_hld =\"http://quotes.morningstar.com/fund/c-topHoldings?&t=XNAS:FUSEX&region=usa&culture=en-US&cur=\"\n",
      "quote_top_hld = pd.read_html(url_quote_top_hld, match=\"Weight\", header=0)[0]\n",
      "quote_top_hld"
     ],
     "language": "python",
     "metadata": {},
     "outputs": [
      {
       "html": [
        "<div style=\"max-height:1000px;max-width:1500px;overflow:auto;\">\n",
        "<table border=\"1\" class=\"dataframe\">\n",
        "  <thead>\n",
        "    <tr style=\"text-align: right;\">\n",
        "      <th></th>\n",
        "      <th>Unnamed: 0</th>\n",
        "      <th>Unnamed: 1</th>\n",
        "      <th>Weight %</th>\n",
        "      <th>Last Price</th>\n",
        "      <th>Day Chg %</th>\n",
        "      <th>52-Week Range</th>\n",
        "      <th>Unnamed: 6</th>\n",
        "    </tr>\n",
        "  </thead>\n",
        "  <tbody>\n",
        "    <tr>\n",
        "      <th>0</th>\n",
        "      <td>                                               NaN</td>\n",
        "      <td>                        NaN</td>\n",
        "      <td>   NaN</td>\n",
        "      <td>         NaN</td>\n",
        "      <td>   NaN</td>\n",
        "      <td>NaN</td>\n",
        "      <td>            NaN</td>\n",
        "    </tr>\n",
        "    <tr>\n",
        "      <th>1</th>\n",
        "      <td>                                               NaN</td>\n",
        "      <td>                  Apple Inc</td>\n",
        "      <td>  3.32</td>\n",
        "      <td> 118.62  USD</td>\n",
        "      <td>  1.85</td>\n",
        "      <td>NaN</td>\n",
        "      <td> 70.51\u00a0-\u00a0118.77</td>\n",
        "    </tr>\n",
        "    <tr>\n",
        "      <th>2</th>\n",
        "      <td>                                               NaN</td>\n",
        "      <td>    Exxon Mobil Corporation</td>\n",
        "      <td>  2.21</td>\n",
        "      <td>  95.72  USD</td>\n",
        "      <td> -1.13</td>\n",
        "      <td>NaN</td>\n",
        "      <td> 86.91\u00a0-\u00a0104.76</td>\n",
        "    </tr>\n",
        "    <tr>\n",
        "      <th>3</th>\n",
        "      <td>                                               NaN</td>\n",
        "      <td>             Microsoft Corp</td>\n",
        "      <td>  2.10</td>\n",
        "      <td>  47.60  USD</td>\n",
        "      <td> -0.75</td>\n",
        "      <td>NaN</td>\n",
        "      <td>  34.63\u00a0-\u00a050.04</td>\n",
        "    </tr>\n",
        "    <tr>\n",
        "      <th>4</th>\n",
        "      <td>                                               NaN</td>\n",
        "      <td> S&amp;P 500 Index Future Dec14</td>\n",
        "      <td>  1.72</td>\n",
        "      <td>           \u2014</td>\n",
        "      <td>     \u2014</td>\n",
        "      <td>NaN</td>\n",
        "      <td>              \u2014</td>\n",
        "    </tr>\n",
        "    <tr>\n",
        "      <th>5</th>\n",
        "      <td>                                               NaN</td>\n",
        "      <td>          Johnson &amp; Johnson</td>\n",
        "      <td>  1.66</td>\n",
        "      <td> 106.88  USD</td>\n",
        "      <td> -0.91</td>\n",
        "      <td>NaN</td>\n",
        "      <td> 86.09\u00a0-\u00a0109.49</td>\n",
        "    </tr>\n",
        "    <tr>\n",
        "      <th>6</th>\n",
        "      <td>                                               NaN</td>\n",
        "      <td> % Assets in Top 5 Holdings</td>\n",
        "      <td> 11.01</td>\n",
        "      <td>         NaN</td>\n",
        "      <td>   NaN</td>\n",
        "      <td>NaN</td>\n",
        "      <td>            NaN</td>\n",
        "    </tr>\n",
        "    <tr>\n",
        "      <th>7</th>\n",
        "      <td> Increase  Decrease  New to Portfolio  Portfoli...</td>\n",
        "      <td>                        NaN</td>\n",
        "      <td>   NaN</td>\n",
        "      <td>         NaN</td>\n",
        "      <td>   NaN</td>\n",
        "      <td>NaN</td>\n",
        "      <td>            NaN</td>\n",
        "    </tr>\n",
        "  </tbody>\n",
        "</table>\n",
        "</div>"
       ],
       "metadata": {},
       "output_type": "pyout",
       "prompt_number": 7,
       "text": [
        "                                          Unnamed: 0  \\\n",
        "0                                                NaN   \n",
        "1                                                NaN   \n",
        "2                                                NaN   \n",
        "3                                                NaN   \n",
        "4                                                NaN   \n",
        "5                                                NaN   \n",
        "6                                                NaN   \n",
        "7  Increase  Decrease  New to Portfolio  Portfoli...   \n",
        "\n",
        "                   Unnamed: 1  Weight %   Last Price Day Chg %  52-Week Range  \\\n",
        "0                         NaN       NaN          NaN       NaN            NaN   \n",
        "1                   Apple Inc      3.32  118.62  USD      1.85            NaN   \n",
        "2     Exxon Mobil Corporation      2.21   95.72  USD     -1.13            NaN   \n",
        "3              Microsoft Corp      2.10   47.60  USD     -0.75            NaN   \n",
        "4  S&P 500 Index Future Dec14      1.72            \u2014         \u2014            NaN   \n",
        "5           Johnson & Johnson      1.66  106.88  USD     -0.91            NaN   \n",
        "6  % Assets in Top 5 Holdings     11.01          NaN       NaN            NaN   \n",
        "7                         NaN       NaN          NaN       NaN            NaN   \n",
        "\n",
        "       Unnamed: 6  \n",
        "0             NaN  \n",
        "1  70.51\u00a0-\u00a0118.77  \n",
        "2  86.91\u00a0-\u00a0104.76  \n",
        "3   34.63\u00a0-\u00a050.04  \n",
        "4               \u2014  \n",
        "5  86.09\u00a0-\u00a0109.49  \n",
        "6             NaN  \n",
        "7             NaN  "
       ]
      }
     ],
     "prompt_number": 7
    },
    {
     "cell_type": "code",
     "collapsed": false,
     "input": [
      "url_q_top_sector =\"http://quotes.morningstar.com/fund/c-topSector?&t=XNAS:FUSEX&region=usa&culture=en-US&cur=\"\n",
      "\n",
      "q_top_sector = pd.read_html(url_q_top_sector, match=\"Fund\", header=0)[0]\n",
      "q_top_sector\n"
     ],
     "language": "python",
     "metadata": {},
     "outputs": [
      {
       "html": [
        "<div style=\"max-height:1000px;max-width:1500px;overflow:auto;\">\n",
        "<table border=\"1\" class=\"dataframe\">\n",
        "  <thead>\n",
        "    <tr style=\"text-align: right;\">\n",
        "      <th></th>\n",
        "      <th>Unnamed: 0</th>\n",
        "      <th>Fund</th>\n",
        "      <th>3 Yr High</th>\n",
        "      <th>3 Yr Low</th>\n",
        "      <th>Cat Avg</th>\n",
        "      <th>Unnamed: 5</th>\n",
        "      <th>Unnamed: 6</th>\n",
        "      <th>Fund.1</th>\n",
        "      <th>Cat Avg.1</th>\n",
        "    </tr>\n",
        "  </thead>\n",
        "  <tbody>\n",
        "    <tr>\n",
        "      <th>0</th>\n",
        "      <td>                        NaN</td>\n",
        "      <td>                        NaN</td>\n",
        "      <td>   NaN</td>\n",
        "      <td>   NaN</td>\n",
        "      <td>   NaN</td>\n",
        "      <td>NaN</td>\n",
        "      <td>NaN</td>\n",
        "      <td>NaN</td>\n",
        "      <td>NaN</td>\n",
        "    </tr>\n",
        "    <tr>\n",
        "      <th>1</th>\n",
        "      <td>                 Technology</td>\n",
        "      <td>                      18.02</td>\n",
        "      <td> 18.02</td>\n",
        "      <td> 16.77</td>\n",
        "      <td> 17.04</td>\n",
        "      <td>NaN</td>\n",
        "      <td>NaN</td>\n",
        "      <td>NaN</td>\n",
        "      <td>NaN</td>\n",
        "    </tr>\n",
        "    <tr>\n",
        "      <th>2</th>\n",
        "      <td>         Financial Services</td>\n",
        "      <td>                      14.95</td>\n",
        "      <td> 15.33</td>\n",
        "      <td> 14.41</td>\n",
        "      <td> 15.89</td>\n",
        "      <td>NaN</td>\n",
        "      <td>NaN</td>\n",
        "      <td>NaN</td>\n",
        "      <td>NaN</td>\n",
        "    </tr>\n",
        "    <tr>\n",
        "      <th>3</th>\n",
        "      <td>                 Healthcare</td>\n",
        "      <td>                      14.32</td>\n",
        "      <td> 14.32</td>\n",
        "      <td> 11.81</td>\n",
        "      <td> 14.35</td>\n",
        "      <td>NaN</td>\n",
        "      <td>NaN</td>\n",
        "      <td>NaN</td>\n",
        "      <td>NaN</td>\n",
        "    </tr>\n",
        "    <tr>\n",
        "      <th>4</th>\n",
        "      <td>                Industrials</td>\n",
        "      <td>                      11.02</td>\n",
        "      <td> 11.68</td>\n",
        "      <td> 11.02</td>\n",
        "      <td> 11.66</td>\n",
        "      <td>NaN</td>\n",
        "      <td>NaN</td>\n",
        "      <td>NaN</td>\n",
        "      <td>NaN</td>\n",
        "    </tr>\n",
        "    <tr>\n",
        "      <th>5</th>\n",
        "      <td>          Consumer Cyclical</td>\n",
        "      <td>                      10.22</td>\n",
        "      <td> 11.23</td>\n",
        "      <td> 10.17</td>\n",
        "      <td> 10.77</td>\n",
        "      <td>NaN</td>\n",
        "      <td>NaN</td>\n",
        "      <td>NaN</td>\n",
        "      <td>NaN</td>\n",
        "    </tr>\n",
        "    <tr>\n",
        "      <th>6</th>\n",
        "      <td> Portfolio Date: 09/30/2014</td>\n",
        "      <td> Portfolio Date: 09/30/2014</td>\n",
        "      <td>   NaN</td>\n",
        "      <td>   NaN</td>\n",
        "      <td>   NaN</td>\n",
        "      <td>NaN</td>\n",
        "      <td>NaN</td>\n",
        "      <td>NaN</td>\n",
        "      <td>NaN</td>\n",
        "    </tr>\n",
        "    <tr>\n",
        "      <th>7</th>\n",
        "      <td>                        NaN</td>\n",
        "      <td>                        NaN</td>\n",
        "      <td>   NaN</td>\n",
        "      <td>   NaN</td>\n",
        "      <td>   NaN</td>\n",
        "      <td>NaN</td>\n",
        "      <td>NaN</td>\n",
        "      <td>NaN</td>\n",
        "      <td>NaN</td>\n",
        "    </tr>\n",
        "    <tr>\n",
        "      <th>8</th>\n",
        "      <td> Portfolio Date: 09/30/2014</td>\n",
        "      <td>                        NaN</td>\n",
        "      <td>   NaN</td>\n",
        "      <td>   NaN</td>\n",
        "      <td>   NaN</td>\n",
        "      <td>NaN</td>\n",
        "      <td>NaN</td>\n",
        "      <td>NaN</td>\n",
        "      <td>NaN</td>\n",
        "    </tr>\n",
        "  </tbody>\n",
        "</table>\n",
        "</div>"
       ],
       "metadata": {},
       "output_type": "pyout",
       "prompt_number": 8,
       "text": [
        "                   Unnamed: 0                        Fund  3 Yr High  \\\n",
        "0                         NaN                         NaN        NaN   \n",
        "1                  Technology                       18.02      18.02   \n",
        "2          Financial Services                       14.95      15.33   \n",
        "3                  Healthcare                       14.32      14.32   \n",
        "4                 Industrials                       11.02      11.68   \n",
        "5           Consumer Cyclical                       10.22      11.23   \n",
        "6  Portfolio Date: 09/30/2014  Portfolio Date: 09/30/2014        NaN   \n",
        "7                         NaN                         NaN        NaN   \n",
        "8  Portfolio Date: 09/30/2014                         NaN        NaN   \n",
        "\n",
        "   3 Yr Low  Cat Avg  Unnamed: 5  Unnamed: 6  Fund.1  Cat Avg.1  \n",
        "0       NaN      NaN         NaN         NaN     NaN        NaN  \n",
        "1     16.77    17.04         NaN         NaN     NaN        NaN  \n",
        "2     14.41    15.89         NaN         NaN     NaN        NaN  \n",
        "3     11.81    14.35         NaN         NaN     NaN        NaN  \n",
        "4     11.02    11.66         NaN         NaN     NaN        NaN  \n",
        "5     10.17    10.77         NaN         NaN     NaN        NaN  \n",
        "6       NaN      NaN         NaN         NaN     NaN        NaN  \n",
        "7       NaN      NaN         NaN         NaN     NaN        NaN  \n",
        "8       NaN      NaN         NaN         NaN     NaN        NaN  "
       ]
      }
     ],
     "prompt_number": 8
    },
    {
     "cell_type": "code",
     "collapsed": false,
     "input": [
      "url_q_perf =\"http://quotes.morningstar.com/fund/c-performance?&t=XNAS:FUSEX&region=usa&culture=en-US&cur=&benchmarkSecId=&benchmarktype=\"\n",
      "q_perf = pd.read_html(url_q_perf, match=\"Fund\", header=0)[0]\n",
      "q_perf"
     ],
     "language": "python",
     "metadata": {},
     "outputs": [
      {
       "html": [
        "<div style=\"max-height:1000px;max-width:1500px;overflow:auto;\">\n",
        "<table border=\"1\" class=\"dataframe\">\n",
        "  <thead>\n",
        "    <tr style=\"text-align: right;\">\n",
        "      <th></th>\n",
        "      <th>Unnamed: 0</th>\n",
        "      <th>YTD</th>\n",
        "      <th>1 Mo</th>\n",
        "      <th>1 Yr</th>\n",
        "      <th>Unnamed: 4</th>\n",
        "      <th>3 Yr</th>\n",
        "      <th>*</th>\n",
        "      <th>5 Yr</th>\n",
        "      <th>*.1</th>\n",
        "      <th>10 Yr</th>\n",
        "      <th>*.2</th>\n",
        "    </tr>\n",
        "  </thead>\n",
        "  <tbody>\n",
        "    <tr>\n",
        "      <th>0</th>\n",
        "      <td>                                  Growth of 10,000</td>\n",
        "      <td> 11395.00</td>\n",
        "      <td> 10555.00</td>\n",
        "      <td> 11692.00</td>\n",
        "      <td>NaN</td>\n",
        "      <td> 18956.00</td>\n",
        "      <td>NaN</td>\n",
        "      <td> 20710.00</td>\n",
        "      <td>NaN</td>\n",
        "      <td> 21457.00</td>\n",
        "      <td>NaN</td>\n",
        "    </tr>\n",
        "    <tr>\n",
        "      <th>1</th>\n",
        "      <td>                                              Fund</td>\n",
        "      <td>    13.95</td>\n",
        "      <td>     5.55</td>\n",
        "      <td>    16.92</td>\n",
        "      <td>NaN</td>\n",
        "      <td>    23.76</td>\n",
        "      <td>NaN</td>\n",
        "      <td>    15.67</td>\n",
        "      <td>NaN</td>\n",
        "      <td>     7.93</td>\n",
        "      <td>NaN</td>\n",
        "    </tr>\n",
        "    <tr>\n",
        "      <th>2</th>\n",
        "      <td>                                +/- S&amp;P 500 TR USD</td>\n",
        "      <td>    -0.09</td>\n",
        "      <td>    -0.01</td>\n",
        "      <td>    -0.11</td>\n",
        "      <td>NaN</td>\n",
        "      <td>    -0.10</td>\n",
        "      <td>NaN</td>\n",
        "      <td>    -0.09</td>\n",
        "      <td>NaN</td>\n",
        "      <td>    -0.06</td>\n",
        "      <td>NaN</td>\n",
        "    </tr>\n",
        "    <tr>\n",
        "      <th>3</th>\n",
        "      <td>                                      +/- Category</td>\n",
        "      <td>     2.71</td>\n",
        "      <td>     0.29</td>\n",
        "      <td>     2.77</td>\n",
        "      <td>NaN</td>\n",
        "      <td>     1.59</td>\n",
        "      <td>NaN</td>\n",
        "      <td>     1.47</td>\n",
        "      <td>NaN</td>\n",
        "      <td>     0.58</td>\n",
        "      <td>NaN</td>\n",
        "    </tr>\n",
        "    <tr>\n",
        "      <th>4</th>\n",
        "      <td>                                     % Rank in Cat</td>\n",
        "      <td>    16.00</td>\n",
        "      <td>    38.00</td>\n",
        "      <td>    18.00</td>\n",
        "      <td>NaN</td>\n",
        "      <td>    28.00</td>\n",
        "      <td>NaN</td>\n",
        "      <td>    19.00</td>\n",
        "      <td>NaN</td>\n",
        "      <td>    26.00</td>\n",
        "      <td>NaN</td>\n",
        "    </tr>\n",
        "    <tr>\n",
        "      <th>5</th>\n",
        "      <td>                                 # of Funds in Cat</td>\n",
        "      <td>  1591.00</td>\n",
        "      <td>  1681.00</td>\n",
        "      <td>  1553.00</td>\n",
        "      <td>NaN</td>\n",
        "      <td>  1330.00</td>\n",
        "      <td>NaN</td>\n",
        "      <td>  1191.00</td>\n",
        "      <td>NaN</td>\n",
        "      <td>   794.00</td>\n",
        "      <td>NaN</td>\n",
        "    </tr>\n",
        "    <tr>\n",
        "      <th>6</th>\n",
        "      <td> * Annualized returns. Data as of 11/24/2014. C...</td>\n",
        "      <td>      NaN</td>\n",
        "      <td>      NaN</td>\n",
        "      <td>      NaN</td>\n",
        "      <td>NaN</td>\n",
        "      <td>      NaN</td>\n",
        "      <td>NaN</td>\n",
        "      <td>      NaN</td>\n",
        "      <td>NaN</td>\n",
        "      <td>      NaN</td>\n",
        "      <td>NaN</td>\n",
        "    </tr>\n",
        "  </tbody>\n",
        "</table>\n",
        "</div>"
       ],
       "metadata": {},
       "output_type": "pyout",
       "prompt_number": 9,
       "text": [
        "                                          Unnamed: 0       YTD      1 Mo  \\\n",
        "0                                   Growth of 10,000  11395.00  10555.00   \n",
        "1                                               Fund     13.95      5.55   \n",
        "2                                 +/- S&P 500 TR USD     -0.09     -0.01   \n",
        "3                                       +/- Category      2.71      0.29   \n",
        "4                                      % Rank in Cat     16.00     38.00   \n",
        "5                                  # of Funds in Cat   1591.00   1681.00   \n",
        "6  * Annualized returns. Data as of 11/24/2014. C...       NaN       NaN   \n",
        "\n",
        "       1 Yr  Unnamed: 4      3 Yr   *      5 Yr  *.1     10 Yr  *.2  \n",
        "0  11692.00         NaN  18956.00 NaN  20710.00  NaN  21457.00  NaN  \n",
        "1     16.92         NaN     23.76 NaN     15.67  NaN      7.93  NaN  \n",
        "2     -0.11         NaN     -0.10 NaN     -0.09  NaN     -0.06  NaN  \n",
        "3      2.77         NaN      1.59 NaN      1.47  NaN      0.58  NaN  \n",
        "4     18.00         NaN     28.00 NaN     19.00  NaN     26.00  NaN  \n",
        "5   1553.00         NaN   1330.00 NaN   1191.00  NaN    794.00  NaN  \n",
        "6       NaN         NaN       NaN NaN       NaN  NaN       NaN  NaN  "
       ]
      }
     ],
     "prompt_number": 9
    },
    {
     "cell_type": "code",
     "collapsed": false,
     "input": [
      "import urllib2 # module to read in HTML\n",
      "import bs4 # BeautifulSoup: module to parse HTML and XML\n",
      "import json # \n",
      "import datetime as dt \n",
      "\n",
      "x = urllib2.urlopen(\"http://quotes.morningstar.com/fund/c-performance?&t=XNAS:FUSEX&region=usa&culture=en-US&cur=&benchmarkSecId=&benchmarktype=\") # Opens URLS\n",
      "htmlSource = x.read()\n",
      "x.close()\n",
      "\n",
      "soup = bs4.BeautifulSoup(htmlSource)\n",
      "table = soup.find('table')\n",
      "\n"
     ],
     "language": "python",
     "metadata": {},
     "outputs": [],
     "prompt_number": 10
    },
    {
     "cell_type": "code",
     "collapsed": false,
     "input": [],
     "language": "python",
     "metadata": {},
     "outputs": []
    }
   ],
   "metadata": {}
  }
 ]
}